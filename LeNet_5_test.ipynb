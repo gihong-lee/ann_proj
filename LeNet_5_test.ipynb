{
 "cells": [
  {
   "cell_type": "code",
   "execution_count": 1,
   "metadata": {},
   "outputs": [
    {
     "name": "stdout",
     "output_type": "stream",
     "text": [
      "GPU found\n"
     ]
    }
   ],
   "source": [
    "import os\n",
    "import tensorflow as tf\n",
    "\n",
    "#os.environ['CUDA_VISIBLE_DEVICES'] = '-1'\n",
    "\n",
    "if tf.test.gpu_device_name():\n",
    "    print('GPU found')\n",
    "else:\n",
    "    print(\"No GPU found\")"
   ]
  },
  {
   "cell_type": "code",
   "execution_count": 2,
   "metadata": {},
   "outputs": [],
   "source": [
    "import tensorflow as tf\n",
    "from tensorflow import keras as keras\n",
    "from sklearn.model_selection import train_test_split\n",
    "import numpy as np\n",
    "import pandas as pd\n",
    "from matplotlib import pyplot as plt"
   ]
  },
  {
   "cell_type": "code",
   "execution_count": 3,
   "metadata": {},
   "outputs": [],
   "source": [
    "data = pd.read_csv('emnist-byclass-mapping.txt', sep=\" \", header=None)\n",
    "data.columns = ['Target','ASCII']\n",
    "\n",
    "col=[]\n",
    "for i in data.ASCII.tolist():\n",
    "    col.append(chr(i))\n",
    "\n",
    "data['ASCII_Target'] = pd.Series(col)"
   ]
  },
  {
   "cell_type": "code",
   "execution_count": 4,
   "metadata": {},
   "outputs": [],
   "source": [
    "test_df = pd.read_csv('emnist-byclass-test.csv/emnist-byclass-test.csv')\n",
    "test_df.rename(columns={'18':'Target'}, inplace=True)\n",
    "\n",
    "# test_df=pd.merge(test_df, data, how='left', on='Target')\n",
    "# test_df=test_df.drop(['Target','ASCII'],axis=1)\n",
    "# test_df.rename(columns={'ASCII_Target':'Target'}, inplace=True)"
   ]
  },
  {
   "cell_type": "code",
   "execution_count": 5,
   "metadata": {},
   "outputs": [],
   "source": [
    "train_df = pd.read_csv('emnist-byclass-train.csv/emnist-byclass-train.csv')\n",
    "train_df.rename(columns={'35':'Target'}, inplace=True)\n",
    "\n",
    "# train_df=pd.merge(train_df, data, how='left', on='Target')\n",
    "# train_df=train_df.drop(['Target','ASCII'],axis=1)\n",
    "# train_df.rename(columns={'ASCII_Target':'Target'}, inplace=True)"
   ]
  },
  {
   "cell_type": "code",
   "execution_count": 6,
   "metadata": {},
   "outputs": [],
   "source": [
    "train_y = train_df.pop('Target')\n",
    "train_x = train_df\n",
    "test_y = test_df.pop('Target')\n",
    "test_x = test_df\n",
    "train_x = train_x / 255.0\n",
    "test_x = test_x / 255.0\n",
    "\n",
    "train_x = train_x.values.reshape([-1, 28, 28, 1])\n",
    "test_x = test_x.values.reshape([-1, 28, 28, 1])\n",
    "\n",
    "train_x, val_x, train_y, val_y = train_test_split(train_x, train_y, test_size=0.2, random_state=42)"
   ]
  },
  {
   "cell_type": "code",
   "execution_count": 7,
   "metadata": {},
   "outputs": [
    {
     "data": {
      "text/plain": [
       "(28, 28, 1)"
      ]
     },
     "execution_count": 7,
     "metadata": {},
     "output_type": "execute_result"
    }
   ],
   "source": [
    "train_x[0].shape"
   ]
  },
  {
   "cell_type": "code",
   "execution_count": 8,
   "metadata": {},
   "outputs": [],
   "source": [
    "lenet_5_model = keras.models.Sequential([\n",
    "    keras.layers.Conv2D(6, kernel_size=5, strides=1,  activation='tanh', input_shape=train_x[0].shape, padding='same'),\n",
    "    keras.layers.AveragePooling2D(),\n",
    "    keras.layers.Conv2D(16, kernel_size=5, strides=1, activation='tanh', padding='valid'),\n",
    "    keras.layers.AveragePooling2D(),\n",
    "    keras.layers.Conv2D(120, kernel_size=5, strides=1, activation='tanh', padding='valid'),\n",
    "    keras.layers.Flatten(),   \n",
    "    keras.layers.Dense(84, activation='tanh'),\n",
    "    keras.layers.Dense(62, activation='softmax')\n",
    "])"
   ]
  },
  {
   "cell_type": "code",
   "execution_count": 9,
   "metadata": {},
   "outputs": [],
   "source": [
    "lenet_5_model.compile(optimizer='adam', loss=keras.losses.sparse_categorical_crossentropy, metrics=['accuracy'])"
   ]
  },
  {
   "cell_type": "code",
   "execution_count": 10,
   "metadata": {},
   "outputs": [
    {
     "name": "stdout",
     "output_type": "stream",
     "text": [
      "Epoch 1/100\n",
      "17449/17449 [==============================] - 62s 3ms/step - loss: 0.5873 - accuracy: 0.8067 - val_loss: 0.4771 - val_accuracy: 0.8335\n",
      "Epoch 2/100\n",
      "17449/17449 [==============================] - 55s 3ms/step - loss: 0.4542 - accuracy: 0.8389 - val_loss: 0.4494 - val_accuracy: 0.8415\n",
      "Epoch 3/100\n",
      "17449/17449 [==============================] - 52s 3ms/step - loss: 0.4351 - accuracy: 0.8443 - val_loss: 0.4507 - val_accuracy: 0.8360\n",
      "Epoch 4/100\n",
      "17449/17449 [==============================] - 53s 3ms/step - loss: 0.4254 - accuracy: 0.8471 - val_loss: 0.4377 - val_accuracy: 0.8438\n",
      "Epoch 5/100\n",
      "17449/17449 [==============================] - 55s 3ms/step - loss: 0.4173 - accuracy: 0.8494 - val_loss: 0.4326 - val_accuracy: 0.8444\n",
      "Epoch 6/100\n",
      "17449/17449 [==============================] - 71s 4ms/step - loss: 0.4134 - accuracy: 0.8501 - val_loss: 0.4380 - val_accuracy: 0.8437\n",
      "Epoch 7/100\n",
      "17449/17449 [==============================] - 104s 6ms/step - loss: 0.4097 - accuracy: 0.8511 - val_loss: 0.4291 - val_accuracy: 0.8470\n",
      "Epoch 8/100\n",
      "17449/17449 [==============================] - 112s 6ms/step - loss: 0.4066 - accuracy: 0.8522 - val_loss: 0.4321 - val_accuracy: 0.8452\n",
      "Epoch 9/100\n",
      "17449/17449 [==============================] - 75s 4ms/step - loss: 0.4034 - accuracy: 0.8526 - val_loss: 0.4339 - val_accuracy: 0.8453\n",
      "Epoch 10/100\n",
      "17449/17449 [==============================] - 55s 3ms/step - loss: 0.4020 - accuracy: 0.8530 - val_loss: 0.4291 - val_accuracy: 0.8459\n",
      "Epoch 11/100\n",
      "17449/17449 [==============================] - 51s 3ms/step - loss: 0.3994 - accuracy: 0.8538 - val_loss: 0.4388 - val_accuracy: 0.8445\n",
      "Epoch 12/100\n",
      "17449/17449 [==============================] - 51s 3ms/step - loss: 0.3976 - accuracy: 0.8541 - val_loss: 0.4318 - val_accuracy: 0.8459\n",
      "Epoch 13/100\n",
      "17449/17449 [==============================] - 53s 3ms/step - loss: 0.3963 - accuracy: 0.8550 - val_loss: 0.4290 - val_accuracy: 0.8471\n",
      "Epoch 14/100\n",
      "17449/17449 [==============================] - 52s 3ms/step - loss: 0.3949 - accuracy: 0.8554 - val_loss: 0.4291 - val_accuracy: 0.8476\n",
      "Epoch 15/100\n",
      "17449/17449 [==============================] - 50s 3ms/step - loss: 0.3945 - accuracy: 0.8553 - val_loss: 0.4346 - val_accuracy: 0.8461\n",
      "Epoch 16/100\n",
      "17449/17449 [==============================] - 51s 3ms/step - loss: 0.3931 - accuracy: 0.8554 - val_loss: 0.4256 - val_accuracy: 0.8495\n",
      "Epoch 17/100\n",
      "17449/17449 [==============================] - 52s 3ms/step - loss: 0.3919 - accuracy: 0.8558 - val_loss: 0.4283 - val_accuracy: 0.8491\n",
      "Epoch 18/100\n",
      "17449/17449 [==============================] - 52s 3ms/step - loss: 0.3919 - accuracy: 0.8558 - val_loss: 0.4271 - val_accuracy: 0.8476\n",
      "Epoch 19/100\n",
      "17449/17449 [==============================] - 51s 3ms/step - loss: 0.3909 - accuracy: 0.8561 - val_loss: 0.4307 - val_accuracy: 0.8469\n",
      "Epoch 20/100\n",
      "17449/17449 [==============================] - 53s 3ms/step - loss: 0.3916 - accuracy: 0.8563 - val_loss: 0.4308 - val_accuracy: 0.8469\n",
      "Epoch 21/100\n",
      "17449/17449 [==============================] - 55s 3ms/step - loss: 0.3892 - accuracy: 0.8568 - val_loss: 0.4291 - val_accuracy: 0.8471\n",
      "Epoch 22/100\n",
      "17449/17449 [==============================] - 52s 3ms/step - loss: 0.3892 - accuracy: 0.8570 - val_loss: 0.4244 - val_accuracy: 0.8494\n",
      "Epoch 23/100\n",
      "17449/17449 [==============================] - 52s 3ms/step - loss: 0.3882 - accuracy: 0.8569 - val_loss: 0.4246 - val_accuracy: 0.8492\n",
      "Epoch 24/100\n",
      "17449/17449 [==============================] - 53s 3ms/step - loss: 0.3880 - accuracy: 0.8572 - val_loss: 0.4245 - val_accuracy: 0.8486\n",
      "Epoch 25/100\n",
      "17449/17449 [==============================] - 50s 3ms/step - loss: 0.3868 - accuracy: 0.8572 - val_loss: 0.4271 - val_accuracy: 0.8480\n",
      "Epoch 26/100\n",
      "17449/17449 [==============================] - 51s 3ms/step - loss: 0.3870 - accuracy: 0.8572 - val_loss: 0.4233 - val_accuracy: 0.8508\n",
      "Epoch 27/100\n",
      "17449/17449 [==============================] - 50s 3ms/step - loss: 0.3865 - accuracy: 0.8575 - val_loss: 0.4262 - val_accuracy: 0.8487\n",
      "Epoch 28/100\n",
      "17449/17449 [==============================] - 53s 3ms/step - loss: 0.3861 - accuracy: 0.8575 - val_loss: 0.4254 - val_accuracy: 0.8500\n",
      "Epoch 29/100\n",
      "17449/17449 [==============================] - 52s 3ms/step - loss: 0.3846 - accuracy: 0.8578 - val_loss: 0.4275 - val_accuracy: 0.8476\n",
      "Epoch 30/100\n",
      "17449/17449 [==============================] - 52s 3ms/step - loss: 0.3843 - accuracy: 0.8580 - val_loss: 0.4307 - val_accuracy: 0.8471\n",
      "Epoch 31/100\n",
      "17449/17449 [==============================] - 50s 3ms/step - loss: 0.3844 - accuracy: 0.8578 - val_loss: 0.4291 - val_accuracy: 0.8486\n",
      "Epoch 32/100\n",
      "17449/17449 [==============================] - 52s 3ms/step - loss: 0.3848 - accuracy: 0.8578 - val_loss: 0.4274 - val_accuracy: 0.8472\n",
      "Epoch 33/100\n",
      "17449/17449 [==============================] - 52s 3ms/step - loss: 0.3837 - accuracy: 0.8586 - val_loss: 0.4269 - val_accuracy: 0.8488\n",
      "Epoch 34/100\n",
      "17449/17449 [==============================] - 52s 3ms/step - loss: 0.3836 - accuracy: 0.8583 - val_loss: 0.4263 - val_accuracy: 0.8482\n",
      "Epoch 35/100\n",
      "17449/17449 [==============================] - 50s 3ms/step - loss: 0.3831 - accuracy: 0.8583 - val_loss: 0.4291 - val_accuracy: 0.8482\n",
      "Epoch 36/100\n",
      "17449/17449 [==============================] - 73s 4ms/step - loss: 0.3823 - accuracy: 0.8586 - val_loss: 0.4265 - val_accuracy: 0.8484\n"
     ]
    },
    {
     "data": {
      "text/plain": [
       "<keras.callbacks.History at 0x15d7e2a1160>"
      ]
     },
     "execution_count": 10,
     "metadata": {},
     "output_type": "execute_result"
    }
   ],
   "source": [
    "early_stopping_cb = keras.callbacks.EarlyStopping(patience=10, restore_best_weights=True)\n",
    "model_checkpoint_cb = keras.callbacks.ModelCheckpoint(\"my_lenet5_emnist_model.h5\", save_best_only=True)\n",
    "\n",
    "lenet_5_model.fit(train_x, train_y, epochs=100, validation_data=(val_x, val_y), callbacks=[early_stopping_cb])"
   ]
  },
  {
   "cell_type": "code",
   "execution_count": 11,
   "metadata": {},
   "outputs": [
    {
     "name": "stdout",
     "output_type": "stream",
     "text": [
      "3636/3636 [==============================] - 6s 2ms/step - loss: 0.4179 - accuracy: 0.8510\n"
     ]
    },
    {
     "data": {
      "text/plain": [
       "[0.4179256856441498, 0.8509998321533203]"
      ]
     },
     "execution_count": 11,
     "metadata": {},
     "output_type": "execute_result"
    }
   ],
   "source": [
    "lenet_5_model.evaluate(test_x, test_y)"
   ]
  }
 ],
 "metadata": {
  "interpreter": {
   "hash": "77c04f50acb5b92f1a34dec78f68a23550de1de4e78ed4e721dfbe52bdaf809c"
  },
  "kernelspec": {
   "display_name": "Python 3.9.7 ('Neuralnet')",
   "language": "python",
   "name": "python3"
  },
  "language_info": {
   "codemirror_mode": {
    "name": "ipython",
    "version": 3
   },
   "file_extension": ".py",
   "mimetype": "text/x-python",
   "name": "python",
   "nbconvert_exporter": "python",
   "pygments_lexer": "ipython3",
   "version": "3.9.7"
  },
  "orig_nbformat": 4
 },
 "nbformat": 4,
 "nbformat_minor": 2
}
