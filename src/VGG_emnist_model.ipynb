{
 "cells": [
  {
   "cell_type": "code",
   "execution_count": 62,
   "id": "fad5f54d",
   "metadata": {},
   "outputs": [],
   "source": [
    "import time\n",
    "import pandas as pd\n",
    "import numpy as np\n",
    "import tensorflow as tf\n",
    "from tensorflow import keras as keras\n",
    "from sklearn.model_selection import train_test_split\n",
    "import matplotlib.pyplot as plt\n",
    "from tensorflow.keras import datasets, layers, models, losses, Model\n",
    "from tensorflow.keras.layers import Dense, Conv2D, MaxPooling2D, Flatten, Dropout\n",
    "from tensorflow.keras.models import Sequential\n",
    "from tensorflow.keras.callbacks import ModelCheckpoint\n",
    "from tensorflow.keras.applications import VGG16"
   ]
  },
  {
   "cell_type": "code",
   "execution_count": 63,
   "id": "b607090b",
   "metadata": {},
   "outputs": [],
   "source": [
    "data = pd.read_csv('emnist-byclass-mapping.txt', sep=\" \", header=None)\n",
    "data.columns = ['Target','ASCII']\n",
    "\n",
    "col=[]\n",
    "for i in data.ASCII.tolist():\n",
    "    col.append(chr(i))\n",
    "\n",
    "data['ASCII_Target'] = pd.Series(col)"
   ]
  },
  {
   "cell_type": "code",
   "execution_count": 68,
   "id": "94adc959",
   "metadata": {},
   "outputs": [],
   "source": [
    "train_df = pd.read_csv('emnist-byclass-train.csv')\n",
    "train_df.rename(columns={'35':'Target'}, inplace=True)\n",
    "train_y = np.array(train_df.pop('Target'))\n",
    "train_x = train_df\n",
    "\n",
    "train_x = train_x / 255.0\n",
    "train_x = train_x.values.reshape([-1, 28, 28, 1])\n",
    "train_y = keras.utils.to_categorical(train_y)\n",
    "\n",
    "train_x, val_x, train_y, val_y = train_test_split(train_x, train_y, test_size=0.2, random_state=42)"
   ]
  },
  {
   "cell_type": "code",
   "execution_count": 65,
   "id": "66d2d80d",
   "metadata": {},
   "outputs": [],
   "source": [
    "test_df = pd.read_csv('emnist-byclass-test.csv')\n",
    "test_df.rename(columns={'18':'Target'}, inplace=True)\n",
    "\n",
    "# test_df=pd.merge(test_df, data, how='left', on='Target')\n",
    "# test_df=test_df.drop(['Target','ASCII'],axis=1)\n",
    "# test_df.rename(columns={'ASCII_Target':'Target'}, inplace=True)\n",
    "\n",
    "test_y = np.array(test_df.pop('Target'))\n",
    "test_x = test_df\n",
    "\n",
    "test_x = test_x / 255.0\n",
    "test_x = test_x.values.reshape([-1, 28, 28, 1])\n",
    "test_y = keras.utils.to_categorical(test_y)"
   ]
  },
  {
   "cell_type": "code",
   "execution_count": 66,
   "id": "048565b7",
   "metadata": {},
   "outputs": [],
   "source": [
    "hand_df = pd.read_csv('our_handmade_dataset.csv')\n",
    "hand_df.rename(columns={'0':'Target'}, inplace=True)\n",
    "\n",
    "# hand_df=pd.merge(hand_df, data, how='left', on='Target')\n",
    "# hand_df=hand_df.drop(['Target','ASCII'],axis=1)\n",
    "# hand_df.rename(columns={'ASCII_Target':'Target'}, inplace=True)\n",
    "\n",
    "hand_y = np.array(hand_df.pop('Target'))\n",
    "hand_x = hand_df\n",
    "\n",
    "hand_x = hand_x / 255.0\n",
    "hand_x = hand_x.values.reshape([-1, 28, 28, 1])\n",
    "hand_y = keras.utils.to_categorical(hand_y)"
   ]
  },
  {
   "cell_type": "code",
   "execution_count": 84,
   "id": "74aba62f",
   "metadata": {},
   "outputs": [
    {
     "name": "stdout",
     "output_type": "stream",
     "text": [
      "Model: \"model_7\"\n",
      "_________________________________________________________________\n",
      " Layer (type)                Output Shape              Param #   \n",
      "=================================================================\n",
      " input_22 (InputLayer)       [(None, 28, 28, 1)]       0         \n",
      "                                                                 \n",
      " conv2d_104 (Conv2D)         (None, 28, 28, 64)        640       \n",
      "                                                                 \n",
      " conv2d_105 (Conv2D)         (None, 28, 28, 64)        36928     \n",
      "                                                                 \n",
      " max_pooling2d_40 (MaxPoolin  (None, 14, 14, 64)       0         \n",
      " g2D)                                                            \n",
      "                                                                 \n",
      " conv2d_106 (Conv2D)         (None, 14, 14, 128)       73856     \n",
      "                                                                 \n",
      " conv2d_107 (Conv2D)         (None, 14, 14, 128)       147584    \n",
      "                                                                 \n",
      " max_pooling2d_41 (MaxPoolin  (None, 7, 7, 128)        0         \n",
      " g2D)                                                            \n",
      "                                                                 \n",
      " conv2d_108 (Conv2D)         (None, 7, 7, 256)         295168    \n",
      "                                                                 \n",
      " conv2d_109 (Conv2D)         (None, 7, 7, 256)         590080    \n",
      "                                                                 \n",
      " conv2d_110 (Conv2D)         (None, 7, 7, 256)         590080    \n",
      "                                                                 \n",
      " max_pooling2d_42 (MaxPoolin  (None, 4, 4, 256)        0         \n",
      " g2D)                                                            \n",
      "                                                                 \n",
      " conv2d_111 (Conv2D)         (None, 4, 4, 512)         1180160   \n",
      "                                                                 \n",
      " conv2d_112 (Conv2D)         (None, 4, 4, 512)         2359808   \n",
      "                                                                 \n",
      " conv2d_113 (Conv2D)         (None, 4, 4, 512)         2359808   \n",
      "                                                                 \n",
      " max_pooling2d_43 (MaxPoolin  (None, 2, 2, 512)        0         \n",
      " g2D)                                                            \n",
      "                                                                 \n",
      " conv2d_114 (Conv2D)         (None, 2, 2, 512)         2359808   \n",
      "                                                                 \n",
      " conv2d_115 (Conv2D)         (None, 2, 2, 512)         2359808   \n",
      "                                                                 \n",
      " conv2d_116 (Conv2D)         (None, 2, 2, 512)         2359808   \n",
      "                                                                 \n",
      " max_pooling2d_44 (MaxPoolin  (None, 1, 1, 512)        0         \n",
      " g2D)                                                            \n",
      "                                                                 \n",
      " flatten_7 (Flatten)         (None, 512)               0         \n",
      "                                                                 \n",
      " dense_21 (Dense)            (None, 4096)              2101248   \n",
      "                                                                 \n",
      " dense_22 (Dense)            (None, 4096)              16781312  \n",
      "                                                                 \n",
      " dense_23 (Dense)            (None, 62)                254014    \n",
      "                                                                 \n",
      "=================================================================\n",
      "Total params: 33,850,110\n",
      "Trainable params: 33,850,110\n",
      "Non-trainable params: 0\n",
      "_________________________________________________________________\n"
     ]
    }
   ],
   "source": [
    "input = Input(shape = (28,28,1))\n",
    "x = Conv2D (filters =64, kernel_size =3, padding ='same', activation='relu')(input)\n",
    "x = Conv2D (filters =64, kernel_size =3, padding ='same', activation='relu')(x)\n",
    "x = MaxPool2D(pool_size =2, strides =2, padding ='same')(x)\n",
    "# 2nd Conv Block\n",
    "x = Conv2D (filters =128, kernel_size =3, padding ='same', activation='relu')(x)\n",
    "x = Conv2D (filters =128, kernel_size =3, padding ='same', activation='relu')(x)\n",
    "x = MaxPool2D(pool_size =2, strides =2, padding ='same')(x)\n",
    "# 3rd Conv block  \n",
    "x = Conv2D (filters =256, kernel_size =3, padding ='same', activation='relu')(x)\n",
    "x = Conv2D (filters =256, kernel_size =3, padding ='same', activation='relu')(x) \n",
    "x = Conv2D (filters =256, kernel_size =3, padding ='same', activation='relu')(x) \n",
    "x = MaxPool2D(pool_size =2, strides =2, padding ='same')(x)\n",
    "# 4th Conv block\n",
    "x = Conv2D (filters =512, kernel_size =3, padding ='same', activation='relu')(x)\n",
    "x = Conv2D (filters =512, kernel_size =3, padding ='same', activation='relu')(x)\n",
    "x = Conv2D (filters =512, kernel_size =3, padding ='same', activation='relu')(x)\n",
    "x = MaxPool2D(pool_size =2, strides =2, padding ='same')(x)\n",
    "# 5th Conv block\n",
    "x = Conv2D (filters =512, kernel_size =3, padding ='same', activation='relu')(x)\n",
    "x = Conv2D (filters =512, kernel_size =3, padding ='same', activation='relu')(x)\n",
    "x = Conv2D (filters =512, kernel_size =3, padding ='same', activation='relu')(x)\n",
    "x = MaxPool2D(pool_size =2, strides =2, padding ='same')(x)\n",
    "# Fully connected layers  \n",
    "x = Flatten()(x)\n",
    "x = Dense(units = 4096, activation ='relu')(x)\n",
    "x = Dense(units = 4096, activation ='relu')(x)\n",
    "output = Dense(units = 62, activation ='softmax')(x)\n",
    "# creating the model\n",
    "\n",
    "vgg_emnist_model = Model (inputs=input, outputs =output)\n",
    "vgg_emnist_model.summary()"
   ]
  },
  {
   "cell_type": "code",
   "execution_count": null,
   "id": "032a5850",
   "metadata": {
    "scrolled": true
   },
   "outputs": [
    {
     "name": "stdout",
     "output_type": "stream",
     "text": [
      "Epoch 1/100\n",
      "17449/17449 [==============================] - 8289s 475ms/step - loss: 3.6903 - accuracy: 0.0522 - val_loss: 3.6860 - val_accuracy: 0.0523\n",
      "Epoch 2/100\n",
      " 6219/17449 [=========>....................] - ETA: 1:20:35 - loss: 3.6857 - accuracy: 0.0533"
     ]
    }
   ],
   "source": [
    "vgg_emnist_model.compile(optimizer='adam', loss=keras.losses.categorical_crossentropy, metrics=['accuracy'])\n",
    "\n",
    "early_stopping_cb = keras.callbacks.EarlyStopping(patience=10, restore_best_weights=True)\n",
    "model_checkpoint_cb = keras.callbacks.ModelCheckpoint(\"my_vgg_emnist_model.h5\", save_best_only=True)\n",
    "  \n",
    "vgg_emnist_model.fit(train_x, train_y, epochs=100, validation_data=(val_x, val_y), callbacks=[early_stopping_cb, model_checkpoint_cb])\n",
    "\n",
    "vgg_emnist_model.evaluate(test_x, test_y)"
   ]
  },
  {
   "cell_type": "code",
   "execution_count": 51,
   "id": "e2cdf87a",
   "metadata": {},
   "outputs": [],
   "source": [
    "my_lenet_5_selu_model.evaluate(hand_x, hand_y)"
   ]
  }
 ],
 "metadata": {
  "kernelspec": {
   "display_name": "Python 3 (ipykernel)",
   "language": "python",
   "name": "python3"
  },
  "language_info": {
   "codemirror_mode": {
    "name": "ipython",
    "version": 3
   },
   "file_extension": ".py",
   "mimetype": "text/x-python",
   "name": "python",
   "nbconvert_exporter": "python",
   "pygments_lexer": "ipython3",
   "version": "3.8.6"
  }
 },
 "nbformat": 4,
 "nbformat_minor": 5
}
