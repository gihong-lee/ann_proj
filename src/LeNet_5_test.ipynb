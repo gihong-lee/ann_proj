{
 "cells": [
  {
   "cell_type": "markdown",
   "metadata": {},
   "source": [
    "IMPORTS & PREPRODUCTION"
   ]
  },
  {
   "cell_type": "code",
   "execution_count": 1,
   "metadata": {},
   "outputs": [
    {
     "name": "stdout",
     "output_type": "stream",
     "text": [
      "GPU found\n"
     ]
    }
   ],
   "source": [
    "import os\n",
    "import tensorflow as tf\n",
    "\n",
    "#os.environ['CUDA_VISIBLE_DEVICES'] = '-1'\n",
    "\n",
    "if tf.test.gpu_device_name():\n",
    "    print('GPU found')\n",
    "else:\n",
    "    print(\"No GPU found\")"
   ]
  },
  {
   "cell_type": "code",
   "execution_count": 2,
   "metadata": {},
   "outputs": [],
   "source": [
    "import tensorflow as tf\n",
    "from tensorflow import keras as keras\n",
    "from sklearn.model_selection import train_test_split\n",
    "from sklearn.preprocessing import OneHotEncoder\n",
    "import numpy as np\n",
    "import pandas as pd\n",
    "from matplotlib import pyplot as plt"
   ]
  },
  {
   "cell_type": "code",
   "execution_count": 3,
   "metadata": {},
   "outputs": [],
   "source": [
    "import wandb\n",
    "##wandb.init(project=\"LeNet_5_test\", entity=\"hyunseokerikjung\")"
   ]
  },
  {
   "cell_type": "markdown",
   "metadata": {},
   "source": [
    "Data Processing"
   ]
  },
  {
   "cell_type": "code",
   "execution_count": 4,
   "metadata": {},
   "outputs": [],
   "source": [
    "data = pd.read_csv('emnist-byclass-mapping.txt', sep=\" \", header=None)\n",
    "data.columns = ['Target','ASCII']\n",
    "\n",
    "col=[]\n",
    "for i in data.ASCII.tolist():\n",
    "    col.append(chr(i))\n",
    "\n",
    "data['ASCII_Target'] = pd.Series(col)"
   ]
  },
  {
   "cell_type": "code",
   "execution_count": 5,
   "metadata": {},
   "outputs": [],
   "source": [
    "test_df = pd.read_csv('emnist-byclass-test.csv/emnist-byclass-test.csv')\n",
    "test_df.rename(columns={'18':'Target'}, inplace=True)\n",
    "\n",
    "# test_df=pd.merge(test_df, data, how='left', on='Target')\n",
    "# test_df=test_df.drop(['Target','ASCII'],axis=1)\n",
    "# test_df.rename(columns={'ASCII_Target':'Target'}, inplace=True)"
   ]
  },
  {
   "cell_type": "code",
   "execution_count": 6,
   "metadata": {},
   "outputs": [],
   "source": [
    "train_df = pd.read_csv('emnist-byclass-train.csv/emnist-byclass-train.csv')\n",
    "train_df.rename(columns={'35':'Target'}, inplace=True)\n",
    "\n",
    "# train_df=pd.merge(train_df, data, how='left', on='Target')\n",
    "# train_df=train_df.drop(['Target','ASCII'],axis=1)\n",
    "# train_df.rename(columns={'ASCII_Target':'Target'}, inplace=True)"
   ]
  },
  {
   "cell_type": "code",
   "execution_count": 9,
   "metadata": {},
   "outputs": [],
   "source": [
    "train_y = np.array(train_df.pop('Target'))\n",
    "train_x = train_df\n",
    "test_y = np.array(test_df.pop('Target'))\n",
    "test_x = test_df\n",
    "\n",
    "train_y = keras.utils.to_categorical(train_y)\n",
    "test_y = keras.utils.to_categorical(test_y)\n",
    "\n",
    "train_x = train_x / 255.0\n",
    "test_x = test_x / 255.0\n",
    "\n",
    "train_x = train_x.values.reshape([-1, 28, 28, 1])\n",
    "test_x = test_x.values.reshape([-1, 28, 28, 1])\n",
    "\n",
    "train_x, val_x, train_y, val_y = train_test_split(train_x, train_y, test_size=0.2, random_state=42)"
   ]
  },
  {
   "cell_type": "markdown",
   "metadata": {},
   "source": [
    "MODELS"
   ]
  },
  {
   "cell_type": "markdown",
   "metadata": {},
   "source": [
    "Original LeNet_5"
   ]
  },
  {
   "cell_type": "code",
   "execution_count": 13,
   "metadata": {},
   "outputs": [],
   "source": [
    "lenet_5_model = keras.models.Sequential([\n",
    "    keras.layers.Conv2D(6, kernel_size=5, strides=1,  activation='tanh', input_shape=train_x[0].shape, padding='same'),\n",
    "    keras.layers.AveragePooling2D(),\n",
    "    keras.layers.Conv2D(16, kernel_size=5, strides=1, activation='tanh', padding='valid'),\n",
    "    keras.layers.AveragePooling2D(),\n",
    "    keras.layers.Conv2D(120, kernel_size=5, strides=1, activation='tanh', padding='valid'),\n",
    "    keras.layers.Flatten(),   \n",
    "    keras.layers.Dense(84, activation='tanh'),\n",
    "    keras.layers.Dense(62, activation='softmax')\n",
    "])"
   ]
  },
  {
   "cell_type": "code",
   "execution_count": 16,
   "metadata": {},
   "outputs": [],
   "source": [
    "lenet_5_model.compile(optimizer='adam', loss=keras.losses.categorical_crossentropy, metrics=['accuracy'])"
   ]
  },
  {
   "cell_type": "code",
   "execution_count": 17,
   "metadata": {},
   "outputs": [
    {
     "name": "stdout",
     "output_type": "stream",
     "text": [
      "Epoch 1/100\n",
      "17449/17449 [==============================] - 56s 3ms/step - loss: 0.5870 - accuracy: 0.8065 - val_loss: 0.4783 - val_accuracy: 0.8319\n",
      "Epoch 2/100\n",
      "17449/17449 [==============================] - 55s 3ms/step - loss: 0.4565 - accuracy: 0.8389 - val_loss: 0.4584 - val_accuracy: 0.8394\n",
      "Epoch 3/100\n",
      "17449/17449 [==============================] - 55s 3ms/step - loss: 0.4365 - accuracy: 0.8444 - val_loss: 0.4548 - val_accuracy: 0.8381\n",
      "Epoch 4/100\n",
      "17449/17449 [==============================] - 53s 3ms/step - loss: 0.4256 - accuracy: 0.8468 - val_loss: 0.4392 - val_accuracy: 0.8435\n",
      "Epoch 5/100\n",
      "17449/17449 [==============================] - 55s 3ms/step - loss: 0.4182 - accuracy: 0.8490 - val_loss: 0.4350 - val_accuracy: 0.8454\n",
      "Epoch 6/100\n",
      "17449/17449 [==============================] - 53s 3ms/step - loss: 0.4133 - accuracy: 0.8503 - val_loss: 0.4357 - val_accuracy: 0.8454\n",
      "Epoch 7/100\n",
      "17449/17449 [==============================] - 55s 3ms/step - loss: 0.4089 - accuracy: 0.8513 - val_loss: 0.4364 - val_accuracy: 0.8444\n",
      "Epoch 8/100\n",
      "17449/17449 [==============================] - 54s 3ms/step - loss: 0.4068 - accuracy: 0.8520 - val_loss: 0.4324 - val_accuracy: 0.8466\n",
      "Epoch 9/100\n",
      "17449/17449 [==============================] - 55s 3ms/step - loss: 0.4034 - accuracy: 0.8529 - val_loss: 0.4298 - val_accuracy: 0.8469\n",
      "Epoch 10/100\n",
      "17449/17449 [==============================] - 54s 3ms/step - loss: 0.4004 - accuracy: 0.8537 - val_loss: 0.4292 - val_accuracy: 0.8471\n",
      "Epoch 11/100\n",
      "17449/17449 [==============================] - 55s 3ms/step - loss: 0.3992 - accuracy: 0.8541 - val_loss: 0.4281 - val_accuracy: 0.8472\n",
      "Epoch 12/100\n",
      "17449/17449 [==============================] - 54s 3ms/step - loss: 0.3978 - accuracy: 0.8546 - val_loss: 0.4309 - val_accuracy: 0.8467\n",
      "Epoch 13/100\n",
      "17449/17449 [==============================] - 53s 3ms/step - loss: 0.3962 - accuracy: 0.8551 - val_loss: 0.4294 - val_accuracy: 0.8420\n",
      "Epoch 14/100\n",
      "17449/17449 [==============================] - 54s 3ms/step - loss: 0.3950 - accuracy: 0.8555 - val_loss: 0.4334 - val_accuracy: 0.8437\n",
      "Epoch 15/100\n",
      "17449/17449 [==============================] - 55s 3ms/step - loss: 0.3930 - accuracy: 0.8560 - val_loss: 0.4266 - val_accuracy: 0.8487\n",
      "Epoch 16/100\n",
      "17449/17449 [==============================] - 56s 3ms/step - loss: 0.3929 - accuracy: 0.8559 - val_loss: 0.4269 - val_accuracy: 0.8486\n",
      "Epoch 17/100\n",
      "17449/17449 [==============================] - 56s 3ms/step - loss: 0.3924 - accuracy: 0.8560 - val_loss: 0.4275 - val_accuracy: 0.8483\n",
      "Epoch 18/100\n",
      "17449/17449 [==============================] - 55s 3ms/step - loss: 0.3907 - accuracy: 0.8568 - val_loss: 0.4296 - val_accuracy: 0.8481\n",
      "Epoch 19/100\n",
      "17449/17449 [==============================] - 54s 3ms/step - loss: 0.3890 - accuracy: 0.8567 - val_loss: 0.4299 - val_accuracy: 0.8442\n",
      "Epoch 20/100\n",
      "17449/17449 [==============================] - 54s 3ms/step - loss: 0.3885 - accuracy: 0.8572 - val_loss: 0.4261 - val_accuracy: 0.8479\n",
      "Epoch 21/100\n",
      "17449/17449 [==============================] - 54s 3ms/step - loss: 0.3879 - accuracy: 0.8575 - val_loss: 0.4286 - val_accuracy: 0.8491\n",
      "Epoch 22/100\n",
      "17449/17449 [==============================] - 55s 3ms/step - loss: 0.3874 - accuracy: 0.8568 - val_loss: 0.4272 - val_accuracy: 0.8485\n",
      "Epoch 23/100\n",
      "17449/17449 [==============================] - 56s 3ms/step - loss: 0.3865 - accuracy: 0.8576 - val_loss: 0.4305 - val_accuracy: 0.8476\n",
      "Epoch 24/100\n",
      "17449/17449 [==============================] - 53s 3ms/step - loss: 0.3855 - accuracy: 0.8578 - val_loss: 0.4291 - val_accuracy: 0.8484\n",
      "Epoch 25/100\n",
      "17449/17449 [==============================] - 55s 3ms/step - loss: 0.3859 - accuracy: 0.8577 - val_loss: 0.4292 - val_accuracy: 0.8487\n",
      "Epoch 26/100\n",
      "17449/17449 [==============================] - 55s 3ms/step - loss: 0.3863 - accuracy: 0.8576 - val_loss: 0.4282 - val_accuracy: 0.8465\n",
      "Epoch 27/100\n",
      "17449/17449 [==============================] - 54s 3ms/step - loss: 0.3853 - accuracy: 0.8578 - val_loss: 0.4255 - val_accuracy: 0.8499\n",
      "Epoch 28/100\n",
      "17449/17449 [==============================] - 56s 3ms/step - loss: 0.3848 - accuracy: 0.8581 - val_loss: 0.4289 - val_accuracy: 0.8496\n",
      "Epoch 29/100\n",
      "17449/17449 [==============================] - 54s 3ms/step - loss: 0.3848 - accuracy: 0.8581 - val_loss: 0.4256 - val_accuracy: 0.8494\n",
      "Epoch 30/100\n",
      "17449/17449 [==============================] - 57s 3ms/step - loss: 0.3836 - accuracy: 0.8583 - val_loss: 0.4280 - val_accuracy: 0.8483\n",
      "Epoch 31/100\n",
      "17449/17449 [==============================] - 57s 3ms/step - loss: 0.3838 - accuracy: 0.8581 - val_loss: 0.4293 - val_accuracy: 0.8484\n",
      "Epoch 32/100\n",
      "17449/17449 [==============================] - 56s 3ms/step - loss: 0.3832 - accuracy: 0.8585 - val_loss: 0.4347 - val_accuracy: 0.8470\n",
      "Epoch 33/100\n",
      "17449/17449 [==============================] - 56s 3ms/step - loss: 0.3829 - accuracy: 0.8586 - val_loss: 0.4308 - val_accuracy: 0.8483\n",
      "Epoch 34/100\n",
      "17449/17449 [==============================] - 56s 3ms/step - loss: 0.3830 - accuracy: 0.8581 - val_loss: 0.4303 - val_accuracy: 0.8466\n",
      "Epoch 35/100\n",
      "17449/17449 [==============================] - 54s 3ms/step - loss: 0.3820 - accuracy: 0.8585 - val_loss: 0.4343 - val_accuracy: 0.8478\n",
      "Epoch 36/100\n",
      "17449/17449 [==============================] - 56s 3ms/step - loss: 0.3814 - accuracy: 0.8588 - val_loss: 0.4277 - val_accuracy: 0.8491\n",
      "Epoch 37/100\n",
      "17449/17449 [==============================] - 55s 3ms/step - loss: 0.3815 - accuracy: 0.8589 - val_loss: 0.4319 - val_accuracy: 0.8465\n"
     ]
    },
    {
     "data": {
      "text/plain": [
       "<keras.callbacks.History at 0x16078f94160>"
      ]
     },
     "execution_count": 17,
     "metadata": {},
     "output_type": "execute_result"
    }
   ],
   "source": [
    "early_stopping_cb = keras.callbacks.EarlyStopping(patience=10, restore_best_weights=True)\n",
    "model_checkpoint_cb = keras.callbacks.ModelCheckpoint(\"my_lenet5_emnist_model.h5\", save_best_only=True)\n",
    "\n",
    "lenet_5_model.fit(train_x, train_y, epochs=100, validation_data=(val_x, val_y), callbacks=[early_stopping_cb])"
   ]
  },
  {
   "cell_type": "code",
   "execution_count": 18,
   "metadata": {},
   "outputs": [
    {
     "name": "stdout",
     "output_type": "stream",
     "text": [
      "3636/3636 [==============================] - 6s 2ms/step - loss: 0.4194 - accuracy: 0.8510\n"
     ]
    },
    {
     "data": {
      "text/plain": [
       "[0.41943299770355225, 0.8510342240333557]"
      ]
     },
     "execution_count": 18,
     "metadata": {},
     "output_type": "execute_result"
    }
   ],
   "source": [
    "lenet_5_model.evaluate(test_x, test_y)"
   ]
  },
  {
   "cell_type": "markdown",
   "metadata": {},
   "source": [
    "LeNet_5_SeLU\n",
    "\n",
    "SeLU performs better(speed & accuracy)"
   ]
  },
  {
   "cell_type": "code",
   "execution_count": 9,
   "metadata": {},
   "outputs": [
    {
     "name": "stdout",
     "output_type": "stream",
     "text": [
      "Epoch 1/100\n",
      "17449/17449 [==============================] - 56s 3ms/step - loss: 0.5854 - accuracy: 0.8044 - val_loss: 0.4761 - val_accuracy: 0.8315\n",
      "Epoch 2/100\n",
      "17449/17449 [==============================] - 54s 3ms/step - loss: 0.4568 - accuracy: 0.8375 - val_loss: 0.4583 - val_accuracy: 0.8375\n",
      "Epoch 3/100\n",
      "17449/17449 [==============================] - 54s 3ms/step - loss: 0.4356 - accuracy: 0.8436 - val_loss: 0.4438 - val_accuracy: 0.8408\n",
      "Epoch 4/100\n",
      "17449/17449 [==============================] - 55s 3ms/step - loss: 0.4244 - accuracy: 0.8468 - val_loss: 0.4442 - val_accuracy: 0.8469\n",
      "Epoch 5/100\n",
      "17449/17449 [==============================] - 56s 3ms/step - loss: 0.4156 - accuracy: 0.8492 - val_loss: 0.4279 - val_accuracy: 0.8490\n",
      "Epoch 6/100\n",
      "17449/17449 [==============================] - 57s 3ms/step - loss: 0.4105 - accuracy: 0.8508 - val_loss: 0.4271 - val_accuracy: 0.8450\n",
      "Epoch 7/100\n",
      "17449/17449 [==============================] - 56s 3ms/step - loss: 0.4061 - accuracy: 0.8518 - val_loss: 0.4355 - val_accuracy: 0.8450\n",
      "Epoch 8/100\n",
      "17449/17449 [==============================] - 57s 3ms/step - loss: 0.4014 - accuracy: 0.8535 - val_loss: 0.4267 - val_accuracy: 0.8495\n",
      "Epoch 9/100\n",
      "17449/17449 [==============================] - 56s 3ms/step - loss: 0.3985 - accuracy: 0.8537 - val_loss: 0.4305 - val_accuracy: 0.8479\n",
      "Epoch 10/100\n",
      "17449/17449 [==============================] - 54s 3ms/step - loss: 0.3962 - accuracy: 0.8544 - val_loss: 0.4373 - val_accuracy: 0.8445\n",
      "Epoch 11/100\n",
      "17449/17449 [==============================] - 56s 3ms/step - loss: 0.3932 - accuracy: 0.8555 - val_loss: 0.4186 - val_accuracy: 0.8516\n",
      "Epoch 12/100\n",
      "17449/17449 [==============================] - 54s 3ms/step - loss: 0.3914 - accuracy: 0.8563 - val_loss: 0.4358 - val_accuracy: 0.8430\n",
      "Epoch 13/100\n",
      "17449/17449 [==============================] - 54s 3ms/step - loss: 0.3888 - accuracy: 0.8566 - val_loss: 0.4337 - val_accuracy: 0.8465\n",
      "Epoch 14/100\n",
      "17449/17449 [==============================] - 56s 3ms/step - loss: 0.3873 - accuracy: 0.8571 - val_loss: 0.4297 - val_accuracy: 0.8471\n",
      "Epoch 15/100\n",
      "17449/17449 [==============================] - 56s 3ms/step - loss: 0.3858 - accuracy: 0.8572 - val_loss: 0.4251 - val_accuracy: 0.8458\n",
      "Epoch 16/100\n",
      "17449/17449 [==============================] - 55s 3ms/step - loss: 0.3834 - accuracy: 0.8582 - val_loss: 0.4497 - val_accuracy: 0.8425\n",
      "Epoch 17/100\n",
      "17449/17449 [==============================] - 58s 3ms/step - loss: 0.3821 - accuracy: 0.8586 - val_loss: 0.4435 - val_accuracy: 0.8411\n",
      "Epoch 18/100\n",
      "17449/17449 [==============================] - 54s 3ms/step - loss: 0.3819 - accuracy: 0.8587 - val_loss: 0.4339 - val_accuracy: 0.8496\n",
      "Epoch 19/100\n",
      "17449/17449 [==============================] - 56s 3ms/step - loss: 0.3795 - accuracy: 0.8592 - val_loss: 0.4373 - val_accuracy: 0.8474\n",
      "Epoch 20/100\n",
      "17449/17449 [==============================] - 53s 3ms/step - loss: 0.3787 - accuracy: 0.8593 - val_loss: 0.4413 - val_accuracy: 0.8489\n",
      "Epoch 21/100\n",
      "17449/17449 [==============================] - 56s 3ms/step - loss: 0.3779 - accuracy: 0.8598 - val_loss: 0.4477 - val_accuracy: 0.8466\n",
      "3636/3636 [==============================] - 6s 2ms/step - loss: 0.4091 - accuracy: 0.8540\n"
     ]
    },
    {
     "data": {
      "text/plain": [
       "[0.40906521677970886, 0.8539571166038513]"
      ]
     },
     "execution_count": 9,
     "metadata": {},
     "output_type": "execute_result"
    }
   ],
   "source": [
    "keras.backend.clear_session()\n",
    "\n",
    "lenet_5_selu_model = keras.models.Sequential([\n",
    "    keras.layers.Conv2D(6, kernel_size=5, strides=1,  activation=\"selu\", kernel_initializer=\"lecun_normal\", input_shape=train_x[0].shape, padding='same'),\n",
    "    keras.layers.AveragePooling2D(),\n",
    "    keras.layers.Conv2D(16, kernel_size=5, strides=1, activation=\"selu\", kernel_initializer=\"lecun_normal\", padding='valid'),\n",
    "    keras.layers.AveragePooling2D(),\n",
    "    keras.layers.Conv2D(120, kernel_size=5, strides=1, activation=\"selu\", kernel_initializer=\"lecun_normal\", padding='valid'),\n",
    "    keras.layers.Flatten(),   \n",
    "    keras.layers.Dense(84, activation=\"selu\", kernel_initializer=\"lecun_normal\"),\n",
    "    keras.layers.Dense(62, activation='softmax')\n",
    "])\n",
    "\n",
    "lenet_5_selu_model.compile(optimizer='adam', loss=keras.losses.categorical_crossentropy, metrics=['accuracy'])\n",
    "\n",
    "early_stopping_cb = keras.callbacks.EarlyStopping(patience=10, restore_best_weights=True)\n",
    "model_checkpoint_cb = keras.callbacks.ModelCheckpoint(\"my_lenet5_emnist_model.h5\", save_best_only=True)\n",
    "\n",
    "lenet_5_selu_model.fit(train_x, train_y, epochs=100, validation_data=(val_x, val_y), callbacks=[early_stopping_cb])\n",
    "\n",
    "lenet_5_selu_model.evaluate(test_x, test_y)"
   ]
  },
  {
   "cell_type": "markdown",
   "metadata": {},
   "source": [
    "He Yanmei SeLU Lenet_5 model\n",
    "\n",
    "Lowers amount of parameters = lower inference time, less stable model"
   ]
  },
  {
   "cell_type": "code",
   "execution_count": 7,
   "metadata": {},
   "outputs": [
    {
     "name": "stdout",
     "output_type": "stream",
     "text": [
      "Epoch 1/100\n",
      "17449/17449 [==============================] - 59s 3ms/step - loss: 1.0427 - accuracy: 0.6946 - val_loss: 0.6979 - val_accuracy: 0.7794\n",
      "Epoch 2/100\n",
      "17449/17449 [==============================] - 52s 3ms/step - loss: 0.6480 - accuracy: 0.7906 - val_loss: 0.6001 - val_accuracy: 0.8030\n",
      "Epoch 3/100\n",
      "17449/17449 [==============================] - 53s 3ms/step - loss: 0.5862 - accuracy: 0.8074 - val_loss: 0.5815 - val_accuracy: 0.8102\n",
      "Epoch 4/100\n",
      "17449/17449 [==============================] - 52s 3ms/step - loss: 0.5567 - accuracy: 0.8155 - val_loss: 0.5578 - val_accuracy: 0.8155\n",
      "Epoch 5/100\n",
      "17449/17449 [==============================] - 53s 3ms/step - loss: 0.5374 - accuracy: 0.8207 - val_loss: 0.5401 - val_accuracy: 0.8202\n",
      "Epoch 6/100\n",
      "17449/17449 [==============================] - 53s 3ms/step - loss: 0.5239 - accuracy: 0.8247 - val_loss: 0.5326 - val_accuracy: 0.8222\n",
      "Epoch 7/100\n",
      "17449/17449 [==============================] - 53s 3ms/step - loss: 0.5149 - accuracy: 0.8263 - val_loss: 0.5428 - val_accuracy: 0.8187\n",
      "Epoch 8/100\n",
      "17449/17449 [==============================] - 52s 3ms/step - loss: 0.5072 - accuracy: 0.8285 - val_loss: 0.5114 - val_accuracy: 0.8289\n",
      "Epoch 9/100\n",
      "17449/17449 [==============================] - 52s 3ms/step - loss: 0.5011 - accuracy: 0.8301 - val_loss: 0.5147 - val_accuracy: 0.8283\n",
      "Epoch 10/100\n",
      "17449/17449 [==============================] - 53s 3ms/step - loss: 0.4963 - accuracy: 0.8315 - val_loss: 0.5132 - val_accuracy: 0.8282\n",
      "Epoch 11/100\n",
      "17449/17449 [==============================] - 53s 3ms/step - loss: 0.4916 - accuracy: 0.8330 - val_loss: 0.5015 - val_accuracy: 0.8314\n",
      "Epoch 12/100\n",
      "17449/17449 [==============================] - 52s 3ms/step - loss: 0.4877 - accuracy: 0.8338 - val_loss: 0.5068 - val_accuracy: 0.8292\n",
      "Epoch 13/100\n",
      "17449/17449 [==============================] - 52s 3ms/step - loss: 0.4846 - accuracy: 0.8343 - val_loss: 0.5022 - val_accuracy: 0.8311\n",
      "Epoch 14/100\n",
      "17449/17449 [==============================] - 53s 3ms/step - loss: 0.4817 - accuracy: 0.8352 - val_loss: 0.5108 - val_accuracy: 0.8267\n",
      "Epoch 15/100\n",
      "17449/17449 [==============================] - 52s 3ms/step - loss: 0.4790 - accuracy: 0.8359 - val_loss: 0.4946 - val_accuracy: 0.8329\n",
      "Epoch 16/100\n",
      "17449/17449 [==============================] - 52s 3ms/step - loss: 0.4764 - accuracy: 0.8366 - val_loss: 0.4936 - val_accuracy: 0.8321\n",
      "Epoch 17/100\n",
      "17449/17449 [==============================] - 53s 3ms/step - loss: 0.4743 - accuracy: 0.8376 - val_loss: 0.4899 - val_accuracy: 0.8347\n",
      "Epoch 18/100\n",
      "17449/17449 [==============================] - 52s 3ms/step - loss: 0.4716 - accuracy: 0.8380 - val_loss: 0.4928 - val_accuracy: 0.8330\n",
      "Epoch 19/100\n",
      "17449/17449 [==============================] - 53s 3ms/step - loss: 0.4700 - accuracy: 0.8385 - val_loss: 0.4888 - val_accuracy: 0.8342\n",
      "Epoch 20/100\n",
      "17449/17449 [==============================] - 53s 3ms/step - loss: 0.4683 - accuracy: 0.8392 - val_loss: 0.4887 - val_accuracy: 0.8344\n",
      "Epoch 21/100\n",
      "17449/17449 [==============================] - 52s 3ms/step - loss: 0.4664 - accuracy: 0.8396 - val_loss: 0.4860 - val_accuracy: 0.8359\n",
      "Epoch 22/100\n",
      "17449/17449 [==============================] - 52s 3ms/step - loss: 0.4648 - accuracy: 0.8398 - val_loss: 0.4832 - val_accuracy: 0.8359\n",
      "Epoch 23/100\n",
      "17449/17449 [==============================] - 53s 3ms/step - loss: 0.4632 - accuracy: 0.8407 - val_loss: 0.4827 - val_accuracy: 0.8343\n",
      "Epoch 24/100\n",
      "17449/17449 [==============================] - 52s 3ms/step - loss: 0.4616 - accuracy: 0.8411 - val_loss: 0.4905 - val_accuracy: 0.8339\n",
      "Epoch 25/100\n",
      "17449/17449 [==============================] - 53s 3ms/step - loss: 0.4603 - accuracy: 0.8412 - val_loss: 0.4841 - val_accuracy: 0.8364\n",
      "Epoch 26/100\n",
      "17449/17449 [==============================] - 54s 3ms/step - loss: 0.4593 - accuracy: 0.8415 - val_loss: 0.4822 - val_accuracy: 0.8358\n",
      "Epoch 27/100\n",
      "17449/17449 [==============================] - 51s 3ms/step - loss: 0.4578 - accuracy: 0.8418 - val_loss: 0.4851 - val_accuracy: 0.8355\n",
      "Epoch 28/100\n",
      "17449/17449 [==============================] - 52s 3ms/step - loss: 0.4566 - accuracy: 0.8422 - val_loss: 0.4773 - val_accuracy: 0.8372\n",
      "Epoch 29/100\n",
      "17449/17449 [==============================] - 54s 3ms/step - loss: 0.4555 - accuracy: 0.8426 - val_loss: 0.4787 - val_accuracy: 0.8375\n",
      "Epoch 30/100\n",
      "17449/17449 [==============================] - 53s 3ms/step - loss: 0.4545 - accuracy: 0.8428 - val_loss: 0.4794 - val_accuracy: 0.8358\n",
      "Epoch 31/100\n",
      "17449/17449 [==============================] - 54s 3ms/step - loss: 0.4536 - accuracy: 0.8432 - val_loss: 0.4791 - val_accuracy: 0.8370\n",
      "Epoch 32/100\n",
      "17449/17449 [==============================] - 53s 3ms/step - loss: 0.4524 - accuracy: 0.8436 - val_loss: 0.4774 - val_accuracy: 0.8347\n",
      "Epoch 33/100\n",
      "17449/17449 [==============================] - 53s 3ms/step - loss: 0.4514 - accuracy: 0.8439 - val_loss: 0.4804 - val_accuracy: 0.8355\n",
      "Epoch 34/100\n",
      "17449/17449 [==============================] - 52s 3ms/step - loss: 0.4506 - accuracy: 0.8439 - val_loss: 0.4722 - val_accuracy: 0.8388\n",
      "Epoch 35/100\n",
      "17449/17449 [==============================] - 54s 3ms/step - loss: 0.4495 - accuracy: 0.8443 - val_loss: 0.4778 - val_accuracy: 0.8367\n",
      "Epoch 36/100\n",
      "17449/17449 [==============================] - 52s 3ms/step - loss: 0.4489 - accuracy: 0.8443 - val_loss: 0.4727 - val_accuracy: 0.8393\n",
      "Epoch 37/100\n",
      "17449/17449 [==============================] - 54s 3ms/step - loss: 0.4478 - accuracy: 0.8445 - val_loss: 0.4709 - val_accuracy: 0.8391\n",
      "Epoch 38/100\n",
      "17449/17449 [==============================] - 52s 3ms/step - loss: 0.4469 - accuracy: 0.8450 - val_loss: 0.4776 - val_accuracy: 0.8360\n",
      "Epoch 39/100\n",
      "17449/17449 [==============================] - 53s 3ms/step - loss: 0.4462 - accuracy: 0.8450 - val_loss: 0.4720 - val_accuracy: 0.8385\n",
      "Epoch 40/100\n",
      "17449/17449 [==============================] - 54s 3ms/step - loss: 0.4453 - accuracy: 0.8457 - val_loss: 0.4727 - val_accuracy: 0.8383\n",
      "Epoch 41/100\n",
      "17449/17449 [==============================] - 53s 3ms/step - loss: 0.4446 - accuracy: 0.8454 - val_loss: 0.4767 - val_accuracy: 0.8373\n",
      "Epoch 42/100\n",
      "17449/17449 [==============================] - 53s 3ms/step - loss: 0.4442 - accuracy: 0.8459 - val_loss: 0.4789 - val_accuracy: 0.8365\n",
      "Epoch 43/100\n",
      "17449/17449 [==============================] - 53s 3ms/step - loss: 0.4431 - accuracy: 0.8456 - val_loss: 0.4710 - val_accuracy: 0.8385\n",
      "Epoch 44/100\n",
      "17449/17449 [==============================] - 53s 3ms/step - loss: 0.4424 - accuracy: 0.8462 - val_loss: 0.4680 - val_accuracy: 0.8398\n",
      "Epoch 45/100\n",
      "17449/17449 [==============================] - 50s 3ms/step - loss: 0.4422 - accuracy: 0.8461 - val_loss: 0.4772 - val_accuracy: 0.8363\n",
      "Epoch 46/100\n",
      "17449/17449 [==============================] - 52s 3ms/step - loss: 0.4416 - accuracy: 0.8461 - val_loss: 0.4715 - val_accuracy: 0.8381\n",
      "Epoch 47/100\n",
      "17449/17449 [==============================] - 53s 3ms/step - loss: 0.4405 - accuracy: 0.8468 - val_loss: 0.4710 - val_accuracy: 0.8397\n",
      "Epoch 48/100\n",
      "17449/17449 [==============================] - 51s 3ms/step - loss: 0.4401 - accuracy: 0.8466 - val_loss: 0.4732 - val_accuracy: 0.8396\n",
      "Epoch 49/100\n",
      "17449/17449 [==============================] - 52s 3ms/step - loss: 0.4395 - accuracy: 0.8469 - val_loss: 0.4690 - val_accuracy: 0.8417\n",
      "Epoch 50/100\n",
      "17449/17449 [==============================] - 51s 3ms/step - loss: 0.4388 - accuracy: 0.8467 - val_loss: 0.4686 - val_accuracy: 0.8397\n",
      "Epoch 51/100\n",
      "17449/17449 [==============================] - 51s 3ms/step - loss: 0.4386 - accuracy: 0.8472 - val_loss: 0.4699 - val_accuracy: 0.8404\n",
      "Epoch 52/100\n",
      "17449/17449 [==============================] - 52s 3ms/step - loss: 0.4376 - accuracy: 0.8471 - val_loss: 0.4703 - val_accuracy: 0.8399\n",
      "Epoch 53/100\n",
      "17449/17449 [==============================] - 49s 3ms/step - loss: 0.4372 - accuracy: 0.8476 - val_loss: 0.4736 - val_accuracy: 0.8393\n",
      "Epoch 54/100\n",
      "17449/17449 [==============================] - 52s 3ms/step - loss: 0.4369 - accuracy: 0.8474 - val_loss: 0.4686 - val_accuracy: 0.8395\n",
      "3636/3636 [==============================] - 5s 1ms/step - loss: 0.4634 - accuracy: 0.8403\n"
     ]
    },
    {
     "data": {
      "text/plain": [
       "[0.46336913108825684, 0.8403225541114807]"
      ]
     },
     "execution_count": 7,
     "metadata": {},
     "output_type": "execute_result"
    }
   ],
   "source": [
    "keras.backend.clear_session()\n",
    "\n",
    "lenet_5_improved_model = keras.models.Sequential([\n",
    "    keras.layers.Conv2D(32, kernel_size=5, strides=2, activation=\"selu\", kernel_initializer=\"lecun_normal\", input_shape=train_x[0].shape, padding='same'),\n",
    "    keras.layers.Conv2D(64, kernel_size=3, strides=2, activation=\"selu\", kernel_initializer=\"lecun_normal\", padding='valid'),\n",
    "    keras.layers.Conv2D(32, kernel_size=1, strides=1, activation=\"selu\", kernel_initializer=\"lecun_normal\", padding='valid'),\n",
    "    keras.layers.GlobalAveragePooling2D(),\n",
    "    keras.layers.Flatten(),\n",
    "    keras.layers.Dense(62, activation='softmax')\n",
    "])\n",
    "\n",
    "lenet_5_improved_model.compile(optimizer='adam', loss=keras.losses.categorical_crossentropy, metrics=['accuracy'])\n",
    "\n",
    "early_stopping_cb = keras.callbacks.EarlyStopping(patience=10, restore_best_weights=True)\n",
    "model_checkpoint_cb = keras.callbacks.ModelCheckpoint(\"my_lenet5_emnist_model.h5\", save_best_only=True)\n",
    "\n",
    "lenet_5_improved_model.fit(train_x, train_y, epochs=100, validation_data=(val_x, val_y), callbacks=[early_stopping_cb])\n",
    "\n",
    "lenet_5_improved_model.evaluate(test_x, test_y)"
   ]
  },
  {
   "cell_type": "markdown",
   "metadata": {},
   "source": [
    "Optimizing *without* touching the data\n",
    "\n",
    "With dropout = 86% test result"
   ]
  },
  {
   "cell_type": "code",
   "execution_count": 11,
   "metadata": {},
   "outputs": [
    {
     "name": "stdout",
     "output_type": "stream",
     "text": [
      "Epoch 1/100\n",
      " 1466/17449 [=>............................] - ETA: 58s - loss: 2.4865 - accuracy: 0.3861"
     ]
    },
    {
     "ename": "KeyboardInterrupt",
     "evalue": "",
     "output_type": "error",
     "traceback": [
      "\u001b[1;31m---------------------------------------------------------------------------\u001b[0m",
      "\u001b[1;31mKeyboardInterrupt\u001b[0m                         Traceback (most recent call last)",
      "\u001b[1;32mc:\\Users\\PC\\Desktop\\PyTorch\\LeNet_5_test_050322\\LeNet_5_test.ipynb Cell 21'\u001b[0m in \u001b[0;36m<cell line: 20>\u001b[1;34m()\u001b[0m\n\u001b[0;32m     <a href='vscode-notebook-cell:/c%3A/Users/PC/Desktop/PyTorch/LeNet_5_test_050322/LeNet_5_test.ipynb#ch0000022?line=16'>17</a>\u001b[0m early_stopping_cb \u001b[39m=\u001b[39m keras\u001b[39m.\u001b[39mcallbacks\u001b[39m.\u001b[39mEarlyStopping(patience\u001b[39m=\u001b[39m\u001b[39m10\u001b[39m, restore_best_weights\u001b[39m=\u001b[39m\u001b[39mTrue\u001b[39;00m)\n\u001b[0;32m     <a href='vscode-notebook-cell:/c%3A/Users/PC/Desktop/PyTorch/LeNet_5_test_050322/LeNet_5_test.ipynb#ch0000022?line=17'>18</a>\u001b[0m model_checkpoint_cb \u001b[39m=\u001b[39m keras\u001b[39m.\u001b[39mcallbacks\u001b[39m.\u001b[39mModelCheckpoint(\u001b[39m\"\u001b[39m\u001b[39mmy_lenet5_emnist_model.h5\u001b[39m\u001b[39m\"\u001b[39m, save_best_only\u001b[39m=\u001b[39m\u001b[39mTrue\u001b[39;00m)\n\u001b[1;32m---> <a href='vscode-notebook-cell:/c%3A/Users/PC/Desktop/PyTorch/LeNet_5_test_050322/LeNet_5_test.ipynb#ch0000022?line=19'>20</a>\u001b[0m my_lenet_5_selu_model\u001b[39m.\u001b[39;49mfit(train_x, train_y, epochs\u001b[39m=\u001b[39;49m\u001b[39m100\u001b[39;49m, validation_data\u001b[39m=\u001b[39;49m(val_x, val_y), callbacks\u001b[39m=\u001b[39;49m[early_stopping_cb, model_checkpoint_cb])\n\u001b[0;32m     <a href='vscode-notebook-cell:/c%3A/Users/PC/Desktop/PyTorch/LeNet_5_test_050322/LeNet_5_test.ipynb#ch0000022?line=21'>22</a>\u001b[0m my_lenet_5_selu_model\u001b[39m.\u001b[39mevaluate(test_x, test_y)\n",
      "File \u001b[1;32mc:\\Users\\PC\\anaconda3\\lib\\site-packages\\keras\\utils\\traceback_utils.py:64\u001b[0m, in \u001b[0;36mfilter_traceback.<locals>.error_handler\u001b[1;34m(*args, **kwargs)\u001b[0m\n\u001b[0;32m     <a href='file:///c%3A/Users/PC/anaconda3/lib/site-packages/keras/utils/traceback_utils.py?line=61'>62</a>\u001b[0m filtered_tb \u001b[39m=\u001b[39m \u001b[39mNone\u001b[39;00m\n\u001b[0;32m     <a href='file:///c%3A/Users/PC/anaconda3/lib/site-packages/keras/utils/traceback_utils.py?line=62'>63</a>\u001b[0m \u001b[39mtry\u001b[39;00m:\n\u001b[1;32m---> <a href='file:///c%3A/Users/PC/anaconda3/lib/site-packages/keras/utils/traceback_utils.py?line=63'>64</a>\u001b[0m   \u001b[39mreturn\u001b[39;00m fn(\u001b[39m*\u001b[39margs, \u001b[39m*\u001b[39m\u001b[39m*\u001b[39mkwargs)\n\u001b[0;32m     <a href='file:///c%3A/Users/PC/anaconda3/lib/site-packages/keras/utils/traceback_utils.py?line=64'>65</a>\u001b[0m \u001b[39mexcept\u001b[39;00m \u001b[39mException\u001b[39;00m \u001b[39mas\u001b[39;00m e:  \u001b[39m# pylint: disable=broad-except\u001b[39;00m\n\u001b[0;32m     <a href='file:///c%3A/Users/PC/anaconda3/lib/site-packages/keras/utils/traceback_utils.py?line=65'>66</a>\u001b[0m   filtered_tb \u001b[39m=\u001b[39m _process_traceback_frames(e\u001b[39m.\u001b[39m__traceback__)\n",
      "File \u001b[1;32mc:\\Users\\PC\\anaconda3\\lib\\site-packages\\keras\\engine\\training.py:1384\u001b[0m, in \u001b[0;36mModel.fit\u001b[1;34m(self, x, y, batch_size, epochs, verbose, callbacks, validation_split, validation_data, shuffle, class_weight, sample_weight, initial_epoch, steps_per_epoch, validation_steps, validation_batch_size, validation_freq, max_queue_size, workers, use_multiprocessing)\u001b[0m\n\u001b[0;32m   <a href='file:///c%3A/Users/PC/anaconda3/lib/site-packages/keras/engine/training.py?line=1376'>1377</a>\u001b[0m \u001b[39mwith\u001b[39;00m tf\u001b[39m.\u001b[39mprofiler\u001b[39m.\u001b[39mexperimental\u001b[39m.\u001b[39mTrace(\n\u001b[0;32m   <a href='file:///c%3A/Users/PC/anaconda3/lib/site-packages/keras/engine/training.py?line=1377'>1378</a>\u001b[0m     \u001b[39m'\u001b[39m\u001b[39mtrain\u001b[39m\u001b[39m'\u001b[39m,\n\u001b[0;32m   <a href='file:///c%3A/Users/PC/anaconda3/lib/site-packages/keras/engine/training.py?line=1378'>1379</a>\u001b[0m     epoch_num\u001b[39m=\u001b[39mepoch,\n\u001b[0;32m   <a href='file:///c%3A/Users/PC/anaconda3/lib/site-packages/keras/engine/training.py?line=1379'>1380</a>\u001b[0m     step_num\u001b[39m=\u001b[39mstep,\n\u001b[0;32m   <a href='file:///c%3A/Users/PC/anaconda3/lib/site-packages/keras/engine/training.py?line=1380'>1381</a>\u001b[0m     batch_size\u001b[39m=\u001b[39mbatch_size,\n\u001b[0;32m   <a href='file:///c%3A/Users/PC/anaconda3/lib/site-packages/keras/engine/training.py?line=1381'>1382</a>\u001b[0m     _r\u001b[39m=\u001b[39m\u001b[39m1\u001b[39m):\n\u001b[0;32m   <a href='file:///c%3A/Users/PC/anaconda3/lib/site-packages/keras/engine/training.py?line=1382'>1383</a>\u001b[0m   callbacks\u001b[39m.\u001b[39mon_train_batch_begin(step)\n\u001b[1;32m-> <a href='file:///c%3A/Users/PC/anaconda3/lib/site-packages/keras/engine/training.py?line=1383'>1384</a>\u001b[0m   tmp_logs \u001b[39m=\u001b[39m \u001b[39mself\u001b[39;49m\u001b[39m.\u001b[39;49mtrain_function(iterator)\n\u001b[0;32m   <a href='file:///c%3A/Users/PC/anaconda3/lib/site-packages/keras/engine/training.py?line=1384'>1385</a>\u001b[0m   \u001b[39mif\u001b[39;00m data_handler\u001b[39m.\u001b[39mshould_sync:\n\u001b[0;32m   <a href='file:///c%3A/Users/PC/anaconda3/lib/site-packages/keras/engine/training.py?line=1385'>1386</a>\u001b[0m     context\u001b[39m.\u001b[39masync_wait()\n",
      "File \u001b[1;32mc:\\Users\\PC\\anaconda3\\lib\\site-packages\\tensorflow\\python\\util\\traceback_utils.py:150\u001b[0m, in \u001b[0;36mfilter_traceback.<locals>.error_handler\u001b[1;34m(*args, **kwargs)\u001b[0m\n\u001b[0;32m    <a href='file:///c%3A/Users/PC/anaconda3/lib/site-packages/tensorflow/python/util/traceback_utils.py?line=147'>148</a>\u001b[0m filtered_tb \u001b[39m=\u001b[39m \u001b[39mNone\u001b[39;00m\n\u001b[0;32m    <a href='file:///c%3A/Users/PC/anaconda3/lib/site-packages/tensorflow/python/util/traceback_utils.py?line=148'>149</a>\u001b[0m \u001b[39mtry\u001b[39;00m:\n\u001b[1;32m--> <a href='file:///c%3A/Users/PC/anaconda3/lib/site-packages/tensorflow/python/util/traceback_utils.py?line=149'>150</a>\u001b[0m   \u001b[39mreturn\u001b[39;00m fn(\u001b[39m*\u001b[39margs, \u001b[39m*\u001b[39m\u001b[39m*\u001b[39mkwargs)\n\u001b[0;32m    <a href='file:///c%3A/Users/PC/anaconda3/lib/site-packages/tensorflow/python/util/traceback_utils.py?line=150'>151</a>\u001b[0m \u001b[39mexcept\u001b[39;00m \u001b[39mException\u001b[39;00m \u001b[39mas\u001b[39;00m e:\n\u001b[0;32m    <a href='file:///c%3A/Users/PC/anaconda3/lib/site-packages/tensorflow/python/util/traceback_utils.py?line=151'>152</a>\u001b[0m   filtered_tb \u001b[39m=\u001b[39m _process_traceback_frames(e\u001b[39m.\u001b[39m__traceback__)\n",
      "File \u001b[1;32mc:\\Users\\PC\\anaconda3\\lib\\site-packages\\tensorflow\\python\\eager\\def_function.py:915\u001b[0m, in \u001b[0;36mFunction.__call__\u001b[1;34m(self, *args, **kwds)\u001b[0m\n\u001b[0;32m    <a href='file:///c%3A/Users/PC/anaconda3/lib/site-packages/tensorflow/python/eager/def_function.py?line=911'>912</a>\u001b[0m compiler \u001b[39m=\u001b[39m \u001b[39m\"\u001b[39m\u001b[39mxla\u001b[39m\u001b[39m\"\u001b[39m \u001b[39mif\u001b[39;00m \u001b[39mself\u001b[39m\u001b[39m.\u001b[39m_jit_compile \u001b[39melse\u001b[39;00m \u001b[39m\"\u001b[39m\u001b[39mnonXla\u001b[39m\u001b[39m\"\u001b[39m\n\u001b[0;32m    <a href='file:///c%3A/Users/PC/anaconda3/lib/site-packages/tensorflow/python/eager/def_function.py?line=913'>914</a>\u001b[0m \u001b[39mwith\u001b[39;00m OptionalXlaContext(\u001b[39mself\u001b[39m\u001b[39m.\u001b[39m_jit_compile):\n\u001b[1;32m--> <a href='file:///c%3A/Users/PC/anaconda3/lib/site-packages/tensorflow/python/eager/def_function.py?line=914'>915</a>\u001b[0m   result \u001b[39m=\u001b[39m \u001b[39mself\u001b[39m\u001b[39m.\u001b[39m_call(\u001b[39m*\u001b[39margs, \u001b[39m*\u001b[39m\u001b[39m*\u001b[39mkwds)\n\u001b[0;32m    <a href='file:///c%3A/Users/PC/anaconda3/lib/site-packages/tensorflow/python/eager/def_function.py?line=916'>917</a>\u001b[0m new_tracing_count \u001b[39m=\u001b[39m \u001b[39mself\u001b[39m\u001b[39m.\u001b[39mexperimental_get_tracing_count()\n\u001b[0;32m    <a href='file:///c%3A/Users/PC/anaconda3/lib/site-packages/tensorflow/python/eager/def_function.py?line=917'>918</a>\u001b[0m without_tracing \u001b[39m=\u001b[39m (tracing_count \u001b[39m==\u001b[39m new_tracing_count)\n",
      "File \u001b[1;32mc:\\Users\\PC\\anaconda3\\lib\\site-packages\\tensorflow\\python\\eager\\def_function.py:947\u001b[0m, in \u001b[0;36mFunction._call\u001b[1;34m(self, *args, **kwds)\u001b[0m\n\u001b[0;32m    <a href='file:///c%3A/Users/PC/anaconda3/lib/site-packages/tensorflow/python/eager/def_function.py?line=943'>944</a>\u001b[0m   \u001b[39mself\u001b[39m\u001b[39m.\u001b[39m_lock\u001b[39m.\u001b[39mrelease()\n\u001b[0;32m    <a href='file:///c%3A/Users/PC/anaconda3/lib/site-packages/tensorflow/python/eager/def_function.py?line=944'>945</a>\u001b[0m   \u001b[39m# In this case we have created variables on the first call, so we run the\u001b[39;00m\n\u001b[0;32m    <a href='file:///c%3A/Users/PC/anaconda3/lib/site-packages/tensorflow/python/eager/def_function.py?line=945'>946</a>\u001b[0m   \u001b[39m# defunned version which is guaranteed to never create variables.\u001b[39;00m\n\u001b[1;32m--> <a href='file:///c%3A/Users/PC/anaconda3/lib/site-packages/tensorflow/python/eager/def_function.py?line=946'>947</a>\u001b[0m   \u001b[39mreturn\u001b[39;00m \u001b[39mself\u001b[39m\u001b[39m.\u001b[39m_stateless_fn(\u001b[39m*\u001b[39margs, \u001b[39m*\u001b[39m\u001b[39m*\u001b[39mkwds)  \u001b[39m# pylint: disable=not-callable\u001b[39;00m\n\u001b[0;32m    <a href='file:///c%3A/Users/PC/anaconda3/lib/site-packages/tensorflow/python/eager/def_function.py?line=947'>948</a>\u001b[0m \u001b[39melif\u001b[39;00m \u001b[39mself\u001b[39m\u001b[39m.\u001b[39m_stateful_fn \u001b[39mis\u001b[39;00m \u001b[39mnot\u001b[39;00m \u001b[39mNone\u001b[39;00m:\n\u001b[0;32m    <a href='file:///c%3A/Users/PC/anaconda3/lib/site-packages/tensorflow/python/eager/def_function.py?line=948'>949</a>\u001b[0m   \u001b[39m# Release the lock early so that multiple threads can perform the call\u001b[39;00m\n\u001b[0;32m    <a href='file:///c%3A/Users/PC/anaconda3/lib/site-packages/tensorflow/python/eager/def_function.py?line=949'>950</a>\u001b[0m   \u001b[39m# in parallel.\u001b[39;00m\n\u001b[0;32m    <a href='file:///c%3A/Users/PC/anaconda3/lib/site-packages/tensorflow/python/eager/def_function.py?line=950'>951</a>\u001b[0m   \u001b[39mself\u001b[39m\u001b[39m.\u001b[39m_lock\u001b[39m.\u001b[39mrelease()\n",
      "File \u001b[1;32mc:\\Users\\PC\\anaconda3\\lib\\site-packages\\tensorflow\\python\\eager\\function.py:2956\u001b[0m, in \u001b[0;36mFunction.__call__\u001b[1;34m(self, *args, **kwargs)\u001b[0m\n\u001b[0;32m   <a href='file:///c%3A/Users/PC/anaconda3/lib/site-packages/tensorflow/python/eager/function.py?line=2952'>2953</a>\u001b[0m \u001b[39mwith\u001b[39;00m \u001b[39mself\u001b[39m\u001b[39m.\u001b[39m_lock:\n\u001b[0;32m   <a href='file:///c%3A/Users/PC/anaconda3/lib/site-packages/tensorflow/python/eager/function.py?line=2953'>2954</a>\u001b[0m   (graph_function,\n\u001b[0;32m   <a href='file:///c%3A/Users/PC/anaconda3/lib/site-packages/tensorflow/python/eager/function.py?line=2954'>2955</a>\u001b[0m    filtered_flat_args) \u001b[39m=\u001b[39m \u001b[39mself\u001b[39m\u001b[39m.\u001b[39m_maybe_define_function(args, kwargs)\n\u001b[1;32m-> <a href='file:///c%3A/Users/PC/anaconda3/lib/site-packages/tensorflow/python/eager/function.py?line=2955'>2956</a>\u001b[0m \u001b[39mreturn\u001b[39;00m graph_function\u001b[39m.\u001b[39;49m_call_flat(\n\u001b[0;32m   <a href='file:///c%3A/Users/PC/anaconda3/lib/site-packages/tensorflow/python/eager/function.py?line=2956'>2957</a>\u001b[0m     filtered_flat_args, captured_inputs\u001b[39m=\u001b[39;49mgraph_function\u001b[39m.\u001b[39;49mcaptured_inputs)\n",
      "File \u001b[1;32mc:\\Users\\PC\\anaconda3\\lib\\site-packages\\tensorflow\\python\\eager\\function.py:1853\u001b[0m, in \u001b[0;36mConcreteFunction._call_flat\u001b[1;34m(self, args, captured_inputs, cancellation_manager)\u001b[0m\n\u001b[0;32m   <a href='file:///c%3A/Users/PC/anaconda3/lib/site-packages/tensorflow/python/eager/function.py?line=1848'>1849</a>\u001b[0m possible_gradient_type \u001b[39m=\u001b[39m gradients_util\u001b[39m.\u001b[39mPossibleTapeGradientTypes(args)\n\u001b[0;32m   <a href='file:///c%3A/Users/PC/anaconda3/lib/site-packages/tensorflow/python/eager/function.py?line=1849'>1850</a>\u001b[0m \u001b[39mif\u001b[39;00m (possible_gradient_type \u001b[39m==\u001b[39m gradients_util\u001b[39m.\u001b[39mPOSSIBLE_GRADIENT_TYPES_NONE\n\u001b[0;32m   <a href='file:///c%3A/Users/PC/anaconda3/lib/site-packages/tensorflow/python/eager/function.py?line=1850'>1851</a>\u001b[0m     \u001b[39mand\u001b[39;00m executing_eagerly):\n\u001b[0;32m   <a href='file:///c%3A/Users/PC/anaconda3/lib/site-packages/tensorflow/python/eager/function.py?line=1851'>1852</a>\u001b[0m   \u001b[39m# No tape is watching; skip to running the function.\u001b[39;00m\n\u001b[1;32m-> <a href='file:///c%3A/Users/PC/anaconda3/lib/site-packages/tensorflow/python/eager/function.py?line=1852'>1853</a>\u001b[0m   \u001b[39mreturn\u001b[39;00m \u001b[39mself\u001b[39m\u001b[39m.\u001b[39m_build_call_outputs(\u001b[39mself\u001b[39;49m\u001b[39m.\u001b[39;49m_inference_function\u001b[39m.\u001b[39;49mcall(\n\u001b[0;32m   <a href='file:///c%3A/Users/PC/anaconda3/lib/site-packages/tensorflow/python/eager/function.py?line=1853'>1854</a>\u001b[0m       ctx, args, cancellation_manager\u001b[39m=\u001b[39;49mcancellation_manager))\n\u001b[0;32m   <a href='file:///c%3A/Users/PC/anaconda3/lib/site-packages/tensorflow/python/eager/function.py?line=1854'>1855</a>\u001b[0m forward_backward \u001b[39m=\u001b[39m \u001b[39mself\u001b[39m\u001b[39m.\u001b[39m_select_forward_and_backward_functions(\n\u001b[0;32m   <a href='file:///c%3A/Users/PC/anaconda3/lib/site-packages/tensorflow/python/eager/function.py?line=1855'>1856</a>\u001b[0m     args,\n\u001b[0;32m   <a href='file:///c%3A/Users/PC/anaconda3/lib/site-packages/tensorflow/python/eager/function.py?line=1856'>1857</a>\u001b[0m     possible_gradient_type,\n\u001b[0;32m   <a href='file:///c%3A/Users/PC/anaconda3/lib/site-packages/tensorflow/python/eager/function.py?line=1857'>1858</a>\u001b[0m     executing_eagerly)\n\u001b[0;32m   <a href='file:///c%3A/Users/PC/anaconda3/lib/site-packages/tensorflow/python/eager/function.py?line=1858'>1859</a>\u001b[0m forward_function, args_with_tangents \u001b[39m=\u001b[39m forward_backward\u001b[39m.\u001b[39mforward()\n",
      "File \u001b[1;32mc:\\Users\\PC\\anaconda3\\lib\\site-packages\\tensorflow\\python\\eager\\function.py:499\u001b[0m, in \u001b[0;36m_EagerDefinedFunction.call\u001b[1;34m(self, ctx, args, cancellation_manager)\u001b[0m\n\u001b[0;32m    <a href='file:///c%3A/Users/PC/anaconda3/lib/site-packages/tensorflow/python/eager/function.py?line=496'>497</a>\u001b[0m \u001b[39mwith\u001b[39;00m _InterpolateFunctionError(\u001b[39mself\u001b[39m):\n\u001b[0;32m    <a href='file:///c%3A/Users/PC/anaconda3/lib/site-packages/tensorflow/python/eager/function.py?line=497'>498</a>\u001b[0m   \u001b[39mif\u001b[39;00m cancellation_manager \u001b[39mis\u001b[39;00m \u001b[39mNone\u001b[39;00m:\n\u001b[1;32m--> <a href='file:///c%3A/Users/PC/anaconda3/lib/site-packages/tensorflow/python/eager/function.py?line=498'>499</a>\u001b[0m     outputs \u001b[39m=\u001b[39m execute\u001b[39m.\u001b[39;49mexecute(\n\u001b[0;32m    <a href='file:///c%3A/Users/PC/anaconda3/lib/site-packages/tensorflow/python/eager/function.py?line=499'>500</a>\u001b[0m         \u001b[39mstr\u001b[39;49m(\u001b[39mself\u001b[39;49m\u001b[39m.\u001b[39;49msignature\u001b[39m.\u001b[39;49mname),\n\u001b[0;32m    <a href='file:///c%3A/Users/PC/anaconda3/lib/site-packages/tensorflow/python/eager/function.py?line=500'>501</a>\u001b[0m         num_outputs\u001b[39m=\u001b[39;49m\u001b[39mself\u001b[39;49m\u001b[39m.\u001b[39;49m_num_outputs,\n\u001b[0;32m    <a href='file:///c%3A/Users/PC/anaconda3/lib/site-packages/tensorflow/python/eager/function.py?line=501'>502</a>\u001b[0m         inputs\u001b[39m=\u001b[39;49margs,\n\u001b[0;32m    <a href='file:///c%3A/Users/PC/anaconda3/lib/site-packages/tensorflow/python/eager/function.py?line=502'>503</a>\u001b[0m         attrs\u001b[39m=\u001b[39;49mattrs,\n\u001b[0;32m    <a href='file:///c%3A/Users/PC/anaconda3/lib/site-packages/tensorflow/python/eager/function.py?line=503'>504</a>\u001b[0m         ctx\u001b[39m=\u001b[39;49mctx)\n\u001b[0;32m    <a href='file:///c%3A/Users/PC/anaconda3/lib/site-packages/tensorflow/python/eager/function.py?line=504'>505</a>\u001b[0m   \u001b[39melse\u001b[39;00m:\n\u001b[0;32m    <a href='file:///c%3A/Users/PC/anaconda3/lib/site-packages/tensorflow/python/eager/function.py?line=505'>506</a>\u001b[0m     outputs \u001b[39m=\u001b[39m execute\u001b[39m.\u001b[39mexecute_with_cancellation(\n\u001b[0;32m    <a href='file:///c%3A/Users/PC/anaconda3/lib/site-packages/tensorflow/python/eager/function.py?line=506'>507</a>\u001b[0m         \u001b[39mstr\u001b[39m(\u001b[39mself\u001b[39m\u001b[39m.\u001b[39msignature\u001b[39m.\u001b[39mname),\n\u001b[0;32m    <a href='file:///c%3A/Users/PC/anaconda3/lib/site-packages/tensorflow/python/eager/function.py?line=507'>508</a>\u001b[0m         num_outputs\u001b[39m=\u001b[39m\u001b[39mself\u001b[39m\u001b[39m.\u001b[39m_num_outputs,\n\u001b[1;32m   (...)\u001b[0m\n\u001b[0;32m    <a href='file:///c%3A/Users/PC/anaconda3/lib/site-packages/tensorflow/python/eager/function.py?line=510'>511</a>\u001b[0m         ctx\u001b[39m=\u001b[39mctx,\n\u001b[0;32m    <a href='file:///c%3A/Users/PC/anaconda3/lib/site-packages/tensorflow/python/eager/function.py?line=511'>512</a>\u001b[0m         cancellation_manager\u001b[39m=\u001b[39mcancellation_manager)\n",
      "File \u001b[1;32mc:\\Users\\PC\\anaconda3\\lib\\site-packages\\tensorflow\\python\\eager\\execute.py:54\u001b[0m, in \u001b[0;36mquick_execute\u001b[1;34m(op_name, num_outputs, inputs, attrs, ctx, name)\u001b[0m\n\u001b[0;32m     <a href='file:///c%3A/Users/PC/anaconda3/lib/site-packages/tensorflow/python/eager/execute.py?line=51'>52</a>\u001b[0m \u001b[39mtry\u001b[39;00m:\n\u001b[0;32m     <a href='file:///c%3A/Users/PC/anaconda3/lib/site-packages/tensorflow/python/eager/execute.py?line=52'>53</a>\u001b[0m   ctx\u001b[39m.\u001b[39mensure_initialized()\n\u001b[1;32m---> <a href='file:///c%3A/Users/PC/anaconda3/lib/site-packages/tensorflow/python/eager/execute.py?line=53'>54</a>\u001b[0m   tensors \u001b[39m=\u001b[39m pywrap_tfe\u001b[39m.\u001b[39;49mTFE_Py_Execute(ctx\u001b[39m.\u001b[39;49m_handle, device_name, op_name,\n\u001b[0;32m     <a href='file:///c%3A/Users/PC/anaconda3/lib/site-packages/tensorflow/python/eager/execute.py?line=54'>55</a>\u001b[0m                                       inputs, attrs, num_outputs)\n\u001b[0;32m     <a href='file:///c%3A/Users/PC/anaconda3/lib/site-packages/tensorflow/python/eager/execute.py?line=55'>56</a>\u001b[0m \u001b[39mexcept\u001b[39;00m core\u001b[39m.\u001b[39m_NotOkStatusException \u001b[39mas\u001b[39;00m e:\n\u001b[0;32m     <a href='file:///c%3A/Users/PC/anaconda3/lib/site-packages/tensorflow/python/eager/execute.py?line=56'>57</a>\u001b[0m   \u001b[39mif\u001b[39;00m name \u001b[39mis\u001b[39;00m \u001b[39mnot\u001b[39;00m \u001b[39mNone\u001b[39;00m:\n",
      "\u001b[1;31mKeyboardInterrupt\u001b[0m: "
     ]
    }
   ],
   "source": [
    "keras.backend.clear_session()\n",
    "\n",
    "my_lenet_5_selu_model = keras.models.Sequential([\n",
    "    keras.layers.Conv2D(32, kernel_size=5, strides=1,  activation=\"selu\", kernel_initializer=\"lecun_normal\", input_shape=train_x[0].shape, padding='same'),\n",
    "    keras.layers.BatchNormalization(),\n",
    "    keras.layers.Conv2D(128, kernel_size=3, strides=1, activation=\"selu\", kernel_initializer=\"lecun_normal\", padding='valid'),\n",
    "    keras.layers.BatchNormalization(),\n",
    "    keras.layers.Dropout(0.3),\n",
    "    keras.layers.GlobalAveragePooling2D(),\n",
    "    keras.layers.Flatten(),\n",
    "    keras.layers.Dense(62, activation='softmax')\n",
    "])\n",
    "\n",
    "my_lenet_5_selu_model.compile(optimizer='adam', loss=keras.losses.categorical_crossentropy, metrics=['accuracy'])\n",
    "\n",
    "early_stopping_cb = keras.callbacks.EarlyStopping(patience=10, restore_best_weights=True)\n",
    "model_checkpoint_cb = keras.callbacks.ModelCheckpoint(\"my_lenet5_emnist_model.h5\", save_best_only=True)\n",
    "\n",
    "my_lenet_5_selu_model.fit(train_x, train_y, epochs=100, validation_data=(val_x, val_y), callbacks=[early_stopping_cb, model_checkpoint_cb])\n",
    "\n",
    "my_lenet_5_selu_model.evaluate(test_x, test_y)"
   ]
  },
  {
   "cell_type": "code",
   "execution_count": null,
   "metadata": {},
   "outputs": [],
   "source": []
  }
 ],
 "metadata": {
  "interpreter": {
   "hash": "1cca9558bc5ad879ec93cc030b157d75f18267527c60932cecaace349eef54dd"
  },
  "kernelspec": {
   "display_name": "Python 3.9.7 ('base')",
   "language": "python",
   "name": "python3"
  },
  "language_info": {
   "codemirror_mode": {
    "name": "ipython",
    "version": 3
   },
   "file_extension": ".py",
   "mimetype": "text/x-python",
   "name": "python",
   "nbconvert_exporter": "python",
   "pygments_lexer": "ipython3",
   "version": "3.9.7"
  },
  "orig_nbformat": 4
 },
 "nbformat": 4,
 "nbformat_minor": 2
}
