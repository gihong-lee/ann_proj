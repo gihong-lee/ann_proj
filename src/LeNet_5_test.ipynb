{
 "cells": [
  {
   "cell_type": "markdown",
   "metadata": {},
   "source": [
    "IMPORTS & PREPRODUCTION"
   ]
  },
  {
   "cell_type": "code",
   "execution_count": 2,
   "metadata": {},
   "outputs": [
    {
     "name": "stdout",
     "output_type": "stream",
     "text": [
      "GPU found\n"
     ]
    }
   ],
   "source": [
    "import os\n",
    "import tensorflow as tf\n",
    "\n",
    "#os.environ['CUDA_VISIBLE_DEVICES'] = '-1'\n",
    "\n",
    "if tf.test.gpu_device_name():\n",
    "    print('GPU found')\n",
    "else:\n",
    "    print(\"No GPU found\")"
   ]
  },
  {
   "cell_type": "code",
   "execution_count": 3,
   "metadata": {},
   "outputs": [],
   "source": [
    "import tensorflow as tf\n",
    "from tensorflow import keras as keras\n",
    "from sklearn.model_selection import train_test_split\n",
    "from sklearn.preprocessing import OneHotEncoder\n",
    "import numpy as np\n",
    "import pandas as pd\n",
    "from matplotlib import pyplot as plt"
   ]
  },
  {
   "cell_type": "code",
   "execution_count": 4,
   "metadata": {},
   "outputs": [],
   "source": [
    "import wandb\n",
    "##wandb.init(project=\"LeNet_5_test\", entity=\"hyunseokerikjung\")"
   ]
  },
  {
   "cell_type": "markdown",
   "metadata": {},
   "source": [
    "Data Processing"
   ]
  },
  {
   "cell_type": "code",
   "execution_count": 5,
   "metadata": {},
   "outputs": [],
   "source": [
    "data = pd.read_csv('emnist-byclass-mapping.txt', sep=\" \", header=None)\n",
    "data.columns = ['Target','ASCII']\n",
    "\n",
    "col=[]\n",
    "for i in data.ASCII.tolist():\n",
    "    col.append(chr(i))\n",
    "\n",
    "data['ASCII_Target'] = pd.Series(col)"
   ]
  },
  {
   "cell_type": "code",
   "execution_count": 6,
   "metadata": {},
   "outputs": [],
   "source": [
    "test_df = pd.read_csv('emnist-byclass-test.csv/emnist-byclass-test.csv')\n",
    "test_df.rename(columns={'18':'Target'}, inplace=True)\n",
    "\n",
    "# test_df=pd.merge(test_df, data, how='left', on='Target')\n",
    "# test_df=test_df.drop(['Target','ASCII'],axis=1)\n",
    "# test_df.rename(columns={'ASCII_Target':'Target'}, inplace=True)"
   ]
  },
  {
   "cell_type": "code",
   "execution_count": 7,
   "metadata": {},
   "outputs": [],
   "source": [
    "train_df = pd.read_csv('emnist-byclass-train.csv/emnist-byclass-train.csv')\n",
    "train_df.rename(columns={'35':'Target'}, inplace=True)\n",
    "\n",
    "# train_df=pd.merge(train_df, data, how='left', on='Target')\n",
    "# train_df=train_df.drop(['Target','ASCII'],axis=1)\n",
    "# train_df.rename(columns={'ASCII_Target':'Target'}, inplace=True)"
   ]
  },
  {
   "cell_type": "code",
   "execution_count": 8,
   "metadata": {},
   "outputs": [],
   "source": [
    "train_y = np.array(train_df.pop('Target'))\n",
    "train_x = train_df\n",
    "test_y = np.array(test_df.pop('Target'))\n",
    "test_x = test_df\n",
    "\n",
    "train_y = keras.utils.to_categorical(train_y)\n",
    "test_y = keras.utils.to_categorical(test_y)\n",
    "\n",
    "train_x = train_x / 255.0\n",
    "test_x = test_x / 255.0\n",
    "\n",
    "train_x = train_x.values.reshape([-1, 28, 28, 1])\n",
    "test_x = test_x.values.reshape([-1, 28, 28, 1])\n",
    "\n",
    "train_x, val_x, train_y, val_y = train_test_split(train_x, train_y, test_size=0.2, random_state=42)"
   ]
  },
  {
   "cell_type": "markdown",
   "metadata": {},
   "source": [
    "MODELS"
   ]
  },
  {
   "cell_type": "markdown",
   "metadata": {},
   "source": [
    "Original LeNet_5"
   ]
  },
  {
   "cell_type": "code",
   "execution_count": 13,
   "metadata": {},
   "outputs": [],
   "source": [
    "lenet_5_model = keras.models.Sequential([\n",
    "    keras.layers.Conv2D(6, kernel_size=5, strides=1,  activation='tanh', input_shape=train_x[0].shape, padding='same'),\n",
    "    keras.layers.AveragePooling2D(),\n",
    "    keras.layers.Conv2D(16, kernel_size=5, strides=1, activation='tanh', padding='valid'),\n",
    "    keras.layers.AveragePooling2D(),\n",
    "    keras.layers.Conv2D(120, kernel_size=5, strides=1, activation='tanh', padding='valid'),\n",
    "    keras.layers.Flatten(),   \n",
    "    keras.layers.Dense(84, activation='tanh'),\n",
    "    keras.layers.Dense(62, activation='softmax')\n",
    "])"
   ]
  },
  {
   "cell_type": "code",
   "execution_count": 16,
   "metadata": {},
   "outputs": [],
   "source": [
    "lenet_5_model.compile(optimizer='adam', loss=keras.losses.categorical_crossentropy, metrics=['accuracy'])"
   ]
  },
  {
   "cell_type": "code",
   "execution_count": 17,
   "metadata": {},
   "outputs": [
    {
     "name": "stdout",
     "output_type": "stream",
     "text": [
      "Epoch 1/100\n",
      "17449/17449 [==============================] - 56s 3ms/step - loss: 0.5870 - accuracy: 0.8065 - val_loss: 0.4783 - val_accuracy: 0.8319\n",
      "Epoch 2/100\n",
      "17449/17449 [==============================] - 55s 3ms/step - loss: 0.4565 - accuracy: 0.8389 - val_loss: 0.4584 - val_accuracy: 0.8394\n",
      "Epoch 3/100\n",
      "17449/17449 [==============================] - 55s 3ms/step - loss: 0.4365 - accuracy: 0.8444 - val_loss: 0.4548 - val_accuracy: 0.8381\n",
      "Epoch 4/100\n",
      "17449/17449 [==============================] - 53s 3ms/step - loss: 0.4256 - accuracy: 0.8468 - val_loss: 0.4392 - val_accuracy: 0.8435\n",
      "Epoch 5/100\n",
      "17449/17449 [==============================] - 55s 3ms/step - loss: 0.4182 - accuracy: 0.8490 - val_loss: 0.4350 - val_accuracy: 0.8454\n",
      "Epoch 6/100\n",
      "17449/17449 [==============================] - 53s 3ms/step - loss: 0.4133 - accuracy: 0.8503 - val_loss: 0.4357 - val_accuracy: 0.8454\n",
      "Epoch 7/100\n",
      "17449/17449 [==============================] - 55s 3ms/step - loss: 0.4089 - accuracy: 0.8513 - val_loss: 0.4364 - val_accuracy: 0.8444\n",
      "Epoch 8/100\n",
      "17449/17449 [==============================] - 54s 3ms/step - loss: 0.4068 - accuracy: 0.8520 - val_loss: 0.4324 - val_accuracy: 0.8466\n",
      "Epoch 9/100\n",
      "17449/17449 [==============================] - 55s 3ms/step - loss: 0.4034 - accuracy: 0.8529 - val_loss: 0.4298 - val_accuracy: 0.8469\n",
      "Epoch 10/100\n",
      "17449/17449 [==============================] - 54s 3ms/step - loss: 0.4004 - accuracy: 0.8537 - val_loss: 0.4292 - val_accuracy: 0.8471\n",
      "Epoch 11/100\n",
      "17449/17449 [==============================] - 55s 3ms/step - loss: 0.3992 - accuracy: 0.8541 - val_loss: 0.4281 - val_accuracy: 0.8472\n",
      "Epoch 12/100\n",
      "17449/17449 [==============================] - 54s 3ms/step - loss: 0.3978 - accuracy: 0.8546 - val_loss: 0.4309 - val_accuracy: 0.8467\n",
      "Epoch 13/100\n",
      "17449/17449 [==============================] - 53s 3ms/step - loss: 0.3962 - accuracy: 0.8551 - val_loss: 0.4294 - val_accuracy: 0.8420\n",
      "Epoch 14/100\n",
      "17449/17449 [==============================] - 54s 3ms/step - loss: 0.3950 - accuracy: 0.8555 - val_loss: 0.4334 - val_accuracy: 0.8437\n",
      "Epoch 15/100\n",
      "17449/17449 [==============================] - 55s 3ms/step - loss: 0.3930 - accuracy: 0.8560 - val_loss: 0.4266 - val_accuracy: 0.8487\n",
      "Epoch 16/100\n",
      "17449/17449 [==============================] - 56s 3ms/step - loss: 0.3929 - accuracy: 0.8559 - val_loss: 0.4269 - val_accuracy: 0.8486\n",
      "Epoch 17/100\n",
      "17449/17449 [==============================] - 56s 3ms/step - loss: 0.3924 - accuracy: 0.8560 - val_loss: 0.4275 - val_accuracy: 0.8483\n",
      "Epoch 18/100\n",
      "17449/17449 [==============================] - 55s 3ms/step - loss: 0.3907 - accuracy: 0.8568 - val_loss: 0.4296 - val_accuracy: 0.8481\n",
      "Epoch 19/100\n",
      "17449/17449 [==============================] - 54s 3ms/step - loss: 0.3890 - accuracy: 0.8567 - val_loss: 0.4299 - val_accuracy: 0.8442\n",
      "Epoch 20/100\n",
      "17449/17449 [==============================] - 54s 3ms/step - loss: 0.3885 - accuracy: 0.8572 - val_loss: 0.4261 - val_accuracy: 0.8479\n",
      "Epoch 21/100\n",
      "17449/17449 [==============================] - 54s 3ms/step - loss: 0.3879 - accuracy: 0.8575 - val_loss: 0.4286 - val_accuracy: 0.8491\n",
      "Epoch 22/100\n",
      "17449/17449 [==============================] - 55s 3ms/step - loss: 0.3874 - accuracy: 0.8568 - val_loss: 0.4272 - val_accuracy: 0.8485\n",
      "Epoch 23/100\n",
      "17449/17449 [==============================] - 56s 3ms/step - loss: 0.3865 - accuracy: 0.8576 - val_loss: 0.4305 - val_accuracy: 0.8476\n",
      "Epoch 24/100\n",
      "17449/17449 [==============================] - 53s 3ms/step - loss: 0.3855 - accuracy: 0.8578 - val_loss: 0.4291 - val_accuracy: 0.8484\n",
      "Epoch 25/100\n",
      "17449/17449 [==============================] - 55s 3ms/step - loss: 0.3859 - accuracy: 0.8577 - val_loss: 0.4292 - val_accuracy: 0.8487\n",
      "Epoch 26/100\n",
      "17449/17449 [==============================] - 55s 3ms/step - loss: 0.3863 - accuracy: 0.8576 - val_loss: 0.4282 - val_accuracy: 0.8465\n",
      "Epoch 27/100\n",
      "17449/17449 [==============================] - 54s 3ms/step - loss: 0.3853 - accuracy: 0.8578 - val_loss: 0.4255 - val_accuracy: 0.8499\n",
      "Epoch 28/100\n",
      "17449/17449 [==============================] - 56s 3ms/step - loss: 0.3848 - accuracy: 0.8581 - val_loss: 0.4289 - val_accuracy: 0.8496\n",
      "Epoch 29/100\n",
      "17449/17449 [==============================] - 54s 3ms/step - loss: 0.3848 - accuracy: 0.8581 - val_loss: 0.4256 - val_accuracy: 0.8494\n",
      "Epoch 30/100\n",
      "17449/17449 [==============================] - 57s 3ms/step - loss: 0.3836 - accuracy: 0.8583 - val_loss: 0.4280 - val_accuracy: 0.8483\n",
      "Epoch 31/100\n",
      "17449/17449 [==============================] - 57s 3ms/step - loss: 0.3838 - accuracy: 0.8581 - val_loss: 0.4293 - val_accuracy: 0.8484\n",
      "Epoch 32/100\n",
      "17449/17449 [==============================] - 56s 3ms/step - loss: 0.3832 - accuracy: 0.8585 - val_loss: 0.4347 - val_accuracy: 0.8470\n",
      "Epoch 33/100\n",
      "17449/17449 [==============================] - 56s 3ms/step - loss: 0.3829 - accuracy: 0.8586 - val_loss: 0.4308 - val_accuracy: 0.8483\n",
      "Epoch 34/100\n",
      "17449/17449 [==============================] - 56s 3ms/step - loss: 0.3830 - accuracy: 0.8581 - val_loss: 0.4303 - val_accuracy: 0.8466\n",
      "Epoch 35/100\n",
      "17449/17449 [==============================] - 54s 3ms/step - loss: 0.3820 - accuracy: 0.8585 - val_loss: 0.4343 - val_accuracy: 0.8478\n",
      "Epoch 36/100\n",
      "17449/17449 [==============================] - 56s 3ms/step - loss: 0.3814 - accuracy: 0.8588 - val_loss: 0.4277 - val_accuracy: 0.8491\n",
      "Epoch 37/100\n",
      "17449/17449 [==============================] - 55s 3ms/step - loss: 0.3815 - accuracy: 0.8589 - val_loss: 0.4319 - val_accuracy: 0.8465\n"
     ]
    },
    {
     "data": {
      "text/plain": [
       "<keras.callbacks.History at 0x16078f94160>"
      ]
     },
     "execution_count": 17,
     "metadata": {},
     "output_type": "execute_result"
    }
   ],
   "source": [
    "early_stopping_cb = keras.callbacks.EarlyStopping(patience=10, restore_best_weights=True)\n",
    "model_checkpoint_cb = keras.callbacks.ModelCheckpoint(\"my_lenet5_emnist_model.h5\", save_best_only=True)\n",
    "\n",
    "lenet_5_model.fit(train_x, train_y, epochs=100, validation_data=(val_x, val_y), callbacks=[early_stopping_cb])"
   ]
  },
  {
   "cell_type": "code",
   "execution_count": 18,
   "metadata": {},
   "outputs": [
    {
     "name": "stdout",
     "output_type": "stream",
     "text": [
      "3636/3636 [==============================] - 6s 2ms/step - loss: 0.4194 - accuracy: 0.8510\n"
     ]
    },
    {
     "data": {
      "text/plain": [
       "[0.41943299770355225, 0.8510342240333557]"
      ]
     },
     "execution_count": 18,
     "metadata": {},
     "output_type": "execute_result"
    }
   ],
   "source": [
    "lenet_5_model.evaluate(test_x, test_y)"
   ]
  },
  {
   "cell_type": "markdown",
   "metadata": {},
   "source": [
    "LeNet_5_SeLU\n",
    "\n",
    "SeLU performs better(speed & accuracy)"
   ]
  },
  {
   "cell_type": "code",
   "execution_count": 9,
   "metadata": {},
   "outputs": [
    {
     "name": "stdout",
     "output_type": "stream",
     "text": [
      "Epoch 1/100\n",
      "17449/17449 [==============================] - 56s 3ms/step - loss: 0.5854 - accuracy: 0.8044 - val_loss: 0.4761 - val_accuracy: 0.8315\n",
      "Epoch 2/100\n",
      "17449/17449 [==============================] - 54s 3ms/step - loss: 0.4568 - accuracy: 0.8375 - val_loss: 0.4583 - val_accuracy: 0.8375\n",
      "Epoch 3/100\n",
      "17449/17449 [==============================] - 54s 3ms/step - loss: 0.4356 - accuracy: 0.8436 - val_loss: 0.4438 - val_accuracy: 0.8408\n",
      "Epoch 4/100\n",
      "17449/17449 [==============================] - 55s 3ms/step - loss: 0.4244 - accuracy: 0.8468 - val_loss: 0.4442 - val_accuracy: 0.8469\n",
      "Epoch 5/100\n",
      "17449/17449 [==============================] - 56s 3ms/step - loss: 0.4156 - accuracy: 0.8492 - val_loss: 0.4279 - val_accuracy: 0.8490\n",
      "Epoch 6/100\n",
      "17449/17449 [==============================] - 57s 3ms/step - loss: 0.4105 - accuracy: 0.8508 - val_loss: 0.4271 - val_accuracy: 0.8450\n",
      "Epoch 7/100\n",
      "17449/17449 [==============================] - 56s 3ms/step - loss: 0.4061 - accuracy: 0.8518 - val_loss: 0.4355 - val_accuracy: 0.8450\n",
      "Epoch 8/100\n",
      "17449/17449 [==============================] - 57s 3ms/step - loss: 0.4014 - accuracy: 0.8535 - val_loss: 0.4267 - val_accuracy: 0.8495\n",
      "Epoch 9/100\n",
      "17449/17449 [==============================] - 56s 3ms/step - loss: 0.3985 - accuracy: 0.8537 - val_loss: 0.4305 - val_accuracy: 0.8479\n",
      "Epoch 10/100\n",
      "17449/17449 [==============================] - 54s 3ms/step - loss: 0.3962 - accuracy: 0.8544 - val_loss: 0.4373 - val_accuracy: 0.8445\n",
      "Epoch 11/100\n",
      "17449/17449 [==============================] - 56s 3ms/step - loss: 0.3932 - accuracy: 0.8555 - val_loss: 0.4186 - val_accuracy: 0.8516\n",
      "Epoch 12/100\n",
      "17449/17449 [==============================] - 54s 3ms/step - loss: 0.3914 - accuracy: 0.8563 - val_loss: 0.4358 - val_accuracy: 0.8430\n",
      "Epoch 13/100\n",
      "17449/17449 [==============================] - 54s 3ms/step - loss: 0.3888 - accuracy: 0.8566 - val_loss: 0.4337 - val_accuracy: 0.8465\n",
      "Epoch 14/100\n",
      "17449/17449 [==============================] - 56s 3ms/step - loss: 0.3873 - accuracy: 0.8571 - val_loss: 0.4297 - val_accuracy: 0.8471\n",
      "Epoch 15/100\n",
      "17449/17449 [==============================] - 56s 3ms/step - loss: 0.3858 - accuracy: 0.8572 - val_loss: 0.4251 - val_accuracy: 0.8458\n",
      "Epoch 16/100\n",
      "17449/17449 [==============================] - 55s 3ms/step - loss: 0.3834 - accuracy: 0.8582 - val_loss: 0.4497 - val_accuracy: 0.8425\n",
      "Epoch 17/100\n",
      "17449/17449 [==============================] - 58s 3ms/step - loss: 0.3821 - accuracy: 0.8586 - val_loss: 0.4435 - val_accuracy: 0.8411\n",
      "Epoch 18/100\n",
      "17449/17449 [==============================] - 54s 3ms/step - loss: 0.3819 - accuracy: 0.8587 - val_loss: 0.4339 - val_accuracy: 0.8496\n",
      "Epoch 19/100\n",
      "17449/17449 [==============================] - 56s 3ms/step - loss: 0.3795 - accuracy: 0.8592 - val_loss: 0.4373 - val_accuracy: 0.8474\n",
      "Epoch 20/100\n",
      "17449/17449 [==============================] - 53s 3ms/step - loss: 0.3787 - accuracy: 0.8593 - val_loss: 0.4413 - val_accuracy: 0.8489\n",
      "Epoch 21/100\n",
      "17449/17449 [==============================] - 56s 3ms/step - loss: 0.3779 - accuracy: 0.8598 - val_loss: 0.4477 - val_accuracy: 0.8466\n",
      "3636/3636 [==============================] - 6s 2ms/step - loss: 0.4091 - accuracy: 0.8540\n"
     ]
    },
    {
     "data": {
      "text/plain": [
       "[0.40906521677970886, 0.8539571166038513]"
      ]
     },
     "execution_count": 9,
     "metadata": {},
     "output_type": "execute_result"
    }
   ],
   "source": [
    "keras.backend.clear_session()\n",
    "\n",
    "lenet_5_selu_model = keras.models.Sequential([\n",
    "    keras.layers.Conv2D(6, kernel_size=5, strides=1,  activation=\"selu\", kernel_initializer=\"lecun_normal\", input_shape=train_x[0].shape, padding='same'),\n",
    "    keras.layers.AveragePooling2D(),\n",
    "    keras.layers.Conv2D(16, kernel_size=5, strides=1, activation=\"selu\", kernel_initializer=\"lecun_normal\", padding='valid'),\n",
    "    keras.layers.AveragePooling2D(),\n",
    "    keras.layers.Conv2D(120, kernel_size=5, strides=1, activation=\"selu\", kernel_initializer=\"lecun_normal\", padding='valid'),\n",
    "    keras.layers.Flatten(),   \n",
    "    keras.layers.Dense(84, activation=\"selu\", kernel_initializer=\"lecun_normal\"),\n",
    "    keras.layers.Dense(62, activation='softmax')\n",
    "])\n",
    "\n",
    "lenet_5_selu_model.compile(optimizer='adam', loss=keras.losses.categorical_crossentropy, metrics=['accuracy'])\n",
    "\n",
    "early_stopping_cb = keras.callbacks.EarlyStopping(patience=10, restore_best_weights=True)\n",
    "model_checkpoint_cb = keras.callbacks.ModelCheckpoint(\"my_lenet5_emnist_model.h5\", save_best_only=True)\n",
    "\n",
    "lenet_5_selu_model.fit(train_x, train_y, epochs=100, validation_data=(val_x, val_y), callbacks=[early_stopping_cb])\n",
    "\n",
    "lenet_5_selu_model.evaluate(test_x, test_y)"
   ]
  },
  {
   "cell_type": "markdown",
   "metadata": {},
   "source": [
    "He Yanmei SeLU Lenet_5 model\n",
    "\n",
    "Lowers amount of parameters = lower inference time, less stable model"
   ]
  },
  {
   "cell_type": "code",
   "execution_count": 7,
   "metadata": {},
   "outputs": [
    {
     "name": "stdout",
     "output_type": "stream",
     "text": [
      "Epoch 1/100\n",
      "17449/17449 [==============================] - 59s 3ms/step - loss: 1.0427 - accuracy: 0.6946 - val_loss: 0.6979 - val_accuracy: 0.7794\n",
      "Epoch 2/100\n",
      "17449/17449 [==============================] - 52s 3ms/step - loss: 0.6480 - accuracy: 0.7906 - val_loss: 0.6001 - val_accuracy: 0.8030\n",
      "Epoch 3/100\n",
      "17449/17449 [==============================] - 53s 3ms/step - loss: 0.5862 - accuracy: 0.8074 - val_loss: 0.5815 - val_accuracy: 0.8102\n",
      "Epoch 4/100\n",
      "17449/17449 [==============================] - 52s 3ms/step - loss: 0.5567 - accuracy: 0.8155 - val_loss: 0.5578 - val_accuracy: 0.8155\n",
      "Epoch 5/100\n",
      "17449/17449 [==============================] - 53s 3ms/step - loss: 0.5374 - accuracy: 0.8207 - val_loss: 0.5401 - val_accuracy: 0.8202\n",
      "Epoch 6/100\n",
      "17449/17449 [==============================] - 53s 3ms/step - loss: 0.5239 - accuracy: 0.8247 - val_loss: 0.5326 - val_accuracy: 0.8222\n",
      "Epoch 7/100\n",
      "17449/17449 [==============================] - 53s 3ms/step - loss: 0.5149 - accuracy: 0.8263 - val_loss: 0.5428 - val_accuracy: 0.8187\n",
      "Epoch 8/100\n",
      "17449/17449 [==============================] - 52s 3ms/step - loss: 0.5072 - accuracy: 0.8285 - val_loss: 0.5114 - val_accuracy: 0.8289\n",
      "Epoch 9/100\n",
      "17449/17449 [==============================] - 52s 3ms/step - loss: 0.5011 - accuracy: 0.8301 - val_loss: 0.5147 - val_accuracy: 0.8283\n",
      "Epoch 10/100\n",
      "17449/17449 [==============================] - 53s 3ms/step - loss: 0.4963 - accuracy: 0.8315 - val_loss: 0.5132 - val_accuracy: 0.8282\n",
      "Epoch 11/100\n",
      "17449/17449 [==============================] - 53s 3ms/step - loss: 0.4916 - accuracy: 0.8330 - val_loss: 0.5015 - val_accuracy: 0.8314\n",
      "Epoch 12/100\n",
      "17449/17449 [==============================] - 52s 3ms/step - loss: 0.4877 - accuracy: 0.8338 - val_loss: 0.5068 - val_accuracy: 0.8292\n",
      "Epoch 13/100\n",
      "17449/17449 [==============================] - 52s 3ms/step - loss: 0.4846 - accuracy: 0.8343 - val_loss: 0.5022 - val_accuracy: 0.8311\n",
      "Epoch 14/100\n",
      "17449/17449 [==============================] - 53s 3ms/step - loss: 0.4817 - accuracy: 0.8352 - val_loss: 0.5108 - val_accuracy: 0.8267\n",
      "Epoch 15/100\n",
      "17449/17449 [==============================] - 52s 3ms/step - loss: 0.4790 - accuracy: 0.8359 - val_loss: 0.4946 - val_accuracy: 0.8329\n",
      "Epoch 16/100\n",
      "17449/17449 [==============================] - 52s 3ms/step - loss: 0.4764 - accuracy: 0.8366 - val_loss: 0.4936 - val_accuracy: 0.8321\n",
      "Epoch 17/100\n",
      "17449/17449 [==============================] - 53s 3ms/step - loss: 0.4743 - accuracy: 0.8376 - val_loss: 0.4899 - val_accuracy: 0.8347\n",
      "Epoch 18/100\n",
      "17449/17449 [==============================] - 52s 3ms/step - loss: 0.4716 - accuracy: 0.8380 - val_loss: 0.4928 - val_accuracy: 0.8330\n",
      "Epoch 19/100\n",
      "17449/17449 [==============================] - 53s 3ms/step - loss: 0.4700 - accuracy: 0.8385 - val_loss: 0.4888 - val_accuracy: 0.8342\n",
      "Epoch 20/100\n",
      "17449/17449 [==============================] - 53s 3ms/step - loss: 0.4683 - accuracy: 0.8392 - val_loss: 0.4887 - val_accuracy: 0.8344\n",
      "Epoch 21/100\n",
      "17449/17449 [==============================] - 52s 3ms/step - loss: 0.4664 - accuracy: 0.8396 - val_loss: 0.4860 - val_accuracy: 0.8359\n",
      "Epoch 22/100\n",
      "17449/17449 [==============================] - 52s 3ms/step - loss: 0.4648 - accuracy: 0.8398 - val_loss: 0.4832 - val_accuracy: 0.8359\n",
      "Epoch 23/100\n",
      "17449/17449 [==============================] - 53s 3ms/step - loss: 0.4632 - accuracy: 0.8407 - val_loss: 0.4827 - val_accuracy: 0.8343\n",
      "Epoch 24/100\n",
      "17449/17449 [==============================] - 52s 3ms/step - loss: 0.4616 - accuracy: 0.8411 - val_loss: 0.4905 - val_accuracy: 0.8339\n",
      "Epoch 25/100\n",
      "17449/17449 [==============================] - 53s 3ms/step - loss: 0.4603 - accuracy: 0.8412 - val_loss: 0.4841 - val_accuracy: 0.8364\n",
      "Epoch 26/100\n",
      "17449/17449 [==============================] - 54s 3ms/step - loss: 0.4593 - accuracy: 0.8415 - val_loss: 0.4822 - val_accuracy: 0.8358\n",
      "Epoch 27/100\n",
      "17449/17449 [==============================] - 51s 3ms/step - loss: 0.4578 - accuracy: 0.8418 - val_loss: 0.4851 - val_accuracy: 0.8355\n",
      "Epoch 28/100\n",
      "17449/17449 [==============================] - 52s 3ms/step - loss: 0.4566 - accuracy: 0.8422 - val_loss: 0.4773 - val_accuracy: 0.8372\n",
      "Epoch 29/100\n",
      "17449/17449 [==============================] - 54s 3ms/step - loss: 0.4555 - accuracy: 0.8426 - val_loss: 0.4787 - val_accuracy: 0.8375\n",
      "Epoch 30/100\n",
      "17449/17449 [==============================] - 53s 3ms/step - loss: 0.4545 - accuracy: 0.8428 - val_loss: 0.4794 - val_accuracy: 0.8358\n",
      "Epoch 31/100\n",
      "17449/17449 [==============================] - 54s 3ms/step - loss: 0.4536 - accuracy: 0.8432 - val_loss: 0.4791 - val_accuracy: 0.8370\n",
      "Epoch 32/100\n",
      "17449/17449 [==============================] - 53s 3ms/step - loss: 0.4524 - accuracy: 0.8436 - val_loss: 0.4774 - val_accuracy: 0.8347\n",
      "Epoch 33/100\n",
      "17449/17449 [==============================] - 53s 3ms/step - loss: 0.4514 - accuracy: 0.8439 - val_loss: 0.4804 - val_accuracy: 0.8355\n",
      "Epoch 34/100\n",
      "17449/17449 [==============================] - 52s 3ms/step - loss: 0.4506 - accuracy: 0.8439 - val_loss: 0.4722 - val_accuracy: 0.8388\n",
      "Epoch 35/100\n",
      "17449/17449 [==============================] - 54s 3ms/step - loss: 0.4495 - accuracy: 0.8443 - val_loss: 0.4778 - val_accuracy: 0.8367\n",
      "Epoch 36/100\n",
      "17449/17449 [==============================] - 52s 3ms/step - loss: 0.4489 - accuracy: 0.8443 - val_loss: 0.4727 - val_accuracy: 0.8393\n",
      "Epoch 37/100\n",
      "17449/17449 [==============================] - 54s 3ms/step - loss: 0.4478 - accuracy: 0.8445 - val_loss: 0.4709 - val_accuracy: 0.8391\n",
      "Epoch 38/100\n",
      "17449/17449 [==============================] - 52s 3ms/step - loss: 0.4469 - accuracy: 0.8450 - val_loss: 0.4776 - val_accuracy: 0.8360\n",
      "Epoch 39/100\n",
      "17449/17449 [==============================] - 53s 3ms/step - loss: 0.4462 - accuracy: 0.8450 - val_loss: 0.4720 - val_accuracy: 0.8385\n",
      "Epoch 40/100\n",
      "17449/17449 [==============================] - 54s 3ms/step - loss: 0.4453 - accuracy: 0.8457 - val_loss: 0.4727 - val_accuracy: 0.8383\n",
      "Epoch 41/100\n",
      "17449/17449 [==============================] - 53s 3ms/step - loss: 0.4446 - accuracy: 0.8454 - val_loss: 0.4767 - val_accuracy: 0.8373\n",
      "Epoch 42/100\n",
      "17449/17449 [==============================] - 53s 3ms/step - loss: 0.4442 - accuracy: 0.8459 - val_loss: 0.4789 - val_accuracy: 0.8365\n",
      "Epoch 43/100\n",
      "17449/17449 [==============================] - 53s 3ms/step - loss: 0.4431 - accuracy: 0.8456 - val_loss: 0.4710 - val_accuracy: 0.8385\n",
      "Epoch 44/100\n",
      "17449/17449 [==============================] - 53s 3ms/step - loss: 0.4424 - accuracy: 0.8462 - val_loss: 0.4680 - val_accuracy: 0.8398\n",
      "Epoch 45/100\n",
      "17449/17449 [==============================] - 50s 3ms/step - loss: 0.4422 - accuracy: 0.8461 - val_loss: 0.4772 - val_accuracy: 0.8363\n",
      "Epoch 46/100\n",
      "17449/17449 [==============================] - 52s 3ms/step - loss: 0.4416 - accuracy: 0.8461 - val_loss: 0.4715 - val_accuracy: 0.8381\n",
      "Epoch 47/100\n",
      "17449/17449 [==============================] - 53s 3ms/step - loss: 0.4405 - accuracy: 0.8468 - val_loss: 0.4710 - val_accuracy: 0.8397\n",
      "Epoch 48/100\n",
      "17449/17449 [==============================] - 51s 3ms/step - loss: 0.4401 - accuracy: 0.8466 - val_loss: 0.4732 - val_accuracy: 0.8396\n",
      "Epoch 49/100\n",
      "17449/17449 [==============================] - 52s 3ms/step - loss: 0.4395 - accuracy: 0.8469 - val_loss: 0.4690 - val_accuracy: 0.8417\n",
      "Epoch 50/100\n",
      "17449/17449 [==============================] - 51s 3ms/step - loss: 0.4388 - accuracy: 0.8467 - val_loss: 0.4686 - val_accuracy: 0.8397\n",
      "Epoch 51/100\n",
      "17449/17449 [==============================] - 51s 3ms/step - loss: 0.4386 - accuracy: 0.8472 - val_loss: 0.4699 - val_accuracy: 0.8404\n",
      "Epoch 52/100\n",
      "17449/17449 [==============================] - 52s 3ms/step - loss: 0.4376 - accuracy: 0.8471 - val_loss: 0.4703 - val_accuracy: 0.8399\n",
      "Epoch 53/100\n",
      "17449/17449 [==============================] - 49s 3ms/step - loss: 0.4372 - accuracy: 0.8476 - val_loss: 0.4736 - val_accuracy: 0.8393\n",
      "Epoch 54/100\n",
      "17449/17449 [==============================] - 52s 3ms/step - loss: 0.4369 - accuracy: 0.8474 - val_loss: 0.4686 - val_accuracy: 0.8395\n",
      "3636/3636 [==============================] - 5s 1ms/step - loss: 0.4634 - accuracy: 0.8403\n"
     ]
    },
    {
     "data": {
      "text/plain": [
       "[0.46336913108825684, 0.8403225541114807]"
      ]
     },
     "execution_count": 7,
     "metadata": {},
     "output_type": "execute_result"
    }
   ],
   "source": [
    "keras.backend.clear_session()\n",
    "\n",
    "lenet_5_improved_model = keras.models.Sequential([\n",
    "    keras.layers.Conv2D(32, kernel_size=5, strides=2, activation=\"selu\", kernel_initializer=\"lecun_normal\", input_shape=train_x[0].shape, padding='same'),\n",
    "    keras.layers.Conv2D(64, kernel_size=3, strides=2, activation=\"selu\", kernel_initializer=\"lecun_normal\", padding='valid'),\n",
    "    keras.layers.Conv2D(32, kernel_size=1, strides=1, activation=\"selu\", kernel_initializer=\"lecun_normal\", padding='valid'),\n",
    "    keras.layers.GlobalAveragePooling2D(),\n",
    "    keras.layers.Flatten(),\n",
    "    keras.layers.Dense(62, activation='softmax')\n",
    "])\n",
    "\n",
    "lenet_5_improved_model.compile(optimizer='adam', loss=keras.losses.categorical_crossentropy, metrics=['accuracy'])\n",
    "\n",
    "early_stopping_cb = keras.callbacks.EarlyStopping(patience=10, restore_best_weights=True)\n",
    "model_checkpoint_cb = keras.callbacks.ModelCheckpoint(\"my_lenet5_emnist_model.h5\", save_best_only=True)\n",
    "\n",
    "lenet_5_improved_model.fit(train_x, train_y, epochs=100, validation_data=(val_x, val_y), callbacks=[early_stopping_cb])\n",
    "\n",
    "lenet_5_improved_model.evaluate(test_x, test_y)"
   ]
  },
  {
   "cell_type": "markdown",
   "metadata": {},
   "source": [
    "Optimizing *without* touching the data\n",
    "\n",
    "With dropout = 86% test result"
   ]
  },
  {
   "cell_type": "code",
   "execution_count": 9,
   "metadata": {},
   "outputs": [
    {
     "name": "stdout",
     "output_type": "stream",
     "text": [
      "Epoch 1/100\n",
      "17449/17449 [==============================] - 73s 4ms/step - loss: 0.8504 - accuracy: 0.7501 - val_loss: 0.9767 - val_accuracy: 0.7233\n",
      "Epoch 2/100\n",
      "17449/17449 [==============================] - 67s 4ms/step - loss: 0.5608 - accuracy: 0.8156 - val_loss: 0.5921 - val_accuracy: 0.8051\n",
      "Epoch 3/100\n",
      "17449/17449 [==============================] - 67s 4ms/step - loss: 0.5261 - accuracy: 0.8247 - val_loss: 0.5292 - val_accuracy: 0.8175\n",
      "Epoch 4/100\n",
      "17449/17449 [==============================] - 67s 4ms/step - loss: 0.5066 - accuracy: 0.8302 - val_loss: 0.4950 - val_accuracy: 0.8318\n",
      "Epoch 5/100\n",
      "17449/17449 [==============================] - 67s 4ms/step - loss: 0.4941 - accuracy: 0.8330 - val_loss: 0.4744 - val_accuracy: 0.8396\n",
      "Epoch 6/100\n",
      "17449/17449 [==============================] - 67s 4ms/step - loss: 0.4850 - accuracy: 0.8358 - val_loss: 0.4822 - val_accuracy: 0.8344\n",
      "Epoch 7/100\n",
      "17449/17449 [==============================] - 67s 4ms/step - loss: 0.4769 - accuracy: 0.8378 - val_loss: 0.4725 - val_accuracy: 0.8387\n",
      "Epoch 8/100\n",
      "17449/17449 [==============================] - 65s 4ms/step - loss: 0.4719 - accuracy: 0.8393 - val_loss: 0.4656 - val_accuracy: 0.8403\n",
      "Epoch 9/100\n",
      "17449/17449 [==============================] - 62s 4ms/step - loss: 0.4667 - accuracy: 0.8408 - val_loss: 0.4565 - val_accuracy: 0.8407\n",
      "Epoch 10/100\n",
      "17449/17449 [==============================] - 62s 4ms/step - loss: 0.4624 - accuracy: 0.8421 - val_loss: 0.4490 - val_accuracy: 0.8447\n",
      "Epoch 11/100\n",
      "17449/17449 [==============================] - 62s 4ms/step - loss: 0.4594 - accuracy: 0.8427 - val_loss: 0.4515 - val_accuracy: 0.8436\n",
      "Epoch 12/100\n",
      "17449/17449 [==============================] - 62s 4ms/step - loss: 0.4555 - accuracy: 0.8440 - val_loss: 0.4341 - val_accuracy: 0.8491\n",
      "Epoch 13/100\n",
      "17449/17449 [==============================] - 62s 4ms/step - loss: 0.4525 - accuracy: 0.8446 - val_loss: 0.4286 - val_accuracy: 0.8512\n",
      "Epoch 14/100\n",
      "17449/17449 [==============================] - 62s 4ms/step - loss: 0.4491 - accuracy: 0.8454 - val_loss: 0.4322 - val_accuracy: 0.8491\n",
      "Epoch 15/100\n",
      "17449/17449 [==============================] - 62s 4ms/step - loss: 0.4468 - accuracy: 0.8463 - val_loss: 0.4303 - val_accuracy: 0.8498\n",
      "Epoch 16/100\n",
      "17449/17449 [==============================] - 62s 4ms/step - loss: 0.4443 - accuracy: 0.8466 - val_loss: 0.4212 - val_accuracy: 0.8541\n",
      "Epoch 17/100\n",
      "17449/17449 [==============================] - 62s 4ms/step - loss: 0.4423 - accuracy: 0.8475 - val_loss: 0.4309 - val_accuracy: 0.8508\n",
      "Epoch 18/100\n",
      "17449/17449 [==============================] - 62s 4ms/step - loss: 0.4405 - accuracy: 0.8476 - val_loss: 0.4250 - val_accuracy: 0.8520\n",
      "Epoch 19/100\n",
      "17449/17449 [==============================] - 62s 4ms/step - loss: 0.4395 - accuracy: 0.8480 - val_loss: 0.4272 - val_accuracy: 0.8506\n",
      "Epoch 20/100\n",
      "17449/17449 [==============================] - 62s 4ms/step - loss: 0.4367 - accuracy: 0.8487 - val_loss: 0.4193 - val_accuracy: 0.8555\n",
      "Epoch 21/100\n",
      "17449/17449 [==============================] - 62s 4ms/step - loss: 0.4354 - accuracy: 0.8493 - val_loss: 0.4159 - val_accuracy: 0.8549\n",
      "Epoch 22/100\n",
      "17449/17449 [==============================] - 62s 4ms/step - loss: 0.4341 - accuracy: 0.8493 - val_loss: 0.4189 - val_accuracy: 0.8553\n",
      "Epoch 23/100\n",
      "17449/17449 [==============================] - 62s 4ms/step - loss: 0.4328 - accuracy: 0.8498 - val_loss: 0.4305 - val_accuracy: 0.8481\n",
      "Epoch 24/100\n",
      "17449/17449 [==============================] - 62s 4ms/step - loss: 0.4312 - accuracy: 0.8505 - val_loss: 0.4116 - val_accuracy: 0.8565\n",
      "Epoch 25/100\n",
      "17449/17449 [==============================] - 62s 4ms/step - loss: 0.4296 - accuracy: 0.8508 - val_loss: 0.4093 - val_accuracy: 0.8577\n",
      "Epoch 26/100\n",
      "17449/17449 [==============================] - 62s 4ms/step - loss: 0.4291 - accuracy: 0.8506 - val_loss: 0.4137 - val_accuracy: 0.8575\n",
      "Epoch 27/100\n",
      "17449/17449 [==============================] - 62s 4ms/step - loss: 0.4278 - accuracy: 0.8511 - val_loss: 0.4179 - val_accuracy: 0.8559\n",
      "Epoch 28/100\n",
      "17449/17449 [==============================] - 62s 4ms/step - loss: 0.4270 - accuracy: 0.8515 - val_loss: 0.4079 - val_accuracy: 0.8578\n",
      "Epoch 29/100\n",
      "17449/17449 [==============================] - 62s 4ms/step - loss: 0.4260 - accuracy: 0.8520 - val_loss: 0.4087 - val_accuracy: 0.8579\n",
      "Epoch 30/100\n",
      "17449/17449 [==============================] - 62s 4ms/step - loss: 0.4250 - accuracy: 0.8519 - val_loss: 0.4139 - val_accuracy: 0.8554\n",
      "Epoch 31/100\n",
      "17449/17449 [==============================] - 62s 4ms/step - loss: 0.4233 - accuracy: 0.8523 - val_loss: 0.4087 - val_accuracy: 0.8563\n",
      "Epoch 32/100\n",
      "17449/17449 [==============================] - 62s 4ms/step - loss: 0.4227 - accuracy: 0.8527 - val_loss: 0.4112 - val_accuracy: 0.8566\n",
      "Epoch 33/100\n",
      "17449/17449 [==============================] - 61s 4ms/step - loss: 0.4216 - accuracy: 0.8528 - val_loss: 0.4098 - val_accuracy: 0.8572\n",
      "Epoch 34/100\n",
      "17449/17449 [==============================] - 62s 4ms/step - loss: 0.4207 - accuracy: 0.8531 - val_loss: 0.4011 - val_accuracy: 0.8595\n",
      "Epoch 35/100\n",
      "17449/17449 [==============================] - 62s 4ms/step - loss: 0.4203 - accuracy: 0.8531 - val_loss: 0.3994 - val_accuracy: 0.8602\n",
      "Epoch 36/100\n",
      "17449/17449 [==============================] - 62s 4ms/step - loss: 0.4198 - accuracy: 0.8534 - val_loss: 0.4024 - val_accuracy: 0.8594\n",
      "Epoch 37/100\n",
      "17449/17449 [==============================] - 61s 4ms/step - loss: 0.4180 - accuracy: 0.8539 - val_loss: 0.4008 - val_accuracy: 0.8598\n",
      "Epoch 38/100\n",
      "17449/17449 [==============================] - 62s 4ms/step - loss: 0.4174 - accuracy: 0.8538 - val_loss: 0.4101 - val_accuracy: 0.8571\n",
      "Epoch 39/100\n",
      "17449/17449 [==============================] - 66s 4ms/step - loss: 0.4172 - accuracy: 0.8541 - val_loss: 0.4031 - val_accuracy: 0.8587\n",
      "Epoch 40/100\n",
      "17449/17449 [==============================] - 67s 4ms/step - loss: 0.4163 - accuracy: 0.8540 - val_loss: 0.4056 - val_accuracy: 0.8583\n",
      "Epoch 41/100\n",
      "17449/17449 [==============================] - 67s 4ms/step - loss: 0.4147 - accuracy: 0.8551 - val_loss: 0.4008 - val_accuracy: 0.8586\n",
      "Epoch 42/100\n",
      "17449/17449 [==============================] - 67s 4ms/step - loss: 0.4149 - accuracy: 0.8549 - val_loss: 0.4004 - val_accuracy: 0.8593\n",
      "Epoch 43/100\n",
      "17449/17449 [==============================] - 67s 4ms/step - loss: 0.4132 - accuracy: 0.8550 - val_loss: 0.4022 - val_accuracy: 0.8590\n",
      "Epoch 44/100\n",
      "17449/17449 [==============================] - 67s 4ms/step - loss: 0.4128 - accuracy: 0.8548 - val_loss: 0.4003 - val_accuracy: 0.8595\n",
      "Epoch 45/100\n",
      "17449/17449 [==============================] - 62s 4ms/step - loss: 0.4128 - accuracy: 0.8553 - val_loss: 0.3973 - val_accuracy: 0.8600\n",
      "Epoch 46/100\n",
      "17449/17449 [==============================] - 62s 4ms/step - loss: 0.4115 - accuracy: 0.8559 - val_loss: 0.3989 - val_accuracy: 0.8607\n",
      "Epoch 47/100\n",
      "17449/17449 [==============================] - 64s 4ms/step - loss: 0.4109 - accuracy: 0.8552 - val_loss: 0.3962 - val_accuracy: 0.8593\n",
      "Epoch 48/100\n",
      "17449/17449 [==============================] - 68s 4ms/step - loss: 0.4102 - accuracy: 0.8560 - val_loss: 0.4003 - val_accuracy: 0.8596\n",
      "Epoch 49/100\n",
      "17449/17449 [==============================] - 68s 4ms/step - loss: 0.4097 - accuracy: 0.8561 - val_loss: 0.3971 - val_accuracy: 0.8592\n",
      "Epoch 50/100\n",
      "17449/17449 [==============================] - 68s 4ms/step - loss: 0.4100 - accuracy: 0.8560 - val_loss: 0.3914 - val_accuracy: 0.8623\n",
      "Epoch 51/100\n",
      "17449/17449 [==============================] - 68s 4ms/step - loss: 0.4095 - accuracy: 0.8559 - val_loss: 0.3940 - val_accuracy: 0.8613\n",
      "Epoch 52/100\n",
      "17449/17449 [==============================] - 67s 4ms/step - loss: 0.4085 - accuracy: 0.8564 - val_loss: 0.3940 - val_accuracy: 0.8612\n",
      "Epoch 53/100\n",
      "17449/17449 [==============================] - 68s 4ms/step - loss: 0.4084 - accuracy: 0.8565 - val_loss: 0.4009 - val_accuracy: 0.8603\n",
      "Epoch 54/100\n",
      "17449/17449 [==============================] - 67s 4ms/step - loss: 0.4078 - accuracy: 0.8569 - val_loss: 0.3960 - val_accuracy: 0.8607\n",
      "Epoch 55/100\n",
      "17449/17449 [==============================] - 68s 4ms/step - loss: 0.4071 - accuracy: 0.8567 - val_loss: 0.3905 - val_accuracy: 0.8623\n",
      "Epoch 56/100\n",
      "17449/17449 [==============================] - 67s 4ms/step - loss: 0.4070 - accuracy: 0.8566 - val_loss: 0.3997 - val_accuracy: 0.8586\n",
      "Epoch 57/100\n",
      "17449/17449 [==============================] - 67s 4ms/step - loss: 0.4054 - accuracy: 0.8570 - val_loss: 0.3985 - val_accuracy: 0.8589\n",
      "Epoch 58/100\n",
      "17449/17449 [==============================] - 67s 4ms/step - loss: 0.4064 - accuracy: 0.8572 - val_loss: 0.3942 - val_accuracy: 0.8612\n",
      "Epoch 59/100\n",
      "17449/17449 [==============================] - 67s 4ms/step - loss: 0.4047 - accuracy: 0.8574 - val_loss: 0.3936 - val_accuracy: 0.8613\n",
      "Epoch 60/100\n",
      "17449/17449 [==============================] - 68s 4ms/step - loss: 0.4047 - accuracy: 0.8574 - val_loss: 0.3932 - val_accuracy: 0.8612\n",
      "Epoch 61/100\n",
      "17449/17449 [==============================] - 67s 4ms/step - loss: 0.4046 - accuracy: 0.8575 - val_loss: 0.3939 - val_accuracy: 0.8611\n",
      "Epoch 62/100\n",
      "17449/17449 [==============================] - 67s 4ms/step - loss: 0.4038 - accuracy: 0.8578 - val_loss: 0.3908 - val_accuracy: 0.8626\n",
      "Epoch 63/100\n",
      "17449/17449 [==============================] - 67s 4ms/step - loss: 0.4036 - accuracy: 0.8582 - val_loss: 0.3940 - val_accuracy: 0.8620\n",
      "Epoch 64/100\n",
      "17449/17449 [==============================] - 68s 4ms/step - loss: 0.4035 - accuracy: 0.8577 - val_loss: 0.3948 - val_accuracy: 0.8608\n",
      "Epoch 65/100\n",
      "17449/17449 [==============================] - 67s 4ms/step - loss: 0.4031 - accuracy: 0.8576 - val_loss: 0.3891 - val_accuracy: 0.8630\n",
      "Epoch 66/100\n",
      "17449/17449 [==============================] - 67s 4ms/step - loss: 0.4026 - accuracy: 0.8580 - val_loss: 0.3919 - val_accuracy: 0.8606\n",
      "Epoch 67/100\n",
      "17449/17449 [==============================] - 67s 4ms/step - loss: 0.4024 - accuracy: 0.8581 - val_loss: 0.3899 - val_accuracy: 0.8625\n",
      "Epoch 68/100\n",
      "17449/17449 [==============================] - 68s 4ms/step - loss: 0.4016 - accuracy: 0.8582 - val_loss: 0.3917 - val_accuracy: 0.8614\n",
      "Epoch 69/100\n",
      "17449/17449 [==============================] - 67s 4ms/step - loss: 0.4018 - accuracy: 0.8585 - val_loss: 0.3973 - val_accuracy: 0.8610\n",
      "Epoch 70/100\n",
      "17449/17449 [==============================] - 67s 4ms/step - loss: 0.4017 - accuracy: 0.8580 - val_loss: 0.3928 - val_accuracy: 0.8612\n",
      "Epoch 71/100\n",
      "17449/17449 [==============================] - 67s 4ms/step - loss: 0.4010 - accuracy: 0.8585 - val_loss: 0.3897 - val_accuracy: 0.8624\n",
      "Epoch 72/100\n",
      "17449/17449 [==============================] - 68s 4ms/step - loss: 0.4007 - accuracy: 0.8584 - val_loss: 0.3911 - val_accuracy: 0.8625\n",
      "Epoch 73/100\n",
      "17449/17449 [==============================] - 67s 4ms/step - loss: 0.4004 - accuracy: 0.8585 - val_loss: 0.3943 - val_accuracy: 0.8605\n",
      "Epoch 74/100\n",
      "17449/17449 [==============================] - 68s 4ms/step - loss: 0.4003 - accuracy: 0.8584 - val_loss: 0.3949 - val_accuracy: 0.8601\n",
      "Epoch 75/100\n",
      "17449/17449 [==============================] - 67s 4ms/step - loss: 0.3995 - accuracy: 0.8592 - val_loss: 0.3927 - val_accuracy: 0.8608\n",
      "3636/3636 [==============================] - 6s 2ms/step - loss: 0.3853 - accuracy: 0.8646\n"
     ]
    },
    {
     "data": {
      "text/plain": [
       "[0.3853183388710022, 0.8646085858345032]"
      ]
     },
     "execution_count": 9,
     "metadata": {},
     "output_type": "execute_result"
    }
   ],
   "source": [
    "keras.backend.clear_session()\n",
    "\n",
    "my_lenet_5_selu_model = keras.models.Sequential([\n",
    "    keras.layers.Conv2D(32, kernel_size=5, strides=1,  activation=\"selu\", kernel_initializer=\"lecun_normal\", input_shape=train_x[0].shape, padding='same'),\n",
    "    keras.layers.BatchNormalization(),\n",
    "    keras.layers.Conv2D(128, kernel_size=3, strides=1, activation=\"selu\", kernel_initializer=\"lecun_normal\", padding='valid'),\n",
    "    keras.layers.BatchNormalization(),\n",
    "    keras.layers.Dropout(0.3),\n",
    "    keras.layers.GlobalAveragePooling2D(),\n",
    "    keras.layers.Flatten(),\n",
    "    keras.layers.Dense(62, activation='softmax')\n",
    "])\n",
    "\n",
    "my_lenet_5_selu_model.compile(optimizer='adam', loss=keras.losses.categorical_crossentropy, metrics=['accuracy'])\n",
    "\n",
    "early_stopping_cb = keras.callbacks.EarlyStopping(patience=10, restore_best_weights=True)\n",
    "model_checkpoint_cb = keras.callbacks.ModelCheckpoint(\"my_lenet5_emnist_model.h5\", save_best_only=True)\n",
    "  \n",
    "my_lenet_5_selu_model.fit(train_x, train_y, epochs=100, validation_data=(val_x, val_y), callbacks=[early_stopping_cb, model_checkpoint_cb])\n",
    "\n",
    "my_lenet_5_selu_model.evaluate(test_x, test_y)"
   ]
  },
  {
   "cell_type": "code",
   "execution_count": 11,
   "metadata": {},
   "outputs": [],
   "source": [
    "my_lenet_5_selu_model.save(\"my_lenet5_emnist_model_220511.h5\")"
   ]
  }
 ],
 "metadata": {
  "interpreter": {
   "hash": "1cca9558bc5ad879ec93cc030b157d75f18267527c60932cecaace349eef54dd"
  },
  "kernelspec": {
   "display_name": "Python 3.9.7 ('base')",
   "language": "python",
   "name": "python3"
  },
  "language_info": {
   "codemirror_mode": {
    "name": "ipython",
    "version": 3
   },
   "file_extension": ".py",
   "mimetype": "text/x-python",
   "name": "python",
   "nbconvert_exporter": "python",
   "pygments_lexer": "ipython3",
   "version": "3.9.7"
  },
  "orig_nbformat": 4
 },
 "nbformat": 4,
 "nbformat_minor": 2
}
