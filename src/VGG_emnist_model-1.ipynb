{
 "cells": [
  {
   "cell_type": "code",
   "execution_count": 1,
   "id": "f68cf55d",
   "metadata": {},
   "outputs": [],
   "source": [
    "import time\n",
    "import pandas as pd\n",
    "import numpy as np\n",
    "import tensorflow as tf\n",
    "from tensorflow import keras as keras\n",
    "from sklearn.model_selection import train_test_split\n",
    "import matplotlib.pyplot as plt\n",
    "from tensorflow.keras import datasets, layers, models, losses, Model\n",
    "from tensorflow.keras.layers import Dense, Conv2D, MaxPool2D, Flatten, Dropout, Input\n",
    "from tensorflow.keras.models import Sequential\n",
    "from tensorflow.keras.callbacks import ModelCheckpoint\n",
    "from tensorflow.keras.applications import VGG16"
   ]
  },
  {
   "cell_type": "code",
   "execution_count": 2,
   "id": "395b2a8e",
   "metadata": {},
   "outputs": [
    {
     "name": "stdout",
     "output_type": "stream",
     "text": [
      "GPU found\n"
     ]
    }
   ],
   "source": [
    "import os\n",
    "import tensorflow as tf\n",
    "\n",
    "#os.environ['CUDA_VISIBLE_DEVICES'] = '-1'\n",
    "\n",
    "if tf.test.gpu_device_name():\n",
    "    print('GPU found')\n",
    "else:\n",
    "    print(\"No GPU found\")"
   ]
  },
  {
   "cell_type": "code",
   "execution_count": 3,
   "id": "4fc53c37",
   "metadata": {},
   "outputs": [],
   "source": [
    "data = pd.read_csv('emnist-byclass-mapping.txt', sep=\" \", header=None)\n",
    "data.columns = ['Target','ASCII']\n",
    "\n",
    "col=[]\n",
    "for i in data.ASCII.tolist():\n",
    "    col.append(chr(i))\n",
    "\n",
    "data['ASCII_Target'] = pd.Series(col)"
   ]
  },
  {
   "cell_type": "code",
   "execution_count": 4,
   "id": "9aee0f8f",
   "metadata": {},
   "outputs": [],
   "source": [
    "train_df = pd.read_csv('emnist-byclass-train.csv')\n",
    "train_df.rename(columns={'35':'Target'}, inplace=True)\n",
    "train_y = np.array(train_df.pop('Target'))\n",
    "train_x = train_df\n",
    "\n",
    "train_x = train_x / 255.0\n",
    "train_x = train_x.values.reshape([-1, 28, 28, 1])\n",
    "train_y = keras.utils.to_categorical(train_y)\n",
    "\n",
    "train_x, val_x, train_y, val_y = train_test_split(train_x, train_y, test_size=0.2, random_state=42)"
   ]
  },
  {
   "cell_type": "code",
   "execution_count": 5,
   "id": "92f1cae9",
   "metadata": {},
   "outputs": [],
   "source": [
    "test_df = pd.read_csv('emnist-byclass-test.csv')\n",
    "test_df.rename(columns={'18':'Target'}, inplace=True)\n",
    "\n",
    "# test_df=pd.merge(test_df, data, how='left', on='Target')\n",
    "# test_df=test_df.drop(['Target','ASCII'],axis=1)\n",
    "# test_df.rename(columns={'ASCII_Target':'Target'}, inplace=True)\n",
    "\n",
    "test_y = np.array(test_df.pop('Target'))\n",
    "test_x = test_df\n",
    "\n",
    "test_x = test_x / 255.0\n",
    "test_x = test_x.values.reshape([-1, 28, 28, 1])\n",
    "test_y = keras.utils.to_categorical(test_y)\n"
   ]
  },
  {
   "cell_type": "code",
   "execution_count": 6,
   "id": "8667a842",
   "metadata": {},
   "outputs": [],
   "source": [
    "hand_df = pd.read_csv('our_handmade_dataset.csv')\n",
    "hand_df.rename(columns={'0':'Target'}, inplace=True)\n",
    "\n",
    "# hand_df=pd.merge(hand_df, data, how='left', on='Target')\n",
    "# hand_df=hand_df.drop(['Target','ASCII'],axis=1)\n",
    "# hand_df.rename(columns={'ASCII_Target':'Target'}, inplace=True)\n",
    "\n",
    "hand_y = np.array(hand_df.pop('Target'))\n",
    "hand_x = hand_df\n",
    "\n",
    "hand_x = hand_x / 255.0\n",
    "hand_x = hand_x.values.reshape([-1, 28, 28, 1])\n",
    "hand_y = keras.utils.to_categorical(hand_y)"
   ]
  },
  {
   "cell_type": "code",
   "execution_count": 7,
   "id": "1f71e27d",
   "metadata": {},
   "outputs": [
    {
     "name": "stdout",
     "output_type": "stream",
     "text": [
      "Model: \"model\"\n",
      "_________________________________________________________________\n",
      " Layer (type)                Output Shape              Param #   \n",
      "=================================================================\n",
      " input_1 (InputLayer)        [(None, 28, 28, 1)]       0         \n",
      "                                                                 \n",
      " conv2d (Conv2D)             (None, 28, 28, 64)        640       \n",
      "                                                                 \n",
      " conv2d_1 (Conv2D)           (None, 28, 28, 64)        36928     \n",
      "                                                                 \n",
      " max_pooling2d (MaxPooling2D  (None, 14, 14, 64)       0         \n",
      " )                                                               \n",
      "                                                                 \n",
      " conv2d_2 (Conv2D)           (None, 14, 14, 128)       73856     \n",
      "                                                                 \n",
      " conv2d_3 (Conv2D)           (None, 14, 14, 128)       147584    \n",
      "                                                                 \n",
      " max_pooling2d_1 (MaxPooling  (None, 7, 7, 128)        0         \n",
      " 2D)                                                             \n",
      "                                                                 \n",
      " conv2d_4 (Conv2D)           (None, 7, 7, 256)         295168    \n",
      "                                                                 \n",
      " conv2d_5 (Conv2D)           (None, 7, 7, 256)         590080    \n",
      "                                                                 \n",
      " conv2d_6 (Conv2D)           (None, 7, 7, 256)         590080    \n",
      "                                                                 \n",
      " max_pooling2d_2 (MaxPooling  (None, 4, 4, 256)        0         \n",
      " 2D)                                                             \n",
      "                                                                 \n",
      " conv2d_7 (Conv2D)           (None, 4, 4, 512)         1180160   \n",
      "                                                                 \n",
      " conv2d_8 (Conv2D)           (None, 4, 4, 512)         2359808   \n",
      "                                                                 \n",
      " conv2d_9 (Conv2D)           (None, 4, 4, 512)         2359808   \n",
      "                                                                 \n",
      " max_pooling2d_3 (MaxPooling  (None, 2, 2, 512)        0         \n",
      " 2D)                                                             \n",
      "                                                                 \n",
      " flatten (Flatten)           (None, 2048)              0         \n",
      "                                                                 \n",
      " dense (Dense)               (None, 4096)              8392704   \n",
      "                                                                 \n",
      " dense_1 (Dense)             (None, 4096)              16781312  \n",
      "                                                                 \n",
      " dense_2 (Dense)             (None, 62)                254014    \n",
      "                                                                 \n",
      "=================================================================\n",
      "Total params: 33,062,142\n",
      "Trainable params: 33,062,142\n",
      "Non-trainable params: 0\n",
      "_________________________________________________________________\n"
     ]
    }
   ],
   "source": [
    "inputs = Input(shape = (28,28,1))\n",
    "x = Conv2D (filters =64, kernel_size =3, padding ='same', activation='relu')(inputs)\n",
    "x = Conv2D (filters =64, kernel_size =3, padding ='same', activation='relu')(x)\n",
    "x = MaxPool2D(pool_size =2, strides =2, padding ='same')(x)\n",
    "# 2nd Conv Block\n",
    "x = Conv2D (filters =128, kernel_size =3, padding ='same', activation='relu')(x)\n",
    "x = Conv2D (filters =128, kernel_size =3, padding ='same', activation='relu')(x)\n",
    "x = MaxPool2D(pool_size =2, strides =2, padding ='same')(x)\n",
    "# 3rd Conv block  \n",
    "x = Conv2D (filters =256, kernel_size =3, padding ='same', activation='relu')(x)\n",
    "x = Conv2D (filters =256, kernel_size =3, padding ='same', activation='relu')(x) \n",
    "x = Conv2D (filters =256, kernel_size =3, padding ='same', activation='relu')(x) \n",
    "x = MaxPool2D(pool_size =2, strides =2, padding ='same')(x)\n",
    "# 4th Conv block\n",
    "x = Conv2D (filters =512, kernel_size =3, padding ='same', activation='relu')(x)\n",
    "x = Conv2D (filters =512, kernel_size =3, padding ='same', activation='relu')(x)\n",
    "x = Conv2D (filters =512, kernel_size =3, padding ='same', activation='relu')(x)\n",
    "x = MaxPool2D(pool_size =2, strides =2, padding ='same')(x)\n",
    "# 5th Conv block\n",
    "# x = Conv2D (filters =512, kernel_size =3, padding ='same', activation='relu')(x)\n",
    "# x = Conv2D (filters =512, kernel_size =3, padding ='same', activation='relu')(x)\n",
    "# x = Conv2D (filters =512, kernel_size =3, padding ='same', activation='relu')(x)\n",
    "# x = MaxPool2D(pool_size =2, strides =2, padding ='same')(x)\n",
    "# Fully connected layers  \n",
    "x = Flatten()(x)\n",
    "x = Dense(units = 4096, activation ='relu')(x)\n",
    "x = Dense(units = 4096, activation ='relu')(x)\n",
    "output = Dense(units = 62, activation ='softmax')(x)\n",
    "# creating the model\n",
    "\n",
    "vgg_emnist_model = Model (inputs=inputs, outputs =output)\n",
    "vgg_emnist_model.summary()"
   ]
  },
  {
   "cell_type": "code",
   "execution_count": 10,
   "id": "f53e067a",
   "metadata": {
    "scrolled": true
   },
   "outputs": [
    {
     "name": "stdout",
     "output_type": "stream",
     "text": [
      "Epoch 1/100\n",
      "1091/1091 [==============================] - 88s 79ms/step - loss: 3.6860 - accuracy: 0.0540 - val_loss: 3.6842 - val_accuracy: 0.0556\n",
      "Epoch 2/100\n",
      "1091/1091 [==============================] - 88s 81ms/step - loss: 3.6856 - accuracy: 0.0541 - val_loss: 3.6843 - val_accuracy: 0.0556\n",
      "Epoch 3/100\n",
      "1091/1091 [==============================] - 86s 79ms/step - loss: 3.6855 - accuracy: 0.0540 - val_loss: 3.6844 - val_accuracy: 0.0556\n",
      "Epoch 4/100\n",
      "1091/1091 [==============================] - 86s 79ms/step - loss: 3.6854 - accuracy: 0.0543 - val_loss: 3.6840 - val_accuracy: 0.0556\n",
      "Epoch 5/100\n",
      "1091/1091 [==============================] - 86s 79ms/step - loss: 3.6854 - accuracy: 0.0542 - val_loss: 3.6837 - val_accuracy: 0.0556\n",
      "Epoch 6/100\n",
      "1091/1091 [==============================] - 82s 75ms/step - loss: 3.6853 - accuracy: 0.0542 - val_loss: 3.6838 - val_accuracy: 0.0556\n",
      "Epoch 7/100\n",
      "1091/1091 [==============================] - 82s 75ms/step - loss: 3.6851 - accuracy: 0.0546 - val_loss: 3.6838 - val_accuracy: 0.0556\n",
      "Epoch 8/100\n",
      "1091/1091 [==============================] - 83s 76ms/step - loss: 3.6852 - accuracy: 0.0543 - val_loss: 3.6836 - val_accuracy: 0.0556\n",
      "Epoch 9/100\n",
      "1091/1091 [==============================] - 82s 75ms/step - loss: 3.6851 - accuracy: 0.0544 - val_loss: 3.6838 - val_accuracy: 0.0556\n",
      "Epoch 10/100\n",
      "1091/1091 [==============================] - 82s 75ms/step - loss: 3.6851 - accuracy: 0.0544 - val_loss: 3.6839 - val_accuracy: 0.0556\n",
      "Epoch 11/100\n",
      "1091/1091 [==============================] - 83s 76ms/step - loss: 3.6852 - accuracy: 0.0545 - val_loss: 3.6835 - val_accuracy: 0.0556\n",
      "Epoch 12/100\n",
      "1091/1091 [==============================] - 82s 75ms/step - loss: 3.6851 - accuracy: 0.0543 - val_loss: 3.6840 - val_accuracy: 0.0556\n",
      "Epoch 13/100\n",
      "1091/1091 [==============================] - 82s 75ms/step - loss: 3.6851 - accuracy: 0.0546 - val_loss: 3.6838 - val_accuracy: 0.0556\n",
      "Epoch 14/100\n",
      "1091/1091 [==============================] - 82s 75ms/step - loss: 3.6852 - accuracy: 0.0544 - val_loss: 3.6836 - val_accuracy: 0.0556\n",
      "Epoch 15/100\n",
      "1091/1091 [==============================] - 83s 76ms/step - loss: 3.6852 - accuracy: 0.0547 - val_loss: 3.6835 - val_accuracy: 0.0556\n",
      "Epoch 16/100\n",
      "1091/1091 [==============================] - 82s 75ms/step - loss: 3.6852 - accuracy: 0.0546 - val_loss: 3.6837 - val_accuracy: 0.0556\n",
      "Epoch 17/100\n",
      "1091/1091 [==============================] - 82s 75ms/step - loss: 3.6852 - accuracy: 0.0546 - val_loss: 3.6837 - val_accuracy: 0.0556\n",
      "Epoch 18/100\n",
      "1091/1091 [==============================] - 82s 75ms/step - loss: 3.6852 - accuracy: 0.0545 - val_loss: 3.6838 - val_accuracy: 0.0556\n",
      "Epoch 19/100\n",
      "1091/1091 [==============================] - 82s 75ms/step - loss: 3.6852 - accuracy: 0.0544 - val_loss: 3.6842 - val_accuracy: 0.0556\n",
      "Epoch 20/100\n",
      "1091/1091 [==============================] - 82s 75ms/step - loss: 3.6852 - accuracy: 0.0545 - val_loss: 3.6837 - val_accuracy: 0.0556\n",
      "Epoch 21/100\n",
      "1091/1091 [==============================] - 82s 75ms/step - loss: 3.6852 - accuracy: 0.0544 - val_loss: 3.6837 - val_accuracy: 0.0556\n",
      "Epoch 22/100\n",
      "1091/1091 [==============================] - 82s 75ms/step - loss: 3.6852 - accuracy: 0.0542 - val_loss: 3.6840 - val_accuracy: 0.0556\n",
      "Epoch 23/100\n",
      "1091/1091 [==============================] - 82s 75ms/step - loss: 3.6851 - accuracy: 0.0544 - val_loss: 3.6841 - val_accuracy: 0.0556\n",
      "Epoch 24/100\n",
      "1091/1091 [==============================] - 82s 75ms/step - loss: 3.6851 - accuracy: 0.0546 - val_loss: 3.6837 - val_accuracy: 0.0556\n",
      "Epoch 25/100\n",
      "1091/1091 [==============================] - 83s 76ms/step - loss: 3.6851 - accuracy: 0.0542 - val_loss: 3.6834 - val_accuracy: 0.0556\n",
      "Epoch 26/100\n",
      "1091/1091 [==============================] - 82s 75ms/step - loss: 3.6851 - accuracy: 0.0544 - val_loss: 3.6838 - val_accuracy: 0.0556\n",
      "Epoch 27/100\n",
      "1091/1091 [==============================] - 82s 75ms/step - loss: 3.6852 - accuracy: 0.0545 - val_loss: 3.6834 - val_accuracy: 0.0556\n",
      "Epoch 28/100\n",
      "1091/1091 [==============================] - 82s 75ms/step - loss: 3.6851 - accuracy: 0.0545 - val_loss: 3.6841 - val_accuracy: 0.0492\n",
      "Epoch 29/100\n",
      "1091/1091 [==============================] - 82s 75ms/step - loss: 3.6852 - accuracy: 0.0543 - val_loss: 3.6838 - val_accuracy: 0.0556\n",
      "Epoch 30/100\n",
      "1091/1091 [==============================] - 82s 75ms/step - loss: 3.6851 - accuracy: 0.0545 - val_loss: 3.6838 - val_accuracy: 0.0492\n",
      "Epoch 31/100\n",
      "1091/1091 [==============================] - 82s 75ms/step - loss: 3.6851 - accuracy: 0.0543 - val_loss: 3.6839 - val_accuracy: 0.0556\n",
      "Epoch 32/100\n",
      "1091/1091 [==============================] - 82s 75ms/step - loss: 3.6852 - accuracy: 0.0545 - val_loss: 3.6838 - val_accuracy: 0.0556\n",
      "Epoch 33/100\n",
      "1091/1091 [==============================] - 82s 75ms/step - loss: 3.6852 - accuracy: 0.0546 - val_loss: 3.6835 - val_accuracy: 0.0556\n",
      "Epoch 34/100\n",
      "1091/1091 [==============================] - 82s 75ms/step - loss: 3.6851 - accuracy: 0.0546 - val_loss: 3.6839 - val_accuracy: 0.0556\n",
      "Epoch 35/100\n",
      "1091/1091 [==============================] - 82s 75ms/step - loss: 3.6852 - accuracy: 0.0546 - val_loss: 3.6838 - val_accuracy: 0.0556\n",
      "3636/3636 [==============================] - 18s 5ms/step - loss: 3.6790 - accuracy: 0.0544\n"
     ]
    },
    {
     "data": {
      "text/plain": [
       "[3.6790006160736084, 0.05441790819168091]"
      ]
     },
     "execution_count": 10,
     "metadata": {},
     "output_type": "execute_result"
    }
   ],
   "source": [
    "vgg_emnist_model.compile(optimizer=tf.keras.optimizers.Adam(learning_rate = 0.01), loss=keras.losses.categorical_crossentropy, metrics=['accuracy'])\n",
    "\n",
    "early_stopping_cb = keras.callbacks.EarlyStopping(patience=10, restore_best_weights=True)\n",
    "model_checkpoint_cb = keras.callbacks.ModelCheckpoint(\"my_vgg_emnist_model.h5\", save_best_only=True)\n",
    "  \n",
    "vgg_emnist_model.fit(train_x, train_y, batch_size = 512, epochs=100, validation_data=(val_x, val_y), callbacks=[early_stopping_cb, model_checkpoint_cb])\n",
    "\n",
    "vgg_emnist_model.evaluate(test_x, test_y)"
   ]
  },
  {
   "cell_type": "code",
   "execution_count": 51,
   "id": "12d531cb",
   "metadata": {},
   "outputs": [],
   "source": [
    "my_lenet_5_selu_model.evaluate(hand_x, hand_y)"
   ]
  }
 ],
 "metadata": {
  "kernelspec": {
   "display_name": "Python 3 (ipykernel)",
   "language": "python",
   "name": "python3"
  },
  "language_info": {
   "codemirror_mode": {
    "name": "ipython",
    "version": 3
   },
   "file_extension": ".py",
   "mimetype": "text/x-python",
   "name": "python",
   "nbconvert_exporter": "python",
   "pygments_lexer": "ipython3",
   "version": "3.8.6"
  }
 },
 "nbformat": 4,
 "nbformat_minor": 5
}
