{
  "cells": [
    {
      "cell_type": "code",
      "execution_count": 1,
      "metadata": {
        "colab": {
          "base_uri": "https://localhost:8080/"
        },
        "id": "0DaGNky6bH6y",
        "outputId": "b00e5e95-f470-4b70-91b3-efec65086627"
      },
      "outputs": [
        {
          "output_type": "stream",
          "name": "stdout",
          "text": [
            "GPU found\n"
          ]
        }
      ],
      "source": [
        "import os\n",
        "import tensorflow as tf\n",
        "from tensorflow import keras as keras\n",
        "from sklearn.model_selection import train_test_split\n",
        "from sklearn.preprocessing import OneHotEncoder\n",
        "from keras.callbacks import EarlyStopping\n",
        "from keras.preprocessing.image import ImageDataGenerator\n",
        "from tensorflow.keras import datasets, layers, models, losses, Model\n",
        "from tensorflow.keras.layers import Dense, Conv2D, MaxPool2D, Flatten, Dropout, Input, BatchNormalization, Dropout\n",
        "import numpy as np\n",
        "import pandas as pd\n",
        "import cv2\n",
        "from matplotlib import pyplot as plt\n",
        "from google.colab.patches import cv2_imshow\n",
        "#os.environ['CUDA_VISIBLE_DEVICES'] = '-1'\n",
        "\n",
        "if tf.test.gpu_device_name():\n",
        "    print('GPU found')\n",
        "else:\n",
        "    print(\"No GPU found\")"
      ]
    },
    {
      "cell_type": "markdown",
      "metadata": {
        "id": "m2u0ayo7bH60"
      },
      "source": [
        "Data Preparing"
      ]
    },
    {
      "cell_type": "code",
      "source": [
        "def convert_data_csv_to_numpy(data, sorting = False): # pandas 통해 읽은 csv data numpy 형태로 변경\n",
        "  if sorting == True:\n",
        "    data = data.sort_values(by=[0], axis=0)\n",
        "\n",
        "  label = np.array(data[0]) # csv file 에서 0번째 colum은 index임\n",
        "  only_data = np.array(data.drop([0], axis = 1)).reshape((-1, 28, 28, 1)) # csv file에서 0번 째 colum 탈락 -> data만 남게 됨\n",
        "  # only_data = tf.convert_to_tensor(only_data, dtype=tf.float32)\n",
        "  return only_data, label"
      ],
      "metadata": {
        "id": "F4RHM09CpT4y"
      },
      "execution_count": 2,
      "outputs": []
    },
    {
      "cell_type": "code",
      "source": [
        "from google.colab import drive\n",
        "drive.mount('cnontent/')"
      ],
      "metadata": {
        "colab": {
          "base_uri": "https://localhost:8080/"
        },
        "id": "qmFZp1-ZuLpr",
        "outputId": "c2e4ae06-5b6e-4c1b-a8be-35ecdc9da6cb"
      },
      "execution_count": 3,
      "outputs": [
        {
          "output_type": "stream",
          "name": "stdout",
          "text": [
            "Drive already mounted at cnontent/; to attempt to forcibly remount, call drive.mount(\"cnontent/\", force_remount=True).\n"
          ]
        }
      ]
    },
    {
      "cell_type": "code",
      "source": [
        "cd /content/cnontent/MyDrive/SSU/nural_nework/project"
      ],
      "metadata": {
        "colab": {
          "base_uri": "https://localhost:8080/"
        },
        "id": "NohfB_deuP4l",
        "outputId": "89e6deb2-e928-40cc-e385-fbffc0fec4ef"
      },
      "execution_count": 4,
      "outputs": [
        {
          "output_type": "stream",
          "name": "stdout",
          "text": [
            "/content/cnontent/MyDrive/SSU/nural_nework/project\n"
          ]
        }
      ]
    },
    {
      "cell_type": "code",
      "execution_count": 5,
      "metadata": {
        "id": "yWuRDGQebH65"
      },
      "outputs": [],
      "source": [
        "# csv 파일 load\n",
        "train_df = pd.read_csv(\"./emnist-byclass-train.csv\", header=None)\n",
        "test_df = pd.read_csv(\"./emnist-byclass-test.csv\", header=None)"
      ]
    },
    {
      "cell_type": "code",
      "execution_count": 6,
      "metadata": {
        "id": "xFVUrw-sbH66"
      },
      "outputs": [],
      "source": [
        "# numpt ndarray로 data type 변경\n",
        "X_train, y_train  = convert_data_csv_to_numpy(train_df)\n",
        "X_test, y_test  = convert_data_csv_to_numpy(test_df)\n",
        "\n",
        "train_df = None\n",
        "test_df = None"
      ]
    },
    {
      "cell_type": "code",
      "execution_count": 7,
      "metadata": {
        "id": "DbhBO24wbH68"
      },
      "outputs": [],
      "source": [
        "# data split\n",
        "X_train, X_val, y_train, y_val = train_test_split(X_train/255., y_train, test_size=0.2, random_state=42)"
      ]
    },
    {
      "cell_type": "code",
      "execution_count": 8,
      "metadata": {
        "id": "vUxZ18-nbH69",
        "colab": {
          "base_uri": "https://localhost:8080/"
        },
        "outputId": "9595a286-3bee-40ef-dc1e-841ab0665f77"
      },
      "outputs": [
        {
          "output_type": "stream",
          "name": "stdout",
          "text": [
            "(558345, 28, 28, 1) (139587, 28, 28, 1) (116323, 28, 28, 1)\n"
          ]
        }
      ],
      "source": [
        "print(X_train.shape, X_val.shape, X_test.shape)"
      ]
    },
    {
      "cell_type": "code",
      "execution_count": 9,
      "metadata": {
        "id": "6hTxA6aTbH6-"
      },
      "outputs": [],
      "source": [
        "# mobilenet, aux_resnet을 위한 data 백업 \n",
        "raw_y_train = y_train.copy()\n",
        "raw_y_val = y_val.copy()\n",
        "raw_y_test = y_test.copy()\n",
        "\n",
        "y_train = tf.keras.utils.to_categorical(y_train)\n",
        "y_val = tf.keras.utils.to_categorical(y_val)\n",
        "y_test = tf.keras.utils.to_categorical(y_test)"
      ]
    },
    {
      "cell_type": "code",
      "execution_count": 10,
      "metadata": {
        "id": "r_UV5mPIbH6_",
        "colab": {
          "base_uri": "https://localhost:8080/"
        },
        "outputId": "573b9527-aca8-422c-83f6-248a01fcf9f1"
      },
      "outputs": [
        {
          "output_type": "stream",
          "name": "stdout",
          "text": [
            "(558345, 62) (139587, 62) (116323, 62)\n"
          ]
        }
      ],
      "source": [
        "print(y_train.shape,y_val.shape, y_test.shape)"
      ]
    },
    {
      "cell_type": "code",
      "source": [
        "# label 번호가 어떤 문자를 나타내는지 확인 하기 위한 배열 생성\n",
        "label_value_list = []\n",
        "for i in range(62):\n",
        "  if i <=9:\n",
        "    label_value_list.append(f'{i}')\n",
        "  elif 10<=i<=35:\n",
        "    label_value_list.append(f'{chr(i+55)}')\n",
        "  else:\n",
        "    label_value_list.append(f'{chr(i+61)}')"
      ],
      "metadata": {
        "id": "Bf4vPmUrwg3I"
      },
      "execution_count": 25,
      "outputs": []
    },
    {
      "cell_type": "code",
      "execution_count": 30,
      "metadata": {
        "id": "FNYMTOLtbH7A"
      },
      "outputs": [],
      "source": [
        "# data plotting을 위한 함수\n",
        "def show_data_scheme(data, label, row = 4, col = 5, i = 1): # data 어떻게 생겼는지 plot\n",
        "  plt.figure(figsize = (11, 8))\n",
        "  for r in range(row):\n",
        "    for c in range(col):\n",
        "      plt.subplot(row, col, i)\n",
        "      plt.imshow(data[i,...,0].T, 'gray')\n",
        "      plt.axis('off')\n",
        "      plt.title(f'{label_value_list[ np.argmax(label[i])  ]}')\n",
        "      i+=1\n",
        "  plt.show()"
      ]
    },
    {
      "cell_type": "code",
      "execution_count": 31,
      "metadata": {
        "id": "2lDN17WUbH7B",
        "colab": {
          "base_uri": "https://localhost:8080/",
          "height": 482
        },
        "outputId": "5ac1ae07-f50d-4809-f19a-4e0bc39d224b"
      },
      "outputs": [
        {
          "output_type": "display_data",
          "data": {
            "text/plain": [
              "<Figure size 792x576 with 20 Axes>"
            ],
            "image/png": "[encoded data removed]"
          },
          "metadata": {
            "needs_background": "light"
          }
        }
      ],
      "source": [
        "show_data_scheme(X_train, y_train)"
      ]
    },
    {
      "cell_type": "markdown",
      "metadata": {
        "id": "8CHG1hCCbH7B"
      },
      "source": [
        "3. Base line accuracy 측정 "
      ]
    },
    {
      "cell_type": "markdown",
      "metadata": {
        "id": "3PwmEb8PbH7C"
      },
      "source": [
        "3 - A. Lenet5"
      ]
    },
    {
      "cell_type": "code",
      "execution_count": 11,
      "metadata": {
        "id": "oDxz1TiTbH7D",
        "colab": {
          "base_uri": "https://localhost:8080/"
        },
        "outputId": "30db221d-8b3a-4961-cf31-a284e59abe33"
      },
      "outputs": [
        {
          "output_type": "stream",
          "name": "stdout",
          "text": [
            "Model: \"sequential\"\n",
            "_________________________________________________________________\n",
            " Layer (type)                Output Shape              Param #   \n",
            "=================================================================\n",
            " conv2d (Conv2D)             (None, 28, 28, 6)         156       \n",
            "                                                                 \n",
            " average_pooling2d (AverageP  (None, 14, 14, 6)        0         \n",
            " ooling2D)                                                       \n",
            "                                                                 \n",
            " conv2d_1 (Conv2D)           (None, 10, 10, 16)        2416      \n",
            "                                                                 \n",
            " average_pooling2d_1 (Averag  (None, 5, 5, 16)         0         \n",
            " ePooling2D)                                                     \n",
            "                                                                 \n",
            " conv2d_2 (Conv2D)           (None, 1, 1, 120)         48120     \n",
            "                                                                 \n",
            " flatten (Flatten)           (None, 120)               0         \n",
            "                                                                 \n",
            " dense (Dense)               (None, 84)                10164     \n",
            "                                                                 \n",
            " dense_1 (Dense)             (None, 62)                5270      \n",
            "                                                                 \n",
            "=================================================================\n",
            "Total params: 66,126\n",
            "Trainable params: 66,126\n",
            "Non-trainable params: 0\n",
            "_________________________________________________________________\n"
          ]
        }
      ],
      "source": [
        "# basic lenet\n",
        "lenet_5_model = keras.models.Sequential([\n",
        "    keras.layers.Conv2D(6, kernel_size=5, strides=1,  activation='tanh', input_shape=X_train[0].shape, padding='same'),\n",
        "    keras.layers.AveragePooling2D(),\n",
        "    keras.layers.Conv2D(16, kernel_size=5, strides=1, activation='tanh', padding='valid'),\n",
        "    keras.layers.AveragePooling2D(),\n",
        "    keras.layers.Conv2D(120, kernel_size=5, strides=1, activation='tanh', padding='valid'),\n",
        "    keras.layers.Flatten(),   \n",
        "    keras.layers.Dense(84, activation='tanh'),\n",
        "    keras.layers.Dense(62, activation='softmax')\n",
        "])\n",
        "lenet_5_model.summary()"
      ]
    },
    {
      "cell_type": "code",
      "source": [
        "lenet_5_model.compile(optimizer='adam', loss=keras.losses.categorical_crossentropy, metrics=['accuracy'])\n",
        "early_stopping_cb = keras.callbacks.EarlyStopping(patience=5, restore_best_weights=True)\n",
        "lenet_5_model.fit(X_train, y_train, epochs=100, batch_size = 512 ,validation_data=(X_val, y_val), callbacks=[early_stopping_cb])"
      ],
      "metadata": {
        "colab": {
          "base_uri": "https://localhost:8080/"
        },
        "id": "vnU1K2nHQJvE",
        "outputId": "8bcbf063-286d-41fd-8d72-59950302d112"
      },
      "execution_count": 12,
      "outputs": [
        {
          "output_type": "stream",
          "name": "stdout",
          "text": [
            "Epoch 1/100\n",
            "1091/1091 [==============================] - 12s 8ms/step - loss: 0.8496 - accuracy: 0.7534 - val_loss: 0.5126 - val_accuracy: 0.8269\n",
            "Epoch 2/100\n",
            "1091/1091 [==============================] - 8s 7ms/step - loss: 0.4715 - accuracy: 0.8369 - val_loss: 0.4533 - val_accuracy: 0.8416\n",
            "Epoch 3/100\n",
            "1091/1091 [==============================] - 8s 7ms/step - loss: 0.4313 - accuracy: 0.8470 - val_loss: 0.4281 - val_accuracy: 0.8476\n",
            "Epoch 4/100\n",
            "1091/1091 [==============================] - 8s 7ms/step - loss: 0.4120 - accuracy: 0.8519 - val_loss: 0.4126 - val_accuracy: 0.8524\n",
            "Epoch 5/100\n",
            "1091/1091 [==============================] - 8s 7ms/step - loss: 0.3996 - accuracy: 0.8555 - val_loss: 0.4161 - val_accuracy: 0.8500\n",
            "Epoch 6/100\n",
            "1091/1091 [==============================] - 9s 8ms/step - loss: 0.3914 - accuracy: 0.8575 - val_loss: 0.4047 - val_accuracy: 0.8539\n",
            "Epoch 7/100\n",
            "1091/1091 [==============================] - 9s 8ms/step - loss: 0.3840 - accuracy: 0.8591 - val_loss: 0.3995 - val_accuracy: 0.8563\n",
            "Epoch 8/100\n",
            "1091/1091 [==============================] - 9s 9ms/step - loss: 0.3778 - accuracy: 0.8609 - val_loss: 0.3945 - val_accuracy: 0.8575\n",
            "Epoch 9/100\n",
            "1091/1091 [==============================] - 9s 8ms/step - loss: 0.3727 - accuracy: 0.8626 - val_loss: 0.3967 - val_accuracy: 0.8565\n",
            "Epoch 10/100\n",
            "1091/1091 [==============================] - 8s 7ms/step - loss: 0.3686 - accuracy: 0.8636 - val_loss: 0.3916 - val_accuracy: 0.8581\n",
            "Epoch 11/100\n",
            "1091/1091 [==============================] - 9s 8ms/step - loss: 0.3645 - accuracy: 0.8647 - val_loss: 0.3926 - val_accuracy: 0.8579\n",
            "Epoch 12/100\n",
            "1091/1091 [==============================] - 8s 7ms/step - loss: 0.3617 - accuracy: 0.8652 - val_loss: 0.3919 - val_accuracy: 0.8575\n",
            "Epoch 13/100\n",
            "1091/1091 [==============================] - 8s 7ms/step - loss: 0.3578 - accuracy: 0.8666 - val_loss: 0.3892 - val_accuracy: 0.8583\n",
            "Epoch 14/100\n",
            "1091/1091 [==============================] - 10s 9ms/step - loss: 0.3551 - accuracy: 0.8673 - val_loss: 0.3910 - val_accuracy: 0.8575\n",
            "Epoch 15/100\n",
            "1091/1091 [==============================] - 9s 9ms/step - loss: 0.3522 - accuracy: 0.8681 - val_loss: 0.3950 - val_accuracy: 0.8562\n",
            "Epoch 16/100\n",
            "1091/1091 [==============================] - 8s 8ms/step - loss: 0.3494 - accuracy: 0.8688 - val_loss: 0.3865 - val_accuracy: 0.8599\n",
            "Epoch 17/100\n",
            "1091/1091 [==============================] - 9s 8ms/step - loss: 0.3474 - accuracy: 0.8693 - val_loss: 0.3882 - val_accuracy: 0.8598\n",
            "Epoch 18/100\n",
            "1091/1091 [==============================] - 9s 8ms/step - loss: 0.3452 - accuracy: 0.8702 - val_loss: 0.3846 - val_accuracy: 0.8608\n",
            "Epoch 19/100\n",
            "1091/1091 [==============================] - 9s 8ms/step - loss: 0.3429 - accuracy: 0.8708 - val_loss: 0.3876 - val_accuracy: 0.8598\n",
            "Epoch 20/100\n",
            "1091/1091 [==============================] - 9s 8ms/step - loss: 0.3411 - accuracy: 0.8713 - val_loss: 0.3909 - val_accuracy: 0.8591\n",
            "Epoch 21/100\n",
            "1091/1091 [==============================] - 9s 8ms/step - loss: 0.3391 - accuracy: 0.8715 - val_loss: 0.3891 - val_accuracy: 0.8591\n",
            "Epoch 22/100\n",
            "1091/1091 [==============================] - 10s 9ms/step - loss: 0.3375 - accuracy: 0.8723 - val_loss: 0.3898 - val_accuracy: 0.8593\n",
            "Epoch 23/100\n",
            "1091/1091 [==============================] - 8s 8ms/step - loss: 0.3357 - accuracy: 0.8726 - val_loss: 0.3889 - val_accuracy: 0.8583\n",
            "3636/3636 [==============================] - 13s 3ms/step - loss: 0.3808 - accuracy: 0.8606\n"
          ]
        },
        {
          "output_type": "execute_result",
          "data": {
            "text/plain": [
              "[0.38082003593444824, 0.8605950474739075]"
            ]
          },
          "metadata": {},
          "execution_count": 12
        }
      ]
    },
    {
      "cell_type": "code",
      "source": [
        "lenet_5_model.evaluate(X_test/255., y_test)\n",
        "lenet_5_model.save(\"submit_basic_lenet.h5\", save_format=\"h5\")"
      ],
      "metadata": {
        "colab": {
          "base_uri": "https://localhost:8080/"
        },
        "id": "5yvhKPrbStvB",
        "outputId": "975e4480-2083-4a90-984d-252978c3097c"
      },
      "execution_count": 13,
      "outputs": [
        {
          "output_type": "stream",
          "name": "stdout",
          "text": [
            "3636/3636 [==============================] - 12s 3ms/step - loss: 0.3808 - accuracy: 0.8606\n"
          ]
        }
      ]
    },
    {
      "cell_type": "markdown",
      "metadata": {
        "id": "brycW6YSbH7E"
      },
      "source": [
        "LeNet_5_SeLU\n",
        "\n",
        "SeLU performs better(speed & accuracy)"
      ]
    },
    {
      "cell_type": "code",
      "execution_count": 14,
      "metadata": {
        "id": "P3mbjx1VbH7F",
        "colab": {
          "base_uri": "https://localhost:8080/"
        },
        "outputId": "938c2764-14ae-4ef8-c58a-16df7fb69b47"
      },
      "outputs": [
        {
          "output_type": "stream",
          "name": "stdout",
          "text": [
            "Model: \"sequential\"\n",
            "_________________________________________________________________\n",
            " Layer (type)                Output Shape              Param #   \n",
            "=================================================================\n",
            " conv2d (Conv2D)             (None, 28, 28, 6)         156       \n",
            "                                                                 \n",
            " average_pooling2d (AverageP  (None, 14, 14, 6)        0         \n",
            " ooling2D)                                                       \n",
            "                                                                 \n",
            " conv2d_1 (Conv2D)           (None, 10, 10, 16)        2416      \n",
            "                                                                 \n",
            " average_pooling2d_1 (Averag  (None, 5, 5, 16)         0         \n",
            " ePooling2D)                                                     \n",
            "                                                                 \n",
            " conv2d_2 (Conv2D)           (None, 1, 1, 120)         48120     \n",
            "                                                                 \n",
            " flatten (Flatten)           (None, 120)               0         \n",
            "                                                                 \n",
            " dense (Dense)               (None, 84)                10164     \n",
            "                                                                 \n",
            " dense_1 (Dense)             (None, 62)                5270      \n",
            "                                                                 \n",
            "=================================================================\n",
            "Total params: 66,126\n",
            "Trainable params: 66,126\n",
            "Non-trainable params: 0\n",
            "_________________________________________________________________\n"
          ]
        }
      ],
      "source": [
        "#selu 적용 lenet\n",
        "\n",
        "keras.backend.clear_session()\n",
        "\n",
        "lenet_5_selu_model = keras.models.Sequential([\n",
        "    keras.layers.Conv2D(6, kernel_size=5, strides=1,  activation=\"selu\", kernel_initializer=\"lecun_normal\", input_shape=X_train[0].shape, padding='same'),\n",
        "    keras.layers.AveragePooling2D(),\n",
        "    keras.layers.Conv2D(16, kernel_size=5, strides=1, activation=\"selu\", kernel_initializer=\"lecun_normal\", padding='valid'),\n",
        "    keras.layers.AveragePooling2D(),\n",
        "    keras.layers.Conv2D(120, kernel_size=5, strides=1, activation=\"selu\", kernel_initializer=\"lecun_normal\", padding='valid'),\n",
        "    keras.layers.Flatten(),   \n",
        "    keras.layers.Dense(84, activation=\"selu\", kernel_initializer=\"lecun_normal\"),\n",
        "    keras.layers.Dense(62, activation='softmax')\n",
        "])\n",
        "\n",
        "lenet_5_selu_model.summary()"
      ]
    },
    {
      "cell_type": "code",
      "execution_count": 15,
      "metadata": {
        "id": "8fHtepMIbH7G",
        "colab": {
          "base_uri": "https://localhost:8080/"
        },
        "outputId": "666d3d03-4df1-46a3-f528-ff347037a488"
      },
      "outputs": [
        {
          "output_type": "stream",
          "name": "stdout",
          "text": [
            "Epoch 1/10\n",
            "1091/1091 [==============================] - 10s 8ms/step - loss: 0.7730 - accuracy: 0.7651 - val_loss: 0.5087 - val_accuracy: 0.8263\n",
            "Epoch 2/10\n",
            "1091/1091 [==============================] - 9s 8ms/step - loss: 0.4706 - accuracy: 0.8361 - val_loss: 0.4489 - val_accuracy: 0.8415\n",
            "Epoch 3/10\n",
            "1091/1091 [==============================] - 10s 9ms/step - loss: 0.4322 - accuracy: 0.8459 - val_loss: 0.4284 - val_accuracy: 0.8474\n",
            "Epoch 4/10\n",
            "1091/1091 [==============================] - 9s 8ms/step - loss: 0.4126 - accuracy: 0.8513 - val_loss: 0.4228 - val_accuracy: 0.8486\n",
            "Epoch 5/10\n",
            "1091/1091 [==============================] - 9s 8ms/step - loss: 0.3985 - accuracy: 0.8555 - val_loss: 0.4044 - val_accuracy: 0.8546\n",
            "Epoch 6/10\n",
            "1091/1091 [==============================] - 9s 8ms/step - loss: 0.3888 - accuracy: 0.8580 - val_loss: 0.4053 - val_accuracy: 0.8518\n",
            "Epoch 7/10\n",
            "1091/1091 [==============================] - 9s 9ms/step - loss: 0.3810 - accuracy: 0.8599 - val_loss: 0.3949 - val_accuracy: 0.8565\n",
            "Epoch 8/10\n",
            "1091/1091 [==============================] - 9s 9ms/step - loss: 0.3754 - accuracy: 0.8612 - val_loss: 0.3934 - val_accuracy: 0.8559\n",
            "Epoch 9/10\n",
            "1091/1091 [==============================] - 9s 8ms/step - loss: 0.3698 - accuracy: 0.8630 - val_loss: 0.3892 - val_accuracy: 0.8597\n",
            "Epoch 10/10\n",
            "1091/1091 [==============================] - 9s 8ms/step - loss: 0.3641 - accuracy: 0.8645 - val_loss: 0.3849 - val_accuracy: 0.8606\n"
          ]
        },
        {
          "output_type": "execute_result",
          "data": {
            "text/plain": [
              "<keras.callbacks.History at 0x7fa28020db50>"
            ]
          },
          "metadata": {},
          "execution_count": 15
        }
      ],
      "source": [
        "lenet_5_selu_model.compile(optimizer='adam', loss=keras.losses.categorical_crossentropy, metrics=['accuracy'])\n",
        "early_stopping_cb = keras.callbacks.EarlyStopping(patience=5, restore_best_weights=True)\n",
        "lenet_5_selu_model.fit(X_train, y_train, epochs=10, batch_size = 512, validation_data=(X_val, y_val), callbacks=[early_stopping_cb])"
      ]
    },
    {
      "cell_type": "code",
      "source": [
        "lenet_5_selu_model.evaluate(X_test/255., y_test)\n",
        "lenet_5_selu_model.save(\"submit_lenet_selu.h5\", save_format=\"h5\")"
      ],
      "metadata": {
        "colab": {
          "base_uri": "https://localhost:8080/"
        },
        "id": "xMONU2ktTX3N",
        "outputId": "17151ad1-5bc6-440b-942a-39d4ec66126d"
      },
      "execution_count": 16,
      "outputs": [
        {
          "output_type": "stream",
          "name": "stdout",
          "text": [
            "3636/3636 [==============================] - 14s 4ms/step - loss: 0.3832 - accuracy: 0.8611\n"
          ]
        }
      ]
    },
    {
      "cell_type": "markdown",
      "metadata": {
        "id": "q4QBKTXBt6De"
      },
      "source": [
        "He Yanmei SeLU Lenet_5 model\n",
        "\n",
        "Lowers amount of parameters = lower inference time, less stable model"
      ]
    },
    {
      "cell_type": "code",
      "execution_count": 17,
      "metadata": {
        "id": "yGdln7Iot6De",
        "colab": {
          "base_uri": "https://localhost:8080/"
        },
        "outputId": "801c6406-8539-47af-e488-c51936ca5e67"
      },
      "outputs": [
        {
          "output_type": "stream",
          "name": "stdout",
          "text": [
            "Model: \"sequential\"\n",
            "_________________________________________________________________\n",
            " Layer (type)                Output Shape              Param #   \n",
            "=================================================================\n",
            " conv2d (Conv2D)             (None, 14, 14, 32)        832       \n",
            "                                                                 \n",
            " conv2d_1 (Conv2D)           (None, 6, 6, 64)          18496     \n",
            "                                                                 \n",
            " conv2d_2 (Conv2D)           (None, 6, 6, 32)          2080      \n",
            "                                                                 \n",
            " global_average_pooling2d (G  (None, 32)               0         \n",
            " lobalAveragePooling2D)                                          \n",
            "                                                                 \n",
            " flatten (Flatten)           (None, 32)                0         \n",
            "                                                                 \n",
            " dense (Dense)               (None, 62)                2046      \n",
            "                                                                 \n",
            "=================================================================\n",
            "Total params: 23,454\n",
            "Trainable params: 23,454\n",
            "Non-trainable params: 0\n",
            "_________________________________________________________________\n"
          ]
        }
      ],
      "source": [
        "# he yanmei selu lenet5 모델\n",
        "\n",
        "keras.backend.clear_session()\n",
        "\n",
        "lenet_5_improved_model = keras.models.Sequential([\n",
        "    keras.layers.Conv2D(32, kernel_size=5, strides=2, activation=\"selu\", kernel_initializer=\"lecun_normal\", input_shape=X_train[0].shape, padding='same'),\n",
        "    keras.layers.Conv2D(64, kernel_size=3, strides=2, activation=\"selu\", kernel_initializer=\"lecun_normal\", padding='valid'),\n",
        "    keras.layers.Conv2D(32, kernel_size=1, strides=1, activation=\"selu\", kernel_initializer=\"lecun_normal\", padding='valid'),\n",
        "    keras.layers.GlobalAveragePooling2D(),\n",
        "    keras.layers.Flatten(),\n",
        "    keras.layers.Dense(62, activation='softmax')\n",
        "])\n",
        "lenet_5_improved_model.summary()"
      ]
    },
    {
      "cell_type": "code",
      "execution_count": 19,
      "metadata": {
        "id": "2G6TTZPft6De",
        "colab": {
          "base_uri": "https://localhost:8080/"
        },
        "outputId": "6f05a356-e332-4839-ebce-580268331c2a"
      },
      "outputs": [
        {
          "output_type": "stream",
          "name": "stdout",
          "text": [
            "Epoch 1/100\n",
            "1091/1091 [==============================] - 8s 7ms/step - loss: 1.9489 - accuracy: 0.4886 - val_loss: 1.1852 - val_accuracy: 0.6588\n",
            "Epoch 2/100\n",
            "1091/1091 [==============================] - 7s 6ms/step - loss: 1.0109 - accuracy: 0.7026 - val_loss: 0.9104 - val_accuracy: 0.7229\n",
            "Epoch 3/100\n",
            "1091/1091 [==============================] - 7s 6ms/step - loss: 0.8481 - accuracy: 0.7401 - val_loss: 0.8046 - val_accuracy: 0.7509\n",
            "Epoch 4/100\n",
            "1091/1091 [==============================] - 7s 6ms/step - loss: 0.7730 - accuracy: 0.7580 - val_loss: 0.7456 - val_accuracy: 0.7648\n",
            "Epoch 5/100\n",
            "1091/1091 [==============================] - 7s 6ms/step - loss: 0.7255 - accuracy: 0.7701 - val_loss: 0.7121 - val_accuracy: 0.7684\n",
            "Epoch 6/100\n",
            "1091/1091 [==============================] - 7s 6ms/step - loss: 0.6930 - accuracy: 0.7786 - val_loss: 0.6920 - val_accuracy: 0.7790\n",
            "Epoch 7/100\n",
            "1091/1091 [==============================] - 7s 6ms/step - loss: 0.6679 - accuracy: 0.7852 - val_loss: 0.6636 - val_accuracy: 0.7867\n",
            "Epoch 8/100\n",
            "1091/1091 [==============================] - 7s 6ms/step - loss: 0.6473 - accuracy: 0.7911 - val_loss: 0.6496 - val_accuracy: 0.7896\n",
            "Epoch 9/100\n",
            "1091/1091 [==============================] - 7s 6ms/step - loss: 0.6309 - accuracy: 0.7951 - val_loss: 0.6287 - val_accuracy: 0.7968\n",
            "Epoch 10/100\n",
            "1091/1091 [==============================] - 7s 6ms/step - loss: 0.6162 - accuracy: 0.7991 - val_loss: 0.6129 - val_accuracy: 0.8009\n",
            "Epoch 11/100\n",
            "1091/1091 [==============================] - 7s 6ms/step - loss: 0.6050 - accuracy: 0.8023 - val_loss: 0.6054 - val_accuracy: 0.7993\n",
            "Epoch 12/100\n",
            "1091/1091 [==============================] - 7s 6ms/step - loss: 0.5947 - accuracy: 0.8051 - val_loss: 0.5952 - val_accuracy: 0.8048\n",
            "Epoch 13/100\n",
            "1091/1091 [==============================] - 7s 6ms/step - loss: 0.5855 - accuracy: 0.8079 - val_loss: 0.5896 - val_accuracy: 0.8053\n",
            "Epoch 14/100\n",
            "1091/1091 [==============================] - 7s 6ms/step - loss: 0.5763 - accuracy: 0.8102 - val_loss: 0.5867 - val_accuracy: 0.8066\n",
            "Epoch 15/100\n",
            "1091/1091 [==============================] - 7s 7ms/step - loss: 0.5705 - accuracy: 0.8119 - val_loss: 0.5736 - val_accuracy: 0.8129\n",
            "Epoch 16/100\n",
            "1091/1091 [==============================] - 7s 6ms/step - loss: 0.5634 - accuracy: 0.8135 - val_loss: 0.5710 - val_accuracy: 0.8136\n",
            "Epoch 17/100\n",
            "1091/1091 [==============================] - 7s 6ms/step - loss: 0.5564 - accuracy: 0.8154 - val_loss: 0.5591 - val_accuracy: 0.8158\n",
            "Epoch 18/100\n",
            "1091/1091 [==============================] - 7s 6ms/step - loss: 0.5511 - accuracy: 0.8171 - val_loss: 0.5536 - val_accuracy: 0.8175\n",
            "Epoch 19/100\n",
            "1091/1091 [==============================] - 7s 6ms/step - loss: 0.5468 - accuracy: 0.8181 - val_loss: 0.5548 - val_accuracy: 0.8161\n",
            "Epoch 20/100\n",
            "1091/1091 [==============================] - 7s 6ms/step - loss: 0.5419 - accuracy: 0.8193 - val_loss: 0.5467 - val_accuracy: 0.8182\n",
            "Epoch 21/100\n",
            "1091/1091 [==============================] - 7s 6ms/step - loss: 0.5364 - accuracy: 0.8209 - val_loss: 0.5404 - val_accuracy: 0.8204\n",
            "Epoch 22/100\n",
            "1091/1091 [==============================] - 7s 7ms/step - loss: 0.5327 - accuracy: 0.8221 - val_loss: 0.5391 - val_accuracy: 0.8217\n",
            "Epoch 23/100\n",
            "1091/1091 [==============================] - 7s 6ms/step - loss: 0.5284 - accuracy: 0.8234 - val_loss: 0.5395 - val_accuracy: 0.8205\n",
            "Epoch 24/100\n",
            "1091/1091 [==============================] - 7s 6ms/step - loss: 0.5245 - accuracy: 0.8244 - val_loss: 0.5370 - val_accuracy: 0.8223\n",
            "Epoch 25/100\n",
            "1091/1091 [==============================] - 7s 6ms/step - loss: 0.5205 - accuracy: 0.8254 - val_loss: 0.5306 - val_accuracy: 0.8233\n",
            "Epoch 26/100\n",
            "1091/1091 [==============================] - 7s 7ms/step - loss: 0.5173 - accuracy: 0.8261 - val_loss: 0.5256 - val_accuracy: 0.8242\n",
            "Epoch 27/100\n",
            "1091/1091 [==============================] - 7s 6ms/step - loss: 0.5141 - accuracy: 0.8272 - val_loss: 0.5234 - val_accuracy: 0.8247\n",
            "Epoch 28/100\n",
            "1091/1091 [==============================] - 7s 6ms/step - loss: 0.5107 - accuracy: 0.8281 - val_loss: 0.5199 - val_accuracy: 0.8266\n",
            "Epoch 29/100\n",
            "1091/1091 [==============================] - 7s 6ms/step - loss: 0.5076 - accuracy: 0.8290 - val_loss: 0.5196 - val_accuracy: 0.8261\n",
            "Epoch 30/100\n",
            "1091/1091 [==============================] - 7s 6ms/step - loss: 0.5050 - accuracy: 0.8294 - val_loss: 0.5169 - val_accuracy: 0.8273\n",
            "Epoch 31/100\n",
            "1091/1091 [==============================] - 7s 6ms/step - loss: 0.5026 - accuracy: 0.8303 - val_loss: 0.5136 - val_accuracy: 0.8293\n",
            "Epoch 32/100\n",
            "1091/1091 [==============================] - 7s 6ms/step - loss: 0.5010 - accuracy: 0.8308 - val_loss: 0.5114 - val_accuracy: 0.8289\n",
            "Epoch 33/100\n",
            "1091/1091 [==============================] - 7s 6ms/step - loss: 0.4977 - accuracy: 0.8318 - val_loss: 0.5108 - val_accuracy: 0.8295\n",
            "Epoch 34/100\n",
            "1091/1091 [==============================] - 7s 6ms/step - loss: 0.4957 - accuracy: 0.8325 - val_loss: 0.5104 - val_accuracy: 0.8304\n",
            "Epoch 35/100\n",
            "1091/1091 [==============================] - 7s 6ms/step - loss: 0.4938 - accuracy: 0.8327 - val_loss: 0.5033 - val_accuracy: 0.8322\n",
            "Epoch 36/100\n",
            "1091/1091 [==============================] - 7s 6ms/step - loss: 0.4914 - accuracy: 0.8335 - val_loss: 0.5117 - val_accuracy: 0.8283\n",
            "Epoch 37/100\n",
            "1091/1091 [==============================] - 7s 6ms/step - loss: 0.4899 - accuracy: 0.8342 - val_loss: 0.5068 - val_accuracy: 0.8290\n",
            "Epoch 38/100\n",
            "1091/1091 [==============================] - 7s 6ms/step - loss: 0.4875 - accuracy: 0.8347 - val_loss: 0.5059 - val_accuracy: 0.8311\n",
            "Epoch 39/100\n",
            "1091/1091 [==============================] - 7s 6ms/step - loss: 0.4858 - accuracy: 0.8346 - val_loss: 0.5070 - val_accuracy: 0.8285\n",
            "Epoch 40/100\n",
            "1091/1091 [==============================] - 7s 6ms/step - loss: 0.4843 - accuracy: 0.8357 - val_loss: 0.5027 - val_accuracy: 0.8291\n",
            "Epoch 41/100\n",
            "1091/1091 [==============================] - 7s 6ms/step - loss: 0.4818 - accuracy: 0.8362 - val_loss: 0.5042 - val_accuracy: 0.8299\n",
            "Epoch 42/100\n",
            "1091/1091 [==============================] - 7s 6ms/step - loss: 0.4816 - accuracy: 0.8361 - val_loss: 0.5010 - val_accuracy: 0.8313\n",
            "Epoch 43/100\n",
            "1091/1091 [==============================] - 7s 6ms/step - loss: 0.4798 - accuracy: 0.8370 - val_loss: 0.4966 - val_accuracy: 0.8319\n",
            "Epoch 44/100\n",
            "1091/1091 [==============================] - 7s 6ms/step - loss: 0.4777 - accuracy: 0.8377 - val_loss: 0.4893 - val_accuracy: 0.8352\n",
            "Epoch 45/100\n",
            "1091/1091 [==============================] - 7s 6ms/step - loss: 0.4767 - accuracy: 0.8379 - val_loss: 0.4955 - val_accuracy: 0.8338\n",
            "Epoch 46/100\n",
            "1091/1091 [==============================] - 7s 6ms/step - loss: 0.4754 - accuracy: 0.8378 - val_loss: 0.4917 - val_accuracy: 0.8347\n",
            "Epoch 47/100\n",
            "1091/1091 [==============================] - 7s 6ms/step - loss: 0.4739 - accuracy: 0.8388 - val_loss: 0.4875 - val_accuracy: 0.8358\n",
            "Epoch 48/100\n",
            "1091/1091 [==============================] - 7s 6ms/step - loss: 0.4727 - accuracy: 0.8384 - val_loss: 0.4882 - val_accuracy: 0.8361\n",
            "Epoch 49/100\n",
            "1091/1091 [==============================] - 7s 6ms/step - loss: 0.4715 - accuracy: 0.8391 - val_loss: 0.4846 - val_accuracy: 0.8365\n",
            "Epoch 50/100\n",
            "1091/1091 [==============================] - 7s 6ms/step - loss: 0.4700 - accuracy: 0.8397 - val_loss: 0.4847 - val_accuracy: 0.8350\n",
            "Epoch 51/100\n",
            "1091/1091 [==============================] - 7s 6ms/step - loss: 0.4689 - accuracy: 0.8398 - val_loss: 0.4846 - val_accuracy: 0.8353\n",
            "Epoch 52/100\n",
            "1091/1091 [==============================] - 7s 6ms/step - loss: 0.4677 - accuracy: 0.8403 - val_loss: 0.4861 - val_accuracy: 0.8364\n",
            "Epoch 53/100\n",
            "1091/1091 [==============================] - 7s 6ms/step - loss: 0.4665 - accuracy: 0.8403 - val_loss: 0.4855 - val_accuracy: 0.8363\n",
            "Epoch 54/100\n",
            "1091/1091 [==============================] - 7s 6ms/step - loss: 0.4651 - accuracy: 0.8410 - val_loss: 0.4878 - val_accuracy: 0.8351\n"
          ]
        },
        {
          "output_type": "execute_result",
          "data": {
            "text/plain": [
              "<keras.callbacks.History at 0x7fa21676ef10>"
            ]
          },
          "metadata": {},
          "execution_count": 19
        }
      ],
      "source": [
        "lenet_5_improved_model.compile(optimizer='adam', loss=keras.losses.categorical_crossentropy, metrics=['accuracy'])\n",
        "\n",
        "early_stopping_cb = keras.callbacks.EarlyStopping(patience=5, restore_best_weights=True)\n",
        "model_checkpoint_cb = keras.callbacks.ModelCheckpoint(\"my_lenet5_emnist_model.h5\", save_best_only=True)\n",
        "lenet_5_improved_model.fit(X_train, y_train, epochs=100, batch_size = 512, validation_data=(X_val, y_val), callbacks=[early_stopping_cb])"
      ]
    },
    {
      "cell_type": "code",
      "source": [
        "lenet_5_improved_model.evaluate(X_test/255., y_test)\n",
        "lenet_5_improved_model.save(\"submit_improved_lenet5.h5\", save_format=\"h5\")"
      ],
      "metadata": {
        "colab": {
          "base_uri": "https://localhost:8080/"
        },
        "id": "JJLDcLPpT2L_",
        "outputId": "7158b482-9882-405b-b065-302e57624ac3"
      },
      "execution_count": 20,
      "outputs": [
        {
          "output_type": "stream",
          "name": "stdout",
          "text": [
            "3636/3636 [==============================] - 11s 3ms/step - loss: 0.4804 - accuracy: 0.8368\n"
          ]
        }
      ]
    },
    {
      "cell_type": "markdown",
      "metadata": {
        "id": "Te_4hp58bH7G"
      },
      "source": [
        "3 - B. Mobilenet"
      ]
    },
    {
      "cell_type": "code",
      "execution_count": 57,
      "metadata": {
        "id": "gq4WlwPcdMN6"
      },
      "outputs": [],
      "source": [
        "# numpy type의 data tf.tensor type으로 변경\n",
        "train_data = tf.convert_to_tensor(X_train, dtype=tf.float32)\n",
        "val_data = tf.convert_to_tensor(X_val, dtype=tf.float32)\n",
        "test_data = tf.convert_to_tensor(X_test, dtype=tf.float32)"
      ]
    },
    {
      "cell_type": "code",
      "source": [
        "print(train_data.shape, val_data.shape, test_data.shape)"
      ],
      "metadata": {
        "colab": {
          "base_uri": "https://localhost:8080/"
        },
        "id": "XPC4DRPkkMIF",
        "outputId": "9cb12433-fc57-4ccc-8625-b8fe0b5eb219"
      },
      "execution_count": 58,
      "outputs": [
        {
          "output_type": "stream",
          "name": "stdout",
          "text": [
            "(558345, 28, 28, 1) (139587, 28, 28, 1) (116323, 28, 28, 1)\n"
          ]
        }
      ]
    },
    {
      "cell_type": "code",
      "execution_count": 59,
      "metadata": {
        "id": "GXCu9gepdDT4"
      },
      "outputs": [],
      "source": [
        "# 1채널 gray 영상 3채널로 변경 -> pretrained model이 3채널 영상 사용하기 때문\n",
        "final_train = tf.image.grayscale_to_rgb(train_data)\n",
        "final_val = tf.image.grayscale_to_rgb(val_data)\n",
        "final_test = tf.image.grayscale_to_rgb(test_data)"
      ]
    },
    {
      "cell_type": "code",
      "source": [
        "print(final_train.shape, final_val.shape, final_test.shape)"
      ],
      "metadata": {
        "colab": {
          "base_uri": "https://localhost:8080/"
        },
        "id": "QFdB7Y4uL8lE",
        "outputId": "1482ca05-107e-4dd8-a87f-df5cc39bd85d"
      },
      "execution_count": 60,
      "outputs": [
        {
          "output_type": "stream",
          "name": "stdout",
          "text": [
            "(558345, 28, 28, 3) (139587, 28, 28, 3) (116323, 28, 28, 3)\n"
          ]
        }
      ]
    },
    {
      "cell_type": "code",
      "execution_count": 61,
      "metadata": {
        "id": "n3KmN-fOeq-X",
        "colab": {
          "base_uri": "https://localhost:8080/"
        },
        "outputId": "538d454f-4fa7-4259-cd34-d5a79f2c83d5"
      },
      "outputs": [
        {
          "output_type": "stream",
          "name": "stdout",
          "text": [
            "Downloading data from https://storage.googleapis.com/tensorflow/keras-applications/mobilenet_v2/mobilenet_v2_weights_tf_dim_ordering_tf_kernels_1.0_224_no_top.h5\n",
            "9412608/9406464 [==============================] - 0s 0us/step\n",
            "9420800/9406464 [==============================] - 0s 0us/step\n"
          ]
        }
      ],
      "source": [
        "# mobilenet predtrained model 다운로드\n",
        "mobile2 = tf.keras.applications.mobilenet_v2.MobileNetV2(input_shape = (224, 224, 3), include_top=False)"
      ]
    },
    {
      "cell_type": "code",
      "execution_count": 62,
      "metadata": {
        "id": "d9OC83dfbH7G",
        "colab": {
          "base_uri": "https://localhost:8080/"
        },
        "outputId": "94fa6fef-1551-463d-d074-39cdb7022572"
      },
      "outputs": [
        {
          "output_type": "stream",
          "name": "stdout",
          "text": [
            "Model: \"sequential\"\n",
            "_________________________________________________________________\n",
            " Layer (type)                Output Shape              Param #   \n",
            "=================================================================\n",
            " resizing (Resizing)         (None, 224, 224, 3)       0         \n",
            "                                                                 \n",
            " mobilenetv2_1.00_224 (Funct  (None, 7, 7, 1280)       2257984   \n",
            " ional)                                                          \n",
            "                                                                 \n",
            " global_average_pooling2d (G  (None, 1280)             0         \n",
            " lobalAveragePooling2D)                                          \n",
            "                                                                 \n",
            " dense_1 (Dense)             (None, 800)               1024800   \n",
            "                                                                 \n",
            " leaky_re_lu (LeakyReLU)     (None, 800)               0         \n",
            "                                                                 \n",
            " dense_2 (Dense)             (None, 100)               80100     \n",
            "                                                                 \n",
            " leaky_re_lu_1 (LeakyReLU)   (None, 100)               0         \n",
            "                                                                 \n",
            " dense (Dense)               (None, 62)                6262      \n",
            "                                                                 \n",
            "=================================================================\n",
            "Total params: 3,369,146\n",
            "Trainable params: 3,335,034\n",
            "Non-trainable params: 34,112\n",
            "_________________________________________________________________\n"
          ]
        }
      ],
      "source": [
        "# mobilenoet v2 파라미터 변경 baseline(test_acc : 0.8805)\n",
        "# Mobile_ReLU_SGD_800_05.h5\n",
        "\n",
        "early_stopping_cb = keras.callbacks.EarlyStopping(patience=10, restore_best_weights=True)\n",
        "global_average_layer = tf.keras.layers.GlobalAveragePooling2D()\n",
        "prediction_layer = tf.keras.layers.Dense(62, activation = 'softmax')\n",
        "\n",
        "optimizer = keras.optimizers.SGD(learning_rate = 0.05)\n",
        "\n",
        "mobilev2_best_model = keras.models.Sequential()\n",
        "# mobilev2_best_model.add(tf.keras.layers.Normalization( axis=-1, mean=44.412914, variance=84.77896, input_shape = (28, 28, 3)))\n",
        "mobilev2_best_model.add(tf.keras.layers.Resizing(height = 224, width = 224, input_shape = (28, 28, 3)))\n",
        "mobilev2_best_model.add(mobile2)\n",
        "mobilev2_best_model.add(global_average_layer)\n",
        "mobilev2_best_model.add(tf.keras.layers.Dense(800))\n",
        "mobilev2_best_model.add(tf.keras.layers.LeakyReLU())\n",
        "mobilev2_best_model.add(tf.keras.layers.Dense(100))\n",
        "mobilev2_best_model.add(tf.keras.layers.LeakyReLU())\n",
        "mobilev2_best_model.add(prediction_layer)\n",
        "\n",
        "mobilev2_best_model.summary()"
      ]
    },
    {
      "cell_type": "code",
      "execution_count": 63,
      "metadata": {
        "id": "2R6flr8chq9O",
        "colab": {
          "base_uri": "https://localhost:8080/"
        },
        "outputId": "e3d0bbb9-4860-4771-febf-a43ad6b7233f"
      },
      "outputs": [
        {
          "output_type": "stream",
          "name": "stdout",
          "text": [
            "8725/8725 [==============================] - 2681s 306ms/step - loss: 0.3957 - accuracy: 0.8582 - val_loss: 0.3483 - val_accuracy: 0.8669\n"
          ]
        }
      ],
      "source": [
        "# 모델 compile 및 training\n",
        "early_stopping_cb = keras.callbacks.EarlyStopping(patience=5, restore_best_weights=True)\n",
        "mobilev2_best_model.compile(loss=\"categorical_crossentropy\",\n",
        "                optimizer=optimizer,\n",
        "                metrics=[\"accuracy\"])\n",
        "best_history = mobilev2_best_model.fit(final_train, y_train, batch_size = 64, epochs=1, validation_data=(final_val, y_val), callbacks=[early_stopping_cb])"
      ]
    },
    {
      "cell_type": "code",
      "execution_count": 29,
      "metadata": {
        "id": "hiLre_JPgTeV",
        "colab": {
          "base_uri": "https://localhost:8080/"
        },
        "outputId": "e88a830d-23ad-4de7-869d-3df56ca1c575"
      },
      "outputs": [
        {
          "output_type": "stream",
          "name": "stdout",
          "text": [
            "3636/3636 [==============================] - 99s 27ms/step - loss: 0.3236 - accuracy: 0.8774\n"
          ]
        },
        {
          "output_type": "execute_result",
          "data": {
            "text/plain": [
              "[0.32357779145240784, 0.8774102926254272]"
            ]
          },
          "metadata": {},
          "execution_count": 29
        }
      ],
      "source": [
        "# 모델 eval\n",
        "mobilev2_best_model.evaluate(final_test/255., y_test)\n",
        "mobilev2_best_model.save(\"submit_emnist_mobilev2.h5\", save_format=\"h5\")"
      ]
    },
    {
      "cell_type": "markdown",
      "metadata": {
        "id": "EvY08e4fbH7I"
      },
      "source": [
        "4. Model 선정 및 학습"
      ]
    },
    {
      "cell_type": "markdown",
      "metadata": {
        "id": "7t02MvV0bH7I"
      },
      "source": [
        "4 - A.  Lenet base - new architecture"
      ]
    },
    {
      "cell_type": "code",
      "execution_count": 52,
      "metadata": {
        "id": "INefDJ4xbH7J",
        "colab": {
          "base_uri": "https://localhost:8080/"
        },
        "outputId": "4d46ac03-7bbe-41bb-8df4-33aa06f4e67d"
      },
      "outputs": [
        {
          "output_type": "stream",
          "name": "stdout",
          "text": [
            "Model: \"sequential\"\n",
            "_________________________________________________________________\n",
            " Layer (type)                Output Shape              Param #   \n",
            "=================================================================\n",
            " conv2d (Conv2D)             (None, 14, 14, 32)        832       \n",
            "                                                                 \n",
            " conv2d_1 (Conv2D)           (None, 6, 6, 64)          18496     \n",
            "                                                                 \n",
            " conv2d_2 (Conv2D)           (None, 6, 6, 32)          2080      \n",
            "                                                                 \n",
            " global_average_pooling2d (G  (None, 32)               0         \n",
            " lobalAveragePooling2D)                                          \n",
            "                                                                 \n",
            " flatten (Flatten)           (None, 32)                0         \n",
            "                                                                 \n",
            " dense (Dense)               (None, 62)                2046      \n",
            "                                                                 \n",
            "=================================================================\n",
            "Total params: 23,454\n",
            "Trainable params: 23,454\n",
            "Non-trainable params: 0\n",
            "_________________________________________________________________\n"
          ]
        }
      ],
      "source": [
        "keras.backend.clear_session()\n",
        "\n",
        "lenet_5_improved_model2 = keras.models.Sequential([\n",
        "    keras.layers.Conv2D(32, kernel_size=5, strides=2, activation=\"selu\", kernel_initializer=\"lecun_normal\", input_shape=X_train[0].shape, padding='same'),\n",
        "    keras.layers.Conv2D(64, kernel_size=3, strides=2, activation=\"selu\", kernel_initializer=\"lecun_normal\", padding='valid'),\n",
        "    keras.layers.Conv2D(32, kernel_size=1, strides=1, activation=\"selu\", kernel_initializer=\"lecun_normal\", padding='valid'),\n",
        "    keras.layers.GlobalAveragePooling2D(),\n",
        "    keras.layers.Flatten(),\n",
        "    keras.layers.Dense(62, activation='softmax')\n",
        "])\n",
        "\n",
        "lenet_5_improved_model2.summary()"
      ]
    },
    {
      "cell_type": "code",
      "execution_count": 53,
      "metadata": {
        "id": "YuDcqIJLbH7J",
        "colab": {
          "base_uri": "https://localhost:8080/"
        },
        "outputId": "d8c816f2-2f80-45fc-ff2e-8c2b7e136fca"
      },
      "outputs": [
        {
          "output_type": "stream",
          "name": "stdout",
          "text": [
            "Epoch 1/50\n",
            "1091/1091 [==============================] - 11s 10ms/step - loss: 2.0256 - accuracy: 0.4701 - val_loss: 1.2204 - val_accuracy: 0.6576\n",
            "Epoch 2/50\n",
            "1091/1091 [==============================] - 8s 8ms/step - loss: 1.0497 - accuracy: 0.6941 - val_loss: 0.9359 - val_accuracy: 0.7208\n",
            "Epoch 3/50\n",
            "1091/1091 [==============================] - 9s 8ms/step - loss: 0.8828 - accuracy: 0.7333 - val_loss: 0.8384 - val_accuracy: 0.7441\n",
            "Epoch 4/50\n",
            "1091/1091 [==============================] - 9s 8ms/step - loss: 0.7968 - accuracy: 0.7542 - val_loss: 0.7702 - val_accuracy: 0.7603\n",
            "Epoch 5/50\n",
            "1091/1091 [==============================] - 8s 7ms/step - loss: 0.7416 - accuracy: 0.7681 - val_loss: 0.7308 - val_accuracy: 0.7681\n",
            "Epoch 6/50\n",
            "1091/1091 [==============================] - 9s 9ms/step - loss: 0.7023 - accuracy: 0.7774 - val_loss: 0.6843 - val_accuracy: 0.7831\n",
            "Epoch 7/50\n",
            "1091/1091 [==============================] - 9s 8ms/step - loss: 0.6718 - accuracy: 0.7851 - val_loss: 0.6589 - val_accuracy: 0.7881\n",
            "Epoch 8/50\n",
            "1091/1091 [==============================] - 9s 8ms/step - loss: 0.6499 - accuracy: 0.7907 - val_loss: 0.6600 - val_accuracy: 0.7872\n",
            "Epoch 9/50\n",
            "1091/1091 [==============================] - 9s 8ms/step - loss: 0.6311 - accuracy: 0.7954 - val_loss: 0.6431 - val_accuracy: 0.7904\n",
            "Epoch 10/50\n",
            "1091/1091 [==============================] - 9s 8ms/step - loss: 0.6159 - accuracy: 0.7993 - val_loss: 0.6222 - val_accuracy: 0.7981\n",
            "Epoch 11/50\n",
            "1091/1091 [==============================] - 9s 9ms/step - loss: 0.6042 - accuracy: 0.8026 - val_loss: 0.6025 - val_accuracy: 0.8038\n",
            "Epoch 12/50\n",
            "1091/1091 [==============================] - 9s 8ms/step - loss: 0.5937 - accuracy: 0.8056 - val_loss: 0.5982 - val_accuracy: 0.8045\n",
            "Epoch 13/50\n",
            "1091/1091 [==============================] - 8s 7ms/step - loss: 0.5849 - accuracy: 0.8076 - val_loss: 0.5891 - val_accuracy: 0.8077\n",
            "Epoch 14/50\n",
            "1091/1091 [==============================] - 7s 7ms/step - loss: 0.5761 - accuracy: 0.8103 - val_loss: 0.5763 - val_accuracy: 0.8111\n",
            "Epoch 15/50\n",
            "1091/1091 [==============================] - 7s 7ms/step - loss: 0.5685 - accuracy: 0.8124 - val_loss: 0.5702 - val_accuracy: 0.8133\n",
            "Epoch 16/50\n",
            "1091/1091 [==============================] - 7s 7ms/step - loss: 0.5622 - accuracy: 0.8142 - val_loss: 0.5722 - val_accuracy: 0.8139\n",
            "Epoch 17/50\n",
            "1091/1091 [==============================] - 7s 7ms/step - loss: 0.5554 - accuracy: 0.8159 - val_loss: 0.5621 - val_accuracy: 0.8141\n",
            "Epoch 18/50\n",
            "1091/1091 [==============================] - 7s 7ms/step - loss: 0.5505 - accuracy: 0.8171 - val_loss: 0.5568 - val_accuracy: 0.8166\n",
            "Epoch 19/50\n",
            "1091/1091 [==============================] - 7s 7ms/step - loss: 0.5449 - accuracy: 0.8191 - val_loss: 0.5558 - val_accuracy: 0.8166\n",
            "Epoch 20/50\n",
            "1091/1091 [==============================] - 7s 7ms/step - loss: 0.5404 - accuracy: 0.8197 - val_loss: 0.5496 - val_accuracy: 0.8178\n",
            "Epoch 21/50\n",
            "1091/1091 [==============================] - 7s 7ms/step - loss: 0.5348 - accuracy: 0.8216 - val_loss: 0.5451 - val_accuracy: 0.8191\n",
            "Epoch 22/50\n",
            "1091/1091 [==============================] - 7s 7ms/step - loss: 0.5307 - accuracy: 0.8228 - val_loss: 0.5383 - val_accuracy: 0.8203\n",
            "Epoch 23/50\n",
            "1091/1091 [==============================] - 7s 7ms/step - loss: 0.5270 - accuracy: 0.8236 - val_loss: 0.5424 - val_accuracy: 0.8211\n",
            "Epoch 24/50\n",
            "1091/1091 [==============================] - 7s 7ms/step - loss: 0.5234 - accuracy: 0.8251 - val_loss: 0.5366 - val_accuracy: 0.8214\n",
            "Epoch 25/50\n",
            "1091/1091 [==============================] - 7s 7ms/step - loss: 0.5200 - accuracy: 0.8258 - val_loss: 0.5251 - val_accuracy: 0.8248\n",
            "Epoch 26/50\n",
            "1091/1091 [==============================] - 7s 7ms/step - loss: 0.5164 - accuracy: 0.8266 - val_loss: 0.5242 - val_accuracy: 0.8241\n",
            "Epoch 27/50\n",
            "1091/1091 [==============================] - 7s 7ms/step - loss: 0.5133 - accuracy: 0.8280 - val_loss: 0.5237 - val_accuracy: 0.8251\n",
            "Epoch 28/50\n",
            "1091/1091 [==============================] - 9s 8ms/step - loss: 0.5104 - accuracy: 0.8282 - val_loss: 0.5217 - val_accuracy: 0.8256\n",
            "Epoch 29/50\n",
            "1091/1091 [==============================] - 8s 8ms/step - loss: 0.5074 - accuracy: 0.8296 - val_loss: 0.5173 - val_accuracy: 0.8274\n",
            "Epoch 30/50\n",
            "1091/1091 [==============================] - 9s 8ms/step - loss: 0.5053 - accuracy: 0.8297 - val_loss: 0.5318 - val_accuracy: 0.8214\n",
            "Epoch 31/50\n",
            "1091/1091 [==============================] - 9s 8ms/step - loss: 0.5025 - accuracy: 0.8304 - val_loss: 0.5202 - val_accuracy: 0.8275\n",
            "Epoch 32/50\n",
            "1091/1091 [==============================] - 8s 8ms/step - loss: 0.5002 - accuracy: 0.8311 - val_loss: 0.5117 - val_accuracy: 0.8291\n",
            "Epoch 33/50\n",
            "1091/1091 [==============================] - 9s 8ms/step - loss: 0.4981 - accuracy: 0.8313 - val_loss: 0.5121 - val_accuracy: 0.8289\n",
            "Epoch 34/50\n",
            "1091/1091 [==============================] - 9s 9ms/step - loss: 0.4963 - accuracy: 0.8324 - val_loss: 0.5188 - val_accuracy: 0.8251\n",
            "Epoch 35/50\n",
            "1091/1091 [==============================] - 8s 7ms/step - loss: 0.4943 - accuracy: 0.8328 - val_loss: 0.5066 - val_accuracy: 0.8295\n",
            "Epoch 36/50\n",
            "1091/1091 [==============================] - 8s 7ms/step - loss: 0.4924 - accuracy: 0.8334 - val_loss: 0.5050 - val_accuracy: 0.8305\n",
            "Epoch 37/50\n",
            "1091/1091 [==============================] - 7s 7ms/step - loss: 0.4905 - accuracy: 0.8335 - val_loss: 0.5019 - val_accuracy: 0.8324\n",
            "Epoch 38/50\n",
            "1091/1091 [==============================] - 7s 7ms/step - loss: 0.4889 - accuracy: 0.8339 - val_loss: 0.5068 - val_accuracy: 0.8305\n",
            "Epoch 39/50\n",
            "1091/1091 [==============================] - 7s 7ms/step - loss: 0.4874 - accuracy: 0.8345 - val_loss: 0.5017 - val_accuracy: 0.8324\n",
            "Epoch 40/50\n",
            "1091/1091 [==============================] - 7s 7ms/step - loss: 0.4855 - accuracy: 0.8350 - val_loss: 0.4974 - val_accuracy: 0.8325\n",
            "Epoch 41/50\n",
            "1091/1091 [==============================] - 7s 7ms/step - loss: 0.4841 - accuracy: 0.8354 - val_loss: 0.4949 - val_accuracy: 0.8342\n",
            "Epoch 42/50\n",
            "1091/1091 [==============================] - 7s 7ms/step - loss: 0.4831 - accuracy: 0.8359 - val_loss: 0.4914 - val_accuracy: 0.8343\n",
            "Epoch 43/50\n",
            "1091/1091 [==============================] - 7s 7ms/step - loss: 0.4811 - accuracy: 0.8361 - val_loss: 0.4918 - val_accuracy: 0.8341\n",
            "Epoch 44/50\n",
            "1091/1091 [==============================] - 7s 7ms/step - loss: 0.4802 - accuracy: 0.8364 - val_loss: 0.4946 - val_accuracy: 0.8345\n",
            "Epoch 45/50\n",
            "1091/1091 [==============================] - 7s 7ms/step - loss: 0.4783 - accuracy: 0.8372 - val_loss: 0.4938 - val_accuracy: 0.8351\n",
            "Epoch 46/50\n",
            "1091/1091 [==============================] - 9s 9ms/step - loss: 0.4773 - accuracy: 0.8375 - val_loss: 0.4931 - val_accuracy: 0.8353\n",
            "Epoch 47/50\n",
            "1091/1091 [==============================] - 10s 9ms/step - loss: 0.4758 - accuracy: 0.8378 - val_loss: 0.4920 - val_accuracy: 0.8354\n"
          ]
        },
        {
          "output_type": "execute_result",
          "data": {
            "text/plain": [
              "<keras.callbacks.History at 0x7fa1fdf9b6d0>"
            ]
          },
          "metadata": {},
          "execution_count": 53
        }
      ],
      "source": [
        "lenet_5_improved_model2.compile(optimizer='adam', loss=keras.losses.categorical_crossentropy, metrics=['accuracy'])\n",
        "\n",
        "early_stopping_cb = keras.callbacks.EarlyStopping(patience=5, restore_best_weights=True)\n",
        "\n",
        "lenet_5_improved_model2.fit(X_train, y_train, epochs=50, batch_size = 512, validation_data=(X_val, y_val), callbacks=[early_stopping_cb])"
      ]
    },
    {
      "cell_type": "code",
      "source": [
        "lenet_5_improved_model2.evaluate(X_test/255., y_test)\n",
        "lenet_5_improved_model2.save(\"submit_improved_lenet5_2.h5\", save_format=\"h5\")"
      ],
      "metadata": {
        "colab": {
          "base_uri": "https://localhost:8080/"
        },
        "id": "W9XfikkLsOsT",
        "outputId": "f7bb8e9c-00aa-4fc8-d948-29095ff72fce"
      },
      "execution_count": 54,
      "outputs": [
        {
          "output_type": "stream",
          "name": "stdout",
          "text": [
            "3636/3636 [==============================] - 13s 4ms/step - loss: 0.4861 - accuracy: 0.8358\n"
          ]
        }
      ]
    },
    {
      "cell_type": "code",
      "execution_count": 11,
      "metadata": {
        "id": "z1Ij2EDTbH7J",
        "colab": {
          "base_uri": "https://localhost:8080/"
        },
        "outputId": "8427dc76-f04d-4ea1-b2cc-f57121ba1dbd"
      },
      "outputs": [
        {
          "output_type": "stream",
          "name": "stdout",
          "text": [
            "Model: \"sequential\"\n",
            "_________________________________________________________________\n",
            " Layer (type)                Output Shape              Param #   \n",
            "=================================================================\n",
            " conv2d (Conv2D)             (None, 28, 28, 32)        832       \n",
            "                                                                 \n",
            " batch_normalization (BatchN  (None, 28, 28, 32)       128       \n",
            " ormalization)                                                   \n",
            "                                                                 \n",
            " conv2d_1 (Conv2D)           (None, 24, 24, 64)        51264     \n",
            "                                                                 \n",
            " batch_normalization_1 (Batc  (None, 24, 24, 64)       256       \n",
            " hNormalization)                                                 \n",
            "                                                                 \n",
            " conv2d_2 (Conv2D)           (None, 22, 22, 32)        18464     \n",
            "                                                                 \n",
            " batch_normalization_2 (Batc  (None, 22, 22, 32)       128       \n",
            " hNormalization)                                                 \n",
            "                                                                 \n",
            " dropout (Dropout)           (None, 22, 22, 32)        0         \n",
            "                                                                 \n",
            " global_average_pooling2d (G  (None, 32)               0         \n",
            " lobalAveragePooling2D)                                          \n",
            "                                                                 \n",
            " flatten (Flatten)           (None, 32)                0         \n",
            "                                                                 \n",
            " dense (Dense)               (None, 62)                2046      \n",
            "                                                                 \n",
            "=================================================================\n",
            "Total params: 73,118\n",
            "Trainable params: 72,862\n",
            "Non-trainable params: 256\n",
            "_________________________________________________________________\n"
          ]
        }
      ],
      "source": [
        "# 최종 선정 모델 -> parameter 약 7만개, test accuracy 성능 양호\n",
        "keras.backend.clear_session()\n",
        "\n",
        "lenet_5_selu_dropout_model = keras.models.Sequential([\n",
        "    keras.layers.Conv2D(32, kernel_size=5, strides=1,  activation=\"selu\", kernel_initializer=\"lecun_normal\", input_shape=X_train[0].shape, padding='same'),\n",
        "    keras.layers.BatchNormalization(),\n",
        "    keras.layers.Conv2D(64, kernel_size=5, strides=1, activation=\"selu\", kernel_initializer=\"lecun_normal\", padding='valid'),\n",
        "    keras.layers.BatchNormalization(),\n",
        "    keras.layers.Conv2D(32, kernel_size=3, strides=1, activation=\"selu\", kernel_initializer=\"lecun_normal\", padding='valid'),\n",
        "    keras.layers.BatchNormalization(),\n",
        "    keras.layers.Dropout(0.3),\n",
        "    keras.layers.GlobalAveragePooling2D(),\n",
        "    keras.layers.Flatten(),\n",
        "    keras.layers.Dense(62, activation='softmax')\n",
        "])\n",
        "\n",
        "lenet_5_selu_dropout_model.summary()"
      ]
    },
    {
      "cell_type": "code",
      "execution_count": 12,
      "metadata": {
        "id": "ICcPCq7AbH7J",
        "colab": {
          "base_uri": "https://localhost:8080/"
        },
        "outputId": "2fba491e-5c3d-44d6-8bec-01a35caf2383"
      },
      "outputs": [
        {
          "output_type": "stream",
          "name": "stdout",
          "text": [
            "Epoch 1/100\n",
            "1091/1091 [==============================] - 43s 28ms/step - loss: 1.4324 - accuracy: 0.6490 - val_loss: 0.8215 - val_accuracy: 0.7471\n",
            "Epoch 2/100\n",
            "1091/1091 [==============================] - 30s 27ms/step - loss: 0.6312 - accuracy: 0.8040 - val_loss: 0.6067 - val_accuracy: 0.8004\n",
            "Epoch 3/100\n",
            "1091/1091 [==============================] - 29s 26ms/step - loss: 0.5368 - accuracy: 0.8247 - val_loss: 0.5321 - val_accuracy: 0.8238\n",
            "Epoch 4/100\n",
            "1091/1091 [==============================] - 28s 26ms/step - loss: 0.4965 - accuracy: 0.8342 - val_loss: 0.5397 - val_accuracy: 0.8219\n",
            "Epoch 5/100\n",
            "1091/1091 [==============================] - 29s 26ms/step - loss: 0.4748 - accuracy: 0.8391 - val_loss: 0.5070 - val_accuracy: 0.8293\n",
            "Epoch 6/100\n",
            "1091/1091 [==============================] - 29s 26ms/step - loss: 0.4589 - accuracy: 0.8427 - val_loss: 0.4853 - val_accuracy: 0.8350\n",
            "Epoch 7/100\n",
            "1091/1091 [==============================] - 28s 26ms/step - loss: 0.4472 - accuracy: 0.8458 - val_loss: 0.5317 - val_accuracy: 0.8221\n",
            "Epoch 8/100\n",
            "1091/1091 [==============================] - 29s 26ms/step - loss: 0.4391 - accuracy: 0.8481 - val_loss: 0.5312 - val_accuracy: 0.8230\n",
            "Epoch 9/100\n",
            "1091/1091 [==============================] - 29s 27ms/step - loss: 0.4323 - accuracy: 0.8499 - val_loss: 0.4502 - val_accuracy: 0.8434\n",
            "Epoch 10/100\n",
            "1091/1091 [==============================] - 29s 26ms/step - loss: 0.4269 - accuracy: 0.8513 - val_loss: 0.4747 - val_accuracy: 0.8392\n",
            "Epoch 11/100\n",
            "1091/1091 [==============================] - 29s 26ms/step - loss: 0.4215 - accuracy: 0.8525 - val_loss: 0.4591 - val_accuracy: 0.8422\n",
            "Epoch 12/100\n",
            "1091/1091 [==============================] - 28s 26ms/step - loss: 0.4172 - accuracy: 0.8536 - val_loss: 0.4542 - val_accuracy: 0.8400\n",
            "Epoch 13/100\n",
            "1091/1091 [==============================] - 29s 26ms/step - loss: 0.4138 - accuracy: 0.8546 - val_loss: 0.4351 - val_accuracy: 0.8491\n",
            "Epoch 14/100\n",
            "1091/1091 [==============================] - 28s 26ms/step - loss: 0.4100 - accuracy: 0.8554 - val_loss: 0.4174 - val_accuracy: 0.8547\n",
            "Epoch 15/100\n",
            "1091/1091 [==============================] - 28s 26ms/step - loss: 0.4064 - accuracy: 0.8562 - val_loss: 0.4682 - val_accuracy: 0.8383\n",
            "Epoch 16/100\n",
            "1091/1091 [==============================] - 28s 26ms/step - loss: 0.4044 - accuracy: 0.8570 - val_loss: 0.4372 - val_accuracy: 0.8469\n",
            "Epoch 17/100\n",
            "1091/1091 [==============================] - 29s 26ms/step - loss: 0.4019 - accuracy: 0.8575 - val_loss: 0.4340 - val_accuracy: 0.8507\n",
            "Epoch 18/100\n",
            "1091/1091 [==============================] - 29s 26ms/step - loss: 0.3991 - accuracy: 0.8581 - val_loss: 0.4347 - val_accuracy: 0.8476\n",
            "Epoch 19/100\n",
            "1091/1091 [==============================] - 29s 27ms/step - loss: 0.3971 - accuracy: 0.8588 - val_loss: 0.4201 - val_accuracy: 0.8518\n",
            "Epoch 20/100\n",
            "1091/1091 [==============================] - 29s 27ms/step - loss: 0.3952 - accuracy: 0.8591 - val_loss: 0.4370 - val_accuracy: 0.8451\n",
            "Epoch 21/100\n",
            "1091/1091 [==============================] - 29s 27ms/step - loss: 0.3932 - accuracy: 0.8598 - val_loss: 0.4148 - val_accuracy: 0.8540\n",
            "Epoch 22/100\n",
            "1091/1091 [==============================] - 29s 27ms/step - loss: 0.3918 - accuracy: 0.8602 - val_loss: 0.4103 - val_accuracy: 0.8542\n",
            "Epoch 23/100\n",
            "1091/1091 [==============================] - 29s 26ms/step - loss: 0.3906 - accuracy: 0.8606 - val_loss: 0.4163 - val_accuracy: 0.8526\n",
            "Epoch 24/100\n",
            "1091/1091 [==============================] - 29s 27ms/step - loss: 0.3889 - accuracy: 0.8605 - val_loss: 0.4022 - val_accuracy: 0.8580\n",
            "Epoch 25/100\n",
            "1091/1091 [==============================] - 29s 26ms/step - loss: 0.3875 - accuracy: 0.8608 - val_loss: 0.4089 - val_accuracy: 0.8553\n",
            "Epoch 26/100\n",
            "1091/1091 [==============================] - 29s 26ms/step - loss: 0.3863 - accuracy: 0.8618 - val_loss: 0.4066 - val_accuracy: 0.8569\n",
            "Epoch 27/100\n",
            "1091/1091 [==============================] - 29s 27ms/step - loss: 0.3847 - accuracy: 0.8616 - val_loss: 0.4288 - val_accuracy: 0.8504\n",
            "Epoch 28/100\n",
            "1091/1091 [==============================] - 29s 26ms/step - loss: 0.3837 - accuracy: 0.8620 - val_loss: 0.4130 - val_accuracy: 0.8542\n",
            "Epoch 29/100\n",
            "1091/1091 [==============================] - 29s 26ms/step - loss: 0.3824 - accuracy: 0.8625 - val_loss: 0.4271 - val_accuracy: 0.8505\n",
            "Epoch 30/100\n",
            "1091/1091 [==============================] - 29s 26ms/step - loss: 0.3821 - accuracy: 0.8624 - val_loss: 0.4048 - val_accuracy: 0.8564\n",
            "Epoch 31/100\n",
            "1091/1091 [==============================] - 29s 27ms/step - loss: 0.3809 - accuracy: 0.8630 - val_loss: 0.4018 - val_accuracy: 0.8582\n",
            "Epoch 32/100\n",
            "1091/1091 [==============================] - 29s 27ms/step - loss: 0.3798 - accuracy: 0.8633 - val_loss: 0.4181 - val_accuracy: 0.8515\n",
            "Epoch 33/100\n",
            "1091/1091 [==============================] - 29s 27ms/step - loss: 0.3788 - accuracy: 0.8635 - val_loss: 0.3937 - val_accuracy: 0.8597\n",
            "Epoch 34/100\n",
            "1091/1091 [==============================] - 29s 27ms/step - loss: 0.3780 - accuracy: 0.8638 - val_loss: 0.4083 - val_accuracy: 0.8558\n",
            "Epoch 35/100\n",
            "1091/1091 [==============================] - 29s 27ms/step - loss: 0.3766 - accuracy: 0.8638 - val_loss: 0.3941 - val_accuracy: 0.8593\n",
            "Epoch 36/100\n",
            "1091/1091 [==============================] - 29s 26ms/step - loss: 0.3766 - accuracy: 0.8641 - val_loss: 0.3983 - val_accuracy: 0.8580\n",
            "Epoch 37/100\n",
            "1091/1091 [==============================] - 29s 26ms/step - loss: 0.3759 - accuracy: 0.8645 - val_loss: 0.4160 - val_accuracy: 0.8554\n",
            "Epoch 38/100\n",
            "1091/1091 [==============================] - 29s 27ms/step - loss: 0.3751 - accuracy: 0.8643 - val_loss: 0.3953 - val_accuracy: 0.8589\n",
            "Epoch 39/100\n",
            "1091/1091 [==============================] - 29s 27ms/step - loss: 0.3742 - accuracy: 0.8648 - val_loss: 0.4118 - val_accuracy: 0.8530\n",
            "Epoch 40/100\n",
            "1091/1091 [==============================] - 29s 27ms/step - loss: 0.3738 - accuracy: 0.8647 - val_loss: 0.3916 - val_accuracy: 0.8607\n",
            "Epoch 41/100\n",
            "1091/1091 [==============================] - 29s 27ms/step - loss: 0.3729 - accuracy: 0.8653 - val_loss: 0.3855 - val_accuracy: 0.8612\n",
            "Epoch 42/100\n",
            "1091/1091 [==============================] - 29s 26ms/step - loss: 0.3722 - accuracy: 0.8653 - val_loss: 0.3924 - val_accuracy: 0.8590\n",
            "Epoch 43/100\n",
            "1091/1091 [==============================] - 29s 27ms/step - loss: 0.3714 - accuracy: 0.8652 - val_loss: 0.3845 - val_accuracy: 0.8622\n",
            "Epoch 44/100\n",
            "1091/1091 [==============================] - 29s 27ms/step - loss: 0.3714 - accuracy: 0.8655 - val_loss: 0.3954 - val_accuracy: 0.8547\n",
            "Epoch 45/100\n",
            "1091/1091 [==============================] - 29s 26ms/step - loss: 0.3704 - accuracy: 0.8655 - val_loss: 0.3783 - val_accuracy: 0.8643\n",
            "Epoch 46/100\n",
            "1091/1091 [==============================] - 29s 27ms/step - loss: 0.3699 - accuracy: 0.8658 - val_loss: 0.4158 - val_accuracy: 0.8534\n",
            "Epoch 47/100\n",
            "1091/1091 [==============================] - 29s 27ms/step - loss: 0.3695 - accuracy: 0.8657 - val_loss: 0.3901 - val_accuracy: 0.8601\n",
            "Epoch 48/100\n",
            "1091/1091 [==============================] - 29s 27ms/step - loss: 0.3686 - accuracy: 0.8664 - val_loss: 0.3813 - val_accuracy: 0.8630\n",
            "Epoch 49/100\n",
            "1091/1091 [==============================] - 29s 27ms/step - loss: 0.3682 - accuracy: 0.8663 - val_loss: 0.3930 - val_accuracy: 0.8592\n",
            "Epoch 50/100\n",
            "1091/1091 [==============================] - 29s 27ms/step - loss: 0.3681 - accuracy: 0.8661 - val_loss: 0.3817 - val_accuracy: 0.8634\n",
            "Epoch 51/100\n",
            "1091/1091 [==============================] - 29s 27ms/step - loss: 0.3668 - accuracy: 0.8667 - val_loss: 0.3836 - val_accuracy: 0.8629\n",
            "Epoch 52/100\n",
            "1091/1091 [==============================] - 29s 26ms/step - loss: 0.3668 - accuracy: 0.8666 - val_loss: 0.3846 - val_accuracy: 0.8628\n",
            "Epoch 53/100\n",
            "1091/1091 [==============================] - 29s 27ms/step - loss: 0.3661 - accuracy: 0.8668 - val_loss: 0.3875 - val_accuracy: 0.8617\n",
            "Epoch 54/100\n",
            "1091/1091 [==============================] - 29s 27ms/step - loss: 0.3658 - accuracy: 0.8670 - val_loss: 0.3876 - val_accuracy: 0.8615\n",
            "Epoch 55/100\n",
            "1091/1091 [==============================] - 29s 27ms/step - loss: 0.3657 - accuracy: 0.8667 - val_loss: 0.3844 - val_accuracy: 0.8622\n"
          ]
        },
        {
          "output_type": "execute_result",
          "data": {
            "text/plain": [
              "<keras.callbacks.History at 0x7f4b701a0690>"
            ]
          },
          "metadata": {},
          "execution_count": 12
        }
      ],
      "source": [
        "lenet_5_selu_dropout_model.compile(optimizer='adam', loss=keras.losses.categorical_crossentropy, metrics=['accuracy'])\n",
        "early_stopping_cb = keras.callbacks.EarlyStopping(patience=10, restore_best_weights=True)\n",
        "\n",
        "lenet_5_selu_dropout_model.fit(X_train, y_train, epochs=100, batch_size = 512, validation_data=(X_val, y_val), callbacks=[early_stopping_cb])"
      ]
    },
    {
      "cell_type": "code",
      "source": [
        "lenet_5_selu_dropout_model.evaluate(X_test/255., y_test)\n",
        "lenet_5_selu_dropout_model.save(\"submit_selu_dropout_lenet5_2.h5\", save_format=\"h5\")"
      ],
      "metadata": {
        "colab": {
          "base_uri": "https://localhost:8080/"
        },
        "id": "dB8pM5kJscDW",
        "outputId": "342ee7d6-b193-4a1e-ee4d-e561e7def19e"
      },
      "execution_count": 13,
      "outputs": [
        {
          "output_type": "stream",
          "name": "stdout",
          "text": [
            "3636/3636 [==============================] - 12s 3ms/step - loss: 0.3769 - accuracy: 0.8652\n"
          ]
        }
      ]
    },
    {
      "cell_type": "markdown",
      "metadata": {
        "id": "fD0TD9mabH7K"
      },
      "source": [
        "4 - B.  Res base - new architecture"
      ]
    },
    {
      "cell_type": "code",
      "execution_count": 64,
      "metadata": {
        "id": "fzW_zqUobH7K"
      },
      "outputs": [],
      "source": [
        "# Residual block 클레스\n",
        "class ResnetBlock(keras.models.Model):\n",
        "    \"\"\"\n",
        "    A standard resnet block.\n",
        "    \"\"\"\n",
        "\n",
        "    def __init__(self, channels: int, down_sample=False):\n",
        "        \"\"\"\n",
        "        channels: same as number of convolution kernels\n",
        "        \"\"\"\n",
        "        super().__init__()\n",
        "\n",
        "        self.__channels = channels\n",
        "        self.__down_sample = down_sample\n",
        "        self.__strides = [2, 1] if down_sample else [1, 1]\n",
        "\n",
        "        KERNEL_SIZE = (3, 3)\n",
        "        # use He initialization, instead of Xavier (a.k.a 'glorot_uniform' in Keras), as suggested in [2]\n",
        "        INIT_SCHEME = \"he_normal\"\n",
        "\n",
        "        self.conv_1 = keras.layers.Conv2D(self.__channels, strides=self.__strides[0],\n",
        "                             kernel_size=KERNEL_SIZE, padding=\"same\", kernel_initializer=INIT_SCHEME)\n",
        "        self.bn_1 = keras.layers.BatchNormalization()\n",
        "        self.conv_2 = keras.layers.Conv2D(self.__channels, strides=self.__strides[1],\n",
        "                             kernel_size=KERNEL_SIZE, padding=\"same\", kernel_initializer=INIT_SCHEME)\n",
        "        self.bn_2 = keras.layers.BatchNormalization()\n",
        "        self.merge = keras.layers.Add()\n",
        "\n",
        "        if self.__down_sample:\n",
        "            # perform down sampling using stride of 2, according to [1].\n",
        "            self.res_conv = keras.layers.Conv2D(\n",
        "                self.__channels, strides=2, kernel_size=(1, 1), kernel_initializer=INIT_SCHEME, padding=\"same\")\n",
        "            self.res_bn = keras.layers.BatchNormalization()\n",
        "\n",
        "    def call(self, inputs):\n",
        "        res = inputs\n",
        "\n",
        "        x = self.conv_1(inputs)\n",
        "        x = self.bn_1(x)\n",
        "        x = tf.nn.relu(x)\n",
        "        x = self.conv_2(x)\n",
        "        x = self.bn_2(x)\n",
        "\n",
        "        if self.__down_sample:\n",
        "            res = self.res_conv(res)\n",
        "            res = self.res_bn(res)\n",
        "\n",
        "        # if not perform down sample, then add a shortcut directly\n",
        "        x = self.merge([x, res])\n",
        "        out = tf.nn.relu(x)\n",
        "        return out"
      ]
    },
    {
      "cell_type": "code",
      "source": [
        "# optimizer 선택을 위한 함수\n",
        "def select_opt(opt_name, lr):\n",
        "  if opt_name == 'adam':\n",
        "    optimizer = keras.optimizers.Adam(learning_rate=lr, beta_1=0.9, beta_2=0.999)\n",
        "  elif opt_name == 'rmsprop':\n",
        "    optimizer = keras.optimizers.RMSprop(learning_rate=lr, rho=0.9)\n",
        "  elif opt_name == 'sgd':\n",
        "    optimizer = keras.optimizers.SGD(learning_rate = lr)\n",
        "  elif opt_name == 'momentum':\n",
        "    optimizer = keras.optimizers.SGD(learning_rate = lr, momentum=0.9)\n",
        "  elif opt_name == 'nesterov':\n",
        "    optimizer = keras.optimizers.SGD(learning_rate=lr, momentum=0.9, nesterov=True)\n",
        "  elif opt_name == 'adagrad':\n",
        "    optimizer = keras.optimizers.Adagrad(learning_rate=lr)\n",
        "  elif opt_name == 'adamax':\n",
        "    optimizer = keras.optimizers.Adamax(learning_rate=lr, beta_1=0.9, beta_2=0.999)\n",
        "  elif opt_name == 'nadam':\n",
        "    optimizer = keras.optimizers.Nadam(learning_rate=lr, beta_1=0.9, beta_2=0.999)\n",
        "\n",
        "  return optimizer"
      ],
      "metadata": {
        "id": "zuaJxUPFI1Og"
      },
      "execution_count": 65,
      "outputs": []
    },
    {
      "cell_type": "code",
      "source": [
        "# activation 선택을 위한 함수\n",
        "def select_activation(function):\n",
        "  if function == 'relu':\n",
        "    activation = keras.layers.ReLU()\n",
        "  elif function == 'prelu':\n",
        "    activation = keras.layers.PReLU()\n",
        "  elif function == 'leacky_relu':\n",
        "    activation = keras.layers.LeakyReLU()\n",
        "  elif function == 'elu':\n",
        "    activation = keras.layers.ELU()\n",
        "\n",
        "  return activation"
      ],
      "metadata": {
        "id": "pZFYG4iJI2Pk"
      },
      "execution_count": 66,
      "outputs": []
    },
    {
      "cell_type": "markdown",
      "source": [
        "base resnet18 structure"
      ],
      "metadata": {
        "id": "6WF56GoeQ-_7"
      }
    },
    {
      "cell_type": "code",
      "source": [
        "# sequential resnet18 구조\n",
        "\n",
        "class ResNet18(keras.models.Model):\n",
        "\n",
        "    def __init__(self, num_classes, **kwargs):\n",
        "        \"\"\"\n",
        "            num_classes: number of classes in specific classification task.\n",
        "        \"\"\"\n",
        "        super().__init__(**kwargs)\n",
        "        self.conv_1 = keras.layers.Conv2D(64, (7, 7), strides=2,\n",
        "                             padding=\"same\", kernel_initializer=\"he_normal\")\n",
        "        self.init_bn = keras.layers.BatchNormalization()\n",
        "        self.pool_2 = keras.layers.MaxPool2D(pool_size=(2, 2), strides=2, padding=\"same\")\n",
        "        self.res_1_1 = ResnetBlock(64)\n",
        "        self.res_1_2 = ResnetBlock(64)\n",
        "        self.res_2_1 = ResnetBlock(128, down_sample=True)\n",
        "        self.res_2_2 = ResnetBlock(128)\n",
        "        self.res_3_1 = ResnetBlock(256, down_sample=True)\n",
        "        self.res_3_2 = ResnetBlock(256)\n",
        "        self.res_4_1 = ResnetBlock(512, down_sample=True)\n",
        "        self.res_4_2 = ResnetBlock(512)\n",
        "        self.avg_pool = keras.layers.GlobalAveragePooling2D()\n",
        "        self.flat = keras.layers.Flatten()\n",
        "        self.fc = keras.layers.Dense(num_classes, activation=\"softmax\")\n",
        "\n",
        "    def call(self, inputs):\n",
        "        out = self.conv_1(inputs)\n",
        "        out = self.init_bn(out)\n",
        "        out = tf.nn.relu(out)\n",
        "        out = self.pool_2(out)\n",
        "        for res_block in [self.res_1_1, self.res_1_2, self.res_2_1, self.res_2_2, self.res_3_1, self.res_3_2, self.res_4_1, self.res_4_2]:\n",
        "            out = res_block(out)\n",
        "        out = self.avg_pool(out)\n",
        "        out = self.flat(out)\n",
        "        out = self.fc(out)\n",
        "        return out"
      ],
      "metadata": {
        "id": "FUIESQRUQ7U2"
      },
      "execution_count": 67,
      "outputs": []
    },
    {
      "cell_type": "code",
      "source": [
        "resnet_model = ResNet18(62)\n",
        "resnet_model.build(input_shape = (None,28,28,1))\n",
        "\n",
        "resnet_model.compile(optimizer = \"adam\",loss='categorical_crossentropy', metrics=[\"accuracy\"]) \n",
        "resnet_model.summary()"
      ],
      "metadata": {
        "colab": {
          "base_uri": "https://localhost:8080/"
        },
        "id": "9sdlMfqjQ9Sq",
        "outputId": "9f6b9bd3-3c25-443c-fc23-a3981fde0142"
      },
      "execution_count": 68,
      "outputs": [
        {
          "output_type": "stream",
          "name": "stdout",
          "text": [
            "WARNING:tensorflow:AutoGraph could not transform <bound method ResnetBlock.call of <__main__.ResnetBlock object at 0x7fabf1bda410>> and will run it as-is.\n",
            "Cause: mangled names are not yet supported\n",
            "To silence this warning, decorate the function with @tf.autograph.experimental.do_not_convert\n",
            "WARNING: AutoGraph could not transform <bound method ResnetBlock.call of <__main__.ResnetBlock object at 0x7fabf1bda410>> and will run it as-is.\n",
            "Cause: mangled names are not yet supported\n",
            "To silence this warning, decorate the function with @tf.autograph.experimental.do_not_convert\n",
            "Model: \"res_net18\"\n",
            "_________________________________________________________________\n",
            " Layer (type)                Output Shape              Param #   \n",
            "=================================================================\n",
            " conv2d (Conv2D)             multiple                  3200      \n",
            "                                                                 \n",
            " batch_normalization (BatchN  multiple                 256       \n",
            " ormalization)                                                   \n",
            "                                                                 \n",
            " max_pooling2d (MaxPooling2D  multiple                 0         \n",
            " )                                                               \n",
            "                                                                 \n",
            " resnet_block (ResnetBlock)  multiple                  74368     \n",
            "                                                                 \n",
            " resnet_block_1 (ResnetBlock  multiple                 74368     \n",
            " )                                                               \n",
            "                                                                 \n",
            " resnet_block_2 (ResnetBlock  multiple                 231296    \n",
            " )                                                               \n",
            "                                                                 \n",
            " resnet_block_3 (ResnetBlock  multiple                 296192    \n",
            " )                                                               \n",
            "                                                                 \n",
            " resnet_block_4 (ResnetBlock  multiple                 921344    \n",
            " )                                                               \n",
            "                                                                 \n",
            " resnet_block_5 (ResnetBlock  multiple                 1182208   \n",
            " )                                                               \n",
            "                                                                 \n",
            " resnet_block_6 (ResnetBlock  multiple                 3677696   \n",
            " )                                                               \n",
            "                                                                 \n",
            " resnet_block_7 (ResnetBlock  multiple                 4723712   \n",
            " )                                                               \n",
            "                                                                 \n",
            " global_average_pooling2d_1   multiple                 0         \n",
            " (GlobalAveragePooling2D)                                        \n",
            "                                                                 \n",
            " flatten (Flatten)           multiple                  0         \n",
            "                                                                 \n",
            " dense_3 (Dense)             multiple                  31806     \n",
            "                                                                 \n",
            "=================================================================\n",
            "Total params: 11,216,446\n",
            "Trainable params: 11,206,846\n",
            "Non-trainable params: 9,600\n",
            "_________________________________________________________________\n"
          ]
        }
      ]
    },
    {
      "cell_type": "code",
      "source": [
        "early_stopping_cb = keras.callbacks.EarlyStopping(patience=5, restore_best_weights=True)\n",
        "resnet_history = resnet_model.fit(X_train, y_train, epochs=15, batch_size = 512, validation_data=(X_val, y_val), callbacks=[early_stopping_cb])"
      ],
      "metadata": {
        "colab": {
          "base_uri": "https://localhost:8080/"
        },
        "id": "vXUdEDYpRQd7",
        "outputId": "a3c1937e-5e04-45a7-f935-5acc2e86963c"
      },
      "execution_count": 69,
      "outputs": [
        {
          "output_type": "stream",
          "name": "stdout",
          "text": [
            "Epoch 1/15\n",
            "1091/1091 [==============================] - 60s 52ms/step - loss: 0.4971 - accuracy: 0.8280 - val_loss: 0.4399 - val_accuracy: 0.8458\n",
            "Epoch 2/15\n",
            "1091/1091 [==============================] - 56s 51ms/step - loss: 0.3761 - accuracy: 0.8608 - val_loss: 0.4070 - val_accuracy: 0.8514\n",
            "Epoch 3/15\n",
            "1091/1091 [==============================] - 55s 50ms/step - loss: 0.3540 - accuracy: 0.8667 - val_loss: 0.4174 - val_accuracy: 0.8446\n",
            "Epoch 4/15\n",
            "1091/1091 [==============================] - 54s 50ms/step - loss: 0.3398 - accuracy: 0.8712 - val_loss: 0.3900 - val_accuracy: 0.8567\n",
            "Epoch 5/15\n",
            "1091/1091 [==============================] - 55s 50ms/step - loss: 0.3290 - accuracy: 0.8742 - val_loss: 0.3686 - val_accuracy: 0.8627\n",
            "Epoch 6/15\n",
            "1091/1091 [==============================] - 54s 50ms/step - loss: 0.3205 - accuracy: 0.8765 - val_loss: 0.3552 - val_accuracy: 0.8677\n",
            "Epoch 7/15\n",
            "1091/1091 [==============================] - 54s 50ms/step - loss: 0.3105 - accuracy: 0.8795 - val_loss: 0.3548 - val_accuracy: 0.8688\n",
            "Epoch 8/15\n",
            "1091/1091 [==============================] - 56s 51ms/step - loss: 0.3025 - accuracy: 0.8820 - val_loss: 0.3545 - val_accuracy: 0.8707\n",
            "Epoch 9/15\n",
            "1091/1091 [==============================] - 55s 50ms/step - loss: 0.2930 - accuracy: 0.8848 - val_loss: 0.3804 - val_accuracy: 0.8629\n",
            "Epoch 10/15\n",
            "1091/1091 [==============================] - 55s 50ms/step - loss: 0.2846 - accuracy: 0.8874 - val_loss: 0.3686 - val_accuracy: 0.8693\n",
            "Epoch 11/15\n",
            "1091/1091 [==============================] - 55s 50ms/step - loss: 0.2758 - accuracy: 0.8905 - val_loss: 0.3773 - val_accuracy: 0.8658\n",
            "Epoch 12/15\n",
            "1091/1091 [==============================] - 55s 50ms/step - loss: 0.2666 - accuracy: 0.8935 - val_loss: 0.3649 - val_accuracy: 0.8699\n",
            "Epoch 13/15\n",
            "1091/1091 [==============================] - 55s 50ms/step - loss: 0.2567 - accuracy: 0.8966 - val_loss: 0.3808 - val_accuracy: 0.8692\n"
          ]
        }
      ]
    },
    {
      "cell_type": "code",
      "source": [
        "resnet_model.evaluate(X_test/255., y_test)\n",
        "resnet_model.save_weights('submit_resnet_base')"
      ],
      "metadata": {
        "colab": {
          "base_uri": "https://localhost:8080/"
        },
        "id": "1EZePU3ETuRA",
        "outputId": "9be5b226-206f-487f-f199-42e720a27946"
      },
      "execution_count": 72,
      "outputs": [
        {
          "output_type": "stream",
          "name": "stdout",
          "text": [
            "3636/3636 [==============================] - 31s 8ms/step - loss: 0.3478 - accuracy: 0.8713\n"
          ]
        }
      ]
    },
    {
      "cell_type": "markdown",
      "source": [
        "Res_Res skip connection & Edit input kernel size"
      ],
      "metadata": {
        "id": "fsDp5SyOJQ0H"
      }
    },
    {
      "cell_type": "code",
      "execution_count": 15,
      "metadata": {
        "id": "XVcIDaHQbH7L"
      },
      "outputs": [],
      "source": [
        "# skip connection을 사용하여 숫자, 대문자, 소문자로 구별한 모델 구조\n",
        "class Res_5x5_v4(keras.models.Model):\n",
        "\n",
        "    def __init__(self, num_classes, config_list, **kwargs):\n",
        "        \"\"\"\n",
        "            num_classes: number of classes in specific classification task.\n",
        "        \"\"\"\n",
        "        super().__init__(**kwargs)\n",
        "        self.feature_layer_depth, self.num_layer_depth, \\\n",
        "        self.upper_layer_depth, self.lower_layer_depth = config_list\n",
        "\n",
        "        self.input_ch = 32\n",
        "        self.layer_ch = 32 * self.feature_layer_depth\n",
        "        self.Batch_Norm_Layer = keras.layers.BatchNormalization()\n",
        "        self.Global_Average_Pool_Layer = keras.layers.GlobalAveragePooling2D()\n",
        "        self.Flatten_Layer = keras.layers.Flatten()\n",
        "\n",
        "        self.Feature_Detection_Layer = self.feature_detection_layer()\n",
        "\n",
        "        self.Number_Layer = self.number_layer()\n",
        "        self.Upper_Letter_Layer = self.upper_letter_layer()\n",
        "        self.Lower_Letter_Layer = self.lower_letter_layer()\n",
        "\n",
        "\n",
        "        self.Prediction_Layer = keras.layers.Dense(num_classes, activation=\"softmax\")\n",
        "\n",
        "    def feature_detection_layer(self):\n",
        "      feature_dec_layer = keras.models.Sequential()\n",
        "      feature_dec_layer.add(self.Batch_Norm_Layer)\n",
        "      feature_dec_layer.add(keras.layers.Conv2D(self.input_ch, (5, 5), strides=1, padding=\"same\", kernel_initializer=\"he_normal\"))\n",
        "      feature_dec_layer.add(self.Batch_Norm_Layer)\n",
        "      feature_dec_layer.add(keras.layers.MaxPool2D(pool_size=(2, 2), strides=1, padding=\"same\"))\n",
        "      feature_dec_layer.add(ResnetBlock(self.input_ch))\n",
        "      feature_dec_layer.add(ResnetBlock(self.input_ch))\n",
        "      \n",
        "      for i in range(self.feature_layer_depth-1):\n",
        "        feature_dec_layer.add(ResnetBlock(self.input_ch*(2*(i+1)), down_sample=True))\n",
        "        feature_dec_layer.add(ResnetBlock(self.input_ch*(2*(i+1))))\n",
        "\n",
        "\n",
        "      return feature_dec_layer\n",
        "\n",
        "    def number_layer(self):\n",
        "      num_layer = keras.models.Sequential()\n",
        "      for i in range(self.num_layer_depth):\n",
        "        num_layer.add(ResnetBlock(self.layer_ch*(2*(i+1)), down_sample=True))\n",
        "        num_layer.add(ResnetBlock(self.layer_ch*(2*(i+1))))\n",
        "      num_layer.add(self.Global_Average_Pool_Layer)\n",
        "      num_layer.add(self.Flatten_Layer)\n",
        "\n",
        "      return num_layer\n",
        "\n",
        "    def upper_letter_layer(self):\n",
        "      upper_layer = keras.models.Sequential()\n",
        "      for i in range(self.upper_layer_depth):\n",
        "        upper_layer.add(ResnetBlock(self.layer_ch*(2*(i+1)), down_sample=True))\n",
        "        upper_layer.add(ResnetBlock(self.layer_ch*(2*(i+1))))\n",
        "      upper_layer.add(self.Global_Average_Pool_Layer)\n",
        "      upper_layer.add(self.Flatten_Layer)\n",
        "      return upper_layer\n",
        "\n",
        "    def lower_letter_layer(self):\n",
        "      lower_layer = keras.models.Sequential()\n",
        "\n",
        "      for i in range(self.lower_layer_depth):\n",
        "        lower_layer.add(ResnetBlock(self.layer_ch*(2*(i+1)), down_sample=True))\n",
        "        lower_layer.add(ResnetBlock(self.layer_ch*(2*(i+1))))\n",
        "      lower_layer.add(self.Global_Average_Pool_Layer)\n",
        "      lower_layer.add(self.Flatten_Layer)\n",
        "      return lower_layer"
      ]
    },
    {
      "cell_type": "code",
      "source": [
        "# 하이퍼 파라미터 배열을 입력 받아 그에 맞는 모델 리턴\n",
        "def select_model(config_list):\n",
        "  model_class = Res_5x5_v4(62, config_list[:-2])\n",
        "  dense_layer_depth = config_list[-2]\n",
        "  num_nueran = config_list[-1]\n",
        "\n",
        "  input = keras.layers.Input(shape=(28, 28, 1))\n",
        "\n",
        "  feature_out = model_class.Feature_Detection_Layer(input)\n",
        "\n",
        "  num_out = model_class.Number_Layer(feature_out)\n",
        "  upper_out = model_class.Upper_Letter_Layer(feature_out)\n",
        "  lower_out = model_class.Lower_Letter_Layer(feature_out)\n",
        "\n",
        "  final_out = keras.layers.concatenate([num_out, upper_out, lower_out])\n",
        "  for i in range(dense_layer_depth):\n",
        "    final_out = tf.keras.layers.Dense(num_nueran, activation = 'relu')(final_out)\n",
        "\n",
        "  result = model_class.Prediction_Layer(final_out)\n",
        "\n",
        "  model = keras.models.Model(inputs=[input], outputs=[result])\n",
        "  return model"
      ],
      "metadata": {
        "id": "wKYuHgZrHk-A"
      },
      "execution_count": 27,
      "outputs": []
    },
    {
      "cell_type": "code",
      "source": [
        "#[feature layer depth, 숫자 layer depth, 대문자 layer depth, 소문자 layer depth, predic layer depth, predic layer 뉴런 수]\n",
        "model1_list = [2, 1, 2, 1, 0, 200]\n",
        "\n",
        "res_res_model = select_model(model1_list)\n",
        "res_res_model.summary()\n",
        "keras.utils.plot_model(res_res_model, \"res_dense.png\", show_shapes=True)"
      ],
      "metadata": {
        "colab": {
          "base_uri": "https://localhost:8080/",
          "height": 950
        },
        "id": "y8r0io9JH60y",
        "outputId": "56295b29-42ff-43a5-9e67-2d3edac68262"
      },
      "execution_count": 28,
      "outputs": [
        {
          "output_type": "stream",
          "name": "stdout",
          "text": [
            "Model: \"model_3\"\n",
            "__________________________________________________________________________________________________\n",
            " Layer (type)                   Output Shape         Param #     Connected to                     \n",
            "==================================================================================================\n",
            " input_4 (InputLayer)           [(None, 28, 28, 1)]  0           []                               \n",
            "                                                                                                  \n",
            " sequential_13 (Sequential)     (None, 14, 14, 64)   171012      ['input_4[0][0]']                \n",
            "                                                                                                  \n",
            " sequential_14 (Sequential)     (None, 128)          527488      ['sequential_13[0][0]']          \n",
            "                                                                                                  \n",
            " sequential_15 (Sequential)     (None, 256)          2631040     ['sequential_13[0][0]']          \n",
            "                                                                                                  \n",
            " sequential_16 (Sequential)     (None, 128)          527488      ['sequential_13[0][0]']          \n",
            "                                                                                                  \n",
            " concatenate_3 (Concatenate)    (None, 512)          0           ['sequential_14[0][0]',          \n",
            "                                                                  'sequential_15[0][0]',          \n",
            "                                                                  'sequential_16[0][0]']          \n",
            "                                                                                                  \n",
            " dense_4 (Dense)                (None, 62)           31806       ['concatenate_3[0][0]']          \n",
            "                                                                                                  \n",
            "==================================================================================================\n",
            "Total params: 3,888,834\n",
            "Trainable params: 3,881,536\n",
            "Non-trainable params: 7,298\n",
            "__________________________________________________________________________________________________\n"
          ]
        },
        {
          "output_type": "execute_result",
          "data": {
            "text/plain": [
              "<IPython.core.display.Image object>"
            ],
            "image/png": "[encoded data removed]"
          },
          "metadata": {},
          "execution_count": 28
        }
      ]
    },
    {
      "cell_type": "code",
      "source": [
        "early_stopping_cb = keras.callbacks.EarlyStopping(patience=10, restore_best_weights=True)\n",
        "\n",
        "learning_rate = 0.01\n",
        "opt = select_opt('adagrad', learning_rate)\n",
        "res_res_model.compile(loss=\"categorical_crossentropy\", optimizer=opt, metrics=[\"accuracy\"])\n",
        "first_history = res_res_model.fit(X_train, y_train, epochs=20, batch_size = 512, validation_data=(X_val, y_val), callbacks=[early_stopping_cb])"
      ],
      "metadata": {
        "colab": {
          "base_uri": "https://localhost:8080/"
        },
        "id": "zh8ycU75IXoX",
        "outputId": "acb0112f-40d6-458e-b3cc-f36b9055d73a"
      },
      "execution_count": 29,
      "outputs": [
        {
          "output_type": "stream",
          "name": "stdout",
          "text": [
            "Epoch 1/20\n",
            "1091/1091 [==============================] - 144s 128ms/step - loss: 1.0025 - accuracy: 0.7374 - val_loss: 0.5259 - val_accuracy: 0.8296\n",
            "Epoch 2/20\n",
            "1091/1091 [==============================] - 137s 126ms/step - loss: 0.4551 - accuracy: 0.8460 - val_loss: 0.4311 - val_accuracy: 0.8497\n",
            "Epoch 3/20\n",
            "1091/1091 [==============================] - 138s 127ms/step - loss: 0.4007 - accuracy: 0.8580 - val_loss: 0.3963 - val_accuracy: 0.8586\n",
            "Epoch 4/20\n",
            "1091/1091 [==============================] - 139s 128ms/step - loss: 0.3766 - accuracy: 0.8641 - val_loss: 0.4014 - val_accuracy: 0.8553\n",
            "Epoch 5/20\n",
            "1091/1091 [==============================] - 139s 128ms/step - loss: 0.3613 - accuracy: 0.8682 - val_loss: 0.3828 - val_accuracy: 0.8631\n",
            "Epoch 6/20\n",
            "1091/1091 [==============================] - 137s 125ms/step - loss: 0.3500 - accuracy: 0.8710 - val_loss: 0.3734 - val_accuracy: 0.8643\n",
            "Epoch 7/20\n",
            "1091/1091 [==============================] - 137s 125ms/step - loss: 0.3409 - accuracy: 0.8736 - val_loss: 0.3710 - val_accuracy: 0.8629\n",
            "Epoch 8/20\n",
            "1091/1091 [==============================] - 137s 125ms/step - loss: 0.3332 - accuracy: 0.8758 - val_loss: 0.3609 - val_accuracy: 0.8668\n",
            "Epoch 9/20\n",
            "1091/1091 [==============================] - 137s 125ms/step - loss: 0.3262 - accuracy: 0.8779 - val_loss: 0.3584 - val_accuracy: 0.8682\n",
            "Epoch 10/20\n",
            "1091/1091 [==============================] - 137s 125ms/step - loss: 0.3200 - accuracy: 0.8797 - val_loss: 0.3601 - val_accuracy: 0.8679\n",
            "Epoch 11/20\n",
            "1091/1091 [==============================] - 137s 125ms/step - loss: 0.3138 - accuracy: 0.8819 - val_loss: 0.3537 - val_accuracy: 0.8687\n",
            "Epoch 12/20\n",
            "1091/1091 [==============================] - 137s 125ms/step - loss: 0.3082 - accuracy: 0.8835 - val_loss: 0.3530 - val_accuracy: 0.8702\n",
            "Epoch 13/20\n",
            "1091/1091 [==============================] - 137s 125ms/step - loss: 0.3023 - accuracy: 0.8856 - val_loss: 0.3514 - val_accuracy: 0.8700\n",
            "Epoch 14/20\n",
            "1091/1091 [==============================] - 137s 125ms/step - loss: 0.2968 - accuracy: 0.8872 - val_loss: 0.3549 - val_accuracy: 0.8690\n",
            "Epoch 15/20\n",
            "1091/1091 [==============================] - 137s 125ms/step - loss: 0.2912 - accuracy: 0.8893 - val_loss: 0.3547 - val_accuracy: 0.8682\n",
            "Epoch 16/20\n",
            "1091/1091 [==============================] - 137s 125ms/step - loss: 0.2857 - accuracy: 0.8909 - val_loss: 0.3569 - val_accuracy: 0.8686\n",
            "Epoch 17/20\n",
            "1091/1091 [==============================] - 137s 125ms/step - loss: 0.2799 - accuracy: 0.8930 - val_loss: 0.3593 - val_accuracy: 0.8674\n",
            "Epoch 18/20\n",
            "1091/1091 [==============================] - 136s 124ms/step - loss: 0.2741 - accuracy: 0.8952 - val_loss: 0.3638 - val_accuracy: 0.8661\n",
            "Epoch 19/20\n",
            "1091/1091 [==============================] - 134s 123ms/step - loss: 0.2684 - accuracy: 0.8974 - val_loss: 0.3600 - val_accuracy: 0.8677\n",
            "Epoch 20/20\n",
            "1091/1091 [==============================] - 135s 124ms/step - loss: 0.2625 - accuracy: 0.8999 - val_loss: 0.3704 - val_accuracy: 0.8613\n"
          ]
        }
      ]
    },
    {
      "cell_type": "code",
      "source": [
        "res_res_model.evaluate(X_test/255., y_test)\n",
        "res_res_model.save_weights('submit_res_res')"
      ],
      "metadata": {
        "colab": {
          "base_uri": "https://localhost:8080/"
        },
        "id": "h-rdKyXweDUg",
        "outputId": "566f222b-ed91-48f0-c08b-4bd1404901fd"
      },
      "execution_count": 32,
      "outputs": [
        {
          "output_type": "stream",
          "name": "stdout",
          "text": [
            "3636/3636 [==============================] - 33s 9ms/step - loss: 0.3657 - accuracy: 0.8621\n"
          ]
        },
        {
          "output_type": "execute_result",
          "data": {
            "text/plain": [
              "[0.3657238781452179, 0.8621252775192261]"
            ]
          },
          "metadata": {},
          "execution_count": 32
        }
      ]
    },
    {
      "cell_type": "markdown",
      "metadata": {
        "id": "BYY6vAeabH7P"
      },
      "source": [
        "Res + Dense layer"
      ]
    },
    {
      "cell_type": "code",
      "execution_count": 42,
      "metadata": {
        "id": "6zzFCvTDbH7P"
      },
      "outputs": [],
      "source": [
        "# res + res 구조에서 skip connection 부분을 dense layer로 대체\n",
        "# 파라미터 수 줄이기 위해\n",
        "\n",
        "class Res_5x5_v4(keras.models.Model):\n",
        "\n",
        "    def __init__(self, num_classes, config_list, **kwargs):\n",
        "        \"\"\"\n",
        "            num_classes: number of classes in specific classification task.\n",
        "        \"\"\"\n",
        "        super().__init__(**kwargs)\n",
        "\n",
        "        self.input_ch, self.activation, self.feature_layer_depth, self.num_layer_nueron, self.upper_layer_nueron, self.lower_layer_nueron = config_list\n",
        "\n",
        "\n",
        "        self.Global_Average_Pool_Layer = keras.layers.GlobalAveragePooling2D()\n",
        "        self.Flatten_Layer = keras.layers.Flatten()\n",
        "\n",
        "        self.Feature_Detection_Layer = self.feature_detection_layer()\n",
        "\n",
        "        self.Number_Layer = self.number_layer()\n",
        "        self.Upper_Letter_Layer = self.upper_letter_layer()\n",
        "        self.Lower_Letter_Layer = self.lower_letter_layer()\n",
        "\n",
        "\n",
        "        self.Prediction_Layer = keras.layers.Dense(num_classes, activation=\"softmax\")\n",
        "\n",
        "    def feature_detection_layer(self):\n",
        "      feature_dec_layer = keras.models.Sequential()\n",
        "      # feature_dec_layer.add(keras.layers.experimental.preprocessing.RandomRotation(0.2))\n",
        "      feature_dec_layer.add(keras.layers.BatchNormalization())\n",
        "      feature_dec_layer.add(keras.layers.Conv2D(self.input_ch, (5, 5), strides=1, padding=\"same\", kernel_initializer=\"he_normal\"))\n",
        "      feature_dec_layer.add(keras.layers.BatchNormalization())\n",
        "      feature_dec_layer.add(keras.layers.MaxPool2D(pool_size=(2, 2), strides=1, padding=\"same\"))\n",
        "      feature_dec_layer.add(ResnetBlock(self.input_ch))\n",
        "      feature_dec_layer.add(ResnetBlock(self.input_ch))\n",
        "      \n",
        "      for i in range(self.feature_layer_depth-1):\n",
        "        feature_dec_layer.add(ResnetBlock(self.input_ch*(2*(i+1)), down_sample=True))\n",
        "        feature_dec_layer.add(ResnetBlock(self.input_ch*(2*(i+1))))\n",
        "\n",
        "      feature_dec_layer.add(self.Global_Average_Pool_Layer)\n",
        "      feature_dec_layer.add(self.Flatten_Layer)\n",
        "\n",
        "\n",
        "      return feature_dec_layer\n",
        "\n",
        "    def number_layer(self):\n",
        "      num_layer = keras.models.Sequential()\n",
        "      for i, num_nueron in enumerate(self.num_layer_nueron):\n",
        "        num_layer.add(tf.keras.layers.Dense(num_nueron))\n",
        "        num_layer.add(self.select_activation(self.activation))\n",
        "        num_layer.add(keras.layers.BatchNormalization())\n",
        "    \n",
        "      num_layer.add(tf.keras.layers.Dense(10, activation = None))\n",
        "\n",
        "      return num_layer\n",
        "\n",
        "    def upper_letter_layer(self):\n",
        "      upper_layer = keras.models.Sequential()\n",
        "      for i, num_nueron in enumerate(self.upper_layer_nueron):\n",
        "        upper_layer.add(tf.keras.layers.Dense(num_nueron))\n",
        "        upper_layer.add(self.select_activation(self.activation))\n",
        "        upper_layer.add(keras.layers.BatchNormalization())\n",
        "\n",
        "      upper_layer.add(tf.keras.layers.Dense(26, activation = None))\n",
        "      return upper_layer\n",
        "\n",
        "    def lower_letter_layer(self):\n",
        "      lower_layer = keras.models.Sequential()\n",
        "\n",
        "      for i, num_nueron in enumerate(self.lower_layer_nueron):\n",
        "        lower_layer.add(tf.keras.layers.Dense(num_nueron))\n",
        "        lower_layer.add(self.select_activation(self.activation))\n",
        "        lower_layer.add(keras.layers.BatchNormalization())\n",
        "\n",
        "      lower_layer.add(tf.keras.layers.Dense(26, activation = None))\n",
        "      return lower_layer\n",
        "\n",
        "    def select_activation(self, function):\n",
        "      if function == 'relu':\n",
        "        activation = keras.layers.ReLU()\n",
        "      elif function == 'prelu':\n",
        "        activation = keras.layers.PReLU()\n",
        "      elif function == 'leacky_relu':\n",
        "        activation = keras.layers.LeakyReLU()\n",
        "      elif function == 'elu':\n",
        "        activation = keras.layers.ELU()\n",
        "      else:\n",
        "        activation = keras.layers.ReLU()\n",
        "      return activation"
      ]
    },
    {
      "cell_type": "code",
      "source": [
        "def select_model(config_list):\n",
        "  model_class = Res_5x5_v4(64, config_list)\n",
        "\n",
        "  input = keras.layers.Input(shape=(28, 28, 1))\n",
        "\n",
        "  feature_out = model_class.Feature_Detection_Layer(input)\n",
        "\n",
        "  num_out = model_class.Number_Layer(feature_out)\n",
        "  upper_out = model_class.Upper_Letter_Layer(feature_out)\n",
        "  lower_out = model_class.Lower_Letter_Layer(feature_out)\n",
        "\n",
        "  final_out = keras.layers.concatenate([num_out, upper_out, lower_out])\n",
        "  result = tf.nn.softmax(final_out)\n",
        "\n",
        "  model = keras.models.Model(inputs=[input], outputs=[result])\n",
        "  return model"
      ],
      "metadata": {
        "id": "Ta1TfE1mKg7Q"
      },
      "execution_count": 43,
      "outputs": []
    },
    {
      "cell_type": "code",
      "source": [
        "def get_layer_nueron_list(channel, num_feature_layer ,num_layer, num_out_nueron):\n",
        "  num_input = channel*num_feature_layer\n",
        "  nueron_list = []\n",
        "  interval = (num_input-num_out_nueron)//(num_layer+1)\n",
        "  criterion = num_input\n",
        "  for i in range(num_layer):\n",
        "    criterion -= interval\n",
        "    nueron_list.append(criterion)\n",
        "  return nueron_list"
      ],
      "metadata": {
        "id": "T3gLC7CkLChq"
      },
      "execution_count": 44,
      "outputs": []
    },
    {
      "cell_type": "code",
      "source": [
        "#[resnet channel, activation, feature detection depth, 숫자 layer 뉴런 배열, 대문자 layer 뉴런 배열, 소문자 layer 뉴런 배열]\n",
        "model1_list = [32, 'relu', 2, get_layer_nueron_list(32, 2, 2, 10), get_layer_nueron_list(32, 2, 1, 16), get_layer_nueron_list(32, 2, 2, 16)] # 76.35%\n",
        "\n",
        "res_dense_model = select_model(model1_list)\n",
        "res_dense_model.summary()\n",
        "keras.utils.plot_model(res_dense_model, \"res_dense.png\", show_shapes=True)"
      ],
      "metadata": {
        "colab": {
          "base_uri": "https://localhost:8080/",
          "height": 987
        },
        "id": "7lDgUEXkKpbR",
        "outputId": "0e9d2a97-06c1-48d1-a508-1ede07c2e7a1"
      },
      "execution_count": 45,
      "outputs": [
        {
          "output_type": "stream",
          "name": "stdout",
          "text": [
            "Model: \"model_4\"\n",
            "__________________________________________________________________________________________________\n",
            " Layer (type)                   Output Shape         Param #     Connected to                     \n",
            "==================================================================================================\n",
            " input_5 (InputLayer)           [(None, 28, 28, 1)]  0           []                               \n",
            "                                                                                                  \n",
            " sequential_17 (Sequential)     (None, 64)           171140      ['input_5[0][0]']                \n",
            "                                                                                                  \n",
            " sequential_18 (Sequential)     (None, 10)           4892        ['sequential_17[0][0]']          \n",
            "                                                                                                  \n",
            " sequential_19 (Sequential)     (None, 26)           3826        ['sequential_17[0][0]']          \n",
            "                                                                                                  \n",
            " sequential_20 (Sequential)     (None, 26)           5866        ['sequential_17[0][0]']          \n",
            "                                                                                                  \n",
            " concatenate_4 (Concatenate)    (None, 62)           0           ['sequential_18[0][0]',          \n",
            "                                                                  'sequential_19[0][0]',          \n",
            "                                                                  'sequential_20[0][0]']          \n",
            "                                                                                                  \n",
            " tf.nn.softmax (TFOpLambda)     (None, 62)           0           ['concatenate_4[0][0]']          \n",
            "                                                                                                  \n",
            "==================================================================================================\n",
            "Total params: 185,724\n",
            "Trainable params: 184,374\n",
            "Non-trainable params: 1,350\n",
            "__________________________________________________________________________________________________\n"
          ]
        },
        {
          "output_type": "execute_result",
          "data": {
            "text/plain": [
              "<IPython.core.display.Image object>"
            ],
            "image/png": "[encoded data removed]"
          },
          "metadata": {},
          "execution_count": 45
        }
      ]
    },
    {
      "cell_type": "code",
      "source": [
        "early_stopping_cb = keras.callbacks.EarlyStopping(patience=5, restore_best_weights=True)\n",
        "\n",
        "learning_rate = 0.01\n",
        "opt = select_opt('momentum', learning_rate)\n",
        "print(opt)\n",
        "\n",
        "\n",
        "res_dense_model.compile(loss=\"categorical_crossentropy\", optimizer=opt, metrics=[\"accuracy\"])\n",
        "res_dense_history = res_dense_model.fit(X_train, y_train, epochs=30, batch_size = 512, validation_data=(X_val, y_val), callbacks=[early_stopping_cb])"
      ],
      "metadata": {
        "colab": {
          "base_uri": "https://localhost:8080/"
        },
        "id": "y1o55-ImLqwN",
        "outputId": "eaf10d59-42d9-4803-92a9-c7fe81e48954"
      },
      "execution_count": 47,
      "outputs": [
        {
          "output_type": "stream",
          "name": "stdout",
          "text": [
            "<keras.optimizer_v2.gradient_descent.SGD object at 0x7f4aef0ca950>\n",
            "Epoch 1/30\n",
            "1091/1091 [==============================] - 80s 71ms/step - loss: 0.7576 - accuracy: 0.7891 - val_loss: 0.6185 - val_accuracy: 0.8009\n",
            "Epoch 2/30\n",
            "1091/1091 [==============================] - 75s 69ms/step - loss: 0.4322 - accuracy: 0.8517 - val_loss: 0.4769 - val_accuracy: 0.8364\n",
            "Epoch 3/30\n",
            "1091/1091 [==============================] - 75s 69ms/step - loss: 0.3979 - accuracy: 0.8592 - val_loss: 0.4715 - val_accuracy: 0.8334\n",
            "Epoch 4/30\n",
            "1091/1091 [==============================] - 74s 68ms/step - loss: 0.3800 - accuracy: 0.8631 - val_loss: 0.4912 - val_accuracy: 0.8299\n",
            "Epoch 5/30\n",
            "1091/1091 [==============================] - 74s 68ms/step - loss: 0.3689 - accuracy: 0.8662 - val_loss: 0.4461 - val_accuracy: 0.8407\n",
            "Epoch 6/30\n",
            "1091/1091 [==============================] - 75s 69ms/step - loss: 0.3603 - accuracy: 0.8684 - val_loss: 0.4358 - val_accuracy: 0.8500\n",
            "Epoch 7/30\n",
            "1091/1091 [==============================] - 74s 68ms/step - loss: 0.3533 - accuracy: 0.8701 - val_loss: 0.4686 - val_accuracy: 0.8415\n",
            "Epoch 8/30\n",
            "1091/1091 [==============================] - 75s 69ms/step - loss: 0.3479 - accuracy: 0.8716 - val_loss: 0.4292 - val_accuracy: 0.8442\n",
            "Epoch 9/30\n",
            "1091/1091 [==============================] - 76s 70ms/step - loss: 0.3427 - accuracy: 0.8730 - val_loss: 0.3911 - val_accuracy: 0.8579\n",
            "Epoch 10/30\n",
            "1091/1091 [==============================] - 75s 69ms/step - loss: 0.3390 - accuracy: 0.8741 - val_loss: 0.4265 - val_accuracy: 0.8480\n",
            "Epoch 11/30\n",
            "1091/1091 [==============================] - 75s 69ms/step - loss: 0.3347 - accuracy: 0.8754 - val_loss: 0.4426 - val_accuracy: 0.8394\n",
            "Epoch 12/30\n",
            "1091/1091 [==============================] - 75s 69ms/step - loss: 0.3316 - accuracy: 0.8757 - val_loss: 0.3946 - val_accuracy: 0.8503\n",
            "Epoch 13/30\n",
            "1091/1091 [==============================] - 75s 69ms/step - loss: 0.3286 - accuracy: 0.8771 - val_loss: 0.4544 - val_accuracy: 0.8354\n",
            "Epoch 14/30\n",
            "1091/1091 [==============================] - 75s 69ms/step - loss: 0.3257 - accuracy: 0.8775 - val_loss: 0.4287 - val_accuracy: 0.8451\n"
          ]
        }
      ]
    },
    {
      "cell_type": "code",
      "source": [
        "res_dense_model.evaluate(X_test/255., y_test)\n",
        "res_dense_model.save_weights('submit_res_res')"
      ],
      "metadata": {
        "colab": {
          "base_uri": "https://localhost:8080/"
        },
        "id": "hLKGYUK1McMR",
        "outputId": "dacae625-e37a-4177-f421-ffe6899950b5"
      },
      "execution_count": 48,
      "outputs": [
        {
          "output_type": "stream",
          "name": "stdout",
          "text": [
            "3636/3636 [==============================] - 19s 5ms/step - loss: 0.3910 - accuracy: 0.8583\n"
          ]
        }
      ]
    },
    {
      "cell_type": "markdown",
      "source": [
        "auxiliary + Res + Densem"
      ],
      "metadata": {
        "id": "Aj1hmSBbcW54"
      }
    },
    {
      "cell_type": "code",
      "source": [
        "# auxilary output의 label을 할당해 주기 위한 part\n",
        "# auxiliary output은 문자의 domain (숫자, 대문자, 소문자)를 구별하는 output 이므로 3개의 label을 가짐\n",
        "\n",
        "domain_train_label = np.array(raw_y_train.copy())\n",
        "domain_val_label = np.array(raw_y_val.copy())\n",
        "domain_test_label = np.array(raw_y_test.copy())\n",
        "\n",
        "domain_train_label[domain_train_label<10] = 0\n",
        "domain_train_label[(10<=domain_train_label)&(domain_train_label<36)] = 1\n",
        "domain_train_label[36<=domain_train_label] = 2\n",
        "\n",
        "domain_val_label[domain_val_label<10] = 0\n",
        "domain_val_label[(10<=domain_val_label)&(domain_val_label<36)] = 1\n",
        "domain_val_label[36<=domain_val_label] = 2\n",
        "\n",
        "domain_test_label[domain_test_label<10] = 0\n",
        "domain_test_label[(10<=domain_test_label)&(domain_test_label<36)] = 1\n",
        "domain_test_label[36<=domain_test_label] = 2"
      ],
      "metadata": {
        "id": "ppBt68atcwD8"
      },
      "execution_count": 53,
      "outputs": []
    },
    {
      "cell_type": "code",
      "source": [
        "# aux output label 종류 출력\n",
        "print(np.unique(domain_train_label))\n",
        "print(np.unique(domain_val_label))\n",
        "print(np.unique(domain_test_label))"
      ],
      "metadata": {
        "colab": {
          "base_uri": "https://localhost:8080/"
        },
        "id": "sic82X8CdI6o",
        "outputId": "3eeb0608-b5d1-4433-c057-8e111514f4af"
      },
      "execution_count": 54,
      "outputs": [
        {
          "output_type": "stream",
          "name": "stdout",
          "text": [
            "[0 1 2]\n",
            "[0 1 2]\n",
            "[0 1 2]\n"
          ]
        }
      ]
    },
    {
      "cell_type": "code",
      "source": [
        "# categorical cross entropy를 위한 one hot 인코딩\n",
        "domain_train_label = keras.utils.to_categorical(domain_train_label)\n",
        "domain_val_label = keras.utils.to_categorical(domain_val_label)\n",
        "domain_test_label = keras.utils.to_categorical(domain_test_label)"
      ],
      "metadata": {
        "id": "nG3jwO-kdQ8l"
      },
      "execution_count": 56,
      "outputs": []
    },
    {
      "cell_type": "code",
      "source": [
        "print(domain_train_label.shape)\n",
        "print(domain_val_label.shape)\n",
        "print(domain_test_label.shape)"
      ],
      "metadata": {
        "colab": {
          "base_uri": "https://localhost:8080/"
        },
        "id": "ptHo_3oydXPc",
        "outputId": "af80e94e-1834-452b-f71f-66d6ce7b29e6"
      },
      "execution_count": 57,
      "outputs": [
        {
          "output_type": "stream",
          "name": "stdout",
          "text": [
            "(558345, 3)\n",
            "(139587, 3)\n",
            "(116323, 3)\n"
          ]
        }
      ]
    },
    {
      "cell_type": "code",
      "execution_count": 58,
      "metadata": {
        "id": "Yjmj5bg5bH7Q"
      },
      "outputs": [],
      "source": [
        "# res + dense 구조와 비슷하며, 추가로 aux output을 통해 domain을 구별하는 모델 추가\n",
        "# 추가로 dropout + 선택적으로 average pooling 적용\n",
        "class Res_5x5_v4(keras.models.Model):\n",
        "\n",
        "    def __init__(self, num_classes, config_list, **kwargs):\n",
        "        \"\"\"\n",
        "            num_classes: number of classes in specific classification task.\n",
        "        \"\"\"\n",
        "        super().__init__(**kwargs)\n",
        "\n",
        "        self.input_ch, self.activation, self.feature_layer_depth, self.domain_nueron, self.dropout_rate,\\\n",
        "        self.num_layer_nueron, self.upper_layer_nueron, self.lower_layer_nueron, self.avgpool = config_list\n",
        "\n",
        "\n",
        "        self.Global_Average_Pool_Layer = keras.layers.GlobalAveragePooling2D()\n",
        "        self.Flatten_Layer = keras.layers.Flatten()\n",
        "\n",
        "        self.Feature_Detection_Layer = self.feature_detection_layer()\n",
        "        \n",
        "        self.Domain_Layer = self.domain_layer()\n",
        "        self.Number_Layer = self.number_layer()\n",
        "        self.Upper_Letter_Layer = self.upper_letter_layer()\n",
        "        self.Lower_Letter_Layer = self.lower_letter_layer()\n",
        "\n",
        "\n",
        "        self.Prediction_Layer = keras.layers.Dense(num_classes, activation=\"softmax\")\n",
        "\n",
        "    def feature_detection_layer(self):\n",
        "      feature_dec_layer = keras.models.Sequential()\n",
        "      feature_dec_layer.add(keras.layers.BatchNormalization())\n",
        "      feature_dec_layer.add(keras.layers.Conv2D(self.input_ch, (5, 5), strides=1, padding=\"same\", kernel_initializer=\"he_normal\"))\n",
        "      feature_dec_layer.add(keras.layers.BatchNormalization())\n",
        "\n",
        "      if self.avgpool == 'T':\n",
        "        feature_dec_layer.add(keras.layers.AvgPool2D(pool_size=2, padding = 'same'))\n",
        "      else:\n",
        "        feature_dec_layer.add(keras.layers.MaxPool2D(pool_size=(2, 2), strides=1, padding=\"same\"))\n",
        "\n",
        "      feature_dec_layer.add(ResnetBlock(self.input_ch))\n",
        "      feature_dec_layer.add(ResnetBlock(self.input_ch))\n",
        "      \n",
        "      for i in range(self.feature_layer_depth-1):\n",
        "        feature_dec_layer.add(ResnetBlock(self.input_ch*(2*(i+1)), down_sample=True))\n",
        "        feature_dec_layer.add(ResnetBlock(self.input_ch*(2*(i+1))))\n",
        "\n",
        "      feature_dec_layer.add(self.Global_Average_Pool_Layer)\n",
        "      feature_dec_layer.add(self.Flatten_Layer)\n",
        "\n",
        "      return feature_dec_layer\n",
        "\n",
        "    def domain_layer(self):\n",
        "      num_layer = keras.models.Sequential(name = \"domain_out\")\n",
        "      for i, num_nueron in enumerate(self.domain_nueron):\n",
        "        num_layer.add(tf.keras.layers.Dense(num_nueron))\n",
        "        num_layer.add(self.select_activation(self.activation))\n",
        "        num_layer.add(keras.layers.BatchNormalization())\n",
        "      \n",
        "      num_layer.add(tf.keras.layers.Dropout(self.dropout_rate))\n",
        "      num_layer.add(tf.keras.layers.Dense(3, activation = 'softmax'))\n",
        "\n",
        "      return num_layer\n",
        "\n",
        "    def number_layer(self):\n",
        "      num_layer = keras.models.Sequential(name = \"number_layer\")\n",
        "      for i, num_nueron in enumerate(self.num_layer_nueron):\n",
        "        num_layer.add(tf.keras.layers.Dense(num_nueron))\n",
        "        num_layer.add(self.select_activation(self.activation))\n",
        "        num_layer.add(keras.layers.BatchNormalization())\n",
        "\n",
        "      num_layer.add(tf.keras.layers.Dropout(self.dropout_rate))\n",
        "      num_layer.add(tf.keras.layers.Dense(10, activation = None))\n",
        "\n",
        "      return num_layer\n",
        "\n",
        "    def upper_letter_layer(self):\n",
        "      upper_layer = keras.models.Sequential(name = \"upper_layer\")\n",
        "      for i, num_nueron in enumerate(self.upper_layer_nueron):\n",
        "        upper_layer.add(tf.keras.layers.Dense(num_nueron))\n",
        "        upper_layer.add(self.select_activation(self.activation))\n",
        "        upper_layer.add(keras.layers.BatchNormalization())\n",
        "\n",
        "      upper_layer.add(tf.keras.layers.Dropout(self.dropout_rate))\n",
        "      upper_layer.add(tf.keras.layers.Dense(26, activation = None))\n",
        "      \n",
        "      return upper_layer\n",
        "\n",
        "    def lower_letter_layer(self):\n",
        "      lower_layer = keras.models.Sequential(name = \"lower_layer\")\n",
        "\n",
        "      for i, num_nueron in enumerate(self.lower_layer_nueron):\n",
        "        lower_layer.add(tf.keras.layers.Dense(num_nueron))\n",
        "        lower_layer.add(self.select_activation(self.activation))\n",
        "        lower_layer.add(keras.layers.BatchNormalization())\n",
        "\n",
        "      lower_layer.add(tf.keras.layers.Dropout(self.dropout_rate))\n",
        "      lower_layer.add(tf.keras.layers.Dense(26, activation = None))\n",
        "\n",
        "      return lower_layer\n",
        "\n",
        "    def select_activation(self, function):\n",
        "      if function == 'relu':\n",
        "        activation = keras.layers.ReLU()\n",
        "      elif function == 'prelu':\n",
        "        activation = keras.layers.PReLU()\n",
        "      elif function == 'leacky_relu':\n",
        "        activation = keras.layers.LeakyReLU()\n",
        "      elif function == 'elu':\n",
        "        activation = keras.layers.ELU()\n",
        "      else:\n",
        "        activation = keras.layers.ReLU()\n",
        "      return activation"
      ]
    },
    {
      "cell_type": "code",
      "execution_count": 59,
      "metadata": {
        "id": "3NmWdCsHbH7Q"
      },
      "outputs": [],
      "source": [
        "def select_model(config_list):\n",
        "  model_class = Res_5x5_v4(64, config_list)\n",
        "\n",
        "  input = keras.layers.Input(shape=(28, 28, 1), name = \"input_layer\")\n",
        "\n",
        "  feature_out = model_class.Feature_Detection_Layer(input)\n",
        "\n",
        "  domain_result = model_class.Domain_Layer(feature_out)\n",
        "\n",
        "  num_out = model_class.Number_Layer(feature_out)\n",
        "  upper_out = model_class.Upper_Letter_Layer(feature_out)\n",
        "  lower_out = model_class.Lower_Letter_Layer(feature_out)\n",
        "\n",
        "\n",
        "  final_out = keras.layers.concatenate([num_out, upper_out, lower_out])\n",
        "  result = tf.keras.layers.Softmax(name = 'main_out')(final_out)\n",
        "\n",
        "  model = keras.models.Model(inputs=[input], outputs=[domain_result, result])\n",
        "  return model"
      ]
    },
    {
      "cell_type": "code",
      "source": [
        "def get_layer_nueron_list(channel, num_feature_layer ,num_layer, num_out_nueron):\n",
        "  num_input = channel*num_feature_layer\n",
        "  nueron_list = []\n",
        "  interval = (num_input-num_out_nueron)//(num_layer+1)\n",
        "  criterion = num_input\n",
        "  for i in range(num_layer):\n",
        "    criterion -= interval\n",
        "    nueron_list.append(criterion)\n",
        "  return nueron_list"
      ],
      "metadata": {
        "id": "pi_DEuhSXRPp"
      },
      "execution_count": 60,
      "outputs": []
    },
    {
      "cell_type": "code",
      "source": [
        "# [resnet channel, activation, feature layer depth, aux layer 뉴런 배열, dropout rate, 숫자 layer 뉴런 배열, 대문자 layer 뉴런 배열, 소문자 layer 뉴련 배열, avg pooling 사용 여부]\n",
        "first_list = [32, 'leacky_relu', 3, [65, 34], 0.6, [53], [61], [73, 50], 'F']\n",
        "\n",
        "aux_model = select_model(first_list)\n",
        "aux_model.summary()\n",
        "keras.utils.plot_model(aux_model, \"aux_model.png\", show_shapes=True)"
      ],
      "metadata": {
        "colab": {
          "base_uri": "https://localhost:8080/",
          "height": 926
        },
        "id": "YEKNTfN-XVNy",
        "outputId": "f9de9cb9-dd72-47a0-c16d-225c4e722442"
      },
      "execution_count": 62,
      "outputs": [
        {
          "output_type": "stream",
          "name": "stdout",
          "text": [
            "Model: \"model_5\"\n",
            "__________________________________________________________________________________________________\n",
            " Layer (type)                   Output Shape         Param #     Connected to                     \n",
            "==================================================================================================\n",
            " input_layer (InputLayer)       [(None, 28, 28, 1)]  0           []                               \n",
            "                                                                                                  \n",
            " sequential_21 (Sequential)     (None, 128)          698628      ['input_layer[0][0]']            \n",
            "                                                                                                  \n",
            " number_layer (Sequential)      (None, 10)           7589        ['sequential_21[0][0]']          \n",
            "                                                                                                  \n",
            " upper_layer (Sequential)       (None, 26)           9725        ['sequential_21[0][0]']          \n",
            "                                                                                                  \n",
            " lower_layer (Sequential)       (None, 26)           14935       ['sequential_21[0][0]']          \n",
            "                                                                                                  \n",
            " concatenate_5 (Concatenate)    (None, 62)           0           ['number_layer[0][0]',           \n",
            "                                                                  'upper_layer[0][0]',            \n",
            "                                                                  'lower_layer[0][0]']            \n",
            "                                                                                                  \n",
            " domain_out (Sequential)        (None, 3)            11130       ['sequential_21[0][0]']          \n",
            "                                                                                                  \n",
            " main_out (Softmax)             (None, 62)           0           ['concatenate_5[0][0]']          \n",
            "                                                                                                  \n",
            "==================================================================================================\n",
            "Total params: 742,007\n",
            "Trainable params: 739,093\n",
            "Non-trainable params: 2,914\n",
            "__________________________________________________________________________________________________\n"
          ]
        },
        {
          "output_type": "execute_result",
          "data": {
            "text/plain": [
              "<IPython.core.display.Image object>"
            ],
            "image/png": "[encoded data removed]"
          },
          "metadata": {},
          "execution_count": 62
        }
      ]
    },
    {
      "cell_type": "code",
      "source": [
        "early_stopping_cb = keras.callbacks.EarlyStopping(patience=10, restore_best_weights=True)\n",
        "optimizer = select_opt('nadam', 0.01)\n",
        "\n",
        "aux_model.compile(loss=[\"categorical_crossentropy\", \"categorical_crossentropy\"], loss_weights=[0.3, 0.7],\n",
        "                  optimizer=optimizer,\n",
        "                  metrics=[\"accuracy\",]\n",
        "                  )\n",
        "aux_history = aux_model.fit(X_train, [domain_train_label, y_train], epochs=50, batch_size = 512,\n",
        "                     validation_data=(X_val, [domain_val_label, y_val]), callbacks=[early_stopping_cb])"
      ],
      "metadata": {
        "colab": {
          "base_uri": "https://localhost:8080/"
        },
        "id": "kCOVKKh4dnw5",
        "outputId": "62aefca0-8830-4cdc-db12-54188ffd7017"
      },
      "execution_count": 63,
      "outputs": [
        {
          "output_type": "stream",
          "name": "stdout",
          "text": [
            "Epoch 1/50\n",
            "1091/1091 [==============================] - 118s 98ms/step - loss: 0.6167 - domain_out_loss: 0.4221 - main_out_loss: 0.7001 - domain_out_accuracy: 0.8299 - main_out_accuracy: 0.7964 - val_loss: 0.4405 - val_domain_out_loss: 0.3543 - val_main_out_loss: 0.4774 - val_domain_out_accuracy: 0.8561 - val_main_out_accuracy: 0.8366\n",
            "Epoch 2/50\n",
            "1091/1091 [==============================] - 106s 97ms/step - loss: 0.4323 - domain_out_loss: 0.3268 - main_out_loss: 0.4775 - domain_out_accuracy: 0.8688 - main_out_accuracy: 0.8463 - val_loss: 0.4091 - val_domain_out_loss: 0.3351 - val_main_out_loss: 0.4408 - val_domain_out_accuracy: 0.8628 - val_main_out_accuracy: 0.8555\n",
            "Epoch 3/50\n",
            "1091/1091 [==============================] - 106s 97ms/step - loss: 0.4006 - domain_out_loss: 0.3121 - main_out_loss: 0.4385 - domain_out_accuracy: 0.8744 - main_out_accuracy: 0.8547 - val_loss: 0.3731 - val_domain_out_loss: 0.3250 - val_main_out_loss: 0.3938 - val_domain_out_accuracy: 0.8641 - val_main_out_accuracy: 0.8594\n",
            "Epoch 4/50\n",
            "1091/1091 [==============================] - 105s 97ms/step - loss: 0.3831 - domain_out_loss: 0.3038 - main_out_loss: 0.4171 - domain_out_accuracy: 0.8780 - main_out_accuracy: 0.8599 - val_loss: 0.3772 - val_domain_out_loss: 0.3257 - val_main_out_loss: 0.3993 - val_domain_out_accuracy: 0.8683 - val_main_out_accuracy: 0.8622\n",
            "Epoch 5/50\n",
            "1091/1091 [==============================] - 106s 97ms/step - loss: 0.3714 - domain_out_loss: 0.2983 - main_out_loss: 0.4027 - domain_out_accuracy: 0.8799 - main_out_accuracy: 0.8631 - val_loss: 0.3470 - val_domain_out_loss: 0.3069 - val_main_out_loss: 0.3642 - val_domain_out_accuracy: 0.8768 - val_main_out_accuracy: 0.8728\n",
            "Epoch 6/50\n",
            "1091/1091 [==============================] - 105s 97ms/step - loss: 0.3619 - domain_out_loss: 0.2931 - main_out_loss: 0.3914 - domain_out_accuracy: 0.8821 - main_out_accuracy: 0.8661 - val_loss: 0.3467 - val_domain_out_loss: 0.3045 - val_main_out_loss: 0.3647 - val_domain_out_accuracy: 0.8773 - val_main_out_accuracy: 0.8687\n",
            "Epoch 7/50\n",
            "1091/1091 [==============================] - 106s 97ms/step - loss: 0.3530 - domain_out_loss: 0.2886 - main_out_loss: 0.3806 - domain_out_accuracy: 0.8833 - main_out_accuracy: 0.8684 - val_loss: 0.3418 - val_domain_out_loss: 0.3158 - val_main_out_loss: 0.3530 - val_domain_out_accuracy: 0.8747 - val_main_out_accuracy: 0.8759\n",
            "Epoch 8/50\n",
            "1091/1091 [==============================] - 105s 96ms/step - loss: 0.3467 - domain_out_loss: 0.2839 - main_out_loss: 0.3736 - domain_out_accuracy: 0.8853 - main_out_accuracy: 0.8707 - val_loss: 0.3510 - val_domain_out_loss: 0.3080 - val_main_out_loss: 0.3694 - val_domain_out_accuracy: 0.8734 - val_main_out_accuracy: 0.8666\n",
            "Epoch 9/50\n",
            "1091/1091 [==============================] - 104s 95ms/step - loss: 0.3395 - domain_out_loss: 0.2799 - main_out_loss: 0.3650 - domain_out_accuracy: 0.8868 - main_out_accuracy: 0.8731 - val_loss: 0.3469 - val_domain_out_loss: 0.3042 - val_main_out_loss: 0.3652 - val_domain_out_accuracy: 0.8752 - val_main_out_accuracy: 0.8680\n",
            "Epoch 10/50\n",
            "1091/1091 [==============================] - 103s 94ms/step - loss: 0.3324 - domain_out_loss: 0.2757 - main_out_loss: 0.3567 - domain_out_accuracy: 0.8883 - main_out_accuracy: 0.8750 - val_loss: 0.3423 - val_domain_out_loss: 0.2932 - val_main_out_loss: 0.3634 - val_domain_out_accuracy: 0.8827 - val_main_out_accuracy: 0.8728\n",
            "Epoch 11/50\n",
            "1091/1091 [==============================] - 104s 96ms/step - loss: 0.3258 - domain_out_loss: 0.2719 - main_out_loss: 0.3490 - domain_out_accuracy: 0.8898 - main_out_accuracy: 0.8768 - val_loss: 0.3482 - val_domain_out_loss: 0.3011 - val_main_out_loss: 0.3684 - val_domain_out_accuracy: 0.8801 - val_main_out_accuracy: 0.8700\n",
            "Epoch 12/50\n",
            "1091/1091 [==============================] - 106s 97ms/step - loss: 0.3195 - domain_out_loss: 0.2675 - main_out_loss: 0.3418 - domain_out_accuracy: 0.8915 - main_out_accuracy: 0.8791 - val_loss: 0.3433 - val_domain_out_loss: 0.2977 - val_main_out_loss: 0.3628 - val_domain_out_accuracy: 0.8824 - val_main_out_accuracy: 0.8724\n",
            "Epoch 13/50\n",
            "1091/1091 [==============================] - 106s 97ms/step - loss: 0.3133 - domain_out_loss: 0.2631 - main_out_loss: 0.3348 - domain_out_accuracy: 0.8928 - main_out_accuracy: 0.8803 - val_loss: 0.3570 - val_domain_out_loss: 0.3010 - val_main_out_loss: 0.3809 - val_domain_out_accuracy: 0.8820 - val_main_out_accuracy: 0.8755\n",
            "Epoch 14/50\n",
            "1091/1091 [==============================] - 106s 97ms/step - loss: 0.3061 - domain_out_loss: 0.2580 - main_out_loss: 0.3267 - domain_out_accuracy: 0.8949 - main_out_accuracy: 0.8832 - val_loss: 0.3517 - val_domain_out_loss: 0.3202 - val_main_out_loss: 0.3652 - val_domain_out_accuracy: 0.8714 - val_main_out_accuracy: 0.8755\n",
            "Epoch 15/50\n",
            "1091/1091 [==============================] - 106s 97ms/step - loss: 0.2996 - domain_out_loss: 0.2540 - main_out_loss: 0.3192 - domain_out_accuracy: 0.8962 - main_out_accuracy: 0.8850 - val_loss: 0.3716 - val_domain_out_loss: 0.3138 - val_main_out_loss: 0.3963 - val_domain_out_accuracy: 0.8781 - val_main_out_accuracy: 0.8728\n",
            "Epoch 16/50\n",
            "1091/1091 [==============================] - 106s 97ms/step - loss: 0.2935 - domain_out_loss: 0.2487 - main_out_loss: 0.3128 - domain_out_accuracy: 0.8986 - main_out_accuracy: 0.8869 - val_loss: 0.3507 - val_domain_out_loss: 0.2993 - val_main_out_loss: 0.3727 - val_domain_out_accuracy: 0.8821 - val_main_out_accuracy: 0.8749\n",
            "Epoch 17/50\n",
            "1091/1091 [==============================] - 107s 98ms/step - loss: 0.2863 - domain_out_loss: 0.2438 - main_out_loss: 0.3046 - domain_out_accuracy: 0.9001 - main_out_accuracy: 0.8893 - val_loss: 0.3704 - val_domain_out_loss: 0.3144 - val_main_out_loss: 0.3943 - val_domain_out_accuracy: 0.8801 - val_main_out_accuracy: 0.8749\n"
          ]
        }
      ]
    },
    {
      "cell_type": "code",
      "source": [
        "aux_model.evaluate(X_test/255., [domain_test_label, y_test])\n",
        "aux_model.save_weights('aux_model')"
      ],
      "metadata": {
        "colab": {
          "base_uri": "https://localhost:8080/"
        },
        "id": "Dt0rupCQk-oO",
        "outputId": "ca06c179-c5b2-4b2b-de39-ae94c219f55e"
      },
      "execution_count": 66,
      "outputs": [
        {
          "output_type": "stream",
          "name": "stdout",
          "text": [
            "3636/3636 [==============================] - 30s 8ms/step - loss: 0.3392 - domain_out_loss: 0.3123 - main_out_loss: 0.3507 - domain_out_accuracy: 0.8752 - main_out_accuracy: 0.8760\n"
          ]
        }
      ]
    },
    {
      "cell_type": "markdown",
      "metadata": {
        "id": "aHnwF3gGbH7Q"
      },
      "source": [
        "4 - C.  VGG – pre-trained"
      ]
    },
    {
      "cell_type": "code",
      "execution_count": 26,
      "metadata": {
        "id": "-w4b5dJUbH7Q",
        "colab": {
          "base_uri": "https://localhost:8080/"
        },
        "outputId": "ca967f15-8888-42b9-9eea-c6bf305ad23c"
      },
      "outputs": [
        {
          "output_type": "stream",
          "name": "stdout",
          "text": [
            "Model: \"model_1\"\n",
            "_________________________________________________________________\n",
            " Layer (type)                Output Shape              Param #   \n",
            "=================================================================\n",
            " input_2 (InputLayer)        [(None, 28, 28, 1)]       0         \n",
            "                                                                 \n",
            " conv2d_16 (Conv2D)          (None, 28, 28, 32)        320       \n",
            "                                                                 \n",
            " conv2d_17 (Conv2D)          (None, 28, 28, 32)        9248      \n",
            "                                                                 \n",
            " batch_normalization_6 (Batc  (None, 28, 28, 32)       128       \n",
            " hNormalization)                                                 \n",
            "                                                                 \n",
            " max_pooling2d_5 (MaxPooling  (None, 14, 14, 32)       0         \n",
            " 2D)                                                             \n",
            "                                                                 \n",
            " conv2d_18 (Conv2D)          (None, 14, 14, 64)        18496     \n",
            "                                                                 \n",
            " conv2d_19 (Conv2D)          (None, 14, 14, 64)        36928     \n",
            "                                                                 \n",
            " batch_normalization_7 (Batc  (None, 14, 14, 64)       256       \n",
            " hNormalization)                                                 \n",
            "                                                                 \n",
            " max_pooling2d_6 (MaxPooling  (None, 7, 7, 64)         0         \n",
            " 2D)                                                             \n",
            "                                                                 \n",
            " conv2d_20 (Conv2D)          (None, 7, 7, 128)         73856     \n",
            "                                                                 \n",
            " conv2d_21 (Conv2D)          (None, 7, 7, 128)         147584    \n",
            "                                                                 \n",
            " conv2d_22 (Conv2D)          (None, 7, 7, 128)         147584    \n",
            "                                                                 \n",
            " batch_normalization_8 (Batc  (None, 7, 7, 128)        512       \n",
            " hNormalization)                                                 \n",
            "                                                                 \n",
            " max_pooling2d_7 (MaxPooling  (None, 4, 4, 128)        0         \n",
            " 2D)                                                             \n",
            "                                                                 \n",
            " conv2d_23 (Conv2D)          (None, 4, 4, 256)         295168    \n",
            "                                                                 \n",
            " conv2d_24 (Conv2D)          (None, 4, 4, 256)         590080    \n",
            "                                                                 \n",
            " conv2d_25 (Conv2D)          (None, 4, 4, 256)         590080    \n",
            "                                                                 \n",
            " batch_normalization_9 (Batc  (None, 4, 4, 256)        1024      \n",
            " hNormalization)                                                 \n",
            "                                                                 \n",
            " max_pooling2d_8 (MaxPooling  (None, 2, 2, 256)        0         \n",
            " 2D)                                                             \n",
            "                                                                 \n",
            " conv2d_26 (Conv2D)          (None, 2, 2, 256)         590080    \n",
            "                                                                 \n",
            " conv2d_27 (Conv2D)          (None, 2, 2, 256)         590080    \n",
            "                                                                 \n",
            " conv2d_28 (Conv2D)          (None, 2, 2, 256)         590080    \n",
            "                                                                 \n",
            " batch_normalization_10 (Bat  (None, 2, 2, 256)        1024      \n",
            " chNormalization)                                                \n",
            "                                                                 \n",
            " dropout_1 (Dropout)         (None, 2, 2, 256)         0         \n",
            "                                                                 \n",
            " max_pooling2d_9 (MaxPooling  (None, 1, 1, 256)        0         \n",
            " 2D)                                                             \n",
            "                                                                 \n",
            " flatten_2 (Flatten)         (None, 256)               0         \n",
            "                                                                 \n",
            " batch_normalization_11 (Bat  (None, 256)              1024      \n",
            " chNormalization)                                                \n",
            "                                                                 \n",
            " dense_4 (Dense)             (None, 4096)              1052672   \n",
            "                                                                 \n",
            " dense_5 (Dense)             (None, 4096)              16781312  \n",
            "                                                                 \n",
            " dense_6 (Dense)             (None, 62)                254014    \n",
            "                                                                 \n",
            "=================================================================\n",
            "Total params: 21,771,550\n",
            "Trainable params: 21,769,566\n",
            "Non-trainable params: 1,984\n",
            "_________________________________________________________________\n"
          ]
        }
      ],
      "source": [
        "# vgg net1\n",
        "\n",
        "inputs = Input(shape = (28,28,1))\n",
        "x = Conv2D (filters =32, kernel_size =3, padding ='same', activation='relu')(inputs)\n",
        "x = Conv2D (filters =32, kernel_size =3, padding ='same', activation='relu')(x)\n",
        "x= BatchNormalization()(x)\n",
        "x = MaxPool2D(pool_size =2, strides =2, padding ='same')(x)\n",
        "# 2nd Conv Block\n",
        "x = Conv2D (filters =64, kernel_size =3, padding ='same', activation='relu')(x)\n",
        "x = Conv2D (filters =64, kernel_size =3, padding ='same', activation='relu')(x)\n",
        "x= BatchNormalization()(x)\n",
        "x = MaxPool2D(pool_size =2, strides =2, padding ='same')(x)\n",
        "# 3rd Conv block  \n",
        "x = Conv2D (filters =128, kernel_size =3, padding ='same', activation='relu')(x)\n",
        "x = Conv2D (filters =128, kernel_size =3, padding ='same', activation='relu')(x) \n",
        "x = Conv2D (filters =128, kernel_size =3, padding ='same', activation='relu')(x) \n",
        "x= BatchNormalization()(x)\n",
        "x = MaxPool2D(pool_size =2, strides =2, padding ='same')(x)\n",
        "# 4th Conv block\n",
        "x = Conv2D (filters =256, kernel_size =3, padding ='same', activation='relu')(x)\n",
        "x = Conv2D (filters =256, kernel_size =3, padding ='same', activation='relu')(x)\n",
        "x = Conv2D (filters =256, kernel_size =3, padding ='same', activation='relu')(x)\n",
        "x= BatchNormalization()(x)\n",
        "x = MaxPool2D(pool_size =2, strides =2, padding ='same')(x)\n",
        "# 5th Conv block\n",
        "x = Conv2D (filters =256, kernel_size =3, padding ='same', activation='relu')(x)\n",
        "x = Conv2D (filters =256, kernel_size =3, padding ='same', activation='relu')(x)\n",
        "x = Conv2D (filters =256, kernel_size =3, padding ='same', activation='relu')(x)\n",
        "x= BatchNormalization()(x)\n",
        "x= Dropout(0.3)(x)\n",
        "x = MaxPool2D(pool_size =2, strides =2, padding ='same')(x)\n",
        "# Fully connected layers  \n",
        "x = Flatten()(x)\n",
        "x= BatchNormalization()(x)\n",
        "x = Dense(units = 4096, activation ='relu')(x)\n",
        "x = Dense(units = 4096, activation ='relu')(x)\n",
        "output = Dense(units = 62, activation ='softmax')(x)\n",
        "# creating the model\n",
        "\n",
        "VGG_model = Model (inputs=inputs, outputs =output)\n",
        "VGG_model.summary()"
      ]
    },
    {
      "cell_type": "code",
      "execution_count": 30,
      "metadata": {
        "id": "7M464CnzbH7R",
        "colab": {
          "base_uri": "https://localhost:8080/"
        },
        "outputId": "ce49d76e-2323-463d-f29e-bff5ed730545"
      },
      "outputs": [
        {
          "output_type": "stream",
          "name": "stdout",
          "text": [
            "Epoch 1/20\n",
            "1091/1091 [==============================] - 67s 60ms/step - loss: 1.3157 - accuracy: 0.6543 - val_loss: 0.5427 - val_accuracy: 0.8205\n",
            "Epoch 2/20\n",
            "1091/1091 [==============================] - 66s 61ms/step - loss: 0.4620 - accuracy: 0.8404 - val_loss: 0.4753 - val_accuracy: 0.8400\n",
            "Epoch 3/20\n",
            "1091/1091 [==============================] - 64s 58ms/step - loss: 0.4210 - accuracy: 0.8524 - val_loss: 0.4660 - val_accuracy: 0.8420\n",
            "Epoch 4/20\n",
            "1091/1091 [==============================] - 62s 57ms/step - loss: 0.4010 - accuracy: 0.8576 - val_loss: 0.4431 - val_accuracy: 0.8486\n",
            "Epoch 5/20\n",
            "1091/1091 [==============================] - 63s 57ms/step - loss: 0.3853 - accuracy: 0.8620 - val_loss: 0.4289 - val_accuracy: 0.8514\n",
            "Epoch 6/20\n",
            "1091/1091 [==============================] - 62s 57ms/step - loss: 0.3746 - accuracy: 0.8647 - val_loss: 0.4023 - val_accuracy: 0.8604\n",
            "Epoch 7/20\n",
            "1091/1091 [==============================] - 63s 58ms/step - loss: 0.3660 - accuracy: 0.8668 - val_loss: 0.3955 - val_accuracy: 0.8614\n",
            "Epoch 8/20\n",
            "1091/1091 [==============================] - 63s 57ms/step - loss: 0.3568 - accuracy: 0.8695 - val_loss: 0.3749 - val_accuracy: 0.8673\n",
            "Epoch 9/20\n",
            "1091/1091 [==============================] - 62s 57ms/step - loss: 0.3484 - accuracy: 0.8719 - val_loss: 0.3824 - val_accuracy: 0.8636\n",
            "Epoch 10/20\n",
            "1091/1091 [==============================] - 62s 57ms/step - loss: 0.3411 - accuracy: 0.8736 - val_loss: 0.3817 - val_accuracy: 0.8609\n",
            "Epoch 11/20\n",
            "1091/1091 [==============================] - 62s 57ms/step - loss: 0.3355 - accuracy: 0.8752 - val_loss: 0.3724 - val_accuracy: 0.8657\n",
            "Epoch 12/20\n",
            "1091/1091 [==============================] - 63s 57ms/step - loss: 0.3306 - accuracy: 0.8765 - val_loss: 0.3711 - val_accuracy: 0.8652\n",
            "Epoch 13/20\n",
            "1091/1091 [==============================] - 62s 57ms/step - loss: 0.3239 - accuracy: 0.8787 - val_loss: 0.3602 - val_accuracy: 0.8720\n",
            "Epoch 14/20\n",
            "1091/1091 [==============================] - 62s 57ms/step - loss: 0.3188 - accuracy: 0.8799 - val_loss: 0.3605 - val_accuracy: 0.8708\n",
            "Epoch 15/20\n",
            "1091/1091 [==============================] - 63s 57ms/step - loss: 0.3144 - accuracy: 0.8814 - val_loss: 0.3624 - val_accuracy: 0.8693\n",
            "Epoch 16/20\n",
            "1091/1091 [==============================] - 62s 57ms/step - loss: 0.3094 - accuracy: 0.8826 - val_loss: 0.3732 - val_accuracy: 0.8674\n",
            "Epoch 17/20\n",
            "1091/1091 [==============================] - 62s 57ms/step - loss: 0.3038 - accuracy: 0.8843 - val_loss: 0.3627 - val_accuracy: 0.8716\n",
            "Epoch 18/20\n",
            "1091/1091 [==============================] - 62s 57ms/step - loss: 0.3004 - accuracy: 0.8854 - val_loss: 0.3577 - val_accuracy: 0.8735\n",
            "Epoch 19/20\n",
            "1091/1091 [==============================] - 62s 57ms/step - loss: 0.2949 - accuracy: 0.8872 - val_loss: 0.3732 - val_accuracy: 0.8702\n",
            "Epoch 20/20\n",
            "1091/1091 [==============================] - 63s 57ms/step - loss: 0.2923 - accuracy: 0.8882 - val_loss: 0.3671 - val_accuracy: 0.8728\n"
          ]
        },
        {
          "output_type": "execute_result",
          "data": {
            "text/plain": [
              "<keras.callbacks.History at 0x7fa20030edd0>"
            ]
          },
          "metadata": {},
          "execution_count": 30
        }
      ],
      "source": [
        "VGG_model.compile(optimizer=tf.keras.optimizers.Adam(learning_rate = 0.005), loss=keras.losses.categorical_crossentropy, metrics=['accuracy'])\n",
        "early_stopping_cb = keras.callbacks.EarlyStopping(patience=5, restore_best_weights=True)\n",
        "VGG_model.fit(X_train, y_train, batch_size = 512, epochs=20, validation_data=(X_val, y_val), callbacks=[early_stopping_cb])"
      ]
    },
    {
      "cell_type": "code",
      "source": [
        "VGG_model.evaluate(X_test/255., y_test)\n",
        "VGG_model.save(\"submit_VGG_1.h5\", save_format=\"h5\")"
      ],
      "metadata": {
        "colab": {
          "base_uri": "https://localhost:8080/"
        },
        "id": "qf58duofWwfI",
        "outputId": "4453fe09-de8c-4f97-e783-8b94630366e5"
      },
      "execution_count": 31,
      "outputs": [
        {
          "output_type": "stream",
          "name": "stdout",
          "text": [
            "3636/3636 [==============================] - 21s 6ms/step - loss: 0.3648 - accuracy: 0.8729\n"
          ]
        }
      ]
    },
    {
      "cell_type": "markdown",
      "source": [
        "VGG 2"
      ],
      "metadata": {
        "id": "kag5mqPVNviv"
      }
    },
    {
      "cell_type": "code",
      "execution_count": 32,
      "metadata": {
        "id": "6BJ3fRR3bH7R",
        "colab": {
          "base_uri": "https://localhost:8080/"
        },
        "outputId": "29043b43-0959-4606-85cd-097f725398a4"
      },
      "outputs": [
        {
          "output_type": "stream",
          "name": "stdout",
          "text": [
            "Model: \"model_5\"\n",
            "_________________________________________________________________\n",
            " Layer (type)                Output Shape              Param #   \n",
            "=================================================================\n",
            " input_6 (InputLayer)        [(None, 28, 28, 1)]       0         \n",
            "                                                                 \n",
            " conv2d_68 (Conv2D)          (None, 28, 28, 32)        320       \n",
            "                                                                 \n",
            " conv2d_69 (Conv2D)          (None, 28, 28, 32)        9248      \n",
            "                                                                 \n",
            " batch_normalization_27 (Bat  (None, 28, 28, 32)       128       \n",
            " chNormalization)                                                \n",
            "                                                                 \n",
            " max_pooling2d_25 (MaxPoolin  (None, 14, 14, 32)       0         \n",
            " g2D)                                                            \n",
            "                                                                 \n",
            " conv2d_70 (Conv2D)          (None, 14, 14, 64)        18496     \n",
            "                                                                 \n",
            " conv2d_71 (Conv2D)          (None, 14, 14, 64)        36928     \n",
            "                                                                 \n",
            " batch_normalization_28 (Bat  (None, 14, 14, 64)       256       \n",
            " chNormalization)                                                \n",
            "                                                                 \n",
            " dropout_7 (Dropout)         (None, 14, 14, 64)        0         \n",
            "                                                                 \n",
            " max_pooling2d_26 (MaxPoolin  (None, 7, 7, 64)         0         \n",
            " g2D)                                                            \n",
            "                                                                 \n",
            " conv2d_72 (Conv2D)          (None, 7, 7, 128)         73856     \n",
            "                                                                 \n",
            " conv2d_73 (Conv2D)          (None, 7, 7, 128)         147584    \n",
            "                                                                 \n",
            " conv2d_74 (Conv2D)          (None, 7, 7, 128)         147584    \n",
            "                                                                 \n",
            " batch_normalization_29 (Bat  (None, 7, 7, 128)        512       \n",
            " chNormalization)                                                \n",
            "                                                                 \n",
            " dropout_8 (Dropout)         (None, 7, 7, 128)         0         \n",
            "                                                                 \n",
            " max_pooling2d_27 (MaxPoolin  (None, 4, 4, 128)        0         \n",
            " g2D)                                                            \n",
            "                                                                 \n",
            " conv2d_75 (Conv2D)          (None, 4, 4, 256)         295168    \n",
            "                                                                 \n",
            " conv2d_76 (Conv2D)          (None, 4, 4, 256)         590080    \n",
            "                                                                 \n",
            " conv2d_77 (Conv2D)          (None, 4, 4, 256)         590080    \n",
            "                                                                 \n",
            " batch_normalization_30 (Bat  (None, 4, 4, 256)        1024      \n",
            " chNormalization)                                                \n",
            "                                                                 \n",
            " dropout_9 (Dropout)         (None, 4, 4, 256)         0         \n",
            "                                                                 \n",
            " max_pooling2d_28 (MaxPoolin  (None, 2, 2, 256)        0         \n",
            " g2D)                                                            \n",
            "                                                                 \n",
            " conv2d_78 (Conv2D)          (None, 2, 2, 256)         590080    \n",
            "                                                                 \n",
            " conv2d_79 (Conv2D)          (None, 2, 2, 256)         590080    \n",
            "                                                                 \n",
            " conv2d_80 (Conv2D)          (None, 2, 2, 256)         590080    \n",
            "                                                                 \n",
            " batch_normalization_31 (Bat  (None, 2, 2, 256)        1024      \n",
            " chNormalization)                                                \n",
            "                                                                 \n",
            " dropout_10 (Dropout)        (None, 2, 2, 256)         0         \n",
            "                                                                 \n",
            " max_pooling2d_29 (MaxPoolin  (None, 1, 1, 256)        0         \n",
            " g2D)                                                            \n",
            "                                                                 \n",
            " flatten_6 (Flatten)         (None, 256)               0         \n",
            "                                                                 \n",
            " batch_normalization_32 (Bat  (None, 256)              1024      \n",
            " chNormalization)                                                \n",
            "                                                                 \n",
            " dense_16 (Dense)            (None, 4096)              1052672   \n",
            "                                                                 \n",
            " dense_17 (Dense)            (None, 4096)              16781312  \n",
            "                                                                 \n",
            " dense_18 (Dense)            (None, 62)                254014    \n",
            "                                                                 \n",
            "=================================================================\n",
            "Total params: 21,771,550\n",
            "Trainable params: 21,769,566\n",
            "Non-trainable params: 1,984\n",
            "_________________________________________________________________\n"
          ]
        }
      ],
      "source": [
        "# vgg net 2\n",
        "inputs = Input(shape = (28,28,1))\n",
        "x = Conv2D (filters =32, kernel_size =3, padding ='same', activation='relu')(inputs)\n",
        "x = Conv2D (filters =32, kernel_size =3, padding ='same', activation='relu')(x)\n",
        "x= BatchNormalization()(x)\n",
        "x = MaxPool2D(pool_size =2, strides =2, padding ='same')(x)\n",
        "# 2nd Conv Block\n",
        "x = Conv2D (filters =64, kernel_size =3, padding ='same', activation='relu')(x)\n",
        "x = Conv2D (filters =64, kernel_size =3, padding ='same', activation='relu')(x)\n",
        "x= BatchNormalization()(x)\n",
        "x= Dropout(0.3)(x)\n",
        "x = MaxPool2D(pool_size =2, strides =2, padding ='same')(x)\n",
        "# 3rd Conv block  \n",
        "x = Conv2D (filters =128, kernel_size =3, padding ='same', activation='relu')(x)\n",
        "x = Conv2D (filters =128, kernel_size =3, padding ='same', activation='relu')(x) \n",
        "x = Conv2D (filters =128, kernel_size =3, padding ='same', activation='relu')(x) \n",
        "x= BatchNormalization()(x)\n",
        "x= Dropout(0.3)(x)\n",
        "x = MaxPool2D(pool_size =2, strides =2, padding ='same')(x)\n",
        "# 4th Conv block\n",
        "x = Conv2D (filters =256, kernel_size =3, padding ='same', activation='relu')(x)\n",
        "x = Conv2D (filters =256, kernel_size =3, padding ='same', activation='relu')(x)\n",
        "x = Conv2D (filters =256, kernel_size =3, padding ='same', activation='relu')(x)\n",
        "x= BatchNormalization()(x)\n",
        "x= Dropout(0.3)(x)\n",
        "x = MaxPool2D(pool_size =2, strides =2, padding ='same')(x)\n",
        "# 5th Conv block\n",
        "x = Conv2D (filters =256, kernel_size =3, padding ='same', activation='relu')(x)\n",
        "x = Conv2D (filters =256, kernel_size =3, padding ='same', activation='relu')(x)\n",
        "x = Conv2D (filters =256, kernel_size =3, padding ='same', activation='relu')(x)\n",
        "x= BatchNormalization()(x)\n",
        "x= Dropout(0.3)(x)\n",
        "x = MaxPool2D(pool_size =2, strides =2, padding ='same')(x)\n",
        "# Fully connected layers  \n",
        "x = Flatten()(x)\n",
        "x= BatchNormalization()(x)\n",
        "x = Dense(units = 4096, activation ='relu')(x)\n",
        "x = Dense(units = 4096, activation ='relu')(x)\n",
        "output = Dense(units = 62, activation ='softmax')(x)\n",
        "# creating the model\n",
        "\n",
        "VGG_model_2 = Model (inputs=inputs, outputs =output)\n",
        "VGG_model_2.summary()"
      ]
    },
    {
      "cell_type": "code",
      "execution_count": 33,
      "metadata": {
        "id": "xDg67J_XbH7R",
        "colab": {
          "base_uri": "https://localhost:8080/"
        },
        "outputId": "3dcb8119-9840-45e6-f414-07039c164f76"
      },
      "outputs": [
        {
          "output_type": "stream",
          "name": "stdout",
          "text": [
            "Epoch 1/100\n",
            "1091/1091 [==============================] - 67s 60ms/step - loss: 1.4546 - accuracy: 0.6152 - val_loss: 0.8856 - val_accuracy: 0.7440\n",
            "Epoch 2/100\n",
            "1091/1091 [==============================] - 64s 59ms/step - loss: 0.4860 - accuracy: 0.8329 - val_loss: 0.5768 - val_accuracy: 0.8144\n",
            "Epoch 3/100\n",
            "1091/1091 [==============================] - 64s 59ms/step - loss: 0.4380 - accuracy: 0.8475 - val_loss: 1.0587 - val_accuracy: 0.7073\n",
            "Epoch 4/100\n",
            "1091/1091 [==============================] - 64s 59ms/step - loss: 0.4175 - accuracy: 0.8530 - val_loss: 0.4533 - val_accuracy: 0.8494\n",
            "Epoch 5/100\n",
            "1091/1091 [==============================] - 64s 59ms/step - loss: 0.3978 - accuracy: 0.8587 - val_loss: 0.4461 - val_accuracy: 0.8467\n",
            "Epoch 6/100\n",
            "1091/1091 [==============================] - 64s 59ms/step - loss: 0.3884 - accuracy: 0.8617 - val_loss: 0.3921 - val_accuracy: 0.8602\n",
            "Epoch 7/100\n",
            "1091/1091 [==============================] - 65s 59ms/step - loss: 0.3775 - accuracy: 0.8644 - val_loss: 0.3988 - val_accuracy: 0.8583\n",
            "Epoch 8/100\n",
            "1091/1091 [==============================] - 64s 59ms/step - loss: 0.3694 - accuracy: 0.8667 - val_loss: 0.4007 - val_accuracy: 0.8614\n",
            "Epoch 9/100\n",
            "1091/1091 [==============================] - 64s 59ms/step - loss: 0.3615 - accuracy: 0.8687 - val_loss: 0.4393 - val_accuracy: 0.8600\n",
            "Epoch 10/100\n",
            "1091/1091 [==============================] - 64s 59ms/step - loss: 0.3560 - accuracy: 0.8699 - val_loss: 0.4004 - val_accuracy: 0.8565\n",
            "Epoch 11/100\n",
            "1091/1091 [==============================] - 64s 59ms/step - loss: 0.3501 - accuracy: 0.8723 - val_loss: 0.3837 - val_accuracy: 0.8636\n",
            "Epoch 12/100\n",
            "1091/1091 [==============================] - 64s 59ms/step - loss: 0.3452 - accuracy: 0.8731 - val_loss: 0.3852 - val_accuracy: 0.8612\n",
            "Epoch 13/100\n",
            "1091/1091 [==============================] - 64s 59ms/step - loss: 0.3406 - accuracy: 0.8743 - val_loss: 0.3939 - val_accuracy: 0.8613\n",
            "Epoch 14/100\n",
            "1091/1091 [==============================] - 64s 59ms/step - loss: 0.3361 - accuracy: 0.8759 - val_loss: 0.3810 - val_accuracy: 0.8686\n",
            "Epoch 15/100\n",
            "1091/1091 [==============================] - 64s 59ms/step - loss: 0.3324 - accuracy: 0.8766 - val_loss: 0.3829 - val_accuracy: 0.8645\n",
            "Epoch 16/100\n",
            "1091/1091 [==============================] - 64s 59ms/step - loss: 0.3298 - accuracy: 0.8773 - val_loss: 0.3799 - val_accuracy: 0.8623\n",
            "Epoch 17/100\n",
            "1091/1091 [==============================] - 64s 59ms/step - loss: 0.3252 - accuracy: 0.8788 - val_loss: 0.3830 - val_accuracy: 0.8621\n",
            "Epoch 18/100\n",
            "1091/1091 [==============================] - 64s 59ms/step - loss: 0.3218 - accuracy: 0.8799 - val_loss: 0.3825 - val_accuracy: 0.8696\n",
            "Epoch 19/100\n",
            "1091/1091 [==============================] - 64s 59ms/step - loss: 0.3192 - accuracy: 0.8802 - val_loss: 0.3468 - val_accuracy: 0.8751\n",
            "Epoch 20/100\n",
            "1091/1091 [==============================] - 64s 59ms/step - loss: 0.3172 - accuracy: 0.8807 - val_loss: 0.4256 - val_accuracy: 0.8641\n",
            "Epoch 21/100\n",
            "1091/1091 [==============================] - 64s 59ms/step - loss: 0.3144 - accuracy: 0.8816 - val_loss: 0.3702 - val_accuracy: 0.8694\n",
            "Epoch 22/100\n",
            "1091/1091 [==============================] - 64s 59ms/step - loss: 0.3126 - accuracy: 0.8820 - val_loss: 0.3770 - val_accuracy: 0.8680\n",
            "Epoch 23/100\n",
            "1091/1091 [==============================] - 64s 59ms/step - loss: 0.3095 - accuracy: 0.8827 - val_loss: 1.0595 - val_accuracy: 0.8734\n",
            "Epoch 24/100\n",
            "1091/1091 [==============================] - 64s 59ms/step - loss: 0.3061 - accuracy: 0.8839 - val_loss: 0.4711 - val_accuracy: 0.8650\n",
            "Epoch 25/100\n",
            "1091/1091 [==============================] - 64s 59ms/step - loss: 0.3047 - accuracy: 0.8847 - val_loss: 0.7628 - val_accuracy: 0.8737\n",
            "Epoch 26/100\n",
            "1091/1091 [==============================] - 64s 59ms/step - loss: 0.3021 - accuracy: 0.8855 - val_loss: 0.3669 - val_accuracy: 0.8725\n",
            "Epoch 27/100\n",
            "1091/1091 [==============================] - 66s 60ms/step - loss: 0.3015 - accuracy: 0.8851 - val_loss: 1.2678 - val_accuracy: 0.8705\n",
            "Epoch 28/100\n",
            "1091/1091 [==============================] - 67s 62ms/step - loss: 0.2992 - accuracy: 0.8859 - val_loss: 0.3754 - val_accuracy: 0.8656\n",
            "Epoch 29/100\n",
            "1091/1091 [==============================] - 65s 60ms/step - loss: 0.2973 - accuracy: 0.8865 - val_loss: 0.3855 - val_accuracy: 0.8727\n"
          ]
        },
        {
          "output_type": "execute_result",
          "data": {
            "text/plain": [
              "<keras.callbacks.History at 0x7fa1ff54d950>"
            ]
          },
          "metadata": {},
          "execution_count": 33
        }
      ],
      "source": [
        "VGG_model_2.compile(optimizer=tf.keras.optimizers.Adam(learning_rate = 0.005), loss=keras.losses.categorical_crossentropy, metrics=['accuracy'])\n",
        "\n",
        "early_stopping_cb = keras.callbacks.EarlyStopping(patience=10, restore_best_weights=True)\n",
        "# model_checkpoint_cb = keras.callbacks.ModelCheckpoint(\"my_new_emnist_model.h5\", save_best_only=True)\n",
        "VGG_model_2.fit(X_train, y_train, batch_size = 512, epochs=100, validation_data=(X_val, y_val), callbacks=[early_stopping_cb])"
      ]
    },
    {
      "cell_type": "code",
      "source": [
        "VGG_model_2.evaluate(X_test/255., y_test)\n",
        "VGG_model_2.save(\"submit_VGG_2.h5\", save_format=\"h5\")"
      ],
      "metadata": {
        "colab": {
          "base_uri": "https://localhost:8080/"
        },
        "id": "D0IebVLMXamx",
        "outputId": "35d36257-db04-4fcf-f381-2558e4bd3118"
      },
      "execution_count": 34,
      "outputs": [
        {
          "output_type": "stream",
          "name": "stdout",
          "text": [
            "3636/3636 [==============================] - 21s 6ms/step - loss: 0.3463 - accuracy: 0.8759\n"
          ]
        }
      ]
    },
    {
      "cell_type": "markdown",
      "source": [
        "VGG 3"
      ],
      "metadata": {
        "id": "EaTb8cBBNnjB"
      }
    },
    {
      "cell_type": "code",
      "execution_count": 37,
      "metadata": {
        "id": "1s_NEciBbH7S",
        "colab": {
          "base_uri": "https://localhost:8080/"
        },
        "outputId": "a3eabad7-e5dd-45c4-b471-a21c27622013"
      },
      "outputs": [
        {
          "output_type": "stream",
          "name": "stdout",
          "text": [
            "Model: \"model_7\"\n",
            "_________________________________________________________________\n",
            " Layer (type)                Output Shape              Param #   \n",
            "=================================================================\n",
            " input_8 (InputLayer)        [(None, 28, 28, 1)]       0         \n",
            "                                                                 \n",
            " conv2d_94 (Conv2D)          (None, 28, 28, 32)        320       \n",
            "                                                                 \n",
            " conv2d_95 (Conv2D)          (None, 28, 28, 32)        9248      \n",
            "                                                                 \n",
            " batch_normalization_39 (Bat  (None, 28, 28, 32)       128       \n",
            " chNormalization)                                                \n",
            "                                                                 \n",
            " max_pooling2d_35 (MaxPoolin  (None, 14, 14, 32)       0         \n",
            " g2D)                                                            \n",
            "                                                                 \n",
            " conv2d_96 (Conv2D)          (None, 14, 14, 64)        18496     \n",
            "                                                                 \n",
            " conv2d_97 (Conv2D)          (None, 14, 14, 64)        36928     \n",
            "                                                                 \n",
            " batch_normalization_40 (Bat  (None, 14, 14, 64)       256       \n",
            " chNormalization)                                                \n",
            "                                                                 \n",
            " max_pooling2d_36 (MaxPoolin  (None, 7, 7, 64)         0         \n",
            " g2D)                                                            \n",
            "                                                                 \n",
            " conv2d_98 (Conv2D)          (None, 7, 7, 128)         73856     \n",
            "                                                                 \n",
            " conv2d_99 (Conv2D)          (None, 7, 7, 128)         147584    \n",
            "                                                                 \n",
            " conv2d_100 (Conv2D)         (None, 7, 7, 128)         147584    \n",
            "                                                                 \n",
            " batch_normalization_41 (Bat  (None, 7, 7, 128)        512       \n",
            " chNormalization)                                                \n",
            "                                                                 \n",
            " max_pooling2d_37 (MaxPoolin  (None, 4, 4, 128)        0         \n",
            " g2D)                                                            \n",
            "                                                                 \n",
            " conv2d_101 (Conv2D)         (None, 4, 4, 256)         295168    \n",
            "                                                                 \n",
            " conv2d_102 (Conv2D)         (None, 4, 4, 256)         590080    \n",
            "                                                                 \n",
            " conv2d_103 (Conv2D)         (None, 4, 4, 256)         590080    \n",
            "                                                                 \n",
            " batch_normalization_42 (Bat  (None, 4, 4, 256)        1024      \n",
            " chNormalization)                                                \n",
            "                                                                 \n",
            " max_pooling2d_38 (MaxPoolin  (None, 2, 2, 256)        0         \n",
            " g2D)                                                            \n",
            "                                                                 \n",
            " conv2d_104 (Conv2D)         (None, 2, 2, 256)         590080    \n",
            "                                                                 \n",
            " conv2d_105 (Conv2D)         (None, 2, 2, 256)         590080    \n",
            "                                                                 \n",
            " conv2d_106 (Conv2D)         (None, 2, 2, 256)         590080    \n",
            "                                                                 \n",
            " batch_normalization_43 (Bat  (None, 2, 2, 256)        1024      \n",
            " chNormalization)                                                \n",
            "                                                                 \n",
            " dropout_12 (Dropout)        (None, 2, 2, 256)         0         \n",
            "                                                                 \n",
            " max_pooling2d_39 (MaxPoolin  (None, 1, 1, 256)        0         \n",
            " g2D)                                                            \n",
            "                                                                 \n",
            " flatten_8 (Flatten)         (None, 256)               0         \n",
            "                                                                 \n",
            " batch_normalization_44 (Bat  (None, 256)              1024      \n",
            " chNormalization)                                                \n",
            "                                                                 \n",
            " dense_22 (Dense)            (None, 4096)              1052672   \n",
            "                                                                 \n",
            " dense_23 (Dense)            (None, 4096)              16781312  \n",
            "                                                                 \n",
            " dense_24 (Dense)            (None, 62)                254014    \n",
            "                                                                 \n",
            "=================================================================\n",
            "Total params: 21,771,550\n",
            "Trainable params: 21,769,566\n",
            "Non-trainable params: 1,984\n",
            "_________________________________________________________________\n"
          ]
        }
      ],
      "source": [
        "# vgg net3\n",
        "inputs = Input(shape = (28,28,1))\n",
        "x = Conv2D (filters =32, kernel_size =3, padding ='same', activation='relu')(inputs)\n",
        "x = Conv2D (filters =32, kernel_size =3, padding ='same', activation='relu')(x)\n",
        "x= BatchNormalization()(x)\n",
        "x = MaxPool2D(pool_size =2, strides =2, padding ='same')(x)\n",
        "# 2nd Conv Block\n",
        "x = Conv2D (filters =64, kernel_size =3, padding ='same', activation='relu')(x)\n",
        "x = Conv2D (filters =64, kernel_size =3, padding ='same', activation='relu')(x)\n",
        "x= BatchNormalization()(x)\n",
        "x = MaxPool2D(pool_size =2, strides =2, padding ='same')(x)\n",
        "# 3rd Conv block  \n",
        "x = Conv2D (filters =128, kernel_size =3, padding ='same', activation='relu')(x)\n",
        "x = Conv2D (filters =128, kernel_size =3, padding ='same', activation='relu')(x) \n",
        "x = Conv2D (filters =128, kernel_size =3, padding ='same', activation='relu')(x) \n",
        "x= BatchNormalization()(x)\n",
        "x = MaxPool2D(pool_size =2, strides =2, padding ='same')(x)\n",
        "# 4th Conv block\n",
        "x = Conv2D (filters =256, kernel_size =3, padding ='same', activation='relu')(x)\n",
        "x = Conv2D (filters =256, kernel_size =3, padding ='same', activation='relu')(x)\n",
        "x = Conv2D (filters =256, kernel_size =3, padding ='same', activation='relu')(x)\n",
        "x= BatchNormalization()(x)\n",
        "x = MaxPool2D(pool_size =2, strides =2, padding ='same')(x)\n",
        "# 5th Conv block\n",
        "x = Conv2D (filters =256, kernel_size =3, padding ='same', activation='relu')(x)\n",
        "x = Conv2D (filters =256, kernel_size =3, padding ='same', activation='relu')(x)\n",
        "x = Conv2D (filters =256, kernel_size =3, padding ='same', activation='relu')(x)\n",
        "x= BatchNormalization()(x)\n",
        "x= Dropout(0.3)(x)\n",
        "x = MaxPool2D(pool_size =2, strides =2, padding ='same')(x)\n",
        "# Fully connected layers  \n",
        "x = Flatten()(x)\n",
        "x= BatchNormalization()(x)\n",
        "x = Dense(units = 4096, activation ='relu')(x)\n",
        "x = Dense(units = 4096, activation ='relu')(x)\n",
        "output = Dense(units = 62, activation ='softmax')(x)\n",
        "# creating the model\n",
        "\n",
        "VGG_model_3 = Model (inputs=inputs, outputs =output)\n",
        "VGG_model_3.summary()"
      ]
    },
    {
      "cell_type": "code",
      "execution_count": 38,
      "metadata": {
        "id": "E30zr1QsbH7S",
        "colab": {
          "base_uri": "https://localhost:8080/"
        },
        "outputId": "bf43635b-4b6f-471f-e62d-78e2f4432d9e"
      },
      "outputs": [
        {
          "output_type": "stream",
          "name": "stdout",
          "text": [
            "Epoch 1/20\n",
            "1091/1091 [==============================] - 66s 58ms/step - loss: 2.1634 - accuracy: 0.5414 - val_loss: 1.0383 - val_accuracy: 0.6780\n",
            "Epoch 2/20\n",
            "1091/1091 [==============================] - 62s 57ms/step - loss: 0.5930 - accuracy: 0.8037 - val_loss: 4.9309 - val_accuracy: 0.7093\n",
            "Epoch 3/20\n",
            "1091/1091 [==============================] - 63s 57ms/step - loss: 0.4802 - accuracy: 0.8350 - val_loss: 0.5805 - val_accuracy: 0.8080\n",
            "Epoch 4/20\n",
            "1091/1091 [==============================] - 62s 57ms/step - loss: 0.4833 - accuracy: 0.8355 - val_loss: 0.5081 - val_accuracy: 0.8210\n",
            "Epoch 5/20\n",
            "1091/1091 [==============================] - 62s 57ms/step - loss: 0.4254 - accuracy: 0.8514 - val_loss: 0.4681 - val_accuracy: 0.8416\n",
            "Epoch 6/20\n",
            "1091/1091 [==============================] - 62s 57ms/step - loss: 0.4091 - accuracy: 0.8561 - val_loss: 0.4487 - val_accuracy: 0.8446\n",
            "Epoch 7/20\n",
            "1091/1091 [==============================] - 62s 57ms/step - loss: 0.3994 - accuracy: 0.8588 - val_loss: 0.4118 - val_accuracy: 0.8582\n",
            "Epoch 8/20\n",
            "1091/1091 [==============================] - 62s 57ms/step - loss: 0.3897 - accuracy: 0.8611 - val_loss: 0.4191 - val_accuracy: 0.8564\n",
            "Epoch 9/20\n",
            "1091/1091 [==============================] - 62s 57ms/step - loss: 0.3796 - accuracy: 0.8643 - val_loss: 0.4232 - val_accuracy: 0.8513\n",
            "Epoch 10/20\n",
            "1091/1091 [==============================] - 62s 57ms/step - loss: 0.3760 - accuracy: 0.8653 - val_loss: 0.3975 - val_accuracy: 0.8595\n",
            "Epoch 11/20\n",
            "1091/1091 [==============================] - 62s 57ms/step - loss: 0.3670 - accuracy: 0.8678 - val_loss: 0.4709 - val_accuracy: 0.8537\n",
            "Epoch 12/20\n",
            "1091/1091 [==============================] - 62s 57ms/step - loss: 0.3620 - accuracy: 0.8691 - val_loss: 0.5213 - val_accuracy: 0.8602\n",
            "Epoch 13/20\n",
            "1091/1091 [==============================] - 62s 57ms/step - loss: 0.3553 - accuracy: 0.8708 - val_loss: 0.3893 - val_accuracy: 0.8630\n",
            "Epoch 14/20\n",
            "1091/1091 [==============================] - 62s 57ms/step - loss: 0.3500 - accuracy: 0.8726 - val_loss: 0.3917 - val_accuracy: 0.8668\n",
            "Epoch 15/20\n",
            "1091/1091 [==============================] - 62s 57ms/step - loss: 0.3435 - accuracy: 0.8747 - val_loss: 0.5261 - val_accuracy: 0.8509\n",
            "Epoch 16/20\n",
            "1091/1091 [==============================] - 62s 57ms/step - loss: 0.3396 - accuracy: 0.8755 - val_loss: 1.1762 - val_accuracy: 0.8668\n",
            "Epoch 17/20\n",
            "1091/1091 [==============================] - 62s 57ms/step - loss: 0.3348 - accuracy: 0.8771 - val_loss: 0.5818 - val_accuracy: 0.8679\n",
            "Epoch 18/20\n",
            "1091/1091 [==============================] - 62s 57ms/step - loss: 0.3306 - accuracy: 0.8779 - val_loss: 0.4110 - val_accuracy: 0.8681\n"
          ]
        },
        {
          "output_type": "execute_result",
          "data": {
            "text/plain": [
              "<keras.callbacks.History at 0x7fa216232490>"
            ]
          },
          "metadata": {},
          "execution_count": 38
        }
      ],
      "source": [
        "VGG_model_3.compile(optimizer=tf.keras.optimizers.Adam(learning_rate = 0.01), loss=keras.losses.categorical_crossentropy, metrics=['accuracy'])\n",
        "\n",
        "early_stopping_cb = keras.callbacks.EarlyStopping(patience=5, restore_best_weights=True)\n",
        "# model_checkpoint_cb = keras.callbacks.ModelCheckpoint(\"my_new_emnist_model.h5\", save_best_only=True)\n",
        "  \n",
        "VGG_model_3.fit(X_train, y_train, batch_size = 512, epochs=20, validation_data=(X_val, y_val), callbacks=[early_stopping_cb])"
      ]
    },
    {
      "cell_type": "code",
      "source": [
        "VGG_model_3.evaluate(X_test/255., y_test)\n",
        "VGG_model_3.save(\"submit_VGG_3.h5\", save_format=\"h5\")"
      ],
      "metadata": {
        "colab": {
          "base_uri": "https://localhost:8080/"
        },
        "id": "yCoLOpNhXjVO",
        "outputId": "da83ebea-5a4d-4c45-8adc-8262891190b9"
      },
      "execution_count": 39,
      "outputs": [
        {
          "output_type": "stream",
          "name": "stdout",
          "text": [
            "3636/3636 [==============================] - 20s 6ms/step - loss: 0.3903 - accuracy: 0.8627\n"
          ]
        }
      ]
    },
    {
      "cell_type": "markdown",
      "source": [
        "VGG 4"
      ],
      "metadata": {
        "id": "Aqr4uQXJNsOX"
      }
    },
    {
      "cell_type": "code",
      "execution_count": 40,
      "metadata": {
        "id": "1nsrYs68bH7S",
        "colab": {
          "base_uri": "https://localhost:8080/"
        },
        "outputId": "f589f7ec-c86d-46e1-fed2-22ac7463b7cb"
      },
      "outputs": [
        {
          "output_type": "stream",
          "name": "stdout",
          "text": [
            "Model: \"model_8\"\n",
            "_________________________________________________________________\n",
            " Layer (type)                Output Shape              Param #   \n",
            "=================================================================\n",
            " input_9 (InputLayer)        [(None, 28, 28, 1)]       0         \n",
            "                                                                 \n",
            " conv2d_107 (Conv2D)         (None, 28, 28, 32)        320       \n",
            "                                                                 \n",
            " conv2d_108 (Conv2D)         (None, 28, 28, 32)        9248      \n",
            "                                                                 \n",
            " max_pooling2d_40 (MaxPoolin  (None, 14, 14, 32)       0         \n",
            " g2D)                                                            \n",
            "                                                                 \n",
            " conv2d_109 (Conv2D)         (None, 14, 14, 64)        18496     \n",
            "                                                                 \n",
            " conv2d_110 (Conv2D)         (None, 14, 14, 64)        36928     \n",
            "                                                                 \n",
            " max_pooling2d_41 (MaxPoolin  (None, 7, 7, 64)         0         \n",
            " g2D)                                                            \n",
            "                                                                 \n",
            " conv2d_111 (Conv2D)         (None, 7, 7, 128)         73856     \n",
            "                                                                 \n",
            " conv2d_112 (Conv2D)         (None, 7, 7, 128)         147584    \n",
            "                                                                 \n",
            " conv2d_113 (Conv2D)         (None, 7, 7, 128)         147584    \n",
            "                                                                 \n",
            " max_pooling2d_42 (MaxPoolin  (None, 4, 4, 128)        0         \n",
            " g2D)                                                            \n",
            "                                                                 \n",
            " conv2d_114 (Conv2D)         (None, 4, 4, 256)         295168    \n",
            "                                                                 \n",
            " conv2d_115 (Conv2D)         (None, 4, 4, 256)         590080    \n",
            "                                                                 \n",
            " conv2d_116 (Conv2D)         (None, 4, 4, 256)         590080    \n",
            "                                                                 \n",
            " max_pooling2d_43 (MaxPoolin  (None, 2, 2, 256)        0         \n",
            " g2D)                                                            \n",
            "                                                                 \n",
            " conv2d_117 (Conv2D)         (None, 2, 2, 256)         590080    \n",
            "                                                                 \n",
            " conv2d_118 (Conv2D)         (None, 2, 2, 256)         590080    \n",
            "                                                                 \n",
            " conv2d_119 (Conv2D)         (None, 2, 2, 256)         590080    \n",
            "                                                                 \n",
            " max_pooling2d_44 (MaxPoolin  (None, 1, 1, 256)        0         \n",
            " g2D)                                                            \n",
            "                                                                 \n",
            " flatten_9 (Flatten)         (None, 256)               0         \n",
            "                                                                 \n",
            " batch_normalization_45 (Bat  (None, 256)              1024      \n",
            " chNormalization)                                                \n",
            "                                                                 \n",
            " dense_25 (Dense)            (None, 4096)              1052672   \n",
            "                                                                 \n",
            " batch_normalization_46 (Bat  (None, 4096)             16384     \n",
            " chNormalization)                                                \n",
            "                                                                 \n",
            " dense_26 (Dense)            (None, 4096)              16781312  \n",
            "                                                                 \n",
            " batch_normalization_47 (Bat  (None, 4096)             16384     \n",
            " chNormalization)                                                \n",
            "                                                                 \n",
            " dense_27 (Dense)            (None, 62)                254014    \n",
            "                                                                 \n",
            "=================================================================\n",
            "Total params: 21,801,374\n",
            "Trainable params: 21,784,478\n",
            "Non-trainable params: 16,896\n",
            "_________________________________________________________________\n"
          ]
        }
      ],
      "source": [
        "## vgg net4\n",
        "inputs = Input(shape = (28,28,1))\n",
        "x = Conv2D (filters =32, kernel_size =3, padding ='same', activation='relu')(inputs)\n",
        "x = Conv2D (filters =32, kernel_size =3, padding ='same', activation='relu')(x)\n",
        "x = MaxPool2D(pool_size =2, strides =2, padding ='same')(x)\n",
        "# 2nd Conv Block\n",
        "x = Conv2D (filters =64, kernel_size =3, padding ='same', activation='relu')(x)\n",
        "x = Conv2D (filters =64, kernel_size =3, padding ='same', activation='relu')(x)\n",
        "x = MaxPool2D(pool_size =2, strides =2, padding ='same')(x)\n",
        "# 3rd Conv block  \n",
        "x = Conv2D (filters =128, kernel_size =3, padding ='same', activation='relu')(x)\n",
        "x = Conv2D (filters =128, kernel_size =3, padding ='same', activation='relu')(x) \n",
        "x = Conv2D (filters =128, kernel_size =3, padding ='same', activation='relu')(x) \n",
        "x = MaxPool2D(pool_size =2, strides =2, padding ='same')(x)\n",
        "# 4th Conv block\n",
        "x = Conv2D (filters =256, kernel_size =3, padding ='same', activation='relu')(x)\n",
        "x = Conv2D (filters =256, kernel_size =3, padding ='same', activation='relu')(x)\n",
        "x = Conv2D (filters =256, kernel_size =3, padding ='same', activation='relu')(x)\n",
        "x = MaxPool2D(pool_size =2, strides =2, padding ='same')(x)\n",
        "# 5th Conv block\n",
        "x = Conv2D (filters =256, kernel_size =3, padding ='same', activation='relu')(x)\n",
        "x = Conv2D (filters =256, kernel_size =3, padding ='same', activation='relu')(x)\n",
        "x = Conv2D (filters =256, kernel_size =3, padding ='same', activation='relu')(x)\n",
        "x = MaxPool2D(pool_size =2, strides =2, padding ='same')(x)\n",
        "# Fully connected layers  \n",
        "x = Flatten()(x)\n",
        "x = BatchNormalization()(x)\n",
        "x = Dense(units = 4096, activation ='relu')(x)\n",
        "x = BatchNormalization()(x)\n",
        "x = Dense(units = 4096, activation ='relu')(x)\n",
        "x = BatchNormalization()(x)\n",
        "output = Dense(units = 62, activation ='softmax')(x)\n",
        "# creating the model\n",
        "\n",
        "VGG_model_4 = Model (inputs=inputs, outputs =output)\n",
        "VGG_model_4.summary()"
      ]
    },
    {
      "cell_type": "code",
      "execution_count": 41,
      "metadata": {
        "id": "EuCTQNsfbH7S",
        "colab": {
          "base_uri": "https://localhost:8080/"
        },
        "outputId": "b1cb27ed-761d-470d-faee-f9a244f07101"
      },
      "outputs": [
        {
          "output_type": "stream",
          "name": "stdout",
          "text": [
            "Epoch 1/20\n",
            "1091/1091 [==============================] - 65s 58ms/step - loss: 1.5075 - accuracy: 0.6348 - val_loss: 0.8307 - val_accuracy: 0.7226\n",
            "Epoch 2/20\n",
            "1091/1091 [==============================] - 62s 56ms/step - loss: 0.6304 - accuracy: 0.7990 - val_loss: 1.0865 - val_accuracy: 0.6127\n",
            "Epoch 3/20\n",
            "1091/1091 [==============================] - 62s 57ms/step - loss: 0.5218 - accuracy: 0.8263 - val_loss: 0.7969 - val_accuracy: 0.7412\n",
            "Epoch 4/20\n",
            "1091/1091 [==============================] - 62s 56ms/step - loss: 0.4922 - accuracy: 0.8374 - val_loss: 0.5843 - val_accuracy: 0.8008\n",
            "Epoch 5/20\n",
            "1091/1091 [==============================] - 62s 57ms/step - loss: 0.4560 - accuracy: 0.8457 - val_loss: 0.4853 - val_accuracy: 0.8290\n",
            "Epoch 6/20\n",
            "1091/1091 [==============================] - 62s 57ms/step - loss: 0.4367 - accuracy: 0.8505 - val_loss: 0.4892 - val_accuracy: 0.8283\n",
            "Epoch 7/20\n",
            "1091/1091 [==============================] - 62s 56ms/step - loss: 0.4192 - accuracy: 0.8549 - val_loss: 0.6481 - val_accuracy: 0.7913\n",
            "Epoch 8/20\n",
            "1091/1091 [==============================] - 62s 56ms/step - loss: 0.4062 - accuracy: 0.8582 - val_loss: 0.7499 - val_accuracy: 0.8512\n",
            "Epoch 9/20\n",
            "1091/1091 [==============================] - 62s 57ms/step - loss: 0.3824 - accuracy: 0.8627 - val_loss: 0.9503 - val_accuracy: 0.8434\n",
            "Epoch 10/20\n",
            "1091/1091 [==============================] - 62s 57ms/step - loss: 0.3732 - accuracy: 0.8655 - val_loss: 0.5597 - val_accuracy: 0.8561\n"
          ]
        },
        {
          "output_type": "execute_result",
          "data": {
            "text/plain": [
              "<keras.callbacks.History at 0x7fa1feb4e9d0>"
            ]
          },
          "metadata": {},
          "execution_count": 41
        }
      ],
      "source": [
        "VGG_model_4.compile(optimizer=tf.keras.optimizers.Adam(learning_rate = 0.005), loss=keras.losses.categorical_crossentropy, metrics=['accuracy'])\n",
        "\n",
        "early_stopping_cb = keras.callbacks.EarlyStopping(patience=5, restore_best_weights=True)\n",
        "# model_checkpoint_cb = keras.callbacks.ModelCheckpoint(\"my_new_model.h5\", save_best_only=True)\n",
        "  \n",
        "VGG_model_4.fit(X_train, y_train, batch_size = 512, epochs=20, validation_data=(X_val, y_val), callbacks=[early_stopping_cb])"
      ]
    },
    {
      "cell_type": "code",
      "source": [
        "VGG_model_4.evaluate(X_test/255., y_test)\n",
        "VGG_model_4.save(\"submit_VGG_4.h5\", save_format=\"h5\")"
      ],
      "metadata": {
        "colab": {
          "base_uri": "https://localhost:8080/"
        },
        "id": "vQxbKgltXwrY",
        "outputId": "685e7f23-7c00-4a7f-a24c-070d3cf26280"
      },
      "execution_count": 42,
      "outputs": [
        {
          "output_type": "stream",
          "name": "stdout",
          "text": [
            "3636/3636 [==============================] - 21s 6ms/step - loss: 0.4809 - accuracy: 0.8302\n"
          ]
        }
      ]
    },
    {
      "cell_type": "markdown",
      "metadata": {
        "id": "F8GHRxaebH7W"
      },
      "source": [
        "4 - D.  Efficient net - pre-trained"
      ]
    },
    {
      "cell_type": "code",
      "execution_count": 94,
      "metadata": {
        "id": "t9B_09njbH7W",
        "colab": {
          "base_uri": "https://localhost:8080/"
        },
        "outputId": "2db76c9c-234e-4630-e724-51a732b54a4b"
      },
      "outputs": [
        {
          "output_type": "stream",
          "name": "stdout",
          "text": [
            "Downloading data from https://storage.googleapis.com/keras-applications/efficientnetb0_notop.h5\n",
            "16711680/16705208 [==============================] - 0s 0us/step\n",
            "16719872/16705208 [==============================] - 0s 0us/step\n",
            "Model: \"efficientnetb0\"\n",
            "__________________________________________________________________________________________________\n",
            " Layer (type)                   Output Shape         Param #     Connected to                     \n",
            "==================================================================================================\n",
            " input_6 (InputLayer)           [(None, 224, 224, 3  0           []                               \n",
            "                                )]                                                                \n",
            "                                                                                                  \n",
            " rescaling (Rescaling)          (None, 224, 224, 3)  0           ['input_6[0][0]']                \n",
            "                                                                                                  \n",
            " normalization (Normalization)  (None, 224, 224, 3)  7           ['rescaling[0][0]']              \n",
            "                                                                                                  \n",
            " stem_conv_pad (ZeroPadding2D)  (None, 225, 225, 3)  0           ['normalization[0][0]']          \n",
            "                                                                                                  \n",
            " stem_conv (Conv2D)             (None, 112, 112, 32  864         ['stem_conv_pad[0][0]']          \n",
            "                                )                                                                 \n",
            "                                                                                                  \n",
            " stem_bn (BatchNormalization)   (None, 112, 112, 32  128         ['stem_conv[0][0]']              \n",
            "                                )                                                                 \n",
            "                                                                                                  \n",
            " stem_activation (Activation)   (None, 112, 112, 32  0           ['stem_bn[0][0]']                \n",
            "                                )                                                                 \n",
            "                                                                                                  \n",
            " block1a_dwconv (DepthwiseConv2  (None, 112, 112, 32  288        ['stem_activation[0][0]']        \n",
            " D)                             )                                                                 \n",
            "                                                                                                  \n",
            " block1a_bn (BatchNormalization  (None, 112, 112, 32  128        ['block1a_dwconv[0][0]']         \n",
            " )                              )                                                                 \n",
            "                                                                                                  \n",
            " block1a_activation (Activation  (None, 112, 112, 32  0          ['block1a_bn[0][0]']             \n",
            " )                              )                                                                 \n",
            "                                                                                                  \n",
            " block1a_se_squeeze (GlobalAver  (None, 32)          0           ['block1a_activation[0][0]']     \n",
            " agePooling2D)                                                                                    \n",
            "                                                                                                  \n",
            " block1a_se_reshape (Reshape)   (None, 1, 1, 32)     0           ['block1a_se_squeeze[0][0]']     \n",
            "                                                                                                  \n",
            " block1a_se_reduce (Conv2D)     (None, 1, 1, 8)      264         ['block1a_se_reshape[0][0]']     \n",
            "                                                                                                  \n",
            " block1a_se_expand (Conv2D)     (None, 1, 1, 32)     288         ['block1a_se_reduce[0][0]']      \n",
            "                                                                                                  \n",
            " block1a_se_excite (Multiply)   (None, 112, 112, 32  0           ['block1a_activation[0][0]',     \n",
            "                                )                                 'block1a_se_expand[0][0]']      \n",
            "                                                                                                  \n",
            " block1a_project_conv (Conv2D)  (None, 112, 112, 16  512         ['block1a_se_excite[0][0]']      \n",
            "                                )                                                                 \n",
            "                                                                                                  \n",
            " block1a_project_bn (BatchNorma  (None, 112, 112, 16  64         ['block1a_project_conv[0][0]']   \n",
            " lization)                      )                                                                 \n",
            "                                                                                                  \n",
            " block2a_expand_conv (Conv2D)   (None, 112, 112, 96  1536        ['block1a_project_bn[0][0]']     \n",
            "                                )                                                                 \n",
            "                                                                                                  \n",
            " block2a_expand_bn (BatchNormal  (None, 112, 112, 96  384        ['block2a_expand_conv[0][0]']    \n",
            " ization)                       )                                                                 \n",
            "                                                                                                  \n",
            " block2a_expand_activation (Act  (None, 112, 112, 96  0          ['block2a_expand_bn[0][0]']      \n",
            " ivation)                       )                                                                 \n",
            "                                                                                                  \n",
            " block2a_dwconv_pad (ZeroPaddin  (None, 113, 113, 96  0          ['block2a_expand_activation[0][0]\n",
            " g2D)                           )                                ']                               \n",
            "                                                                                                  \n",
            " block2a_dwconv (DepthwiseConv2  (None, 56, 56, 96)  864         ['block2a_dwconv_pad[0][0]']     \n",
            " D)                                                                                               \n",
            "                                                                                                  \n",
            " block2a_bn (BatchNormalization  (None, 56, 56, 96)  384         ['block2a_dwconv[0][0]']         \n",
            " )                                                                                                \n",
            "                                                                                                  \n",
            " block2a_activation (Activation  (None, 56, 56, 96)  0           ['block2a_bn[0][0]']             \n",
            " )                                                                                                \n",
            "                                                                                                  \n",
            " block2a_se_squeeze (GlobalAver  (None, 96)          0           ['block2a_activation[0][0]']     \n",
            " agePooling2D)                                                                                    \n",
            "                                                                                                  \n",
            " block2a_se_reshape (Reshape)   (None, 1, 1, 96)     0           ['block2a_se_squeeze[0][0]']     \n",
            "                                                                                                  \n",
            " block2a_se_reduce (Conv2D)     (None, 1, 1, 4)      388         ['block2a_se_reshape[0][0]']     \n",
            "                                                                                                  \n",
            " block2a_se_expand (Conv2D)     (None, 1, 1, 96)     480         ['block2a_se_reduce[0][0]']      \n",
            "                                                                                                  \n",
            " block2a_se_excite (Multiply)   (None, 56, 56, 96)   0           ['block2a_activation[0][0]',     \n",
            "                                                                  'block2a_se_expand[0][0]']      \n",
            "                                                                                                  \n",
            " block2a_project_conv (Conv2D)  (None, 56, 56, 24)   2304        ['block2a_se_excite[0][0]']      \n",
            "                                                                                                  \n",
            " block2a_project_bn (BatchNorma  (None, 56, 56, 24)  96          ['block2a_project_conv[0][0]']   \n",
            " lization)                                                                                        \n",
            "                                                                                                  \n",
            " block2b_expand_conv (Conv2D)   (None, 56, 56, 144)  3456        ['block2a_project_bn[0][0]']     \n",
            "                                                                                                  \n",
            " block2b_expand_bn (BatchNormal  (None, 56, 56, 144)  576        ['block2b_expand_conv[0][0]']    \n",
            " ization)                                                                                         \n",
            "                                                                                                  \n",
            " block2b_expand_activation (Act  (None, 56, 56, 144)  0          ['block2b_expand_bn[0][0]']      \n",
            " ivation)                                                                                         \n",
            "                                                                                                  \n",
            " block2b_dwconv (DepthwiseConv2  (None, 56, 56, 144)  1296       ['block2b_expand_activation[0][0]\n",
            " D)                                                              ']                               \n",
            "                                                                                                  \n",
            " block2b_bn (BatchNormalization  (None, 56, 56, 144)  576        ['block2b_dwconv[0][0]']         \n",
            " )                                                                                                \n",
            "                                                                                                  \n",
            " block2b_activation (Activation  (None, 56, 56, 144)  0          ['block2b_bn[0][0]']             \n",
            " )                                                                                                \n",
            "                                                                                                  \n",
            " block2b_se_squeeze (GlobalAver  (None, 144)         0           ['block2b_activation[0][0]']     \n",
            " agePooling2D)                                                                                    \n",
            "                                                                                                  \n",
            " block2b_se_reshape (Reshape)   (None, 1, 1, 144)    0           ['block2b_se_squeeze[0][0]']     \n",
            "                                                                                                  \n",
            " block2b_se_reduce (Conv2D)     (None, 1, 1, 6)      870         ['block2b_se_reshape[0][0]']     \n",
            "                                                                                                  \n",
            " block2b_se_expand (Conv2D)     (None, 1, 1, 144)    1008        ['block2b_se_reduce[0][0]']      \n",
            "                                                                                                  \n",
            " block2b_se_excite (Multiply)   (None, 56, 56, 144)  0           ['block2b_activation[0][0]',     \n",
            "                                                                  'block2b_se_expand[0][0]']      \n",
            "                                                                                                  \n",
            " block2b_project_conv (Conv2D)  (None, 56, 56, 24)   3456        ['block2b_se_excite[0][0]']      \n",
            "                                                                                                  \n",
            " block2b_project_bn (BatchNorma  (None, 56, 56, 24)  96          ['block2b_project_conv[0][0]']   \n",
            " lization)                                                                                        \n",
            "                                                                                                  \n",
            " block2b_drop (Dropout)         (None, 56, 56, 24)   0           ['block2b_project_bn[0][0]']     \n",
            "                                                                                                  \n",
            " block2b_add (Add)              (None, 56, 56, 24)   0           ['block2b_drop[0][0]',           \n",
            "                                                                  'block2a_project_bn[0][0]']     \n",
            "                                                                                                  \n",
            " block3a_expand_conv (Conv2D)   (None, 56, 56, 144)  3456        ['block2b_add[0][0]']            \n",
            "                                                                                                  \n",
            " block3a_expand_bn (BatchNormal  (None, 56, 56, 144)  576        ['block3a_expand_conv[0][0]']    \n",
            " ization)                                                                                         \n",
            "                                                                                                  \n",
            " block3a_expand_activation (Act  (None, 56, 56, 144)  0          ['block3a_expand_bn[0][0]']      \n",
            " ivation)                                                                                         \n",
            "                                                                                                  \n",
            " block3a_dwconv_pad (ZeroPaddin  (None, 59, 59, 144)  0          ['block3a_expand_activation[0][0]\n",
            " g2D)                                                            ']                               \n",
            "                                                                                                  \n",
            " block3a_dwconv (DepthwiseConv2  (None, 28, 28, 144)  3600       ['block3a_dwconv_pad[0][0]']     \n",
            " D)                                                                                               \n",
            "                                                                                                  \n",
            " block3a_bn (BatchNormalization  (None, 28, 28, 144)  576        ['block3a_dwconv[0][0]']         \n",
            " )                                                                                                \n",
            "                                                                                                  \n",
            " block3a_activation (Activation  (None, 28, 28, 144)  0          ['block3a_bn[0][0]']             \n",
            " )                                                                                                \n",
            "                                                                                                  \n",
            " block3a_se_squeeze (GlobalAver  (None, 144)         0           ['block3a_activation[0][0]']     \n",
            " agePooling2D)                                                                                    \n",
            "                                                                                                  \n",
            " block3a_se_reshape (Reshape)   (None, 1, 1, 144)    0           ['block3a_se_squeeze[0][0]']     \n",
            "                                                                                                  \n",
            " block3a_se_reduce (Conv2D)     (None, 1, 1, 6)      870         ['block3a_se_reshape[0][0]']     \n",
            "                                                                                                  \n",
            " block3a_se_expand (Conv2D)     (None, 1, 1, 144)    1008        ['block3a_se_reduce[0][0]']      \n",
            "                                                                                                  \n",
            " block3a_se_excite (Multiply)   (None, 28, 28, 144)  0           ['block3a_activation[0][0]',     \n",
            "                                                                  'block3a_se_expand[0][0]']      \n",
            "                                                                                                  \n",
            " block3a_project_conv (Conv2D)  (None, 28, 28, 40)   5760        ['block3a_se_excite[0][0]']      \n",
            "                                                                                                  \n",
            " block3a_project_bn (BatchNorma  (None, 28, 28, 40)  160         ['block3a_project_conv[0][0]']   \n",
            " lization)                                                                                        \n",
            "                                                                                                  \n",
            " block3b_expand_conv (Conv2D)   (None, 28, 28, 240)  9600        ['block3a_project_bn[0][0]']     \n",
            "                                                                                                  \n",
            " block3b_expand_bn (BatchNormal  (None, 28, 28, 240)  960        ['block3b_expand_conv[0][0]']    \n",
            " ization)                                                                                         \n",
            "                                                                                                  \n",
            " block3b_expand_activation (Act  (None, 28, 28, 240)  0          ['block3b_expand_bn[0][0]']      \n",
            " ivation)                                                                                         \n",
            "                                                                                                  \n",
            " block3b_dwconv (DepthwiseConv2  (None, 28, 28, 240)  6000       ['block3b_expand_activation[0][0]\n",
            " D)                                                              ']                               \n",
            "                                                                                                  \n",
            " block3b_bn (BatchNormalization  (None, 28, 28, 240)  960        ['block3b_dwconv[0][0]']         \n",
            " )                                                                                                \n",
            "                                                                                                  \n",
            " block3b_activation (Activation  (None, 28, 28, 240)  0          ['block3b_bn[0][0]']             \n",
            " )                                                                                                \n",
            "                                                                                                  \n",
            " block3b_se_squeeze (GlobalAver  (None, 240)         0           ['block3b_activation[0][0]']     \n",
            " agePooling2D)                                                                                    \n",
            "                                                                                                  \n",
            " block3b_se_reshape (Reshape)   (None, 1, 1, 240)    0           ['block3b_se_squeeze[0][0]']     \n",
            "                                                                                                  \n",
            " block3b_se_reduce (Conv2D)     (None, 1, 1, 10)     2410        ['block3b_se_reshape[0][0]']     \n",
            "                                                                                                  \n",
            " block3b_se_expand (Conv2D)     (None, 1, 1, 240)    2640        ['block3b_se_reduce[0][0]']      \n",
            "                                                                                                  \n",
            " block3b_se_excite (Multiply)   (None, 28, 28, 240)  0           ['block3b_activation[0][0]',     \n",
            "                                                                  'block3b_se_expand[0][0]']      \n",
            "                                                                                                  \n",
            " block3b_project_conv (Conv2D)  (None, 28, 28, 40)   9600        ['block3b_se_excite[0][0]']      \n",
            "                                                                                                  \n",
            " block3b_project_bn (BatchNorma  (None, 28, 28, 40)  160         ['block3b_project_conv[0][0]']   \n",
            " lization)                                                                                        \n",
            "                                                                                                  \n",
            " block3b_drop (Dropout)         (None, 28, 28, 40)   0           ['block3b_project_bn[0][0]']     \n",
            "                                                                                                  \n",
            " block3b_add (Add)              (None, 28, 28, 40)   0           ['block3b_drop[0][0]',           \n",
            "                                                                  'block3a_project_bn[0][0]']     \n",
            "                                                                                                  \n",
            " block4a_expand_conv (Conv2D)   (None, 28, 28, 240)  9600        ['block3b_add[0][0]']            \n",
            "                                                                                                  \n",
            " block4a_expand_bn (BatchNormal  (None, 28, 28, 240)  960        ['block4a_expand_conv[0][0]']    \n",
            " ization)                                                                                         \n",
            "                                                                                                  \n",
            " block4a_expand_activation (Act  (None, 28, 28, 240)  0          ['block4a_expand_bn[0][0]']      \n",
            " ivation)                                                                                         \n",
            "                                                                                                  \n",
            " block4a_dwconv_pad (ZeroPaddin  (None, 29, 29, 240)  0          ['block4a_expand_activation[0][0]\n",
            " g2D)                                                            ']                               \n",
            "                                                                                                  \n",
            " block4a_dwconv (DepthwiseConv2  (None, 14, 14, 240)  2160       ['block4a_dwconv_pad[0][0]']     \n",
            " D)                                                                                               \n",
            "                                                                                                  \n",
            " block4a_bn (BatchNormalization  (None, 14, 14, 240)  960        ['block4a_dwconv[0][0]']         \n",
            " )                                                                                                \n",
            "                                                                                                  \n",
            " block4a_activation (Activation  (None, 14, 14, 240)  0          ['block4a_bn[0][0]']             \n",
            " )                                                                                                \n",
            "                                                                                                  \n",
            " block4a_se_squeeze (GlobalAver  (None, 240)         0           ['block4a_activation[0][0]']     \n",
            " agePooling2D)                                                                                    \n",
            "                                                                                                  \n",
            " block4a_se_reshape (Reshape)   (None, 1, 1, 240)    0           ['block4a_se_squeeze[0][0]']     \n",
            "                                                                                                  \n",
            " block4a_se_reduce (Conv2D)     (None, 1, 1, 10)     2410        ['block4a_se_reshape[0][0]']     \n",
            "                                                                                                  \n",
            " block4a_se_expand (Conv2D)     (None, 1, 1, 240)    2640        ['block4a_se_reduce[0][0]']      \n",
            "                                                                                                  \n",
            " block4a_se_excite (Multiply)   (None, 14, 14, 240)  0           ['block4a_activation[0][0]',     \n",
            "                                                                  'block4a_se_expand[0][0]']      \n",
            "                                                                                                  \n",
            " block4a_project_conv (Conv2D)  (None, 14, 14, 80)   19200       ['block4a_se_excite[0][0]']      \n",
            "                                                                                                  \n",
            " block4a_project_bn (BatchNorma  (None, 14, 14, 80)  320         ['block4a_project_conv[0][0]']   \n",
            " lization)                                                                                        \n",
            "                                                                                                  \n",
            " block4b_expand_conv (Conv2D)   (None, 14, 14, 480)  38400       ['block4a_project_bn[0][0]']     \n",
            "                                                                                                  \n",
            " block4b_expand_bn (BatchNormal  (None, 14, 14, 480)  1920       ['block4b_expand_conv[0][0]']    \n",
            " ization)                                                                                         \n",
            "                                                                                                  \n",
            " block4b_expand_activation (Act  (None, 14, 14, 480)  0          ['block4b_expand_bn[0][0]']      \n",
            " ivation)                                                                                         \n",
            "                                                                                                  \n",
            " block4b_dwconv (DepthwiseConv2  (None, 14, 14, 480)  4320       ['block4b_expand_activation[0][0]\n",
            " D)                                                              ']                               \n",
            "                                                                                                  \n",
            " block4b_bn (BatchNormalization  (None, 14, 14, 480)  1920       ['block4b_dwconv[0][0]']         \n",
            " )                                                                                                \n",
            "                                                                                                  \n",
            " block4b_activation (Activation  (None, 14, 14, 480)  0          ['block4b_bn[0][0]']             \n",
            " )                                                                                                \n",
            "                                                                                                  \n",
            " block4b_se_squeeze (GlobalAver  (None, 480)         0           ['block4b_activation[0][0]']     \n",
            " agePooling2D)                                                                                    \n",
            "                                                                                                  \n",
            " block4b_se_reshape (Reshape)   (None, 1, 1, 480)    0           ['block4b_se_squeeze[0][0]']     \n",
            "                                                                                                  \n",
            " block4b_se_reduce (Conv2D)     (None, 1, 1, 20)     9620        ['block4b_se_reshape[0][0]']     \n",
            "                                                                                                  \n",
            " block4b_se_expand (Conv2D)     (None, 1, 1, 480)    10080       ['block4b_se_reduce[0][0]']      \n",
            "                                                                                                  \n",
            " block4b_se_excite (Multiply)   (None, 14, 14, 480)  0           ['block4b_activation[0][0]',     \n",
            "                                                                  'block4b_se_expand[0][0]']      \n",
            "                                                                                                  \n",
            " block4b_project_conv (Conv2D)  (None, 14, 14, 80)   38400       ['block4b_se_excite[0][0]']      \n",
            "                                                                                                  \n",
            " block4b_project_bn (BatchNorma  (None, 14, 14, 80)  320         ['block4b_project_conv[0][0]']   \n",
            " lization)                                                                                        \n",
            "                                                                                                  \n",
            " block4b_drop (Dropout)         (None, 14, 14, 80)   0           ['block4b_project_bn[0][0]']     \n",
            "                                                                                                  \n",
            " block4b_add (Add)              (None, 14, 14, 80)   0           ['block4b_drop[0][0]',           \n",
            "                                                                  'block4a_project_bn[0][0]']     \n",
            "                                                                                                  \n",
            " block4c_expand_conv (Conv2D)   (None, 14, 14, 480)  38400       ['block4b_add[0][0]']            \n",
            "                                                                                                  \n",
            " block4c_expand_bn (BatchNormal  (None, 14, 14, 480)  1920       ['block4c_expand_conv[0][0]']    \n",
            " ization)                                                                                         \n",
            "                                                                                                  \n",
            " block4c_expand_activation (Act  (None, 14, 14, 480)  0          ['block4c_expand_bn[0][0]']      \n",
            " ivation)                                                                                         \n",
            "                                                                                                  \n",
            " block4c_dwconv (DepthwiseConv2  (None, 14, 14, 480)  4320       ['block4c_expand_activation[0][0]\n",
            " D)                                                              ']                               \n",
            "                                                                                                  \n",
            " block4c_bn (BatchNormalization  (None, 14, 14, 480)  1920       ['block4c_dwconv[0][0]']         \n",
            " )                                                                                                \n",
            "                                                                                                  \n",
            " block4c_activation (Activation  (None, 14, 14, 480)  0          ['block4c_bn[0][0]']             \n",
            " )                                                                                                \n",
            "                                                                                                  \n",
            " block4c_se_squeeze (GlobalAver  (None, 480)         0           ['block4c_activation[0][0]']     \n",
            " agePooling2D)                                                                                    \n",
            "                                                                                                  \n",
            " block4c_se_reshape (Reshape)   (None, 1, 1, 480)    0           ['block4c_se_squeeze[0][0]']     \n",
            "                                                                                                  \n",
            " block4c_se_reduce (Conv2D)     (None, 1, 1, 20)     9620        ['block4c_se_reshape[0][0]']     \n",
            "                                                                                                  \n",
            " block4c_se_expand (Conv2D)     (None, 1, 1, 480)    10080       ['block4c_se_reduce[0][0]']      \n",
            "                                                                                                  \n",
            " block4c_se_excite (Multiply)   (None, 14, 14, 480)  0           ['block4c_activation[0][0]',     \n",
            "                                                                  'block4c_se_expand[0][0]']      \n",
            "                                                                                                  \n",
            " block4c_project_conv (Conv2D)  (None, 14, 14, 80)   38400       ['block4c_se_excite[0][0]']      \n",
            "                                                                                                  \n",
            " block4c_project_bn (BatchNorma  (None, 14, 14, 80)  320         ['block4c_project_conv[0][0]']   \n",
            " lization)                                                                                        \n",
            "                                                                                                  \n",
            " block4c_drop (Dropout)         (None, 14, 14, 80)   0           ['block4c_project_bn[0][0]']     \n",
            "                                                                                                  \n",
            " block4c_add (Add)              (None, 14, 14, 80)   0           ['block4c_drop[0][0]',           \n",
            "                                                                  'block4b_add[0][0]']            \n",
            "                                                                                                  \n",
            " block5a_expand_conv (Conv2D)   (None, 14, 14, 480)  38400       ['block4c_add[0][0]']            \n",
            "                                                                                                  \n",
            " block5a_expand_bn (BatchNormal  (None, 14, 14, 480)  1920       ['block5a_expand_conv[0][0]']    \n",
            " ization)                                                                                         \n",
            "                                                                                                  \n",
            " block5a_expand_activation (Act  (None, 14, 14, 480)  0          ['block5a_expand_bn[0][0]']      \n",
            " ivation)                                                                                         \n",
            "                                                                                                  \n",
            " block5a_dwconv (DepthwiseConv2  (None, 14, 14, 480)  12000      ['block5a_expand_activation[0][0]\n",
            " D)                                                              ']                               \n",
            "                                                                                                  \n",
            " block5a_bn (BatchNormalization  (None, 14, 14, 480)  1920       ['block5a_dwconv[0][0]']         \n",
            " )                                                                                                \n",
            "                                                                                                  \n",
            " block5a_activation (Activation  (None, 14, 14, 480)  0          ['block5a_bn[0][0]']             \n",
            " )                                                                                                \n",
            "                                                                                                  \n",
            " block5a_se_squeeze (GlobalAver  (None, 480)         0           ['block5a_activation[0][0]']     \n",
            " agePooling2D)                                                                                    \n",
            "                                                                                                  \n",
            " block5a_se_reshape (Reshape)   (None, 1, 1, 480)    0           ['block5a_se_squeeze[0][0]']     \n",
            "                                                                                                  \n",
            " block5a_se_reduce (Conv2D)     (None, 1, 1, 20)     9620        ['block5a_se_reshape[0][0]']     \n",
            "                                                                                                  \n",
            " block5a_se_expand (Conv2D)     (None, 1, 1, 480)    10080       ['block5a_se_reduce[0][0]']      \n",
            "                                                                                                  \n",
            " block5a_se_excite (Multiply)   (None, 14, 14, 480)  0           ['block5a_activation[0][0]',     \n",
            "                                                                  'block5a_se_expand[0][0]']      \n",
            "                                                                                                  \n",
            " block5a_project_conv (Conv2D)  (None, 14, 14, 112)  53760       ['block5a_se_excite[0][0]']      \n",
            "                                                                                                  \n",
            " block5a_project_bn (BatchNorma  (None, 14, 14, 112)  448        ['block5a_project_conv[0][0]']   \n",
            " lization)                                                                                        \n",
            "                                                                                                  \n",
            " block5b_expand_conv (Conv2D)   (None, 14, 14, 672)  75264       ['block5a_project_bn[0][0]']     \n",
            "                                                                                                  \n",
            " block5b_expand_bn (BatchNormal  (None, 14, 14, 672)  2688       ['block5b_expand_conv[0][0]']    \n",
            " ization)                                                                                         \n",
            "                                                                                                  \n",
            " block5b_expand_activation (Act  (None, 14, 14, 672)  0          ['block5b_expand_bn[0][0]']      \n",
            " ivation)                                                                                         \n",
            "                                                                                                  \n",
            " block5b_dwconv (DepthwiseConv2  (None, 14, 14, 672)  16800      ['block5b_expand_activation[0][0]\n",
            " D)                                                              ']                               \n",
            "                                                                                                  \n",
            " block5b_bn (BatchNormalization  (None, 14, 14, 672)  2688       ['block5b_dwconv[0][0]']         \n",
            " )                                                                                                \n",
            "                                                                                                  \n",
            " block5b_activation (Activation  (None, 14, 14, 672)  0          ['block5b_bn[0][0]']             \n",
            " )                                                                                                \n",
            "                                                                                                  \n",
            " block5b_se_squeeze (GlobalAver  (None, 672)         0           ['block5b_activation[0][0]']     \n",
            " agePooling2D)                                                                                    \n",
            "                                                                                                  \n",
            " block5b_se_reshape (Reshape)   (None, 1, 1, 672)    0           ['block5b_se_squeeze[0][0]']     \n",
            "                                                                                                  \n",
            " block5b_se_reduce (Conv2D)     (None, 1, 1, 28)     18844       ['block5b_se_reshape[0][0]']     \n",
            "                                                                                                  \n",
            " block5b_se_expand (Conv2D)     (None, 1, 1, 672)    19488       ['block5b_se_reduce[0][0]']      \n",
            "                                                                                                  \n",
            " block5b_se_excite (Multiply)   (None, 14, 14, 672)  0           ['block5b_activation[0][0]',     \n",
            "                                                                  'block5b_se_expand[0][0]']      \n",
            "                                                                                                  \n",
            " block5b_project_conv (Conv2D)  (None, 14, 14, 112)  75264       ['block5b_se_excite[0][0]']      \n",
            "                                                                                                  \n",
            " block5b_project_bn (BatchNorma  (None, 14, 14, 112)  448        ['block5b_project_conv[0][0]']   \n",
            " lization)                                                                                        \n",
            "                                                                                                  \n",
            " block5b_drop (Dropout)         (None, 14, 14, 112)  0           ['block5b_project_bn[0][0]']     \n",
            "                                                                                                  \n",
            " block5b_add (Add)              (None, 14, 14, 112)  0           ['block5b_drop[0][0]',           \n",
            "                                                                  'block5a_project_bn[0][0]']     \n",
            "                                                                                                  \n",
            " block5c_expand_conv (Conv2D)   (None, 14, 14, 672)  75264       ['block5b_add[0][0]']            \n",
            "                                                                                                  \n",
            " block5c_expand_bn (BatchNormal  (None, 14, 14, 672)  2688       ['block5c_expand_conv[0][0]']    \n",
            " ization)                                                                                         \n",
            "                                                                                                  \n",
            " block5c_expand_activation (Act  (None, 14, 14, 672)  0          ['block5c_expand_bn[0][0]']      \n",
            " ivation)                                                                                         \n",
            "                                                                                                  \n",
            " block5c_dwconv (DepthwiseConv2  (None, 14, 14, 672)  16800      ['block5c_expand_activation[0][0]\n",
            " D)                                                              ']                               \n",
            "                                                                                                  \n",
            " block5c_bn (BatchNormalization  (None, 14, 14, 672)  2688       ['block5c_dwconv[0][0]']         \n",
            " )                                                                                                \n",
            "                                                                                                  \n",
            " block5c_activation (Activation  (None, 14, 14, 672)  0          ['block5c_bn[0][0]']             \n",
            " )                                                                                                \n",
            "                                                                                                  \n",
            " block5c_se_squeeze (GlobalAver  (None, 672)         0           ['block5c_activation[0][0]']     \n",
            " agePooling2D)                                                                                    \n",
            "                                                                                                  \n",
            " block5c_se_reshape (Reshape)   (None, 1, 1, 672)    0           ['block5c_se_squeeze[0][0]']     \n",
            "                                                                                                  \n",
            " block5c_se_reduce (Conv2D)     (None, 1, 1, 28)     18844       ['block5c_se_reshape[0][0]']     \n",
            "                                                                                                  \n",
            " block5c_se_expand (Conv2D)     (None, 1, 1, 672)    19488       ['block5c_se_reduce[0][0]']      \n",
            "                                                                                                  \n",
            " block5c_se_excite (Multiply)   (None, 14, 14, 672)  0           ['block5c_activation[0][0]',     \n",
            "                                                                  'block5c_se_expand[0][0]']      \n",
            "                                                                                                  \n",
            " block5c_project_conv (Conv2D)  (None, 14, 14, 112)  75264       ['block5c_se_excite[0][0]']      \n",
            "                                                                                                  \n",
            " block5c_project_bn (BatchNorma  (None, 14, 14, 112)  448        ['block5c_project_conv[0][0]']   \n",
            " lization)                                                                                        \n",
            "                                                                                                  \n",
            " block5c_drop (Dropout)         (None, 14, 14, 112)  0           ['block5c_project_bn[0][0]']     \n",
            "                                                                                                  \n",
            " block5c_add (Add)              (None, 14, 14, 112)  0           ['block5c_drop[0][0]',           \n",
            "                                                                  'block5b_add[0][0]']            \n",
            "                                                                                                  \n",
            " block6a_expand_conv (Conv2D)   (None, 14, 14, 672)  75264       ['block5c_add[0][0]']            \n",
            "                                                                                                  \n",
            " block6a_expand_bn (BatchNormal  (None, 14, 14, 672)  2688       ['block6a_expand_conv[0][0]']    \n",
            " ization)                                                                                         \n",
            "                                                                                                  \n",
            " block6a_expand_activation (Act  (None, 14, 14, 672)  0          ['block6a_expand_bn[0][0]']      \n",
            " ivation)                                                                                         \n",
            "                                                                                                  \n",
            " block6a_dwconv_pad (ZeroPaddin  (None, 17, 17, 672)  0          ['block6a_expand_activation[0][0]\n",
            " g2D)                                                            ']                               \n",
            "                                                                                                  \n",
            " block6a_dwconv (DepthwiseConv2  (None, 7, 7, 672)   16800       ['block6a_dwconv_pad[0][0]']     \n",
            " D)                                                                                               \n",
            "                                                                                                  \n",
            " block6a_bn (BatchNormalization  (None, 7, 7, 672)   2688        ['block6a_dwconv[0][0]']         \n",
            " )                                                                                                \n",
            "                                                                                                  \n",
            " block6a_activation (Activation  (None, 7, 7, 672)   0           ['block6a_bn[0][0]']             \n",
            " )                                                                                                \n",
            "                                                                                                  \n",
            " block6a_se_squeeze (GlobalAver  (None, 672)         0           ['block6a_activation[0][0]']     \n",
            " agePooling2D)                                                                                    \n",
            "                                                                                                  \n",
            " block6a_se_reshape (Reshape)   (None, 1, 1, 672)    0           ['block6a_se_squeeze[0][0]']     \n",
            "                                                                                                  \n",
            " block6a_se_reduce (Conv2D)     (None, 1, 1, 28)     18844       ['block6a_se_reshape[0][0]']     \n",
            "                                                                                                  \n",
            " block6a_se_expand (Conv2D)     (None, 1, 1, 672)    19488       ['block6a_se_reduce[0][0]']      \n",
            "                                                                                                  \n",
            " block6a_se_excite (Multiply)   (None, 7, 7, 672)    0           ['block6a_activation[0][0]',     \n",
            "                                                                  'block6a_se_expand[0][0]']      \n",
            "                                                                                                  \n",
            " block6a_project_conv (Conv2D)  (None, 7, 7, 192)    129024      ['block6a_se_excite[0][0]']      \n",
            "                                                                                                  \n",
            " block6a_project_bn (BatchNorma  (None, 7, 7, 192)   768         ['block6a_project_conv[0][0]']   \n",
            " lization)                                                                                        \n",
            "                                                                                                  \n",
            " block6b_expand_conv (Conv2D)   (None, 7, 7, 1152)   221184      ['block6a_project_bn[0][0]']     \n",
            "                                                                                                  \n",
            " block6b_expand_bn (BatchNormal  (None, 7, 7, 1152)  4608        ['block6b_expand_conv[0][0]']    \n",
            " ization)                                                                                         \n",
            "                                                                                                  \n",
            " block6b_expand_activation (Act  (None, 7, 7, 1152)  0           ['block6b_expand_bn[0][0]']      \n",
            " ivation)                                                                                         \n",
            "                                                                                                  \n",
            " block6b_dwconv (DepthwiseConv2  (None, 7, 7, 1152)  28800       ['block6b_expand_activation[0][0]\n",
            " D)                                                              ']                               \n",
            "                                                                                                  \n",
            " block6b_bn (BatchNormalization  (None, 7, 7, 1152)  4608        ['block6b_dwconv[0][0]']         \n",
            " )                                                                                                \n",
            "                                                                                                  \n",
            " block6b_activation (Activation  (None, 7, 7, 1152)  0           ['block6b_bn[0][0]']             \n",
            " )                                                                                                \n",
            "                                                                                                  \n",
            " block6b_se_squeeze (GlobalAver  (None, 1152)        0           ['block6b_activation[0][0]']     \n",
            " agePooling2D)                                                                                    \n",
            "                                                                                                  \n",
            " block6b_se_reshape (Reshape)   (None, 1, 1, 1152)   0           ['block6b_se_squeeze[0][0]']     \n",
            "                                                                                                  \n",
            " block6b_se_reduce (Conv2D)     (None, 1, 1, 48)     55344       ['block6b_se_reshape[0][0]']     \n",
            "                                                                                                  \n",
            " block6b_se_expand (Conv2D)     (None, 1, 1, 1152)   56448       ['block6b_se_reduce[0][0]']      \n",
            "                                                                                                  \n",
            " block6b_se_excite (Multiply)   (None, 7, 7, 1152)   0           ['block6b_activation[0][0]',     \n",
            "                                                                  'block6b_se_expand[0][0]']      \n",
            "                                                                                                  \n",
            " block6b_project_conv (Conv2D)  (None, 7, 7, 192)    221184      ['block6b_se_excite[0][0]']      \n",
            "                                                                                                  \n",
            " block6b_project_bn (BatchNorma  (None, 7, 7, 192)   768         ['block6b_project_conv[0][0]']   \n",
            " lization)                                                                                        \n",
            "                                                                                                  \n",
            " block6b_drop (Dropout)         (None, 7, 7, 192)    0           ['block6b_project_bn[0][0]']     \n",
            "                                                                                                  \n",
            " block6b_add (Add)              (None, 7, 7, 192)    0           ['block6b_drop[0][0]',           \n",
            "                                                                  'block6a_project_bn[0][0]']     \n",
            "                                                                                                  \n",
            " block6c_expand_conv (Conv2D)   (None, 7, 7, 1152)   221184      ['block6b_add[0][0]']            \n",
            "                                                                                                  \n",
            " block6c_expand_bn (BatchNormal  (None, 7, 7, 1152)  4608        ['block6c_expand_conv[0][0]']    \n",
            " ization)                                                                                         \n",
            "                                                                                                  \n",
            " block6c_expand_activation (Act  (None, 7, 7, 1152)  0           ['block6c_expand_bn[0][0]']      \n",
            " ivation)                                                                                         \n",
            "                                                                                                  \n",
            " block6c_dwconv (DepthwiseConv2  (None, 7, 7, 1152)  28800       ['block6c_expand_activation[0][0]\n",
            " D)                                                              ']                               \n",
            "                                                                                                  \n",
            " block6c_bn (BatchNormalization  (None, 7, 7, 1152)  4608        ['block6c_dwconv[0][0]']         \n",
            " )                                                                                                \n",
            "                                                                                                  \n",
            " block6c_activation (Activation  (None, 7, 7, 1152)  0           ['block6c_bn[0][0]']             \n",
            " )                                                                                                \n",
            "                                                                                                  \n",
            " block6c_se_squeeze (GlobalAver  (None, 1152)        0           ['block6c_activation[0][0]']     \n",
            " agePooling2D)                                                                                    \n",
            "                                                                                                  \n",
            " block6c_se_reshape (Reshape)   (None, 1, 1, 1152)   0           ['block6c_se_squeeze[0][0]']     \n",
            "                                                                                                  \n",
            " block6c_se_reduce (Conv2D)     (None, 1, 1, 48)     55344       ['block6c_se_reshape[0][0]']     \n",
            "                                                                                                  \n",
            " block6c_se_expand (Conv2D)     (None, 1, 1, 1152)   56448       ['block6c_se_reduce[0][0]']      \n",
            "                                                                                                  \n",
            " block6c_se_excite (Multiply)   (None, 7, 7, 1152)   0           ['block6c_activation[0][0]',     \n",
            "                                                                  'block6c_se_expand[0][0]']      \n",
            "                                                                                                  \n",
            " block6c_project_conv (Conv2D)  (None, 7, 7, 192)    221184      ['block6c_se_excite[0][0]']      \n",
            "                                                                                                  \n",
            " block6c_project_bn (BatchNorma  (None, 7, 7, 192)   768         ['block6c_project_conv[0][0]']   \n",
            " lization)                                                                                        \n",
            "                                                                                                  \n",
            " block6c_drop (Dropout)         (None, 7, 7, 192)    0           ['block6c_project_bn[0][0]']     \n",
            "                                                                                                  \n",
            " block6c_add (Add)              (None, 7, 7, 192)    0           ['block6c_drop[0][0]',           \n",
            "                                                                  'block6b_add[0][0]']            \n",
            "                                                                                                  \n",
            " block6d_expand_conv (Conv2D)   (None, 7, 7, 1152)   221184      ['block6c_add[0][0]']            \n",
            "                                                                                                  \n",
            " block6d_expand_bn (BatchNormal  (None, 7, 7, 1152)  4608        ['block6d_expand_conv[0][0]']    \n",
            " ization)                                                                                         \n",
            "                                                                                                  \n",
            " block6d_expand_activation (Act  (None, 7, 7, 1152)  0           ['block6d_expand_bn[0][0]']      \n",
            " ivation)                                                                                         \n",
            "                                                                                                  \n",
            " block6d_dwconv (DepthwiseConv2  (None, 7, 7, 1152)  28800       ['block6d_expand_activation[0][0]\n",
            " D)                                                              ']                               \n",
            "                                                                                                  \n",
            " block6d_bn (BatchNormalization  (None, 7, 7, 1152)  4608        ['block6d_dwconv[0][0]']         \n",
            " )                                                                                                \n",
            "                                                                                                  \n",
            " block6d_activation (Activation  (None, 7, 7, 1152)  0           ['block6d_bn[0][0]']             \n",
            " )                                                                                                \n",
            "                                                                                                  \n",
            " block6d_se_squeeze (GlobalAver  (None, 1152)        0           ['block6d_activation[0][0]']     \n",
            " agePooling2D)                                                                                    \n",
            "                                                                                                  \n",
            " block6d_se_reshape (Reshape)   (None, 1, 1, 1152)   0           ['block6d_se_squeeze[0][0]']     \n",
            "                                                                                                  \n",
            " block6d_se_reduce (Conv2D)     (None, 1, 1, 48)     55344       ['block6d_se_reshape[0][0]']     \n",
            "                                                                                                  \n",
            " block6d_se_expand (Conv2D)     (None, 1, 1, 1152)   56448       ['block6d_se_reduce[0][0]']      \n",
            "                                                                                                  \n",
            " block6d_se_excite (Multiply)   (None, 7, 7, 1152)   0           ['block6d_activation[0][0]',     \n",
            "                                                                  'block6d_se_expand[0][0]']      \n",
            "                                                                                                  \n",
            " block6d_project_conv (Conv2D)  (None, 7, 7, 192)    221184      ['block6d_se_excite[0][0]']      \n",
            "                                                                                                  \n",
            " block6d_project_bn (BatchNorma  (None, 7, 7, 192)   768         ['block6d_project_conv[0][0]']   \n",
            " lization)                                                                                        \n",
            "                                                                                                  \n",
            " block6d_drop (Dropout)         (None, 7, 7, 192)    0           ['block6d_project_bn[0][0]']     \n",
            "                                                                                                  \n",
            " block6d_add (Add)              (None, 7, 7, 192)    0           ['block6d_drop[0][0]',           \n",
            "                                                                  'block6c_add[0][0]']            \n",
            "                                                                                                  \n",
            " block7a_expand_conv (Conv2D)   (None, 7, 7, 1152)   221184      ['block6d_add[0][0]']            \n",
            "                                                                                                  \n",
            " block7a_expand_bn (BatchNormal  (None, 7, 7, 1152)  4608        ['block7a_expand_conv[0][0]']    \n",
            " ization)                                                                                         \n",
            "                                                                                                  \n",
            " block7a_expand_activation (Act  (None, 7, 7, 1152)  0           ['block7a_expand_bn[0][0]']      \n",
            " ivation)                                                                                         \n",
            "                                                                                                  \n",
            " block7a_dwconv (DepthwiseConv2  (None, 7, 7, 1152)  10368       ['block7a_expand_activation[0][0]\n",
            " D)                                                              ']                               \n",
            "                                                                                                  \n",
            " block7a_bn (BatchNormalization  (None, 7, 7, 1152)  4608        ['block7a_dwconv[0][0]']         \n",
            " )                                                                                                \n",
            "                                                                                                  \n",
            " block7a_activation (Activation  (None, 7, 7, 1152)  0           ['block7a_bn[0][0]']             \n",
            " )                                                                                                \n",
            "                                                                                                  \n",
            " block7a_se_squeeze (GlobalAver  (None, 1152)        0           ['block7a_activation[0][0]']     \n",
            " agePooling2D)                                                                                    \n",
            "                                                                                                  \n",
            " block7a_se_reshape (Reshape)   (None, 1, 1, 1152)   0           ['block7a_se_squeeze[0][0]']     \n",
            "                                                                                                  \n",
            " block7a_se_reduce (Conv2D)     (None, 1, 1, 48)     55344       ['block7a_se_reshape[0][0]']     \n",
            "                                                                                                  \n",
            " block7a_se_expand (Conv2D)     (None, 1, 1, 1152)   56448       ['block7a_se_reduce[0][0]']      \n",
            "                                                                                                  \n",
            " block7a_se_excite (Multiply)   (None, 7, 7, 1152)   0           ['block7a_activation[0][0]',     \n",
            "                                                                  'block7a_se_expand[0][0]']      \n",
            "                                                                                                  \n",
            " block7a_project_conv (Conv2D)  (None, 7, 7, 320)    368640      ['block7a_se_excite[0][0]']      \n",
            "                                                                                                  \n",
            " block7a_project_bn (BatchNorma  (None, 7, 7, 320)   1280        ['block7a_project_conv[0][0]']   \n",
            " lization)                                                                                        \n",
            "                                                                                                  \n",
            " top_conv (Conv2D)              (None, 7, 7, 1280)   409600      ['block7a_project_bn[0][0]']     \n",
            "                                                                                                  \n",
            " top_bn (BatchNormalization)    (None, 7, 7, 1280)   5120        ['top_conv[0][0]']               \n",
            "                                                                                                  \n",
            " top_activation (Activation)    (None, 7, 7, 1280)   0           ['top_bn[0][0]']                 \n",
            "                                                                                                  \n",
            "==================================================================================================\n",
            "Total params: 4,049,571\n",
            "Trainable params: 4,007,548\n",
            "Non-trainable params: 42,023\n",
            "__________________________________________________________________________________________________\n"
          ]
        }
      ],
      "source": [
        "# efficientent\n",
        "# pretrained model이 3 채널 영상을 사용하여, rgb 채널 데이터 사용\n",
        "IMG_SHAPE = (224, 224, 3)\n",
        "model0 = tf.keras.applications.EfficientNetB0(input_shape=IMG_SHAPE, include_top=False, weights=\"imagenet\", classifier_activation=\"softmax\")\n",
        "\n",
        "model0.summary()"
      ]
    },
    {
      "cell_type": "code",
      "execution_count": 95,
      "metadata": {
        "id": "J7A89Fg1bH7W",
        "colab": {
          "base_uri": "https://localhost:8080/"
        },
        "outputId": "e8d47f10-4382-45fa-861c-0c4b44556023"
      },
      "outputs": [
        {
          "output_type": "stream",
          "name": "stdout",
          "text": [
            "Model: \"sequential_22\"\n",
            "_________________________________________________________________\n",
            " Layer (type)                Output Shape              Param #   \n",
            "=================================================================\n",
            " normalization_1 (Normalizat  (None, 28, 28, 3)        0         \n",
            " ion)                                                            \n",
            "                                                                 \n",
            " resizing (Resizing)         (None, 224, 224, 3)       0         \n",
            "                                                                 \n",
            " efficientnetb0 (Functional)  (None, 7, 7, 1280)       4049571   \n",
            "                                                                 \n",
            " global_average_pooling2d_7   (None, 1280)             0         \n",
            " (GlobalAveragePooling2D)                                        \n",
            "                                                                 \n",
            " dense_26 (Dense)            (None, 500)               640500    \n",
            "                                                                 \n",
            " dense_25 (Dense)            (None, 62)                31062     \n",
            "                                                                 \n",
            "=================================================================\n",
            "Total params: 4,721,133\n",
            "Trainable params: 4,679,110\n",
            "Non-trainable params: 42,023\n",
            "_________________________________________________________________\n"
          ]
        }
      ],
      "source": [
        "#make new model _eff_model\n",
        "tf.keras.utils.plot_model(model0) # to draw and visualize\n",
        "\n",
        "global_average_layer = tf.keras.layers.GlobalAveragePooling2D()\n",
        "prediction_layer = tf.keras.layers.Dense(62, activation = 'softmax')\n",
        "\n",
        "eff_model = keras.models.Sequential()\n",
        "eff_model.add(tf.keras.layers.Normalization( axis=-1, mean=0.016425587, variance=0.03171295, input_shape = (28, 28, 3)))\n",
        "eff_model.add(tf.keras.layers.Resizing(height = 224, width = 224))\n",
        "eff_model.add(model0)\n",
        "eff_model.add(global_average_layer)\n",
        "eff_model.add(tf.keras.layers.Dense(500, activation = 'relu'))\n",
        "eff_model.add(prediction_layer)\n",
        "\n",
        "\n",
        "eff_model.summary() # to see the list of layers and parameters\n"
      ]
    },
    {
      "cell_type": "code",
      "execution_count": 102,
      "metadata": {
        "id": "zqxXtcZ4bH7W",
        "colab": {
          "base_uri": "https://localhost:8080/"
        },
        "outputId": "4c8240b4-ce48-4979-ba63-a7e668e24848"
      },
      "outputs": [
        {
          "output_type": "stream",
          "name": "stdout",
          "text": [
            "17449/17449 [==============================] - 3950s 226ms/step - loss: 0.4118 - accuracy: 0.8519 - val_loss: 0.6371 - val_accuracy: 0.7884\n"
          ]
        }
      ],
      "source": [
        "eff_model.compile(optimizer='adam', loss=keras.losses.categorical_crossentropy, metrics=['accuracy'])\n",
        "early_stopping_cb = keras.callbacks.EarlyStopping(patience=5, restore_best_weights=True)\n",
        "\n",
        "\n",
        "eff_model_history = eff_model.fit(final_train, y_train, epochs = 1, validation_data=(final_val, y_val),callbacks=[early_stopping_cb])"
      ]
    },
    {
      "cell_type": "code",
      "source": [
        "eff_model.evaluate(final_test/255., y_test)\n",
        "# eff_model.save(\"eff_model.h5\", save_format=\"h5\")"
      ],
      "metadata": {
        "colab": {
          "base_uri": "https://localhost:8080/"
        },
        "id": "wwgH8THet9xe",
        "outputId": "f02dd768-51bc-48cd-e195-2f1e7ca3bd12"
      },
      "execution_count": 103,
      "outputs": [
        {
          "output_type": "stream",
          "name": "stdout",
          "text": [
            "3636/3636 [==============================] - 143s 39ms/step - loss: 0.6314 - accuracy: 0.7887\n"
          ]
        },
        {
          "output_type": "execute_result",
          "data": {
            "text/plain": [
              "[0.6314153075218201, 0.7886574268341064]"
            ]
          },
          "metadata": {},
          "execution_count": 103
        }
      ]
    },
    {
      "cell_type": "markdown",
      "source": [
        "Test on hand_made data"
      ],
      "metadata": {
        "id": "Nxo7f2p_wccP"
      }
    },
    {
      "cell_type": "code",
      "source": [
        "# handmade emnist data 로드\n",
        "hand_made_csv = pd.read_csv(\"./our_handmade_dataset.csv\", header=None)\n",
        "hand_data, hand_label = convert_data_csv_to_numpy(hand_made_csv, sorting = False)\n",
        "raw_hand_data = hand_data.copy()\n",
        "hand_made_csv = []"
      ],
      "metadata": {
        "id": "L_JsFIpi3u_7"
      },
      "execution_count": 83,
      "outputs": []
    },
    {
      "cell_type": "markdown",
      "metadata": {
        "id": "WolgGcwKbH7X"
      },
      "source": [
        "PreProcessing"
      ]
    },
    {
      "cell_type": "code",
      "execution_count": 84,
      "metadata": {
        "id": "KYm7mU5dbH7X"
      },
      "outputs": [],
      "source": [
        "# 기존의 emnist 데이터의 형식에 맞추기 위한 pre processing 함수\n",
        "def pre_processing(data, mean):\n",
        "  # images = np.zeros((data.shape[0], 20, 20))\n",
        "  for i in range(data.shape[0]):\n",
        "    image = data[i]\n",
        "    first_norm = 255/np.max(image)\n",
        "    image = (image*first_norm).astype(np.uint8)\n",
        "    image[:2, :], image[-2:, :], image[:, :2], image[:,-2:] = 0, 0, 0, 0\n",
        "\n",
        "    _, binary_image = cv2.threshold(image.astype(np.uint8), 0, 255, cv2.THRESH_OTSU)\n",
        "    min_max_list = np.where(binary_image==255)\n",
        "    x_min, x_max = np.min(min_max_list[1]), np.max(min_max_list[1])\n",
        "    y_min, y_max = np.min(min_max_list[0]), np.max(min_max_list[0])\n",
        "\n",
        "    if abs(x_max - x_min) >abs(y_max - y_min):\n",
        "      add_sub_factor = (abs(x_max - x_min) - abs(y_max - y_min))//2\n",
        "      y_min = max(0, y_min-add_sub_factor-1)\n",
        "      y_max = min(27, y_max+add_sub_factor+1)\n",
        "\n",
        "    if abs(y_max - y_min) > abs(x_max - x_min):\n",
        "      add_sub_factor = (abs(y_max - y_min)-abs(x_max - x_min))//2\n",
        "      x_min = max(0, x_min-add_sub_factor-1)\n",
        "      x_max = min(27, x_max+add_sub_factor+1)\n",
        "\n",
        "    data[i] = np.pad(cv2.resize(image.astype(np.uint8)[y_min:y_max, x_min:x_max], (20, 20)), ((4, 4), (4, 4)), 'constant', constant_values = 0)\n",
        "    second_norm = 255/np.max(data[i])\n",
        "    data[i] = (data[i]*second_norm).astype(np.uint8)"
      ]
    },
    {
      "cell_type": "code",
      "execution_count": 85,
      "metadata": {
        "id": "LvCXBEONbH7X",
        "colab": {
          "base_uri": "https://localhost:8080/",
          "height": 371
        },
        "outputId": "6c890a1a-524f-489e-a3a7-92a3b5665e56"
      },
      "outputs": [
        {
          "output_type": "display_data",
          "data": {
            "text/plain": [
              "<PIL.Image.Image image mode=L size=150x150 at 0x7F4552E55290>"
            ],
            "image/png": "[encoded data removed]"
          },
          "metadata": {}
        },
        {
          "output_type": "stream",
          "name": "stdout",
          "text": [
            "before processing \n",
            "\n"
          ]
        },
        {
          "output_type": "display_data",
          "data": {
            "text/plain": [
              "<PIL.Image.Image image mode=L size=150x150 at 0x7F4552E55290>"
            ],
            "image/png": "[encoded data removed]"
          },
          "metadata": {}
        },
        {
          "output_type": "stream",
          "name": "stdout",
          "text": [
            "after processing\n"
          ]
        }
      ],
      "source": [
        "# 전처리 전 후 이미지 비교\n",
        "hand_data = hand_data.reshape(-1, 28, 28)\n",
        "index = 500\n",
        "\n",
        "t_data = hand_data[index].copy()\n",
        "cv2_imshow(cv2.resize(t_data.astype(np.uint8).T, (150, 150)))\n",
        "print(\"before processing \\n\")\n",
        "\n",
        "pre_processing(t_data.reshape(1, 28, 28), None)\n",
        "cv2_imshow(cv2.resize(t_data.astype(np.uint8).T, (150, 150)))\n",
        "print(\"after processing\")"
      ]
    },
    {
      "cell_type": "code",
      "execution_count": 86,
      "metadata": {
        "id": "dG1UU_J4bH7Y",
        "colab": {
          "base_uri": "https://localhost:8080/"
        },
        "outputId": "c84a49ac-ade8-4bf8-f24c-68907bee222a"
      },
      "outputs": [
        {
          "output_type": "stream",
          "name": "stdout",
          "text": [
            "(2480, 28, 28, 1) (2480, 62)\n"
          ]
        }
      ],
      "source": [
        "# 전처리 함수 적용 및 테스트 데이터 처리\n",
        "pre_processing(hand_data, None)\n",
        "\n",
        "raw_hand_label = hand_label.copy()\n",
        "\n",
        "hand_data = tf.convert_to_tensor(hand_data.reshape(-1, 28, 28, 1), dtype=tf.float32)\n",
        "raw_hand_data = tf.convert_to_tensor(raw_hand_data.reshape(-1, 28, 28, 1), dtype=tf.float32)\n",
        "hand_label = tf.keras.utils.to_categorical(hand_label)\n",
        "\n",
        "print(hand_data.shape, hand_label.shape)"
      ]
    },
    {
      "cell_type": "code",
      "execution_count": 87,
      "metadata": {
        "id": "IsBc5FZsbH7Y",
        "colab": {
          "base_uri": "https://localhost:8080/"
        },
        "outputId": "9fdb3083-5e89-4865-fe2e-27d8665b4c0f"
      },
      "outputs": [
        {
          "output_type": "stream",
          "name": "stdout",
          "text": [
            "(2480, 28, 28, 3)\n"
          ]
        }
      ],
      "source": [
        "final_hand_data = tf.image.grayscale_to_rgb(hand_data)\n",
        "final_raw_hand_data = tf.image.grayscale_to_rgb(raw_hand_data)\n",
        "print(final_hand_data.shape)"
      ]
    },
    {
      "cell_type": "code",
      "source": [
        "# aux resnet test를 위한 데이터 처리\n",
        "domain_hand_label = np.array(raw_hand_label.copy())\n",
        "\n",
        "domain_hand_label[domain_hand_label<10] = 0\n",
        "domain_hand_label[(10<=domain_hand_label)&(domain_hand_label<36)] = 1\n",
        "domain_hand_label[36<=domain_hand_label] = 2"
      ],
      "metadata": {
        "id": "4FJcQDe1qhRn"
      },
      "execution_count": 88,
      "outputs": []
    },
    {
      "cell_type": "code",
      "source": [
        "print(np.unique(domain_hand_label))\n",
        "\n",
        "domain_hand_label = keras.utils.to_categorical(domain_hand_label)\n",
        "print(domain_hand_label.shape)"
      ],
      "metadata": {
        "colab": {
          "base_uri": "https://localhost:8080/"
        },
        "id": "uBrofgl4qw3l",
        "outputId": "66818bef-14f0-466f-b610-907ad8c76b06"
      },
      "execution_count": 89,
      "outputs": [
        {
          "output_type": "stream",
          "name": "stdout",
          "text": [
            "[0 1 2]\n",
            "(2480, 3)\n"
          ]
        }
      ]
    },
    {
      "cell_type": "markdown",
      "source": [
        "전처리 적용 전 후 eval 결과 비교"
      ],
      "metadata": {
        "id": "9-d1IMpANWdk"
      }
    },
    {
      "cell_type": "code",
      "source": [
        "# 전처리 전\n",
        "print('<Before Pre-Processing>')\n",
        "\n",
        "# base line\n",
        "print(\"basic Lenet :\")\n",
        "lenet_5_model.evaluate(raw_hand_data/255., hand_label)\n",
        "print(\"MobileNetV2 :\")\n",
        "mobilev2_best_model.evaluate(final_raw_hand_data/255., hand_label)\n",
        "\n",
        "# custom\n",
        "print('final_Lenet : ')\n",
        "lenet_5_selu_dropout_model.evaluate(raw_hand_data/255., hand_label)\n",
        "\n",
        "print('Res_Res : ')\n",
        "res_res_model.evaluate(raw_hand_data/255., hand_label)\n",
        "print('Res_Dense : ')\n",
        "res_dense_model.evaluate(raw_hand_data/255., hand_label)\n",
        "print('Auxiliary_Res_Dense : ')\n",
        "aux_model.evaluate(raw_hand_data/255., [domain_hand_label, hand_label])\n",
        "\n",
        "print(\"VGG :\")\n",
        "VGG_model_2.evaluate(raw_hand_data/255., hand_label)\n",
        "print('Efficient Net : ')\n",
        "eff_model.evaluate(final_raw_hand_data/255., hand_label)\n",
        "\n",
        "\n",
        "# 전처리 후\n",
        "print('\\n\\n<After Pre-Processing>')\n",
        "\n",
        "# base line\n",
        "print(\"basic Lenet :\")\n",
        "lenet_5_model.evaluate(hand_data/255., hand_label)\n",
        "print(\"MobileNetV2 :\")\n",
        "mobilev2_best_model.evaluate(final_hand_data/255., hand_label)\n",
        "\n",
        "# custom\n",
        "print('final_Lenet : ')\n",
        "lenet_5_selu_dropout_model.evaluate(hand_data/255., hand_label)\n",
        "\n",
        "print('Res_Res : ')\n",
        "res_res_model.evaluate(hand_data/255., hand_label)\n",
        "print('Res_Dense : ')\n",
        "res_dense_model.evaluate(hand_data/255., hand_label)\n",
        "print('Auxiliary_Res_Dense : ')\n",
        "aux_model.evaluate(hand_data/255., [domain_hand_label, hand_label])\n",
        "\n",
        "print(\"VGG :\")\n",
        "VGG_model_2.evaluate(hand_data/255., hand_label)\n",
        "print('Efficient : ')\n",
        "eff_model.evaluate(final_hand_data/255., hand_label)\n",
        "\n",
        "print()"
      ],
      "metadata": {
        "colab": {
          "base_uri": "https://localhost:8080/"
        },
        "id": "2LBIj2u_QC0o",
        "outputId": "38c39631-9f4b-4132-8248-a1f9d4cd69d6"
      },
      "execution_count": 106,
      "outputs": [
        {
          "output_type": "stream",
          "name": "stdout",
          "text": [
            "<Before Pre-Processing>\n",
            "basic Lenet :\n",
            "78/78 [==============================] - 0s 3ms/step - loss: 4.3756 - accuracy: 0.2355\n",
            "MobileNetV2 :\n",
            "78/78 [==============================] - 3s 27ms/step - loss: 1.2280 - accuracy: 0.6210\n",
            "final_Lenet : \n",
            "78/78 [==============================] - 0s 3ms/step - loss: 4.4725 - accuracy: 0.2310\n",
            "Res_Res : \n",
            "78/78 [==============================] - 1s 9ms/step - loss: 3.7603 - accuracy: 0.2855\n",
            "Res_Dense : \n",
            "78/78 [==============================] - 0s 5ms/step - loss: 5.0705 - accuracy: 0.1819\n",
            "Auxiliary_Res_Dense : \n",
            "78/78 [==============================] - 1s 7ms/step - loss: 1.5496 - domain_out_loss: 0.8866 - main_out_loss: 1.8338 - domain_out_accuracy: 0.5923 - main_out_accuracy: 0.4851\n",
            "VGG :\n",
            "78/78 [==============================] - 1s 5ms/step - loss: 3.2034 - accuracy: 0.4032\n",
            "Efficient Net : \n",
            "78/78 [==============================] - 3s 40ms/step - loss: 5.0015 - accuracy: 0.1798\n",
            "\n",
            "\n",
            "<After Pre-Processing>\n",
            "basic Lenet :\n",
            "78/78 [==============================] - 0s 3ms/step - loss: 1.3948 - accuracy: 0.5867\n",
            "MobileNetV2 :\n",
            "78/78 [==============================] - 2s 26ms/step - loss: 0.8988 - accuracy: 0.6964\n",
            "final_Lenet : \n",
            "78/78 [==============================] - 0s 3ms/step - loss: 1.7785 - accuracy: 0.4948\n",
            "Res_Res : \n",
            "78/78 [==============================] - 1s 9ms/step - loss: 1.6353 - accuracy: 0.5101\n",
            "Res_Dense : \n",
            "78/78 [==============================] - 0s 5ms/step - loss: 2.2162 - accuracy: 0.4129\n",
            "Auxiliary_Res_Dense : \n",
            "78/78 [==============================] - 1s 7ms/step - loss: 1.0698 - domain_out_loss: 0.7268 - main_out_loss: 1.2167 - domain_out_accuracy: 0.6702 - main_out_accuracy: 0.6145\n",
            "VGG :\n",
            "78/78 [==============================] - 0s 6ms/step - loss: 13.0341 - accuracy: 0.6008\n",
            "Efficient : \n",
            "78/78 [==============================] - 3s 39ms/step - loss: 2.7069 - accuracy: 0.3762\n",
            "\n"
          ]
        }
      ]
    },
    {
      "cell_type": "markdown",
      "source": [
        "data augmentation"
      ],
      "metadata": {
        "id": "FyYxsvU8DMio"
      }
    },
    {
      "cell_type": "code",
      "source": [
        "import random\n",
        "\n",
        "# augmentation class\n",
        "class data_augment:\n",
        "  def __init__(self, image, label):\n",
        "    self.image = image.astype(np.uint8)\n",
        "    self.label = label\n",
        "    self.k_size = random.choice([3, 5, 7])\n",
        "    _, self.binary = cv2.threshold(self.image, 10, 255, cv2.THRESH_BINARY)\n",
        "    # _, self.binary = cv2.threshold(self.image, 0, 255, cv2.THRESH_OTSU)\n",
        "\n",
        "  def recrop_image(self, img= None, new_bin=None):\n",
        "    if img is None:\n",
        "      img = self.image\n",
        "    if new_bin is None:\n",
        "      new_bin = self.binary\n",
        "\n",
        "\n",
        "    min_max_list = np.where(new_bin>240)\n",
        "    x_min, x_max = np.min(min_max_list[1]), np.max(min_max_list[1])\n",
        "    y_min, y_max = np.min(min_max_list[0]), np.max(min_max_list[0])\n",
        "\n",
        "    if abs(x_max - x_min) >abs(y_max - y_min):\n",
        "      add_sub_factor = (abs(x_max - x_min) - abs(y_max - y_min))//2\n",
        "      y_min = max(0, y_min-add_sub_factor-1)\n",
        "      y_max = min(27, y_max+add_sub_factor+1)\n",
        "\n",
        "    if abs(y_max - y_min) > abs(x_max - x_min):\n",
        "      add_sub_factor = (abs(y_max - y_min)-abs(x_max - x_min))//2\n",
        "      x_min = max(0, x_min-add_sub_factor-1)\n",
        "      x_max = min(27, x_max+add_sub_factor+1)\n",
        "\n",
        "    dst = np.pad(cv2.resize(img.astype(np.uint8)[y_min:y_max, x_min:x_max], (20, 20)), ((4, 4), (4, 4)), 'constant', constant_values = 0)\n",
        "    second_norm = 255/np.max(dst)\n",
        "\n",
        "    return dst\n",
        "\n",
        "  def pixel_britness_change(self, max_value):\n",
        "    dst = self.image.copy()\n",
        "    dst = (dst*(max_value/255)).astype(np.uint8)\n",
        "    return dst\n",
        "\n",
        "  def image_erode(self, img = None):\n",
        "    if img is None:\n",
        "      img = self.image\n",
        "    \n",
        "    dst = cv2.resize(img.copy(),(224, 224))\n",
        "    _, binary = cv2.threshold(dst, 0, 255, cv2.THRESH_OTSU)\n",
        "\n",
        "    erode_result = cv2.erode(binary, np.ones((self.k_size, self.k_size)))\n",
        "\n",
        "    dst[erode_result==0] = 0\n",
        "    dst = cv2.resize(dst,(28, 28))\n",
        "    dst = self.recrop_image(dst, cv2.resize(erode_result, (28, 28)))\n",
        "    return dst\n",
        "\n",
        "  def image_dilation(self, img = None):\n",
        "    if img is None:\n",
        "      img = self.image\n",
        "\n",
        "    dst = cv2.resize(img.copy(),(224, 224))\n",
        "    _, binary = cv2.threshold(dst, 0, 255, cv2.THRESH_OTSU)\n",
        "\n",
        "    dilation_result = cv2.dilate(binary, np.ones((self.k_size, self.k_size)))\n",
        "\n",
        "    dst[dilation_result!=dst] = dilation_result[dst!=dilation_result]\n",
        "    dst = cv2.resize(dst,(28, 28))\n",
        "    dst = self.recrop_image(dst, cv2.resize(dilation_result, (28, 28)))\n",
        "\n",
        "    return dst\n",
        "\n",
        "  def image_open(self):\n",
        "    erode = self.image_erode()\n",
        "    dst = self.image_dilation(img = erode)\n",
        "    return dst\n",
        "\n",
        "  def image_close(self):\n",
        "    dil = self.image_dilation()\n",
        "    dst = self.image_erode(img = dil)\n",
        "    return dst\n",
        "\n",
        "  def select_agu_strategy(self, i):\n",
        "    if i % 4 == 0:\n",
        "      dst = self.image_erode()\n",
        "    elif i % 4 == 1:\n",
        "      dst = self.image_dilation()\n",
        "    elif i % 4 == 2:\n",
        "      dst = self.image_open()\n",
        "    else:\n",
        "      dst = self.image_close()\n",
        "  \n",
        "    return dst"
      ],
      "metadata": {
        "id": "wqO1uCSgWQ-1"
      },
      "execution_count": 43,
      "outputs": []
    },
    {
      "cell_type": "markdown",
      "source": [
        "선 두께 변화"
      ],
      "metadata": {
        "id": "kisafEknNgMm"
      }
    },
    {
      "cell_type": "code",
      "source": [
        "idx = 4876\n",
        "aug_list = ['erode','dilation','open','close']\n",
        "\n",
        "test_for_aug = X_train[idx, :, :, 0].copy()*255\n",
        "cv2_imshow(cv2.resize(test_for_aug, (100, 100)).T)\n",
        "print('origin')\n",
        "\n",
        "for i in range(4):\n",
        "  Aug = data_augment(test_for_aug, 0)\n",
        "  dst = Aug.select_agu_strategy(i)\n",
        "  cv2_imshow(cv2.resize(dst, (100, 100)).T)\n",
        "  print(aug_list[i])"
      ],
      "metadata": {
        "colab": {
          "base_uri": "https://localhost:8080/",
          "height": 608
        },
        "id": "i1n50C4rDozA",
        "outputId": "4dc398c8-e096-4e04-dc10-4cb53633c4fc"
      },
      "execution_count": 44,
      "outputs": [
        {
          "output_type": "display_data",
          "data": {
            "text/plain": [
              "<PIL.Image.Image image mode=L size=100x100 at 0x7FABF31463D0>"
            ],
            "image/png": "[encoded data removed]"
          },
          "metadata": {}
        },
        {
          "output_type": "stream",
          "name": "stdout",
          "text": [
            "origin\n"
          ]
        },
        {
          "output_type": "display_data",
          "data": {
            "text/plain": [
              "<PIL.Image.Image image mode=L size=100x100 at 0x7FABF3146390>"
            ],
            "image/png": "[encoded data removed]"
          },
          "metadata": {}
        },
        {
          "output_type": "stream",
          "name": "stdout",
          "text": [
            "erode\n"
          ]
        },
        {
          "output_type": "display_data",
          "data": {
            "text/plain": [
              "<PIL.Image.Image image mode=L size=100x100 at 0x7FABF31468D0>"
            ],
            "image/png": "[encoded data removed]"
          },
          "metadata": {}
        },
        {
          "output_type": "stream",
          "name": "stdout",
          "text": [
            "dilation\n"
          ]
        },
        {
          "output_type": "display_data",
          "data": {
            "text/plain": [
              "<PIL.Image.Image image mode=L size=100x100 at 0x7FABF3146F90>"
            ],
            "image/png": "[encoded data removed]"
          },
          "metadata": {}
        },
        {
          "output_type": "stream",
          "name": "stdout",
          "text": [
            "open\n"
          ]
        },
        {
          "output_type": "display_data",
          "data": {
            "text/plain": [
              "<PIL.Image.Image image mode=L size=100x100 at 0x7FABF3137690>"
            ],
            "image/png": "[encoded data removed]"
          },
          "metadata": {}
        },
        {
          "output_type": "stream",
          "name": "stdout",
          "text": [
            "close\n"
          ]
        }
      ]
    },
    {
      "cell_type": "markdown",
      "source": [
        "회전 및 zoom"
      ],
      "metadata": {
        "id": "FRFDH6QJNc8e"
      }
    },
    {
      "cell_type": "code",
      "source": [
        "index = 4876\n",
        "teest = X_train[index].copy()*255\n",
        "cv2_imshow(cv2.resize(teest, (100, 100)).T)\n",
        "print('origin')\n",
        "\n",
        "\n",
        "\n",
        "center_rate = random.choice([0.9, 0.85, 0.95])\n",
        "aug1 = cv2.resize(np.array(tf.image.central_crop(teest, central_fraction = center_rate)), (28, 28))\n",
        "Aug1 = data_augment(aug1, 0)\n",
        "result1 = Aug1.recrop_image().reshape(28, 28, 1)\n",
        "cv2_imshow(cv2.resize(result1, (100, 100)).T)\n",
        "print('zoom_out')\n",
        "\n",
        "aug = cv2.resize(np.array(tf.keras.layers.experimental.preprocessing.RandomRotation(0.1, fill_mode='constant', fill_value =0)(teest)), (28, 28))\n",
        "Aug = data_augment(aug, 0)\n",
        "result = Aug.recrop_image().reshape(28, 28, 1)\n",
        "cv2_imshow(cv2.resize(result, (100, 100)).T)\n",
        "print('rotation')\n"
      ],
      "metadata": {
        "colab": {
          "base_uri": "https://localhost:8080/",
          "height": 371
        },
        "id": "H5F3qLXFD3lJ",
        "outputId": "fbbe4278-39d4-4503-e697-d0287b8b7336"
      },
      "execution_count": 56,
      "outputs": [
        {
          "output_type": "display_data",
          "data": {
            "text/plain": [
              "<PIL.Image.Image image mode=L size=100x100 at 0x7FABF42F9890>"
            ],
            "image/png": "[encoded data removed]"
          },
          "metadata": {}
        },
        {
          "output_type": "stream",
          "name": "stdout",
          "text": [
            "origin\n"
          ]
        },
        {
          "output_type": "display_data",
          "data": {
            "text/plain": [
              "<PIL.Image.Image image mode=L size=100x100 at 0x7FABF42B4350>"
            ],
            "image/png": "[encoded data removed]"
          },
          "metadata": {}
        },
        {
          "output_type": "stream",
          "name": "stdout",
          "text": [
            "zoom_out\n"
          ]
        },
        {
          "output_type": "display_data",
          "data": {
            "text/plain": [
              "<PIL.Image.Image image mode=L size=100x100 at 0x7FABF3BB0E50>"
            ],
            "image/png": "[encoded data removed]"
          },
          "metadata": {}
        },
        {
          "output_type": "stream",
          "name": "stdout",
          "text": [
            "rotation\n"
          ]
        }
      ]
    }
  ],
  "metadata": {
    "accelerator": "GPU",
    "colab": {
      "collapsed_sections": [],
      "machine_shape": "hm",
      "name": "final_report.ipynb",
      "provenance": []
    },
    "kernelspec": {
      "display_name": "Python 3",
      "name": "python3"
    },
    "language_info": {
      "name": "python"
    },
    "orig_nbformat": 4
  },
  "nbformat": 4,
  "nbformat_minor": 0
}