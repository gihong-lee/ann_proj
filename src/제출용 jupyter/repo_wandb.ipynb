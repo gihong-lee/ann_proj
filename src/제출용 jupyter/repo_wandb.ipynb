{
  "nbformat": 4,
  "nbformat_minor": 0,
  "metadata": {
    "colab": {
      "name": "repo_wandb.ipynb",
      "provenance": [],
      "collapsed_sections": []
    },
    "kernelspec": {
      "name": "python3",
      "display_name": "Python 3"
    },
    "language_info": {
      "name": "python"
    },
    "accelerator": "GPU",
    "widgets": {
      "application/vnd.jupyter.widget-state+json": {
        "8204f93e36ab42d0a64f84cb33134c9b": {
          "model_module": "@jupyter-widgets/controls",
          "model_name": "VBoxModel",
          "model_module_version": "1.5.0",
          "state": {
            "_dom_classes": [],
            "_model_module": "@jupyter-widgets/controls",
            "_model_module_version": "1.5.0",
            "_model_name": "VBoxModel",
            "_view_count": null,
            "_view_module": "@jupyter-widgets/controls",
            "_view_module_version": "1.5.0",
            "_view_name": "VBoxView",
            "box_style": "",
            "children": [
              "IPY_MODEL_8643b3c1bd3845a9a775914f1104841d",
              "IPY_MODEL_b3a76f78e4234253bbc3ff29476bf061"
            ],
            "layout": "IPY_MODEL_ebc600eaf11b4217b47997487d13e947"
          }
        },
        "8643b3c1bd3845a9a775914f1104841d": {
          "model_module": "@jupyter-widgets/controls",
          "model_name": "LabelModel",
          "model_module_version": "1.5.0",
          "state": {
            "_dom_classes": [],
            "_model_module": "@jupyter-widgets/controls",
            "_model_module_version": "1.5.0",
            "_model_name": "LabelModel",
            "_view_count": null,
            "_view_module": "@jupyter-widgets/controls",
            "_view_module_version": "1.5.0",
            "_view_name": "LabelView",
            "description": "",
            "description_tooltip": null,
            "layout": "IPY_MODEL_26076cb6a2004f8ea548b095e8107f48",
            "placeholder": "​",
            "style": "IPY_MODEL_09e8b8fb8e1546dfa754c2b7efd3e340",
            "value": "0.771 MB of 0.771 MB uploaded (0.000 MB deduped)\r"
          }
        },
        "b3a76f78e4234253bbc3ff29476bf061": {
          "model_module": "@jupyter-widgets/controls",
          "model_name": "FloatProgressModel",
          "model_module_version": "1.5.0",
          "state": {
            "_dom_classes": [],
            "_model_module": "@jupyter-widgets/controls",
            "_model_module_version": "1.5.0",
            "_model_name": "FloatProgressModel",
            "_view_count": null,
            "_view_module": "@jupyter-widgets/controls",
            "_view_module_version": "1.5.0",
            "_view_name": "ProgressView",
            "bar_style": "",
            "description": "",
            "description_tooltip": null,
            "layout": "IPY_MODEL_934bf88e1dfd45c9aa8abc86a0f5a5b6",
            "max": 1,
            "min": 0,
            "orientation": "horizontal",
            "style": "IPY_MODEL_01a6676afd71440b8f3a44f837f51d9b",
            "value": 1
          }
        },
        "ebc600eaf11b4217b47997487d13e947": {
          "model_module": "@jupyter-widgets/base",
          "model_name": "LayoutModel",
          "model_module_version": "1.2.0",
          "state": {
            "_model_module": "@jupyter-widgets/base",
            "_model_module_version": "1.2.0",
            "_model_name": "LayoutModel",
            "_view_count": null,
            "_view_module": "@jupyter-widgets/base",
            "_view_module_version": "1.2.0",
            "_view_name": "LayoutView",
            "align_content": null,
            "align_items": null,
            "align_self": null,
            "border": null,
            "bottom": null,
            "display": null,
            "flex": null,
            "flex_flow": null,
            "grid_area": null,
            "grid_auto_columns": null,
            "grid_auto_flow": null,
            "grid_auto_rows": null,
            "grid_column": null,
            "grid_gap": null,
            "grid_row": null,
            "grid_template_areas": null,
            "grid_template_columns": null,
            "grid_template_rows": null,
            "height": null,
            "justify_content": null,
            "justify_items": null,
            "left": null,
            "margin": null,
            "max_height": null,
            "max_width": null,
            "min_height": null,
            "min_width": null,
            "object_fit": null,
            "object_position": null,
            "order": null,
            "overflow": null,
            "overflow_x": null,
            "overflow_y": null,
            "padding": null,
            "right": null,
            "top": null,
            "visibility": null,
            "width": null
          }
        },
        "26076cb6a2004f8ea548b095e8107f48": {
          "model_module": "@jupyter-widgets/base",
          "model_name": "LayoutModel",
          "model_module_version": "1.2.0",
          "state": {
            "_model_module": "@jupyter-widgets/base",
            "_model_module_version": "1.2.0",
            "_model_name": "LayoutModel",
            "_view_count": null,
            "_view_module": "@jupyter-widgets/base",
            "_view_module_version": "1.2.0",
            "_view_name": "LayoutView",
            "align_content": null,
            "align_items": null,
            "align_self": null,
            "border": null,
            "bottom": null,
            "display": null,
            "flex": null,
            "flex_flow": null,
            "grid_area": null,
            "grid_auto_columns": null,
            "grid_auto_flow": null,
            "grid_auto_rows": null,
            "grid_column": null,
            "grid_gap": null,
            "grid_row": null,
            "grid_template_areas": null,
            "grid_template_columns": null,
            "grid_template_rows": null,
            "height": null,
            "justify_content": null,
            "justify_items": null,
            "left": null,
            "margin": null,
            "max_height": null,
            "max_width": null,
            "min_height": null,
            "min_width": null,
            "object_fit": null,
            "object_position": null,
            "order": null,
            "overflow": null,
            "overflow_x": null,
            "overflow_y": null,
            "padding": null,
            "right": null,
            "top": null,
            "visibility": null,
            "width": null
          }
        },
        "09e8b8fb8e1546dfa754c2b7efd3e340": {
          "model_module": "@jupyter-widgets/controls",
          "model_name": "DescriptionStyleModel",
          "model_module_version": "1.5.0",
          "state": {
            "_model_module": "@jupyter-widgets/controls",
            "_model_module_version": "1.5.0",
            "_model_name": "DescriptionStyleModel",
            "_view_count": null,
            "_view_module": "@jupyter-widgets/base",
            "_view_module_version": "1.2.0",
            "_view_name": "StyleView",
            "description_width": ""
          }
        },
        "934bf88e1dfd45c9aa8abc86a0f5a5b6": {
          "model_module": "@jupyter-widgets/base",
          "model_name": "LayoutModel",
          "model_module_version": "1.2.0",
          "state": {
            "_model_module": "@jupyter-widgets/base",
            "_model_module_version": "1.2.0",
            "_model_name": "LayoutModel",
            "_view_count": null,
            "_view_module": "@jupyter-widgets/base",
            "_view_module_version": "1.2.0",
            "_view_name": "LayoutView",
            "align_content": null,
            "align_items": null,
            "align_self": null,
            "border": null,
            "bottom": null,
            "display": null,
            "flex": null,
            "flex_flow": null,
            "grid_area": null,
            "grid_auto_columns": null,
            "grid_auto_flow": null,
            "grid_auto_rows": null,
            "grid_column": null,
            "grid_gap": null,
            "grid_row": null,
            "grid_template_areas": null,
            "grid_template_columns": null,
            "grid_template_rows": null,
            "height": null,
            "justify_content": null,
            "justify_items": null,
            "left": null,
            "margin": null,
            "max_height": null,
            "max_width": null,
            "min_height": null,
            "min_width": null,
            "object_fit": null,
            "object_position": null,
            "order": null,
            "overflow": null,
            "overflow_x": null,
            "overflow_y": null,
            "padding": null,
            "right": null,
            "top": null,
            "visibility": null,
            "width": null
          }
        },
        "01a6676afd71440b8f3a44f837f51d9b": {
          "model_module": "@jupyter-widgets/controls",
          "model_name": "ProgressStyleModel",
          "model_module_version": "1.5.0",
          "state": {
            "_model_module": "@jupyter-widgets/controls",
            "_model_module_version": "1.5.0",
            "_model_name": "ProgressStyleModel",
            "_view_count": null,
            "_view_module": "@jupyter-widgets/base",
            "_view_module_version": "1.2.0",
            "_view_name": "StyleView",
            "bar_color": null,
            "description_width": ""
          }
        },
        "0daf9490305c452380b12794904dc177": {
          "model_module": "@jupyter-widgets/controls",
          "model_name": "VBoxModel",
          "model_module_version": "1.5.0",
          "state": {
            "_dom_classes": [],
            "_model_module": "@jupyter-widgets/controls",
            "_model_module_version": "1.5.0",
            "_model_name": "VBoxModel",
            "_view_count": null,
            "_view_module": "@jupyter-widgets/controls",
            "_view_module_version": "1.5.0",
            "_view_name": "VBoxView",
            "box_style": "",
            "children": [
              "IPY_MODEL_c61b0188c37c464c9287115aaab1a107",
              "IPY_MODEL_3bf41679214340d18b29c0d2d0c7831a"
            ],
            "layout": "IPY_MODEL_54e84ffb04d244acb86ce7f23248ee36"
          }
        },
        "c61b0188c37c464c9287115aaab1a107": {
          "model_module": "@jupyter-widgets/controls",
          "model_name": "LabelModel",
          "model_module_version": "1.5.0",
          "state": {
            "_dom_classes": [],
            "_model_module": "@jupyter-widgets/controls",
            "_model_module_version": "1.5.0",
            "_model_name": "LabelModel",
            "_view_count": null,
            "_view_module": "@jupyter-widgets/controls",
            "_view_module_version": "1.5.0",
            "_view_name": "LabelView",
            "description": "",
            "description_tooltip": null,
            "layout": "IPY_MODEL_57eede58752d4ae08330768f12ef26f1",
            "placeholder": "​",
            "style": "IPY_MODEL_4a3b88b061c24e5897eae42ddaac2727",
            "value": "0.771 MB of 0.771 MB uploaded (0.000 MB deduped)\r"
          }
        },
        "3bf41679214340d18b29c0d2d0c7831a": {
          "model_module": "@jupyter-widgets/controls",
          "model_name": "FloatProgressModel",
          "model_module_version": "1.5.0",
          "state": {
            "_dom_classes": [],
            "_model_module": "@jupyter-widgets/controls",
            "_model_module_version": "1.5.0",
            "_model_name": "FloatProgressModel",
            "_view_count": null,
            "_view_module": "@jupyter-widgets/controls",
            "_view_module_version": "1.5.0",
            "_view_name": "ProgressView",
            "bar_style": "",
            "description": "",
            "description_tooltip": null,
            "layout": "IPY_MODEL_02a0cccbdd5c48628a1128f92aef9df8",
            "max": 1,
            "min": 0,
            "orientation": "horizontal",
            "style": "IPY_MODEL_a3181d396c2e4c9eb627464fa375ec2b",
            "value": 1
          }
        },
        "54e84ffb04d244acb86ce7f23248ee36": {
          "model_module": "@jupyter-widgets/base",
          "model_name": "LayoutModel",
          "model_module_version": "1.2.0",
          "state": {
            "_model_module": "@jupyter-widgets/base",
            "_model_module_version": "1.2.0",
            "_model_name": "LayoutModel",
            "_view_count": null,
            "_view_module": "@jupyter-widgets/base",
            "_view_module_version": "1.2.0",
            "_view_name": "LayoutView",
            "align_content": null,
            "align_items": null,
            "align_self": null,
            "border": null,
            "bottom": null,
            "display": null,
            "flex": null,
            "flex_flow": null,
            "grid_area": null,
            "grid_auto_columns": null,
            "grid_auto_flow": null,
            "grid_auto_rows": null,
            "grid_column": null,
            "grid_gap": null,
            "grid_row": null,
            "grid_template_areas": null,
            "grid_template_columns": null,
            "grid_template_rows": null,
            "height": null,
            "justify_content": null,
            "justify_items": null,
            "left": null,
            "margin": null,
            "max_height": null,
            "max_width": null,
            "min_height": null,
            "min_width": null,
            "object_fit": null,
            "object_position": null,
            "order": null,
            "overflow": null,
            "overflow_x": null,
            "overflow_y": null,
            "padding": null,
            "right": null,
            "top": null,
            "visibility": null,
            "width": null
          }
        },
        "57eede58752d4ae08330768f12ef26f1": {
          "model_module": "@jupyter-widgets/base",
          "model_name": "LayoutModel",
          "model_module_version": "1.2.0",
          "state": {
            "_model_module": "@jupyter-widgets/base",
            "_model_module_version": "1.2.0",
            "_model_name": "LayoutModel",
            "_view_count": null,
            "_view_module": "@jupyter-widgets/base",
            "_view_module_version": "1.2.0",
            "_view_name": "LayoutView",
            "align_content": null,
            "align_items": null,
            "align_self": null,
            "border": null,
            "bottom": null,
            "display": null,
            "flex": null,
            "flex_flow": null,
            "grid_area": null,
            "grid_auto_columns": null,
            "grid_auto_flow": null,
            "grid_auto_rows": null,
            "grid_column": null,
            "grid_gap": null,
            "grid_row": null,
            "grid_template_areas": null,
            "grid_template_columns": null,
            "grid_template_rows": null,
            "height": null,
            "justify_content": null,
            "justify_items": null,
            "left": null,
            "margin": null,
            "max_height": null,
            "max_width": null,
            "min_height": null,
            "min_width": null,
            "object_fit": null,
            "object_position": null,
            "order": null,
            "overflow": null,
            "overflow_x": null,
            "overflow_y": null,
            "padding": null,
            "right": null,
            "top": null,
            "visibility": null,
            "width": null
          }
        },
        "4a3b88b061c24e5897eae42ddaac2727": {
          "model_module": "@jupyter-widgets/controls",
          "model_name": "DescriptionStyleModel",
          "model_module_version": "1.5.0",
          "state": {
            "_model_module": "@jupyter-widgets/controls",
            "_model_module_version": "1.5.0",
            "_model_name": "DescriptionStyleModel",
            "_view_count": null,
            "_view_module": "@jupyter-widgets/base",
            "_view_module_version": "1.2.0",
            "_view_name": "StyleView",
            "description_width": ""
          }
        },
        "02a0cccbdd5c48628a1128f92aef9df8": {
          "model_module": "@jupyter-widgets/base",
          "model_name": "LayoutModel",
          "model_module_version": "1.2.0",
          "state": {
            "_model_module": "@jupyter-widgets/base",
            "_model_module_version": "1.2.0",
            "_model_name": "LayoutModel",
            "_view_count": null,
            "_view_module": "@jupyter-widgets/base",
            "_view_module_version": "1.2.0",
            "_view_name": "LayoutView",
            "align_content": null,
            "align_items": null,
            "align_self": null,
            "border": null,
            "bottom": null,
            "display": null,
            "flex": null,
            "flex_flow": null,
            "grid_area": null,
            "grid_auto_columns": null,
            "grid_auto_flow": null,
            "grid_auto_rows": null,
            "grid_column": null,
            "grid_gap": null,
            "grid_row": null,
            "grid_template_areas": null,
            "grid_template_columns": null,
            "grid_template_rows": null,
            "height": null,
            "justify_content": null,
            "justify_items": null,
            "left": null,
            "margin": null,
            "max_height": null,
            "max_width": null,
            "min_height": null,
            "min_width": null,
            "object_fit": null,
            "object_position": null,
            "order": null,
            "overflow": null,
            "overflow_x": null,
            "overflow_y": null,
            "padding": null,
            "right": null,
            "top": null,
            "visibility": null,
            "width": null
          }
        },
        "a3181d396c2e4c9eb627464fa375ec2b": {
          "model_module": "@jupyter-widgets/controls",
          "model_name": "ProgressStyleModel",
          "model_module_version": "1.5.0",
          "state": {
            "_model_module": "@jupyter-widgets/controls",
            "_model_module_version": "1.5.0",
            "_model_name": "ProgressStyleModel",
            "_view_count": null,
            "_view_module": "@jupyter-widgets/base",
            "_view_module_version": "1.2.0",
            "_view_name": "StyleView",
            "bar_color": null,
            "description_width": ""
          }
        },
        "851b75eab83d4849ad6fd2c9bae31c60": {
          "model_module": "@jupyter-widgets/controls",
          "model_name": "VBoxModel",
          "model_module_version": "1.5.0",
          "state": {
            "_dom_classes": [],
            "_model_module": "@jupyter-widgets/controls",
            "_model_module_version": "1.5.0",
            "_model_name": "VBoxModel",
            "_view_count": null,
            "_view_module": "@jupyter-widgets/controls",
            "_view_module_version": "1.5.0",
            "_view_name": "VBoxView",
            "box_style": "",
            "children": [
              "IPY_MODEL_c6a3e9af9db04050860fa329315c1b99",
              "IPY_MODEL_1bad41cdc7ea47318eaabfebb401a9a6"
            ],
            "layout": "IPY_MODEL_5432dafdbab44d9698594060d38e351f"
          }
        },
        "c6a3e9af9db04050860fa329315c1b99": {
          "model_module": "@jupyter-widgets/controls",
          "model_name": "LabelModel",
          "model_module_version": "1.5.0",
          "state": {
            "_dom_classes": [],
            "_model_module": "@jupyter-widgets/controls",
            "_model_module_version": "1.5.0",
            "_model_name": "LabelModel",
            "_view_count": null,
            "_view_module": "@jupyter-widgets/controls",
            "_view_module_version": "1.5.0",
            "_view_name": "LabelView",
            "description": "",
            "description_tooltip": null,
            "layout": "IPY_MODEL_fdf997b0e4ef46dc9c5b356ad270dedc",
            "placeholder": "​",
            "style": "IPY_MODEL_913c7cfee7144f95bfb3dfff7c4dc239",
            "value": "1.417 MB of 1.417 MB uploaded (0.000 MB deduped)\r"
          }
        },
        "1bad41cdc7ea47318eaabfebb401a9a6": {
          "model_module": "@jupyter-widgets/controls",
          "model_name": "FloatProgressModel",
          "model_module_version": "1.5.0",
          "state": {
            "_dom_classes": [],
            "_model_module": "@jupyter-widgets/controls",
            "_model_module_version": "1.5.0",
            "_model_name": "FloatProgressModel",
            "_view_count": null,
            "_view_module": "@jupyter-widgets/controls",
            "_view_module_version": "1.5.0",
            "_view_name": "ProgressView",
            "bar_style": "",
            "description": "",
            "description_tooltip": null,
            "layout": "IPY_MODEL_6f531b989c1b41c0afbf4f4088a1ee61",
            "max": 1,
            "min": 0,
            "orientation": "horizontal",
            "style": "IPY_MODEL_337bfce79a554f6d9863ccc103c8f38a",
            "value": 1
          }
        },
        "5432dafdbab44d9698594060d38e351f": {
          "model_module": "@jupyter-widgets/base",
          "model_name": "LayoutModel",
          "model_module_version": "1.2.0",
          "state": {
            "_model_module": "@jupyter-widgets/base",
            "_model_module_version": "1.2.0",
            "_model_name": "LayoutModel",
            "_view_count": null,
            "_view_module": "@jupyter-widgets/base",
            "_view_module_version": "1.2.0",
            "_view_name": "LayoutView",
            "align_content": null,
            "align_items": null,
            "align_self": null,
            "border": null,
            "bottom": null,
            "display": null,
            "flex": null,
            "flex_flow": null,
            "grid_area": null,
            "grid_auto_columns": null,
            "grid_auto_flow": null,
            "grid_auto_rows": null,
            "grid_column": null,
            "grid_gap": null,
            "grid_row": null,
            "grid_template_areas": null,
            "grid_template_columns": null,
            "grid_template_rows": null,
            "height": null,
            "justify_content": null,
            "justify_items": null,
            "left": null,
            "margin": null,
            "max_height": null,
            "max_width": null,
            "min_height": null,
            "min_width": null,
            "object_fit": null,
            "object_position": null,
            "order": null,
            "overflow": null,
            "overflow_x": null,
            "overflow_y": null,
            "padding": null,
            "right": null,
            "top": null,
            "visibility": null,
            "width": null
          }
        },
        "fdf997b0e4ef46dc9c5b356ad270dedc": {
          "model_module": "@jupyter-widgets/base",
          "model_name": "LayoutModel",
          "model_module_version": "1.2.0",
          "state": {
            "_model_module": "@jupyter-widgets/base",
            "_model_module_version": "1.2.0",
            "_model_name": "LayoutModel",
            "_view_count": null,
            "_view_module": "@jupyter-widgets/base",
            "_view_module_version": "1.2.0",
            "_view_name": "LayoutView",
            "align_content": null,
            "align_items": null,
            "align_self": null,
            "border": null,
            "bottom": null,
            "display": null,
            "flex": null,
            "flex_flow": null,
            "grid_area": null,
            "grid_auto_columns": null,
            "grid_auto_flow": null,
            "grid_auto_rows": null,
            "grid_column": null,
            "grid_gap": null,
            "grid_row": null,
            "grid_template_areas": null,
            "grid_template_columns": null,
            "grid_template_rows": null,
            "height": null,
            "justify_content": null,
            "justify_items": null,
            "left": null,
            "margin": null,
            "max_height": null,
            "max_width": null,
            "min_height": null,
            "min_width": null,
            "object_fit": null,
            "object_position": null,
            "order": null,
            "overflow": null,
            "overflow_x": null,
            "overflow_y": null,
            "padding": null,
            "right": null,
            "top": null,
            "visibility": null,
            "width": null
          }
        },
        "913c7cfee7144f95bfb3dfff7c4dc239": {
          "model_module": "@jupyter-widgets/controls",
          "model_name": "DescriptionStyleModel",
          "model_module_version": "1.5.0",
          "state": {
            "_model_module": "@jupyter-widgets/controls",
            "_model_module_version": "1.5.0",
            "_model_name": "DescriptionStyleModel",
            "_view_count": null,
            "_view_module": "@jupyter-widgets/base",
            "_view_module_version": "1.2.0",
            "_view_name": "StyleView",
            "description_width": ""
          }
        },
        "6f531b989c1b41c0afbf4f4088a1ee61": {
          "model_module": "@jupyter-widgets/base",
          "model_name": "LayoutModel",
          "model_module_version": "1.2.0",
          "state": {
            "_model_module": "@jupyter-widgets/base",
            "_model_module_version": "1.2.0",
            "_model_name": "LayoutModel",
            "_view_count": null,
            "_view_module": "@jupyter-widgets/base",
            "_view_module_version": "1.2.0",
            "_view_name": "LayoutView",
            "align_content": null,
            "align_items": null,
            "align_self": null,
            "border": null,
            "bottom": null,
            "display": null,
            "flex": null,
            "flex_flow": null,
            "grid_area": null,
            "grid_auto_columns": null,
            "grid_auto_flow": null,
            "grid_auto_rows": null,
            "grid_column": null,
            "grid_gap": null,
            "grid_row": null,
            "grid_template_areas": null,
            "grid_template_columns": null,
            "grid_template_rows": null,
            "height": null,
            "justify_content": null,
            "justify_items": null,
            "left": null,
            "margin": null,
            "max_height": null,
            "max_width": null,
            "min_height": null,
            "min_width": null,
            "object_fit": null,
            "object_position": null,
            "order": null,
            "overflow": null,
            "overflow_x": null,
            "overflow_y": null,
            "padding": null,
            "right": null,
            "top": null,
            "visibility": null,
            "width": null
          }
        },
        "337bfce79a554f6d9863ccc103c8f38a": {
          "model_module": "@jupyter-widgets/controls",
          "model_name": "ProgressStyleModel",
          "model_module_version": "1.5.0",
          "state": {
            "_model_module": "@jupyter-widgets/controls",
            "_model_module_version": "1.5.0",
            "_model_name": "ProgressStyleModel",
            "_view_count": null,
            "_view_module": "@jupyter-widgets/base",
            "_view_module_version": "1.2.0",
            "_view_name": "StyleView",
            "bar_color": null,
            "description_width": ""
          }
        },
        "5597b9f1a0c04b9f940e858a4ed9c012": {
          "model_module": "@jupyter-widgets/controls",
          "model_name": "VBoxModel",
          "model_module_version": "1.5.0",
          "state": {
            "_dom_classes": [],
            "_model_module": "@jupyter-widgets/controls",
            "_model_module_version": "1.5.0",
            "_model_name": "VBoxModel",
            "_view_count": null,
            "_view_module": "@jupyter-widgets/controls",
            "_view_module_version": "1.5.0",
            "_view_name": "VBoxView",
            "box_style": "",
            "children": [
              "IPY_MODEL_b73bdff7469e477f8deae78d042e8913",
              "IPY_MODEL_bea82aa827a941c2be4c9566153e2014"
            ],
            "layout": "IPY_MODEL_db1c0cd578a64bcd95b78d22f020d721"
          }
        },
        "b73bdff7469e477f8deae78d042e8913": {
          "model_module": "@jupyter-widgets/controls",
          "model_name": "LabelModel",
          "model_module_version": "1.5.0",
          "state": {
            "_dom_classes": [],
            "_model_module": "@jupyter-widgets/controls",
            "_model_module_version": "1.5.0",
            "_model_name": "LabelModel",
            "_view_count": null,
            "_view_module": "@jupyter-widgets/controls",
            "_view_module_version": "1.5.0",
            "_view_name": "LabelView",
            "description": "",
            "description_tooltip": null,
            "layout": "IPY_MODEL_d11f816e09dd4553a7f8a0594c77a16b",
            "placeholder": "​",
            "style": "IPY_MODEL_c0b9b265a23c49b4abcead43be35e8ee",
            "value": "0.010 MB of 0.010 MB uploaded (0.000 MB deduped)\r"
          }
        },
        "bea82aa827a941c2be4c9566153e2014": {
          "model_module": "@jupyter-widgets/controls",
          "model_name": "FloatProgressModel",
          "model_module_version": "1.5.0",
          "state": {
            "_dom_classes": [],
            "_model_module": "@jupyter-widgets/controls",
            "_model_module_version": "1.5.0",
            "_model_name": "FloatProgressModel",
            "_view_count": null,
            "_view_module": "@jupyter-widgets/controls",
            "_view_module_version": "1.5.0",
            "_view_name": "ProgressView",
            "bar_style": "",
            "description": "",
            "description_tooltip": null,
            "layout": "IPY_MODEL_a2ab754be62b4bb983aba54c3e8ba448",
            "max": 1,
            "min": 0,
            "orientation": "horizontal",
            "style": "IPY_MODEL_caf81f8764ef402cb1dfa73e77f48851",
            "value": 1
          }
        },
        "db1c0cd578a64bcd95b78d22f020d721": {
          "model_module": "@jupyter-widgets/base",
          "model_name": "LayoutModel",
          "model_module_version": "1.2.0",
          "state": {
            "_model_module": "@jupyter-widgets/base",
            "_model_module_version": "1.2.0",
            "_model_name": "LayoutModel",
            "_view_count": null,
            "_view_module": "@jupyter-widgets/base",
            "_view_module_version": "1.2.0",
            "_view_name": "LayoutView",
            "align_content": null,
            "align_items": null,
            "align_self": null,
            "border": null,
            "bottom": null,
            "display": null,
            "flex": null,
            "flex_flow": null,
            "grid_area": null,
            "grid_auto_columns": null,
            "grid_auto_flow": null,
            "grid_auto_rows": null,
            "grid_column": null,
            "grid_gap": null,
            "grid_row": null,
            "grid_template_areas": null,
            "grid_template_columns": null,
            "grid_template_rows": null,
            "height": null,
            "justify_content": null,
            "justify_items": null,
            "left": null,
            "margin": null,
            "max_height": null,
            "max_width": null,
            "min_height": null,
            "min_width": null,
            "object_fit": null,
            "object_position": null,
            "order": null,
            "overflow": null,
            "overflow_x": null,
            "overflow_y": null,
            "padding": null,
            "right": null,
            "top": null,
            "visibility": null,
            "width": null
          }
        },
        "d11f816e09dd4553a7f8a0594c77a16b": {
          "model_module": "@jupyter-widgets/base",
          "model_name": "LayoutModel",
          "model_module_version": "1.2.0",
          "state": {
            "_model_module": "@jupyter-widgets/base",
            "_model_module_version": "1.2.0",
            "_model_name": "LayoutModel",
            "_view_count": null,
            "_view_module": "@jupyter-widgets/base",
            "_view_module_version": "1.2.0",
            "_view_name": "LayoutView",
            "align_content": null,
            "align_items": null,
            "align_self": null,
            "border": null,
            "bottom": null,
            "display": null,
            "flex": null,
            "flex_flow": null,
            "grid_area": null,
            "grid_auto_columns": null,
            "grid_auto_flow": null,
            "grid_auto_rows": null,
            "grid_column": null,
            "grid_gap": null,
            "grid_row": null,
            "grid_template_areas": null,
            "grid_template_columns": null,
            "grid_template_rows": null,
            "height": null,
            "justify_content": null,
            "justify_items": null,
            "left": null,
            "margin": null,
            "max_height": null,
            "max_width": null,
            "min_height": null,
            "min_width": null,
            "object_fit": null,
            "object_position": null,
            "order": null,
            "overflow": null,
            "overflow_x": null,
            "overflow_y": null,
            "padding": null,
            "right": null,
            "top": null,
            "visibility": null,
            "width": null
          }
        },
        "c0b9b265a23c49b4abcead43be35e8ee": {
          "model_module": "@jupyter-widgets/controls",
          "model_name": "DescriptionStyleModel",
          "model_module_version": "1.5.0",
          "state": {
            "_model_module": "@jupyter-widgets/controls",
            "_model_module_version": "1.5.0",
            "_model_name": "DescriptionStyleModel",
            "_view_count": null,
            "_view_module": "@jupyter-widgets/base",
            "_view_module_version": "1.2.0",
            "_view_name": "StyleView",
            "description_width": ""
          }
        },
        "a2ab754be62b4bb983aba54c3e8ba448": {
          "model_module": "@jupyter-widgets/base",
          "model_name": "LayoutModel",
          "model_module_version": "1.2.0",
          "state": {
            "_model_module": "@jupyter-widgets/base",
            "_model_module_version": "1.2.0",
            "_model_name": "LayoutModel",
            "_view_count": null,
            "_view_module": "@jupyter-widgets/base",
            "_view_module_version": "1.2.0",
            "_view_name": "LayoutView",
            "align_content": null,
            "align_items": null,
            "align_self": null,
            "border": null,
            "bottom": null,
            "display": null,
            "flex": null,
            "flex_flow": null,
            "grid_area": null,
            "grid_auto_columns": null,
            "grid_auto_flow": null,
            "grid_auto_rows": null,
            "grid_column": null,
            "grid_gap": null,
            "grid_row": null,
            "grid_template_areas": null,
            "grid_template_columns": null,
            "grid_template_rows": null,
            "height": null,
            "justify_content": null,
            "justify_items": null,
            "left": null,
            "margin": null,
            "max_height": null,
            "max_width": null,
            "min_height": null,
            "min_width": null,
            "object_fit": null,
            "object_position": null,
            "order": null,
            "overflow": null,
            "overflow_x": null,
            "overflow_y": null,
            "padding": null,
            "right": null,
            "top": null,
            "visibility": null,
            "width": null
          }
        },
        "caf81f8764ef402cb1dfa73e77f48851": {
          "model_module": "@jupyter-widgets/controls",
          "model_name": "ProgressStyleModel",
          "model_module_version": "1.5.0",
          "state": {
            "_model_module": "@jupyter-widgets/controls",
            "_model_module_version": "1.5.0",
            "_model_name": "ProgressStyleModel",
            "_view_count": null,
            "_view_module": "@jupyter-widgets/base",
            "_view_module_version": "1.2.0",
            "_view_name": "StyleView",
            "bar_color": null,
            "description_width": ""
          }
        },
        "f37bf1fdbb184e90846d1899b99c674e": {
          "model_module": "@jupyter-widgets/controls",
          "model_name": "VBoxModel",
          "model_module_version": "1.5.0",
          "state": {
            "_dom_classes": [],
            "_model_module": "@jupyter-widgets/controls",
            "_model_module_version": "1.5.0",
            "_model_name": "VBoxModel",
            "_view_count": null,
            "_view_module": "@jupyter-widgets/controls",
            "_view_module_version": "1.5.0",
            "_view_name": "VBoxView",
            "box_style": "",
            "children": [
              "IPY_MODEL_0fcea12d09d44663b10061744134bc21",
              "IPY_MODEL_72f107af458c44bd8df09574f08e2412"
            ],
            "layout": "IPY_MODEL_189abcc2b4934bfa8c55f005ffca4a8b"
          }
        },
        "0fcea12d09d44663b10061744134bc21": {
          "model_module": "@jupyter-widgets/controls",
          "model_name": "LabelModel",
          "model_module_version": "1.5.0",
          "state": {
            "_dom_classes": [],
            "_model_module": "@jupyter-widgets/controls",
            "_model_module_version": "1.5.0",
            "_model_name": "LabelModel",
            "_view_count": null,
            "_view_module": "@jupyter-widgets/controls",
            "_view_module_version": "1.5.0",
            "_view_name": "LabelView",
            "description": "",
            "description_tooltip": null,
            "layout": "IPY_MODEL_cc30e235dff04d158b09d2ef4fc13aec",
            "placeholder": "​",
            "style": "IPY_MODEL_8748646e8a0144abb2c887d7430dc7fa",
            "value": "0.010 MB of 0.010 MB uploaded (0.000 MB deduped)\r"
          }
        },
        "72f107af458c44bd8df09574f08e2412": {
          "model_module": "@jupyter-widgets/controls",
          "model_name": "FloatProgressModel",
          "model_module_version": "1.5.0",
          "state": {
            "_dom_classes": [],
            "_model_module": "@jupyter-widgets/controls",
            "_model_module_version": "1.5.0",
            "_model_name": "FloatProgressModel",
            "_view_count": null,
            "_view_module": "@jupyter-widgets/controls",
            "_view_module_version": "1.5.0",
            "_view_name": "ProgressView",
            "bar_style": "",
            "description": "",
            "description_tooltip": null,
            "layout": "IPY_MODEL_be63ae754de24e8ba435ec62e256bfcc",
            "max": 1,
            "min": 0,
            "orientation": "horizontal",
            "style": "IPY_MODEL_bb4615c8691c48eba8ea468f4aa3e338",
            "value": 1
          }
        },
        "189abcc2b4934bfa8c55f005ffca4a8b": {
          "model_module": "@jupyter-widgets/base",
          "model_name": "LayoutModel",
          "model_module_version": "1.2.0",
          "state": {
            "_model_module": "@jupyter-widgets/base",
            "_model_module_version": "1.2.0",
            "_model_name": "LayoutModel",
            "_view_count": null,
            "_view_module": "@jupyter-widgets/base",
            "_view_module_version": "1.2.0",
            "_view_name": "LayoutView",
            "align_content": null,
            "align_items": null,
            "align_self": null,
            "border": null,
            "bottom": null,
            "display": null,
            "flex": null,
            "flex_flow": null,
            "grid_area": null,
            "grid_auto_columns": null,
            "grid_auto_flow": null,
            "grid_auto_rows": null,
            "grid_column": null,
            "grid_gap": null,
            "grid_row": null,
            "grid_template_areas": null,
            "grid_template_columns": null,
            "grid_template_rows": null,
            "height": null,
            "justify_content": null,
            "justify_items": null,
            "left": null,
            "margin": null,
            "max_height": null,
            "max_width": null,
            "min_height": null,
            "min_width": null,
            "object_fit": null,
            "object_position": null,
            "order": null,
            "overflow": null,
            "overflow_x": null,
            "overflow_y": null,
            "padding": null,
            "right": null,
            "top": null,
            "visibility": null,
            "width": null
          }
        },
        "cc30e235dff04d158b09d2ef4fc13aec": {
          "model_module": "@jupyter-widgets/base",
          "model_name": "LayoutModel",
          "model_module_version": "1.2.0",
          "state": {
            "_model_module": "@jupyter-widgets/base",
            "_model_module_version": "1.2.0",
            "_model_name": "LayoutModel",
            "_view_count": null,
            "_view_module": "@jupyter-widgets/base",
            "_view_module_version": "1.2.0",
            "_view_name": "LayoutView",
            "align_content": null,
            "align_items": null,
            "align_self": null,
            "border": null,
            "bottom": null,
            "display": null,
            "flex": null,
            "flex_flow": null,
            "grid_area": null,
            "grid_auto_columns": null,
            "grid_auto_flow": null,
            "grid_auto_rows": null,
            "grid_column": null,
            "grid_gap": null,
            "grid_row": null,
            "grid_template_areas": null,
            "grid_template_columns": null,
            "grid_template_rows": null,
            "height": null,
            "justify_content": null,
            "justify_items": null,
            "left": null,
            "margin": null,
            "max_height": null,
            "max_width": null,
            "min_height": null,
            "min_width": null,
            "object_fit": null,
            "object_position": null,
            "order": null,
            "overflow": null,
            "overflow_x": null,
            "overflow_y": null,
            "padding": null,
            "right": null,
            "top": null,
            "visibility": null,
            "width": null
          }
        },
        "8748646e8a0144abb2c887d7430dc7fa": {
          "model_module": "@jupyter-widgets/controls",
          "model_name": "DescriptionStyleModel",
          "model_module_version": "1.5.0",
          "state": {
            "_model_module": "@jupyter-widgets/controls",
            "_model_module_version": "1.5.0",
            "_model_name": "DescriptionStyleModel",
            "_view_count": null,
            "_view_module": "@jupyter-widgets/base",
            "_view_module_version": "1.2.0",
            "_view_name": "StyleView",
            "description_width": ""
          }
        },
        "be63ae754de24e8ba435ec62e256bfcc": {
          "model_module": "@jupyter-widgets/base",
          "model_name": "LayoutModel",
          "model_module_version": "1.2.0",
          "state": {
            "_model_module": "@jupyter-widgets/base",
            "_model_module_version": "1.2.0",
            "_model_name": "LayoutModel",
            "_view_count": null,
            "_view_module": "@jupyter-widgets/base",
            "_view_module_version": "1.2.0",
            "_view_name": "LayoutView",
            "align_content": null,
            "align_items": null,
            "align_self": null,
            "border": null,
            "bottom": null,
            "display": null,
            "flex": null,
            "flex_flow": null,
            "grid_area": null,
            "grid_auto_columns": null,
            "grid_auto_flow": null,
            "grid_auto_rows": null,
            "grid_column": null,
            "grid_gap": null,
            "grid_row": null,
            "grid_template_areas": null,
            "grid_template_columns": null,
            "grid_template_rows": null,
            "height": null,
            "justify_content": null,
            "justify_items": null,
            "left": null,
            "margin": null,
            "max_height": null,
            "max_width": null,
            "min_height": null,
            "min_width": null,
            "object_fit": null,
            "object_position": null,
            "order": null,
            "overflow": null,
            "overflow_x": null,
            "overflow_y": null,
            "padding": null,
            "right": null,
            "top": null,
            "visibility": null,
            "width": null
          }
        },
        "bb4615c8691c48eba8ea468f4aa3e338": {
          "model_module": "@jupyter-widgets/controls",
          "model_name": "ProgressStyleModel",
          "model_module_version": "1.5.0",
          "state": {
            "_model_module": "@jupyter-widgets/controls",
            "_model_module_version": "1.5.0",
            "_model_name": "ProgressStyleModel",
            "_view_count": null,
            "_view_module": "@jupyter-widgets/base",
            "_view_module_version": "1.2.0",
            "_view_name": "StyleView",
            "bar_color": null,
            "description_width": ""
          }
        },
        "81ed8bb876e6409dba6a1091d70add68": {
          "model_module": "@jupyter-widgets/controls",
          "model_name": "VBoxModel",
          "model_module_version": "1.5.0",
          "state": {
            "_dom_classes": [],
            "_model_module": "@jupyter-widgets/controls",
            "_model_module_version": "1.5.0",
            "_model_name": "VBoxModel",
            "_view_count": null,
            "_view_module": "@jupyter-widgets/controls",
            "_view_module_version": "1.5.0",
            "_view_name": "VBoxView",
            "box_style": "",
            "children": [
              "IPY_MODEL_0b6c7dc270da40da86a02f0e001181bc",
              "IPY_MODEL_f840c39b9b0048028017675cc8e1dbb2"
            ],
            "layout": "IPY_MODEL_e54ea4d2eb99463493b43fc82f7a70a2"
          }
        },
        "0b6c7dc270da40da86a02f0e001181bc": {
          "model_module": "@jupyter-widgets/controls",
          "model_name": "LabelModel",
          "model_module_version": "1.5.0",
          "state": {
            "_dom_classes": [],
            "_model_module": "@jupyter-widgets/controls",
            "_model_module_version": "1.5.0",
            "_model_name": "LabelModel",
            "_view_count": null,
            "_view_module": "@jupyter-widgets/controls",
            "_view_module_version": "1.5.0",
            "_view_name": "LabelView",
            "description": "",
            "description_tooltip": null,
            "layout": "IPY_MODEL_e777bc70b547428d82311a1a6594bb82",
            "placeholder": "​",
            "style": "IPY_MODEL_c455ff0003bc4dce8deb7cd388cc8bbc",
            "value": "0.010 MB of 0.010 MB uploaded (0.000 MB deduped)\r"
          }
        },
        "f840c39b9b0048028017675cc8e1dbb2": {
          "model_module": "@jupyter-widgets/controls",
          "model_name": "FloatProgressModel",
          "model_module_version": "1.5.0",
          "state": {
            "_dom_classes": [],
            "_model_module": "@jupyter-widgets/controls",
            "_model_module_version": "1.5.0",
            "_model_name": "FloatProgressModel",
            "_view_count": null,
            "_view_module": "@jupyter-widgets/controls",
            "_view_module_version": "1.5.0",
            "_view_name": "ProgressView",
            "bar_style": "",
            "description": "",
            "description_tooltip": null,
            "layout": "IPY_MODEL_18fcb9ac9b0a4c2e9e723a175d5fd91c",
            "max": 1,
            "min": 0,
            "orientation": "horizontal",
            "style": "IPY_MODEL_72f37ade56094f2b9655dc3449090f07",
            "value": 1
          }
        },
        "e54ea4d2eb99463493b43fc82f7a70a2": {
          "model_module": "@jupyter-widgets/base",
          "model_name": "LayoutModel",
          "model_module_version": "1.2.0",
          "state": {
            "_model_module": "@jupyter-widgets/base",
            "_model_module_version": "1.2.0",
            "_model_name": "LayoutModel",
            "_view_count": null,
            "_view_module": "@jupyter-widgets/base",
            "_view_module_version": "1.2.0",
            "_view_name": "LayoutView",
            "align_content": null,
            "align_items": null,
            "align_self": null,
            "border": null,
            "bottom": null,
            "display": null,
            "flex": null,
            "flex_flow": null,
            "grid_area": null,
            "grid_auto_columns": null,
            "grid_auto_flow": null,
            "grid_auto_rows": null,
            "grid_column": null,
            "grid_gap": null,
            "grid_row": null,
            "grid_template_areas": null,
            "grid_template_columns": null,
            "grid_template_rows": null,
            "height": null,
            "justify_content": null,
            "justify_items": null,
            "left": null,
            "margin": null,
            "max_height": null,
            "max_width": null,
            "min_height": null,
            "min_width": null,
            "object_fit": null,
            "object_position": null,
            "order": null,
            "overflow": null,
            "overflow_x": null,
            "overflow_y": null,
            "padding": null,
            "right": null,
            "top": null,
            "visibility": null,
            "width": null
          }
        },
        "e777bc70b547428d82311a1a6594bb82": {
          "model_module": "@jupyter-widgets/base",
          "model_name": "LayoutModel",
          "model_module_version": "1.2.0",
          "state": {
            "_model_module": "@jupyter-widgets/base",
            "_model_module_version": "1.2.0",
            "_model_name": "LayoutModel",
            "_view_count": null,
            "_view_module": "@jupyter-widgets/base",
            "_view_module_version": "1.2.0",
            "_view_name": "LayoutView",
            "align_content": null,
            "align_items": null,
            "align_self": null,
            "border": null,
            "bottom": null,
            "display": null,
            "flex": null,
            "flex_flow": null,
            "grid_area": null,
            "grid_auto_columns": null,
            "grid_auto_flow": null,
            "grid_auto_rows": null,
            "grid_column": null,
            "grid_gap": null,
            "grid_row": null,
            "grid_template_areas": null,
            "grid_template_columns": null,
            "grid_template_rows": null,
            "height": null,
            "justify_content": null,
            "justify_items": null,
            "left": null,
            "margin": null,
            "max_height": null,
            "max_width": null,
            "min_height": null,
            "min_width": null,
            "object_fit": null,
            "object_position": null,
            "order": null,
            "overflow": null,
            "overflow_x": null,
            "overflow_y": null,
            "padding": null,
            "right": null,
            "top": null,
            "visibility": null,
            "width": null
          }
        },
        "c455ff0003bc4dce8deb7cd388cc8bbc": {
          "model_module": "@jupyter-widgets/controls",
          "model_name": "DescriptionStyleModel",
          "model_module_version": "1.5.0",
          "state": {
            "_model_module": "@jupyter-widgets/controls",
            "_model_module_version": "1.5.0",
            "_model_name": "DescriptionStyleModel",
            "_view_count": null,
            "_view_module": "@jupyter-widgets/base",
            "_view_module_version": "1.2.0",
            "_view_name": "StyleView",
            "description_width": ""
          }
        },
        "18fcb9ac9b0a4c2e9e723a175d5fd91c": {
          "model_module": "@jupyter-widgets/base",
          "model_name": "LayoutModel",
          "model_module_version": "1.2.0",
          "state": {
            "_model_module": "@jupyter-widgets/base",
            "_model_module_version": "1.2.0",
            "_model_name": "LayoutModel",
            "_view_count": null,
            "_view_module": "@jupyter-widgets/base",
            "_view_module_version": "1.2.0",
            "_view_name": "LayoutView",
            "align_content": null,
            "align_items": null,
            "align_self": null,
            "border": null,
            "bottom": null,
            "display": null,
            "flex": null,
            "flex_flow": null,
            "grid_area": null,
            "grid_auto_columns": null,
            "grid_auto_flow": null,
            "grid_auto_rows": null,
            "grid_column": null,
            "grid_gap": null,
            "grid_row": null,
            "grid_template_areas": null,
            "grid_template_columns": null,
            "grid_template_rows": null,
            "height": null,
            "justify_content": null,
            "justify_items": null,
            "left": null,
            "margin": null,
            "max_height": null,
            "max_width": null,
            "min_height": null,
            "min_width": null,
            "object_fit": null,
            "object_position": null,
            "order": null,
            "overflow": null,
            "overflow_x": null,
            "overflow_y": null,
            "padding": null,
            "right": null,
            "top": null,
            "visibility": null,
            "width": null
          }
        },
        "72f37ade56094f2b9655dc3449090f07": {
          "model_module": "@jupyter-widgets/controls",
          "model_name": "ProgressStyleModel",
          "model_module_version": "1.5.0",
          "state": {
            "_model_module": "@jupyter-widgets/controls",
            "_model_module_version": "1.5.0",
            "_model_name": "ProgressStyleModel",
            "_view_count": null,
            "_view_module": "@jupyter-widgets/base",
            "_view_module_version": "1.2.0",
            "_view_name": "StyleView",
            "bar_color": null,
            "description_width": ""
          }
        },
        "7a9ff33ce28f46e2a62f04beaaef8efb": {
          "model_module": "@jupyter-widgets/controls",
          "model_name": "VBoxModel",
          "model_module_version": "1.5.0",
          "state": {
            "_dom_classes": [],
            "_model_module": "@jupyter-widgets/controls",
            "_model_module_version": "1.5.0",
            "_model_name": "VBoxModel",
            "_view_count": null,
            "_view_module": "@jupyter-widgets/controls",
            "_view_module_version": "1.5.0",
            "_view_name": "VBoxView",
            "box_style": "",
            "children": [
              "IPY_MODEL_3d531c2239ed48fe97abd519ccc9184e",
              "IPY_MODEL_667bfbb6bd044e798b206400fdbf2e72"
            ],
            "layout": "IPY_MODEL_ea0857a8bed9421bbf864229c9f18cd8"
          }
        },
        "3d531c2239ed48fe97abd519ccc9184e": {
          "model_module": "@jupyter-widgets/controls",
          "model_name": "LabelModel",
          "model_module_version": "1.5.0",
          "state": {
            "_dom_classes": [],
            "_model_module": "@jupyter-widgets/controls",
            "_model_module_version": "1.5.0",
            "_model_name": "LabelModel",
            "_view_count": null,
            "_view_module": "@jupyter-widgets/controls",
            "_view_module_version": "1.5.0",
            "_view_name": "LabelView",
            "description": "",
            "description_tooltip": null,
            "layout": "IPY_MODEL_dd2d909382374e7b8ed65e1ad7b6eb93",
            "placeholder": "​",
            "style": "IPY_MODEL_0f1ca74342b541c7b44a69c5dfb5d400",
            "value": "0.010 MB of 0.010 MB uploaded (0.000 MB deduped)\r"
          }
        },
        "667bfbb6bd044e798b206400fdbf2e72": {
          "model_module": "@jupyter-widgets/controls",
          "model_name": "FloatProgressModel",
          "model_module_version": "1.5.0",
          "state": {
            "_dom_classes": [],
            "_model_module": "@jupyter-widgets/controls",
            "_model_module_version": "1.5.0",
            "_model_name": "FloatProgressModel",
            "_view_count": null,
            "_view_module": "@jupyter-widgets/controls",
            "_view_module_version": "1.5.0",
            "_view_name": "ProgressView",
            "bar_style": "",
            "description": "",
            "description_tooltip": null,
            "layout": "IPY_MODEL_31ef60f70ed440debd5731116862e143",
            "max": 1,
            "min": 0,
            "orientation": "horizontal",
            "style": "IPY_MODEL_4319dca961cb48d3903f3b7d80c20a8c",
            "value": 1
          }
        },
        "ea0857a8bed9421bbf864229c9f18cd8": {
          "model_module": "@jupyter-widgets/base",
          "model_name": "LayoutModel",
          "model_module_version": "1.2.0",
          "state": {
            "_model_module": "@jupyter-widgets/base",
            "_model_module_version": "1.2.0",
            "_model_name": "LayoutModel",
            "_view_count": null,
            "_view_module": "@jupyter-widgets/base",
            "_view_module_version": "1.2.0",
            "_view_name": "LayoutView",
            "align_content": null,
            "align_items": null,
            "align_self": null,
            "border": null,
            "bottom": null,
            "display": null,
            "flex": null,
            "flex_flow": null,
            "grid_area": null,
            "grid_auto_columns": null,
            "grid_auto_flow": null,
            "grid_auto_rows": null,
            "grid_column": null,
            "grid_gap": null,
            "grid_row": null,
            "grid_template_areas": null,
            "grid_template_columns": null,
            "grid_template_rows": null,
            "height": null,
            "justify_content": null,
            "justify_items": null,
            "left": null,
            "margin": null,
            "max_height": null,
            "max_width": null,
            "min_height": null,
            "min_width": null,
            "object_fit": null,
            "object_position": null,
            "order": null,
            "overflow": null,
            "overflow_x": null,
            "overflow_y": null,
            "padding": null,
            "right": null,
            "top": null,
            "visibility": null,
            "width": null
          }
        },
        "dd2d909382374e7b8ed65e1ad7b6eb93": {
          "model_module": "@jupyter-widgets/base",
          "model_name": "LayoutModel",
          "model_module_version": "1.2.0",
          "state": {
            "_model_module": "@jupyter-widgets/base",
            "_model_module_version": "1.2.0",
            "_model_name": "LayoutModel",
            "_view_count": null,
            "_view_module": "@jupyter-widgets/base",
            "_view_module_version": "1.2.0",
            "_view_name": "LayoutView",
            "align_content": null,
            "align_items": null,
            "align_self": null,
            "border": null,
            "bottom": null,
            "display": null,
            "flex": null,
            "flex_flow": null,
            "grid_area": null,
            "grid_auto_columns": null,
            "grid_auto_flow": null,
            "grid_auto_rows": null,
            "grid_column": null,
            "grid_gap": null,
            "grid_row": null,
            "grid_template_areas": null,
            "grid_template_columns": null,
            "grid_template_rows": null,
            "height": null,
            "justify_content": null,
            "justify_items": null,
            "left": null,
            "margin": null,
            "max_height": null,
            "max_width": null,
            "min_height": null,
            "min_width": null,
            "object_fit": null,
            "object_position": null,
            "order": null,
            "overflow": null,
            "overflow_x": null,
            "overflow_y": null,
            "padding": null,
            "right": null,
            "top": null,
            "visibility": null,
            "width": null
          }
        },
        "0f1ca74342b541c7b44a69c5dfb5d400": {
          "model_module": "@jupyter-widgets/controls",
          "model_name": "DescriptionStyleModel",
          "model_module_version": "1.5.0",
          "state": {
            "_model_module": "@jupyter-widgets/controls",
            "_model_module_version": "1.5.0",
            "_model_name": "DescriptionStyleModel",
            "_view_count": null,
            "_view_module": "@jupyter-widgets/base",
            "_view_module_version": "1.2.0",
            "_view_name": "StyleView",
            "description_width": ""
          }
        },
        "31ef60f70ed440debd5731116862e143": {
          "model_module": "@jupyter-widgets/base",
          "model_name": "LayoutModel",
          "model_module_version": "1.2.0",
          "state": {
            "_model_module": "@jupyter-widgets/base",
            "_model_module_version": "1.2.0",
            "_model_name": "LayoutModel",
            "_view_count": null,
            "_view_module": "@jupyter-widgets/base",
            "_view_module_version": "1.2.0",
            "_view_name": "LayoutView",
            "align_content": null,
            "align_items": null,
            "align_self": null,
            "border": null,
            "bottom": null,
            "display": null,
            "flex": null,
            "flex_flow": null,
            "grid_area": null,
            "grid_auto_columns": null,
            "grid_auto_flow": null,
            "grid_auto_rows": null,
            "grid_column": null,
            "grid_gap": null,
            "grid_row": null,
            "grid_template_areas": null,
            "grid_template_columns": null,
            "grid_template_rows": null,
            "height": null,
            "justify_content": null,
            "justify_items": null,
            "left": null,
            "margin": null,
            "max_height": null,
            "max_width": null,
            "min_height": null,
            "min_width": null,
            "object_fit": null,
            "object_position": null,
            "order": null,
            "overflow": null,
            "overflow_x": null,
            "overflow_y": null,
            "padding": null,
            "right": null,
            "top": null,
            "visibility": null,
            "width": null
          }
        },
        "4319dca961cb48d3903f3b7d80c20a8c": {
          "model_module": "@jupyter-widgets/controls",
          "model_name": "ProgressStyleModel",
          "model_module_version": "1.5.0",
          "state": {
            "_model_module": "@jupyter-widgets/controls",
            "_model_module_version": "1.5.0",
            "_model_name": "ProgressStyleModel",
            "_view_count": null,
            "_view_module": "@jupyter-widgets/base",
            "_view_module_version": "1.2.0",
            "_view_name": "StyleView",
            "bar_color": null,
            "description_width": ""
          }
        },
        "9abe5de70a8a4767ba98bb3941bcf9fd": {
          "model_module": "@jupyter-widgets/controls",
          "model_name": "VBoxModel",
          "model_module_version": "1.5.0",
          "state": {
            "_dom_classes": [],
            "_model_module": "@jupyter-widgets/controls",
            "_model_module_version": "1.5.0",
            "_model_name": "VBoxModel",
            "_view_count": null,
            "_view_module": "@jupyter-widgets/controls",
            "_view_module_version": "1.5.0",
            "_view_name": "VBoxView",
            "box_style": "",
            "children": [
              "IPY_MODEL_f606e7609929499297eb27e941cb8480",
              "IPY_MODEL_d2eebb741a91490dbcd6cd2a20c6bf88"
            ],
            "layout": "IPY_MODEL_8b4da1af6ee3435391ba917131201c92"
          }
        },
        "f606e7609929499297eb27e941cb8480": {
          "model_module": "@jupyter-widgets/controls",
          "model_name": "LabelModel",
          "model_module_version": "1.5.0",
          "state": {
            "_dom_classes": [],
            "_model_module": "@jupyter-widgets/controls",
            "_model_module_version": "1.5.0",
            "_model_name": "LabelModel",
            "_view_count": null,
            "_view_module": "@jupyter-widgets/controls",
            "_view_module_version": "1.5.0",
            "_view_name": "LabelView",
            "description": "",
            "description_tooltip": null,
            "layout": "IPY_MODEL_e0077a45391b48d18ac144dd976e13fe",
            "placeholder": "​",
            "style": "IPY_MODEL_62f9066bf3324c1b8ed1b5adef85709c",
            "value": "0.010 MB of 0.010 MB uploaded (0.000 MB deduped)\r"
          }
        },
        "d2eebb741a91490dbcd6cd2a20c6bf88": {
          "model_module": "@jupyter-widgets/controls",
          "model_name": "FloatProgressModel",
          "model_module_version": "1.5.0",
          "state": {
            "_dom_classes": [],
            "_model_module": "@jupyter-widgets/controls",
            "_model_module_version": "1.5.0",
            "_model_name": "FloatProgressModel",
            "_view_count": null,
            "_view_module": "@jupyter-widgets/controls",
            "_view_module_version": "1.5.0",
            "_view_name": "ProgressView",
            "bar_style": "",
            "description": "",
            "description_tooltip": null,
            "layout": "IPY_MODEL_9bfba02cca324af49a0929fbb3416959",
            "max": 1,
            "min": 0,
            "orientation": "horizontal",
            "style": "IPY_MODEL_666eb329eba645c0aa48692f4519481d",
            "value": 1
          }
        },
        "8b4da1af6ee3435391ba917131201c92": {
          "model_module": "@jupyter-widgets/base",
          "model_name": "LayoutModel",
          "model_module_version": "1.2.0",
          "state": {
            "_model_module": "@jupyter-widgets/base",
            "_model_module_version": "1.2.0",
            "_model_name": "LayoutModel",
            "_view_count": null,
            "_view_module": "@jupyter-widgets/base",
            "_view_module_version": "1.2.0",
            "_view_name": "LayoutView",
            "align_content": null,
            "align_items": null,
            "align_self": null,
            "border": null,
            "bottom": null,
            "display": null,
            "flex": null,
            "flex_flow": null,
            "grid_area": null,
            "grid_auto_columns": null,
            "grid_auto_flow": null,
            "grid_auto_rows": null,
            "grid_column": null,
            "grid_gap": null,
            "grid_row": null,
            "grid_template_areas": null,
            "grid_template_columns": null,
            "grid_template_rows": null,
            "height": null,
            "justify_content": null,
            "justify_items": null,
            "left": null,
            "margin": null,
            "max_height": null,
            "max_width": null,
            "min_height": null,
            "min_width": null,
            "object_fit": null,
            "object_position": null,
            "order": null,
            "overflow": null,
            "overflow_x": null,
            "overflow_y": null,
            "padding": null,
            "right": null,
            "top": null,
            "visibility": null,
            "width": null
          }
        },
        "e0077a45391b48d18ac144dd976e13fe": {
          "model_module": "@jupyter-widgets/base",
          "model_name": "LayoutModel",
          "model_module_version": "1.2.0",
          "state": {
            "_model_module": "@jupyter-widgets/base",
            "_model_module_version": "1.2.0",
            "_model_name": "LayoutModel",
            "_view_count": null,
            "_view_module": "@jupyter-widgets/base",
            "_view_module_version": "1.2.0",
            "_view_name": "LayoutView",
            "align_content": null,
            "align_items": null,
            "align_self": null,
            "border": null,
            "bottom": null,
            "display": null,
            "flex": null,
            "flex_flow": null,
            "grid_area": null,
            "grid_auto_columns": null,
            "grid_auto_flow": null,
            "grid_auto_rows": null,
            "grid_column": null,
            "grid_gap": null,
            "grid_row": null,
            "grid_template_areas": null,
            "grid_template_columns": null,
            "grid_template_rows": null,
            "height": null,
            "justify_content": null,
            "justify_items": null,
            "left": null,
            "margin": null,
            "max_height": null,
            "max_width": null,
            "min_height": null,
            "min_width": null,
            "object_fit": null,
            "object_position": null,
            "order": null,
            "overflow": null,
            "overflow_x": null,
            "overflow_y": null,
            "padding": null,
            "right": null,
            "top": null,
            "visibility": null,
            "width": null
          }
        },
        "62f9066bf3324c1b8ed1b5adef85709c": {
          "model_module": "@jupyter-widgets/controls",
          "model_name": "DescriptionStyleModel",
          "model_module_version": "1.5.0",
          "state": {
            "_model_module": "@jupyter-widgets/controls",
            "_model_module_version": "1.5.0",
            "_model_name": "DescriptionStyleModel",
            "_view_count": null,
            "_view_module": "@jupyter-widgets/base",
            "_view_module_version": "1.2.0",
            "_view_name": "StyleView",
            "description_width": ""
          }
        },
        "9bfba02cca324af49a0929fbb3416959": {
          "model_module": "@jupyter-widgets/base",
          "model_name": "LayoutModel",
          "model_module_version": "1.2.0",
          "state": {
            "_model_module": "@jupyter-widgets/base",
            "_model_module_version": "1.2.0",
            "_model_name": "LayoutModel",
            "_view_count": null,
            "_view_module": "@jupyter-widgets/base",
            "_view_module_version": "1.2.0",
            "_view_name": "LayoutView",
            "align_content": null,
            "align_items": null,
            "align_self": null,
            "border": null,
            "bottom": null,
            "display": null,
            "flex": null,
            "flex_flow": null,
            "grid_area": null,
            "grid_auto_columns": null,
            "grid_auto_flow": null,
            "grid_auto_rows": null,
            "grid_column": null,
            "grid_gap": null,
            "grid_row": null,
            "grid_template_areas": null,
            "grid_template_columns": null,
            "grid_template_rows": null,
            "height": null,
            "justify_content": null,
            "justify_items": null,
            "left": null,
            "margin": null,
            "max_height": null,
            "max_width": null,
            "min_height": null,
            "min_width": null,
            "object_fit": null,
            "object_position": null,
            "order": null,
            "overflow": null,
            "overflow_x": null,
            "overflow_y": null,
            "padding": null,
            "right": null,
            "top": null,
            "visibility": null,
            "width": null
          }
        },
        "666eb329eba645c0aa48692f4519481d": {
          "model_module": "@jupyter-widgets/controls",
          "model_name": "ProgressStyleModel",
          "model_module_version": "1.5.0",
          "state": {
            "_model_module": "@jupyter-widgets/controls",
            "_model_module_version": "1.5.0",
            "_model_name": "ProgressStyleModel",
            "_view_count": null,
            "_view_module": "@jupyter-widgets/base",
            "_view_module_version": "1.2.0",
            "_view_name": "StyleView",
            "bar_color": null,
            "description_width": ""
          }
        },
        "efdbfbf640c84cf5b1a51621557f54ce": {
          "model_module": "@jupyter-widgets/controls",
          "model_name": "VBoxModel",
          "model_module_version": "1.5.0",
          "state": {
            "_dom_classes": [],
            "_model_module": "@jupyter-widgets/controls",
            "_model_module_version": "1.5.0",
            "_model_name": "VBoxModel",
            "_view_count": null,
            "_view_module": "@jupyter-widgets/controls",
            "_view_module_version": "1.5.0",
            "_view_name": "VBoxView",
            "box_style": "",
            "children": [
              "IPY_MODEL_65b354e5a94842779c8a25805c9d9415",
              "IPY_MODEL_7fe2f1f47a944fb580d0df6ab1469f9e"
            ],
            "layout": "IPY_MODEL_ddff510f57094fd998b5024803d649e8"
          }
        },
        "65b354e5a94842779c8a25805c9d9415": {
          "model_module": "@jupyter-widgets/controls",
          "model_name": "LabelModel",
          "model_module_version": "1.5.0",
          "state": {
            "_dom_classes": [],
            "_model_module": "@jupyter-widgets/controls",
            "_model_module_version": "1.5.0",
            "_model_name": "LabelModel",
            "_view_count": null,
            "_view_module": "@jupyter-widgets/controls",
            "_view_module_version": "1.5.0",
            "_view_name": "LabelView",
            "description": "",
            "description_tooltip": null,
            "layout": "IPY_MODEL_de157c70fc2c4e2284472d34a4c7ab8a",
            "placeholder": "​",
            "style": "IPY_MODEL_e23571b6b401447686cc535382ae18ea",
            "value": "0.010 MB of 0.010 MB uploaded (0.000 MB deduped)\r"
          }
        },
        "7fe2f1f47a944fb580d0df6ab1469f9e": {
          "model_module": "@jupyter-widgets/controls",
          "model_name": "FloatProgressModel",
          "model_module_version": "1.5.0",
          "state": {
            "_dom_classes": [],
            "_model_module": "@jupyter-widgets/controls",
            "_model_module_version": "1.5.0",
            "_model_name": "FloatProgressModel",
            "_view_count": null,
            "_view_module": "@jupyter-widgets/controls",
            "_view_module_version": "1.5.0",
            "_view_name": "ProgressView",
            "bar_style": "",
            "description": "",
            "description_tooltip": null,
            "layout": "IPY_MODEL_67dff272d4144b70bed01060fe4cc3ef",
            "max": 1,
            "min": 0,
            "orientation": "horizontal",
            "style": "IPY_MODEL_932ac1a2a8f74c6c9ffd90cfcc4b0984",
            "value": 1
          }
        },
        "ddff510f57094fd998b5024803d649e8": {
          "model_module": "@jupyter-widgets/base",
          "model_name": "LayoutModel",
          "model_module_version": "1.2.0",
          "state": {
            "_model_module": "@jupyter-widgets/base",
            "_model_module_version": "1.2.0",
            "_model_name": "LayoutModel",
            "_view_count": null,
            "_view_module": "@jupyter-widgets/base",
            "_view_module_version": "1.2.0",
            "_view_name": "LayoutView",
            "align_content": null,
            "align_items": null,
            "align_self": null,
            "border": null,
            "bottom": null,
            "display": null,
            "flex": null,
            "flex_flow": null,
            "grid_area": null,
            "grid_auto_columns": null,
            "grid_auto_flow": null,
            "grid_auto_rows": null,
            "grid_column": null,
            "grid_gap": null,
            "grid_row": null,
            "grid_template_areas": null,
            "grid_template_columns": null,
            "grid_template_rows": null,
            "height": null,
            "justify_content": null,
            "justify_items": null,
            "left": null,
            "margin": null,
            "max_height": null,
            "max_width": null,
            "min_height": null,
            "min_width": null,
            "object_fit": null,
            "object_position": null,
            "order": null,
            "overflow": null,
            "overflow_x": null,
            "overflow_y": null,
            "padding": null,
            "right": null,
            "top": null,
            "visibility": null,
            "width": null
          }
        },
        "de157c70fc2c4e2284472d34a4c7ab8a": {
          "model_module": "@jupyter-widgets/base",
          "model_name": "LayoutModel",
          "model_module_version": "1.2.0",
          "state": {
            "_model_module": "@jupyter-widgets/base",
            "_model_module_version": "1.2.0",
            "_model_name": "LayoutModel",
            "_view_count": null,
            "_view_module": "@jupyter-widgets/base",
            "_view_module_version": "1.2.0",
            "_view_name": "LayoutView",
            "align_content": null,
            "align_items": null,
            "align_self": null,
            "border": null,
            "bottom": null,
            "display": null,
            "flex": null,
            "flex_flow": null,
            "grid_area": null,
            "grid_auto_columns": null,
            "grid_auto_flow": null,
            "grid_auto_rows": null,
            "grid_column": null,
            "grid_gap": null,
            "grid_row": null,
            "grid_template_areas": null,
            "grid_template_columns": null,
            "grid_template_rows": null,
            "height": null,
            "justify_content": null,
            "justify_items": null,
            "left": null,
            "margin": null,
            "max_height": null,
            "max_width": null,
            "min_height": null,
            "min_width": null,
            "object_fit": null,
            "object_position": null,
            "order": null,
            "overflow": null,
            "overflow_x": null,
            "overflow_y": null,
            "padding": null,
            "right": null,
            "top": null,
            "visibility": null,
            "width": null
          }
        },
        "e23571b6b401447686cc535382ae18ea": {
          "model_module": "@jupyter-widgets/controls",
          "model_name": "DescriptionStyleModel",
          "model_module_version": "1.5.0",
          "state": {
            "_model_module": "@jupyter-widgets/controls",
            "_model_module_version": "1.5.0",
            "_model_name": "DescriptionStyleModel",
            "_view_count": null,
            "_view_module": "@jupyter-widgets/base",
            "_view_module_version": "1.2.0",
            "_view_name": "StyleView",
            "description_width": ""
          }
        },
        "67dff272d4144b70bed01060fe4cc3ef": {
          "model_module": "@jupyter-widgets/base",
          "model_name": "LayoutModel",
          "model_module_version": "1.2.0",
          "state": {
            "_model_module": "@jupyter-widgets/base",
            "_model_module_version": "1.2.0",
            "_model_name": "LayoutModel",
            "_view_count": null,
            "_view_module": "@jupyter-widgets/base",
            "_view_module_version": "1.2.0",
            "_view_name": "LayoutView",
            "align_content": null,
            "align_items": null,
            "align_self": null,
            "border": null,
            "bottom": null,
            "display": null,
            "flex": null,
            "flex_flow": null,
            "grid_area": null,
            "grid_auto_columns": null,
            "grid_auto_flow": null,
            "grid_auto_rows": null,
            "grid_column": null,
            "grid_gap": null,
            "grid_row": null,
            "grid_template_areas": null,
            "grid_template_columns": null,
            "grid_template_rows": null,
            "height": null,
            "justify_content": null,
            "justify_items": null,
            "left": null,
            "margin": null,
            "max_height": null,
            "max_width": null,
            "min_height": null,
            "min_width": null,
            "object_fit": null,
            "object_position": null,
            "order": null,
            "overflow": null,
            "overflow_x": null,
            "overflow_y": null,
            "padding": null,
            "right": null,
            "top": null,
            "visibility": null,
            "width": null
          }
        },
        "932ac1a2a8f74c6c9ffd90cfcc4b0984": {
          "model_module": "@jupyter-widgets/controls",
          "model_name": "ProgressStyleModel",
          "model_module_version": "1.5.0",
          "state": {
            "_model_module": "@jupyter-widgets/controls",
            "_model_module_version": "1.5.0",
            "_model_name": "ProgressStyleModel",
            "_view_count": null,
            "_view_module": "@jupyter-widgets/base",
            "_view_module_version": "1.2.0",
            "_view_name": "StyleView",
            "bar_color": null,
            "description_width": ""
          }
        },
        "b88d35c5f95b4ed0b58fa0d1887470dd": {
          "model_module": "@jupyter-widgets/controls",
          "model_name": "VBoxModel",
          "model_module_version": "1.5.0",
          "state": {
            "_dom_classes": [],
            "_model_module": "@jupyter-widgets/controls",
            "_model_module_version": "1.5.0",
            "_model_name": "VBoxModel",
            "_view_count": null,
            "_view_module": "@jupyter-widgets/controls",
            "_view_module_version": "1.5.0",
            "_view_name": "VBoxView",
            "box_style": "",
            "children": [
              "IPY_MODEL_47ec19ed8536482483edb5d1905a765b",
              "IPY_MODEL_2c28a10e85e945568463cc11e93c646e"
            ],
            "layout": "IPY_MODEL_1edb3449f245459198b07777874181b1"
          }
        },
        "47ec19ed8536482483edb5d1905a765b": {
          "model_module": "@jupyter-widgets/controls",
          "model_name": "LabelModel",
          "model_module_version": "1.5.0",
          "state": {
            "_dom_classes": [],
            "_model_module": "@jupyter-widgets/controls",
            "_model_module_version": "1.5.0",
            "_model_name": "LabelModel",
            "_view_count": null,
            "_view_module": "@jupyter-widgets/controls",
            "_view_module_version": "1.5.0",
            "_view_name": "LabelView",
            "description": "",
            "description_tooltip": null,
            "layout": "IPY_MODEL_1e167513c3514b42aad2ded7154bc246",
            "placeholder": "​",
            "style": "IPY_MODEL_86adbb0b56eb4342a7724a8c50205ada",
            "value": "0.010 MB of 0.010 MB uploaded (0.000 MB deduped)\r"
          }
        },
        "2c28a10e85e945568463cc11e93c646e": {
          "model_module": "@jupyter-widgets/controls",
          "model_name": "FloatProgressModel",
          "model_module_version": "1.5.0",
          "state": {
            "_dom_classes": [],
            "_model_module": "@jupyter-widgets/controls",
            "_model_module_version": "1.5.0",
            "_model_name": "FloatProgressModel",
            "_view_count": null,
            "_view_module": "@jupyter-widgets/controls",
            "_view_module_version": "1.5.0",
            "_view_name": "ProgressView",
            "bar_style": "",
            "description": "",
            "description_tooltip": null,
            "layout": "IPY_MODEL_ead5805c680846f783a9aa0ce3093301",
            "max": 1,
            "min": 0,
            "orientation": "horizontal",
            "style": "IPY_MODEL_9383f3cef0d44ccba5bc1a0e7615df2c",
            "value": 1
          }
        },
        "1edb3449f245459198b07777874181b1": {
          "model_module": "@jupyter-widgets/base",
          "model_name": "LayoutModel",
          "model_module_version": "1.2.0",
          "state": {
            "_model_module": "@jupyter-widgets/base",
            "_model_module_version": "1.2.0",
            "_model_name": "LayoutModel",
            "_view_count": null,
            "_view_module": "@jupyter-widgets/base",
            "_view_module_version": "1.2.0",
            "_view_name": "LayoutView",
            "align_content": null,
            "align_items": null,
            "align_self": null,
            "border": null,
            "bottom": null,
            "display": null,
            "flex": null,
            "flex_flow": null,
            "grid_area": null,
            "grid_auto_columns": null,
            "grid_auto_flow": null,
            "grid_auto_rows": null,
            "grid_column": null,
            "grid_gap": null,
            "grid_row": null,
            "grid_template_areas": null,
            "grid_template_columns": null,
            "grid_template_rows": null,
            "height": null,
            "justify_content": null,
            "justify_items": null,
            "left": null,
            "margin": null,
            "max_height": null,
            "max_width": null,
            "min_height": null,
            "min_width": null,
            "object_fit": null,
            "object_position": null,
            "order": null,
            "overflow": null,
            "overflow_x": null,
            "overflow_y": null,
            "padding": null,
            "right": null,
            "top": null,
            "visibility": null,
            "width": null
          }
        },
        "1e167513c3514b42aad2ded7154bc246": {
          "model_module": "@jupyter-widgets/base",
          "model_name": "LayoutModel",
          "model_module_version": "1.2.0",
          "state": {
            "_model_module": "@jupyter-widgets/base",
            "_model_module_version": "1.2.0",
            "_model_name": "LayoutModel",
            "_view_count": null,
            "_view_module": "@jupyter-widgets/base",
            "_view_module_version": "1.2.0",
            "_view_name": "LayoutView",
            "align_content": null,
            "align_items": null,
            "align_self": null,
            "border": null,
            "bottom": null,
            "display": null,
            "flex": null,
            "flex_flow": null,
            "grid_area": null,
            "grid_auto_columns": null,
            "grid_auto_flow": null,
            "grid_auto_rows": null,
            "grid_column": null,
            "grid_gap": null,
            "grid_row": null,
            "grid_template_areas": null,
            "grid_template_columns": null,
            "grid_template_rows": null,
            "height": null,
            "justify_content": null,
            "justify_items": null,
            "left": null,
            "margin": null,
            "max_height": null,
            "max_width": null,
            "min_height": null,
            "min_width": null,
            "object_fit": null,
            "object_position": null,
            "order": null,
            "overflow": null,
            "overflow_x": null,
            "overflow_y": null,
            "padding": null,
            "right": null,
            "top": null,
            "visibility": null,
            "width": null
          }
        },
        "86adbb0b56eb4342a7724a8c50205ada": {
          "model_module": "@jupyter-widgets/controls",
          "model_name": "DescriptionStyleModel",
          "model_module_version": "1.5.0",
          "state": {
            "_model_module": "@jupyter-widgets/controls",
            "_model_module_version": "1.5.0",
            "_model_name": "DescriptionStyleModel",
            "_view_count": null,
            "_view_module": "@jupyter-widgets/base",
            "_view_module_version": "1.2.0",
            "_view_name": "StyleView",
            "description_width": ""
          }
        },
        "ead5805c680846f783a9aa0ce3093301": {
          "model_module": "@jupyter-widgets/base",
          "model_name": "LayoutModel",
          "model_module_version": "1.2.0",
          "state": {
            "_model_module": "@jupyter-widgets/base",
            "_model_module_version": "1.2.0",
            "_model_name": "LayoutModel",
            "_view_count": null,
            "_view_module": "@jupyter-widgets/base",
            "_view_module_version": "1.2.0",
            "_view_name": "LayoutView",
            "align_content": null,
            "align_items": null,
            "align_self": null,
            "border": null,
            "bottom": null,
            "display": null,
            "flex": null,
            "flex_flow": null,
            "grid_area": null,
            "grid_auto_columns": null,
            "grid_auto_flow": null,
            "grid_auto_rows": null,
            "grid_column": null,
            "grid_gap": null,
            "grid_row": null,
            "grid_template_areas": null,
            "grid_template_columns": null,
            "grid_template_rows": null,
            "height": null,
            "justify_content": null,
            "justify_items": null,
            "left": null,
            "margin": null,
            "max_height": null,
            "max_width": null,
            "min_height": null,
            "min_width": null,
            "object_fit": null,
            "object_position": null,
            "order": null,
            "overflow": null,
            "overflow_x": null,
            "overflow_y": null,
            "padding": null,
            "right": null,
            "top": null,
            "visibility": null,
            "width": null
          }
        },
        "9383f3cef0d44ccba5bc1a0e7615df2c": {
          "model_module": "@jupyter-widgets/controls",
          "model_name": "ProgressStyleModel",
          "model_module_version": "1.5.0",
          "state": {
            "_model_module": "@jupyter-widgets/controls",
            "_model_module_version": "1.5.0",
            "_model_name": "ProgressStyleModel",
            "_view_count": null,
            "_view_module": "@jupyter-widgets/base",
            "_view_module_version": "1.2.0",
            "_view_name": "StyleView",
            "bar_color": null,
            "description_width": ""
          }
        },
        "c051f0b131114905bb8d777c46e41d02": {
          "model_module": "@jupyter-widgets/controls",
          "model_name": "VBoxModel",
          "model_module_version": "1.5.0",
          "state": {
            "_dom_classes": [],
            "_model_module": "@jupyter-widgets/controls",
            "_model_module_version": "1.5.0",
            "_model_name": "VBoxModel",
            "_view_count": null,
            "_view_module": "@jupyter-widgets/controls",
            "_view_module_version": "1.5.0",
            "_view_name": "VBoxView",
            "box_style": "",
            "children": [
              "IPY_MODEL_85e1193ac04a4371aed440d13f4ff9e9",
              "IPY_MODEL_67cb798154004949846046c353d80d51"
            ],
            "layout": "IPY_MODEL_a7b88a639ce045268da6c60911a49242"
          }
        },
        "85e1193ac04a4371aed440d13f4ff9e9": {
          "model_module": "@jupyter-widgets/controls",
          "model_name": "LabelModel",
          "model_module_version": "1.5.0",
          "state": {
            "_dom_classes": [],
            "_model_module": "@jupyter-widgets/controls",
            "_model_module_version": "1.5.0",
            "_model_name": "LabelModel",
            "_view_count": null,
            "_view_module": "@jupyter-widgets/controls",
            "_view_module_version": "1.5.0",
            "_view_name": "LabelView",
            "description": "",
            "description_tooltip": null,
            "layout": "IPY_MODEL_541106548bcf4a47bee38fc096b782e8",
            "placeholder": "​",
            "style": "IPY_MODEL_1f422d6edfae4afdadcfa3cc238d2342",
            "value": "0.010 MB of 0.010 MB uploaded (0.000 MB deduped)\r"
          }
        },
        "67cb798154004949846046c353d80d51": {
          "model_module": "@jupyter-widgets/controls",
          "model_name": "FloatProgressModel",
          "model_module_version": "1.5.0",
          "state": {
            "_dom_classes": [],
            "_model_module": "@jupyter-widgets/controls",
            "_model_module_version": "1.5.0",
            "_model_name": "FloatProgressModel",
            "_view_count": null,
            "_view_module": "@jupyter-widgets/controls",
            "_view_module_version": "1.5.0",
            "_view_name": "ProgressView",
            "bar_style": "",
            "description": "",
            "description_tooltip": null,
            "layout": "IPY_MODEL_5ff7e8a1a62447d2a3026312e2bed4fd",
            "max": 1,
            "min": 0,
            "orientation": "horizontal",
            "style": "IPY_MODEL_69f7ae860bf04941a5e74f39bba21cf9",
            "value": 1
          }
        },
        "a7b88a639ce045268da6c60911a49242": {
          "model_module": "@jupyter-widgets/base",
          "model_name": "LayoutModel",
          "model_module_version": "1.2.0",
          "state": {
            "_model_module": "@jupyter-widgets/base",
            "_model_module_version": "1.2.0",
            "_model_name": "LayoutModel",
            "_view_count": null,
            "_view_module": "@jupyter-widgets/base",
            "_view_module_version": "1.2.0",
            "_view_name": "LayoutView",
            "align_content": null,
            "align_items": null,
            "align_self": null,
            "border": null,
            "bottom": null,
            "display": null,
            "flex": null,
            "flex_flow": null,
            "grid_area": null,
            "grid_auto_columns": null,
            "grid_auto_flow": null,
            "grid_auto_rows": null,
            "grid_column": null,
            "grid_gap": null,
            "grid_row": null,
            "grid_template_areas": null,
            "grid_template_columns": null,
            "grid_template_rows": null,
            "height": null,
            "justify_content": null,
            "justify_items": null,
            "left": null,
            "margin": null,
            "max_height": null,
            "max_width": null,
            "min_height": null,
            "min_width": null,
            "object_fit": null,
            "object_position": null,
            "order": null,
            "overflow": null,
            "overflow_x": null,
            "overflow_y": null,
            "padding": null,
            "right": null,
            "top": null,
            "visibility": null,
            "width": null
          }
        },
        "541106548bcf4a47bee38fc096b782e8": {
          "model_module": "@jupyter-widgets/base",
          "model_name": "LayoutModel",
          "model_module_version": "1.2.0",
          "state": {
            "_model_module": "@jupyter-widgets/base",
            "_model_module_version": "1.2.0",
            "_model_name": "LayoutModel",
            "_view_count": null,
            "_view_module": "@jupyter-widgets/base",
            "_view_module_version": "1.2.0",
            "_view_name": "LayoutView",
            "align_content": null,
            "align_items": null,
            "align_self": null,
            "border": null,
            "bottom": null,
            "display": null,
            "flex": null,
            "flex_flow": null,
            "grid_area": null,
            "grid_auto_columns": null,
            "grid_auto_flow": null,
            "grid_auto_rows": null,
            "grid_column": null,
            "grid_gap": null,
            "grid_row": null,
            "grid_template_areas": null,
            "grid_template_columns": null,
            "grid_template_rows": null,
            "height": null,
            "justify_content": null,
            "justify_items": null,
            "left": null,
            "margin": null,
            "max_height": null,
            "max_width": null,
            "min_height": null,
            "min_width": null,
            "object_fit": null,
            "object_position": null,
            "order": null,
            "overflow": null,
            "overflow_x": null,
            "overflow_y": null,
            "padding": null,
            "right": null,
            "top": null,
            "visibility": null,
            "width": null
          }
        },
        "1f422d6edfae4afdadcfa3cc238d2342": {
          "model_module": "@jupyter-widgets/controls",
          "model_name": "DescriptionStyleModel",
          "model_module_version": "1.5.0",
          "state": {
            "_model_module": "@jupyter-widgets/controls",
            "_model_module_version": "1.5.0",
            "_model_name": "DescriptionStyleModel",
            "_view_count": null,
            "_view_module": "@jupyter-widgets/base",
            "_view_module_version": "1.2.0",
            "_view_name": "StyleView",
            "description_width": ""
          }
        },
        "5ff7e8a1a62447d2a3026312e2bed4fd": {
          "model_module": "@jupyter-widgets/base",
          "model_name": "LayoutModel",
          "model_module_version": "1.2.0",
          "state": {
            "_model_module": "@jupyter-widgets/base",
            "_model_module_version": "1.2.0",
            "_model_name": "LayoutModel",
            "_view_count": null,
            "_view_module": "@jupyter-widgets/base",
            "_view_module_version": "1.2.0",
            "_view_name": "LayoutView",
            "align_content": null,
            "align_items": null,
            "align_self": null,
            "border": null,
            "bottom": null,
            "display": null,
            "flex": null,
            "flex_flow": null,
            "grid_area": null,
            "grid_auto_columns": null,
            "grid_auto_flow": null,
            "grid_auto_rows": null,
            "grid_column": null,
            "grid_gap": null,
            "grid_row": null,
            "grid_template_areas": null,
            "grid_template_columns": null,
            "grid_template_rows": null,
            "height": null,
            "justify_content": null,
            "justify_items": null,
            "left": null,
            "margin": null,
            "max_height": null,
            "max_width": null,
            "min_height": null,
            "min_width": null,
            "object_fit": null,
            "object_position": null,
            "order": null,
            "overflow": null,
            "overflow_x": null,
            "overflow_y": null,
            "padding": null,
            "right": null,
            "top": null,
            "visibility": null,
            "width": null
          }
        },
        "69f7ae860bf04941a5e74f39bba21cf9": {
          "model_module": "@jupyter-widgets/controls",
          "model_name": "ProgressStyleModel",
          "model_module_version": "1.5.0",
          "state": {
            "_model_module": "@jupyter-widgets/controls",
            "_model_module_version": "1.5.0",
            "_model_name": "ProgressStyleModel",
            "_view_count": null,
            "_view_module": "@jupyter-widgets/base",
            "_view_module_version": "1.2.0",
            "_view_name": "StyleView",
            "bar_color": null,
            "description_width": ""
          }
        },
        "4da7c984d5b64e99821088fb7e78f037": {
          "model_module": "@jupyter-widgets/controls",
          "model_name": "VBoxModel",
          "model_module_version": "1.5.0",
          "state": {
            "_dom_classes": [],
            "_model_module": "@jupyter-widgets/controls",
            "_model_module_version": "1.5.0",
            "_model_name": "VBoxModel",
            "_view_count": null,
            "_view_module": "@jupyter-widgets/controls",
            "_view_module_version": "1.5.0",
            "_view_name": "VBoxView",
            "box_style": "",
            "children": [
              "IPY_MODEL_05ba23a42a7b42c396dd74b031324ed1",
              "IPY_MODEL_5b25b8d29ceb42668f9ac7d42bb5c130"
            ],
            "layout": "IPY_MODEL_7a032ff1e15b4380acb82578adc708d8"
          }
        },
        "05ba23a42a7b42c396dd74b031324ed1": {
          "model_module": "@jupyter-widgets/controls",
          "model_name": "LabelModel",
          "model_module_version": "1.5.0",
          "state": {
            "_dom_classes": [],
            "_model_module": "@jupyter-widgets/controls",
            "_model_module_version": "1.5.0",
            "_model_name": "LabelModel",
            "_view_count": null,
            "_view_module": "@jupyter-widgets/controls",
            "_view_module_version": "1.5.0",
            "_view_name": "LabelView",
            "description": "",
            "description_tooltip": null,
            "layout": "IPY_MODEL_90f7a85f32564d18a607bb18a055eb79",
            "placeholder": "​",
            "style": "IPY_MODEL_ca39bf2a888d49568d552534e07b85fd",
            "value": "0.010 MB of 0.010 MB uploaded (0.000 MB deduped)\r"
          }
        },
        "5b25b8d29ceb42668f9ac7d42bb5c130": {
          "model_module": "@jupyter-widgets/controls",
          "model_name": "FloatProgressModel",
          "model_module_version": "1.5.0",
          "state": {
            "_dom_classes": [],
            "_model_module": "@jupyter-widgets/controls",
            "_model_module_version": "1.5.0",
            "_model_name": "FloatProgressModel",
            "_view_count": null,
            "_view_module": "@jupyter-widgets/controls",
            "_view_module_version": "1.5.0",
            "_view_name": "ProgressView",
            "bar_style": "",
            "description": "",
            "description_tooltip": null,
            "layout": "IPY_MODEL_9c105cd38d0b4d3a8f7e33b5795d856b",
            "max": 1,
            "min": 0,
            "orientation": "horizontal",
            "style": "IPY_MODEL_f4bb5de38e7d48e5877e6f4847220e7f",
            "value": 1
          }
        },
        "7a032ff1e15b4380acb82578adc708d8": {
          "model_module": "@jupyter-widgets/base",
          "model_name": "LayoutModel",
          "model_module_version": "1.2.0",
          "state": {
            "_model_module": "@jupyter-widgets/base",
            "_model_module_version": "1.2.0",
            "_model_name": "LayoutModel",
            "_view_count": null,
            "_view_module": "@jupyter-widgets/base",
            "_view_module_version": "1.2.0",
            "_view_name": "LayoutView",
            "align_content": null,
            "align_items": null,
            "align_self": null,
            "border": null,
            "bottom": null,
            "display": null,
            "flex": null,
            "flex_flow": null,
            "grid_area": null,
            "grid_auto_columns": null,
            "grid_auto_flow": null,
            "grid_auto_rows": null,
            "grid_column": null,
            "grid_gap": null,
            "grid_row": null,
            "grid_template_areas": null,
            "grid_template_columns": null,
            "grid_template_rows": null,
            "height": null,
            "justify_content": null,
            "justify_items": null,
            "left": null,
            "margin": null,
            "max_height": null,
            "max_width": null,
            "min_height": null,
            "min_width": null,
            "object_fit": null,
            "object_position": null,
            "order": null,
            "overflow": null,
            "overflow_x": null,
            "overflow_y": null,
            "padding": null,
            "right": null,
            "top": null,
            "visibility": null,
            "width": null
          }
        },
        "90f7a85f32564d18a607bb18a055eb79": {
          "model_module": "@jupyter-widgets/base",
          "model_name": "LayoutModel",
          "model_module_version": "1.2.0",
          "state": {
            "_model_module": "@jupyter-widgets/base",
            "_model_module_version": "1.2.0",
            "_model_name": "LayoutModel",
            "_view_count": null,
            "_view_module": "@jupyter-widgets/base",
            "_view_module_version": "1.2.0",
            "_view_name": "LayoutView",
            "align_content": null,
            "align_items": null,
            "align_self": null,
            "border": null,
            "bottom": null,
            "display": null,
            "flex": null,
            "flex_flow": null,
            "grid_area": null,
            "grid_auto_columns": null,
            "grid_auto_flow": null,
            "grid_auto_rows": null,
            "grid_column": null,
            "grid_gap": null,
            "grid_row": null,
            "grid_template_areas": null,
            "grid_template_columns": null,
            "grid_template_rows": null,
            "height": null,
            "justify_content": null,
            "justify_items": null,
            "left": null,
            "margin": null,
            "max_height": null,
            "max_width": null,
            "min_height": null,
            "min_width": null,
            "object_fit": null,
            "object_position": null,
            "order": null,
            "overflow": null,
            "overflow_x": null,
            "overflow_y": null,
            "padding": null,
            "right": null,
            "top": null,
            "visibility": null,
            "width": null
          }
        },
        "ca39bf2a888d49568d552534e07b85fd": {
          "model_module": "@jupyter-widgets/controls",
          "model_name": "DescriptionStyleModel",
          "model_module_version": "1.5.0",
          "state": {
            "_model_module": "@jupyter-widgets/controls",
            "_model_module_version": "1.5.0",
            "_model_name": "DescriptionStyleModel",
            "_view_count": null,
            "_view_module": "@jupyter-widgets/base",
            "_view_module_version": "1.2.0",
            "_view_name": "StyleView",
            "description_width": ""
          }
        },
        "9c105cd38d0b4d3a8f7e33b5795d856b": {
          "model_module": "@jupyter-widgets/base",
          "model_name": "LayoutModel",
          "model_module_version": "1.2.0",
          "state": {
            "_model_module": "@jupyter-widgets/base",
            "_model_module_version": "1.2.0",
            "_model_name": "LayoutModel",
            "_view_count": null,
            "_view_module": "@jupyter-widgets/base",
            "_view_module_version": "1.2.0",
            "_view_name": "LayoutView",
            "align_content": null,
            "align_items": null,
            "align_self": null,
            "border": null,
            "bottom": null,
            "display": null,
            "flex": null,
            "flex_flow": null,
            "grid_area": null,
            "grid_auto_columns": null,
            "grid_auto_flow": null,
            "grid_auto_rows": null,
            "grid_column": null,
            "grid_gap": null,
            "grid_row": null,
            "grid_template_areas": null,
            "grid_template_columns": null,
            "grid_template_rows": null,
            "height": null,
            "justify_content": null,
            "justify_items": null,
            "left": null,
            "margin": null,
            "max_height": null,
            "max_width": null,
            "min_height": null,
            "min_width": null,
            "object_fit": null,
            "object_position": null,
            "order": null,
            "overflow": null,
            "overflow_x": null,
            "overflow_y": null,
            "padding": null,
            "right": null,
            "top": null,
            "visibility": null,
            "width": null
          }
        },
        "f4bb5de38e7d48e5877e6f4847220e7f": {
          "model_module": "@jupyter-widgets/controls",
          "model_name": "ProgressStyleModel",
          "model_module_version": "1.5.0",
          "state": {
            "_model_module": "@jupyter-widgets/controls",
            "_model_module_version": "1.5.0",
            "_model_name": "ProgressStyleModel",
            "_view_count": null,
            "_view_module": "@jupyter-widgets/base",
            "_view_module_version": "1.2.0",
            "_view_name": "StyleView",
            "bar_color": null,
            "description_width": ""
          }
        },
        "08b1159fab85437c9bf81807111cd215": {
          "model_module": "@jupyter-widgets/controls",
          "model_name": "VBoxModel",
          "model_module_version": "1.5.0",
          "state": {
            "_dom_classes": [],
            "_model_module": "@jupyter-widgets/controls",
            "_model_module_version": "1.5.0",
            "_model_name": "VBoxModel",
            "_view_count": null,
            "_view_module": "@jupyter-widgets/controls",
            "_view_module_version": "1.5.0",
            "_view_name": "VBoxView",
            "box_style": "",
            "children": [
              "IPY_MODEL_c6dbcede707d45fa8c6fc3d0898af15a",
              "IPY_MODEL_689711b9ebac419495fc23180ac26439"
            ],
            "layout": "IPY_MODEL_77249580e5054beeb38e70afefbe44c9"
          }
        },
        "c6dbcede707d45fa8c6fc3d0898af15a": {
          "model_module": "@jupyter-widgets/controls",
          "model_name": "LabelModel",
          "model_module_version": "1.5.0",
          "state": {
            "_dom_classes": [],
            "_model_module": "@jupyter-widgets/controls",
            "_model_module_version": "1.5.0",
            "_model_name": "LabelModel",
            "_view_count": null,
            "_view_module": "@jupyter-widgets/controls",
            "_view_module_version": "1.5.0",
            "_view_name": "LabelView",
            "description": "",
            "description_tooltip": null,
            "layout": "IPY_MODEL_ca5077eaa22547859096322e6680bffd",
            "placeholder": "​",
            "style": "IPY_MODEL_eb815798b87840358983cce4c1280453",
            "value": "0.011 MB of 0.011 MB uploaded (0.000 MB deduped)\r"
          }
        },
        "689711b9ebac419495fc23180ac26439": {
          "model_module": "@jupyter-widgets/controls",
          "model_name": "FloatProgressModel",
          "model_module_version": "1.5.0",
          "state": {
            "_dom_classes": [],
            "_model_module": "@jupyter-widgets/controls",
            "_model_module_version": "1.5.0",
            "_model_name": "FloatProgressModel",
            "_view_count": null,
            "_view_module": "@jupyter-widgets/controls",
            "_view_module_version": "1.5.0",
            "_view_name": "ProgressView",
            "bar_style": "",
            "description": "",
            "description_tooltip": null,
            "layout": "IPY_MODEL_46e75839f8be4b338e7b5ccd39cf0474",
            "max": 1,
            "min": 0,
            "orientation": "horizontal",
            "style": "IPY_MODEL_91564c152e66404782d8cd4cd5c93758",
            "value": 1
          }
        },
        "77249580e5054beeb38e70afefbe44c9": {
          "model_module": "@jupyter-widgets/base",
          "model_name": "LayoutModel",
          "model_module_version": "1.2.0",
          "state": {
            "_model_module": "@jupyter-widgets/base",
            "_model_module_version": "1.2.0",
            "_model_name": "LayoutModel",
            "_view_count": null,
            "_view_module": "@jupyter-widgets/base",
            "_view_module_version": "1.2.0",
            "_view_name": "LayoutView",
            "align_content": null,
            "align_items": null,
            "align_self": null,
            "border": null,
            "bottom": null,
            "display": null,
            "flex": null,
            "flex_flow": null,
            "grid_area": null,
            "grid_auto_columns": null,
            "grid_auto_flow": null,
            "grid_auto_rows": null,
            "grid_column": null,
            "grid_gap": null,
            "grid_row": null,
            "grid_template_areas": null,
            "grid_template_columns": null,
            "grid_template_rows": null,
            "height": null,
            "justify_content": null,
            "justify_items": null,
            "left": null,
            "margin": null,
            "max_height": null,
            "max_width": null,
            "min_height": null,
            "min_width": null,
            "object_fit": null,
            "object_position": null,
            "order": null,
            "overflow": null,
            "overflow_x": null,
            "overflow_y": null,
            "padding": null,
            "right": null,
            "top": null,
            "visibility": null,
            "width": null
          }
        },
        "ca5077eaa22547859096322e6680bffd": {
          "model_module": "@jupyter-widgets/base",
          "model_name": "LayoutModel",
          "model_module_version": "1.2.0",
          "state": {
            "_model_module": "@jupyter-widgets/base",
            "_model_module_version": "1.2.0",
            "_model_name": "LayoutModel",
            "_view_count": null,
            "_view_module": "@jupyter-widgets/base",
            "_view_module_version": "1.2.0",
            "_view_name": "LayoutView",
            "align_content": null,
            "align_items": null,
            "align_self": null,
            "border": null,
            "bottom": null,
            "display": null,
            "flex": null,
            "flex_flow": null,
            "grid_area": null,
            "grid_auto_columns": null,
            "grid_auto_flow": null,
            "grid_auto_rows": null,
            "grid_column": null,
            "grid_gap": null,
            "grid_row": null,
            "grid_template_areas": null,
            "grid_template_columns": null,
            "grid_template_rows": null,
            "height": null,
            "justify_content": null,
            "justify_items": null,
            "left": null,
            "margin": null,
            "max_height": null,
            "max_width": null,
            "min_height": null,
            "min_width": null,
            "object_fit": null,
            "object_position": null,
            "order": null,
            "overflow": null,
            "overflow_x": null,
            "overflow_y": null,
            "padding": null,
            "right": null,
            "top": null,
            "visibility": null,
            "width": null
          }
        },
        "eb815798b87840358983cce4c1280453": {
          "model_module": "@jupyter-widgets/controls",
          "model_name": "DescriptionStyleModel",
          "model_module_version": "1.5.0",
          "state": {
            "_model_module": "@jupyter-widgets/controls",
            "_model_module_version": "1.5.0",
            "_model_name": "DescriptionStyleModel",
            "_view_count": null,
            "_view_module": "@jupyter-widgets/base",
            "_view_module_version": "1.2.0",
            "_view_name": "StyleView",
            "description_width": ""
          }
        },
        "46e75839f8be4b338e7b5ccd39cf0474": {
          "model_module": "@jupyter-widgets/base",
          "model_name": "LayoutModel",
          "model_module_version": "1.2.0",
          "state": {
            "_model_module": "@jupyter-widgets/base",
            "_model_module_version": "1.2.0",
            "_model_name": "LayoutModel",
            "_view_count": null,
            "_view_module": "@jupyter-widgets/base",
            "_view_module_version": "1.2.0",
            "_view_name": "LayoutView",
            "align_content": null,
            "align_items": null,
            "align_self": null,
            "border": null,
            "bottom": null,
            "display": null,
            "flex": null,
            "flex_flow": null,
            "grid_area": null,
            "grid_auto_columns": null,
            "grid_auto_flow": null,
            "grid_auto_rows": null,
            "grid_column": null,
            "grid_gap": null,
            "grid_row": null,
            "grid_template_areas": null,
            "grid_template_columns": null,
            "grid_template_rows": null,
            "height": null,
            "justify_content": null,
            "justify_items": null,
            "left": null,
            "margin": null,
            "max_height": null,
            "max_width": null,
            "min_height": null,
            "min_width": null,
            "object_fit": null,
            "object_position": null,
            "order": null,
            "overflow": null,
            "overflow_x": null,
            "overflow_y": null,
            "padding": null,
            "right": null,
            "top": null,
            "visibility": null,
            "width": null
          }
        },
        "91564c152e66404782d8cd4cd5c93758": {
          "model_module": "@jupyter-widgets/controls",
          "model_name": "ProgressStyleModel",
          "model_module_version": "1.5.0",
          "state": {
            "_model_module": "@jupyter-widgets/controls",
            "_model_module_version": "1.5.0",
            "_model_name": "ProgressStyleModel",
            "_view_count": null,
            "_view_module": "@jupyter-widgets/base",
            "_view_module_version": "1.2.0",
            "_view_name": "StyleView",
            "bar_color": null,
            "description_width": ""
          }
        },
        "e74dba3efdb948c380fdac99b96c8688": {
          "model_module": "@jupyter-widgets/controls",
          "model_name": "VBoxModel",
          "model_module_version": "1.5.0",
          "state": {
            "_dom_classes": [],
            "_model_module": "@jupyter-widgets/controls",
            "_model_module_version": "1.5.0",
            "_model_name": "VBoxModel",
            "_view_count": null,
            "_view_module": "@jupyter-widgets/controls",
            "_view_module_version": "1.5.0",
            "_view_name": "VBoxView",
            "box_style": "",
            "children": [
              "IPY_MODEL_73c4fe78b33a43808b805571d5b54e6f",
              "IPY_MODEL_dc24aec1949d41838d9865b040258acf"
            ],
            "layout": "IPY_MODEL_0cc21decd28c4c3e8838a73c6e01d9fc"
          }
        },
        "73c4fe78b33a43808b805571d5b54e6f": {
          "model_module": "@jupyter-widgets/controls",
          "model_name": "LabelModel",
          "model_module_version": "1.5.0",
          "state": {
            "_dom_classes": [],
            "_model_module": "@jupyter-widgets/controls",
            "_model_module_version": "1.5.0",
            "_model_name": "LabelModel",
            "_view_count": null,
            "_view_module": "@jupyter-widgets/controls",
            "_view_module_version": "1.5.0",
            "_view_name": "LabelView",
            "description": "",
            "description_tooltip": null,
            "layout": "IPY_MODEL_1f93f49fb4a540d296d485569ce47f59",
            "placeholder": "​",
            "style": "IPY_MODEL_81f8a1aa1ab3488b90172e2eaf754866",
            "value": "0.011 MB of 0.011 MB uploaded (0.000 MB deduped)\r"
          }
        },
        "dc24aec1949d41838d9865b040258acf": {
          "model_module": "@jupyter-widgets/controls",
          "model_name": "FloatProgressModel",
          "model_module_version": "1.5.0",
          "state": {
            "_dom_classes": [],
            "_model_module": "@jupyter-widgets/controls",
            "_model_module_version": "1.5.0",
            "_model_name": "FloatProgressModel",
            "_view_count": null,
            "_view_module": "@jupyter-widgets/controls",
            "_view_module_version": "1.5.0",
            "_view_name": "ProgressView",
            "bar_style": "",
            "description": "",
            "description_tooltip": null,
            "layout": "IPY_MODEL_ae7b388add2c4be68e8ed200e423cb7e",
            "max": 1,
            "min": 0,
            "orientation": "horizontal",
            "style": "IPY_MODEL_aa20c121382843e494afda17d6750596",
            "value": 1
          }
        },
        "0cc21decd28c4c3e8838a73c6e01d9fc": {
          "model_module": "@jupyter-widgets/base",
          "model_name": "LayoutModel",
          "model_module_version": "1.2.0",
          "state": {
            "_model_module": "@jupyter-widgets/base",
            "_model_module_version": "1.2.0",
            "_model_name": "LayoutModel",
            "_view_count": null,
            "_view_module": "@jupyter-widgets/base",
            "_view_module_version": "1.2.0",
            "_view_name": "LayoutView",
            "align_content": null,
            "align_items": null,
            "align_self": null,
            "border": null,
            "bottom": null,
            "display": null,
            "flex": null,
            "flex_flow": null,
            "grid_area": null,
            "grid_auto_columns": null,
            "grid_auto_flow": null,
            "grid_auto_rows": null,
            "grid_column": null,
            "grid_gap": null,
            "grid_row": null,
            "grid_template_areas": null,
            "grid_template_columns": null,
            "grid_template_rows": null,
            "height": null,
            "justify_content": null,
            "justify_items": null,
            "left": null,
            "margin": null,
            "max_height": null,
            "max_width": null,
            "min_height": null,
            "min_width": null,
            "object_fit": null,
            "object_position": null,
            "order": null,
            "overflow": null,
            "overflow_x": null,
            "overflow_y": null,
            "padding": null,
            "right": null,
            "top": null,
            "visibility": null,
            "width": null
          }
        },
        "1f93f49fb4a540d296d485569ce47f59": {
          "model_module": "@jupyter-widgets/base",
          "model_name": "LayoutModel",
          "model_module_version": "1.2.0",
          "state": {
            "_model_module": "@jupyter-widgets/base",
            "_model_module_version": "1.2.0",
            "_model_name": "LayoutModel",
            "_view_count": null,
            "_view_module": "@jupyter-widgets/base",
            "_view_module_version": "1.2.0",
            "_view_name": "LayoutView",
            "align_content": null,
            "align_items": null,
            "align_self": null,
            "border": null,
            "bottom": null,
            "display": null,
            "flex": null,
            "flex_flow": null,
            "grid_area": null,
            "grid_auto_columns": null,
            "grid_auto_flow": null,
            "grid_auto_rows": null,
            "grid_column": null,
            "grid_gap": null,
            "grid_row": null,
            "grid_template_areas": null,
            "grid_template_columns": null,
            "grid_template_rows": null,
            "height": null,
            "justify_content": null,
            "justify_items": null,
            "left": null,
            "margin": null,
            "max_height": null,
            "max_width": null,
            "min_height": null,
            "min_width": null,
            "object_fit": null,
            "object_position": null,
            "order": null,
            "overflow": null,
            "overflow_x": null,
            "overflow_y": null,
            "padding": null,
            "right": null,
            "top": null,
            "visibility": null,
            "width": null
          }
        },
        "81f8a1aa1ab3488b90172e2eaf754866": {
          "model_module": "@jupyter-widgets/controls",
          "model_name": "DescriptionStyleModel",
          "model_module_version": "1.5.0",
          "state": {
            "_model_module": "@jupyter-widgets/controls",
            "_model_module_version": "1.5.0",
            "_model_name": "DescriptionStyleModel",
            "_view_count": null,
            "_view_module": "@jupyter-widgets/base",
            "_view_module_version": "1.2.0",
            "_view_name": "StyleView",
            "description_width": ""
          }
        },
        "ae7b388add2c4be68e8ed200e423cb7e": {
          "model_module": "@jupyter-widgets/base",
          "model_name": "LayoutModel",
          "model_module_version": "1.2.0",
          "state": {
            "_model_module": "@jupyter-widgets/base",
            "_model_module_version": "1.2.0",
            "_model_name": "LayoutModel",
            "_view_count": null,
            "_view_module": "@jupyter-widgets/base",
            "_view_module_version": "1.2.0",
            "_view_name": "LayoutView",
            "align_content": null,
            "align_items": null,
            "align_self": null,
            "border": null,
            "bottom": null,
            "display": null,
            "flex": null,
            "flex_flow": null,
            "grid_area": null,
            "grid_auto_columns": null,
            "grid_auto_flow": null,
            "grid_auto_rows": null,
            "grid_column": null,
            "grid_gap": null,
            "grid_row": null,
            "grid_template_areas": null,
            "grid_template_columns": null,
            "grid_template_rows": null,
            "height": null,
            "justify_content": null,
            "justify_items": null,
            "left": null,
            "margin": null,
            "max_height": null,
            "max_width": null,
            "min_height": null,
            "min_width": null,
            "object_fit": null,
            "object_position": null,
            "order": null,
            "overflow": null,
            "overflow_x": null,
            "overflow_y": null,
            "padding": null,
            "right": null,
            "top": null,
            "visibility": null,
            "width": null
          }
        },
        "aa20c121382843e494afda17d6750596": {
          "model_module": "@jupyter-widgets/controls",
          "model_name": "ProgressStyleModel",
          "model_module_version": "1.5.0",
          "state": {
            "_model_module": "@jupyter-widgets/controls",
            "_model_module_version": "1.5.0",
            "_model_name": "ProgressStyleModel",
            "_view_count": null,
            "_view_module": "@jupyter-widgets/base",
            "_view_module_version": "1.2.0",
            "_view_name": "StyleView",
            "bar_color": null,
            "description_width": ""
          }
        },
        "7947ac9b30a54dae9f3bce8ed3304b9c": {
          "model_module": "@jupyter-widgets/controls",
          "model_name": "VBoxModel",
          "model_module_version": "1.5.0",
          "state": {
            "_dom_classes": [],
            "_model_module": "@jupyter-widgets/controls",
            "_model_module_version": "1.5.0",
            "_model_name": "VBoxModel",
            "_view_count": null,
            "_view_module": "@jupyter-widgets/controls",
            "_view_module_version": "1.5.0",
            "_view_name": "VBoxView",
            "box_style": "",
            "children": [
              "IPY_MODEL_d256f192e7a54cd39f2e81258e64e11d",
              "IPY_MODEL_0cc8a46fdc1744afb2c65f64952d8428"
            ],
            "layout": "IPY_MODEL_c597c48b96bd4689961756f76e47389c"
          }
        },
        "d256f192e7a54cd39f2e81258e64e11d": {
          "model_module": "@jupyter-widgets/controls",
          "model_name": "LabelModel",
          "model_module_version": "1.5.0",
          "state": {
            "_dom_classes": [],
            "_model_module": "@jupyter-widgets/controls",
            "_model_module_version": "1.5.0",
            "_model_name": "LabelModel",
            "_view_count": null,
            "_view_module": "@jupyter-widgets/controls",
            "_view_module_version": "1.5.0",
            "_view_name": "LabelView",
            "description": "",
            "description_tooltip": null,
            "layout": "IPY_MODEL_090310420e454d059ba4fd9b0804c2e7",
            "placeholder": "​",
            "style": "IPY_MODEL_0c026d4b569348fa82d0a13ebb02d12f",
            "value": "0.011 MB of 0.011 MB uploaded (0.000 MB deduped)\r"
          }
        },
        "0cc8a46fdc1744afb2c65f64952d8428": {
          "model_module": "@jupyter-widgets/controls",
          "model_name": "FloatProgressModel",
          "model_module_version": "1.5.0",
          "state": {
            "_dom_classes": [],
            "_model_module": "@jupyter-widgets/controls",
            "_model_module_version": "1.5.0",
            "_model_name": "FloatProgressModel",
            "_view_count": null,
            "_view_module": "@jupyter-widgets/controls",
            "_view_module_version": "1.5.0",
            "_view_name": "ProgressView",
            "bar_style": "",
            "description": "",
            "description_tooltip": null,
            "layout": "IPY_MODEL_a1f626c35dd9463a914bfb3d46df2bc5",
            "max": 1,
            "min": 0,
            "orientation": "horizontal",
            "style": "IPY_MODEL_24fdb4cfe338439481201d497b7d41cf",
            "value": 1
          }
        },
        "c597c48b96bd4689961756f76e47389c": {
          "model_module": "@jupyter-widgets/base",
          "model_name": "LayoutModel",
          "model_module_version": "1.2.0",
          "state": {
            "_model_module": "@jupyter-widgets/base",
            "_model_module_version": "1.2.0",
            "_model_name": "LayoutModel",
            "_view_count": null,
            "_view_module": "@jupyter-widgets/base",
            "_view_module_version": "1.2.0",
            "_view_name": "LayoutView",
            "align_content": null,
            "align_items": null,
            "align_self": null,
            "border": null,
            "bottom": null,
            "display": null,
            "flex": null,
            "flex_flow": null,
            "grid_area": null,
            "grid_auto_columns": null,
            "grid_auto_flow": null,
            "grid_auto_rows": null,
            "grid_column": null,
            "grid_gap": null,
            "grid_row": null,
            "grid_template_areas": null,
            "grid_template_columns": null,
            "grid_template_rows": null,
            "height": null,
            "justify_content": null,
            "justify_items": null,
            "left": null,
            "margin": null,
            "max_height": null,
            "max_width": null,
            "min_height": null,
            "min_width": null,
            "object_fit": null,
            "object_position": null,
            "order": null,
            "overflow": null,
            "overflow_x": null,
            "overflow_y": null,
            "padding": null,
            "right": null,
            "top": null,
            "visibility": null,
            "width": null
          }
        },
        "090310420e454d059ba4fd9b0804c2e7": {
          "model_module": "@jupyter-widgets/base",
          "model_name": "LayoutModel",
          "model_module_version": "1.2.0",
          "state": {
            "_model_module": "@jupyter-widgets/base",
            "_model_module_version": "1.2.0",
            "_model_name": "LayoutModel",
            "_view_count": null,
            "_view_module": "@jupyter-widgets/base",
            "_view_module_version": "1.2.0",
            "_view_name": "LayoutView",
            "align_content": null,
            "align_items": null,
            "align_self": null,
            "border": null,
            "bottom": null,
            "display": null,
            "flex": null,
            "flex_flow": null,
            "grid_area": null,
            "grid_auto_columns": null,
            "grid_auto_flow": null,
            "grid_auto_rows": null,
            "grid_column": null,
            "grid_gap": null,
            "grid_row": null,
            "grid_template_areas": null,
            "grid_template_columns": null,
            "grid_template_rows": null,
            "height": null,
            "justify_content": null,
            "justify_items": null,
            "left": null,
            "margin": null,
            "max_height": null,
            "max_width": null,
            "min_height": null,
            "min_width": null,
            "object_fit": null,
            "object_position": null,
            "order": null,
            "overflow": null,
            "overflow_x": null,
            "overflow_y": null,
            "padding": null,
            "right": null,
            "top": null,
            "visibility": null,
            "width": null
          }
        },
        "0c026d4b569348fa82d0a13ebb02d12f": {
          "model_module": "@jupyter-widgets/controls",
          "model_name": "DescriptionStyleModel",
          "model_module_version": "1.5.0",
          "state": {
            "_model_module": "@jupyter-widgets/controls",
            "_model_module_version": "1.5.0",
            "_model_name": "DescriptionStyleModel",
            "_view_count": null,
            "_view_module": "@jupyter-widgets/base",
            "_view_module_version": "1.2.0",
            "_view_name": "StyleView",
            "description_width": ""
          }
        },
        "a1f626c35dd9463a914bfb3d46df2bc5": {
          "model_module": "@jupyter-widgets/base",
          "model_name": "LayoutModel",
          "model_module_version": "1.2.0",
          "state": {
            "_model_module": "@jupyter-widgets/base",
            "_model_module_version": "1.2.0",
            "_model_name": "LayoutModel",
            "_view_count": null,
            "_view_module": "@jupyter-widgets/base",
            "_view_module_version": "1.2.0",
            "_view_name": "LayoutView",
            "align_content": null,
            "align_items": null,
            "align_self": null,
            "border": null,
            "bottom": null,
            "display": null,
            "flex": null,
            "flex_flow": null,
            "grid_area": null,
            "grid_auto_columns": null,
            "grid_auto_flow": null,
            "grid_auto_rows": null,
            "grid_column": null,
            "grid_gap": null,
            "grid_row": null,
            "grid_template_areas": null,
            "grid_template_columns": null,
            "grid_template_rows": null,
            "height": null,
            "justify_content": null,
            "justify_items": null,
            "left": null,
            "margin": null,
            "max_height": null,
            "max_width": null,
            "min_height": null,
            "min_width": null,
            "object_fit": null,
            "object_position": null,
            "order": null,
            "overflow": null,
            "overflow_x": null,
            "overflow_y": null,
            "padding": null,
            "right": null,
            "top": null,
            "visibility": null,
            "width": null
          }
        },
        "24fdb4cfe338439481201d497b7d41cf": {
          "model_module": "@jupyter-widgets/controls",
          "model_name": "ProgressStyleModel",
          "model_module_version": "1.5.0",
          "state": {
            "_model_module": "@jupyter-widgets/controls",
            "_model_module_version": "1.5.0",
            "_model_name": "ProgressStyleModel",
            "_view_count": null,
            "_view_module": "@jupyter-widgets/base",
            "_view_module_version": "1.2.0",
            "_view_name": "StyleView",
            "bar_color": null,
            "description_width": ""
          }
        }
      }
    }
  },
  "cells": [
    {
      "cell_type": "code",
      "execution_count": 1,
      "metadata": {
        "colab": {
          "base_uri": "https://localhost:8080/"
        },
        "id": "T6ehRI6iQaWx",
        "outputId": "843c4b93-8f05-46ed-ea91-5213b7e73bfc"
      },
      "outputs": [
        {
          "output_type": "stream",
          "name": "stdout",
          "text": [
            "Mounted at cnontent/\n"
          ]
        }
      ],
      "source": [
        "# 구글 드라이브 연동\n",
        "from google.colab import drive\n",
        "drive.mount('cnontent/')"
      ]
    },
    {
      "cell_type": "code",
      "source": [
        "cd /content/cnontent/MyDrive/SSU/nural_nework/project"
      ],
      "metadata": {
        "colab": {
          "base_uri": "https://localhost:8080/"
        },
        "id": "YxSTxOfWRbv7",
        "outputId": "f90d278e-b530-457c-f8f9-495f84bc25ef"
      },
      "execution_count": 2,
      "outputs": [
        {
          "output_type": "stream",
          "name": "stdout",
          "text": [
            "/content/cnontent/MyDrive/SSU/nural_nework/project\n"
          ]
        }
      ]
    },
    {
      "cell_type": "code",
      "source": [
        "# wandb install\n",
        "!pip install -q wandb"
      ],
      "metadata": {
        "id": "iOlMKto1QfDg",
        "colab": {
          "base_uri": "https://localhost:8080/"
        },
        "outputId": "f68cdc61-f33f-42a7-b9a4-4241499777da"
      },
      "execution_count": 3,
      "outputs": [
        {
          "output_type": "stream",
          "name": "stdout",
          "text": [
            "\u001b[K     |████████████████████████████████| 1.8 MB 6.4 MB/s \n",
            "\u001b[K     |████████████████████████████████| 181 kB 46.1 MB/s \n",
            "\u001b[K     |████████████████████████████████| 145 kB 45.3 MB/s \n",
            "\u001b[K     |████████████████████████████████| 63 kB 1.8 MB/s \n",
            "\u001b[?25h  Building wheel for pathtools (setup.py) ... \u001b[?25l\u001b[?25hdone\n"
          ]
        }
      ]
    },
    {
      "cell_type": "code",
      "source": [
        "!wandb login"
      ],
      "metadata": {
        "colab": {
          "base_uri": "https://localhost:8080/"
        },
        "id": "5ZElc-1vQxD4",
        "outputId": "b5874ce3-dfd9-4014-b605-60e78039cf41"
      },
      "execution_count": 4,
      "outputs": [
        {
          "output_type": "stream",
          "name": "stdout",
          "text": [
            "\u001b[34m\u001b[1mwandb\u001b[0m: Logging into wandb.ai. (Learn how to deploy a W&B server locally: https://wandb.me/wandb-server)\n",
            "\u001b[34m\u001b[1mwandb\u001b[0m: You can find your API key in your browser here: https://wandb.ai/authorize\n",
            "\u001b[34m\u001b[1mwandb\u001b[0m: Paste an API key from your profile and hit enter, or press ctrl+c to quit: \n",
            "\u001b[34m\u001b[1mwandb\u001b[0m: Appending key for api.wandb.ai to your netrc file: /root/.netrc\n"
          ]
        }
      ]
    },
    {
      "cell_type": "code",
      "source": [
        "# 필요한 라이브러리 import\n",
        "\n",
        "import tqdm\n",
        "import tensorflow as tf\n",
        "from tensorflow import keras\n",
        "import pandas as pd\n",
        "import numpy as np\n",
        "import matplotlib.pyplot as plt\n",
        "import wandb\n",
        "from wandb.keras import WandbCallback\n",
        "import os\n",
        "\n",
        "import random\n",
        "%matplotlib inline"
      ],
      "metadata": {
        "id": "Fx33QvV5QzOh"
      },
      "execution_count": 9,
      "outputs": []
    },
    {
      "cell_type": "code",
      "source": [
        "# pandas 통해 읽은 csv data numpy 형태로 변경\n",
        "def convert_data_csv_to_numpy(data, sorting = False):\n",
        "  if sorting == True:\n",
        "    data = data.sort_values(by=[0], axis=0)\n",
        "\n",
        "  label = np.array(data[0]) # csv file 에서 0번째 colum은 index임\n",
        "  only_data = np.array(data.drop([0], axis = 1)).reshape((-1, 28, 28, 1)) # csv file에서 0번 째 colum 탈락 -> data만 남게 됨\n",
        "\n",
        "  return only_data, label"
      ],
      "metadata": {
        "id": "Gdx1X_aDQ5UL"
      },
      "execution_count": 6,
      "outputs": []
    },
    {
      "cell_type": "code",
      "source": [
        "# 효율적인 실험 관리를 위해 balanced data 사용\n",
        "def balanced_data(data, label, border, n_train=1000, val_rate = 0.2):\n",
        "  i, start=0,0\n",
        "  d_train = l_train = d_val = l_val= None\n",
        "  n_data_per_class = n_train\n",
        "  n_val_per_class = int(n_data_per_class*val_rate)\n",
        "\n",
        "\n",
        "  for idx, class_end in enumerate(border):\n",
        "    if i ==0: # 정의한 border만큼 iteration 하면서 data를 추가\n",
        "      val_end = n_data_per_class+n_val_per_class\n",
        "\n",
        "      d_train = data[:n_data_per_class].copy()\n",
        "      l_train = label[:n_data_per_class].copy()\n",
        "\n",
        "      d_val = data[n_data_per_class:val_end].copy()\n",
        "      l_val = label[n_data_per_class:val_end].copy()\n",
        "\n",
        "      i+=1\n",
        "    else: # border index까지 data 추가했으면 다음 class로 이동\n",
        "      train_end = start+n_data_per_class\n",
        "      val_end = train_end+n_val_per_class\n",
        "\n",
        "      now_d_data = data[start:train_end].copy()\n",
        "      now_l_train = label[start:train_end].copy()\n",
        "      d_train = np.concatenate((d_train, now_d_data))\n",
        "      l_train = np.concatenate((l_train, now_l_train))\n",
        "\n",
        "      now_d_val = data[train_end:val_end].copy()\n",
        "      now_l_val = label[train_end:val_end].copy()\n",
        "      d_val = np.concatenate((d_val, now_d_val))\n",
        "      l_val = np.concatenate((l_val, now_l_val))\n",
        "    start += class_end\n",
        "  return (d_train, l_train, d_val, l_val)"
      ],
      "metadata": {
        "id": "JMgDvyCJRWMc"
      },
      "execution_count": 7,
      "outputs": []
    },
    {
      "cell_type": "markdown",
      "source": [
        "# Data Prepare"
      ],
      "metadata": {
        "id": "BKzXXL5g2GPl"
      }
    },
    {
      "cell_type": "code",
      "source": [
        "train_csv, test_csv = [], []\n",
        "train_csv = pd.read_csv(\"./emnist-byclass-train.csv\", header=None) # csv 파일 읽음"
      ],
      "metadata": {
        "id": "kKwIllKHRW5Y"
      },
      "execution_count": null,
      "outputs": []
    },
    {
      "cell_type": "code",
      "source": [
        "train, train_label = convert_data_csv_to_numpy(train_csv, sorting = True) # numpy로 변경 -> balanced data를 생성하기 위해 dataset 오름차순 정렬(label 기준)"
      ],
      "metadata": {
        "id": "UPpGiKNbRYpq"
      },
      "execution_count": null,
      "outputs": []
    },
    {
      "cell_type": "code",
      "source": [
        "border = np.unique(train_label, return_counts = True)[1]\n",
        "print(border)\n",
        "train_data, train_label, val_data, val_label = balanced_data(train.copy(), train_label.copy(), border)"
      ],
      "metadata": {
        "id": "tRq3dM7iSXec"
      },
      "execution_count": null,
      "outputs": []
    },
    {
      "cell_type": "code",
      "source": [
        "# 추후 aux resnet 모델의 label 정의를 위해 sparse label값 저장\n",
        "sparse_train_label = train_label.copy()\n",
        "sparse_val_label = val_label.copy()"
      ],
      "metadata": {
        "id": "u7RI48xtveT0"
      },
      "execution_count": 10,
      "outputs": []
    },
    {
      "cell_type": "code",
      "source": [
        "# ndarray type의 데이터 tensor 형식으로 변경\n",
        "train_data = tf.convert_to_tensor(train_data, dtype=tf.float32)\n",
        "val_data = tf.convert_to_tensor(val_data, dtype=tf.float32)\n",
        "\n",
        "# categorical loss 적용을 위한 one-hot 인코딩\n",
        "train_label = keras.utils.to_categorical(train_label)\n",
        "val_label = keras.utils.to_categorical(val_label)"
      ],
      "metadata": {
        "id": "PviSJzqmTSrl"
      },
      "execution_count": 11,
      "outputs": []
    },
    {
      "cell_type": "code",
      "source": [
        "print(train_data.shape)\n",
        "print(train_label.shape)\n",
        "print(val_data.shape)\n",
        "print(val_label.shape)"
      ],
      "metadata": {
        "colab": {
          "base_uri": "https://localhost:8080/"
        },
        "id": "ZEycT3nFRuIU",
        "outputId": "5959ff7b-46af-45fb-ec58-f5c92de3b40c"
      },
      "execution_count": 12,
      "outputs": [
        {
          "output_type": "stream",
          "name": "stdout",
          "text": [
            "(62000, 28, 28, 1)\n",
            "(62000, 62)\n",
            "(12400, 28, 28, 1)\n",
            "(12400, 62)\n"
          ]
        }
      ]
    },
    {
      "cell_type": "markdown",
      "source": [
        "# Lenet wandb"
      ],
      "metadata": {
        "id": "li96zNc5UQBX"
      }
    },
    {
      "cell_type": "code",
      "source": [
        "# Lnet 파라미터 세팅 실험을 위한 학습 함수\n",
        "def sweep_train(config_defaults=None):\n",
        "    # Set default values\n",
        "    config_defaults = {\n",
        "      'batch_size': 64,\n",
        "      'optimizer' : 'adam',\n",
        "      'learning_rate' : 0.01,\n",
        "      'n_first_node' : 6,\n",
        "      'n_first_kernel_size' : 5,\n",
        "      'n_second_node' : 16,\n",
        "      'n_second_kernel_size' : 5,\n",
        "      'n_third_node' : 120,\n",
        "      'n_third_kernel_size' : 5,\n",
        "    }\n",
        "    # Initialize wandb with a sample project name\n",
        "    wandb.init(config=config_defaults)  # this gets over-written in the Sweep\n",
        "\n",
        "    # initialize model\n",
        "    model = keras.models.Sequential()\n",
        "    model.add(keras.layers.Conv2D(wandb.config.n_first_node, kernel_size=wandb.config.n_first_kernel_size, strides=1,  activation=\"selu\", kernel_initializer=\"lecun_normal\", input_shape=train_data[0].shape, padding='same'))\n",
        "    model.add(keras.layers.AveragePooling2D())\n",
        "    model.add(keras.layers.Conv2D(wandb.config.n_second_node, kernel_size=wandb.config.n_second_kernel_size, strides=1, activation=\"selu\", kernel_initializer=\"lecun_normal\", padding='valid'))\n",
        "    model.add(keras.layers.AveragePooling2D())\n",
        "    model.add(keras.layers.Conv2D(wandb.config.n_third_node, kernel_size=wandb.config.n_third_kernel_size, strides=1, activation=\"selu\", kernel_initializer=\"lecun_normal\", padding='valid'))\n",
        "    model.add(keras.layers.Flatten())\n",
        "    model.add(keras.layers.Dense(84, activation=\"selu\", kernel_initializer=\"lecun_normal\"))\n",
        "    model.add(keras.layers.Dense(62, activation='softmax'))\n",
        "\n",
        "    print(model.summary())\n",
        "\n",
        "    # Instantiate an optimizer to train the model.\n",
        "    optimizer = keras.optimizers.Adam(learning_rate=wandb.config.learning_rate, beta_1=0.9, beta_2=0.999)\n",
        "    # Instantiate a loss function.\n",
        "    # loss_fn = keras.losses.SparseCategoricalCrossentropy(from_logits=True)\n",
        "\n",
        "\n",
        "    model.compile(loss=\"categorical_crossentropy\",\n",
        "                optimizer=\"adam\",\n",
        "                metrics=[\"accuracy\"])\n",
        "    hist = model.fit(train_data, train_label, epochs=2, validation_data=(val_data, val_label), callbacks=[WandbCallback()])"
      ],
      "metadata": {
        "id": "nOQ_imH2STqe"
      },
      "execution_count": null,
      "outputs": []
    },
    {
      "cell_type": "code",
      "source": [
        "# 변경할 파라미터\n",
        "sweep_config = {\n",
        "  'method': 'random', \n",
        "  'parameters': {\n",
        "      'learning_rate':{\n",
        "          'values' : [0.05, 0.01, 0.005]\n",
        "      },\n",
        "      'n_first_node' : {\n",
        "          'values' : [6, 12]\n",
        "      },\n",
        "      'n_second_node' : {\n",
        "          'values' : [16, 32]\n",
        "      },\n",
        "      'n_third_node' : {\n",
        "          'values' : [120, 60]\n",
        "      },\n",
        "      'n_first_kernel_size' : {\n",
        "          'values' : [5, 3]\n",
        "      },\n",
        "      'n_second_kernel_size' : {\n",
        "          'values' : [5, 3]\n",
        "      },\n",
        "      'n_third_kernel_size' : {\n",
        "          'values' : [5, 3]\n",
        "      }\n",
        "  }\n",
        "}\n",
        "\n",
        "# wandb 프로젝트 생성 및 실행\n",
        "sweep_id = wandb.sweep(sweep_config, project=\"Lenet_for_report\")\n",
        "wandb.agent(sweep_id, function=sweep_train, count=3)"
      ],
      "metadata": {
        "colab": {
          "base_uri": "https://localhost:8080/",
          "height": 1000,
          "referenced_widgets": [
            "8204f93e36ab42d0a64f84cb33134c9b",
            "8643b3c1bd3845a9a775914f1104841d",
            "b3a76f78e4234253bbc3ff29476bf061",
            "ebc600eaf11b4217b47997487d13e947",
            "26076cb6a2004f8ea548b095e8107f48",
            "09e8b8fb8e1546dfa754c2b7efd3e340",
            "934bf88e1dfd45c9aa8abc86a0f5a5b6",
            "01a6676afd71440b8f3a44f837f51d9b",
            "0daf9490305c452380b12794904dc177",
            "c61b0188c37c464c9287115aaab1a107",
            "3bf41679214340d18b29c0d2d0c7831a",
            "54e84ffb04d244acb86ce7f23248ee36",
            "57eede58752d4ae08330768f12ef26f1",
            "4a3b88b061c24e5897eae42ddaac2727",
            "02a0cccbdd5c48628a1128f92aef9df8",
            "a3181d396c2e4c9eb627464fa375ec2b",
            "851b75eab83d4849ad6fd2c9bae31c60",
            "c6a3e9af9db04050860fa329315c1b99",
            "1bad41cdc7ea47318eaabfebb401a9a6",
            "5432dafdbab44d9698594060d38e351f",
            "fdf997b0e4ef46dc9c5b356ad270dedc",
            "913c7cfee7144f95bfb3dfff7c4dc239",
            "6f531b989c1b41c0afbf4f4088a1ee61",
            "337bfce79a554f6d9863ccc103c8f38a"
          ]
        },
        "id": "Q5nV7oK8TKKT",
        "outputId": "adc1f0cb-fb9d-421d-f812-092e33bfc9d4"
      },
      "execution_count": null,
      "outputs": [
        {
          "output_type": "stream",
          "name": "stdout",
          "text": [
            "Create sweep with ID: dsidt7j3\n",
            "Sweep URL: https://wandb.ai/chanin-eom/Lenet_for_report/sweeps/dsidt7j3\n"
          ]
        },
        {
          "output_type": "stream",
          "name": "stderr",
          "text": [
            "\u001b[34m\u001b[1mwandb\u001b[0m: Agent Starting Run: f5tzsloh with config:\n",
            "\u001b[34m\u001b[1mwandb\u001b[0m: \tlearning_rate: 0.005\n",
            "\u001b[34m\u001b[1mwandb\u001b[0m: \tn_first_kernel_size: 5\n",
            "\u001b[34m\u001b[1mwandb\u001b[0m: \tn_first_node: 6\n",
            "\u001b[34m\u001b[1mwandb\u001b[0m: \tn_second_kernel_size: 5\n",
            "\u001b[34m\u001b[1mwandb\u001b[0m: \tn_second_node: 16\n",
            "\u001b[34m\u001b[1mwandb\u001b[0m: \tn_third_kernel_size: 3\n",
            "\u001b[34m\u001b[1mwandb\u001b[0m: \tn_third_node: 60\n"
          ]
        },
        {
          "output_type": "display_data",
          "data": {
            "text/plain": [
              "<IPython.core.display.HTML object>"
            ],
            "text/html": [
              "Tracking run with wandb version 0.12.18"
            ]
          },
          "metadata": {}
        },
        {
          "output_type": "display_data",
          "data": {
            "text/plain": [
              "<IPython.core.display.HTML object>"
            ],
            "text/html": [
              "Run data is saved locally in <code>/content/cnontent/MyDrive/SSU/nural_nework/project/wandb/run-20220611_151000-f5tzsloh</code>"
            ]
          },
          "metadata": {}
        },
        {
          "output_type": "display_data",
          "data": {
            "text/plain": [
              "<IPython.core.display.HTML object>"
            ],
            "text/html": [
              "Syncing run <strong><a href=\"https://wandb.ai/chanin-eom/Lenet_for_report/runs/f5tzsloh\" target=\"_blank\">stoic-sweep-1</a></strong> to <a href=\"https://wandb.ai/chanin-eom/Lenet_for_report\" target=\"_blank\">Weights & Biases</a> (<a href=\"https://wandb.me/run\" target=\"_blank\">docs</a>)<br/>Sweep page:  <a href=\"https://wandb.ai/chanin-eom/Lenet_for_report/sweeps/dsidt7j3\" target=\"_blank\">https://wandb.ai/chanin-eom/Lenet_for_report/sweeps/dsidt7j3</a>"
            ]
          },
          "metadata": {}
        },
        {
          "output_type": "stream",
          "name": "stdout",
          "text": [
            "Model: \"sequential\"\n",
            "_________________________________________________________________\n",
            " Layer (type)                Output Shape              Param #   \n",
            "=================================================================\n",
            " conv2d (Conv2D)             (None, 28, 28, 6)         156       \n",
            "                                                                 \n",
            " average_pooling2d (AverageP  (None, 14, 14, 6)        0         \n",
            " ooling2D)                                                       \n",
            "                                                                 \n",
            " conv2d_1 (Conv2D)           (None, 10, 10, 16)        2416      \n",
            "                                                                 \n",
            " average_pooling2d_1 (Averag  (None, 5, 5, 16)         0         \n",
            " ePooling2D)                                                     \n",
            "                                                                 \n",
            " conv2d_2 (Conv2D)           (None, 3, 3, 60)          8700      \n",
            "                                                                 \n",
            " flatten (Flatten)           (None, 540)               0         \n",
            "                                                                 \n",
            " dense (Dense)               (None, 84)                45444     \n",
            "                                                                 \n",
            " dense_1 (Dense)             (None, 62)                5270      \n",
            "                                                                 \n",
            "=================================================================\n",
            "Total params: 61,986\n",
            "Trainable params: 61,986\n",
            "Non-trainable params: 0\n",
            "_________________________________________________________________\n",
            "None\n",
            "Epoch 1/2\n",
            "1938/1938 [==============================] - 44s 22ms/step - loss: 1.8232 - accuracy: 0.5196 - val_loss: 0.9071 - val_accuracy: 0.6608 - _timestamp: 1654960245.0000 - _runtime: 45.0000\n",
            "Epoch 2/2\n",
            "1938/1938 [==============================] - 39s 20ms/step - loss: 0.8131 - accuracy: 0.6875 - val_loss: 0.7963 - val_accuracy: 0.6856 - _timestamp: 1654960284.0000 - _runtime: 84.0000\n"
          ]
        },
        {
          "output_type": "display_data",
          "data": {
            "text/plain": [
              "<IPython.core.display.HTML object>"
            ],
            "text/html": [
              "Waiting for W&B process to finish... <strong style=\"color:green\">(success).</strong>"
            ]
          },
          "metadata": {}
        },
        {
          "output_type": "display_data",
          "data": {
            "text/plain": [
              "VBox(children=(Label(value='0.762 MB of 0.762 MB uploaded (0.000 MB deduped)\\r'), FloatProgress(value=1.0, max…"
            ],
            "application/vnd.jupyter.widget-view+json": {
              "version_major": 2,
              "version_minor": 0,
              "model_id": "8204f93e36ab42d0a64f84cb33134c9b"
            }
          },
          "metadata": {}
        },
        {
          "output_type": "display_data",
          "data": {
            "text/plain": [
              "<IPython.core.display.HTML object>"
            ],
            "text/html": [
              "<style>\n",
              "    table.wandb td:nth-child(1) { padding: 0 10px; text-align: left ; width: auto;} td:nth-child(2) {text-align: left ; width: 100%}\n",
              "    .wandb-row { display: flex; flex-direction: row; flex-wrap: wrap; justify-content: flex-start; width: 100% }\n",
              "    .wandb-col { display: flex; flex-direction: column; flex-basis: 100%; flex: 1; padding: 10px; }\n",
              "    </style>\n",
              "<div class=\"wandb-row\"><div class=\"wandb-col\"><h3>Run history:</h3><br/><table class=\"wandb\"><tr><td>accuracy</td><td>▁█</td></tr><tr><td>epoch</td><td>▁█</td></tr><tr><td>loss</td><td>█▁</td></tr><tr><td>val_accuracy</td><td>▁█</td></tr><tr><td>val_loss</td><td>█▁</td></tr></table><br/></div><div class=\"wandb-col\"><h3>Run summary:</h3><br/><table class=\"wandb\"><tr><td>accuracy</td><td>0.68753</td></tr><tr><td>best_epoch</td><td>1</td></tr><tr><td>best_val_loss</td><td>0.79632</td></tr><tr><td>epoch</td><td>1</td></tr><tr><td>loss</td><td>0.8131</td></tr><tr><td>val_accuracy</td><td>0.68565</td></tr><tr><td>val_loss</td><td>0.79632</td></tr></table><br/></div></div>"
            ]
          },
          "metadata": {}
        },
        {
          "output_type": "display_data",
          "data": {
            "text/plain": [
              "<IPython.core.display.HTML object>"
            ],
            "text/html": [
              "Synced <strong style=\"color:#cdcd00\">stoic-sweep-1</strong>: <a href=\"https://wandb.ai/chanin-eom/Lenet_for_report/runs/f5tzsloh\" target=\"_blank\">https://wandb.ai/chanin-eom/Lenet_for_report/runs/f5tzsloh</a><br/>Synced 5 W&B file(s), 1 media file(s), 0 artifact file(s) and 1 other file(s)"
            ]
          },
          "metadata": {}
        },
        {
          "output_type": "display_data",
          "data": {
            "text/plain": [
              "<IPython.core.display.HTML object>"
            ],
            "text/html": [
              "Find logs at: <code>./wandb/run-20220611_151000-f5tzsloh/logs</code>"
            ]
          },
          "metadata": {}
        },
        {
          "output_type": "stream",
          "name": "stderr",
          "text": [
            "\u001b[34m\u001b[1mwandb\u001b[0m: Agent Starting Run: g2d1htxa with config:\n",
            "\u001b[34m\u001b[1mwandb\u001b[0m: \tlearning_rate: 0.005\n",
            "\u001b[34m\u001b[1mwandb\u001b[0m: \tn_first_kernel_size: 3\n",
            "\u001b[34m\u001b[1mwandb\u001b[0m: \tn_first_node: 6\n",
            "\u001b[34m\u001b[1mwandb\u001b[0m: \tn_second_kernel_size: 5\n",
            "\u001b[34m\u001b[1mwandb\u001b[0m: \tn_second_node: 16\n",
            "\u001b[34m\u001b[1mwandb\u001b[0m: \tn_third_kernel_size: 3\n",
            "\u001b[34m\u001b[1mwandb\u001b[0m: \tn_third_node: 60\n"
          ]
        },
        {
          "output_type": "display_data",
          "data": {
            "text/plain": [
              "<IPython.core.display.HTML object>"
            ],
            "text/html": [
              "Tracking run with wandb version 0.12.18"
            ]
          },
          "metadata": {}
        },
        {
          "output_type": "display_data",
          "data": {
            "text/plain": [
              "<IPython.core.display.HTML object>"
            ],
            "text/html": [
              "Run data is saved locally in <code>/content/cnontent/MyDrive/SSU/nural_nework/project/wandb/run-20220611_151133-g2d1htxa</code>"
            ]
          },
          "metadata": {}
        },
        {
          "output_type": "display_data",
          "data": {
            "text/plain": [
              "<IPython.core.display.HTML object>"
            ],
            "text/html": [
              "Syncing run <strong><a href=\"https://wandb.ai/chanin-eom/Lenet_for_report/runs/g2d1htxa\" target=\"_blank\">hardy-sweep-2</a></strong> to <a href=\"https://wandb.ai/chanin-eom/Lenet_for_report\" target=\"_blank\">Weights & Biases</a> (<a href=\"https://wandb.me/run\" target=\"_blank\">docs</a>)<br/>Sweep page:  <a href=\"https://wandb.ai/chanin-eom/Lenet_for_report/sweeps/dsidt7j3\" target=\"_blank\">https://wandb.ai/chanin-eom/Lenet_for_report/sweeps/dsidt7j3</a>"
            ]
          },
          "metadata": {}
        },
        {
          "output_type": "stream",
          "name": "stdout",
          "text": [
            "Model: \"sequential\"\n",
            "_________________________________________________________________\n",
            " Layer (type)                Output Shape              Param #   \n",
            "=================================================================\n",
            " conv2d (Conv2D)             (None, 28, 28, 6)         60        \n",
            "                                                                 \n",
            " average_pooling2d (AverageP  (None, 14, 14, 6)        0         \n",
            " ooling2D)                                                       \n",
            "                                                                 \n",
            " conv2d_1 (Conv2D)           (None, 10, 10, 16)        2416      \n",
            "                                                                 \n",
            " average_pooling2d_1 (Averag  (None, 5, 5, 16)         0         \n",
            " ePooling2D)                                                     \n",
            "                                                                 \n",
            " conv2d_2 (Conv2D)           (None, 3, 3, 60)          8700      \n",
            "                                                                 \n",
            " flatten (Flatten)           (None, 540)               0         \n",
            "                                                                 \n",
            " dense (Dense)               (None, 84)                45444     \n",
            "                                                                 \n",
            " dense_1 (Dense)             (None, 62)                5270      \n",
            "                                                                 \n",
            "=================================================================\n",
            "Total params: 61,890\n",
            "Trainable params: 61,890\n",
            "Non-trainable params: 0\n",
            "_________________________________________________________________\n",
            "None\n",
            "Epoch 1/2\n",
            "1938/1938 [==============================] - 37s 19ms/step - loss: 1.6156 - accuracy: 0.5536 - val_loss: 0.8697 - val_accuracy: 0.6715 - _timestamp: 1654960332.0000 - _runtime: 39.0000\n",
            "Epoch 2/2\n",
            "1938/1938 [==============================] - 36s 19ms/step - loss: 0.8023 - accuracy: 0.6881 - val_loss: 0.8550 - val_accuracy: 0.6775 - _timestamp: 1654960368.0000 - _runtime: 75.0000\n"
          ]
        },
        {
          "output_type": "display_data",
          "data": {
            "text/plain": [
              "<IPython.core.display.HTML object>"
            ],
            "text/html": [
              "Waiting for W&B process to finish... <strong style=\"color:green\">(success).</strong>"
            ]
          },
          "metadata": {}
        },
        {
          "output_type": "display_data",
          "data": {
            "text/plain": [
              "VBox(children=(Label(value='0.761 MB of 0.761 MB uploaded (0.000 MB deduped)\\r'), FloatProgress(value=1.0, max…"
            ],
            "application/vnd.jupyter.widget-view+json": {
              "version_major": 2,
              "version_minor": 0,
              "model_id": "0daf9490305c452380b12794904dc177"
            }
          },
          "metadata": {}
        },
        {
          "output_type": "display_data",
          "data": {
            "text/plain": [
              "<IPython.core.display.HTML object>"
            ],
            "text/html": [
              "<style>\n",
              "    table.wandb td:nth-child(1) { padding: 0 10px; text-align: left ; width: auto;} td:nth-child(2) {text-align: left ; width: 100%}\n",
              "    .wandb-row { display: flex; flex-direction: row; flex-wrap: wrap; justify-content: flex-start; width: 100% }\n",
              "    .wandb-col { display: flex; flex-direction: column; flex-basis: 100%; flex: 1; padding: 10px; }\n",
              "    </style>\n",
              "<div class=\"wandb-row\"><div class=\"wandb-col\"><h3>Run history:</h3><br/><table class=\"wandb\"><tr><td>accuracy</td><td>▁█</td></tr><tr><td>epoch</td><td>▁█</td></tr><tr><td>loss</td><td>█▁</td></tr><tr><td>val_accuracy</td><td>▁█</td></tr><tr><td>val_loss</td><td>█▁</td></tr></table><br/></div><div class=\"wandb-col\"><h3>Run summary:</h3><br/><table class=\"wandb\"><tr><td>accuracy</td><td>0.68806</td></tr><tr><td>best_epoch</td><td>1</td></tr><tr><td>best_val_loss</td><td>0.85498</td></tr><tr><td>epoch</td><td>1</td></tr><tr><td>loss</td><td>0.80229</td></tr><tr><td>val_accuracy</td><td>0.6775</td></tr><tr><td>val_loss</td><td>0.85498</td></tr></table><br/></div></div>"
            ]
          },
          "metadata": {}
        },
        {
          "output_type": "display_data",
          "data": {
            "text/plain": [
              "<IPython.core.display.HTML object>"
            ],
            "text/html": [
              "Synced <strong style=\"color:#cdcd00\">hardy-sweep-2</strong>: <a href=\"https://wandb.ai/chanin-eom/Lenet_for_report/runs/g2d1htxa\" target=\"_blank\">https://wandb.ai/chanin-eom/Lenet_for_report/runs/g2d1htxa</a><br/>Synced 5 W&B file(s), 1 media file(s), 0 artifact file(s) and 1 other file(s)"
            ]
          },
          "metadata": {}
        },
        {
          "output_type": "display_data",
          "data": {
            "text/plain": [
              "<IPython.core.display.HTML object>"
            ],
            "text/html": [
              "Find logs at: <code>./wandb/run-20220611_151133-g2d1htxa/logs</code>"
            ]
          },
          "metadata": {}
        },
        {
          "output_type": "stream",
          "name": "stderr",
          "text": [
            "\u001b[34m\u001b[1mwandb\u001b[0m: Sweep Agent: Waiting for job.\n",
            "\u001b[34m\u001b[1mwandb\u001b[0m: Job received.\n",
            "\u001b[34m\u001b[1mwandb\u001b[0m: Agent Starting Run: se265a3i with config:\n",
            "\u001b[34m\u001b[1mwandb\u001b[0m: \tlearning_rate: 0.005\n",
            "\u001b[34m\u001b[1mwandb\u001b[0m: \tn_first_kernel_size: 3\n",
            "\u001b[34m\u001b[1mwandb\u001b[0m: \tn_first_node: 12\n",
            "\u001b[34m\u001b[1mwandb\u001b[0m: \tn_second_kernel_size: 5\n",
            "\u001b[34m\u001b[1mwandb\u001b[0m: \tn_second_node: 16\n",
            "\u001b[34m\u001b[1mwandb\u001b[0m: \tn_third_kernel_size: 3\n",
            "\u001b[34m\u001b[1mwandb\u001b[0m: \tn_third_node: 120\n"
          ]
        },
        {
          "output_type": "display_data",
          "data": {
            "text/plain": [
              "<IPython.core.display.HTML object>"
            ],
            "text/html": [
              "Tracking run with wandb version 0.12.18"
            ]
          },
          "metadata": {}
        },
        {
          "output_type": "display_data",
          "data": {
            "text/plain": [
              "<IPython.core.display.HTML object>"
            ],
            "text/html": [
              "Run data is saved locally in <code>/content/cnontent/MyDrive/SSU/nural_nework/project/wandb/run-20220611_151302-se265a3i</code>"
            ]
          },
          "metadata": {}
        },
        {
          "output_type": "display_data",
          "data": {
            "text/plain": [
              "<IPython.core.display.HTML object>"
            ],
            "text/html": [
              "Syncing run <strong><a href=\"https://wandb.ai/chanin-eom/Lenet_for_report/runs/se265a3i\" target=\"_blank\">sandy-sweep-3</a></strong> to <a href=\"https://wandb.ai/chanin-eom/Lenet_for_report\" target=\"_blank\">Weights & Biases</a> (<a href=\"https://wandb.me/run\" target=\"_blank\">docs</a>)<br/>Sweep page:  <a href=\"https://wandb.ai/chanin-eom/Lenet_for_report/sweeps/dsidt7j3\" target=\"_blank\">https://wandb.ai/chanin-eom/Lenet_for_report/sweeps/dsidt7j3</a>"
            ]
          },
          "metadata": {}
        },
        {
          "output_type": "stream",
          "name": "stdout",
          "text": [
            "Model: \"sequential\"\n",
            "_________________________________________________________________\n",
            " Layer (type)                Output Shape              Param #   \n",
            "=================================================================\n",
            " conv2d (Conv2D)             (None, 28, 28, 12)        120       \n",
            "                                                                 \n",
            " average_pooling2d (AverageP  (None, 14, 14, 12)       0         \n",
            " ooling2D)                                                       \n",
            "                                                                 \n",
            " conv2d_1 (Conv2D)           (None, 10, 10, 16)        4816      \n",
            "                                                                 \n",
            " average_pooling2d_1 (Averag  (None, 5, 5, 16)         0         \n",
            " ePooling2D)                                                     \n",
            "                                                                 \n",
            " conv2d_2 (Conv2D)           (None, 3, 3, 120)         17400     \n",
            "                                                                 \n",
            " flatten (Flatten)           (None, 1080)              0         \n",
            "                                                                 \n",
            " dense (Dense)               (None, 84)                90804     \n",
            "                                                                 \n",
            " dense_1 (Dense)             (None, 62)                5270      \n",
            "                                                                 \n",
            "=================================================================\n",
            "Total params: 118,410\n",
            "Trainable params: 118,410\n",
            "Non-trainable params: 0\n",
            "_________________________________________________________________\n",
            "None\n",
            "Epoch 1/2\n",
            "1938/1938 [==============================] - 43s 22ms/step - loss: 1.4356 - accuracy: 0.5766 - val_loss: 0.8857 - val_accuracy: 0.6693 - _timestamp: 1654960429.0000 - _runtime: 47.0000\n",
            "Epoch 2/2\n",
            "1938/1938 [==============================] - 44s 23ms/step - loss: 0.8033 - accuracy: 0.6884 - val_loss: 0.7979 - val_accuracy: 0.6944 - _timestamp: 1654960473.0000 - _runtime: 91.0000\n"
          ]
        },
        {
          "output_type": "display_data",
          "data": {
            "text/plain": [
              "<IPython.core.display.HTML object>"
            ],
            "text/html": [
              "Waiting for W&B process to finish... <strong style=\"color:green\">(success).</strong>"
            ]
          },
          "metadata": {}
        },
        {
          "output_type": "display_data",
          "data": {
            "text/plain": [
              "VBox(children=(Label(value='1.407 MB of 1.407 MB uploaded (0.000 MB deduped)\\r'), FloatProgress(value=1.0, max…"
            ],
            "application/vnd.jupyter.widget-view+json": {
              "version_major": 2,
              "version_minor": 0,
              "model_id": "851b75eab83d4849ad6fd2c9bae31c60"
            }
          },
          "metadata": {}
        },
        {
          "output_type": "display_data",
          "data": {
            "text/plain": [
              "<IPython.core.display.HTML object>"
            ],
            "text/html": [
              "<style>\n",
              "    table.wandb td:nth-child(1) { padding: 0 10px; text-align: left ; width: auto;} td:nth-child(2) {text-align: left ; width: 100%}\n",
              "    .wandb-row { display: flex; flex-direction: row; flex-wrap: wrap; justify-content: flex-start; width: 100% }\n",
              "    .wandb-col { display: flex; flex-direction: column; flex-basis: 100%; flex: 1; padding: 10px; }\n",
              "    </style>\n",
              "<div class=\"wandb-row\"><div class=\"wandb-col\"><h3>Run history:</h3><br/><table class=\"wandb\"><tr><td>accuracy</td><td>▁█</td></tr><tr><td>epoch</td><td>▁█</td></tr><tr><td>loss</td><td>█▁</td></tr><tr><td>val_accuracy</td><td>▁█</td></tr><tr><td>val_loss</td><td>█▁</td></tr></table><br/></div><div class=\"wandb-col\"><h3>Run summary:</h3><br/><table class=\"wandb\"><tr><td>accuracy</td><td>0.6884</td></tr><tr><td>best_epoch</td><td>1</td></tr><tr><td>best_val_loss</td><td>0.79794</td></tr><tr><td>epoch</td><td>1</td></tr><tr><td>loss</td><td>0.80328</td></tr><tr><td>val_accuracy</td><td>0.69435</td></tr><tr><td>val_loss</td><td>0.79794</td></tr></table><br/></div></div>"
            ]
          },
          "metadata": {}
        },
        {
          "output_type": "display_data",
          "data": {
            "text/plain": [
              "<IPython.core.display.HTML object>"
            ],
            "text/html": [
              "Synced <strong style=\"color:#cdcd00\">sandy-sweep-3</strong>: <a href=\"https://wandb.ai/chanin-eom/Lenet_for_report/runs/se265a3i\" target=\"_blank\">https://wandb.ai/chanin-eom/Lenet_for_report/runs/se265a3i</a><br/>Synced 5 W&B file(s), 1 media file(s), 0 artifact file(s) and 1 other file(s)"
            ]
          },
          "metadata": {}
        },
        {
          "output_type": "display_data",
          "data": {
            "text/plain": [
              "<IPython.core.display.HTML object>"
            ],
            "text/html": [
              "Find logs at: <code>./wandb/run-20220611_151302-se265a3i/logs</code>"
            ]
          },
          "metadata": {}
        }
      ]
    },
    {
      "cell_type": "markdown",
      "source": [
        "# MobileNetV2 wandb"
      ],
      "metadata": {
        "id": "xg92G9PYUmgF"
      }
    },
    {
      "cell_type": "code",
      "source": [
        "# 3채널 영상을 다루는 MobileNet을 위해 data를 3채널 color 영상으로 변경\n",
        "rgb_train_data = tf.image.grayscale_to_rgb(train_data)\n",
        "rgb_val_data = tf.image.grayscale_to_rgb(val_data)"
      ],
      "metadata": {
        "id": "SMdI8UrUUvdX"
      },
      "execution_count": null,
      "outputs": []
    },
    {
      "cell_type": "code",
      "source": [
        "print(rgb_train_data.shape)\n",
        "print(train_label.shape)\n",
        "print(rgb_val_data.shape)\n",
        "print(val_label.shape)"
      ],
      "metadata": {
        "colab": {
          "base_uri": "https://localhost:8080/"
        },
        "id": "irqnlQ3QT6Wz",
        "outputId": "6cdb7931-f6af-4114-d251-7bf920857038"
      },
      "execution_count": null,
      "outputs": [
        {
          "output_type": "stream",
          "name": "stdout",
          "text": [
            "(62000, 28, 28, 3)\n",
            "(62000, 62)\n",
            "(12400, 28, 28, 3)\n",
            "(12400, 62)\n"
          ]
        }
      ]
    },
    {
      "cell_type": "code",
      "source": [
        "# wandb 중 optimizer 변경을 위한 opt 선택 함수\n",
        "def select_opt(opt_name, lr):\n",
        "  if opt_name == 'adam':\n",
        "    optimizer = keras.optimizers.Adam(learning_rate=lr, beta_1=0.9, beta_2=0.999)\n",
        "  elif opt_name == 'rmsprop':\n",
        "    optimizer = keras.optimizers.RMSprop(learning_rate=lr, rho=0.9)\n",
        "  elif opt_name == 'sgd':\n",
        "    optimizer = keras.optimizers.SGD(learning_rate = lr)\n",
        "  elif opt_name == 'momentum':\n",
        "    optimizer = keras.optimizers.SGD(learning_rate = lr, momentum=0.9)\n",
        "  elif opt_name == 'nesterov':\n",
        "    optimizer = keras.optimizers.SGD(learning_rate=lr, momentum=0.9, nesterov=True)\n",
        "  elif opt_name == 'adagrad':\n",
        "    optimizer = keras.optimizers.Adagrad(learning_rate=lr)\n",
        "  elif opt_name == 'adamax':\n",
        "    optimizer = keras.optimizers.Adamax(learning_rate=lr, beta_1=0.9, beta_2=0.999)\n",
        "  elif opt_name == 'nadam':\n",
        "    optimizer = keras.optimizers.Nadam(learning_rate=lr, beta_1=0.9, beta_2=0.999)\n",
        "\n",
        "  return optimizer"
      ],
      "metadata": {
        "id": "GmNcsnl4VGHS"
      },
      "execution_count": 14,
      "outputs": []
    },
    {
      "cell_type": "code",
      "source": [
        "# wandb activation function 변경을 위한 선택 함수\n",
        "def select_activation(function):\n",
        "  if function == 'relu':\n",
        "    activation = keras.layers.ReLU()\n",
        "  elif function == 'prelu':\n",
        "    activation = keras.layers.PReLU()\n",
        "  elif function == 'leacky_relu':\n",
        "    activation = keras.layers.LeakyReLU()\n",
        "  elif function == 'elu':\n",
        "    activation = keras.layers.ELU()\n",
        "\n",
        "  return activation"
      ],
      "metadata": {
        "id": "jeMs0E7cVLKT"
      },
      "execution_count": 15,
      "outputs": []
    },
    {
      "cell_type": "code",
      "source": [
        "# mobileV2 다운로드\n",
        "mobile2 = tf.keras.applications.mobilenet_v2.MobileNetV2(input_shape = (224, 224, 3), include_top=False)"
      ],
      "metadata": {
        "id": "k1hCOCTmVf83"
      },
      "execution_count": null,
      "outputs": []
    },
    {
      "cell_type": "code",
      "source": [
        "# MobilenetV2 파라미터 세팅 실험을 위한 학습 함수\n",
        "def sweep_for_mobile(config_defaults=None):\n",
        "    # Set default values\n",
        "    config_defaults = {\n",
        "      'batch_size': 64,\n",
        "      'optimizer' : 'adam',\n",
        "      'learning_rate' : 0.01,\n",
        "      'activation' : 'relu',\n",
        "      'n_Dense_layer' : 1,\n",
        "      'first_layer_node' : 1000,\n",
        "      'second_layer_node' : 100\n",
        "    }\n",
        "    # Initialize wandb with a sample project name\n",
        "    wandb.init(config=config_defaults)  # this gets over-written in the Sweep\n",
        "\n",
        "    # initialize model\n",
        "    global_average_layer = tf.keras.layers.GlobalAveragePooling2D()\n",
        "    prediction_layer = tf.keras.layers.Dense(62, activation = 'softmax')\n",
        "    node_per_layer = [wandb.config.first_layer_node, wandb.config.second_layer_node]\n",
        "    \n",
        "\n",
        "    model = keras.models.Sequential()\n",
        "    model.add(tf.keras.layers.Normalization( axis=-1, mean=44.412914, variance=84.77896, input_shape = (28, 28, 3)))\n",
        "    model.add(tf.keras.layers.Resizing(height = 224, width = 224))\n",
        "    model.add(mobile2)\n",
        "    model.add(global_average_layer)\n",
        "    for i in range(wandb.config.n_Dense_layer):\n",
        "      model.add(tf.keras.layers.Dense(node_per_layer[i]))\n",
        "      model.add(select_activation(wandb.config.activation))\n",
        "    model.add(prediction_layer)\n",
        "    \n",
        "    print(model.summary())\n",
        "\n",
        "    # Instantiate an optimizer to train the model.\n",
        "    optimizer = select_opt(wandb.config.optimizer, wandb.config.learning_rate)\n",
        "    # Instantiate a loss function.\n",
        "    # loss_fn = keras.losses.SparseCategoricalCrossentropy(from_logits=True)\n",
        "\n",
        "\n",
        "    model.compile(loss=\"categorical_crossentropy\",\n",
        "                optimizer=optimizer,\n",
        "                metrics=[\"accuracy\"])\n",
        "    hist = model.fit(rgb_train_data, train_label, epochs=2, validation_data=(rgb_val_data, val_label))"
      ],
      "metadata": {
        "id": "8mDC9dQRVOlT"
      },
      "execution_count": null,
      "outputs": []
    },
    {
      "cell_type": "code",
      "source": [
        "# 변경할 파라미터\n",
        "sweep_config = {\n",
        "  'method': 'random', \n",
        "  'parameters': {\n",
        "      \n",
        "      'optimizer': {\n",
        "          'values' : ['adam', 'rmsprop', 'sgd', 'momentum', 'nesterov', 'adagrad', 'adamax', 'nadam']\n",
        "      },\n",
        "      'learning_rate':{\n",
        "          'values' : [0.1, 0.05, 0.01, 0.005]\n",
        "      },\n",
        "      'activation' : {\n",
        "          'values' : ['relu', 'leacky_relu', 'elu']\n",
        "      },\n",
        "      'n_Dense_layer' : {\n",
        "          'values' : [1, 2]\n",
        "      },\n",
        "      'first_layer_node' : {\n",
        "          'values' : [1000, 800, 500]\n",
        "      },\n",
        "      'second_layer_node' : {\n",
        "          'values' : [100, 120]\n",
        "      }\n",
        "  }\n",
        "}\n",
        "\n",
        "# wandb 프로젝트 생성 및 실행\n",
        "sweep_id = wandb.sweep(sweep_config, project=\"mobilenetv2_for_report\")\n",
        "wandb.agent(sweep_id, function=sweep_for_mobile, count=3)"
      ],
      "metadata": {
        "colab": {
          "base_uri": "https://localhost:8080/",
          "height": 1000,
          "referenced_widgets": [
            "5597b9f1a0c04b9f940e858a4ed9c012",
            "b73bdff7469e477f8deae78d042e8913",
            "bea82aa827a941c2be4c9566153e2014",
            "db1c0cd578a64bcd95b78d22f020d721",
            "d11f816e09dd4553a7f8a0594c77a16b",
            "c0b9b265a23c49b4abcead43be35e8ee",
            "a2ab754be62b4bb983aba54c3e8ba448",
            "caf81f8764ef402cb1dfa73e77f48851",
            "f37bf1fdbb184e90846d1899b99c674e",
            "0fcea12d09d44663b10061744134bc21",
            "72f107af458c44bd8df09574f08e2412",
            "189abcc2b4934bfa8c55f005ffca4a8b",
            "cc30e235dff04d158b09d2ef4fc13aec",
            "8748646e8a0144abb2c887d7430dc7fa",
            "be63ae754de24e8ba435ec62e256bfcc",
            "bb4615c8691c48eba8ea468f4aa3e338",
            "81ed8bb876e6409dba6a1091d70add68",
            "0b6c7dc270da40da86a02f0e001181bc",
            "f840c39b9b0048028017675cc8e1dbb2",
            "e54ea4d2eb99463493b43fc82f7a70a2",
            "e777bc70b547428d82311a1a6594bb82",
            "c455ff0003bc4dce8deb7cd388cc8bbc",
            "18fcb9ac9b0a4c2e9e723a175d5fd91c",
            "72f37ade56094f2b9655dc3449090f07"
          ]
        },
        "id": "sbH61CPRVmMD",
        "outputId": "9c9c3a64-8b11-426a-bbb5-b93b4ec91e61"
      },
      "execution_count": null,
      "outputs": [
        {
          "output_type": "stream",
          "name": "stdout",
          "text": [
            "Create sweep with ID: 980vasdg\n",
            "Sweep URL: https://wandb.ai/chanin-eom/mobilenetv2_for_report/sweeps/980vasdg\n"
          ]
        },
        {
          "output_type": "stream",
          "name": "stderr",
          "text": [
            "\u001b[34m\u001b[1mwandb\u001b[0m: Agent Starting Run: ko737kpf with config:\n",
            "\u001b[34m\u001b[1mwandb\u001b[0m: \tactivation: relu\n",
            "\u001b[34m\u001b[1mwandb\u001b[0m: \tfirst_layer_node: 500\n",
            "\u001b[34m\u001b[1mwandb\u001b[0m: \tlearning_rate: 0.01\n",
            "\u001b[34m\u001b[1mwandb\u001b[0m: \tn_Dense_layer: 1\n",
            "\u001b[34m\u001b[1mwandb\u001b[0m: \toptimizer: nesterov\n",
            "\u001b[34m\u001b[1mwandb\u001b[0m: \tsecond_layer_node: 120\n",
            "\u001b[34m\u001b[1mwandb\u001b[0m: Currently logged in as: \u001b[33mchanin-eom\u001b[0m. Use \u001b[1m`wandb login --relogin`\u001b[0m to force relogin\n"
          ]
        },
        {
          "output_type": "display_data",
          "data": {
            "text/plain": [
              "<IPython.core.display.HTML object>"
            ],
            "text/html": [
              "Tracking run with wandb version 0.12.18"
            ]
          },
          "metadata": {}
        },
        {
          "output_type": "display_data",
          "data": {
            "text/plain": [
              "<IPython.core.display.HTML object>"
            ],
            "text/html": [
              "Run data is saved locally in <code>/content/cnontent/MyDrive/SSU/nural_nework/project/wandb/run-20220611_154729-ko737kpf</code>"
            ]
          },
          "metadata": {}
        },
        {
          "output_type": "display_data",
          "data": {
            "text/plain": [
              "<IPython.core.display.HTML object>"
            ],
            "text/html": [
              "Syncing run <strong><a href=\"https://wandb.ai/chanin-eom/mobilenetv2_for_report/runs/ko737kpf\" target=\"_blank\">ethereal-sweep-1</a></strong> to <a href=\"https://wandb.ai/chanin-eom/mobilenetv2_for_report\" target=\"_blank\">Weights & Biases</a> (<a href=\"https://wandb.me/run\" target=\"_blank\">docs</a>)<br/>Sweep page:  <a href=\"https://wandb.ai/chanin-eom/mobilenetv2_for_report/sweeps/980vasdg\" target=\"_blank\">https://wandb.ai/chanin-eom/mobilenetv2_for_report/sweeps/980vasdg</a>"
            ]
          },
          "metadata": {}
        },
        {
          "output_type": "stream",
          "name": "stdout",
          "text": [
            "Model: \"sequential\"\n",
            "_________________________________________________________________\n",
            " Layer (type)                Output Shape              Param #   \n",
            "=================================================================\n",
            " normalization (Normalizatio  (None, 28, 28, 3)        0         \n",
            " n)                                                              \n",
            "                                                                 \n",
            " resizing (Resizing)         (None, 224, 224, 3)       0         \n",
            "                                                                 \n",
            " mobilenetv2_1.00_224 (Funct  (None, 7, 7, 1280)       2257984   \n",
            " ional)                                                          \n",
            "                                                                 \n",
            " global_average_pooling2d (G  (None, 1280)             0         \n",
            " lobalAveragePooling2D)                                          \n",
            "                                                                 \n",
            " dense_1 (Dense)             (None, 500)               640500    \n",
            "                                                                 \n",
            " re_lu (ReLU)                (None, 500)               0         \n",
            "                                                                 \n",
            " dense (Dense)               (None, 62)                31062     \n",
            "                                                                 \n",
            "=================================================================\n",
            "Total params: 2,929,546\n",
            "Trainable params: 2,895,434\n",
            "Non-trainable params: 34,112\n",
            "_________________________________________________________________\n",
            "None\n",
            "Epoch 1/2\n",
            "1938/1938 [==============================] - 320s 162ms/step - loss: 0.7854 - accuracy: 0.7013 - val_loss: 0.7429 - val_accuracy: 0.7049\n",
            "Epoch 2/2\n",
            "1938/1938 [==============================] - 311s 161ms/step - loss: 0.5622 - accuracy: 0.7605 - val_loss: 0.5561 - val_accuracy: 0.7673\n"
          ]
        },
        {
          "output_type": "display_data",
          "data": {
            "text/plain": [
              "<IPython.core.display.HTML object>"
            ],
            "text/html": [
              "Waiting for W&B process to finish... <strong style=\"color:green\">(success).</strong>"
            ]
          },
          "metadata": {}
        },
        {
          "output_type": "display_data",
          "data": {
            "text/plain": [
              "VBox(children=(Label(value='0.001 MB of 0.001 MB uploaded (0.000 MB deduped)\\r'), FloatProgress(value=1.0, max…"
            ],
            "application/vnd.jupyter.widget-view+json": {
              "version_major": 2,
              "version_minor": 0,
              "model_id": "5597b9f1a0c04b9f940e858a4ed9c012"
            }
          },
          "metadata": {}
        },
        {
          "output_type": "display_data",
          "data": {
            "text/plain": [
              "<IPython.core.display.HTML object>"
            ],
            "text/html": [
              "Synced <strong style=\"color:#cdcd00\">ethereal-sweep-1</strong>: <a href=\"https://wandb.ai/chanin-eom/mobilenetv2_for_report/runs/ko737kpf\" target=\"_blank\">https://wandb.ai/chanin-eom/mobilenetv2_for_report/runs/ko737kpf</a><br/>Synced 5 W&B file(s), 0 media file(s), 0 artifact file(s) and 0 other file(s)"
            ]
          },
          "metadata": {}
        },
        {
          "output_type": "display_data",
          "data": {
            "text/plain": [
              "<IPython.core.display.HTML object>"
            ],
            "text/html": [
              "Find logs at: <code>./wandb/run-20220611_154729-ko737kpf/logs</code>"
            ]
          },
          "metadata": {}
        },
        {
          "output_type": "stream",
          "name": "stderr",
          "text": [
            "\u001b[34m\u001b[1mwandb\u001b[0m: Agent Starting Run: swojc8ef with config:\n",
            "\u001b[34m\u001b[1mwandb\u001b[0m: \tactivation: leacky_relu\n",
            "\u001b[34m\u001b[1mwandb\u001b[0m: \tfirst_layer_node: 800\n",
            "\u001b[34m\u001b[1mwandb\u001b[0m: \tlearning_rate: 0.1\n",
            "\u001b[34m\u001b[1mwandb\u001b[0m: \tn_Dense_layer: 2\n",
            "\u001b[34m\u001b[1mwandb\u001b[0m: \toptimizer: sgd\n",
            "\u001b[34m\u001b[1mwandb\u001b[0m: \tsecond_layer_node: 100\n"
          ]
        },
        {
          "output_type": "display_data",
          "data": {
            "text/plain": [
              "<IPython.core.display.HTML object>"
            ],
            "text/html": [
              "Tracking run with wandb version 0.12.18"
            ]
          },
          "metadata": {}
        },
        {
          "output_type": "display_data",
          "data": {
            "text/plain": [
              "<IPython.core.display.HTML object>"
            ],
            "text/html": [
              "Run data is saved locally in <code>/content/cnontent/MyDrive/SSU/nural_nework/project/wandb/run-20220611_155813-swojc8ef</code>"
            ]
          },
          "metadata": {}
        },
        {
          "output_type": "display_data",
          "data": {
            "text/plain": [
              "<IPython.core.display.HTML object>"
            ],
            "text/html": [
              "Syncing run <strong><a href=\"https://wandb.ai/chanin-eom/mobilenetv2_for_report/runs/swojc8ef\" target=\"_blank\">deep-sweep-2</a></strong> to <a href=\"https://wandb.ai/chanin-eom/mobilenetv2_for_report\" target=\"_blank\">Weights & Biases</a> (<a href=\"https://wandb.me/run\" target=\"_blank\">docs</a>)<br/>Sweep page:  <a href=\"https://wandb.ai/chanin-eom/mobilenetv2_for_report/sweeps/980vasdg\" target=\"_blank\">https://wandb.ai/chanin-eom/mobilenetv2_for_report/sweeps/980vasdg</a>"
            ]
          },
          "metadata": {}
        },
        {
          "output_type": "stream",
          "name": "stdout",
          "text": [
            "Model: \"sequential\"\n",
            "_________________________________________________________________\n",
            " Layer (type)                Output Shape              Param #   \n",
            "=================================================================\n",
            " normalization (Normalizatio  (None, 28, 28, 3)        0         \n",
            " n)                                                              \n",
            "                                                                 \n",
            " resizing (Resizing)         (None, 224, 224, 3)       0         \n",
            "                                                                 \n",
            " mobilenetv2_1.00_224 (Funct  (None, 7, 7, 1280)       2257984   \n",
            " ional)                                                          \n",
            "                                                                 \n",
            " global_average_pooling2d (G  (None, 1280)             0         \n",
            " lobalAveragePooling2D)                                          \n",
            "                                                                 \n",
            " dense_1 (Dense)             (None, 800)               1024800   \n",
            "                                                                 \n",
            " leaky_re_lu (LeakyReLU)     (None, 800)               0         \n",
            "                                                                 \n",
            " dense_2 (Dense)             (None, 100)               80100     \n",
            "                                                                 \n",
            " leaky_re_lu_1 (LeakyReLU)   (None, 100)               0         \n",
            "                                                                 \n",
            " dense (Dense)               (None, 62)                6262      \n",
            "                                                                 \n",
            "=================================================================\n",
            "Total params: 3,369,146\n",
            "Trainable params: 3,335,034\n",
            "Non-trainable params: 34,112\n",
            "_________________________________________________________________\n",
            "None\n",
            "Epoch 1/2\n",
            "1938/1938 [==============================] - 316s 161ms/step - loss: 0.6289 - accuracy: 0.7457 - val_loss: 0.6124 - val_accuracy: 0.7530\n",
            "Epoch 2/2\n",
            "1938/1938 [==============================] - 310s 160ms/step - loss: 0.5134 - accuracy: 0.7773 - val_loss: 0.5696 - val_accuracy: 0.7582\n"
          ]
        },
        {
          "output_type": "display_data",
          "data": {
            "text/plain": [
              "<IPython.core.display.HTML object>"
            ],
            "text/html": [
              "Waiting for W&B process to finish... <strong style=\"color:green\">(success).</strong>"
            ]
          },
          "metadata": {}
        },
        {
          "output_type": "display_data",
          "data": {
            "text/plain": [
              "VBox(children=(Label(value='0.001 MB of 0.001 MB uploaded (0.000 MB deduped)\\r'), FloatProgress(value=1.0, max…"
            ],
            "application/vnd.jupyter.widget-view+json": {
              "version_major": 2,
              "version_minor": 0,
              "model_id": "f37bf1fdbb184e90846d1899b99c674e"
            }
          },
          "metadata": {}
        },
        {
          "output_type": "display_data",
          "data": {
            "text/plain": [
              "<IPython.core.display.HTML object>"
            ],
            "text/html": [
              "Synced <strong style=\"color:#cdcd00\">deep-sweep-2</strong>: <a href=\"https://wandb.ai/chanin-eom/mobilenetv2_for_report/runs/swojc8ef\" target=\"_blank\">https://wandb.ai/chanin-eom/mobilenetv2_for_report/runs/swojc8ef</a><br/>Synced 5 W&B file(s), 0 media file(s), 0 artifact file(s) and 0 other file(s)"
            ]
          },
          "metadata": {}
        },
        {
          "output_type": "display_data",
          "data": {
            "text/plain": [
              "<IPython.core.display.HTML object>"
            ],
            "text/html": [
              "Find logs at: <code>./wandb/run-20220611_155813-swojc8ef/logs</code>"
            ]
          },
          "metadata": {}
        },
        {
          "output_type": "stream",
          "name": "stderr",
          "text": [
            "\u001b[34m\u001b[1mwandb\u001b[0m: Agent Starting Run: wwq7vcqe with config:\n",
            "\u001b[34m\u001b[1mwandb\u001b[0m: \tactivation: leacky_relu\n",
            "\u001b[34m\u001b[1mwandb\u001b[0m: \tfirst_layer_node: 1000\n",
            "\u001b[34m\u001b[1mwandb\u001b[0m: \tlearning_rate: 0.005\n",
            "\u001b[34m\u001b[1mwandb\u001b[0m: \tn_Dense_layer: 1\n",
            "\u001b[34m\u001b[1mwandb\u001b[0m: \toptimizer: momentum\n",
            "\u001b[34m\u001b[1mwandb\u001b[0m: \tsecond_layer_node: 100\n"
          ]
        },
        {
          "output_type": "display_data",
          "data": {
            "text/plain": [
              "<IPython.core.display.HTML object>"
            ],
            "text/html": [
              "Tracking run with wandb version 0.12.18"
            ]
          },
          "metadata": {}
        },
        {
          "output_type": "display_data",
          "data": {
            "text/plain": [
              "<IPython.core.display.HTML object>"
            ],
            "text/html": [
              "Run data is saved locally in <code>/content/cnontent/MyDrive/SSU/nural_nework/project/wandb/run-20220611_160949-wwq7vcqe</code>"
            ]
          },
          "metadata": {}
        },
        {
          "output_type": "display_data",
          "data": {
            "text/plain": [
              "<IPython.core.display.HTML object>"
            ],
            "text/html": [
              "Syncing run <strong><a href=\"https://wandb.ai/chanin-eom/mobilenetv2_for_report/runs/wwq7vcqe\" target=\"_blank\">rich-sweep-3</a></strong> to <a href=\"https://wandb.ai/chanin-eom/mobilenetv2_for_report\" target=\"_blank\">Weights & Biases</a> (<a href=\"https://wandb.me/run\" target=\"_blank\">docs</a>)<br/>Sweep page:  <a href=\"https://wandb.ai/chanin-eom/mobilenetv2_for_report/sweeps/980vasdg\" target=\"_blank\">https://wandb.ai/chanin-eom/mobilenetv2_for_report/sweeps/980vasdg</a>"
            ]
          },
          "metadata": {}
        },
        {
          "output_type": "stream",
          "name": "stdout",
          "text": [
            "Model: \"sequential\"\n",
            "_________________________________________________________________\n",
            " Layer (type)                Output Shape              Param #   \n",
            "=================================================================\n",
            " normalization (Normalizatio  (None, 28, 28, 3)        0         \n",
            " n)                                                              \n",
            "                                                                 \n",
            " resizing (Resizing)         (None, 224, 224, 3)       0         \n",
            "                                                                 \n",
            " mobilenetv2_1.00_224 (Funct  (None, 7, 7, 1280)       2257984   \n",
            " ional)                                                          \n",
            "                                                                 \n",
            " global_average_pooling2d (G  (None, 1280)             0         \n",
            " lobalAveragePooling2D)                                          \n",
            "                                                                 \n",
            " dense_1 (Dense)             (None, 1000)              1281000   \n",
            "                                                                 \n",
            " leaky_re_lu (LeakyReLU)     (None, 1000)              0         \n",
            "                                                                 \n",
            " dense (Dense)               (None, 62)                62062     \n",
            "                                                                 \n",
            "=================================================================\n",
            "Total params: 3,601,046\n",
            "Trainable params: 3,566,934\n",
            "Non-trainable params: 34,112\n",
            "_________________________________________________________________\n",
            "None\n",
            "Epoch 1/2\n",
            "1938/1938 [==============================] - 317s 161ms/step - loss: 0.5461 - accuracy: 0.7824 - val_loss: 0.5224 - val_accuracy: 0.7765\n",
            "Epoch 2/2\n",
            "1938/1938 [==============================] - 314s 162ms/step - loss: 0.4360 - accuracy: 0.8073 - val_loss: 0.5265 - val_accuracy: 0.7836\n"
          ]
        },
        {
          "output_type": "display_data",
          "data": {
            "text/plain": [
              "<IPython.core.display.HTML object>"
            ],
            "text/html": [
              "Waiting for W&B process to finish... <strong style=\"color:green\">(success).</strong>"
            ]
          },
          "metadata": {}
        },
        {
          "output_type": "display_data",
          "data": {
            "text/plain": [
              "VBox(children=(Label(value='0.001 MB of 0.001 MB uploaded (0.000 MB deduped)\\r'), FloatProgress(value=1.0, max…"
            ],
            "application/vnd.jupyter.widget-view+json": {
              "version_major": 2,
              "version_minor": 0,
              "model_id": "81ed8bb876e6409dba6a1091d70add68"
            }
          },
          "metadata": {}
        },
        {
          "output_type": "display_data",
          "data": {
            "text/plain": [
              "<IPython.core.display.HTML object>"
            ],
            "text/html": [
              "Synced <strong style=\"color:#cdcd00\">rich-sweep-3</strong>: <a href=\"https://wandb.ai/chanin-eom/mobilenetv2_for_report/runs/wwq7vcqe\" target=\"_blank\">https://wandb.ai/chanin-eom/mobilenetv2_for_report/runs/wwq7vcqe</a><br/>Synced 5 W&B file(s), 0 media file(s), 0 artifact file(s) and 0 other file(s)"
            ]
          },
          "metadata": {}
        },
        {
          "output_type": "display_data",
          "data": {
            "text/plain": [
              "<IPython.core.display.HTML object>"
            ],
            "text/html": [
              "Find logs at: <code>./wandb/run-20220611_160949-wwq7vcqe/logs</code>"
            ]
          },
          "metadata": {}
        }
      ]
    },
    {
      "cell_type": "markdown",
      "source": [
        "# ResNet_ResNet wandb"
      ],
      "metadata": {
        "id": "7VDf-nFpV4jN"
      }
    },
    {
      "cell_type": "code",
      "source": [
        "# Residual block class\n",
        "class ResnetBlock(keras.models.Model):\n",
        "    \"\"\"\n",
        "    A standard resnet block.\n",
        "    \"\"\"\n",
        "\n",
        "    def __init__(self, channels: int, down_sample=False):\n",
        "        \"\"\"\n",
        "        channels: same as number of convolution kernels\n",
        "        \"\"\"\n",
        "        super().__init__()\n",
        "\n",
        "        self.__channels = channels\n",
        "        self.__down_sample = down_sample\n",
        "        self.__strides = [2, 1] if down_sample else [1, 1]\n",
        "\n",
        "        KERNEL_SIZE = (3, 3)\n",
        "        # use He initialization, instead of Xavier (a.k.a 'glorot_uniform' in Keras), as suggested in [2]\n",
        "        INIT_SCHEME = \"he_normal\"\n",
        "\n",
        "        self.conv_1 = keras.layers.Conv2D(self.__channels, strides=self.__strides[0],\n",
        "                             kernel_size=KERNEL_SIZE, padding=\"same\", kernel_initializer=INIT_SCHEME)\n",
        "        self.bn_1 = keras.layers.BatchNormalization()\n",
        "        self.conv_2 = keras.layers.Conv2D(self.__channels, strides=self.__strides[1],\n",
        "                             kernel_size=KERNEL_SIZE, padding=\"same\", kernel_initializer=INIT_SCHEME)\n",
        "        self.bn_2 = keras.layers.BatchNormalization()\n",
        "        self.merge = keras.layers.Add()\n",
        "\n",
        "        if self.__down_sample:\n",
        "            # perform down sampling using stride of 2, according to [1].\n",
        "            self.res_conv = keras.layers.Conv2D(\n",
        "                self.__channels, strides=2, kernel_size=(1, 1), kernel_initializer=INIT_SCHEME, padding=\"same\")\n",
        "            self.res_bn = keras.layers.BatchNormalization()\n",
        "\n",
        "    def call(self, inputs):\n",
        "        res = inputs\n",
        "\n",
        "        x = self.conv_1(inputs)\n",
        "        x = self.bn_1(x)\n",
        "        x = tf.nn.relu(x)\n",
        "        x = self.conv_2(x)\n",
        "        x = self.bn_2(x)\n",
        "\n",
        "        if self.__down_sample:\n",
        "            res = self.res_conv(res)\n",
        "            res = self.res_bn(res)\n",
        "\n",
        "        # if not perform down sample, then add a shortcut directly\n",
        "        x = self.merge([x, res])\n",
        "        out = tf.nn.relu(x)\n",
        "        return out"
      ],
      "metadata": {
        "id": "0wsDOucvVxWh"
      },
      "execution_count": 13,
      "outputs": []
    },
    {
      "cell_type": "code",
      "source": [
        "# Res(Feature detection)_Res(Domain_detection) 구조 모델 layer 설정 class\n",
        "# wandb에 의해 선택적으로 각 layer를 변경할 수 있도록 설계\n",
        "class Res_5x5_v4(keras.models.Model):\n",
        "\n",
        "    def __init__(self, num_classes, config_list, **kwargs):\n",
        "        \"\"\"\n",
        "            num_classes: number of classes in specific classification task.\n",
        "        \"\"\"\n",
        "        super().__init__(**kwargs)\n",
        "        self.feature_layer_depth, self.num_layer_depth, \\\n",
        "        self.upper_layer_depth, self.lower_layer_depth = config_list\n",
        "\n",
        "        self.input_ch = 32\n",
        "        self.layer_ch = 32 * self.feature_layer_depth\n",
        "        self.Batch_Norm_Layer = keras.layers.BatchNormalization()\n",
        "        self.Global_Average_Pool_Layer = keras.layers.GlobalAveragePooling2D()\n",
        "        self.Flatten_Layer = keras.layers.Flatten()\n",
        "\n",
        "        self.Feature_Detection_Layer = self.feature_detection_layer()\n",
        "\n",
        "        self.Number_Layer = self.number_layer()\n",
        "        self.Upper_Letter_Layer = self.upper_letter_layer()\n",
        "        self.Lower_Letter_Layer = self.lower_letter_layer()\n",
        "\n",
        "\n",
        "        self.Prediction_Layer = keras.layers.Dense(num_classes, activation=\"softmax\")\n",
        "\n",
        "    def feature_detection_layer(self):\n",
        "      feature_dec_layer = keras.models.Sequential()\n",
        "      feature_dec_layer.add(self.Batch_Norm_Layer)\n",
        "      feature_dec_layer.add(keras.layers.Conv2D(self.input_ch, (5, 5), strides=1, padding=\"same\", kernel_initializer=\"he_normal\"))\n",
        "      feature_dec_layer.add(self.Batch_Norm_Layer)\n",
        "      feature_dec_layer.add(keras.layers.MaxPool2D(pool_size=(2, 2), strides=1, padding=\"same\"))\n",
        "      feature_dec_layer.add(ResnetBlock(self.input_ch))\n",
        "      feature_dec_layer.add(ResnetBlock(self.input_ch))\n",
        "      \n",
        "      for i in range(self.feature_layer_depth-1):\n",
        "        feature_dec_layer.add(ResnetBlock(self.input_ch*(2*(i+1)), down_sample=True))\n",
        "        feature_dec_layer.add(ResnetBlock(self.input_ch*(2*(i+1))))\n",
        "\n",
        "\n",
        "      return feature_dec_layer\n",
        "\n",
        "    def number_layer(self):\n",
        "      num_layer = keras.models.Sequential()\n",
        "      for i in range(self.num_layer_depth):\n",
        "        num_layer.add(ResnetBlock(self.layer_ch*(2*(i+1)), down_sample=True))\n",
        "        num_layer.add(ResnetBlock(self.layer_ch*(2*(i+1))))\n",
        "      num_layer.add(self.Global_Average_Pool_Layer)\n",
        "      num_layer.add(self.Flatten_Layer)\n",
        "\n",
        "      return num_layer\n",
        "\n",
        "    def upper_letter_layer(self):\n",
        "      upper_layer = keras.models.Sequential()\n",
        "      for i in range(self.upper_layer_depth):\n",
        "        upper_layer.add(ResnetBlock(self.layer_ch*(2*(i+1)), down_sample=True))\n",
        "        upper_layer.add(ResnetBlock(self.layer_ch*(2*(i+1))))\n",
        "      upper_layer.add(self.Global_Average_Pool_Layer)\n",
        "      upper_layer.add(self.Flatten_Layer)\n",
        "      return upper_layer\n",
        "\n",
        "    def lower_letter_layer(self):\n",
        "      lower_layer = keras.models.Sequential()\n",
        "\n",
        "      for i in range(self.lower_layer_depth):\n",
        "        lower_layer.add(ResnetBlock(self.layer_ch*(2*(i+1)), down_sample=True))\n",
        "        lower_layer.add(ResnetBlock(self.layer_ch*(2*(i+1))))\n",
        "      lower_layer.add(self.Global_Average_Pool_Layer)\n",
        "      lower_layer.add(self.Flatten_Layer)\n",
        "      return lower_layer"
      ],
      "metadata": {
        "id": "GeZoHh7cWEIK"
      },
      "execution_count": null,
      "outputs": []
    },
    {
      "cell_type": "code",
      "source": [
        "# wandb에서 선택된 hyper parameter들의 배열을 입력으로 받아서\n",
        "# 적절한 model을 선택하는 함수\n",
        "\n",
        "def select_model(config_list):\n",
        "  model_class = Res_5x5_v4(62, config_list[:-2])\n",
        "  dense_layer_depth = config_list[-2]\n",
        "  num_nueran = config_list[-1]\n",
        "\n",
        "  input = keras.layers.Input(shape=(28, 28, 1))\n",
        "\n",
        "  feature_out = model_class.Feature_Detection_Layer(input)\n",
        "\n",
        "  num_out = model_class.Number_Layer(feature_out)\n",
        "  upper_out = model_class.Upper_Letter_Layer(feature_out)\n",
        "  lower_out = model_class.Lower_Letter_Layer(feature_out)\n",
        "\n",
        "  final_out = keras.layers.concatenate([num_out, upper_out, lower_out])\n",
        "  for i in range(dense_layer_depth):\n",
        "    final_out = tf.keras.layers.Dense(num_nueran, activation = 'relu')(final_out)\n",
        "\n",
        "  result = model_class.Prediction_Layer(final_out)\n",
        "\n",
        "  model = keras.models.Model(inputs=[input], outputs=[result])\n",
        "  return model"
      ],
      "metadata": {
        "id": "vSLjEeWQWF7b"
      },
      "execution_count": null,
      "outputs": []
    },
    {
      "cell_type": "code",
      "source": [
        "# Res_Res 구조 모델 파라미터 세팅 실험을 위한 학습 함수\n",
        "def sweep_for_res_res(config_defaults=None):\n",
        "    # Set default values\n",
        "    config_defaults = {\n",
        "      'batch_size': 64,\n",
        "      'optimizer' : 'adam',\n",
        "      'learning_rate' : 0.01,\n",
        "      'feature_layer_depth' : 2,\n",
        "      'num_layer_depth' : 2,\n",
        "      'upper_layer_depth' : 2,\n",
        "      'lower_layer_depth' : 2,\n",
        "      'prediction_layer' : 1,\n",
        "      'dense_nueran' : 100 \n",
        "    }\n",
        "    # Initialize wandb with a sample project name\n",
        "    wandb.init(config=config_defaults)  # this gets over-written in the Sweep\n",
        "\n",
        "    # initialize model\n",
        "    early_stopping_cb = keras.callbacks.EarlyStopping(patience=10, restore_best_weights=True)\n",
        "    config_list = [wandb.config.feature_layer_depth, wandb.config.num_layer_depth, \n",
        "                   wandb.config.upper_layer_depth, wandb.config.lower_layer_depth, wandb.config.prediction_layer, wandb.config.dense_nueran]\n",
        "    model = select_model(config_list)\n",
        "    \n",
        "    print(model.summary())\n",
        "\n",
        "    # Instantiate an optimizer to train the model.\n",
        "    optimizer = select_opt(wandb.config.optimizer, wandb.config.learning_rate)\n",
        "\n",
        "\n",
        "    model.compile(loss=\"categorical_crossentropy\",\n",
        "                optimizer=optimizer,\n",
        "                metrics=[\"accuracy\"])\n",
        "    hist = model.fit(train_data, train_label, epochs=2, validation_data=(val_data, val_label), callbacks=[early_stopping_cb])"
      ],
      "metadata": {
        "id": "F2eHIS9qZbtJ"
      },
      "execution_count": null,
      "outputs": []
    },
    {
      "cell_type": "code",
      "source": [
        "# 변경할 파라미터\n",
        "sweep_config_res_res = {\n",
        "  'method': 'random', \n",
        "  'parameters': {\n",
        "      \n",
        "      'optimizer': {\n",
        "          'values' : ['adam', 'rmsprop', 'sgd', 'momentum', 'nesterov', 'adagrad', 'adamax', 'nadam']\n",
        "      },\n",
        "      'learning_rate':{\n",
        "          'values' : [0.1, 0.05, 0.01, 0.005]\n",
        "      },\n",
        "      'feature_layer_depth' : {\n",
        "          'values' : [1, 2]\n",
        "      },\n",
        "      'num_layer_depth' : {\n",
        "          'values' : [1, 2]\n",
        "      },\n",
        "      'upper_layer_depth' : {\n",
        "          'values' : [1, 2]\n",
        "      },\n",
        "      'lower_layer_depth' : {\n",
        "          'values' : [1, 2]\n",
        "      },\n",
        "      'prediction_layer' : {\n",
        "          'values' : [0, 1]\n",
        "      },\n",
        "      'dense_nueran' : {\n",
        "          'values' : [200, 150, 120, 100]\n",
        "      }\n",
        "  }\n",
        "}"
      ],
      "metadata": {
        "id": "8S4V77J5Zgt6"
      },
      "execution_count": null,
      "outputs": []
    },
    {
      "cell_type": "code",
      "source": [
        "# wandb 프로젝트 생성 및 실행\n",
        "sweep_id = wandb.sweep(sweep_config_res_res, project=\"sweep_for_res_res\")\n",
        "wandb.agent(sweep_id, function=sweep_for_res_res, count=3)"
      ],
      "metadata": {
        "colab": {
          "base_uri": "https://localhost:8080/",
          "height": 1000,
          "referenced_widgets": [
            "7a9ff33ce28f46e2a62f04beaaef8efb",
            "3d531c2239ed48fe97abd519ccc9184e",
            "667bfbb6bd044e798b206400fdbf2e72",
            "ea0857a8bed9421bbf864229c9f18cd8",
            "dd2d909382374e7b8ed65e1ad7b6eb93",
            "0f1ca74342b541c7b44a69c5dfb5d400",
            "31ef60f70ed440debd5731116862e143",
            "4319dca961cb48d3903f3b7d80c20a8c",
            "9abe5de70a8a4767ba98bb3941bcf9fd",
            "f606e7609929499297eb27e941cb8480",
            "d2eebb741a91490dbcd6cd2a20c6bf88",
            "8b4da1af6ee3435391ba917131201c92",
            "e0077a45391b48d18ac144dd976e13fe",
            "62f9066bf3324c1b8ed1b5adef85709c",
            "9bfba02cca324af49a0929fbb3416959",
            "666eb329eba645c0aa48692f4519481d",
            "efdbfbf640c84cf5b1a51621557f54ce",
            "65b354e5a94842779c8a25805c9d9415",
            "7fe2f1f47a944fb580d0df6ab1469f9e",
            "ddff510f57094fd998b5024803d649e8",
            "de157c70fc2c4e2284472d34a4c7ab8a",
            "e23571b6b401447686cc535382ae18ea",
            "67dff272d4144b70bed01060fe4cc3ef",
            "932ac1a2a8f74c6c9ffd90cfcc4b0984"
          ]
        },
        "id": "mGJL8wCzaA2t",
        "outputId": "8fc81fd2-541e-4c41-ccf5-d9916d5cd5cd"
      },
      "execution_count": null,
      "outputs": [
        {
          "output_type": "stream",
          "name": "stdout",
          "text": [
            "Create sweep with ID: irozrjcj\n",
            "Sweep URL: https://wandb.ai/chanin-eom/sweep_for_res_res/sweeps/irozrjcj\n"
          ]
        },
        {
          "output_type": "stream",
          "name": "stderr",
          "text": [
            "\u001b[34m\u001b[1mwandb\u001b[0m: Agent Starting Run: hbz7avvb with config:\n",
            "\u001b[34m\u001b[1mwandb\u001b[0m: \tdense_nueran: 100\n",
            "\u001b[34m\u001b[1mwandb\u001b[0m: \tfeature_layer_depth: 2\n",
            "\u001b[34m\u001b[1mwandb\u001b[0m: \tlearning_rate: 0.1\n",
            "\u001b[34m\u001b[1mwandb\u001b[0m: \tlower_layer_depth: 2\n",
            "\u001b[34m\u001b[1mwandb\u001b[0m: \tnum_layer_depth: 2\n",
            "\u001b[34m\u001b[1mwandb\u001b[0m: \toptimizer: sgd\n",
            "\u001b[34m\u001b[1mwandb\u001b[0m: \tprediction_layer: 0\n",
            "\u001b[34m\u001b[1mwandb\u001b[0m: \tupper_layer_depth: 1\n"
          ]
        },
        {
          "output_type": "display_data",
          "data": {
            "text/plain": [
              "<IPython.core.display.HTML object>"
            ],
            "text/html": [
              "Tracking run with wandb version 0.12.18"
            ]
          },
          "metadata": {}
        },
        {
          "output_type": "display_data",
          "data": {
            "text/plain": [
              "<IPython.core.display.HTML object>"
            ],
            "text/html": [
              "Run data is saved locally in <code>/content/cnontent/MyDrive/SSU/nural_nework/project/wandb/run-20220611_162917-hbz7avvb</code>"
            ]
          },
          "metadata": {}
        },
        {
          "output_type": "display_data",
          "data": {
            "text/plain": [
              "<IPython.core.display.HTML object>"
            ],
            "text/html": [
              "Syncing run <strong><a href=\"https://wandb.ai/chanin-eom/sweep_for_res_res/runs/hbz7avvb\" target=\"_blank\">peach-sweep-1</a></strong> to <a href=\"https://wandb.ai/chanin-eom/sweep_for_res_res\" target=\"_blank\">Weights & Biases</a> (<a href=\"https://wandb.me/run\" target=\"_blank\">docs</a>)<br/>Sweep page:  <a href=\"https://wandb.ai/chanin-eom/sweep_for_res_res/sweeps/irozrjcj\" target=\"_blank\">https://wandb.ai/chanin-eom/sweep_for_res_res/sweeps/irozrjcj</a>"
            ]
          },
          "metadata": {}
        },
        {
          "output_type": "stream",
          "name": "stdout",
          "text": [
            "Model: \"model\"\n",
            "__________________________________________________________________________________________________\n",
            " Layer (type)                   Output Shape         Param #     Connected to                     \n",
            "==================================================================================================\n",
            " input_1 (InputLayer)           [(None, 28, 28, 1)]  0           []                               \n",
            "                                                                                                  \n",
            " sequential (Sequential)        (None, 14, 14, 64)   171012      ['input_1[0][0]']                \n",
            "                                                                                                  \n",
            " sequential_1 (Sequential)      (None, 256)          2631040     ['sequential[0][0]']             \n",
            "                                                                                                  \n",
            " sequential_2 (Sequential)      (None, 128)          527488      ['sequential[0][0]']             \n",
            "                                                                                                  \n",
            " sequential_3 (Sequential)      (None, 256)          2631040     ['sequential[0][0]']             \n",
            "                                                                                                  \n",
            " concatenate (Concatenate)      (None, 640)          0           ['sequential_1[0][0]',           \n",
            "                                                                  'sequential_2[0][0]',           \n",
            "                                                                  'sequential_3[0][0]']           \n",
            "                                                                                                  \n",
            " dense (Dense)                  (None, 62)           39742       ['concatenate[0][0]']            \n",
            "                                                                                                  \n",
            "==================================================================================================\n",
            "Total params: 6,000,322\n",
            "Trainable params: 5,990,464\n",
            "Non-trainable params: 9,858\n",
            "__________________________________________________________________________________________________\n",
            "None\n",
            "Epoch 1/2\n",
            "1938/1938 [==============================] - 51s 24ms/step - loss: 1.0791 - accuracy: 0.6390 - val_loss: 0.8028 - val_accuracy: 0.7113\n",
            "Epoch 2/2\n",
            "1938/1938 [==============================] - 44s 23ms/step - loss: 0.6481 - accuracy: 0.7360 - val_loss: 0.7432 - val_accuracy: 0.7041\n"
          ]
        },
        {
          "output_type": "display_data",
          "data": {
            "text/plain": [
              "<IPython.core.display.HTML object>"
            ],
            "text/html": [
              "Waiting for W&B process to finish... <strong style=\"color:green\">(success).</strong>"
            ]
          },
          "metadata": {}
        },
        {
          "output_type": "display_data",
          "data": {
            "text/plain": [
              "VBox(children=(Label(value='0.001 MB of 0.001 MB uploaded (0.000 MB deduped)\\r'), FloatProgress(value=1.0, max…"
            ],
            "application/vnd.jupyter.widget-view+json": {
              "version_major": 2,
              "version_minor": 0,
              "model_id": "7a9ff33ce28f46e2a62f04beaaef8efb"
            }
          },
          "metadata": {}
        },
        {
          "output_type": "display_data",
          "data": {
            "text/plain": [
              "<IPython.core.display.HTML object>"
            ],
            "text/html": [
              "Synced <strong style=\"color:#cdcd00\">peach-sweep-1</strong>: <a href=\"https://wandb.ai/chanin-eom/sweep_for_res_res/runs/hbz7avvb\" target=\"_blank\">https://wandb.ai/chanin-eom/sweep_for_res_res/runs/hbz7avvb</a><br/>Synced 5 W&B file(s), 0 media file(s), 0 artifact file(s) and 0 other file(s)"
            ]
          },
          "metadata": {}
        },
        {
          "output_type": "display_data",
          "data": {
            "text/plain": [
              "<IPython.core.display.HTML object>"
            ],
            "text/html": [
              "Find logs at: <code>./wandb/run-20220611_162917-hbz7avvb/logs</code>"
            ]
          },
          "metadata": {}
        },
        {
          "output_type": "stream",
          "name": "stderr",
          "text": [
            "\u001b[34m\u001b[1mwandb\u001b[0m: Sweep Agent: Waiting for job.\n",
            "\u001b[34m\u001b[1mwandb\u001b[0m: Job received.\n",
            "\u001b[34m\u001b[1mwandb\u001b[0m: Agent Starting Run: m0rv8vei with config:\n",
            "\u001b[34m\u001b[1mwandb\u001b[0m: \tdense_nueran: 200\n",
            "\u001b[34m\u001b[1mwandb\u001b[0m: \tfeature_layer_depth: 1\n",
            "\u001b[34m\u001b[1mwandb\u001b[0m: \tlearning_rate: 0.1\n",
            "\u001b[34m\u001b[1mwandb\u001b[0m: \tlower_layer_depth: 2\n",
            "\u001b[34m\u001b[1mwandb\u001b[0m: \tnum_layer_depth: 1\n",
            "\u001b[34m\u001b[1mwandb\u001b[0m: \toptimizer: adam\n",
            "\u001b[34m\u001b[1mwandb\u001b[0m: \tprediction_layer: 0\n",
            "\u001b[34m\u001b[1mwandb\u001b[0m: \tupper_layer_depth: 1\n"
          ]
        },
        {
          "output_type": "display_data",
          "data": {
            "text/plain": [
              "<IPython.core.display.HTML object>"
            ],
            "text/html": [
              "Tracking run with wandb version 0.12.18"
            ]
          },
          "metadata": {}
        },
        {
          "output_type": "display_data",
          "data": {
            "text/plain": [
              "<IPython.core.display.HTML object>"
            ],
            "text/html": [
              "Run data is saved locally in <code>/content/cnontent/MyDrive/SSU/nural_nework/project/wandb/run-20220611_163112-m0rv8vei</code>"
            ]
          },
          "metadata": {}
        },
        {
          "output_type": "display_data",
          "data": {
            "text/plain": [
              "<IPython.core.display.HTML object>"
            ],
            "text/html": [
              "Syncing run <strong><a href=\"https://wandb.ai/chanin-eom/sweep_for_res_res/runs/m0rv8vei\" target=\"_blank\">fearless-sweep-2</a></strong> to <a href=\"https://wandb.ai/chanin-eom/sweep_for_res_res\" target=\"_blank\">Weights & Biases</a> (<a href=\"https://wandb.me/run\" target=\"_blank\">docs</a>)<br/>Sweep page:  <a href=\"https://wandb.ai/chanin-eom/sweep_for_res_res/sweeps/irozrjcj\" target=\"_blank\">https://wandb.ai/chanin-eom/sweep_for_res_res/sweeps/irozrjcj</a>"
            ]
          },
          "metadata": {}
        },
        {
          "output_type": "stream",
          "name": "stdout",
          "text": [
            "Model: \"model\"\n",
            "__________________________________________________________________________________________________\n",
            " Layer (type)                   Output Shape         Param #     Connected to                     \n",
            "==================================================================================================\n",
            " input_1 (InputLayer)           [(None, 28, 28, 1)]  0           []                               \n",
            "                                                                                                  \n",
            " sequential (Sequential)        (None, 28, 28, 32)   38340       ['input_1[0][0]']                \n",
            "                                                                                                  \n",
            " sequential_1 (Sequential)      (None, 64)           132672      ['sequential[0][0]']             \n",
            "                                                                                                  \n",
            " sequential_2 (Sequential)      (None, 64)           132672      ['sequential[0][0]']             \n",
            "                                                                                                  \n",
            " sequential_3 (Sequential)      (None, 128)          660160      ['sequential[0][0]']             \n",
            "                                                                                                  \n",
            " concatenate (Concatenate)      (None, 256)          0           ['sequential_1[0][0]',           \n",
            "                                                                  'sequential_2[0][0]',           \n",
            "                                                                  'sequential_3[0][0]']           \n",
            "                                                                                                  \n",
            " dense (Dense)                  (None, 62)           15934       ['concatenate[0][0]']            \n",
            "                                                                                                  \n",
            "==================================================================================================\n",
            "Total params: 979,778\n",
            "Trainable params: 976,320\n",
            "Non-trainable params: 3,458\n",
            "__________________________________________________________________________________________________\n",
            "None\n",
            "Epoch 1/2\n",
            "1938/1938 [==============================] - 41s 20ms/step - loss: 1.8028 - accuracy: 0.4500 - val_loss: 1.6217 - val_accuracy: 0.4902\n",
            "Epoch 2/2\n",
            "1938/1938 [==============================] - 37s 19ms/step - loss: 0.9787 - accuracy: 0.6331 - val_loss: 1.2544 - val_accuracy: 0.6075\n"
          ]
        },
        {
          "output_type": "display_data",
          "data": {
            "text/plain": [
              "<IPython.core.display.HTML object>"
            ],
            "text/html": [
              "Waiting for W&B process to finish... <strong style=\"color:green\">(success).</strong>"
            ]
          },
          "metadata": {}
        },
        {
          "output_type": "display_data",
          "data": {
            "text/plain": [
              "VBox(children=(Label(value='0.001 MB of 0.001 MB uploaded (0.000 MB deduped)\\r'), FloatProgress(value=1.0, max…"
            ],
            "application/vnd.jupyter.widget-view+json": {
              "version_major": 2,
              "version_minor": 0,
              "model_id": "9abe5de70a8a4767ba98bb3941bcf9fd"
            }
          },
          "metadata": {}
        },
        {
          "output_type": "display_data",
          "data": {
            "text/plain": [
              "<IPython.core.display.HTML object>"
            ],
            "text/html": [
              "Synced <strong style=\"color:#cdcd00\">fearless-sweep-2</strong>: <a href=\"https://wandb.ai/chanin-eom/sweep_for_res_res/runs/m0rv8vei\" target=\"_blank\">https://wandb.ai/chanin-eom/sweep_for_res_res/runs/m0rv8vei</a><br/>Synced 5 W&B file(s), 0 media file(s), 0 artifact file(s) and 0 other file(s)"
            ]
          },
          "metadata": {}
        },
        {
          "output_type": "display_data",
          "data": {
            "text/plain": [
              "<IPython.core.display.HTML object>"
            ],
            "text/html": [
              "Find logs at: <code>./wandb/run-20220611_163112-m0rv8vei/logs</code>"
            ]
          },
          "metadata": {}
        },
        {
          "output_type": "stream",
          "name": "stderr",
          "text": [
            "\u001b[34m\u001b[1mwandb\u001b[0m: Agent Starting Run: h1hk78p3 with config:\n",
            "\u001b[34m\u001b[1mwandb\u001b[0m: \tdense_nueran: 120\n",
            "\u001b[34m\u001b[1mwandb\u001b[0m: \tfeature_layer_depth: 2\n",
            "\u001b[34m\u001b[1mwandb\u001b[0m: \tlearning_rate: 0.01\n",
            "\u001b[34m\u001b[1mwandb\u001b[0m: \tlower_layer_depth: 1\n",
            "\u001b[34m\u001b[1mwandb\u001b[0m: \tnum_layer_depth: 2\n",
            "\u001b[34m\u001b[1mwandb\u001b[0m: \toptimizer: adam\n",
            "\u001b[34m\u001b[1mwandb\u001b[0m: \tprediction_layer: 1\n",
            "\u001b[34m\u001b[1mwandb\u001b[0m: \tupper_layer_depth: 2\n"
          ]
        },
        {
          "output_type": "display_data",
          "data": {
            "text/plain": [
              "<IPython.core.display.HTML object>"
            ],
            "text/html": [
              "Tracking run with wandb version 0.12.18"
            ]
          },
          "metadata": {}
        },
        {
          "output_type": "display_data",
          "data": {
            "text/plain": [
              "<IPython.core.display.HTML object>"
            ],
            "text/html": [
              "Run data is saved locally in <code>/content/cnontent/MyDrive/SSU/nural_nework/project/wandb/run-20220611_163250-h1hk78p3</code>"
            ]
          },
          "metadata": {}
        },
        {
          "output_type": "display_data",
          "data": {
            "text/plain": [
              "<IPython.core.display.HTML object>"
            ],
            "text/html": [
              "Syncing run <strong><a href=\"https://wandb.ai/chanin-eom/sweep_for_res_res/runs/h1hk78p3\" target=\"_blank\">different-sweep-3</a></strong> to <a href=\"https://wandb.ai/chanin-eom/sweep_for_res_res\" target=\"_blank\">Weights & Biases</a> (<a href=\"https://wandb.me/run\" target=\"_blank\">docs</a>)<br/>Sweep page:  <a href=\"https://wandb.ai/chanin-eom/sweep_for_res_res/sweeps/irozrjcj\" target=\"_blank\">https://wandb.ai/chanin-eom/sweep_for_res_res/sweeps/irozrjcj</a>"
            ]
          },
          "metadata": {}
        },
        {
          "output_type": "stream",
          "name": "stdout",
          "text": [
            "Model: \"model\"\n",
            "__________________________________________________________________________________________________\n",
            " Layer (type)                   Output Shape         Param #     Connected to                     \n",
            "==================================================================================================\n",
            " input_1 (InputLayer)           [(None, 28, 28, 1)]  0           []                               \n",
            "                                                                                                  \n",
            " sequential (Sequential)        (None, 14, 14, 64)   171012      ['input_1[0][0]']                \n",
            "                                                                                                  \n",
            " sequential_1 (Sequential)      (None, 256)          2631040     ['sequential[0][0]']             \n",
            "                                                                                                  \n",
            " sequential_2 (Sequential)      (None, 256)          2631040     ['sequential[0][0]']             \n",
            "                                                                                                  \n",
            " sequential_3 (Sequential)      (None, 128)          527488      ['sequential[0][0]']             \n",
            "                                                                                                  \n",
            " concatenate (Concatenate)      (None, 640)          0           ['sequential_1[0][0]',           \n",
            "                                                                  'sequential_2[0][0]',           \n",
            "                                                                  'sequential_3[0][0]']           \n",
            "                                                                                                  \n",
            " dense_1 (Dense)                (None, 120)          76920       ['concatenate[0][0]']            \n",
            "                                                                                                  \n",
            " dense (Dense)                  (None, 62)           7502        ['dense_1[0][0]']                \n",
            "                                                                                                  \n",
            "==================================================================================================\n",
            "Total params: 6,045,002\n",
            "Trainable params: 6,035,144\n",
            "Non-trainable params: 9,858\n",
            "__________________________________________________________________________________________________\n",
            "None\n",
            "Epoch 1/2\n",
            "1938/1938 [==============================] - 51s 25ms/step - loss: 2.3177 - accuracy: 0.2881 - val_loss: 1.6661 - val_accuracy: 0.4735\n",
            "Epoch 2/2\n",
            "1938/1938 [==============================] - 62s 32ms/step - loss: 1.1532 - accuracy: 0.5855 - val_loss: 0.9922 - val_accuracy: 0.6188\n"
          ]
        },
        {
          "output_type": "display_data",
          "data": {
            "text/plain": [
              "<IPython.core.display.HTML object>"
            ],
            "text/html": [
              "Waiting for W&B process to finish... <strong style=\"color:green\">(success).</strong>"
            ]
          },
          "metadata": {}
        },
        {
          "output_type": "display_data",
          "data": {
            "text/plain": [
              "VBox(children=(Label(value='0.001 MB of 0.001 MB uploaded (0.000 MB deduped)\\r'), FloatProgress(value=1.0, max…"
            ],
            "application/vnd.jupyter.widget-view+json": {
              "version_major": 2,
              "version_minor": 0,
              "model_id": "efdbfbf640c84cf5b1a51621557f54ce"
            }
          },
          "metadata": {}
        },
        {
          "output_type": "display_data",
          "data": {
            "text/plain": [
              "<IPython.core.display.HTML object>"
            ],
            "text/html": [
              "Synced <strong style=\"color:#cdcd00\">different-sweep-3</strong>: <a href=\"https://wandb.ai/chanin-eom/sweep_for_res_res/runs/h1hk78p3\" target=\"_blank\">https://wandb.ai/chanin-eom/sweep_for_res_res/runs/h1hk78p3</a><br/>Synced 5 W&B file(s), 0 media file(s), 0 artifact file(s) and 0 other file(s)"
            ]
          },
          "metadata": {}
        },
        {
          "output_type": "display_data",
          "data": {
            "text/plain": [
              "<IPython.core.display.HTML object>"
            ],
            "text/html": [
              "Find logs at: <code>./wandb/run-20220611_163250-h1hk78p3/logs</code>"
            ]
          },
          "metadata": {}
        }
      ]
    },
    {
      "cell_type": "markdown",
      "source": [
        "# ResNet-Dense wandb\n",
        "\n",
        "Feature detection : 입력 이미지의 feature detect -> Resnet 구조\n",
        "\n",
        "Result_predictor : 총 62개의 class(0-9, A-Z, a-z) 예측 -> 3개의 path로 분기 된 후 concatenate -> Dense 구조"
      ],
      "metadata": {
        "id": "TgMUH6EWutVm"
      }
    },
    {
      "cell_type": "code",
      "source": [
        "# Res(Feature detection)_Dense(Domain_detection) 구조 모델 layer 설정 class\n",
        "# wandb에 의해 선택적으로 각 layer를 변경할 수 있도록 설계\n",
        " class Res_5x5_v4(keras.models.Model):\n",
        "\n",
        "    def __init__(self, num_classes, config_list, **kwargs):\n",
        "        \"\"\"\n",
        "            num_classes: number of classes in specific classification task.\n",
        "        \"\"\"\n",
        "        super().__init__(**kwargs)\n",
        "\n",
        "        self.input_ch, self.activation, self.feature_layer_depth, self.num_layer_nueron, self.upper_layer_nueron, self.lower_layer_nueron = config_list\n",
        "\n",
        "\n",
        "        self.Global_Average_Pool_Layer = keras.layers.GlobalAveragePooling2D()\n",
        "        self.Flatten_Layer = keras.layers.Flatten()\n",
        "\n",
        "        self.Feature_Detection_Layer = self.feature_detection_layer()\n",
        "\n",
        "        self.Number_Layer = self.number_layer()\n",
        "        self.Upper_Letter_Layer = self.upper_letter_layer()\n",
        "        self.Lower_Letter_Layer = self.lower_letter_layer()\n",
        "\n",
        "\n",
        "        self.Prediction_Layer = keras.layers.Dense(num_classes, activation=\"softmax\")\n",
        "\n",
        "    def feature_detection_layer(self):\n",
        "      feature_dec_layer = keras.models.Sequential()\n",
        "      # feature_dec_layer.add(keras.layers.experimental.preprocessing.RandomRotation(0.2))\n",
        "      feature_dec_layer.add(keras.layers.BatchNormalization())\n",
        "      feature_dec_layer.add(keras.layers.Conv2D(self.input_ch, (5, 5), strides=1, padding=\"same\", kernel_initializer=\"he_normal\"))\n",
        "      feature_dec_layer.add(keras.layers.BatchNormalization())\n",
        "      feature_dec_layer.add(keras.layers.MaxPool2D(pool_size=(2, 2), strides=1, padding=\"same\"))\n",
        "      feature_dec_layer.add(ResnetBlock(self.input_ch))\n",
        "      feature_dec_layer.add(ResnetBlock(self.input_ch))\n",
        "      \n",
        "      for i in range(self.feature_layer_depth-1):\n",
        "        feature_dec_layer.add(ResnetBlock(self.input_ch*(2*(i+1)), down_sample=True))\n",
        "        feature_dec_layer.add(ResnetBlock(self.input_ch*(2*(i+1))))\n",
        "\n",
        "      feature_dec_layer.add(self.Global_Average_Pool_Layer)\n",
        "      feature_dec_layer.add(self.Flatten_Layer)\n",
        "\n",
        "\n",
        "      return feature_dec_layer\n",
        "\n",
        "    def number_layer(self):\n",
        "      num_layer = keras.models.Sequential()\n",
        "      for i, num_nueron in enumerate(self.num_layer_nueron):\n",
        "        num_layer.add(tf.keras.layers.Dense(num_nueron))\n",
        "        num_layer.add(self.select_activation(self.activation))\n",
        "        num_layer.add(keras.layers.BatchNormalization())\n",
        "    \n",
        "      num_layer.add(tf.keras.layers.Dense(10, activation = None))\n",
        "\n",
        "      return num_layer\n",
        "\n",
        "    def upper_letter_layer(self):\n",
        "      upper_layer = keras.models.Sequential()\n",
        "      for i, num_nueron in enumerate(self.upper_layer_nueron):\n",
        "        upper_layer.add(tf.keras.layers.Dense(num_nueron))\n",
        "        upper_layer.add(self.select_activation(self.activation))\n",
        "        upper_layer.add(keras.layers.BatchNormalization())\n",
        "\n",
        "      upper_layer.add(tf.keras.layers.Dense(26, activation = None))\n",
        "      return upper_layer\n",
        "\n",
        "    def lower_letter_layer(self):\n",
        "      lower_layer = keras.models.Sequential()\n",
        "\n",
        "      for i, num_nueron in enumerate(self.lower_layer_nueron):\n",
        "        lower_layer.add(tf.keras.layers.Dense(num_nueron))\n",
        "        lower_layer.add(self.select_activation(self.activation))\n",
        "        lower_layer.add(keras.layers.BatchNormalization())\n",
        "\n",
        "      lower_layer.add(tf.keras.layers.Dense(26, activation = None))\n",
        "      return lower_layer\n",
        "\n",
        "    def select_activation(self, function):\n",
        "      if function == 'relu':\n",
        "        activation = keras.layers.ReLU()\n",
        "      elif function == 'prelu':\n",
        "        activation = keras.layers.PReLU()\n",
        "      elif function == 'leacky_relu':\n",
        "        activation = keras.layers.LeakyReLU()\n",
        "      elif function == 'elu':\n",
        "        activation = keras.layers.ELU()\n",
        "      else:\n",
        "        activation = keras.layers.ReLU()\n",
        "      return activation"
      ],
      "metadata": {
        "id": "5woBW8O6acAO"
      },
      "execution_count": null,
      "outputs": []
    },
    {
      "cell_type": "code",
      "source": [
        "# wandb에서 선택된 hyper parameter들의 배열을 입력으로 받아서\n",
        "# 적절한 model을 선택하는 함수\n",
        "def select_model(config_list):\n",
        "  model_class = Res_5x5_v4(64, config_list)\n",
        "\n",
        "  input = keras.layers.Input(shape=(28, 28, 1))\n",
        "\n",
        "  feature_out = model_class.Feature_Detection_Layer(input)\n",
        "\n",
        "  num_out = model_class.Number_Layer(feature_out)\n",
        "  upper_out = model_class.Upper_Letter_Layer(feature_out)\n",
        "  lower_out = model_class.Lower_Letter_Layer(feature_out)\n",
        "\n",
        "  final_out = keras.layers.concatenate([num_out, upper_out, lower_out])\n",
        "  result = tf.nn.softmax(final_out)\n",
        "\n",
        "  model = keras.models.Model(inputs=[input], outputs=[result])\n",
        "  return model"
      ],
      "metadata": {
        "id": "4kvgW8Fcnbfd"
      },
      "execution_count": null,
      "outputs": []
    },
    {
      "cell_type": "code",
      "source": [
        "# Res_Dense 파라미터 세팅 실험을 위한 학습 함수\n",
        "def sweep_for_res_dense(config_defaults=None):\n",
        "    # Set default values\n",
        "    test = ['relu', 2, [100, 50], [200, 100 , 50], [100, 50]]\n",
        "\n",
        "    config_defaults = {\n",
        "      'channel' : 32,\n",
        "      'batch_size': 64,\n",
        "      'activation': 'relu',\n",
        "      'optimizer' : 'adam',\n",
        "      'learning_rate' : 0.01,\n",
        "      'feature_layer_depth' : 2,\n",
        "      'num_layer_depth' : 2,\n",
        "      'upper_layer_depth' : 2,\n",
        "      'lower_layer_depth' : 2,\n",
        "    }\n",
        "    # Initialize wandb with a sample project name\n",
        "    wandb.init(config=config_defaults)  # this gets over-written in the Sweep\n",
        "\n",
        "    last_neuron_perlayer = [10, 26, 26]\n",
        "    num_dense_per_layer = [wandb.config.num_layer_depth, wandb.config.upper_layer_depth, wandb.config.lower_layer_depth]\n",
        "    num_flatten_layer = wandb.config.channel * wandb.config.feature_layer_depth\n",
        "    nueron_list = []\n",
        "\n",
        "    for last_nueron, num_dense in zip(last_neuron_perlayer, num_dense_per_layer):\n",
        "      now_layer_nueron = []\n",
        "      boundary = (num_flatten_layer - last_nueron)//(num_dense+1)\n",
        "      now_nueron = num_flatten_layer\n",
        "      for i in range(num_dense):\n",
        "        now_nueron -= boundary\n",
        "        now_layer_nueron.append(now_nueron)\n",
        "      nueron_list.append(now_layer_nueron)\n",
        "\n",
        "    print(nueron_list)\n",
        "\n",
        "    # initialize model\n",
        "    config_list = [\n",
        "                    wandb.config.channel, wandb.config.activation, wandb.config.feature_layer_depth, \n",
        "                    nueron_list[0], nueron_list[1], nueron_list[2]\n",
        "                   ]\n",
        "    model = select_model(config_list)\n",
        "    \n",
        "    print(model.summary())\n",
        "\n",
        "    # Instantiate an optimizer to train the model.\n",
        "    optimizer = select_opt(wandb.config.optimizer, wandb.config.learning_rate)\n",
        "\n",
        "\n",
        "    model.compile(loss=\"categorical_crossentropy\",\n",
        "                optimizer=optimizer,\n",
        "                steps_per_execution=1000,\n",
        "                metrics=[\"accuracy\"])\n",
        "    hist = model.fit(train_data, train_label, epochs=2, validation_data=(val_data, val_label))"
      ],
      "metadata": {
        "id": "ojVVsHvNngMZ"
      },
      "execution_count": null,
      "outputs": []
    },
    {
      "cell_type": "code",
      "source": [
        "# 변경할 파라미터\n",
        "sweep_config = {\n",
        "  'method': 'random', \n",
        "  'parameters': {\n",
        "      \n",
        "      'channel': {\n",
        "          'values' : [16, 32, 64]\n",
        "      },\n",
        "      'optimizer': {\n",
        "          'values' : ['adam', 'rmsprop', 'sgd', 'momentum', 'nesterov', 'adagrad', 'adamax', 'nadam']\n",
        "      },\n",
        "      'learning_rate':{\n",
        "          'values' : [0.1, 0.05, 0.01, 0.005]\n",
        "      },\n",
        "      'feature_layer_depth' : {\n",
        "          'values' : [1, 2, 3]\n",
        "      },\n",
        "      'num_layer_depth' : {\n",
        "          'values' : [1, 2, 3]\n",
        "      },\n",
        "      'upper_layer_depth' : {\n",
        "          'values' : [1, 2, 3]\n",
        "      },\n",
        "      'lower_layer_depth' : {\n",
        "          'values' : [1, 2, 3]\n",
        "      },\n",
        "      'activation' : {\n",
        "          'values' : ['relu', 'leacky_relu', 'elu']\n",
        "      }\n",
        "  }\n",
        "}"
      ],
      "metadata": {
        "id": "8Q4YBPGDo7jK"
      },
      "execution_count": null,
      "outputs": []
    },
    {
      "cell_type": "code",
      "source": [
        "# wandb 프로젝트 생성 및 실행\n",
        "sweep_id = wandb.sweep(sweep_config, project=\"sweep_for_res_dense\")\n",
        "wandb.agent(sweep_id, function=sweep_for_res_dense, count=3)"
      ],
      "metadata": {
        "colab": {
          "base_uri": "https://localhost:8080/",
          "height": 1000,
          "referenced_widgets": [
            "b88d35c5f95b4ed0b58fa0d1887470dd",
            "47ec19ed8536482483edb5d1905a765b",
            "2c28a10e85e945568463cc11e93c646e",
            "1edb3449f245459198b07777874181b1",
            "1e167513c3514b42aad2ded7154bc246",
            "86adbb0b56eb4342a7724a8c50205ada",
            "ead5805c680846f783a9aa0ce3093301",
            "9383f3cef0d44ccba5bc1a0e7615df2c",
            "c051f0b131114905bb8d777c46e41d02",
            "85e1193ac04a4371aed440d13f4ff9e9",
            "67cb798154004949846046c353d80d51",
            "a7b88a639ce045268da6c60911a49242",
            "541106548bcf4a47bee38fc096b782e8",
            "1f422d6edfae4afdadcfa3cc238d2342",
            "5ff7e8a1a62447d2a3026312e2bed4fd",
            "69f7ae860bf04941a5e74f39bba21cf9",
            "4da7c984d5b64e99821088fb7e78f037",
            "05ba23a42a7b42c396dd74b031324ed1",
            "5b25b8d29ceb42668f9ac7d42bb5c130",
            "7a032ff1e15b4380acb82578adc708d8",
            "90f7a85f32564d18a607bb18a055eb79",
            "ca39bf2a888d49568d552534e07b85fd",
            "9c105cd38d0b4d3a8f7e33b5795d856b",
            "f4bb5de38e7d48e5877e6f4847220e7f"
          ]
        },
        "id": "KV8qAVTNpkke",
        "outputId": "058a9a6c-d480-48dc-e0a4-973a42e040eb"
      },
      "execution_count": null,
      "outputs": [
        {
          "output_type": "stream",
          "name": "stdout",
          "text": [
            "Create sweep with ID: 8n9h3wc2\n",
            "Sweep URL: https://wandb.ai/chanin-eom/sweep_for_res_dense/sweeps/8n9h3wc2\n"
          ]
        },
        {
          "output_type": "stream",
          "name": "stderr",
          "text": [
            "\u001b[34m\u001b[1mwandb\u001b[0m: Agent Starting Run: 6ijp4rbt with config:\n",
            "\u001b[34m\u001b[1mwandb\u001b[0m: \tactivation: leacky_relu\n",
            "\u001b[34m\u001b[1mwandb\u001b[0m: \tchannel: 16\n",
            "\u001b[34m\u001b[1mwandb\u001b[0m: \tfeature_layer_depth: 1\n",
            "\u001b[34m\u001b[1mwandb\u001b[0m: \tlearning_rate: 0.1\n",
            "\u001b[34m\u001b[1mwandb\u001b[0m: \tlower_layer_depth: 3\n",
            "\u001b[34m\u001b[1mwandb\u001b[0m: \tnum_layer_depth: 1\n",
            "\u001b[34m\u001b[1mwandb\u001b[0m: \toptimizer: nesterov\n",
            "\u001b[34m\u001b[1mwandb\u001b[0m: \tupper_layer_depth: 2\n"
          ]
        },
        {
          "output_type": "display_data",
          "data": {
            "text/plain": [
              "<IPython.core.display.HTML object>"
            ],
            "text/html": [
              "Tracking run with wandb version 0.12.18"
            ]
          },
          "metadata": {}
        },
        {
          "output_type": "display_data",
          "data": {
            "text/plain": [
              "<IPython.core.display.HTML object>"
            ],
            "text/html": [
              "Run data is saved locally in <code>/content/cnontent/MyDrive/SSU/nural_nework/project/wandb/run-20220611_165121-6ijp4rbt</code>"
            ]
          },
          "metadata": {}
        },
        {
          "output_type": "display_data",
          "data": {
            "text/plain": [
              "<IPython.core.display.HTML object>"
            ],
            "text/html": [
              "Syncing run <strong><a href=\"https://wandb.ai/chanin-eom/sweep_for_res_dense/runs/6ijp4rbt\" target=\"_blank\">summer-sweep-1</a></strong> to <a href=\"https://wandb.ai/chanin-eom/sweep_for_res_dense\" target=\"_blank\">Weights & Biases</a> (<a href=\"https://wandb.me/run\" target=\"_blank\">docs</a>)<br/>Sweep page:  <a href=\"https://wandb.ai/chanin-eom/sweep_for_res_dense/sweeps/8n9h3wc2\" target=\"_blank\">https://wandb.ai/chanin-eom/sweep_for_res_dense/sweeps/8n9h3wc2</a>"
            ]
          },
          "metadata": {}
        },
        {
          "output_type": "stream",
          "name": "stdout",
          "text": [
            "[[13], [20, 24], [19, 22, 25]]\n",
            "Model: \"model\"\n",
            "__________________________________________________________________________________________________\n",
            " Layer (type)                   Output Shape         Param #     Connected to                     \n",
            "==================================================================================================\n",
            " input_1 (InputLayer)           [(None, 28, 28, 1)]  0           []                               \n",
            "                                                                                                  \n",
            " sequential (Sequential)        (None, 16)           10020       ['input_1[0][0]']                \n",
            "                                                                                                  \n",
            " sequential_1 (Sequential)      (None, 10)           413         ['sequential[0][0]']             \n",
            "                                                                                                  \n",
            " sequential_2 (Sequential)      (None, 26)           1670        ['sequential[0][0]']             \n",
            "                                                                                                  \n",
            " sequential_3 (Sequential)      (None, 26)           2278        ['sequential[0][0]']             \n",
            "                                                                                                  \n",
            " concatenate (Concatenate)      (None, 62)           0           ['sequential_1[0][0]',           \n",
            "                                                                  'sequential_2[0][0]',           \n",
            "                                                                  'sequential_3[0][0]']           \n",
            "                                                                                                  \n",
            " tf.nn.softmax (TFOpLambda)     (None, 62)           0           ['concatenate[0][0]']            \n",
            "                                                                                                  \n",
            "==================================================================================================\n",
            "Total params: 14,381\n",
            "Trainable params: 13,973\n",
            "Non-trainable params: 408\n",
            "__________________________________________________________________________________________________\n",
            "None\n",
            "Epoch 1/2\n",
            "1938/1938 [==============================] - 19s 10ms/step - loss: 1.6256 - accuracy: 0.4936 - val_loss: 3.3807 - val_accuracy: 0.3245\n",
            "Epoch 2/2\n",
            "1938/1938 [==============================] - 14s 7ms/step - loss: 1.1127 - accuracy: 0.6159 - val_loss: 1.6624 - val_accuracy: 0.5245\n"
          ]
        },
        {
          "output_type": "display_data",
          "data": {
            "text/plain": [
              "<IPython.core.display.HTML object>"
            ],
            "text/html": [
              "Waiting for W&B process to finish... <strong style=\"color:green\">(success).</strong>"
            ]
          },
          "metadata": {}
        },
        {
          "output_type": "display_data",
          "data": {
            "text/plain": [
              "VBox(children=(Label(value='0.001 MB of 0.001 MB uploaded (0.000 MB deduped)\\r'), FloatProgress(value=1.0, max…"
            ],
            "application/vnd.jupyter.widget-view+json": {
              "version_major": 2,
              "version_minor": 0,
              "model_id": "b88d35c5f95b4ed0b58fa0d1887470dd"
            }
          },
          "metadata": {}
        },
        {
          "output_type": "display_data",
          "data": {
            "text/plain": [
              "<IPython.core.display.HTML object>"
            ],
            "text/html": [
              "Synced <strong style=\"color:#cdcd00\">summer-sweep-1</strong>: <a href=\"https://wandb.ai/chanin-eom/sweep_for_res_dense/runs/6ijp4rbt\" target=\"_blank\">https://wandb.ai/chanin-eom/sweep_for_res_dense/runs/6ijp4rbt</a><br/>Synced 5 W&B file(s), 0 media file(s), 0 artifact file(s) and 0 other file(s)"
            ]
          },
          "metadata": {}
        },
        {
          "output_type": "display_data",
          "data": {
            "text/plain": [
              "<IPython.core.display.HTML object>"
            ],
            "text/html": [
              "Find logs at: <code>./wandb/run-20220611_165121-6ijp4rbt/logs</code>"
            ]
          },
          "metadata": {}
        },
        {
          "output_type": "stream",
          "name": "stderr",
          "text": [
            "\u001b[34m\u001b[1mwandb\u001b[0m: Agent Starting Run: dhnvn2j0 with config:\n",
            "\u001b[34m\u001b[1mwandb\u001b[0m: \tactivation: relu\n",
            "\u001b[34m\u001b[1mwandb\u001b[0m: \tchannel: 64\n",
            "\u001b[34m\u001b[1mwandb\u001b[0m: \tfeature_layer_depth: 3\n",
            "\u001b[34m\u001b[1mwandb\u001b[0m: \tlearning_rate: 0.01\n",
            "\u001b[34m\u001b[1mwandb\u001b[0m: \tlower_layer_depth: 1\n",
            "\u001b[34m\u001b[1mwandb\u001b[0m: \tnum_layer_depth: 1\n",
            "\u001b[34m\u001b[1mwandb\u001b[0m: \toptimizer: nadam\n",
            "\u001b[34m\u001b[1mwandb\u001b[0m: \tupper_layer_depth: 2\n"
          ]
        },
        {
          "output_type": "display_data",
          "data": {
            "text/plain": [
              "<IPython.core.display.HTML object>"
            ],
            "text/html": [
              "Tracking run with wandb version 0.12.18"
            ]
          },
          "metadata": {}
        },
        {
          "output_type": "display_data",
          "data": {
            "text/plain": [
              "<IPython.core.display.HTML object>"
            ],
            "text/html": [
              "Run data is saved locally in <code>/content/cnontent/MyDrive/SSU/nural_nework/project/wandb/run-20220611_165208-dhnvn2j0</code>"
            ]
          },
          "metadata": {}
        },
        {
          "output_type": "display_data",
          "data": {
            "text/plain": [
              "<IPython.core.display.HTML object>"
            ],
            "text/html": [
              "Syncing run <strong><a href=\"https://wandb.ai/chanin-eom/sweep_for_res_dense/runs/dhnvn2j0\" target=\"_blank\">trim-sweep-2</a></strong> to <a href=\"https://wandb.ai/chanin-eom/sweep_for_res_dense\" target=\"_blank\">Weights & Biases</a> (<a href=\"https://wandb.me/run\" target=\"_blank\">docs</a>)<br/>Sweep page:  <a href=\"https://wandb.ai/chanin-eom/sweep_for_res_dense/sweeps/8n9h3wc2\" target=\"_blank\">https://wandb.ai/chanin-eom/sweep_for_res_dense/sweeps/8n9h3wc2</a>"
            ]
          },
          "metadata": {}
        },
        {
          "output_type": "stream",
          "name": "stdout",
          "text": [
            "[[101], [137, 82], [109]]\n",
            "Model: \"model\"\n",
            "__________________________________________________________________________________________________\n",
            " Layer (type)                   Output Shape         Param #     Connected to                     \n",
            "==================================================================================================\n",
            " input_1 (InputLayer)           [(None, 28, 28, 1)]  0           []                               \n",
            "                                                                                                  \n",
            " sequential (Sequential)        (None, 256)          2781700     ['input_1[0][0]']                \n",
            "                                                                                                  \n",
            " sequential_1 (Sequential)      (None, 10)           27381       ['sequential[0][0]']             \n",
            "                                                                                                  \n",
            " sequential_2 (Sequential)      (None, 26)           49559       ['sequential[0][0]']             \n",
            "                                                                                                  \n",
            " sequential_3 (Sequential)      (None, 26)           31309       ['sequential[0][0]']             \n",
            "                                                                                                  \n",
            " concatenate (Concatenate)      (None, 62)           0           ['sequential_1[0][0]',           \n",
            "                                                                  'sequential_2[0][0]',           \n",
            "                                                                  'sequential_3[0][0]']           \n",
            "                                                                                                  \n",
            " tf.nn.softmax_1 (TFOpLambda)   (None, 62)           0           ['concatenate[0][0]']            \n",
            "                                                                                                  \n",
            "==================================================================================================\n",
            "Total params: 2,889,949\n",
            "Trainable params: 2,884,609\n",
            "Non-trainable params: 5,340\n",
            "__________________________________________________________________________________________________\n",
            "None\n",
            "Epoch 1/2\n",
            "1938/1938 [==============================] - 60s 31ms/step - loss: 1.0532 - accuracy: 0.6295 - val_loss: 1.5013 - val_accuracy: 0.5415\n",
            "Epoch 2/2\n",
            "1938/1938 [==============================] - 47s 24ms/step - loss: 0.7360 - accuracy: 0.7122 - val_loss: 0.8531 - val_accuracy: 0.6917\n"
          ]
        },
        {
          "output_type": "display_data",
          "data": {
            "text/plain": [
              "<IPython.core.display.HTML object>"
            ],
            "text/html": [
              "Waiting for W&B process to finish... <strong style=\"color:green\">(success).</strong>"
            ]
          },
          "metadata": {}
        },
        {
          "output_type": "display_data",
          "data": {
            "text/plain": [
              "VBox(children=(Label(value='0.001 MB of 0.001 MB uploaded (0.000 MB deduped)\\r'), FloatProgress(value=1.0, max…"
            ],
            "application/vnd.jupyter.widget-view+json": {
              "version_major": 2,
              "version_minor": 0,
              "model_id": "c051f0b131114905bb8d777c46e41d02"
            }
          },
          "metadata": {}
        },
        {
          "output_type": "display_data",
          "data": {
            "text/plain": [
              "<IPython.core.display.HTML object>"
            ],
            "text/html": [
              "Synced <strong style=\"color:#cdcd00\">trim-sweep-2</strong>: <a href=\"https://wandb.ai/chanin-eom/sweep_for_res_dense/runs/dhnvn2j0\" target=\"_blank\">https://wandb.ai/chanin-eom/sweep_for_res_dense/runs/dhnvn2j0</a><br/>Synced 5 W&B file(s), 0 media file(s), 0 artifact file(s) and 0 other file(s)"
            ]
          },
          "metadata": {}
        },
        {
          "output_type": "display_data",
          "data": {
            "text/plain": [
              "<IPython.core.display.HTML object>"
            ],
            "text/html": [
              "Find logs at: <code>./wandb/run-20220611_165208-dhnvn2j0/logs</code>"
            ]
          },
          "metadata": {}
        },
        {
          "output_type": "stream",
          "name": "stderr",
          "text": [
            "\u001b[34m\u001b[1mwandb\u001b[0m: Agent Starting Run: tv3ihpc9 with config:\n",
            "\u001b[34m\u001b[1mwandb\u001b[0m: \tactivation: relu\n",
            "\u001b[34m\u001b[1mwandb\u001b[0m: \tchannel: 16\n",
            "\u001b[34m\u001b[1mwandb\u001b[0m: \tfeature_layer_depth: 2\n",
            "\u001b[34m\u001b[1mwandb\u001b[0m: \tlearning_rate: 0.005\n",
            "\u001b[34m\u001b[1mwandb\u001b[0m: \tlower_layer_depth: 3\n",
            "\u001b[34m\u001b[1mwandb\u001b[0m: \tnum_layer_depth: 1\n",
            "\u001b[34m\u001b[1mwandb\u001b[0m: \toptimizer: momentum\n",
            "\u001b[34m\u001b[1mwandb\u001b[0m: \tupper_layer_depth: 1\n"
          ]
        },
        {
          "output_type": "display_data",
          "data": {
            "text/plain": [
              "<IPython.core.display.HTML object>"
            ],
            "text/html": [
              "Tracking run with wandb version 0.12.18"
            ]
          },
          "metadata": {}
        },
        {
          "output_type": "display_data",
          "data": {
            "text/plain": [
              "<IPython.core.display.HTML object>"
            ],
            "text/html": [
              "Run data is saved locally in <code>/content/cnontent/MyDrive/SSU/nural_nework/project/wandb/run-20220611_165451-tv3ihpc9</code>"
            ]
          },
          "metadata": {}
        },
        {
          "output_type": "display_data",
          "data": {
            "text/plain": [
              "<IPython.core.display.HTML object>"
            ],
            "text/html": [
              "Syncing run <strong><a href=\"https://wandb.ai/chanin-eom/sweep_for_res_dense/runs/tv3ihpc9\" target=\"_blank\">polar-sweep-3</a></strong> to <a href=\"https://wandb.ai/chanin-eom/sweep_for_res_dense\" target=\"_blank\">Weights & Biases</a> (<a href=\"https://wandb.me/run\" target=\"_blank\">docs</a>)<br/>Sweep page:  <a href=\"https://wandb.ai/chanin-eom/sweep_for_res_dense/sweeps/8n9h3wc2\" target=\"_blank\">https://wandb.ai/chanin-eom/sweep_for_res_dense/sweeps/8n9h3wc2</a>"
            ]
          },
          "metadata": {}
        },
        {
          "output_type": "stream",
          "name": "stdout",
          "text": [
            "[[21], [29], [31, 30, 29]]\n",
            "Model: \"model\"\n",
            "__________________________________________________________________________________________________\n",
            " Layer (type)                   Output Shape         Param #     Connected to                     \n",
            "==================================================================================================\n",
            " input_1 (InputLayer)           [(None, 28, 28, 1)]  0           []                               \n",
            "                                                                                                  \n",
            " sequential (Sequential)        (None, 32)           43588       ['input_1[0][0]']                \n",
            "                                                                                                  \n",
            " sequential_1 (Sequential)      (None, 10)           997         ['sequential[0][0]']             \n",
            "                                                                                                  \n",
            " sequential_2 (Sequential)      (None, 26)           1853        ['sequential[0][0]']             \n",
            "                                                                                                  \n",
            " sequential_3 (Sequential)      (None, 26)           4022        ['sequential[0][0]']             \n",
            "                                                                                                  \n",
            " concatenate (Concatenate)      (None, 62)           0           ['sequential_1[0][0]',           \n",
            "                                                                  'sequential_2[0][0]',           \n",
            "                                                                  'sequential_3[0][0]']           \n",
            "                                                                                                  \n",
            " tf.nn.softmax_2 (TFOpLambda)   (None, 62)           0           ['concatenate[0][0]']            \n",
            "                                                                                                  \n",
            "==================================================================================================\n",
            "Total params: 50,460\n",
            "Trainable params: 49,698\n",
            "Non-trainable params: 762\n",
            "__________________________________________________________________________________________________\n",
            "None\n",
            "Epoch 1/2\n",
            "1938/1938 [==============================] - 21s 11ms/step - loss: 1.6149 - accuracy: 0.5380 - val_loss: 1.1370 - val_accuracy: 0.6191\n",
            "Epoch 2/2\n",
            "1938/1938 [==============================] - 16s 8ms/step - loss: 0.8664 - accuracy: 0.6833 - val_loss: 0.9189 - val_accuracy: 0.6689\n"
          ]
        },
        {
          "output_type": "display_data",
          "data": {
            "text/plain": [
              "<IPython.core.display.HTML object>"
            ],
            "text/html": [
              "Waiting for W&B process to finish... <strong style=\"color:green\">(success).</strong>"
            ]
          },
          "metadata": {}
        },
        {
          "output_type": "display_data",
          "data": {
            "text/plain": [
              "VBox(children=(Label(value='0.001 MB of 0.001 MB uploaded (0.000 MB deduped)\\r'), FloatProgress(value=1.0, max…"
            ],
            "application/vnd.jupyter.widget-view+json": {
              "version_major": 2,
              "version_minor": 0,
              "model_id": "4da7c984d5b64e99821088fb7e78f037"
            }
          },
          "metadata": {}
        },
        {
          "output_type": "display_data",
          "data": {
            "text/plain": [
              "<IPython.core.display.HTML object>"
            ],
            "text/html": [
              "Synced <strong style=\"color:#cdcd00\">polar-sweep-3</strong>: <a href=\"https://wandb.ai/chanin-eom/sweep_for_res_dense/runs/tv3ihpc9\" target=\"_blank\">https://wandb.ai/chanin-eom/sweep_for_res_dense/runs/tv3ihpc9</a><br/>Synced 5 W&B file(s), 0 media file(s), 0 artifact file(s) and 0 other file(s)"
            ]
          },
          "metadata": {}
        },
        {
          "output_type": "display_data",
          "data": {
            "text/plain": [
              "<IPython.core.display.HTML object>"
            ],
            "text/html": [
              "Find logs at: <code>./wandb/run-20220611_165451-tv3ihpc9/logs</code>"
            ]
          },
          "metadata": {}
        }
      ]
    },
    {
      "cell_type": "markdown",
      "source": [
        "# Aux output(Domain prediction) + ResNet + Dense\n",
        "\n",
        "Feature detection : 입력 이미지의 feature detect -> Resnet 구조\n",
        "\n",
        "Domain predictor : 이미지의 도메인 (숫자, 대문자, 소문자) 예측\n",
        "\n",
        "Result_predictor : 총 62개의 class(0-9, A-Z, a-z) 예측 -> 3개의 path로 분기 된 후 concatenate"
      ],
      "metadata": {
        "id": "9pL8sFLKz_NB"
      }
    },
    {
      "cell_type": "code",
      "source": [
        "# Aux output을 위한 label 값 생성\n",
        "domain_train_label = np.array(sparse_train_label.copy())\n",
        "domain_val_label = np.array(sparse_val_label.copy())\n",
        "\n",
        "domain_train_label[domain_train_label<10] = 0\n",
        "domain_train_label[(10<=domain_train_label)&(domain_train_label<36)] = 1\n",
        "domain_train_label[36<=domain_train_label] = 2\n",
        "\n",
        "domain_val_label[domain_val_label<10] = 0\n",
        "domain_val_label[(10<=domain_val_label)&(domain_val_label<36)] = 1\n",
        "domain_val_label[36<=domain_val_label] = 2"
      ],
      "metadata": {
        "id": "UEpQIqihrVMP"
      },
      "execution_count": 17,
      "outputs": []
    },
    {
      "cell_type": "code",
      "source": [
        "print(np.unique(domain_train_label))\n",
        "print(np.unique(domain_val_label))"
      ],
      "metadata": {
        "colab": {
          "base_uri": "https://localhost:8080/"
        },
        "id": "O2hruqgBvIL8",
        "outputId": "9280b2c4-be85-449d-f387-7db8cd6abf57"
      },
      "execution_count": 18,
      "outputs": [
        {
          "output_type": "stream",
          "name": "stdout",
          "text": [
            "[0 1 2]\n",
            "[0 1 2]\n"
          ]
        }
      ]
    },
    {
      "cell_type": "code",
      "source": [
        "# domain label one hot 인코딩\n",
        "domain_train_label = keras.utils.to_categorical(domain_train_label)\n",
        "domain_val_label = keras.utils.to_categorical(domain_val_label)"
      ],
      "metadata": {
        "id": "kk7WxnDUvLBZ"
      },
      "execution_count": 19,
      "outputs": []
    },
    {
      "cell_type": "code",
      "source": [
        "print(domain_train_label.shape)\n",
        "print(domain_val_label.shape)"
      ],
      "metadata": {
        "colab": {
          "base_uri": "https://localhost:8080/"
        },
        "id": "CqTxVyc7wzp-",
        "outputId": "ec9931a8-626c-4b30-c791-6935bbcd23ed"
      },
      "execution_count": 20,
      "outputs": [
        {
          "output_type": "stream",
          "name": "stdout",
          "text": [
            "(62000, 3)\n",
            "(12400, 3)\n"
          ]
        }
      ]
    },
    {
      "cell_type": "code",
      "source": [
        "# Aux_output(Domain_predict), Res(Feature detection)_Res(Domain_detection) 구조 모델 layer 설정 class\n",
        "# wandb에 의해 선택적으로 각 layer를 변경할 수 있도록 설계\n",
        "class Res_5x5_v4(keras.models.Model):\n",
        "\n",
        "    def __init__(self, num_classes, config_list, **kwargs):\n",
        "        \"\"\"\n",
        "            num_classes: number of classes in specific classification task.\n",
        "        \"\"\"\n",
        "        super().__init__(**kwargs)\n",
        "\n",
        "        self.input_ch, self.activation, self.feature_layer_depth, self.domain_nueron, self.dropout_rate,\\\n",
        "        self.num_layer_nueron, self.upper_layer_nueron, self.lower_layer_nueron, self.avgpool = config_list\n",
        "\n",
        "\n",
        "        self.Global_Average_Pool_Layer = keras.layers.GlobalAveragePooling2D()\n",
        "        self.Flatten_Layer = keras.layers.Flatten()\n",
        "\n",
        "        self.Feature_Detection_Layer = self.feature_detection_layer()\n",
        "        \n",
        "        self.Domain_Layer = self.domain_layer()\n",
        "        self.Number_Layer = self.number_layer()\n",
        "        self.Upper_Letter_Layer = self.upper_letter_layer()\n",
        "        self.Lower_Letter_Layer = self.lower_letter_layer()\n",
        "\n",
        "\n",
        "        self.Prediction_Layer = keras.layers.Dense(num_classes, activation=\"softmax\")\n",
        "\n",
        "    def feature_detection_layer(self):\n",
        "      feature_dec_layer = keras.models.Sequential()\n",
        "      feature_dec_layer.add(keras.layers.BatchNormalization())\n",
        "      feature_dec_layer.add(keras.layers.Conv2D(self.input_ch, (5, 5), strides=1, padding=\"same\", kernel_initializer=\"he_normal\"))\n",
        "      feature_dec_layer.add(keras.layers.BatchNormalization())\n",
        "\n",
        "      if self.avgpool == 'T':\n",
        "        feature_dec_layer.add(keras.layers.AvgPool2D(pool_size=2, padding = 'same'))\n",
        "      else:\n",
        "        feature_dec_layer.add(keras.layers.MaxPool2D(pool_size=(2, 2), strides=1, padding=\"same\"))\n",
        "\n",
        "      feature_dec_layer.add(ResnetBlock(self.input_ch))\n",
        "      feature_dec_layer.add(ResnetBlock(self.input_ch))\n",
        "      \n",
        "      for i in range(self.feature_layer_depth-1):\n",
        "        feature_dec_layer.add(ResnetBlock(self.input_ch*(2*(i+1)), down_sample=True))\n",
        "        feature_dec_layer.add(ResnetBlock(self.input_ch*(2*(i+1))))\n",
        "\n",
        "      feature_dec_layer.add(self.Global_Average_Pool_Layer)\n",
        "      feature_dec_layer.add(self.Flatten_Layer)\n",
        "\n",
        "      return feature_dec_layer\n",
        "\n",
        "    def domain_layer(self):\n",
        "      num_layer = keras.models.Sequential(name = \"domain_out\")\n",
        "      for i, num_nueron in enumerate(self.domain_nueron):\n",
        "        num_layer.add(tf.keras.layers.Dense(num_nueron))\n",
        "        num_layer.add(self.select_activation(self.activation))\n",
        "        num_layer.add(keras.layers.BatchNormalization())\n",
        "      \n",
        "      num_layer.add(tf.keras.layers.Dropout(self.dropout_rate))\n",
        "      num_layer.add(tf.keras.layers.Dense(3, activation = 'softmax'))\n",
        "\n",
        "      return num_layer\n",
        "\n",
        "    def number_layer(self):\n",
        "      num_layer = keras.models.Sequential(name = \"number_layer\")\n",
        "      for i, num_nueron in enumerate(self.num_layer_nueron):\n",
        "        num_layer.add(tf.keras.layers.Dense(num_nueron))\n",
        "        num_layer.add(self.select_activation(self.activation))\n",
        "        num_layer.add(keras.layers.BatchNormalization())\n",
        "\n",
        "      num_layer.add(tf.keras.layers.Dropout(self.dropout_rate))\n",
        "      num_layer.add(tf.keras.layers.Dense(10, activation = None))\n",
        "\n",
        "      return num_layer\n",
        "\n",
        "    def upper_letter_layer(self):\n",
        "      upper_layer = keras.models.Sequential(name = \"upper_layer\")\n",
        "      for i, num_nueron in enumerate(self.upper_layer_nueron):\n",
        "        upper_layer.add(tf.keras.layers.Dense(num_nueron))\n",
        "        upper_layer.add(self.select_activation(self.activation))\n",
        "        upper_layer.add(keras.layers.BatchNormalization())\n",
        "\n",
        "      upper_layer.add(tf.keras.layers.Dropout(self.dropout_rate))\n",
        "      upper_layer.add(tf.keras.layers.Dense(26, activation = None))\n",
        "      \n",
        "      return upper_layer\n",
        "\n",
        "    def lower_letter_layer(self):\n",
        "      lower_layer = keras.models.Sequential(name = \"lower_layer\")\n",
        "\n",
        "      for i, num_nueron in enumerate(self.lower_layer_nueron):\n",
        "        lower_layer.add(tf.keras.layers.Dense(num_nueron))\n",
        "        lower_layer.add(self.select_activation(self.activation))\n",
        "        lower_layer.add(keras.layers.BatchNormalization())\n",
        "\n",
        "      lower_layer.add(tf.keras.layers.Dropout(self.dropout_rate))\n",
        "      lower_layer.add(tf.keras.layers.Dense(26, activation = None))\n",
        "\n",
        "      return lower_layer\n",
        "\n",
        "    def select_activation(self, function):\n",
        "      if function == 'relu':\n",
        "        activation = keras.layers.ReLU()\n",
        "      elif function == 'prelu':\n",
        "        activation = keras.layers.PReLU()\n",
        "      elif function == 'leacky_relu':\n",
        "        activation = keras.layers.LeakyReLU()\n",
        "      elif function == 'elu':\n",
        "        activation = keras.layers.ELU()\n",
        "      else:\n",
        "        activation = keras.layers.ReLU()\n",
        "      return activation"
      ],
      "metadata": {
        "id": "afN-4bSGw0tV"
      },
      "execution_count": 21,
      "outputs": []
    },
    {
      "cell_type": "code",
      "source": [
        "# wandb에서 선택된 hyper parameter들의 배열을 입력으로 받아서\n",
        "# 적절한 model을 선택하는 함수\n",
        "def select_model(config_list):\n",
        "  model_class = Res_5x5_v4(64, config_list)\n",
        "\n",
        "  input = keras.layers.Input(shape=(28, 28, 1), name = \"input_layer\")\n",
        "\n",
        "  feature_out = model_class.Feature_Detection_Layer(input)\n",
        "\n",
        "  domain_result = model_class.Domain_Layer(feature_out)\n",
        "\n",
        "  num_out = model_class.Number_Layer(feature_out)\n",
        "  upper_out = model_class.Upper_Letter_Layer(feature_out)\n",
        "  lower_out = model_class.Lower_Letter_Layer(feature_out)\n",
        "\n",
        "\n",
        "  final_out = keras.layers.concatenate([num_out, upper_out, lower_out])\n",
        "  result = tf.keras.layers.Softmax(name = 'main_out')(final_out)\n",
        "\n",
        "  model = keras.models.Model(inputs=[input], outputs=[domain_result, result])\n",
        "  return model"
      ],
      "metadata": {
        "id": "QktI2J-exFXk"
      },
      "execution_count": 22,
      "outputs": []
    },
    {
      "cell_type": "code",
      "source": [
        "# aux_res_dense 모델의 파라미터 세팅 실험을 위한 학습 함수\n",
        "def sweep_for_aux_res_dense(config_defaults=None):\n",
        "    # Set default values\n",
        "\n",
        "    early_stopping_cb = keras.callbacks.EarlyStopping(patience=3, restore_best_weights=True)\n",
        "\n",
        "    config_defaults = {\n",
        "      'channel' : 32,\n",
        "      'batch_size': 64,\n",
        "      'activation': 'relu',\n",
        "      'optimizer' : 'adam',\n",
        "      'learning_rate' : 0.01,\n",
        "      'feature_layer_depth' : 2,\n",
        "      'domain_layer_depth' : 2,\n",
        "      'num_layer_depth' : 2,\n",
        "      'upper_layer_depth' : 2,\n",
        "      'lower_layer_depth' : 2,\n",
        "      'domain_loss_rate' : 0.5,\n",
        "      'avg_pool' : 'T',\n",
        "    }\n",
        "    # Initialize wandb with a sample project name\n",
        "    wandb.init(config=config_defaults)  # this gets over-written in the Sweep\n",
        "\n",
        "    last_neuron_perlayer = [3, 10, 26, 26]\n",
        "    num_dense_per_layer = [wandb.config.domain_layer_depth, wandb.config.num_layer_depth, wandb.config.upper_layer_depth, wandb.config.lower_layer_depth]\n",
        "    num_flatten_layer = wandb.config.channel * wandb.config.feature_layer_depth\n",
        "    nueron_list = []\n",
        "\n",
        "    for last_nueron, num_dense in zip(last_neuron_perlayer, num_dense_per_layer):\n",
        "      now_layer_nueron = []\n",
        "      boundary = (num_flatten_layer - last_nueron)//(num_dense+1)\n",
        "      now_nueron = num_flatten_layer\n",
        "      for i in range(num_dense):\n",
        "        now_nueron -= boundary\n",
        "        now_layer_nueron.append(now_nueron)\n",
        "      nueron_list.append(now_layer_nueron)\n",
        "\n",
        "    print(nueron_list)\n",
        "\n",
        "    # initialize model\n",
        "\n",
        "    # test = [64, 'relu', 2, [50], 0.5, [100, 50], [200, 100 , 50], [100, 50]]\n",
        "\n",
        "    config_list = [\n",
        "                    wandb.config.channel, wandb.config.activation, wandb.config.feature_layer_depth, \n",
        "                    nueron_list[0], wandb.config.dropout_rate, nueron_list[1], nueron_list[2], nueron_list[3], wandb.config.avg_pool\n",
        "                   ]\n",
        "              \n",
        "    model = select_model(config_list)\n",
        "    optimizer = select_opt(wandb.config.optimizer, wandb.config.learning_rate)\n",
        "    loss_rate = [wandb.config.domain_loss_rate , 1-wandb.config.domain_loss_rate]\n",
        "    print(loss_rate)\n",
        "    \n",
        "    print(model.summary())\n",
        "\n",
        "    # Instantiate an optimizer to train the model.\n",
        "\n",
        "\n",
        "    model.compile(loss=[\"categorical_crossentropy\", \"categorical_crossentropy\"], loss_weights=loss_rate,\n",
        "                \n",
        "                  optimizer=optimizer,\n",
        "\n",
        "                  metrics=[\"accuracy\",],\n",
        "                   run_eagerly=True\n",
        "                  )\n",
        "    \n",
        "    hist = model.fit(train_data, [domain_train_label, train_label], epochs=2, \n",
        "                     validation_data=(val_data, [domain_val_label, val_label]))"
      ],
      "metadata": {
        "id": "rEaB4sqtxHh1"
      },
      "execution_count": 24,
      "outputs": []
    },
    {
      "cell_type": "code",
      "source": [
        "# 변경할 파라미터\n",
        "sweep_config = {\n",
        "  'method': 'random', \n",
        "  'parameters': {\n",
        "      \n",
        "      'channel': {\n",
        "          'values' : [16, 32, 64]\n",
        "      },\n",
        "      'optimizer': {\n",
        "          'values' : ['adam', 'rmsprop', 'sgd', 'momentum', 'nadam']\n",
        "      },\n",
        "      'learning_rate':{\n",
        "          'values' : [0.05, 0.01, 0.005]\n",
        "      },\n",
        "      'feature_layer_depth' : {\n",
        "          'values' : [1, 2, 3]\n",
        "      },\n",
        "      'domain_layer_depth' : {\n",
        "          'values' : [1, 2, 3]\n",
        "      },\n",
        "      'num_layer_depth' : {\n",
        "          'values' : [1, 2, 3]\n",
        "      },\n",
        "      'upper_layer_depth' : {\n",
        "          'values' : [1, 2, 3]\n",
        "      },\n",
        "      'lower_layer_depth' : {\n",
        "          'values' : [1, 2, 3]\n",
        "      },\n",
        "      'activation' : {\n",
        "          'values' : ['relu', 'leacky_relu', 'elu']\n",
        "      },\n",
        "      'domain_loss_rate' : {\n",
        "          'values' : [0.3, 0.4, 0.5, 0.6]\n",
        "      },\n",
        "      'dropout_rate' : {\n",
        "          'values' : [0.4, 0.5, 0.6]\n",
        "      },\n",
        "      'avg_pool' : {\n",
        "          'values' : ['T','F']\n",
        "      }\n",
        "  }\n",
        "}"
      ],
      "metadata": {
        "id": "kBti90z7xiBA"
      },
      "execution_count": 25,
      "outputs": []
    },
    {
      "cell_type": "code",
      "source": [
        "# wandb 프로젝트 생성 및 실행\n",
        "sweep_id = wandb.sweep(sweep_config, project=\"sweep_for_aux_res_dense\")\n",
        "wandb.agent(sweep_id, function=sweep_for_aux_res_dense, count=3)"
      ],
      "metadata": {
        "colab": {
          "base_uri": "https://localhost:8080/",
          "height": 1000,
          "referenced_widgets": [
            "08b1159fab85437c9bf81807111cd215",
            "c6dbcede707d45fa8c6fc3d0898af15a",
            "689711b9ebac419495fc23180ac26439",
            "77249580e5054beeb38e70afefbe44c9",
            "ca5077eaa22547859096322e6680bffd",
            "eb815798b87840358983cce4c1280453",
            "46e75839f8be4b338e7b5ccd39cf0474",
            "91564c152e66404782d8cd4cd5c93758",
            "e74dba3efdb948c380fdac99b96c8688",
            "73c4fe78b33a43808b805571d5b54e6f",
            "dc24aec1949d41838d9865b040258acf",
            "0cc21decd28c4c3e8838a73c6e01d9fc",
            "1f93f49fb4a540d296d485569ce47f59",
            "81f8a1aa1ab3488b90172e2eaf754866",
            "ae7b388add2c4be68e8ed200e423cb7e",
            "aa20c121382843e494afda17d6750596",
            "7947ac9b30a54dae9f3bce8ed3304b9c",
            "d256f192e7a54cd39f2e81258e64e11d",
            "0cc8a46fdc1744afb2c65f64952d8428",
            "c597c48b96bd4689961756f76e47389c",
            "090310420e454d059ba4fd9b0804c2e7",
            "0c026d4b569348fa82d0a13ebb02d12f",
            "a1f626c35dd9463a914bfb3d46df2bc5",
            "24fdb4cfe338439481201d497b7d41cf"
          ]
        },
        "id": "TrzrLRgwxfpz",
        "outputId": "63c2d0c0-19b8-4b30-fb93-eef0cccae862"
      },
      "execution_count": 27,
      "outputs": [
        {
          "output_type": "stream",
          "name": "stdout",
          "text": [
            "Create sweep with ID: heagnmi9\n",
            "Sweep URL: https://wandb.ai/chanin-eom/sweep_for_aux_res_dense/sweeps/heagnmi9\n"
          ]
        },
        {
          "output_type": "stream",
          "name": "stderr",
          "text": [
            "\u001b[34m\u001b[1mwandb\u001b[0m: Agent Starting Run: agkptw9i with config:\n",
            "\u001b[34m\u001b[1mwandb\u001b[0m: \tactivation: leacky_relu\n",
            "\u001b[34m\u001b[1mwandb\u001b[0m: \tavg_pool: T\n",
            "\u001b[34m\u001b[1mwandb\u001b[0m: \tchannel: 32\n",
            "\u001b[34m\u001b[1mwandb\u001b[0m: \tdomain_layer_depth: 2\n",
            "\u001b[34m\u001b[1mwandb\u001b[0m: \tdomain_loss_rate: 0.5\n",
            "\u001b[34m\u001b[1mwandb\u001b[0m: \tdropout_rate: 0.6\n",
            "\u001b[34m\u001b[1mwandb\u001b[0m: \tfeature_layer_depth: 2\n",
            "\u001b[34m\u001b[1mwandb\u001b[0m: \tlearning_rate: 0.01\n",
            "\u001b[34m\u001b[1mwandb\u001b[0m: \tlower_layer_depth: 1\n",
            "\u001b[34m\u001b[1mwandb\u001b[0m: \tnum_layer_depth: 2\n",
            "\u001b[34m\u001b[1mwandb\u001b[0m: \toptimizer: momentum\n",
            "\u001b[34m\u001b[1mwandb\u001b[0m: \tupper_layer_depth: 2\n",
            "\u001b[34m\u001b[1mwandb\u001b[0m: Currently logged in as: \u001b[33mchanin-eom\u001b[0m. Use \u001b[1m`wandb login --relogin`\u001b[0m to force relogin\n"
          ]
        },
        {
          "output_type": "display_data",
          "data": {
            "text/plain": [
              "<IPython.core.display.HTML object>"
            ],
            "text/html": [
              "Tracking run with wandb version 0.12.18"
            ]
          },
          "metadata": {}
        },
        {
          "output_type": "display_data",
          "data": {
            "text/plain": [
              "<IPython.core.display.HTML object>"
            ],
            "text/html": [
              "Run data is saved locally in <code>/content/cnontent/MyDrive/SSU/nural_nework/project/wandb/run-20220612_023200-agkptw9i</code>"
            ]
          },
          "metadata": {}
        },
        {
          "output_type": "display_data",
          "data": {
            "text/plain": [
              "<IPython.core.display.HTML object>"
            ],
            "text/html": [
              "Syncing run <strong><a href=\"https://wandb.ai/chanin-eom/sweep_for_aux_res_dense/runs/agkptw9i\" target=\"_blank\">different-sweep-1</a></strong> to <a href=\"https://wandb.ai/chanin-eom/sweep_for_aux_res_dense\" target=\"_blank\">Weights & Biases</a> (<a href=\"https://wandb.me/run\" target=\"_blank\">docs</a>)<br/>Sweep page:  <a href=\"https://wandb.ai/chanin-eom/sweep_for_aux_res_dense/sweeps/heagnmi9\" target=\"_blank\">https://wandb.ai/chanin-eom/sweep_for_aux_res_dense/sweeps/heagnmi9</a>"
            ]
          },
          "metadata": {}
        },
        {
          "output_type": "stream",
          "name": "stdout",
          "text": [
            "[[44, 24], [46, 28], [52, 40], [45]]\n",
            "WARNING:tensorflow:AutoGraph could not transform <bound method ResnetBlock.call of <__main__.ResnetBlock object at 0x7f7d98129fd0>> and will run it as-is.\n",
            "Cause: mangled names are not yet supported\n",
            "To silence this warning, decorate the function with @tf.autograph.experimental.do_not_convert\n",
            "WARNING: AutoGraph could not transform <bound method ResnetBlock.call of <__main__.ResnetBlock object at 0x7f7d98129fd0>> and will run it as-is.\n",
            "Cause: mangled names are not yet supported\n",
            "To silence this warning, decorate the function with @tf.autograph.experimental.do_not_convert\n",
            "[0.5, 0.5]\n",
            "Model: \"model\"\n",
            "__________________________________________________________________________________________________\n",
            " Layer (type)                   Output Shape         Param #     Connected to                     \n",
            "==================================================================================================\n",
            " input_layer (InputLayer)       [(None, 28, 28, 1)]  0           []                               \n",
            "                                                                                                  \n",
            " sequential (Sequential)        (None, 64)           171140      ['input_layer[0][0]']            \n",
            "                                                                                                  \n",
            " number_layer (Sequential)      (None, 10)           4892        ['sequential[0][0]']             \n",
            "                                                                                                  \n",
            " upper_layer (Sequential)       (None, 26)           6934        ['sequential[0][0]']             \n",
            "                                                                                                  \n",
            " lower_layer (Sequential)       (None, 26)           4301        ['sequential[0][0]']             \n",
            "                                                                                                  \n",
            " concatenate (Concatenate)      (None, 62)           0           ['number_layer[0][0]',           \n",
            "                                                                  'upper_layer[0][0]',            \n",
            "                                                                  'lower_layer[0][0]']            \n",
            "                                                                                                  \n",
            " domain_out (Sequential)        (None, 3)            4287        ['sequential[0][0]']             \n",
            "                                                                                                  \n",
            " main_out (Softmax)             (None, 62)           0           ['concatenate[0][0]']            \n",
            "                                                                                                  \n",
            "==================================================================================================\n",
            "Total params: 191,554\n",
            "Trainable params: 190,034\n",
            "Non-trainable params: 1,520\n",
            "__________________________________________________________________________________________________\n",
            "None\n",
            "Epoch 1/2\n",
            "1938/1938 [==============================] - 298s 148ms/step - loss: 1.3985 - domain_out_loss: 0.7846 - main_out_loss: 2.0123 - domain_out_accuracy: 0.6320 - main_out_accuracy: 0.4472 - val_loss: 0.8232 - val_domain_out_loss: 0.6706 - val_main_out_loss: 0.9758 - val_domain_out_accuracy: 0.6984 - val_main_out_accuracy: 0.6744\n",
            "Epoch 2/2\n",
            "1938/1938 [==============================] - 323s 167ms/step - loss: 0.9625 - domain_out_loss: 0.6268 - main_out_loss: 1.2981 - domain_out_accuracy: 0.7135 - main_out_accuracy: 0.6175 - val_loss: 0.7023 - val_domain_out_loss: 0.5429 - val_main_out_loss: 0.8618 - val_domain_out_accuracy: 0.7436 - val_main_out_accuracy: 0.7101\n"
          ]
        },
        {
          "output_type": "display_data",
          "data": {
            "text/plain": [
              "<IPython.core.display.HTML object>"
            ],
            "text/html": [
              "Waiting for W&B process to finish... <strong style=\"color:green\">(success).</strong>"
            ]
          },
          "metadata": {}
        },
        {
          "output_type": "display_data",
          "data": {
            "text/plain": [
              "VBox(children=(Label(value='0.001 MB of 0.001 MB uploaded (0.000 MB deduped)\\r'), FloatProgress(value=1.0, max…"
            ],
            "application/vnd.jupyter.widget-view+json": {
              "version_major": 2,
              "version_minor": 0,
              "model_id": "08b1159fab85437c9bf81807111cd215"
            }
          },
          "metadata": {}
        },
        {
          "output_type": "display_data",
          "data": {
            "text/plain": [
              "<IPython.core.display.HTML object>"
            ],
            "text/html": [
              "Synced <strong style=\"color:#cdcd00\">different-sweep-1</strong>: <a href=\"https://wandb.ai/chanin-eom/sweep_for_aux_res_dense/runs/agkptw9i\" target=\"_blank\">https://wandb.ai/chanin-eom/sweep_for_aux_res_dense/runs/agkptw9i</a><br/>Synced 5 W&B file(s), 0 media file(s), 0 artifact file(s) and 0 other file(s)"
            ]
          },
          "metadata": {}
        },
        {
          "output_type": "display_data",
          "data": {
            "text/plain": [
              "<IPython.core.display.HTML object>"
            ],
            "text/html": [
              "Find logs at: <code>./wandb/run-20220612_023200-agkptw9i/logs</code>"
            ]
          },
          "metadata": {}
        },
        {
          "output_type": "stream",
          "name": "stderr",
          "text": [
            "\u001b[34m\u001b[1mwandb\u001b[0m: Agent Starting Run: der2pial with config:\n",
            "\u001b[34m\u001b[1mwandb\u001b[0m: \tactivation: relu\n",
            "\u001b[34m\u001b[1mwandb\u001b[0m: \tavg_pool: F\n",
            "\u001b[34m\u001b[1mwandb\u001b[0m: \tchannel: 64\n",
            "\u001b[34m\u001b[1mwandb\u001b[0m: \tdomain_layer_depth: 2\n",
            "\u001b[34m\u001b[1mwandb\u001b[0m: \tdomain_loss_rate: 0.6\n",
            "\u001b[34m\u001b[1mwandb\u001b[0m: \tdropout_rate: 0.6\n",
            "\u001b[34m\u001b[1mwandb\u001b[0m: \tfeature_layer_depth: 2\n",
            "\u001b[34m\u001b[1mwandb\u001b[0m: \tlearning_rate: 0.05\n",
            "\u001b[34m\u001b[1mwandb\u001b[0m: \tlower_layer_depth: 2\n",
            "\u001b[34m\u001b[1mwandb\u001b[0m: \tnum_layer_depth: 1\n",
            "\u001b[34m\u001b[1mwandb\u001b[0m: \toptimizer: nadam\n",
            "\u001b[34m\u001b[1mwandb\u001b[0m: \tupper_layer_depth: 1\n"
          ]
        },
        {
          "output_type": "display_data",
          "data": {
            "text/plain": [
              "<IPython.core.display.HTML object>"
            ],
            "text/html": [
              "Tracking run with wandb version 0.12.18"
            ]
          },
          "metadata": {}
        },
        {
          "output_type": "display_data",
          "data": {
            "text/plain": [
              "<IPython.core.display.HTML object>"
            ],
            "text/html": [
              "Run data is saved locally in <code>/content/cnontent/MyDrive/SSU/nural_nework/project/wandb/run-20220612_024242-der2pial</code>"
            ]
          },
          "metadata": {}
        },
        {
          "output_type": "display_data",
          "data": {
            "text/plain": [
              "<IPython.core.display.HTML object>"
            ],
            "text/html": [
              "Syncing run <strong><a href=\"https://wandb.ai/chanin-eom/sweep_for_aux_res_dense/runs/der2pial\" target=\"_blank\">dauntless-sweep-2</a></strong> to <a href=\"https://wandb.ai/chanin-eom/sweep_for_aux_res_dense\" target=\"_blank\">Weights & Biases</a> (<a href=\"https://wandb.me/run\" target=\"_blank\">docs</a>)<br/>Sweep page:  <a href=\"https://wandb.ai/chanin-eom/sweep_for_aux_res_dense/sweeps/heagnmi9\" target=\"_blank\">https://wandb.ai/chanin-eom/sweep_for_aux_res_dense/sweeps/heagnmi9</a>"
            ]
          },
          "metadata": {}
        },
        {
          "output_type": "stream",
          "name": "stdout",
          "text": [
            "[[87, 46], [69], [77], [94, 60]]\n",
            "[0.6, 0.4]\n",
            "Model: \"model\"\n",
            "__________________________________________________________________________________________________\n",
            " Layer (type)                   Output Shape         Param #     Connected to                     \n",
            "==================================================================================================\n",
            " input_layer (InputLayer)       [(None, 28, 28, 1)]  0           []                               \n",
            "                                                                                                  \n",
            " sequential (Sequential)        (None, 128)          678148      ['input_layer[0][0]']            \n",
            "                                                                                                  \n",
            " number_layer (Sequential)      (None, 10)           9877        ['sequential[0][0]']             \n",
            "                                                                                                  \n",
            " upper_layer (Sequential)       (None, 26)           12269       ['sequential[0][0]']             \n",
            "                                                                                                  \n",
            " lower_layer (Sequential)       (None, 26)           20028       ['sequential[0][0]']             \n",
            "                                                                                                  \n",
            " concatenate (Concatenate)      (None, 62)           0           ['number_layer[0][0]',           \n",
            "                                                                  'upper_layer[0][0]',            \n",
            "                                                                  'lower_layer[0][0]']            \n",
            "                                                                                                  \n",
            " domain_out (Sequential)        (None, 3)            15944       ['sequential[0][0]']             \n",
            "                                                                                                  \n",
            " main_out (Softmax)             (None, 62)           0           ['concatenate[0][0]']            \n",
            "                                                                                                  \n",
            "==================================================================================================\n",
            "Total params: 736,266\n",
            "Trainable params: 733,478\n",
            "Non-trainable params: 2,788\n",
            "__________________________________________________________________________________________________\n",
            "None\n",
            "Epoch 1/2\n",
            "1938/1938 [==============================] - 497s 256ms/step - loss: 1.5771 - domain_out_loss: 0.8544 - main_out_loss: 2.6611 - domain_out_accuracy: 0.5856 - main_out_accuracy: 0.2985 - val_loss: 1.0218 - val_domain_out_loss: 0.8360 - val_main_out_loss: 1.3004 - val_domain_out_accuracy: 0.5285 - val_main_out_accuracy: 0.5821\n",
            "Epoch 2/2\n",
            "1938/1938 [==============================] - 455s 235ms/step - loss: 1.1767 - domain_out_loss: 0.6852 - main_out_loss: 1.9140 - domain_out_accuracy: 0.6865 - main_out_accuracy: 0.4829 - val_loss: 1.0807 - val_domain_out_loss: 0.6916 - val_main_out_loss: 1.6643 - val_domain_out_accuracy: 0.6804 - val_main_out_accuracy: 0.5173\n"
          ]
        },
        {
          "output_type": "display_data",
          "data": {
            "text/plain": [
              "<IPython.core.display.HTML object>"
            ],
            "text/html": [
              "Waiting for W&B process to finish... <strong style=\"color:green\">(success).</strong>"
            ]
          },
          "metadata": {}
        },
        {
          "output_type": "display_data",
          "data": {
            "text/plain": [
              "VBox(children=(Label(value='0.001 MB of 0.001 MB uploaded (0.000 MB deduped)\\r'), FloatProgress(value=1.0, max…"
            ],
            "application/vnd.jupyter.widget-view+json": {
              "version_major": 2,
              "version_minor": 0,
              "model_id": "e74dba3efdb948c380fdac99b96c8688"
            }
          },
          "metadata": {}
        },
        {
          "output_type": "display_data",
          "data": {
            "text/plain": [
              "<IPython.core.display.HTML object>"
            ],
            "text/html": [
              "Synced <strong style=\"color:#cdcd00\">dauntless-sweep-2</strong>: <a href=\"https://wandb.ai/chanin-eom/sweep_for_aux_res_dense/runs/der2pial\" target=\"_blank\">https://wandb.ai/chanin-eom/sweep_for_aux_res_dense/runs/der2pial</a><br/>Synced 5 W&B file(s), 0 media file(s), 0 artifact file(s) and 0 other file(s)"
            ]
          },
          "metadata": {}
        },
        {
          "output_type": "display_data",
          "data": {
            "text/plain": [
              "<IPython.core.display.HTML object>"
            ],
            "text/html": [
              "Find logs at: <code>./wandb/run-20220612_024242-der2pial/logs</code>"
            ]
          },
          "metadata": {}
        },
        {
          "output_type": "stream",
          "name": "stderr",
          "text": [
            "\u001b[34m\u001b[1mwandb\u001b[0m: Agent Starting Run: dz5g2uwe with config:\n",
            "\u001b[34m\u001b[1mwandb\u001b[0m: \tactivation: elu\n",
            "\u001b[34m\u001b[1mwandb\u001b[0m: \tavg_pool: T\n",
            "\u001b[34m\u001b[1mwandb\u001b[0m: \tchannel: 64\n",
            "\u001b[34m\u001b[1mwandb\u001b[0m: \tdomain_layer_depth: 1\n",
            "\u001b[34m\u001b[1mwandb\u001b[0m: \tdomain_loss_rate: 0.6\n",
            "\u001b[34m\u001b[1mwandb\u001b[0m: \tdropout_rate: 0.6\n",
            "\u001b[34m\u001b[1mwandb\u001b[0m: \tfeature_layer_depth: 2\n",
            "\u001b[34m\u001b[1mwandb\u001b[0m: \tlearning_rate: 0.005\n",
            "\u001b[34m\u001b[1mwandb\u001b[0m: \tlower_layer_depth: 1\n",
            "\u001b[34m\u001b[1mwandb\u001b[0m: \tnum_layer_depth: 3\n",
            "\u001b[34m\u001b[1mwandb\u001b[0m: \toptimizer: adam\n",
            "\u001b[34m\u001b[1mwandb\u001b[0m: \tupper_layer_depth: 1\n"
          ]
        },
        {
          "output_type": "display_data",
          "data": {
            "text/plain": [
              "<IPython.core.display.HTML object>"
            ],
            "text/html": [
              "Tracking run with wandb version 0.12.18"
            ]
          },
          "metadata": {}
        },
        {
          "output_type": "display_data",
          "data": {
            "text/plain": [
              "<IPython.core.display.HTML object>"
            ],
            "text/html": [
              "Run data is saved locally in <code>/content/cnontent/MyDrive/SSU/nural_nework/project/wandb/run-20220612_025845-dz5g2uwe</code>"
            ]
          },
          "metadata": {}
        },
        {
          "output_type": "display_data",
          "data": {
            "text/plain": [
              "<IPython.core.display.HTML object>"
            ],
            "text/html": [
              "Syncing run <strong><a href=\"https://wandb.ai/chanin-eom/sweep_for_aux_res_dense/runs/dz5g2uwe\" target=\"_blank\">sandy-sweep-3</a></strong> to <a href=\"https://wandb.ai/chanin-eom/sweep_for_aux_res_dense\" target=\"_blank\">Weights & Biases</a> (<a href=\"https://wandb.me/run\" target=\"_blank\">docs</a>)<br/>Sweep page:  <a href=\"https://wandb.ai/chanin-eom/sweep_for_aux_res_dense/sweeps/heagnmi9\" target=\"_blank\">https://wandb.ai/chanin-eom/sweep_for_aux_res_dense/sweeps/heagnmi9</a>"
            ]
          },
          "metadata": {}
        },
        {
          "output_type": "stream",
          "name": "stdout",
          "text": [
            "[[66], [99, 70, 41], [77], [77]]\n",
            "[0.6, 0.4]\n",
            "Model: \"model\"\n",
            "__________________________________________________________________________________________________\n",
            " Layer (type)                   Output Shape         Param #     Connected to                     \n",
            "==================================================================================================\n",
            " input_layer (InputLayer)       [(None, 28, 28, 1)]  0           []                               \n",
            "                                                                                                  \n",
            " sequential (Sequential)        (None, 128)          678148      ['input_layer[0][0]']            \n",
            "                                                                                                  \n",
            " number_layer (Sequential)      (None, 10)           23942       ['sequential[0][0]']             \n",
            "                                                                                                  \n",
            " upper_layer (Sequential)       (None, 26)           12269       ['sequential[0][0]']             \n",
            "                                                                                                  \n",
            " lower_layer (Sequential)       (None, 26)           12269       ['sequential[0][0]']             \n",
            "                                                                                                  \n",
            " concatenate (Concatenate)      (None, 62)           0           ['number_layer[0][0]',           \n",
            "                                                                  'upper_layer[0][0]',            \n",
            "                                                                  'lower_layer[0][0]']            \n",
            "                                                                                                  \n",
            " domain_out (Sequential)        (None, 3)            8979        ['sequential[0][0]']             \n",
            "                                                                                                  \n",
            " main_out (Softmax)             (None, 62)           0           ['concatenate[0][0]']            \n",
            "                                                                                                  \n",
            "==================================================================================================\n",
            "Total params: 735,607\n",
            "Trainable params: 732,825\n",
            "Non-trainable params: 2,782\n",
            "__________________________________________________________________________________________________\n",
            "None\n",
            "Epoch 1/2\n",
            "1938/1938 [==============================] - 215s 111ms/step - loss: 1.0977 - domain_out_loss: 0.7381 - main_out_loss: 1.6372 - domain_out_accuracy: 0.6565 - main_out_accuracy: 0.5267 - val_loss: 0.7858 - val_domain_out_loss: 0.6010 - val_main_out_loss: 1.0629 - val_domain_out_accuracy: 0.7194 - val_main_out_accuracy: 0.6474\n",
            "Epoch 2/2\n",
            "1938/1938 [==============================] - 224s 115ms/step - loss: 0.7615 - domain_out_loss: 0.5685 - main_out_loss: 1.0509 - domain_out_accuracy: 0.7340 - main_out_accuracy: 0.6622 - val_loss: 0.6259 - val_domain_out_loss: 0.5550 - val_main_out_loss: 0.7321 - val_domain_out_accuracy: 0.7446 - val_main_out_accuracy: 0.7281\n"
          ]
        },
        {
          "output_type": "display_data",
          "data": {
            "text/plain": [
              "<IPython.core.display.HTML object>"
            ],
            "text/html": [
              "Waiting for W&B process to finish... <strong style=\"color:green\">(success).</strong>"
            ]
          },
          "metadata": {}
        },
        {
          "output_type": "display_data",
          "data": {
            "text/plain": [
              "VBox(children=(Label(value='0.001 MB of 0.001 MB uploaded (0.000 MB deduped)\\r'), FloatProgress(value=1.0, max…"
            ],
            "application/vnd.jupyter.widget-view+json": {
              "version_major": 2,
              "version_minor": 0,
              "model_id": "7947ac9b30a54dae9f3bce8ed3304b9c"
            }
          },
          "metadata": {}
        },
        {
          "output_type": "display_data",
          "data": {
            "text/plain": [
              "<IPython.core.display.HTML object>"
            ],
            "text/html": [
              "Synced <strong style=\"color:#cdcd00\">sandy-sweep-3</strong>: <a href=\"https://wandb.ai/chanin-eom/sweep_for_aux_res_dense/runs/dz5g2uwe\" target=\"_blank\">https://wandb.ai/chanin-eom/sweep_for_aux_res_dense/runs/dz5g2uwe</a><br/>Synced 5 W&B file(s), 0 media file(s), 0 artifact file(s) and 0 other file(s)"
            ]
          },
          "metadata": {}
        },
        {
          "output_type": "display_data",
          "data": {
            "text/plain": [
              "<IPython.core.display.HTML object>"
            ],
            "text/html": [
              "Find logs at: <code>./wandb/run-20220612_025845-dz5g2uwe/logs</code>"
            ]
          },
          "metadata": {}
        }
      ]
    }
  ]
}