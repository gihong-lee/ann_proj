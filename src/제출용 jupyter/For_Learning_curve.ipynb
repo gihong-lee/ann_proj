{
 "cells": [
  {
   "cell_type": "code",
   "execution_count": 1,
   "metadata": {
    "colab": {
     "base_uri": "https://localhost:8080/"
    },
    "id": "Dv7XZmvJ5C_8",
    "outputId": "e59e224e-a586-4a0a-d9aa-df32c145d3b5"
   },
   "outputs": [
    {
     "name": "stdout",
     "output_type": "stream",
     "text": [
      "GPU found\n"
     ]
    }
   ],
   "source": [
    "import os\n",
    "import tensorflow as tf\n",
    "from tensorflow import keras as keras\n",
    "from sklearn.model_selection import train_test_split\n",
    "from sklearn.preprocessing import OneHotEncoder\n",
    "from keras.callbacks import EarlyStopping\n",
    "from keras.preprocessing.image import ImageDataGenerator\n",
    "from tensorflow.keras import datasets, layers, models, losses, Model\n",
    "from tensorflow.keras.layers import Dense, Conv2D, MaxPool2D, Flatten, Dropout, Input, BatchNormalization, Dropout\n",
    "import numpy as np\n",
    "import pandas as pd\n",
    "import cv2\n",
    "from matplotlib import pyplot as plt\n",
    "# from google.colab.patches import cv2_imshow\n",
    "#os.environ['CUDA_VISIBLE_DEVICES'] = '-1'\n",
    "\n",
    "if tf.test.gpu_device_name():\n",
    "    print('GPU found')\n",
    "else:\n",
    "    print(\"No GPU found\")"
   ]
  },
  {
   "cell_type": "code",
   "execution_count": null,
   "metadata": {
    "id": "t3DJWHeA5G8a"
   },
   "outputs": [],
   "source": [
    "from google.colab import drive\n",
    "drive.mount('cnontent/')"
   ]
  },
  {
   "cell_type": "code",
   "execution_count": null,
   "metadata": {
    "id": "uX8hcXiF5ICw"
   },
   "outputs": [],
   "source": [
    "cd /content/cnontent/MyDrive/SSU/nural_nework/project"
   ]
  },
  {
   "cell_type": "code",
   "execution_count": 2,
   "metadata": {
    "id": "60nIs2--5FdA"
   },
   "outputs": [],
   "source": [
    "def convert_data_csv_to_numpy(data, sorting = False): # pandas 통해 읽은 csv data numpy 형태로 변경\n",
    "  if sorting == True:\n",
    "    data = data.sort_values(by=[0], axis=0)\n",
    "\n",
    "  label = np.array(data[0]) # csv file 에서 0번째 colum은 index임\n",
    "  only_data = np.array(data.drop([0], axis = 1)).reshape((-1, 28, 28, 1)) # csv file에서 0번 째 colum 탈락 -> data만 남게 됨\n",
    "  # only_data = tf.convert_to_tensor(only_data, dtype=tf.float32)\n",
    "  return only_data, label"
   ]
  },
  {
   "cell_type": "code",
   "execution_count": 5,
   "metadata": {
    "id": "sJF704Dl5KMu"
   },
   "outputs": [],
   "source": [
    "train_df = pd.read_csv(\"../../data/emnist-byclass-train.csv\", header=None)\n",
    "test_df = pd.read_csv(\"../../data/emnist-byclass-test.csv\", header=None)"
   ]
  },
  {
   "cell_type": "code",
   "execution_count": 6,
   "metadata": {
    "id": "YmOIg62H5Nsp"
   },
   "outputs": [],
   "source": [
    "X_train, y_train  = convert_data_csv_to_numpy(train_df)\n",
    "X_test, y_test  = convert_data_csv_to_numpy(test_df)\n",
    "\n",
    "train_df = None\n",
    "test_df = None"
   ]
  },
  {
   "cell_type": "code",
   "execution_count": 7,
   "metadata": {
    "id": "fK_VcP905O6c"
   },
   "outputs": [],
   "source": [
    "# add channel\n",
    "# channel = 3\n",
    "# X_train_3 = np.repeat(X_train, channel, axis=-1)\n",
    "# X_test_3 = np.repeat(X_test, channel, axis=-1)\n",
    "# y_test_3 = y_test\n",
    "\n",
    "X_train, X_val, y_train, y_val = train_test_split(X_train/255., y_train, test_size=0.2, random_state=42)\n",
    "# X_train_3, X_val_3, y_train_3, y_val_3 = train_test_split(X_train_3, y_train, test_size=0.2, random_state=42)"
   ]
  },
  {
   "cell_type": "code",
   "execution_count": 8,
   "metadata": {
    "id": "mIUYOoxZ5Qy2"
   },
   "outputs": [],
   "source": [
    "raw_y_train = y_train.copy()\n",
    "raw_y_val = y_val.copy()\n",
    "raw_y_test = y_test.copy()\n",
    "\n",
    "y_train = tf.keras.utils.to_categorical(y_train)\n",
    "y_val = tf.keras.utils.to_categorical(y_val)\n",
    "y_test = tf.keras.utils.to_categorical(y_test)"
   ]
  },
  {
   "cell_type": "markdown",
   "metadata": {
    "id": "qvFJQTgv5Uaj"
   },
   "source": [
    "# VGG"
   ]
  },
  {
   "cell_type": "code",
   "execution_count": 9,
   "metadata": {
    "colab": {
     "base_uri": "https://localhost:8080/"
    },
    "id": "6IZxof0T5Aqu",
    "outputId": "0bbd7592-fee5-4c02-8a0a-95a382c29abd"
   },
   "outputs": [
    {
     "name": "stdout",
     "output_type": "stream",
     "text": [
      "Model: \"model\"\n",
      "_________________________________________________________________\n",
      " Layer (type)                Output Shape              Param #   \n",
      "=================================================================\n",
      " input_1 (InputLayer)        [(None, 28, 28, 1)]       0         \n",
      "                                                                 \n",
      " conv2d (Conv2D)             (None, 28, 28, 32)        320       \n",
      "                                                                 \n",
      " conv2d_1 (Conv2D)           (None, 28, 28, 32)        9248      \n",
      "                                                                 \n",
      " batch_normalization (BatchN  (None, 28, 28, 32)       128       \n",
      " ormalization)                                                   \n",
      "                                                                 \n",
      " max_pooling2d (MaxPooling2D  (None, 14, 14, 32)       0         \n",
      " )                                                               \n",
      "                                                                 \n",
      " conv2d_2 (Conv2D)           (None, 14, 14, 64)        18496     \n",
      "                                                                 \n",
      " conv2d_3 (Conv2D)           (None, 14, 14, 64)        36928     \n",
      "                                                                 \n",
      " batch_normalization_1 (Batc  (None, 14, 14, 64)       256       \n",
      " hNormalization)                                                 \n",
      "                                                                 \n",
      " dropout (Dropout)           (None, 14, 14, 64)        0         \n",
      "                                                                 \n",
      " max_pooling2d_1 (MaxPooling  (None, 7, 7, 64)         0         \n",
      " 2D)                                                             \n",
      "                                                                 \n",
      " conv2d_4 (Conv2D)           (None, 7, 7, 128)         73856     \n",
      "                                                                 \n",
      " conv2d_5 (Conv2D)           (None, 7, 7, 128)         147584    \n",
      "                                                                 \n",
      " conv2d_6 (Conv2D)           (None, 7, 7, 128)         147584    \n",
      "                                                                 \n",
      " batch_normalization_2 (Batc  (None, 7, 7, 128)        512       \n",
      " hNormalization)                                                 \n",
      "                                                                 \n",
      " dropout_1 (Dropout)         (None, 7, 7, 128)         0         \n",
      "                                                                 \n",
      " max_pooling2d_2 (MaxPooling  (None, 4, 4, 128)        0         \n",
      " 2D)                                                             \n",
      "                                                                 \n",
      " conv2d_7 (Conv2D)           (None, 4, 4, 256)         295168    \n",
      "                                                                 \n",
      " conv2d_8 (Conv2D)           (None, 4, 4, 256)         590080    \n",
      "                                                                 \n",
      " conv2d_9 (Conv2D)           (None, 4, 4, 256)         590080    \n",
      "                                                                 \n",
      " batch_normalization_3 (Batc  (None, 4, 4, 256)        1024      \n",
      " hNormalization)                                                 \n",
      "                                                                 \n",
      " dropout_2 (Dropout)         (None, 4, 4, 256)         0         \n",
      "                                                                 \n",
      " max_pooling2d_3 (MaxPooling  (None, 2, 2, 256)        0         \n",
      " 2D)                                                             \n",
      "                                                                 \n",
      " conv2d_10 (Conv2D)          (None, 2, 2, 256)         590080    \n",
      "                                                                 \n",
      " conv2d_11 (Conv2D)          (None, 2, 2, 256)         590080    \n",
      "                                                                 \n",
      " conv2d_12 (Conv2D)          (None, 2, 2, 256)         590080    \n",
      "                                                                 \n",
      " batch_normalization_4 (Batc  (None, 2, 2, 256)        1024      \n",
      " hNormalization)                                                 \n",
      "                                                                 \n",
      " dropout_3 (Dropout)         (None, 2, 2, 256)         0         \n",
      "                                                                 \n",
      " max_pooling2d_4 (MaxPooling  (None, 1, 1, 256)        0         \n",
      " 2D)                                                             \n",
      "                                                                 \n",
      " flatten (Flatten)           (None, 256)               0         \n",
      "                                                                 \n",
      " batch_normalization_5 (Batc  (None, 256)              1024      \n",
      " hNormalization)                                                 \n",
      "                                                                 \n",
      " dense (Dense)               (None, 4096)              1052672   \n",
      "                                                                 \n",
      " dense_1 (Dense)             (None, 4096)              16781312  \n",
      "                                                                 \n",
      " dense_2 (Dense)             (None, 62)                254014    \n",
      "                                                                 \n",
      "=================================================================\n",
      "Total params: 21,771,550\n",
      "Trainable params: 21,769,566\n",
      "Non-trainable params: 1,984\n",
      "_________________________________________________________________\n"
     ]
    }
   ],
   "source": [
    "inputs = Input(shape = (28,28,1))\n",
    "x = Conv2D (filters =32, kernel_size =3, padding ='same', activation='relu')(inputs)\n",
    "x = Conv2D (filters =32, kernel_size =3, padding ='same', activation='relu')(x)\n",
    "x= BatchNormalization()(x)\n",
    "x = MaxPool2D(pool_size =2, strides =2, padding ='same')(x)\n",
    "# 2nd Conv Block\n",
    "x = Conv2D (filters =64, kernel_size =3, padding ='same', activation='relu')(x)\n",
    "x = Conv2D (filters =64, kernel_size =3, padding ='same', activation='relu')(x)\n",
    "x= BatchNormalization()(x)\n",
    "x= Dropout(0.3)(x)\n",
    "x = MaxPool2D(pool_size =2, strides =2, padding ='same')(x)\n",
    "# 3rd Conv block  \n",
    "x = Conv2D (filters =128, kernel_size =3, padding ='same', activation='relu')(x)\n",
    "x = Conv2D (filters =128, kernel_size =3, padding ='same', activation='relu')(x) \n",
    "x = Conv2D (filters =128, kernel_size =3, padding ='same', activation='relu')(x) \n",
    "x= BatchNormalization()(x)\n",
    "x= Dropout(0.3)(x)\n",
    "x = MaxPool2D(pool_size =2, strides =2, padding ='same')(x)\n",
    "# 4th Conv block\n",
    "x = Conv2D (filters =256, kernel_size =3, padding ='same', activation='relu')(x)\n",
    "x = Conv2D (filters =256, kernel_size =3, padding ='same', activation='relu')(x)\n",
    "x = Conv2D (filters =256, kernel_size =3, padding ='same', activation='relu')(x)\n",
    "x= BatchNormalization()(x)\n",
    "x= Dropout(0.3)(x)\n",
    "x = MaxPool2D(pool_size =2, strides =2, padding ='same')(x)\n",
    "# 5th Conv block\n",
    "x = Conv2D (filters =256, kernel_size =3, padding ='same', activation='relu')(x)\n",
    "x = Conv2D (filters =256, kernel_size =3, padding ='same', activation='relu')(x)\n",
    "x = Conv2D (filters =256, kernel_size =3, padding ='same', activation='relu')(x)\n",
    "x= BatchNormalization()(x)\n",
    "x= Dropout(0.3)(x)\n",
    "x = MaxPool2D(pool_size =2, strides =2, padding ='same')(x)\n",
    "# Fully connected layers  \n",
    "x = Flatten()(x)\n",
    "x= BatchNormalization()(x)\n",
    "x = Dense(units = 4096, activation ='relu')(x)\n",
    "x = Dense(units = 4096, activation ='relu')(x)\n",
    "output = Dense(units = 62, activation ='softmax')(x)\n",
    "# creating the model\n",
    "\n",
    "VGG_model_2 = Model (inputs=inputs, outputs =output)\n",
    "VGG_model_2.summary()"
   ]
  },
  {
   "cell_type": "code",
   "execution_count": 11,
   "metadata": {
    "id": "eGM9E-9F5V8S"
   },
   "outputs": [
    {
     "name": "stdout",
     "output_type": "stream",
     "text": [
      "Epoch 1/100\n",
      "1091/1091 [==============================] - 34s 30ms/step - loss: 0.9071 - accuracy: 0.7190 - val_loss: 0.5531 - val_accuracy: 0.8199\n",
      "Epoch 2/100\n",
      "1091/1091 [==============================] - 32s 29ms/step - loss: 0.4650 - accuracy: 0.8405 - val_loss: 0.7804 - val_accuracy: 0.8293\n",
      "Epoch 3/100\n",
      "1091/1091 [==============================] - 32s 30ms/step - loss: 0.4205 - accuracy: 0.8527 - val_loss: 0.4330 - val_accuracy: 0.8548\n",
      "Epoch 4/100\n",
      "1091/1091 [==============================] - 32s 29ms/step - loss: 0.4003 - accuracy: 0.8586 - val_loss: 0.4329 - val_accuracy: 0.8518\n",
      "Epoch 5/100\n",
      "1091/1091 [==============================] - 31s 29ms/step - loss: 0.3851 - accuracy: 0.8622 - val_loss: 0.4251 - val_accuracy: 0.8552\n",
      "Epoch 6/100\n",
      "1091/1091 [==============================] - 32s 29ms/step - loss: 0.3743 - accuracy: 0.8649 - val_loss: 0.4001 - val_accuracy: 0.8587\n",
      "Epoch 7/100\n",
      "1091/1091 [==============================] - 32s 29ms/step - loss: 0.3646 - accuracy: 0.8673 - val_loss: 0.3818 - val_accuracy: 0.8634\n",
      "Epoch 8/100\n",
      "1091/1091 [==============================] - 32s 29ms/step - loss: 0.3578 - accuracy: 0.8693 - val_loss: 0.3760 - val_accuracy: 0.8637\n",
      "Epoch 9/100\n",
      "1091/1091 [==============================] - 32s 29ms/step - loss: 0.3514 - accuracy: 0.8711 - val_loss: 0.3849 - val_accuracy: 0.8615\n",
      "Epoch 10/100\n",
      "1091/1091 [==============================] - 33s 30ms/step - loss: 0.3461 - accuracy: 0.8725 - val_loss: 0.3758 - val_accuracy: 0.8661\n",
      "Epoch 11/100\n",
      "1091/1091 [==============================] - 33s 30ms/step - loss: 0.3403 - accuracy: 0.8741 - val_loss: 0.4143 - val_accuracy: 0.8624\n",
      "Epoch 12/100\n",
      "1091/1091 [==============================] - 32s 29ms/step - loss: 0.3357 - accuracy: 0.8753 - val_loss: 0.3668 - val_accuracy: 0.8667\n",
      "Epoch 13/100\n",
      "1091/1091 [==============================] - 32s 29ms/step - loss: 0.3319 - accuracy: 0.8765 - val_loss: 0.3767 - val_accuracy: 0.8657\n",
      "Epoch 14/100\n",
      "1091/1091 [==============================] - 32s 29ms/step - loss: 0.3281 - accuracy: 0.8772 - val_loss: 0.3632 - val_accuracy: 0.8712\n",
      "Epoch 15/100\n",
      "1091/1091 [==============================] - 32s 29ms/step - loss: 0.3243 - accuracy: 0.8789 - val_loss: 0.3767 - val_accuracy: 0.8674\n",
      "Epoch 16/100\n",
      "1091/1091 [==============================] - 32s 30ms/step - loss: 0.3220 - accuracy: 0.8789 - val_loss: 0.3589 - val_accuracy: 0.8726\n",
      "Epoch 17/100\n",
      "1091/1091 [==============================] - 32s 29ms/step - loss: 0.3185 - accuracy: 0.8804 - val_loss: 0.3665 - val_accuracy: 0.8669\n",
      "Epoch 18/100\n",
      "1091/1091 [==============================] - 32s 30ms/step - loss: 0.3151 - accuracy: 0.8811 - val_loss: 0.3699 - val_accuracy: 0.8698\n",
      "Epoch 19/100\n",
      "1091/1091 [==============================] - 32s 30ms/step - loss: 0.3132 - accuracy: 0.8815 - val_loss: 0.3639 - val_accuracy: 0.8711\n",
      "Epoch 20/100\n",
      "1091/1091 [==============================] - 32s 29ms/step - loss: 0.3100 - accuracy: 0.8825 - val_loss: 1.3695 - val_accuracy: 0.8718\n",
      "Epoch 21/100\n",
      "1091/1091 [==============================] - 33s 30ms/step - loss: 0.3081 - accuracy: 0.8834 - val_loss: 0.3708 - val_accuracy: 0.8688\n"
     ]
    }
   ],
   "source": [
    "VGG_model_2.compile(optimizer=tf.keras.optimizers.Adam(learning_rate = 0.005), loss=keras.losses.categorical_crossentropy, metrics=['accuracy'])\n",
    "\n",
    "early_stopping_cb = keras.callbacks.EarlyStopping(patience=5, restore_best_weights=True)\n",
    "# model_checkpoint_cb = keras.callbacks.ModelCheckpoint(\"my_new_emnist_model.h5\", save_best_only=True)\n",
    "vgg_hitory = VGG_model_2.fit(X_train, y_train, batch_size = 512, epochs=100, validation_data=(X_val, y_val), callbacks=[early_stopping_cb])"
   ]
  },
  {
   "cell_type": "code",
   "execution_count": 12,
   "metadata": {},
   "outputs": [],
   "source": [
    "def plt_learning_curve(history, model_name):\n",
    "  pd.DataFrame(history.history).plot(figsize=(8, 5))\n",
    "  plt.grid(True)\n",
    "  plt.gca().set_ylim(0, 1)\n",
    "  plt.title(f\"{model_name}'s learnig curve\", fontsize=14)\n",
    "  plt.show()"
   ]
  },
  {
   "cell_type": "code",
   "execution_count": 13,
   "metadata": {},
   "outputs": [
    {
     "data": {
      "image/png": "[encoded data removed]",
      "text/plain": [
       "<Figure size 576x360 with 1 Axes>"
      ]
     },
     "metadata": {
      "needs_background": "light"
     },
     "output_type": "display_data"
    }
   ],
   "source": [
    "plt_learning_curve(vgg_hitory, 'VGG')"
   ]
  },
  {
   "cell_type": "markdown",
   "metadata": {
    "id": "RdLpDrN7F6m6"
   },
   "source": [
    "# Lenet"
   ]
  },
  {
   "cell_type": "code",
   "execution_count": 14,
   "metadata": {
    "colab": {
     "base_uri": "https://localhost:8080/"
    },
    "id": "zcZZZLsXF6HV",
    "outputId": "594642c0-1806-4ee2-f1b0-f7fbbb625f42"
   },
   "outputs": [
    {
     "name": "stdout",
     "output_type": "stream",
     "text": [
      "Model: \"sequential\"\n",
      "_________________________________________________________________\n",
      " Layer (type)                Output Shape              Param #   \n",
      "=================================================================\n",
      " conv2d (Conv2D)             (None, 28, 28, 32)        832       \n",
      "                                                                 \n",
      " batch_normalization (BatchN  (None, 28, 28, 32)       128       \n",
      " ormalization)                                                   \n",
      "                                                                 \n",
      " conv2d_1 (Conv2D)           (None, 24, 24, 64)        51264     \n",
      "                                                                 \n",
      " batch_normalization_1 (Batc  (None, 24, 24, 64)       256       \n",
      " hNormalization)                                                 \n",
      "                                                                 \n",
      " conv2d_2 (Conv2D)           (None, 22, 22, 32)        18464     \n",
      "                                                                 \n",
      " batch_normalization_2 (Batc  (None, 22, 22, 32)       128       \n",
      " hNormalization)                                                 \n",
      "                                                                 \n",
      " dropout (Dropout)           (None, 22, 22, 32)        0         \n",
      "                                                                 \n",
      " global_average_pooling2d (G  (None, 32)               0         \n",
      " lobalAveragePooling2D)                                          \n",
      "                                                                 \n",
      " flatten (Flatten)           (None, 32)                0         \n",
      "                                                                 \n",
      " dense (Dense)               (None, 62)                2046      \n",
      "                                                                 \n",
      "=================================================================\n",
      "Total params: 73,118\n",
      "Trainable params: 72,862\n",
      "Non-trainable params: 256\n",
      "_________________________________________________________________\n"
     ]
    }
   ],
   "source": [
    "keras.backend.clear_session()\n",
    "\n",
    "lenet_5_selu_dropout_model = keras.models.Sequential([\n",
    "    keras.layers.Conv2D(32, kernel_size=5, strides=1,  activation=\"selu\", kernel_initializer=\"lecun_normal\", input_shape=(28, 28, 1), padding='same'),\n",
    "    keras.layers.BatchNormalization(),\n",
    "    keras.layers.Conv2D(64, kernel_size=5, strides=1, activation=\"selu\", kernel_initializer=\"lecun_normal\", padding='valid'),\n",
    "    keras.layers.BatchNormalization(),\n",
    "    keras.layers.Conv2D(32, kernel_size=3, strides=1, activation=\"selu\", kernel_initializer=\"lecun_normal\", padding='valid'),\n",
    "    keras.layers.BatchNormalization(),\n",
    "    keras.layers.Dropout(0.3),\n",
    "    keras.layers.GlobalAveragePooling2D(),\n",
    "    keras.layers.Flatten(),\n",
    "    keras.layers.Dense(62, activation='softmax')\n",
    "])\n",
    "\n",
    "lenet_5_selu_dropout_model.summary()"
   ]
  },
  {
   "cell_type": "code",
   "execution_count": 15,
   "metadata": {
    "id": "4OlG466-GH-c"
   },
   "outputs": [
    {
     "name": "stdout",
     "output_type": "stream",
     "text": [
      "Epoch 1/100\n",
      "1091/1091 [==============================] - 18s 16ms/step - loss: 1.4630 - accuracy: 0.6384 - val_loss: 0.8801 - val_accuracy: 0.7534\n",
      "Epoch 2/100\n",
      "1091/1091 [==============================] - 17s 15ms/step - loss: 0.6490 - accuracy: 0.7993 - val_loss: 0.7550 - val_accuracy: 0.7693\n",
      "Epoch 3/100\n",
      "1091/1091 [==============================] - 17s 16ms/step - loss: 0.5504 - accuracy: 0.8203 - val_loss: 0.5765 - val_accuracy: 0.8094\n",
      "Epoch 4/100\n",
      "1091/1091 [==============================] - 17s 16ms/step - loss: 0.5084 - accuracy: 0.8305 - val_loss: 0.5863 - val_accuracy: 0.8071\n",
      "Epoch 5/100\n",
      "1091/1091 [==============================] - 17s 16ms/step - loss: 0.4833 - accuracy: 0.8367 - val_loss: 0.5105 - val_accuracy: 0.8289\n",
      "Epoch 6/100\n",
      "1091/1091 [==============================] - 17s 15ms/step - loss: 0.4662 - accuracy: 0.8408 - val_loss: 0.5207 - val_accuracy: 0.8266\n",
      "Epoch 7/100\n",
      "1091/1091 [==============================] - 17s 16ms/step - loss: 0.4551 - accuracy: 0.8435 - val_loss: 0.4740 - val_accuracy: 0.8358\n",
      "Epoch 8/100\n",
      "1091/1091 [==============================] - 17s 15ms/step - loss: 0.4462 - accuracy: 0.8457 - val_loss: 0.4896 - val_accuracy: 0.8330\n",
      "Epoch 9/100\n",
      "1091/1091 [==============================] - 17s 16ms/step - loss: 0.4380 - accuracy: 0.8480 - val_loss: 0.4721 - val_accuracy: 0.8382\n",
      "Epoch 10/100\n",
      "1091/1091 [==============================] - 17s 15ms/step - loss: 0.4319 - accuracy: 0.8495 - val_loss: 0.5051 - val_accuracy: 0.8270\n",
      "Epoch 11/100\n",
      "1091/1091 [==============================] - 17s 15ms/step - loss: 0.4266 - accuracy: 0.8511 - val_loss: 0.4870 - val_accuracy: 0.8318\n",
      "Epoch 12/100\n",
      "1091/1091 [==============================] - 17s 15ms/step - loss: 0.4216 - accuracy: 0.8524 - val_loss: 0.4626 - val_accuracy: 0.8400\n",
      "Epoch 13/100\n",
      "1091/1091 [==============================] - 16s 15ms/step - loss: 0.4174 - accuracy: 0.8536 - val_loss: 0.4631 - val_accuracy: 0.8377\n",
      "Epoch 14/100\n",
      "1091/1091 [==============================] - 17s 15ms/step - loss: 0.4142 - accuracy: 0.8543 - val_loss: 0.4198 - val_accuracy: 0.8527\n",
      "Epoch 15/100\n",
      "1091/1091 [==============================] - 17s 15ms/step - loss: 0.4109 - accuracy: 0.8546 - val_loss: 0.4425 - val_accuracy: 0.8470\n",
      "Epoch 16/100\n",
      "1091/1091 [==============================] - 16s 15ms/step - loss: 0.4084 - accuracy: 0.8559 - val_loss: 0.4849 - val_accuracy: 0.8332\n",
      "Epoch 17/100\n",
      "1091/1091 [==============================] - 17s 15ms/step - loss: 0.4061 - accuracy: 0.8562 - val_loss: 0.4357 - val_accuracy: 0.8465\n",
      "Epoch 18/100\n",
      "1091/1091 [==============================] - 16s 15ms/step - loss: 0.4029 - accuracy: 0.8574 - val_loss: 0.4281 - val_accuracy: 0.8504\n",
      "Epoch 19/100\n",
      "1091/1091 [==============================] - 16s 15ms/step - loss: 0.4012 - accuracy: 0.8576 - val_loss: 0.4336 - val_accuracy: 0.8488\n"
     ]
    }
   ],
   "source": [
    "lenet_5_selu_dropout_model.compile(optimizer='adam', loss=keras.losses.categorical_crossentropy, metrics=['accuracy'])\n",
    "early_stopping_cb = keras.callbacks.EarlyStopping(patience=5, restore_best_weights=True)\n",
    "\n",
    "lenet_history = lenet_5_selu_dropout_model.fit(X_train, y_train, epochs=100, batch_size = 512, validation_data=(X_val, y_val), callbacks=[early_stopping_cb])"
   ]
  },
  {
   "cell_type": "code",
   "execution_count": 16,
   "metadata": {},
   "outputs": [
    {
     "data": {
      "image/png": "[encoded data removed]",
      "text/plain": [
       "<Figure size 576x360 with 1 Axes>"
      ]
     },
     "metadata": {
      "needs_background": "light"
     },
     "output_type": "display_data"
    }
   ],
   "source": [
    "plt_learning_curve(lenet_history, 'Lenet')"
   ]
  },
  {
   "cell_type": "code",
   "execution_count": null,
   "metadata": {},
   "outputs": [],
   "source": []
  }
 ],
 "metadata": {
  "colab": {
   "name": "For_Learning_curve.ipynb",
   "provenance": []
  },
  "kernelspec": {
   "display_name": "Python 3",
   "language": "python",
   "name": "python3"
  },
  "language_info": {
   "codemirror_mode": {
    "name": "ipython",
    "version": 3
   },
   "file_extension": ".py",
   "mimetype": "text/x-python",
   "name": "python",
   "nbconvert_exporter": "python",
   "pygments_lexer": "ipython3",
   "version": "3.8.8"
  }
 },
 "nbformat": 4,
 "nbformat_minor": 1
}
