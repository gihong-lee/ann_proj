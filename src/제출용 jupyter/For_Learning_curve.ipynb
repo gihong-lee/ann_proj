{
 "cells": [
  {
   "cell_type": "code",
   "execution_count": 1,
   "metadata": {
    "colab": {
     "base_uri": "https://localhost:8080/"
    },
    "id": "Dv7XZmvJ5C_8",
    "outputId": "a4587737-7f7c-40b8-af60-c02c5c934a04"
   },
   "outputs": [
    {
     "name": "stdout",
     "output_type": "stream",
     "text": [
      "GPU found\n"
     ]
    }
   ],
   "source": [
    "import os\n",
    "import tensorflow as tf\n",
    "from tensorflow import keras as keras\n",
    "from sklearn.model_selection import train_test_split\n",
    "from sklearn.preprocessing import OneHotEncoder\n",
    "from keras.callbacks import EarlyStopping\n",
    "from keras.preprocessing.image import ImageDataGenerator\n",
    "from tensorflow.keras import datasets, layers, models, losses, Model\n",
    "from tensorflow.keras.layers import Dense, Conv2D, MaxPool2D, Flatten, Dropout, Input, BatchNormalization, Dropout\n",
    "import numpy as np\n",
    "import pandas as pd\n",
    "import cv2\n",
    "from matplotlib import pyplot as plt\n",
    "# from google.colab.patches import cv2_imshow\n",
    "#os.environ['CUDA_VISIBLE_DEVICES'] = '-1'\n",
    "\n",
    "if tf.test.gpu_device_name():\n",
    "    print('GPU found')\n",
    "else:\n",
    "    print(\"No GPU found\")"
   ]
  },
  {
   "cell_type": "code",
   "execution_count": 2,
   "metadata": {
    "colab": {
     "base_uri": "https://localhost:8080/"
    },
    "id": "t3DJWHeA5G8a",
    "outputId": "692b6cc2-4330-4ce5-f4a6-1c3cb15b0e29"
   },
   "outputs": [
    {
     "name": "stdout",
     "output_type": "stream",
     "text": [
      "Mounted at cnontent/\n"
     ]
    }
   ],
   "source": [
    "from google.colab import drive\n",
    "drive.mount('cnontent/')"
   ]
  },
  {
   "cell_type": "code",
   "execution_count": 3,
   "metadata": {
    "colab": {
     "base_uri": "https://localhost:8080/"
    },
    "id": "uX8hcXiF5ICw",
    "outputId": "2b27dd40-93e5-419b-c5f6-8c2007df5fd3"
   },
   "outputs": [
    {
     "name": "stdout",
     "output_type": "stream",
     "text": [
      "/content/cnontent/MyDrive/SSU/nural_nework/project\n"
     ]
    }
   ],
   "source": [
    "cd /content/cnontent/MyDrive/SSU/nural_nework/project"
   ]
  },
  {
   "cell_type": "code",
   "execution_count": 2,
   "metadata": {
    "id": "60nIs2--5FdA"
   },
   "outputs": [],
   "source": [
    "def convert_data_csv_to_numpy(data, sorting = False): # pandas 통해 읽은 csv data numpy 형태로 변경\n",
    "  if sorting == True:\n",
    "    data = data.sort_values(by=[0], axis=0)\n",
    "\n",
    "  label = np.array(data[0]) # csv file 에서 0번째 colum은 index임\n",
    "  only_data = np.array(data.drop([0], axis = 1)).reshape((-1, 28, 28, 1)) # csv file에서 0번 째 colum 탈락 -> data만 남게 됨\n",
    "  # only_data = tf.convert_to_tensor(only_data, dtype=tf.float32)\n",
    "  return only_data, label"
   ]
  },
  {
   "cell_type": "code",
   "execution_count": 4,
   "metadata": {
    "id": "e4Oh3LTMmjJZ"
   },
   "outputs": [],
   "source": [
    "train_df = pd.read_csv(\"../../data/emnist-byclass-train.csv\", header=None)\n",
    "test_df = pd.read_csv(\"../../data/emnist-byclass-test.csv\", header=None)"
   ]
  },
  {
   "cell_type": "code",
   "execution_count": 5,
   "metadata": {
    "id": "YmOIg62H5Nsp"
   },
   "outputs": [],
   "source": [
    "X_train, y_train  = convert_data_csv_to_numpy(train_df)\n",
    "X_test, y_test  = convert_data_csv_to_numpy(test_df)\n",
    "\n",
    "train_df = None\n",
    "test_df = None"
   ]
  },
  {
   "cell_type": "code",
   "execution_count": 6,
   "metadata": {
    "id": "fK_VcP905O6c"
   },
   "outputs": [],
   "source": [
    "# add channel\n",
    "# channel = 3\n",
    "# X_train_3 = np.repeat(X_train, channel, axis=-1)\n",
    "# X_test_3 = np.repeat(X_test, channel, axis=-1)\n",
    "# y_test_3 = y_test\n",
    "\n",
    "X_train, X_val, y_train, y_val = train_test_split(X_train/255., y_train, test_size=0.2, random_state=42)\n",
    "# X_train_3, X_val_3, y_train_3, y_val_3 = train_test_split(X_train_3, y_train, test_size=0.2, random_state=42)"
   ]
  },
  {
   "cell_type": "code",
   "execution_count": 7,
   "metadata": {
    "id": "mIUYOoxZ5Qy2"
   },
   "outputs": [],
   "source": [
    "raw_y_train = y_train.copy()\n",
    "raw_y_val = y_val.copy()\n",
    "raw_y_test = y_test.copy()\n",
    "\n",
    "y_train = tf.keras.utils.to_categorical(y_train)\n",
    "y_val = tf.keras.utils.to_categorical(y_val)\n",
    "y_test = tf.keras.utils.to_categorical(y_test)"
   ]
  },
  {
   "cell_type": "markdown",
   "metadata": {
    "id": "qvFJQTgv5Uaj"
   },
   "source": [
    "# VGG"
   ]
  },
  {
   "cell_type": "code",
   "execution_count": null,
   "metadata": {
    "colab": {
     "base_uri": "https://localhost:8080/"
    },
    "id": "6IZxof0T5Aqu",
    "outputId": "0bbd7592-fee5-4c02-8a0a-95a382c29abd"
   },
   "outputs": [
    {
     "name": "stdout",
     "output_type": "stream",
     "text": [
      "Model: \"model\"\n",
      "_________________________________________________________________\n",
      " Layer (type)                Output Shape              Param #   \n",
      "=================================================================\n",
      " input_1 (InputLayer)        [(None, 28, 28, 1)]       0         \n",
      "                                                                 \n",
      " conv2d (Conv2D)             (None, 28, 28, 32)        320       \n",
      "                                                                 \n",
      " conv2d_1 (Conv2D)           (None, 28, 28, 32)        9248      \n",
      "                                                                 \n",
      " batch_normalization (BatchN  (None, 28, 28, 32)       128       \n",
      " ormalization)                                                   \n",
      "                                                                 \n",
      " max_pooling2d (MaxPooling2D  (None, 14, 14, 32)       0         \n",
      " )                                                               \n",
      "                                                                 \n",
      " conv2d_2 (Conv2D)           (None, 14, 14, 64)        18496     \n",
      "                                                                 \n",
      " conv2d_3 (Conv2D)           (None, 14, 14, 64)        36928     \n",
      "                                                                 \n",
      " batch_normalization_1 (Batc  (None, 14, 14, 64)       256       \n",
      " hNormalization)                                                 \n",
      "                                                                 \n",
      " dropout (Dropout)           (None, 14, 14, 64)        0         \n",
      "                                                                 \n",
      " max_pooling2d_1 (MaxPooling  (None, 7, 7, 64)         0         \n",
      " 2D)                                                             \n",
      "                                                                 \n",
      " conv2d_4 (Conv2D)           (None, 7, 7, 128)         73856     \n",
      "                                                                 \n",
      " conv2d_5 (Conv2D)           (None, 7, 7, 128)         147584    \n",
      "                                                                 \n",
      " conv2d_6 (Conv2D)           (None, 7, 7, 128)         147584    \n",
      "                                                                 \n",
      " batch_normalization_2 (Batc  (None, 7, 7, 128)        512       \n",
      " hNormalization)                                                 \n",
      "                                                                 \n",
      " dropout_1 (Dropout)         (None, 7, 7, 128)         0         \n",
      "                                                                 \n",
      " max_pooling2d_2 (MaxPooling  (None, 4, 4, 128)        0         \n",
      " 2D)                                                             \n",
      "                                                                 \n",
      " conv2d_7 (Conv2D)           (None, 4, 4, 256)         295168    \n",
      "                                                                 \n",
      " conv2d_8 (Conv2D)           (None, 4, 4, 256)         590080    \n",
      "                                                                 \n",
      " conv2d_9 (Conv2D)           (None, 4, 4, 256)         590080    \n",
      "                                                                 \n",
      " batch_normalization_3 (Batc  (None, 4, 4, 256)        1024      \n",
      " hNormalization)                                                 \n",
      "                                                                 \n",
      " dropout_2 (Dropout)         (None, 4, 4, 256)         0         \n",
      "                                                                 \n",
      " max_pooling2d_3 (MaxPooling  (None, 2, 2, 256)        0         \n",
      " 2D)                                                             \n",
      "                                                                 \n",
      " conv2d_10 (Conv2D)          (None, 2, 2, 256)         590080    \n",
      "                                                                 \n",
      " conv2d_11 (Conv2D)          (None, 2, 2, 256)         590080    \n",
      "                                                                 \n",
      " conv2d_12 (Conv2D)          (None, 2, 2, 256)         590080    \n",
      "                                                                 \n",
      " batch_normalization_4 (Batc  (None, 2, 2, 256)        1024      \n",
      " hNormalization)                                                 \n",
      "                                                                 \n",
      " dropout_3 (Dropout)         (None, 2, 2, 256)         0         \n",
      "                                                                 \n",
      " max_pooling2d_4 (MaxPooling  (None, 1, 1, 256)        0         \n",
      " 2D)                                                             \n",
      "                                                                 \n",
      " flatten (Flatten)           (None, 256)               0         \n",
      "                                                                 \n",
      " batch_normalization_5 (Batc  (None, 256)              1024      \n",
      " hNormalization)                                                 \n",
      "                                                                 \n",
      " dense (Dense)               (None, 4096)              1052672   \n",
      "                                                                 \n",
      " dense_1 (Dense)             (None, 4096)              16781312  \n",
      "                                                                 \n",
      " dense_2 (Dense)             (None, 62)                254014    \n",
      "                                                                 \n",
      "=================================================================\n",
      "Total params: 21,771,550\n",
      "Trainable params: 21,769,566\n",
      "Non-trainable params: 1,984\n",
      "_________________________________________________________________\n"
     ]
    }
   ],
   "source": [
    "inputs = Input(shape = (28,28,1))\n",
    "x = Conv2D (filters =32, kernel_size =3, padding ='same', activation='relu')(inputs)\n",
    "x = Conv2D (filters =32, kernel_size =3, padding ='same', activation='relu')(x)\n",
    "x= BatchNormalization()(x)\n",
    "x = MaxPool2D(pool_size =2, strides =2, padding ='same')(x)\n",
    "# 2nd Conv Block\n",
    "x = Conv2D (filters =64, kernel_size =3, padding ='same', activation='relu')(x)\n",
    "x = Conv2D (filters =64, kernel_size =3, padding ='same', activation='relu')(x)\n",
    "x= BatchNormalization()(x)\n",
    "x= Dropout(0.3)(x)\n",
    "x = MaxPool2D(pool_size =2, strides =2, padding ='same')(x)\n",
    "# 3rd Conv block  \n",
    "x = Conv2D (filters =128, kernel_size =3, padding ='same', activation='relu')(x)\n",
    "x = Conv2D (filters =128, kernel_size =3, padding ='same', activation='relu')(x) \n",
    "x = Conv2D (filters =128, kernel_size =3, padding ='same', activation='relu')(x) \n",
    "x= BatchNormalization()(x)\n",
    "x= Dropout(0.3)(x)\n",
    "x = MaxPool2D(pool_size =2, strides =2, padding ='same')(x)\n",
    "# 4th Conv block\n",
    "x = Conv2D (filters =256, kernel_size =3, padding ='same', activation='relu')(x)\n",
    "x = Conv2D (filters =256, kernel_size =3, padding ='same', activation='relu')(x)\n",
    "x = Conv2D (filters =256, kernel_size =3, padding ='same', activation='relu')(x)\n",
    "x= BatchNormalization()(x)\n",
    "x= Dropout(0.3)(x)\n",
    "x = MaxPool2D(pool_size =2, strides =2, padding ='same')(x)\n",
    "# 5th Conv block\n",
    "x = Conv2D (filters =256, kernel_size =3, padding ='same', activation='relu')(x)\n",
    "x = Conv2D (filters =256, kernel_size =3, padding ='same', activation='relu')(x)\n",
    "x = Conv2D (filters =256, kernel_size =3, padding ='same', activation='relu')(x)\n",
    "x= BatchNormalization()(x)\n",
    "x= Dropout(0.3)(x)\n",
    "x = MaxPool2D(pool_size =2, strides =2, padding ='same')(x)\n",
    "# Fully connected layers  \n",
    "x = Flatten()(x)\n",
    "x= BatchNormalization()(x)\n",
    "x = Dense(units = 4096, activation ='relu')(x)\n",
    "x = Dense(units = 4096, activation ='relu')(x)\n",
    "output = Dense(units = 62, activation ='softmax')(x)\n",
    "# creating the model\n",
    "\n",
    "VGG_model_2 = Model (inputs=inputs, outputs =output)\n",
    "VGG_model_2.summary()"
   ]
  },
  {
   "cell_type": "code",
   "execution_count": null,
   "metadata": {
    "id": "eGM9E-9F5V8S",
    "outputId": "c0fe17fa-5c8f-48c3-966e-63a66a6057fb"
   },
   "outputs": [
    {
     "name": "stdout",
     "output_type": "stream",
     "text": [
      "Epoch 1/100\n",
      "1091/1091 [==============================] - 34s 30ms/step - loss: 0.9071 - accuracy: 0.7190 - val_loss: 0.5531 - val_accuracy: 0.8199\n",
      "Epoch 2/100\n",
      "1091/1091 [==============================] - 32s 29ms/step - loss: 0.4650 - accuracy: 0.8405 - val_loss: 0.7804 - val_accuracy: 0.8293\n",
      "Epoch 3/100\n",
      "1091/1091 [==============================] - 32s 30ms/step - loss: 0.4205 - accuracy: 0.8527 - val_loss: 0.4330 - val_accuracy: 0.8548\n",
      "Epoch 4/100\n",
      "1091/1091 [==============================] - 32s 29ms/step - loss: 0.4003 - accuracy: 0.8586 - val_loss: 0.4329 - val_accuracy: 0.8518\n",
      "Epoch 5/100\n",
      "1091/1091 [==============================] - 31s 29ms/step - loss: 0.3851 - accuracy: 0.8622 - val_loss: 0.4251 - val_accuracy: 0.8552\n",
      "Epoch 6/100\n",
      "1091/1091 [==============================] - 32s 29ms/step - loss: 0.3743 - accuracy: 0.8649 - val_loss: 0.4001 - val_accuracy: 0.8587\n",
      "Epoch 7/100\n",
      "1091/1091 [==============================] - 32s 29ms/step - loss: 0.3646 - accuracy: 0.8673 - val_loss: 0.3818 - val_accuracy: 0.8634\n",
      "Epoch 8/100\n",
      "1091/1091 [==============================] - 32s 29ms/step - loss: 0.3578 - accuracy: 0.8693 - val_loss: 0.3760 - val_accuracy: 0.8637\n",
      "Epoch 9/100\n",
      "1091/1091 [==============================] - 32s 29ms/step - loss: 0.3514 - accuracy: 0.8711 - val_loss: 0.3849 - val_accuracy: 0.8615\n",
      "Epoch 10/100\n",
      "1091/1091 [==============================] - 33s 30ms/step - loss: 0.3461 - accuracy: 0.8725 - val_loss: 0.3758 - val_accuracy: 0.8661\n",
      "Epoch 11/100\n",
      "1091/1091 [==============================] - 33s 30ms/step - loss: 0.3403 - accuracy: 0.8741 - val_loss: 0.4143 - val_accuracy: 0.8624\n",
      "Epoch 12/100\n",
      "1091/1091 [==============================] - 32s 29ms/step - loss: 0.3357 - accuracy: 0.8753 - val_loss: 0.3668 - val_accuracy: 0.8667\n",
      "Epoch 13/100\n",
      "1091/1091 [==============================] - 32s 29ms/step - loss: 0.3319 - accuracy: 0.8765 - val_loss: 0.3767 - val_accuracy: 0.8657\n",
      "Epoch 14/100\n",
      "1091/1091 [==============================] - 32s 29ms/step - loss: 0.3281 - accuracy: 0.8772 - val_loss: 0.3632 - val_accuracy: 0.8712\n",
      "Epoch 15/100\n",
      "1091/1091 [==============================] - 32s 29ms/step - loss: 0.3243 - accuracy: 0.8789 - val_loss: 0.3767 - val_accuracy: 0.8674\n",
      "Epoch 16/100\n",
      "1091/1091 [==============================] - 32s 30ms/step - loss: 0.3220 - accuracy: 0.8789 - val_loss: 0.3589 - val_accuracy: 0.8726\n",
      "Epoch 17/100\n",
      "1091/1091 [==============================] - 32s 29ms/step - loss: 0.3185 - accuracy: 0.8804 - val_loss: 0.3665 - val_accuracy: 0.8669\n",
      "Epoch 18/100\n",
      "1091/1091 [==============================] - 32s 30ms/step - loss: 0.3151 - accuracy: 0.8811 - val_loss: 0.3699 - val_accuracy: 0.8698\n",
      "Epoch 19/100\n",
      "1091/1091 [==============================] - 32s 30ms/step - loss: 0.3132 - accuracy: 0.8815 - val_loss: 0.3639 - val_accuracy: 0.8711\n",
      "Epoch 20/100\n",
      "1091/1091 [==============================] - 32s 29ms/step - loss: 0.3100 - accuracy: 0.8825 - val_loss: 1.3695 - val_accuracy: 0.8718\n",
      "Epoch 21/100\n",
      "1091/1091 [==============================] - 33s 30ms/step - loss: 0.3081 - accuracy: 0.8834 - val_loss: 0.3708 - val_accuracy: 0.8688\n"
     ]
    }
   ],
   "source": [
    "VGG_model_2.compile(optimizer=tf.keras.optimizers.Adam(learning_rate = 0.005), loss=keras.losses.categorical_crossentropy, metrics=['accuracy'])\n",
    "\n",
    "early_stopping_cb = keras.callbacks.EarlyStopping(patience=5, restore_best_weights=True)\n",
    "# model_checkpoint_cb = keras.callbacks.ModelCheckpoint(\"my_new_emnist_model.h5\", save_best_only=True)\n",
    "vgg_hitory = VGG_model_2.fit(X_train, y_train, batch_size = 512, epochs=100, validation_data=(X_val, y_val), callbacks=[early_stopping_cb])"
   ]
  },
  {
   "cell_type": "code",
   "execution_count": 22,
   "metadata": {
    "id": "r49zmExZmM4x"
   },
   "outputs": [],
   "source": [
    "def plt_learning_curve(history, model_name):\n",
    "  pd.DataFrame(history.history).plot(figsize=(8, 5))\n",
    "  plt.grid(True)\n",
    "  plt.gca().set_ylim(0, 1)\n",
    "  plt.title(f\"{model_name}'s learnig curve\", fontsize=14)\n",
    "  plt.show()"
   ]
  },
  {
   "cell_type": "code",
   "execution_count": null,
   "metadata": {
    "id": "K-cxl2TEmM4x",
    "outputId": "087c2bf1-3c39-45b1-dfe3-7581a87ca012"
   },
   "outputs": [
    {
     "data": {
      "image/png": "[encoded data removed]",
      "text/plain": [
       "<Figure size 576x360 with 1 Axes>"
      ]
     },
     "metadata": {
      "needs_background": "light"
     },
     "output_type": "display_data"
    }
   ],
   "source": [
    "plt_learning_curve(vgg_hitory, 'VGG')"
   ]
  },
  {
   "cell_type": "markdown",
   "metadata": {
    "id": "RdLpDrN7F6m6"
   },
   "source": [
    "# Lenet"
   ]
  },
  {
   "cell_type": "code",
   "execution_count": null,
   "metadata": {
    "colab": {
     "base_uri": "https://localhost:8080/"
    },
    "id": "zcZZZLsXF6HV",
    "outputId": "594642c0-1806-4ee2-f1b0-f7fbbb625f42"
   },
   "outputs": [
    {
     "name": "stdout",
     "output_type": "stream",
     "text": [
      "Model: \"sequential\"\n",
      "_________________________________________________________________\n",
      " Layer (type)                Output Shape              Param #   \n",
      "=================================================================\n",
      " conv2d (Conv2D)             (None, 28, 28, 32)        832       \n",
      "                                                                 \n",
      " batch_normalization (BatchN  (None, 28, 28, 32)       128       \n",
      " ormalization)                                                   \n",
      "                                                                 \n",
      " conv2d_1 (Conv2D)           (None, 24, 24, 64)        51264     \n",
      "                                                                 \n",
      " batch_normalization_1 (Batc  (None, 24, 24, 64)       256       \n",
      " hNormalization)                                                 \n",
      "                                                                 \n",
      " conv2d_2 (Conv2D)           (None, 22, 22, 32)        18464     \n",
      "                                                                 \n",
      " batch_normalization_2 (Batc  (None, 22, 22, 32)       128       \n",
      " hNormalization)                                                 \n",
      "                                                                 \n",
      " dropout (Dropout)           (None, 22, 22, 32)        0         \n",
      "                                                                 \n",
      " global_average_pooling2d (G  (None, 32)               0         \n",
      " lobalAveragePooling2D)                                          \n",
      "                                                                 \n",
      " flatten (Flatten)           (None, 32)                0         \n",
      "                                                                 \n",
      " dense (Dense)               (None, 62)                2046      \n",
      "                                                                 \n",
      "=================================================================\n",
      "Total params: 73,118\n",
      "Trainable params: 72,862\n",
      "Non-trainable params: 256\n",
      "_________________________________________________________________\n"
     ]
    }
   ],
   "source": [
    "keras.backend.clear_session()\n",
    "\n",
    "lenet_5_selu_dropout_model = keras.models.Sequential([\n",
    "    keras.layers.Conv2D(32, kernel_size=5, strides=1,  activation=\"selu\", kernel_initializer=\"lecun_normal\", input_shape=(28, 28, 1), padding='same'),\n",
    "    keras.layers.BatchNormalization(),\n",
    "    keras.layers.Conv2D(64, kernel_size=5, strides=1, activation=\"selu\", kernel_initializer=\"lecun_normal\", padding='valid'),\n",
    "    keras.layers.BatchNormalization(),\n",
    "    keras.layers.Conv2D(32, kernel_size=3, strides=1, activation=\"selu\", kernel_initializer=\"lecun_normal\", padding='valid'),\n",
    "    keras.layers.BatchNormalization(),\n",
    "    keras.layers.Dropout(0.3),\n",
    "    keras.layers.GlobalAveragePooling2D(),\n",
    "    keras.layers.Flatten(),\n",
    "    keras.layers.Dense(62, activation='softmax')\n",
    "])\n",
    "\n",
    "lenet_5_selu_dropout_model.summary()"
   ]
  },
  {
   "cell_type": "code",
   "execution_count": null,
   "metadata": {
    "id": "4OlG466-GH-c",
    "outputId": "b467e97f-9764-4c24-e5cf-3e50c1a9d942"
   },
   "outputs": [
    {
     "name": "stdout",
     "output_type": "stream",
     "text": [
      "Epoch 1/100\n",
      "1091/1091 [==============================] - 18s 16ms/step - loss: 1.4630 - accuracy: 0.6384 - val_loss: 0.8801 - val_accuracy: 0.7534\n",
      "Epoch 2/100\n",
      "1091/1091 [==============================] - 17s 15ms/step - loss: 0.6490 - accuracy: 0.7993 - val_loss: 0.7550 - val_accuracy: 0.7693\n",
      "Epoch 3/100\n",
      "1091/1091 [==============================] - 17s 16ms/step - loss: 0.5504 - accuracy: 0.8203 - val_loss: 0.5765 - val_accuracy: 0.8094\n",
      "Epoch 4/100\n",
      "1091/1091 [==============================] - 17s 16ms/step - loss: 0.5084 - accuracy: 0.8305 - val_loss: 0.5863 - val_accuracy: 0.8071\n",
      "Epoch 5/100\n",
      "1091/1091 [==============================] - 17s 16ms/step - loss: 0.4833 - accuracy: 0.8367 - val_loss: 0.5105 - val_accuracy: 0.8289\n",
      "Epoch 6/100\n",
      "1091/1091 [==============================] - 17s 15ms/step - loss: 0.4662 - accuracy: 0.8408 - val_loss: 0.5207 - val_accuracy: 0.8266\n",
      "Epoch 7/100\n",
      "1091/1091 [==============================] - 17s 16ms/step - loss: 0.4551 - accuracy: 0.8435 - val_loss: 0.4740 - val_accuracy: 0.8358\n",
      "Epoch 8/100\n",
      "1091/1091 [==============================] - 17s 15ms/step - loss: 0.4462 - accuracy: 0.8457 - val_loss: 0.4896 - val_accuracy: 0.8330\n",
      "Epoch 9/100\n",
      "1091/1091 [==============================] - 17s 16ms/step - loss: 0.4380 - accuracy: 0.8480 - val_loss: 0.4721 - val_accuracy: 0.8382\n",
      "Epoch 10/100\n",
      "1091/1091 [==============================] - 17s 15ms/step - loss: 0.4319 - accuracy: 0.8495 - val_loss: 0.5051 - val_accuracy: 0.8270\n",
      "Epoch 11/100\n",
      "1091/1091 [==============================] - 17s 15ms/step - loss: 0.4266 - accuracy: 0.8511 - val_loss: 0.4870 - val_accuracy: 0.8318\n",
      "Epoch 12/100\n",
      "1091/1091 [==============================] - 17s 15ms/step - loss: 0.4216 - accuracy: 0.8524 - val_loss: 0.4626 - val_accuracy: 0.8400\n",
      "Epoch 13/100\n",
      "1091/1091 [==============================] - 16s 15ms/step - loss: 0.4174 - accuracy: 0.8536 - val_loss: 0.4631 - val_accuracy: 0.8377\n",
      "Epoch 14/100\n",
      "1091/1091 [==============================] - 17s 15ms/step - loss: 0.4142 - accuracy: 0.8543 - val_loss: 0.4198 - val_accuracy: 0.8527\n",
      "Epoch 15/100\n",
      "1091/1091 [==============================] - 17s 15ms/step - loss: 0.4109 - accuracy: 0.8546 - val_loss: 0.4425 - val_accuracy: 0.8470\n",
      "Epoch 16/100\n",
      "1091/1091 [==============================] - 16s 15ms/step - loss: 0.4084 - accuracy: 0.8559 - val_loss: 0.4849 - val_accuracy: 0.8332\n",
      "Epoch 17/100\n",
      "1091/1091 [==============================] - 17s 15ms/step - loss: 0.4061 - accuracy: 0.8562 - val_loss: 0.4357 - val_accuracy: 0.8465\n",
      "Epoch 18/100\n",
      "1091/1091 [==============================] - 16s 15ms/step - loss: 0.4029 - accuracy: 0.8574 - val_loss: 0.4281 - val_accuracy: 0.8504\n",
      "Epoch 19/100\n",
      "1091/1091 [==============================] - 16s 15ms/step - loss: 0.4012 - accuracy: 0.8576 - val_loss: 0.4336 - val_accuracy: 0.8488\n"
     ]
    }
   ],
   "source": [
    "lenet_5_selu_dropout_model.compile(optimizer='adam', loss=keras.losses.categorical_crossentropy, metrics=['accuracy'])\n",
    "early_stopping_cb = keras.callbacks.EarlyStopping(patience=5, restore_best_weights=True)\n",
    "\n",
    "lenet_history = lenet_5_selu_dropout_model.fit(X_train, y_train, epochs=100, batch_size = 512, validation_data=(X_val, y_val), callbacks=[early_stopping_cb])"
   ]
  },
  {
   "cell_type": "code",
   "execution_count": null,
   "metadata": {
    "id": "KycLM6clmM4z",
    "outputId": "6a408855-2481-4070-fc6e-73aec51e5408"
   },
   "outputs": [
    {
     "data": {
      "image/png": "[encoded data removed]",
      "text/plain": [
       "<Figure size 576x360 with 1 Axes>"
      ]
     },
     "metadata": {
      "needs_background": "light"
     },
     "output_type": "display_data"
    }
   ],
   "source": [
    "plt_learning_curve(lenet_history, 'Lenet')"
   ]
  },
  {
   "cell_type": "markdown",
   "metadata": {
    "id": "6Jj6hBsBnTC0"
   },
   "source": [
    "# Resnet"
   ]
  },
  {
   "cell_type": "code",
   "execution_count": 8,
   "metadata": {
    "id": "XIfA4_1lmM4z"
   },
   "outputs": [],
   "source": [
    "domain_train_label = np.array(raw_y_train.copy())\n",
    "domain_val_label = np.array(raw_y_val.copy())\n",
    "domain_test_label = np.array(raw_y_test.copy())\n",
    "\n",
    "domain_train_label[domain_train_label<10] = 0\n",
    "domain_train_label[(10<=domain_train_label)&(domain_train_label<36)] = 1\n",
    "domain_train_label[36<=domain_train_label] = 2\n",
    "\n",
    "domain_val_label[domain_val_label<10] = 0\n",
    "domain_val_label[(10<=domain_val_label)&(domain_val_label<36)] = 1\n",
    "domain_val_label[36<=domain_val_label] = 2\n",
    "\n",
    "domain_test_label[domain_test_label<10] = 0\n",
    "domain_test_label[(10<=domain_test_label)&(domain_test_label<36)] = 1\n",
    "domain_test_label[36<=domain_test_label] = 2"
   ]
  },
  {
   "cell_type": "code",
   "execution_count": 9,
   "metadata": {
    "colab": {
     "base_uri": "https://localhost:8080/"
    },
    "id": "pxKGpMunnd9V",
    "outputId": "56204d7d-0b0b-48d2-c34a-cf6280c12d0a"
   },
   "outputs": [
    {
     "name": "stdout",
     "output_type": "stream",
     "text": [
      "[0 1 2]\n",
      "[0 1 2]\n",
      "[0 1 2]\n"
     ]
    }
   ],
   "source": [
    "print(np.unique(domain_train_label))\n",
    "print(np.unique(domain_val_label))\n",
    "print(np.unique(domain_test_label))"
   ]
  },
  {
   "cell_type": "code",
   "execution_count": 10,
   "metadata": {
    "id": "sDCsxp9jnfJB"
   },
   "outputs": [],
   "source": [
    "domain_train_label = keras.utils.to_categorical(domain_train_label)\n",
    "domain_val_label = keras.utils.to_categorical(domain_val_label)\n",
    "domain_test_label = keras.utils.to_categorical(domain_test_label)"
   ]
  },
  {
   "cell_type": "code",
   "execution_count": 11,
   "metadata": {
    "colab": {
     "base_uri": "https://localhost:8080/"
    },
    "id": "Bc57OxZgnhSP",
    "outputId": "5117dc59-3a97-42c8-f229-4364b39a2a36"
   },
   "outputs": [
    {
     "name": "stdout",
     "output_type": "stream",
     "text": [
      "(558345, 3)\n",
      "(139587, 3)\n",
      "(116323, 3)\n"
     ]
    }
   ],
   "source": [
    "print(domain_train_label.shape)\n",
    "print(domain_val_label.shape)\n",
    "print(domain_test_label.shape)"
   ]
  },
  {
   "cell_type": "code",
   "execution_count": 12,
   "metadata": {
    "id": "ZHKqM5OsnuGj"
   },
   "outputs": [],
   "source": [
    "class ResnetBlock(keras.models.Model):\n",
    "    \"\"\"\n",
    "    A standard resnet block.\n",
    "    \"\"\"\n",
    "\n",
    "    def __init__(self, channels: int, down_sample=False):\n",
    "        \"\"\"\n",
    "        channels: same as number of convolution kernels\n",
    "        \"\"\"\n",
    "        super().__init__()\n",
    "\n",
    "        self.__channels = channels\n",
    "        self.__down_sample = down_sample\n",
    "        self.__strides = [2, 1] if down_sample else [1, 1]\n",
    "\n",
    "        KERNEL_SIZE = (3, 3)\n",
    "        # use He initialization, instead of Xavier (a.k.a 'glorot_uniform' in Keras), as suggested in [2]\n",
    "        INIT_SCHEME = \"he_normal\"\n",
    "\n",
    "        self.conv_1 = keras.layers.Conv2D(self.__channels, strides=self.__strides[0],\n",
    "                             kernel_size=KERNEL_SIZE, padding=\"same\", kernel_initializer=INIT_SCHEME)\n",
    "        self.bn_1 = keras.layers.BatchNormalization()\n",
    "        self.conv_2 = keras.layers.Conv2D(self.__channels, strides=self.__strides[1],\n",
    "                             kernel_size=KERNEL_SIZE, padding=\"same\", kernel_initializer=INIT_SCHEME)\n",
    "        self.bn_2 = keras.layers.BatchNormalization()\n",
    "        self.merge = keras.layers.Add()\n",
    "\n",
    "        if self.__down_sample:\n",
    "            # perform down sampling using stride of 2, according to [1].\n",
    "            self.res_conv = keras.layers.Conv2D(\n",
    "                self.__channels, strides=2, kernel_size=(1, 1), kernel_initializer=INIT_SCHEME, padding=\"same\")\n",
    "            self.res_bn = keras.layers.BatchNormalization()\n",
    "\n",
    "    def call(self, inputs):\n",
    "        res = inputs\n",
    "\n",
    "        x = self.conv_1(inputs)\n",
    "        x = self.bn_1(x)\n",
    "        x = tf.nn.relu(x)\n",
    "        x = self.conv_2(x)\n",
    "        x = self.bn_2(x)\n",
    "\n",
    "        if self.__down_sample:\n",
    "            res = self.res_conv(res)\n",
    "            res = self.res_bn(res)\n",
    "\n",
    "        # if not perform down sample, then add a shortcut directly\n",
    "        x = self.merge([x, res])\n",
    "        out = tf.nn.relu(x)\n",
    "        return out"
   ]
  },
  {
   "cell_type": "code",
   "execution_count": 13,
   "metadata": {
    "id": "2s4mTElUniVe"
   },
   "outputs": [],
   "source": [
    "class Res_5x5_v4(keras.models.Model):\n",
    "\n",
    "    def __init__(self, num_classes, config_list, **kwargs):\n",
    "        \"\"\"\n",
    "            num_classes: number of classes in specific classification task.\n",
    "        \"\"\"\n",
    "        super().__init__(**kwargs)\n",
    "\n",
    "        self.input_ch, self.activation, self.feature_layer_depth, self.domain_nueron, self.dropout_rate,\\\n",
    "        self.num_layer_nueron, self.upper_layer_nueron, self.lower_layer_nueron, self.avgpool = config_list\n",
    "\n",
    "\n",
    "        self.Global_Average_Pool_Layer = keras.layers.GlobalAveragePooling2D()\n",
    "        self.Flatten_Layer = keras.layers.Flatten()\n",
    "\n",
    "        self.Feature_Detection_Layer = self.feature_detection_layer()\n",
    "        \n",
    "        self.Domain_Layer = self.domain_layer()\n",
    "        self.Number_Layer = self.number_layer()\n",
    "        self.Upper_Letter_Layer = self.upper_letter_layer()\n",
    "        self.Lower_Letter_Layer = self.lower_letter_layer()\n",
    "\n",
    "\n",
    "        self.Prediction_Layer = keras.layers.Dense(num_classes, activation=\"softmax\")\n",
    "\n",
    "    def feature_detection_layer(self):\n",
    "      feature_dec_layer = keras.models.Sequential()\n",
    "      feature_dec_layer.add(keras.layers.BatchNormalization())\n",
    "      feature_dec_layer.add(keras.layers.Conv2D(self.input_ch, (5, 5), strides=1, padding=\"same\", kernel_initializer=\"he_normal\"))\n",
    "      feature_dec_layer.add(keras.layers.BatchNormalization())\n",
    "\n",
    "      if self.avgpool == 'T':\n",
    "        feature_dec_layer.add(keras.layers.AvgPool2D(pool_size=2, padding = 'same'))\n",
    "      else:\n",
    "        feature_dec_layer.add(keras.layers.MaxPool2D(pool_size=(2, 2), strides=1, padding=\"same\"))\n",
    "\n",
    "      feature_dec_layer.add(ResnetBlock(self.input_ch))\n",
    "      feature_dec_layer.add(ResnetBlock(self.input_ch))\n",
    "      \n",
    "      for i in range(self.feature_layer_depth-1):\n",
    "        feature_dec_layer.add(ResnetBlock(self.input_ch*(2*(i+1)), down_sample=True))\n",
    "        feature_dec_layer.add(ResnetBlock(self.input_ch*(2*(i+1))))\n",
    "\n",
    "      feature_dec_layer.add(self.Global_Average_Pool_Layer)\n",
    "      feature_dec_layer.add(self.Flatten_Layer)\n",
    "\n",
    "      return feature_dec_layer\n",
    "\n",
    "    def domain_layer(self):\n",
    "      num_layer = keras.models.Sequential(name = \"domain_out\")\n",
    "      for i, num_nueron in enumerate(self.domain_nueron):\n",
    "        num_layer.add(tf.keras.layers.Dense(num_nueron))\n",
    "        num_layer.add(self.select_activation(self.activation))\n",
    "        num_layer.add(keras.layers.BatchNormalization())\n",
    "      \n",
    "      num_layer.add(tf.keras.layers.Dropout(self.dropout_rate))\n",
    "      num_layer.add(tf.keras.layers.Dense(3, activation = 'softmax'))\n",
    "\n",
    "      return num_layer\n",
    "\n",
    "    def number_layer(self):\n",
    "      num_layer = keras.models.Sequential(name = \"number_layer\")\n",
    "      for i, num_nueron in enumerate(self.num_layer_nueron):\n",
    "        num_layer.add(tf.keras.layers.Dense(num_nueron))\n",
    "        num_layer.add(self.select_activation(self.activation))\n",
    "        num_layer.add(keras.layers.BatchNormalization())\n",
    "\n",
    "      num_layer.add(tf.keras.layers.Dropout(self.dropout_rate))\n",
    "      num_layer.add(tf.keras.layers.Dense(10, activation = None))\n",
    "\n",
    "      return num_layer\n",
    "\n",
    "    def upper_letter_layer(self):\n",
    "      upper_layer = keras.models.Sequential(name = \"upper_layer\")\n",
    "      for i, num_nueron in enumerate(self.upper_layer_nueron):\n",
    "        upper_layer.add(tf.keras.layers.Dense(num_nueron))\n",
    "        upper_layer.add(self.select_activation(self.activation))\n",
    "        upper_layer.add(keras.layers.BatchNormalization())\n",
    "\n",
    "      upper_layer.add(tf.keras.layers.Dropout(self.dropout_rate))\n",
    "      upper_layer.add(tf.keras.layers.Dense(26, activation = None))\n",
    "      \n",
    "      return upper_layer\n",
    "\n",
    "    def lower_letter_layer(self):\n",
    "      lower_layer = keras.models.Sequential(name = \"lower_layer\")\n",
    "\n",
    "      for i, num_nueron in enumerate(self.lower_layer_nueron):\n",
    "        lower_layer.add(tf.keras.layers.Dense(num_nueron))\n",
    "        lower_layer.add(self.select_activation(self.activation))\n",
    "        lower_layer.add(keras.layers.BatchNormalization())\n",
    "\n",
    "      lower_layer.add(tf.keras.layers.Dropout(self.dropout_rate))\n",
    "      lower_layer.add(tf.keras.layers.Dense(26, activation = None))\n",
    "\n",
    "      return lower_layer\n",
    "\n",
    "    def select_activation(self, function):\n",
    "      if function == 'relu':\n",
    "        activation = keras.layers.ReLU()\n",
    "      elif function == 'prelu':\n",
    "        activation = keras.layers.PReLU()\n",
    "      elif function == 'leacky_relu':\n",
    "        activation = keras.layers.LeakyReLU()\n",
    "      elif function == 'elu':\n",
    "        activation = keras.layers.ELU()\n",
    "      else:\n",
    "        activation = keras.layers.ReLU()\n",
    "      return activation"
   ]
  },
  {
   "cell_type": "code",
   "execution_count": 14,
   "metadata": {
    "id": "IqOgU44anjya"
   },
   "outputs": [],
   "source": [
    "def select_model(config_list):\n",
    "  model_class = Res_5x5_v4(64, config_list)\n",
    "\n",
    "  input = keras.layers.Input(shape=(28, 28, 1), name = \"input_layer\")\n",
    "\n",
    "  feature_out = model_class.Feature_Detection_Layer(input)\n",
    "\n",
    "  domain_result = model_class.Domain_Layer(feature_out)\n",
    "\n",
    "  num_out = model_class.Number_Layer(feature_out)\n",
    "  upper_out = model_class.Upper_Letter_Layer(feature_out)\n",
    "  lower_out = model_class.Lower_Letter_Layer(feature_out)\n",
    "\n",
    "\n",
    "  final_out = keras.layers.concatenate([num_out, upper_out, lower_out])\n",
    "  result = tf.keras.layers.Softmax(name = 'main_out')(final_out)\n",
    "\n",
    "  model = keras.models.Model(inputs=[input], outputs=[domain_result, result])\n",
    "  return model"
   ]
  },
  {
   "cell_type": "code",
   "execution_count": 15,
   "metadata": {
    "id": "6TBckZBmnkv4"
   },
   "outputs": [],
   "source": [
    "def get_layer_nueron_list(channel, num_feature_layer ,num_layer, num_out_nueron):\n",
    "  num_input = channel*num_feature_layer\n",
    "  nueron_list = []\n",
    "  interval = (num_input-num_out_nueron)//(num_layer+1)\n",
    "  criterion = num_input\n",
    "  for i in range(num_layer):\n",
    "    criterion -= interval\n",
    "    nueron_list.append(criterion)\n",
    "  return nueron_list"
   ]
  },
  {
   "cell_type": "code",
   "execution_count": 16,
   "metadata": {
    "colab": {
     "base_uri": "https://localhost:8080/",
     "height": 1000
    },
    "id": "5SHU7TPInmIN",
    "outputId": "f38abc2f-5a1f-4fa4-b124-ca4b783ed931"
   },
   "outputs": [
    {
     "name": "stdout",
     "output_type": "stream",
     "text": [
      "WARNING:tensorflow:AutoGraph could not transform <bound method ResnetBlock.call of <__main__.ResnetBlock object at 0x000001A450C661C0>> and will run it as-is.\n",
      "Cause: mangled names are not yet supported\n",
      "To silence this warning, decorate the function with @tf.autograph.experimental.do_not_convert\n",
      "WARNING: AutoGraph could not transform <bound method ResnetBlock.call of <__main__.ResnetBlock object at 0x000001A450C661C0>> and will run it as-is.\n",
      "Cause: mangled names are not yet supported\n",
      "To silence this warning, decorate the function with @tf.autograph.experimental.do_not_convert\n",
      "Model: \"model\"\n",
      "__________________________________________________________________________________________________\n",
      " Layer (type)                   Output Shape         Param #     Connected to                     \n",
      "==================================================================================================\n",
      " input_layer (InputLayer)       [(None, 28, 28, 1)]  0           []                               \n",
      "                                                                                                  \n",
      " sequential (Sequential)        (None, 128)          698628      ['input_layer[0][0]']            \n",
      "                                                                                                  \n",
      " number_layer (Sequential)      (None, 10)           7589        ['sequential[0][0]']             \n",
      "                                                                                                  \n",
      " upper_layer (Sequential)       (None, 26)           9725        ['sequential[0][0]']             \n",
      "                                                                                                  \n",
      " lower_layer (Sequential)       (None, 26)           14935       ['sequential[0][0]']             \n",
      "                                                                                                  \n",
      " concatenate (Concatenate)      (None, 62)           0           ['number_layer[0][0]',           \n",
      "                                                                  'upper_layer[0][0]',            \n",
      "                                                                  'lower_layer[0][0]']            \n",
      "                                                                                                  \n",
      " domain_out (Sequential)        (None, 3)            11130       ['sequential[0][0]']             \n",
      "                                                                                                  \n",
      " main_out (Softmax)             (None, 62)           0           ['concatenate[0][0]']            \n",
      "                                                                                                  \n",
      "==================================================================================================\n",
      "Total params: 742,007\n",
      "Trainable params: 739,093\n",
      "Non-trainable params: 2,914\n",
      "__________________________________________________________________________________________________\n",
      "You must install pydot (`pip install pydot`) and install graphviz (see instructions at https://graphviz.gitlab.io/download/) for plot_model/model_to_dot to work.\n"
     ]
    }
   ],
   "source": [
    "first_list = [32, 'leacky_relu', 3, [65, 34], 0.6, [53], [61], [73, 50], 'F']\n",
    "aux_model = select_model(first_list)\n",
    "aux_model.summary()\n",
    "keras.utils.plot_model(aux_model, \"aux_model.png\", show_shapes=True)"
   ]
  },
  {
   "cell_type": "code",
   "execution_count": 17,
   "metadata": {
    "id": "xZ4YlcvAn-fc"
   },
   "outputs": [],
   "source": [
    "def select_opt(opt_name, lr):\n",
    "  if opt_name == 'adam':\n",
    "    optimizer = keras.optimizers.Adam(learning_rate=lr, beta_1=0.9, beta_2=0.999)\n",
    "  elif opt_name == 'rmsprop':\n",
    "    optimizer = keras.optimizers.RMSprop(learning_rate=lr, rho=0.9)\n",
    "  elif opt_name == 'sgd':\n",
    "    optimizer = keras.optimizers.SGD(learning_rate = lr)\n",
    "  elif opt_name == 'momentum':\n",
    "    optimizer = keras.optimizers.SGD(learning_rate = lr, momentum=0.9)\n",
    "  elif opt_name == 'nesterov':\n",
    "    optimizer = keras.optimizers.SGD(learning_rate=lr, momentum=0.9, nesterov=True)\n",
    "  elif opt_name == 'adagrad':\n",
    "    optimizer = keras.optimizers.Adagrad(learning_rate=lr)\n",
    "  elif opt_name == 'adamax':\n",
    "    optimizer = keras.optimizers.Adamax(learning_rate=lr, beta_1=0.9, beta_2=0.999)\n",
    "  elif opt_name == 'nadam':\n",
    "    optimizer = keras.optimizers.Nadam(learning_rate=lr, beta_1=0.9, beta_2=0.999)\n",
    "\n",
    "  return optimizer"
   ]
  },
  {
   "cell_type": "code",
   "execution_count": 20,
   "metadata": {
    "id": "32QfOHEinpww",
    "scrolled": true
   },
   "outputs": [
    {
     "name": "stdout",
     "output_type": "stream",
     "text": [
      "Epoch 1/50\n",
      "8725/8725 [==============================] - 605s 69ms/step - loss: 0.5992 - domain_out_loss: 0.4098 - main_out_loss: 0.6803 - domain_out_accuracy: 0.8357 - main_out_accuracy: 0.8004 - val_loss: 0.4394 - val_domain_out_loss: 0.3492 - val_main_out_loss: 0.4780 - val_domain_out_accuracy: 0.8580 - val_main_out_accuracy: 0.8474\n",
      "Epoch 2/50\n",
      "8725/8725 [==============================] - 594s 68ms/step - loss: 0.4667 - domain_out_loss: 0.3405 - main_out_loss: 0.5208 - domain_out_accuracy: 0.8638 - main_out_accuracy: 0.8376 - val_loss: 0.3862 - val_domain_out_loss: 0.3213 - val_main_out_loss: 0.4140 - val_domain_out_accuracy: 0.8717 - val_main_out_accuracy: 0.8627\n",
      "Epoch 3/50\n",
      "8725/8725 [==============================] - 594s 68ms/step - loss: 0.4352 - domain_out_loss: 0.3235 - main_out_loss: 0.4830 - domain_out_accuracy: 0.8712 - main_out_accuracy: 0.8468 - val_loss: 0.3761 - val_domain_out_loss: 0.3119 - val_main_out_loss: 0.4037 - val_domain_out_accuracy: 0.8732 - val_main_out_accuracy: 0.8673\n",
      "Epoch 4/50\n",
      "8725/8725 [==============================] - 598s 68ms/step - loss: 0.4164 - domain_out_loss: 0.3130 - main_out_loss: 0.4608 - domain_out_accuracy: 0.8747 - main_out_accuracy: 0.8523 - val_loss: 0.3529 - val_domain_out_loss: 0.2962 - val_main_out_loss: 0.3772 - val_domain_out_accuracy: 0.8793 - val_main_out_accuracy: 0.8709\n",
      "Epoch 5/50\n",
      "8725/8725 [==============================] - 590s 68ms/step - loss: 0.4021 - domain_out_loss: 0.3051 - main_out_loss: 0.4437 - domain_out_accuracy: 0.8780 - main_out_accuracy: 0.8559 - val_loss: 0.3694 - val_domain_out_loss: 0.3049 - val_main_out_loss: 0.3971 - val_domain_out_accuracy: 0.8766 - val_main_out_accuracy: 0.8678\n",
      "Epoch 6/50\n",
      "8725/8725 [==============================] - 592s 68ms/step - loss: 0.3920 - domain_out_loss: 0.2992 - main_out_loss: 0.4318 - domain_out_accuracy: 0.8800 - main_out_accuracy: 0.8588 - val_loss: 0.3530 - val_domain_out_loss: 0.2908 - val_main_out_loss: 0.3796 - val_domain_out_accuracy: 0.8820 - val_main_out_accuracy: 0.8702\n",
      "Epoch 7/50\n",
      "8725/8725 [==============================] - 590s 68ms/step - loss: 0.3829 - domain_out_loss: 0.2942 - main_out_loss: 0.4209 - domain_out_accuracy: 0.8820 - main_out_accuracy: 0.8616 - val_loss: 0.3396 - val_domain_out_loss: 0.2894 - val_main_out_loss: 0.3610 - val_domain_out_accuracy: 0.8828 - val_main_out_accuracy: 0.8762\n",
      "Epoch 8/50\n",
      "8725/8725 [==============================] - 596s 68ms/step - loss: 0.3753 - domain_out_loss: 0.2889 - main_out_loss: 0.4124 - domain_out_accuracy: 0.8841 - main_out_accuracy: 0.8638 - val_loss: 0.3484 - val_domain_out_loss: 0.2923 - val_main_out_loss: 0.3725 - val_domain_out_accuracy: 0.8834 - val_main_out_accuracy: 0.8733\n",
      "Epoch 9/50\n",
      "8725/8725 [==============================] - 589s 68ms/step - loss: 0.3687 - domain_out_loss: 0.2852 - main_out_loss: 0.4045 - domain_out_accuracy: 0.8852 - main_out_accuracy: 0.8655 - val_loss: 0.3492 - val_domain_out_loss: 0.2922 - val_main_out_loss: 0.3736 - val_domain_out_accuracy: 0.8819 - val_main_out_accuracy: 0.8695\n",
      "Epoch 10/50\n",
      "8725/8725 [==============================] - 628s 72ms/step - loss: 0.3615 - domain_out_loss: 0.2811 - main_out_loss: 0.3960 - domain_out_accuracy: 0.8867 - main_out_accuracy: 0.8678 - val_loss: 0.3831 - val_domain_out_loss: 0.2989 - val_main_out_loss: 0.4191 - val_domain_out_accuracy: 0.8798 - val_main_out_accuracy: 0.8680\n",
      "Epoch 11/50\n",
      "8725/8725 [==============================] - 589s 68ms/step - loss: 0.3551 - domain_out_loss: 0.2771 - main_out_loss: 0.3886 - domain_out_accuracy: 0.8883 - main_out_accuracy: 0.8699 - val_loss: 0.3570 - val_domain_out_loss: 0.2909 - val_main_out_loss: 0.3854 - val_domain_out_accuracy: 0.8840 - val_main_out_accuracy: 0.8750\n",
      "Epoch 12/50\n",
      "8725/8725 [==============================] - 598s 69ms/step - loss: 0.3485 - domain_out_loss: 0.2728 - main_out_loss: 0.3809 - domain_out_accuracy: 0.8903 - main_out_accuracy: 0.8718 - val_loss: 0.3531 - val_domain_out_loss: 0.2916 - val_main_out_loss: 0.3794 - val_domain_out_accuracy: 0.8841 - val_main_out_accuracy: 0.8725\n"
     ]
    }
   ],
   "source": [
    "early_stopping_cb = keras.callbacks.EarlyStopping(patience=5, restore_best_weights=True)\n",
    "optimizer = select_opt('nadam', 0.01)\n",
    "\n",
    "aux_model.compile(loss=[\"categorical_crossentropy\", \"categorical_crossentropy\"], loss_weights=[0.3, 0.7],\n",
    "                  optimizer=optimizer,\n",
    "                  metrics=[\"accuracy\",]\n",
    "                  )\n",
    "aux_history = aux_model.fit(X_train, [domain_train_label, y_train], epochs=50, batch_size = 64,\n",
    "                     validation_data=(X_val, [domain_val_label, y_val]), callbacks=[early_stopping_cb])"
   ]
  },
  {
   "cell_type": "code",
   "execution_count": 23,
   "metadata": {},
   "outputs": [
    {
     "data": {
      "image/png": "[encoded data removed]",
      "text/plain": [
       "<Figure size 576x360 with 1 Axes>"
      ]
     },
     "metadata": {
      "needs_background": "light"
     },
     "output_type": "display_data"
    }
   ],
   "source": [
    "plt_learning_curve(aux_history, 'Res aux')"
   ]
  },
  {
   "cell_type": "code",
   "execution_count": null,
   "metadata": {},
   "outputs": [],
   "source": []
  }
 ],
 "metadata": {
  "colab": {
   "collapsed_sections": [],
   "machine_shape": "hm",
   "name": "For_Learning_curve.ipynb",
   "provenance": []
  },
  "kernelspec": {
   "display_name": "Python 3",
   "language": "python",
   "name": "python3"
  },
  "language_info": {
   "codemirror_mode": {
    "name": "ipython",
    "version": 3
   },
   "file_extension": ".py",
   "mimetype": "text/x-python",
   "name": "python",
   "nbconvert_exporter": "python",
   "pygments_lexer": "ipython3",
   "version": "3.8.8"
  }
 },
 "nbformat": 4,
 "nbformat_minor": 1
}
