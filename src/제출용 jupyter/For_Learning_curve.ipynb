{
  "nbformat": 4,
  "nbformat_minor": 0,
  "metadata": {
    "colab": {
      "name": "For_Learning_curve.ipynb",
      "provenance": []
    },
    "kernelspec": {
      "name": "python3",
      "display_name": "Python 3"
    },
    "language_info": {
      "name": "python"
    }
  },
  "cells": [
    {
      "cell_type": "code",
      "source": [
        "import os\n",
        "import tensorflow as tf\n",
        "from tensorflow import keras as keras\n",
        "from sklearn.model_selection import train_test_split\n",
        "from sklearn.preprocessing import OneHotEncoder\n",
        "from keras.callbacks import EarlyStopping\n",
        "from keras.preprocessing.image import ImageDataGenerator\n",
        "from tensorflow.keras import datasets, layers, models, losses, Model\n",
        "from tensorflow.keras.layers import Dense, Conv2D, MaxPool2D, Flatten, Dropout, Input, BatchNormalization, Dropout\n",
        "import numpy as np\n",
        "import pandas as pd\n",
        "import cv2\n",
        "from matplotlib import pyplot as plt\n",
        "from google.colab.patches import cv2_imshow\n",
        "#os.environ['CUDA_VISIBLE_DEVICES'] = '-1'\n",
        "\n",
        "if tf.test.gpu_device_name():\n",
        "    print('GPU found')\n",
        "else:\n",
        "    print(\"No GPU found\")"
      ],
      "metadata": {
        "colab": {
          "base_uri": "https://localhost:8080/"
        },
        "id": "Dv7XZmvJ5C_8",
        "outputId": "48af7b52-1e58-40b6-d814-a8749d9d246a"
      },
      "execution_count": 1,
      "outputs": [
        {
          "output_type": "stream",
          "name": "stdout",
          "text": [
            "No GPU found\n"
          ]
        }
      ]
    },
    {
      "cell_type": "code",
      "source": [
        "from google.colab import drive\n",
        "drive.mount('cnontent/')"
      ],
      "metadata": {
        "id": "t3DJWHeA5G8a"
      },
      "execution_count": null,
      "outputs": []
    },
    {
      "cell_type": "code",
      "source": [
        "cd /content/cnontent/MyDrive/SSU/nural_nework/project"
      ],
      "metadata": {
        "id": "uX8hcXiF5ICw"
      },
      "execution_count": null,
      "outputs": []
    },
    {
      "cell_type": "code",
      "source": [
        "def convert_data_csv_to_numpy(data, sorting = False): # pandas 통해 읽은 csv data numpy 형태로 변경\n",
        "  if sorting == True:\n",
        "    data = data.sort_values(by=[0], axis=0)\n",
        "\n",
        "  label = np.array(data[0]) # csv file 에서 0번째 colum은 index임\n",
        "  only_data = np.array(data.drop([0], axis = 1)).reshape((-1, 28, 28, 1)) # csv file에서 0번 째 colum 탈락 -> data만 남게 됨\n",
        "  # only_data = tf.convert_to_tensor(only_data, dtype=tf.float32)\n",
        "  return only_data, label"
      ],
      "metadata": {
        "id": "60nIs2--5FdA"
      },
      "execution_count": null,
      "outputs": []
    },
    {
      "cell_type": "code",
      "source": [
        "train_df = pd.read_csv(\"./emnist-byclass-train.csv\", header=None)\n",
        "test_df = pd.read_csv(\"./emnist-byclass-test.csv\", header=None)"
      ],
      "metadata": {
        "id": "sJF704Dl5KMu"
      },
      "execution_count": null,
      "outputs": []
    },
    {
      "cell_type": "code",
      "source": [
        "X_train, y_train  = convert_data_csv_to_numpy(train_df)\n",
        "X_test, y_test  = convert_data_csv_to_numpy(test_df)\n",
        "\n",
        "train_df = None\n",
        "test_df = None"
      ],
      "metadata": {
        "id": "YmOIg62H5Nsp"
      },
      "execution_count": null,
      "outputs": []
    },
    {
      "cell_type": "code",
      "source": [
        "# add channel\n",
        "# channel = 3\n",
        "# X_train_3 = np.repeat(X_train, channel, axis=-1)\n",
        "# X_test_3 = np.repeat(X_test, channel, axis=-1)\n",
        "# y_test_3 = y_test\n",
        "\n",
        "X_train, X_val, y_train, y_val = train_test_split(X_train/255., y_train, test_size=0.2, random_state=42)\n",
        "# X_train_3, X_val_3, y_train_3, y_val_3 = train_test_split(X_train_3, y_train, test_size=0.2, random_state=42)"
      ],
      "metadata": {
        "id": "fK_VcP905O6c"
      },
      "execution_count": null,
      "outputs": []
    },
    {
      "cell_type": "code",
      "source": [
        "raw_y_train = y_train.copy()\n",
        "raw_y_val = y_val.copy()\n",
        "raw_y_test = y_test.copy()\n",
        "\n",
        "y_train = tf.keras.utils.to_categorical(y_train)\n",
        "y_val = tf.keras.utils.to_categorical(y_val)\n",
        "y_test = tf.keras.utils.to_categorical(y_test)"
      ],
      "metadata": {
        "id": "mIUYOoxZ5Qy2"
      },
      "execution_count": null,
      "outputs": []
    },
    {
      "cell_type": "markdown",
      "source": [
        "# VGG"
      ],
      "metadata": {
        "id": "qvFJQTgv5Uaj"
      }
    },
    {
      "cell_type": "code",
      "execution_count": 2,
      "metadata": {
        "colab": {
          "base_uri": "https://localhost:8080/"
        },
        "id": "6IZxof0T5Aqu",
        "outputId": "0bbd7592-fee5-4c02-8a0a-95a382c29abd"
      },
      "outputs": [
        {
          "output_type": "stream",
          "name": "stdout",
          "text": [
            "Model: \"model\"\n",
            "_________________________________________________________________\n",
            " Layer (type)                Output Shape              Param #   \n",
            "=================================================================\n",
            " input_1 (InputLayer)        [(None, 28, 28, 1)]       0         \n",
            "                                                                 \n",
            " conv2d (Conv2D)             (None, 28, 28, 32)        320       \n",
            "                                                                 \n",
            " conv2d_1 (Conv2D)           (None, 28, 28, 32)        9248      \n",
            "                                                                 \n",
            " batch_normalization (BatchN  (None, 28, 28, 32)       128       \n",
            " ormalization)                                                   \n",
            "                                                                 \n",
            " max_pooling2d (MaxPooling2D  (None, 14, 14, 32)       0         \n",
            " )                                                               \n",
            "                                                                 \n",
            " conv2d_2 (Conv2D)           (None, 14, 14, 64)        18496     \n",
            "                                                                 \n",
            " conv2d_3 (Conv2D)           (None, 14, 14, 64)        36928     \n",
            "                                                                 \n",
            " batch_normalization_1 (Batc  (None, 14, 14, 64)       256       \n",
            " hNormalization)                                                 \n",
            "                                                                 \n",
            " dropout (Dropout)           (None, 14, 14, 64)        0         \n",
            "                                                                 \n",
            " max_pooling2d_1 (MaxPooling  (None, 7, 7, 64)         0         \n",
            " 2D)                                                             \n",
            "                                                                 \n",
            " conv2d_4 (Conv2D)           (None, 7, 7, 128)         73856     \n",
            "                                                                 \n",
            " conv2d_5 (Conv2D)           (None, 7, 7, 128)         147584    \n",
            "                                                                 \n",
            " conv2d_6 (Conv2D)           (None, 7, 7, 128)         147584    \n",
            "                                                                 \n",
            " batch_normalization_2 (Batc  (None, 7, 7, 128)        512       \n",
            " hNormalization)                                                 \n",
            "                                                                 \n",
            " dropout_1 (Dropout)         (None, 7, 7, 128)         0         \n",
            "                                                                 \n",
            " max_pooling2d_2 (MaxPooling  (None, 4, 4, 128)        0         \n",
            " 2D)                                                             \n",
            "                                                                 \n",
            " conv2d_7 (Conv2D)           (None, 4, 4, 256)         295168    \n",
            "                                                                 \n",
            " conv2d_8 (Conv2D)           (None, 4, 4, 256)         590080    \n",
            "                                                                 \n",
            " conv2d_9 (Conv2D)           (None, 4, 4, 256)         590080    \n",
            "                                                                 \n",
            " batch_normalization_3 (Batc  (None, 4, 4, 256)        1024      \n",
            " hNormalization)                                                 \n",
            "                                                                 \n",
            " dropout_2 (Dropout)         (None, 4, 4, 256)         0         \n",
            "                                                                 \n",
            " max_pooling2d_3 (MaxPooling  (None, 2, 2, 256)        0         \n",
            " 2D)                                                             \n",
            "                                                                 \n",
            " conv2d_10 (Conv2D)          (None, 2, 2, 256)         590080    \n",
            "                                                                 \n",
            " conv2d_11 (Conv2D)          (None, 2, 2, 256)         590080    \n",
            "                                                                 \n",
            " conv2d_12 (Conv2D)          (None, 2, 2, 256)         590080    \n",
            "                                                                 \n",
            " batch_normalization_4 (Batc  (None, 2, 2, 256)        1024      \n",
            " hNormalization)                                                 \n",
            "                                                                 \n",
            " dropout_3 (Dropout)         (None, 2, 2, 256)         0         \n",
            "                                                                 \n",
            " max_pooling2d_4 (MaxPooling  (None, 1, 1, 256)        0         \n",
            " 2D)                                                             \n",
            "                                                                 \n",
            " flatten (Flatten)           (None, 256)               0         \n",
            "                                                                 \n",
            " batch_normalization_5 (Batc  (None, 256)              1024      \n",
            " hNormalization)                                                 \n",
            "                                                                 \n",
            " dense (Dense)               (None, 4096)              1052672   \n",
            "                                                                 \n",
            " dense_1 (Dense)             (None, 4096)              16781312  \n",
            "                                                                 \n",
            " dense_2 (Dense)             (None, 62)                254014    \n",
            "                                                                 \n",
            "=================================================================\n",
            "Total params: 21,771,550\n",
            "Trainable params: 21,769,566\n",
            "Non-trainable params: 1,984\n",
            "_________________________________________________________________\n"
          ]
        }
      ],
      "source": [
        "inputs = Input(shape = (28,28,1))\n",
        "x = Conv2D (filters =32, kernel_size =3, padding ='same', activation='relu')(inputs)\n",
        "x = Conv2D (filters =32, kernel_size =3, padding ='same', activation='relu')(x)\n",
        "x= BatchNormalization()(x)\n",
        "x = MaxPool2D(pool_size =2, strides =2, padding ='same')(x)\n",
        "# 2nd Conv Block\n",
        "x = Conv2D (filters =64, kernel_size =3, padding ='same', activation='relu')(x)\n",
        "x = Conv2D (filters =64, kernel_size =3, padding ='same', activation='relu')(x)\n",
        "x= BatchNormalization()(x)\n",
        "x= Dropout(0.3)(x)\n",
        "x = MaxPool2D(pool_size =2, strides =2, padding ='same')(x)\n",
        "# 3rd Conv block  \n",
        "x = Conv2D (filters =128, kernel_size =3, padding ='same', activation='relu')(x)\n",
        "x = Conv2D (filters =128, kernel_size =3, padding ='same', activation='relu')(x) \n",
        "x = Conv2D (filters =128, kernel_size =3, padding ='same', activation='relu')(x) \n",
        "x= BatchNormalization()(x)\n",
        "x= Dropout(0.3)(x)\n",
        "x = MaxPool2D(pool_size =2, strides =2, padding ='same')(x)\n",
        "# 4th Conv block\n",
        "x = Conv2D (filters =256, kernel_size =3, padding ='same', activation='relu')(x)\n",
        "x = Conv2D (filters =256, kernel_size =3, padding ='same', activation='relu')(x)\n",
        "x = Conv2D (filters =256, kernel_size =3, padding ='same', activation='relu')(x)\n",
        "x= BatchNormalization()(x)\n",
        "x= Dropout(0.3)(x)\n",
        "x = MaxPool2D(pool_size =2, strides =2, padding ='same')(x)\n",
        "# 5th Conv block\n",
        "x = Conv2D (filters =256, kernel_size =3, padding ='same', activation='relu')(x)\n",
        "x = Conv2D (filters =256, kernel_size =3, padding ='same', activation='relu')(x)\n",
        "x = Conv2D (filters =256, kernel_size =3, padding ='same', activation='relu')(x)\n",
        "x= BatchNormalization()(x)\n",
        "x= Dropout(0.3)(x)\n",
        "x = MaxPool2D(pool_size =2, strides =2, padding ='same')(x)\n",
        "# Fully connected layers  \n",
        "x = Flatten()(x)\n",
        "x= BatchNormalization()(x)\n",
        "x = Dense(units = 4096, activation ='relu')(x)\n",
        "x = Dense(units = 4096, activation ='relu')(x)\n",
        "output = Dense(units = 62, activation ='softmax')(x)\n",
        "# creating the model\n",
        "\n",
        "VGG_model_2 = Model (inputs=inputs, outputs =output)\n",
        "VGG_model_2.summary()"
      ]
    },
    {
      "cell_type": "code",
      "source": [
        "VGG_model_2.compile(optimizer=tf.keras.optimizers.Adam(learning_rate = 0.005), loss=keras.losses.categorical_crossentropy, metrics=['accuracy'])\n",
        "\n",
        "early_stopping_cb = keras.callbacks.EarlyStopping(patience=10, restore_best_weights=True)\n",
        "# model_checkpoint_cb = keras.callbacks.ModelCheckpoint(\"my_new_emnist_model.h5\", save_best_only=True)\n",
        "VGG_model_2.fit(X_train, y_train, batch_size = 512, epochs=100, validation_data=(X_val, y_val), callbacks=[early_stopping_cb])"
      ],
      "metadata": {
        "id": "eGM9E-9F5V8S"
      },
      "execution_count": null,
      "outputs": []
    }
  ]
}