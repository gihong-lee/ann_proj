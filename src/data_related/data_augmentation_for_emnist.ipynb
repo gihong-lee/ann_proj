{
  "nbformat": 4,
  "nbformat_minor": 0,
  "metadata": {
    "colab": {
      "name": "data_augmentation_for_emnist.ipynb",
      "provenance": [],
      "collapsed_sections": [],
      "machine_shape": "hm"
    },
    "kernelspec": {
      "name": "python3",
      "display_name": "Python 3"
    },
    "language_info": {
      "name": "python"
    }
  },
  "cells": [
    {
      "cell_type": "code",
      "execution_count": 1,
      "metadata": {
        "colab": {
          "base_uri": "https://localhost:8080/"
        },
        "id": "aSohhmnkpAy9",
        "outputId": "9c730e9f-2835-4bb7-9e5c-48f4775cfa4b"
      },
      "outputs": [
        {
          "output_type": "stream",
          "name": "stdout",
          "text": [
            "Drive already mounted at cnontent/; to attempt to forcibly remount, call drive.mount(\"cnontent/\", force_remount=True).\n"
          ]
        }
      ],
      "source": [
        "from google.colab import drive\n",
        "drive.mount('cnontent/')"
      ]
    },
    {
      "cell_type": "code",
      "source": [
        "import tqdm\n",
        "import tensorflow as tf\n",
        "from tensorflow import keras\n",
        "import pandas as pd\n",
        "import numpy as np\n",
        "import matplotlib.pyplot as plt\n",
        "import os\n",
        "import random\n",
        "import cv2\n",
        "from google.colab.patches import cv2_imshow\n",
        "%matplotlib inline"
      ],
      "metadata": {
        "id": "s83p2wGhpFEm"
      },
      "execution_count": 2,
      "outputs": []
    },
    {
      "cell_type": "code",
      "source": [
        "cd /content/cnontent/MyDrive/SSU/nural_nework/project"
      ],
      "metadata": {
        "colab": {
          "base_uri": "https://localhost:8080/"
        },
        "id": "JsRkcqHIpLBd",
        "outputId": "a96ddb79-bae0-43d6-fdd6-64716bc741be"
      },
      "execution_count": 3,
      "outputs": [
        {
          "output_type": "stream",
          "name": "stdout",
          "text": [
            "/content/cnontent/MyDrive/SSU/nural_nework/project\n"
          ]
        }
      ]
    },
    {
      "cell_type": "code",
      "source": [
        "def convert_data_csv_to_numpy(data, sorting = False): # pandas 통해 읽은 csv data numpy 형태로 변경\n",
        "  if sorting == True:\n",
        "    data = data.sort_values(by=[0], axis=0)\n",
        "\n",
        "  label = np.array(data[0]) # csv file 에서 0번째 colum은 index임\n",
        "  only_data = np.array(data.drop([0], axis = 1)).reshape((-1, 28, 28, 1)) # csv file에서 0번 째 colum 탈락 -> data만 남게 됨\n",
        "  # only_data = tf.convert_to_tensor(only_data, dtype=tf.float32)\n",
        "  return only_data, label"
      ],
      "metadata": {
        "id": "S0y3NZx9pMlP"
      },
      "execution_count": 4,
      "outputs": []
    },
    {
      "cell_type": "code",
      "source": [
        "def show_data_scheme(data, label, row = 4, col = 5, i = 1): # data 어떻게 생겼는지 plot\n",
        "  plt.figure(figsize = (11, 8))\n",
        "  for r in range(row):\n",
        "    for c in range(col):\n",
        "      s_data = np.array(data[i,...,0])\n",
        "      plt.subplot(row, col, i)\n",
        "      plt.imshow(s_data, 'gray')\n",
        "      plt.axis('off')\n",
        "      # plt.title(f'{label_value_list[label[i]]}')\n",
        "      i+=1\n",
        "  plt.show()"
      ],
      "metadata": {
        "id": "KQc423oJqBat"
      },
      "execution_count": 5,
      "outputs": []
    },
    {
      "cell_type": "code",
      "source": [
        "def balanced_data(data, label, border, n_train=1000, val_rate = 0.2):\n",
        "  i, start=0,0\n",
        "  d_train = l_train = d_val = l_val= None\n",
        "  n_data_per_class = n_train\n",
        "  n_val_per_class = int(n_data_per_class*val_rate)\n",
        "\n",
        "\n",
        "  for idx, class_end in enumerate(border):\n",
        "    if i ==0:\n",
        "      val_end = n_data_per_class+n_val_per_class\n",
        "\n",
        "      d_train = data[:n_data_per_class].copy()\n",
        "      l_train = label[:n_data_per_class].copy()\n",
        "\n",
        "      d_val = data[n_data_per_class:val_end].copy()\n",
        "      l_val = label[n_data_per_class:val_end].copy()\n",
        "\n",
        "      i+=1\n",
        "    else:\n",
        "      train_end = start+n_data_per_class\n",
        "      val_end = train_end+n_val_per_class\n",
        "\n",
        "      now_d_data = data[start:train_end].copy()\n",
        "      now_l_train = label[start:train_end].copy()\n",
        "      d_train = np.concatenate((d_train, now_d_data))\n",
        "      l_train = np.concatenate((l_train, now_l_train))\n",
        "\n",
        "      now_d_val = data[train_end:val_end].copy()\n",
        "      now_l_val = label[train_end:val_end].copy()\n",
        "      d_val = np.concatenate((d_val, now_d_val))\n",
        "      l_val = np.concatenate((l_val, now_l_val))\n",
        "    start += class_end\n",
        "  return (d_train, l_train, d_val, l_val)"
      ],
      "metadata": {
        "id": "sGyA0C6ppNmF"
      },
      "execution_count": 6,
      "outputs": []
    },
    {
      "cell_type": "code",
      "source": [
        "train_csv, test_csv = [], []\n",
        "train_csv = pd.read_csv(\"./emnist-byclass-train.csv\", header=None)\n",
        "# test_csv = pd.read_csv(\"./emnist-byclass-test.csv\", header=None)"
      ],
      "metadata": {
        "id": "Rn0prGSQpnrX"
      },
      "execution_count": 7,
      "outputs": []
    },
    {
      "cell_type": "code",
      "source": [
        "data, label = convert_data_csv_to_numpy(train_csv, sorting = False)\n",
        "train_csv = []"
      ],
      "metadata": {
        "id": "keFKusNaprVO"
      },
      "execution_count": 8,
      "outputs": []
    },
    {
      "cell_type": "code",
      "source": [
        "boundary = int(data.shape[0]*0.8)\n",
        "\n",
        "train_data = data[:boundary]\n",
        "train_label = label[:boundary]"
      ],
      "metadata": {
        "id": "V3XsiUpNfkfd"
      },
      "execution_count": 9,
      "outputs": []
    },
    {
      "cell_type": "code",
      "source": [
        "dataset = [[x, y] for x, y, in zip(train_data, train_label)]\n",
        "dataset.sort(key = lambda x : x[1])\n",
        "train_data = np.array([n[0] for n in dataset])\n",
        "train_label = np.array([n[1] for n in dataset])"
      ],
      "metadata": {
        "id": "cKpFfP7EyO7i"
      },
      "execution_count": 10,
      "outputs": []
    },
    {
      "cell_type": "code",
      "source": [
        "border = np.unique(train_label, return_counts = True)[1]\n",
        "print(min(border))\n",
        "print(max(border))"
      ],
      "metadata": {
        "colab": {
          "base_uri": "https://localhost:8080/"
        },
        "id": "WNLTQzL5p17l",
        "outputId": "a7da03de-56c4-4fa5-cb1e-d861757ea002"
      },
      "execution_count": 11,
      "outputs": [
        {
          "output_type": "stream",
          "name": "stdout",
          "text": [
            "1529\n",
            "30717\n"
          ]
        }
      ]
    },
    {
      "cell_type": "code",
      "source": [
        "border"
      ],
      "metadata": {
        "colab": {
          "base_uri": "https://localhost:8080/"
        },
        "id": "NMyzLXapjjvs",
        "outputId": "a87d093f-a25b-495e-a997-178d681da80c"
      },
      "execution_count": 12,
      "outputs": [
        {
          "output_type": "execute_result",
          "data": {
            "text/plain": [
              "array([27696, 30717, 27324, 28168, 26883, 25050, 27575, 28620, 27177,\n",
              "       27062,  5188,  3074,  8085,  3661,  4001,  7372,  2004,  2534,\n",
              "        9529,  3029,  1963,  4002,  7188,  6546, 20067,  6660,  2115,\n",
              "        4059, 16561,  7770, 10051,  3686,  3762,  2191,  3815,  2159,\n",
              "        8045,  4105,  2286,  8165, 19667,  2048,  2923,  7008,  2183,\n",
              "        1529,  2002, 12298,  2081,  9121,  2222,  1977,  2413, 11163,\n",
              "        2154, 14580,  2255,  2307,  2142,  2264,  1864,  2199])"
            ]
          },
          "metadata": {},
          "execution_count": 12
        }
      ]
    },
    {
      "cell_type": "code",
      "source": [
        "mean_border = int(np.mean(border))\n",
        "print(mean_border)"
      ],
      "metadata": {
        "colab": {
          "base_uri": "https://localhost:8080/"
        },
        "id": "6AtEp0bxieFM",
        "outputId": "bccc3d11-068b-4d9d-9a37-72d3bbf356a7"
      },
      "execution_count": 13,
      "outputs": [
        {
          "output_type": "stream",
          "name": "stdout",
          "text": [
            "9005\n"
          ]
        }
      ]
    },
    {
      "cell_type": "code",
      "source": [
        "rate_meanNborder, new_boundary = [], []\n",
        "total_data = 0\n",
        "for i, b in enumerate(border):\n",
        "  now_rate = b/mean_border\n",
        "  if now_rate>=1:\n",
        "    final_rate = round(1/now_rate, 1)\n",
        "    now_boundary = int((final_rate*border[i]))\n",
        "\n",
        "  elif now_rate <1:\n",
        "    final_rate = round(1/now_rate, 1)\n",
        "    now_boundary = int(final_rate*border[i])\n",
        "\n",
        "  rate_meanNborder.append(final_rate)\n",
        "  new_boundary.append(now_boundary)\n",
        "  print(\"new border\", now_boundary, \" 현재 border : \",b, \"mean border와의 비율\", round(now_rate,1), \"최종 rate :\", final_rate)\n",
        "  total_data += now_boundary"
      ],
      "metadata": {
        "colab": {
          "base_uri": "https://localhost:8080/"
        },
        "id": "NWiJ7ZMsisQY",
        "outputId": "2ebd6181-b8c5-4849-bcdb-73c18e80c1b8"
      },
      "execution_count": 14,
      "outputs": [
        {
          "output_type": "stream",
          "name": "stdout",
          "text": [
            "new border 8308  현재 border :  27696 mean border와의 비율 3.1 최종 rate : 0.3\n",
            "new border 9215  현재 border :  30717 mean border와의 비율 3.4 최종 rate : 0.3\n",
            "new border 8197  현재 border :  27324 mean border와의 비율 3.0 최종 rate : 0.3\n",
            "new border 8450  현재 border :  28168 mean border와의 비율 3.1 최종 rate : 0.3\n",
            "new border 8064  현재 border :  26883 mean border와의 비율 3.0 최종 rate : 0.3\n",
            "new border 10020  현재 border :  25050 mean border와의 비율 2.8 최종 rate : 0.4\n",
            "new border 8272  현재 border :  27575 mean border와의 비율 3.1 최종 rate : 0.3\n",
            "new border 8586  현재 border :  28620 mean border와의 비율 3.2 최종 rate : 0.3\n",
            "new border 8153  현재 border :  27177 mean border와의 비율 3.0 최종 rate : 0.3\n",
            "new border 8118  현재 border :  27062 mean border와의 비율 3.0 최종 rate : 0.3\n",
            "new border 8819  현재 border :  5188 mean border와의 비율 0.6 최종 rate : 1.7\n",
            "new border 8914  현재 border :  3074 mean border와의 비율 0.3 최종 rate : 2.9\n",
            "new border 8893  현재 border :  8085 mean border와의 비율 0.9 최종 rate : 1.1\n",
            "new border 9152  현재 border :  3661 mean border와의 비율 0.4 최종 rate : 2.5\n",
            "new border 9202  현재 border :  4001 mean border와의 비율 0.4 최종 rate : 2.3\n",
            "new border 8846  현재 border :  7372 mean border와의 비율 0.8 최종 rate : 1.2\n",
            "new border 9018  현재 border :  2004 mean border와의 비율 0.2 최종 rate : 4.5\n",
            "new border 9122  현재 border :  2534 mean border와의 비율 0.3 최종 rate : 3.6\n",
            "new border 8576  현재 border :  9529 mean border와의 비율 1.1 최종 rate : 0.9\n",
            "new border 9087  현재 border :  3029 mean border와의 비율 0.3 최종 rate : 3.0\n",
            "new border 9029  현재 border :  1963 mean border와의 비율 0.2 최종 rate : 4.6\n",
            "new border 9204  현재 border :  4002 mean border와의 비율 0.4 최종 rate : 2.3\n",
            "new border 9344  현재 border :  7188 mean border와의 비율 0.8 최종 rate : 1.3\n",
            "new border 9164  현재 border :  6546 mean border와의 비율 0.7 최종 rate : 1.4\n",
            "new border 8026  현재 border :  20067 mean border와의 비율 2.2 최종 rate : 0.4\n",
            "new border 9324  현재 border :  6660 mean border와의 비율 0.7 최종 rate : 1.4\n",
            "new border 9094  현재 border :  2115 mean border와의 비율 0.2 최종 rate : 4.3\n",
            "new border 8929  현재 border :  4059 mean border와의 비율 0.5 최종 rate : 2.2\n",
            "new border 8280  현재 border :  16561 mean border와의 비율 1.8 최종 rate : 0.5\n",
            "new border 9324  현재 border :  7770 mean border와의 비율 0.9 최종 rate : 1.2\n",
            "new border 9045  현재 border :  10051 mean border와의 비율 1.1 최종 rate : 0.9\n",
            "new border 8846  현재 border :  3686 mean border와의 비율 0.4 최종 rate : 2.4\n",
            "new border 9028  현재 border :  3762 mean border와의 비율 0.4 최종 rate : 2.4\n",
            "new border 8983  현재 border :  2191 mean border와의 비율 0.2 최종 rate : 4.1\n",
            "new border 9156  현재 border :  3815 mean border와의 비율 0.4 최종 rate : 2.4\n",
            "new border 9067  현재 border :  2159 mean border와의 비율 0.2 최종 rate : 4.2\n",
            "new border 8849  현재 border :  8045 mean border와의 비율 0.9 최종 rate : 1.1\n",
            "new border 9031  현재 border :  4105 mean border와의 비율 0.5 최종 rate : 2.2\n",
            "new border 8915  현재 border :  2286 mean border와의 비율 0.3 최종 rate : 3.9\n",
            "new border 8981  현재 border :  8165 mean border와의 비율 0.9 최종 rate : 1.1\n",
            "new border 9833  현재 border :  19667 mean border와의 비율 2.2 최종 rate : 0.5\n",
            "new border 9011  현재 border :  2048 mean border와의 비율 0.2 최종 rate : 4.4\n",
            "new border 9061  현재 border :  2923 mean border와의 비율 0.3 최종 rate : 3.1\n",
            "new border 9110  현재 border :  7008 mean border와의 비율 0.8 최종 rate : 1.3\n",
            "new border 8950  현재 border :  2183 mean border와의 비율 0.2 최종 rate : 4.1\n",
            "new border 9021  현재 border :  1529 mean border와의 비율 0.2 최종 rate : 5.9\n",
            "new border 9009  현재 border :  2002 mean border와의 비율 0.2 최종 rate : 4.5\n",
            "new border 8608  현재 border :  12298 mean border와의 비율 1.4 최종 rate : 0.7\n",
            "new border 8948  현재 border :  2081 mean border와의 비율 0.2 최종 rate : 4.3\n",
            "new border 9121  현재 border :  9121 mean border와의 비율 1.0 최종 rate : 1.0\n",
            "new border 9110  현재 border :  2222 mean border와의 비율 0.2 최종 rate : 4.1\n",
            "new border 9094  현재 border :  1977 mean border와의 비율 0.2 최종 rate : 4.6\n",
            "new border 8928  현재 border :  2413 mean border와의 비율 0.3 최종 rate : 3.7\n",
            "new border 8930  현재 border :  11163 mean border와의 비율 1.2 최종 rate : 0.8\n",
            "new border 9046  현재 border :  2154 mean border와의 비율 0.2 최종 rate : 4.2\n",
            "new border 8748  현재 border :  14580 mean border와의 비율 1.6 최종 rate : 0.6\n",
            "new border 9020  현재 border :  2255 mean border와의 비율 0.3 최종 rate : 4.0\n",
            "new border 8997  현재 border :  2307 mean border와의 비율 0.3 최종 rate : 3.9\n",
            "new border 8996  현재 border :  2142 mean border와의 비율 0.2 최종 rate : 4.2\n",
            "new border 9056  현재 border :  2264 mean border와의 비율 0.3 최종 rate : 4.0\n",
            "new border 8947  현재 border :  1864 mean border와의 비율 0.2 최종 rate : 4.8\n",
            "new border 9015  현재 border :  2199 mean border와의 비율 0.2 최종 rate : 4.1\n"
          ]
        }
      ]
    },
    {
      "cell_type": "code",
      "source": [
        "total_data"
      ],
      "metadata": {
        "colab": {
          "base_uri": "https://localhost:8080/"
        },
        "id": "D66iZSOesbaW",
        "outputId": "8e73b31d-3ae8-47f1-d165-e7a04d6cdc23"
      },
      "execution_count": 15,
      "outputs": [
        {
          "output_type": "execute_result",
          "data": {
            "text/plain": [
              "553190"
            ]
          },
          "metadata": {},
          "execution_count": 15
        }
      ]
    },
    {
      "cell_type": "code",
      "source": [
        "len(new_boundary)"
      ],
      "metadata": {
        "colab": {
          "base_uri": "https://localhost:8080/"
        },
        "id": "SXf5P_nB_qlK",
        "outputId": "714008c2-6c7a-4385-eede-3cbf26d86dc7"
      },
      "execution_count": 16,
      "outputs": [
        {
          "output_type": "execute_result",
          "data": {
            "text/plain": [
              "62"
            ]
          },
          "metadata": {},
          "execution_count": 16
        }
      ]
    },
    {
      "cell_type": "code",
      "source": [
        "print(train_data.shape)\n",
        "print(total_data)"
      ],
      "metadata": {
        "colab": {
          "base_uri": "https://localhost:8080/"
        },
        "id": "LAjr8uxn4M1L",
        "outputId": "b92acb70-72fc-4e60-fac7-7c5fedb56167"
      },
      "execution_count": 17,
      "outputs": [
        {
          "output_type": "stream",
          "name": "stdout",
          "text": [
            "(558345, 28, 28, 1)\n",
            "553190\n"
          ]
        }
      ]
    },
    {
      "cell_type": "code",
      "source": [
        "print(new_boundary)"
      ],
      "metadata": {
        "colab": {
          "base_uri": "https://localhost:8080/"
        },
        "id": "PTnzZVFaPVyo",
        "outputId": "b65dc14c-058f-4bdc-f36c-32632128ef3c"
      },
      "execution_count": 18,
      "outputs": [
        {
          "output_type": "stream",
          "name": "stdout",
          "text": [
            "[8308, 9215, 8197, 8450, 8064, 10020, 8272, 8586, 8153, 8118, 8819, 8914, 8893, 9152, 9202, 8846, 9018, 9122, 8576, 9087, 9029, 9204, 9344, 9164, 8026, 9324, 9094, 8929, 8280, 9324, 9045, 8846, 9028, 8983, 9156, 9067, 8849, 9031, 8915, 8981, 9833, 9011, 9061, 9110, 8950, 9021, 9009, 8608, 8948, 9121, 9110, 9094, 8928, 8930, 9046, 8748, 9020, 8997, 8996, 9056, 8947, 9015]\n"
          ]
        }
      ]
    },
    {
      "cell_type": "code",
      "source": [
        "print(border)"
      ],
      "metadata": {
        "colab": {
          "base_uri": "https://localhost:8080/"
        },
        "id": "6tEjfYwbP1W6",
        "outputId": "ee022718-1862-48f8-d6aa-9ecee26ee0c0"
      },
      "execution_count": 19,
      "outputs": [
        {
          "output_type": "stream",
          "name": "stdout",
          "text": [
            "[27696 30717 27324 28168 26883 25050 27575 28620 27177 27062  5188  3074\n",
            "  8085  3661  4001  7372  2004  2534  9529  3029  1963  4002  7188  6546\n",
            " 20067  6660  2115  4059 16561  7770 10051  3686  3762  2191  3815  2159\n",
            "  8045  4105  2286  8165 19667  2048  2923  7008  2183  1529  2002 12298\n",
            "  2081  9121  2222  1977  2413 11163  2154 14580  2255  2307  2142  2264\n",
            "  1864  2199]\n"
          ]
        }
      ]
    },
    {
      "cell_type": "code",
      "source": [
        "new_data, new_label = np.zeros((total_data, 28, 28, 1)), []\n",
        "index, new_index, id = 0, 0, 0\n",
        "\n",
        "print('기존 data_shape :',train_data.shape[0])\n",
        "print('new data_shape :',total_data)\n",
        "for label, b in enumerate(new_boundary):\n",
        "  # print(new_index, b)\n",
        "  # print(train_label[index])\n",
        "  # print(index)\n",
        "  # print(index+border[label]-1, label, train_label[index+border[label]])\n",
        "  for i in range(new_index, new_index+b):\n",
        "    try:\n",
        "      new_data[i] = train_data[id]\n",
        "      new_label.append(label)\n",
        "      \n",
        "      if label != 61:\n",
        "        if ((id == (index+border[label]-1)) and (train_label[i+1]!=label)):\n",
        "          id = index\n",
        "\n",
        "      elif label == 61:\n",
        "        if ((id == (index+border[label]-1)) and (border[label]<b)):\n",
        "          id = index\n",
        "      id+=1\n",
        "\n",
        "      if i == total_data-1:\n",
        "        break\n",
        "\n",
        "    except:\n",
        "      print('label:', label, \"새로운 data index : \", i, \"현재 data index :\", id, \"기준 index 값 : \", index)\n",
        "      break\n",
        "\n",
        "  pre_index = index\n",
        "  index += border[label]\n",
        "  id = index\n",
        "  new_index += b"
      ],
      "metadata": {
        "colab": {
          "base_uri": "https://localhost:8080/"
        },
        "id": "LUVtobLOqrUV",
        "outputId": "5778e3b3-87b8-4f4f-ebb9-fe4fdc0023c8"
      },
      "execution_count": 20,
      "outputs": [
        {
          "output_type": "stream",
          "name": "stdout",
          "text": [
            "기존 data_shape : 558345\n",
            "new data_shape : 553190\n"
          ]
        }
      ]
    },
    {
      "cell_type": "code",
      "source": [
        "print(total_data)\n",
        "print(len(new_label))\n",
        "new_data = new_data.reshape(-1, 28, 28) \n",
        "print(new_data.shape)"
      ],
      "metadata": {
        "colab": {
          "base_uri": "https://localhost:8080/"
        },
        "id": "SEh3ZVRJ3_7D",
        "outputId": "63d53370-d5cc-4616-ec7f-3761e03e48a6"
      },
      "execution_count": 21,
      "outputs": [
        {
          "output_type": "stream",
          "name": "stdout",
          "text": [
            "553190\n",
            "553190\n",
            "(553190, 28, 28)\n"
          ]
        }
      ]
    },
    {
      "cell_type": "code",
      "source": [
        "# b = train_data.copy()\n",
        "# train_data, train_label, val_data, val_label = balanced_data(train_data.copy(), train_label, border)"
      ],
      "metadata": {
        "id": "275bTlS2p3Xj"
      },
      "execution_count": null,
      "outputs": []
    },
    {
      "cell_type": "code",
      "source": [
        "# train_data = train_data.reshape(-1, 28, 28)\n",
        "# val_data = val_data.reshape(-1, 28, 28)"
      ],
      "metadata": {
        "id": "meAtI5eosVK4"
      },
      "execution_count": null,
      "outputs": []
    },
    {
      "cell_type": "code",
      "source": [
        "# print(\"\\n각 label 별 train_data 개수\\n\", np.unique(train_label, return_counts = True)[1], sep='')\n",
        "# print(\"\\n각 label 별 val_data 개수\\n\", np.unique(val_label, return_counts = True)[1], sep='')"
      ],
      "metadata": {
        "colab": {
          "base_uri": "https://localhost:8080/"
        },
        "id": "Q3UK6lytp-LU",
        "outputId": "8c541e80-c7df-4b5a-b183-6c1ff0b01d93"
      },
      "execution_count": null,
      "outputs": [
        {
          "output_type": "stream",
          "name": "stdout",
          "text": [
            "\n",
            "각 label 별 train_data 개수\n",
            "[1000 1000 1000 1000 1000 1000 1000 1000 1000 1000 1000 1000 1000 1000\n",
            " 1000 1000 1000 1000 1000 1000 1000 1000 1000 1000 1000 1000 1000 1000\n",
            " 1000 1000 1000 1000 1000 1000 1000 1000 1000 1000 1000 1000 1000 1000\n",
            " 1000 1000 1000 1000 1000 1000 1000 1000 1000 1000 1000 1000 1000 1000\n",
            " 1000 1000 1000 1000 1000 1000]\n",
            "\n",
            "각 label 별 val_data 개수\n",
            "[200 200 200 200 200 200 200 200 200 200 200 200 200 200 200 200 200 200\n",
            " 200 200 200 200 200 200 200 200 200 200 200 200 200 200 200 200 200 200\n",
            " 200 200 200 200 200 200 200 200 200 200 200 200 200 200 200 200 200 200\n",
            " 200 200 200 200 200 200 200 200]\n"
          ]
        }
      ]
    },
    {
      "cell_type": "code",
      "source": [
        "class data_augment:\n",
        "  def __init__(self, image, label):\n",
        "    self.image = image.astype(np.uint8)\n",
        "    self.label = label\n",
        "    self.k_size = random.choice([3, 5, 7])\n",
        "\n",
        "  def recrop_image(self, img, new_bin):\n",
        "    try:\n",
        "      min_max_list = np.where(new_bin>240)\n",
        "      x_min, x_max = np.min(min_max_list[1]), np.max(min_max_list[1])\n",
        "      y_min, y_max = np.min(min_max_list[0]), np.max(min_max_list[0])\n",
        "\n",
        "      if abs(x_max - x_min) >abs(y_max - y_min):\n",
        "        add_sub_factor = (abs(x_max - x_min) - abs(y_max - y_min))//2\n",
        "        y_min = max(0, y_min-add_sub_factor-1)\n",
        "        y_max = min(27, y_max+add_sub_factor+1)\n",
        "\n",
        "      if abs(y_max - y_min) > abs(x_max - x_min):\n",
        "        add_sub_factor = (abs(y_max - y_min)-abs(x_max - x_min))//2\n",
        "        x_min = max(0, x_min-add_sub_factor-1)\n",
        "        x_max = min(27, x_max+add_sub_factor+1)\n",
        "\n",
        "      dst = np.pad(cv2.resize(new_bin.astype(np.uint8)[y_min:y_max, x_min:x_max], (20, 20)), ((4, 4), (4, 4)), 'constant', constant_values = 0)\n",
        "      second_norm = 255/np.max(dst)\n",
        "    except:\n",
        "      cv2_imshow(dst)\n",
        "    return dst\n",
        "\n",
        "  def pixel_britness_change(self, max_value):\n",
        "    dst = self.image.copy()\n",
        "    dst = (dst*(max_value/255)).astype(np.uint8)\n",
        "    return dst\n",
        "\n",
        "  def image_erode(self, img = None):\n",
        "    if img is None:\n",
        "      img = self.image\n",
        "    \n",
        "    dst = cv2.resize(img.copy(),(224, 224))\n",
        "    _, binary = cv2.threshold(dst, 0, 255, cv2.THRESH_OTSU)\n",
        "\n",
        "    erode_result = cv2.erode(binary, np.ones((self.k_size, self.k_size)))\n",
        "\n",
        "    dst[erode_result==0] = 0\n",
        "    dst = cv2.resize(dst,(28, 28))\n",
        "    dst = self.recrop_image(dst, cv2.resize(erode_result, (28, 28)))\n",
        "    return dst\n",
        "\n",
        "  def image_dilation(self, img = None):\n",
        "    if img is None:\n",
        "      img = self.image\n",
        "\n",
        "    dst = cv2.resize(img.copy(),(224, 224))\n",
        "    _, binary = cv2.threshold(dst, 0, 255, cv2.THRESH_OTSU)\n",
        "\n",
        "    dilation_result = cv2.dilate(binary, np.ones((self.k_size, self.k_size)))\n",
        "\n",
        "    dst[dilation_result!=dst] = dilation_result[dst!=dilation_result]\n",
        "    dst = cv2.resize(dst,(28, 28))\n",
        "    dst = self.recrop_image(dst, cv2.resize(dilation_result, (28, 28)))\n",
        "\n",
        "    return dst\n",
        "\n",
        "  def image_open(self):\n",
        "    erode = self.image_erode()\n",
        "    dst = self.image_dilation(img = erode)\n",
        "    return dst\n",
        "\n",
        "  def image_close(self):\n",
        "    dil = self.image_dilation()\n",
        "    dst = self.image_erode(img = dil)\n",
        "    return dst\n",
        "\n",
        "  def select_agu_strategy(self, i):\n",
        "    if i % 4 == 0:\n",
        "      dst = self.image_erode()\n",
        "    elif i % 4 == 1:\n",
        "      dst = self.image_dilation()\n",
        "    elif i % 4 == 2:\n",
        "      dst = self.image_open()\n",
        "    else:\n",
        "      dst = self.image_close()\n",
        "  \n",
        "    return dst"
      ],
      "metadata": {
        "id": "KsMomjxo2NCA"
      },
      "execution_count": 22,
      "outputs": []
    },
    {
      "cell_type": "code",
      "source": [
        "test = new_data[5555].copy()"
      ],
      "metadata": {
        "id": "ARZZFlNrqwZz"
      },
      "execution_count": 96,
      "outputs": []
    },
    {
      "cell_type": "code",
      "source": [
        "test.shape"
      ],
      "metadata": {
        "colab": {
          "base_uri": "https://localhost:8080/"
        },
        "id": "GH5h9lf1sJbu",
        "outputId": "518506db-a746-4c01-e0d0-6d669a42b5f2"
      },
      "execution_count": 97,
      "outputs": [
        {
          "output_type": "execute_result",
          "data": {
            "text/plain": [
              "(28, 28)"
            ]
          },
          "metadata": {},
          "execution_count": 97
        }
      ]
    },
    {
      "cell_type": "code",
      "source": [
        "Aug = data_augment(test, 0)\n",
        "pix = Aug.pixel_britness_change(211)\n",
        "erode = Aug.image_erode()\n",
        "dil = Aug.image_dilation()\n",
        "open = Aug.image_open()\n",
        "close = Aug.image_close()\n",
        "\n",
        "print(pix.shape)\n",
        "print(erode.shape)\n",
        "print(dil.shape)\n",
        "print(open.shape)\n",
        "print(close.shape)"
      ],
      "metadata": {
        "colab": {
          "base_uri": "https://localhost:8080/"
        },
        "id": "2XXYC48yS9b1",
        "outputId": "b378212a-49fa-41a9-b2ef-868cf0c3e7c6"
      },
      "execution_count": 98,
      "outputs": [
        {
          "output_type": "stream",
          "name": "stdout",
          "text": [
            "(28, 28)\n",
            "(28, 28)\n",
            "(28, 28)\n",
            "(28, 28)\n",
            "(28, 28)\n"
          ]
        }
      ]
    },
    {
      "cell_type": "code",
      "source": [
        "cv2_imshow(cv2.resize(test.astype(np.uint8).T, (224, 224)))"
      ],
      "metadata": {
        "colab": {
          "base_uri": "https://localhost:8080/",
          "height": 241
        },
        "id": "UUB5Fzuhr361",
        "outputId": "b9dd756c-3f7c-436e-b2c6-aa8c78735f18"
      },
      "execution_count": 99,
      "outputs": [
        {
          "output_type": "display_data",
          "data": {
            "text/plain": [
              "<PIL.Image.Image image mode=L size=224x224 at 0x7F94B2D1DC50>"
            ],
            "image/png": "[encoded data removed]"
          },
          "metadata": {}
        }
      ]
    },
    {
      "cell_type": "code",
      "source": [
        "for i in range(4):\n",
        "  Aug = data_augment(test, 0)\n",
        "  dst = Aug.select_agu_strategy(i)\n",
        "  cv2_imshow(cv2.resize(dst, (224, 224)).T)"
      ],
      "metadata": {
        "colab": {
          "base_uri": "https://localhost:8080/",
          "height": 913
        },
        "id": "yaXlNeUpO9Os",
        "outputId": "f0d49fdd-5178-405a-d8e4-b589258c8244"
      },
      "execution_count": 100,
      "outputs": [
        {
          "output_type": "display_data",
          "data": {
            "text/plain": [
              "<PIL.Image.Image image mode=L size=224x224 at 0x7F94B9649690>"
            ],
            "image/png": "[encoded data removed]"
          },
          "metadata": {}
        },
        {
          "output_type": "display_data",
          "data": {
            "text/plain": [
              "<PIL.Image.Image image mode=L size=224x224 at 0x7F94B8FEC610>"
            ],
            "image/png": "[encoded data removed]"
          },
          "metadata": {}
        },
        {
          "output_type": "display_data",
          "data": {
            "text/plain": [
              "<PIL.Image.Image image mode=L size=224x224 at 0x7F94B84F1E90>"
            ],
            "image/png": "[encoded data removed]"
          },
          "metadata": {}
        },
        {
          "output_type": "display_data",
          "data": {
            "text/plain": [
              "<PIL.Image.Image image mode=L size=224x224 at 0x7F94B9549110>"
            ],
            "image/png": "[encoded data removed]"
          },
          "metadata": {}
        }
      ]
    },
    {
      "cell_type": "code",
      "source": [
        "data, label = [], []\n",
        "train_data, train_label = [], []"
      ],
      "metadata": {
        "id": "BXnYjNA41upO"
      },
      "execution_count": 28,
      "outputs": []
    },
    {
      "cell_type": "code",
      "source": [
        "new_data.shape"
      ],
      "metadata": {
        "colab": {
          "base_uri": "https://localhost:8080/"
        },
        "id": "6t5MzD9AYIH7",
        "outputId": "b25a1150-4bbc-4cfc-d093-ae0207a1c86f"
      },
      "execution_count": 29,
      "outputs": [
        {
          "output_type": "execute_result",
          "data": {
            "text/plain": [
              "(553190, 28, 28)"
            ]
          },
          "metadata": {},
          "execution_count": 29
        }
      ]
    },
    {
      "cell_type": "code",
      "source": [
        "ttt = new_data.copy()"
      ],
      "metadata": {
        "id": "W_khpoz8bv4x"
      },
      "execution_count": 30,
      "outputs": []
    },
    {
      "cell_type": "code",
      "source": [
        "for i, img in enumerate(ttt):\n",
        "  try:\n",
        "    Aug = data_augment(img, label)\n",
        "    ttt[i] = Aug.select_agu_strategy(i)\n",
        "  except:\n",
        "    print(i)\n",
        "    break"
      ],
      "metadata": {
        "id": "q5SswOSrVVSF"
      },
      "execution_count": 31,
      "outputs": []
    },
    {
      "cell_type": "code",
      "source": [
        "idd= -22\n",
        "cv2_imshow(cv2.resize(ttt[idd].T,(224, 224)))\n",
        "print(new_label[idd])\n",
        "cv2_imshow(cv2.resize(new_data[idd].T,(224, 224)))\n",
        "print(new_label[idd])"
      ],
      "metadata": {
        "colab": {
          "base_uri": "https://localhost:8080/",
          "height": 501
        },
        "id": "QcTLU5H5Xl2f",
        "outputId": "303dad75-a693-419c-e3ef-7a28c32b8dd5"
      },
      "execution_count": 32,
      "outputs": [
        {
          "output_type": "display_data",
          "data": {
            "text/plain": [
              "<PIL.Image.Image image mode=L size=224x224 at 0x7F94B6CC7610>"
            ],
            "image/png": "[encoded data removed]"
          },
          "metadata": {}
        },
        {
          "output_type": "stream",
          "name": "stdout",
          "text": [
            "61\n"
          ]
        },
        {
          "output_type": "display_data",
          "data": {
            "text/plain": [
              "<PIL.Image.Image image mode=L size=224x224 at 0x7F94B5B98790>"
            ],
            "image/png": "[encoded data removed]"
          },
          "metadata": {}
        },
        {
          "output_type": "stream",
          "name": "stdout",
          "text": [
            "61\n"
          ]
        }
      ]
    },
    {
      "cell_type": "code",
      "source": [
        "dataset = []"
      ],
      "metadata": {
        "id": "EDlh7ruF-JJQ"
      },
      "execution_count": 33,
      "outputs": []
    },
    {
      "cell_type": "code",
      "source": [
        "dataset = [[x, y] for x, y, in zip(ttt, new_label)]\n",
        "random.shuffle(dataset)\n",
        "train = np.array([n[0] for n in dataset])\n",
        "label = np.array([n[1] for n in dataset])"
      ],
      "metadata": {
        "id": "xWL4087Ublue"
      },
      "execution_count": 34,
      "outputs": []
    },
    {
      "cell_type": "code",
      "source": [
        "i = 54\n",
        "cv2_imshow(cv2.resize(train[i].T, (224, 224)))\n",
        "print(label[i])"
      ],
      "metadata": {
        "colab": {
          "base_uri": "https://localhost:8080/",
          "height": 259
        },
        "id": "Nd7_eWTD_Ceg",
        "outputId": "7ca344bf-dc12-44fb-f213-069077724874"
      },
      "execution_count": 35,
      "outputs": [
        {
          "output_type": "display_data",
          "data": {
            "text/plain": [
              "<PIL.Image.Image image mode=L size=224x224 at 0x7F94B5B9E710>"
            ],
            "image/png": "[encoded data removed]"
          },
          "metadata": {}
        },
        {
          "output_type": "stream",
          "name": "stdout",
          "text": [
            "52\n"
          ]
        }
      ]
    },
    {
      "cell_type": "code",
      "source": [
        "print(train.shape)\n",
        "print(label.shape)"
      ],
      "metadata": {
        "colab": {
          "base_uri": "https://localhost:8080/"
        },
        "id": "5d7NgcpQ_N52",
        "outputId": "e6fc4111-2460-4a7f-fdcd-8c975cc6ac86"
      },
      "execution_count": 36,
      "outputs": [
        {
          "output_type": "stream",
          "name": "stdout",
          "text": [
            "(553190, 28, 28)\n",
            "(553190,)\n"
          ]
        }
      ]
    },
    {
      "cell_type": "code",
      "source": [
        "iddd = 534256\n",
        "src = train[124232].copy()\n",
        "now_content = []\n",
        "dst = src.copy().reshape(-1)\n",
        "now_label = label[iddd]\n",
        "now_content.append(f'{now_label}')\n",
        "for j in range(len(dst)):\n",
        "    now_content.append(f'{dst[j]}')\n",
        "final_content = [now_content]\n",
        "print(final_content)\n",
        "cv2_imshow(cv2.resize(dst.reshape(28, 28).T, (224, 224)))\n",
        "print(label[iddd])\n",
        "print(len(final_content[0]))"
      ],
      "metadata": {
        "colab": {
          "base_uri": "https://localhost:8080/",
          "height": 315
        },
        "id": "yBycxrluApZO",
        "outputId": "5b436ea4-6aa5-4cff-c26d-2cebcff6a94b"
      },
      "execution_count": 37,
      "outputs": [
        {
          "output_type": "stream",
          "name": "stdout",
          "text": [
            "[['26', '0.0', '0.0', '0.0', '0.0', '0.0', '0.0', '0.0', '0.0', '0.0', '0.0', '0.0', '0.0', '0.0', '0.0', '0.0', '0.0', '0.0', '0.0', '0.0', '0.0', '0.0', '0.0', '0.0', '0.0', '0.0', '0.0', '0.0', '0.0', '0.0', '0.0', '0.0', '0.0', '0.0', '0.0', '0.0', '0.0', '0.0', '0.0', '0.0', '0.0', '0.0', '0.0', '0.0', '0.0', '0.0', '0.0', '0.0', '0.0', '0.0', '0.0', '0.0', '0.0', '0.0', '0.0', '0.0', '0.0', '0.0', '0.0', '0.0', '0.0', '0.0', '0.0', '0.0', '0.0', '0.0', '0.0', '0.0', '0.0', '0.0', '0.0', '0.0', '0.0', '0.0', '0.0', '0.0', '0.0', '0.0', '0.0', '0.0', '0.0', '0.0', '0.0', '0.0', '0.0', '0.0', '0.0', '0.0', '0.0', '0.0', '0.0', '0.0', '0.0', '0.0', '0.0', '0.0', '0.0', '0.0', '0.0', '0.0', '0.0', '0.0', '0.0', '0.0', '0.0', '0.0', '0.0', '0.0', '0.0', '0.0', '0.0', '0.0', '0.0', '0.0', '0.0', '0.0', '0.0', '0.0', '217.0', '255.0', '255.0', '115.0', '0.0', '0.0', '0.0', '0.0', '0.0', '0.0', '0.0', '0.0', '0.0', '0.0', '0.0', '45.0', '96.0', '0.0', '0.0', '0.0', '0.0', '0.0', '0.0', '0.0', '0.0', '0.0', '0.0', '0.0', '217.0', '255.0', '255.0', '223.0', '109.0', '0.0', '0.0', '0.0', '0.0', '0.0', '0.0', '0.0', '0.0', '0.0', '89.0', '208.0', '219.0', '168.0', '0.0', '0.0', '0.0', '0.0', '0.0', '0.0', '0.0', '0.0', '0.0', '0.0', '217.0', '255.0', '255.0', '255.0', '212.0', '159.0', '159.0', '159.0', '151.0', '8.0', '0.0', '0.0', '0.0', '0.0', '115.0', '255.0', '255.0', '235.0', '119.0', '0.0', '0.0', '0.0', '0.0', '0.0', '0.0', '0.0', '0.0', '61.0', '226.0', '255.0', '255.0', '255.0', '255.0', '255.0', '255.0', '255.0', '248.0', '128.0', '121.0', '121.0', '42.0', '0.0', '115.0', '255.0', '255.0', '250.0', '221.0', '0.0', '0.0', '0.0', '0.0', '0.0', '0.0', '0.0', '0.0', '128.0', '236.0', '255.0', '255.0', '255.0', '255.0', '255.0', '255.0', '255.0', '255.0', '255.0', '255.0', '255.0', '143.0', '37.0', '115.0', '255.0', '255.0', '255.0', '255.0', '0.0', '0.0', '0.0', '0.0', '0.0', '0.0', '0.0', '0.0', '128.0', '236.0', '255.0', '255.0', '255.0', '255.0', '255.0', '255.0', '255.0', '255.0', '255.0', '255.0', '255.0', '255.0', '139.0', '139.0', '255.0', '255.0', '255.0', '255.0', '0.0', '0.0', '0.0', '0.0', '0.0', '0.0', '0.0', '0.0', '125.0', '235.0', '255.0', '255.0', '255.0', '255.0', '254.0', '252.0', '255.0', '255.0', '255.0', '255.0', '255.0', '255.0', '255.0', '255.0', '255.0', '255.0', '255.0', '255.0', '0.0', '0.0', '0.0', '0.0', '0.0', '0.0', '0.0', '0.0', '16.0', '219.0', '255.0', '255.0', '255.0', '255.0', '216.0', '172.0', '255.0', '255.0', '255.0', '255.0', '255.0', '255.0', '255.0', '255.0', '255.0', '255.0', '255.0', '255.0', '0.0', '0.0', '0.0', '0.0', '0.0', '0.0', '0.0', '0.0', '0.0', '217.0', '255.0', '255.0', '255.0', '172.0', '58.0', '44.0', '70.0', '70.0', '70.0', '70.0', '209.0', '195.0', '163.0', '204.0', '255.0', '255.0', '255.0', '255.0', '0.0', '0.0', '0.0', '0.0', '0.0', '0.0', '0.0', '0.0', '0.0', '217.0', '255.0', '255.0', '255.0', '140.0', '0.0', '0.0', '0.0', '0.0', '0.0', '0.0', '81.0', '73.0', '135.0', '225.0', '255.0', '255.0', '255.0', '255.0', '0.0', '0.0', '0.0', '0.0', '0.0', '0.0', '0.0', '0.0', '0.0', '125.0', '228.0', '255.0', '255.0', '189.0', '70.0', '0.0', '0.0', '0.0', '0.0', '0.0', '0.0', '18.0', '152.0', '255.0', '255.0', '255.0', '247.0', '201.0', '0.0', '0.0', '0.0', '0.0', '0.0', '0.0', '0.0', '0.0', '0.0', '0.0', '191.0', '255.0', '255.0', '255.0', '166.0', '0.0', '0.0', '0.0', '0.0', '0.0', '0.0', '76.0', '193.0', '255.0', '255.0', '255.0', '236.0', '128.0', '0.0', '0.0', '0.0', '0.0', '0.0', '0.0', '0.0', '0.0', '0.0', '0.0', '191.0', '255.0', '255.0', '255.0', '166.0', '0.0', '0.0', '0.0', '0.0', '0.0', '0.0', '166.0', '255.0', '255.0', '255.0', '255.0', '233.0', '112.0', '0.0', '0.0', '0.0', '0.0', '0.0', '0.0', '0.0', '0.0', '0.0', '0.0', '191.0', '255.0', '255.0', '255.0', '166.0', '0.0', '0.0', '0.0', '0.0', '0.0', '0.0', '166.0', '255.0', '255.0', '255.0', '255.0', '217.0', '3.0', '0.0', '0.0', '0.0', '0.0', '0.0', '0.0', '0.0', '0.0', '0.0', '0.0', '33.0', '181.0', '255.0', '255.0', '239.0', '158.0', '0.0', '0.0', '0.0', '179.0', '210.0', '239.0', '255.0', '255.0', '255.0', '202.0', '38.0', '0.0', '0.0', '0.0', '0.0', '0.0', '0.0', '0.0', '0.0', '0.0', '0.0', '0.0', '0.0', '54.0', '177.0', '255.0', '255.0', '234.0', '172.0', '172.0', '172.0', '242.0', '255.0', '255.0', '255.0', '255.0', '255.0', '191.0', '0.0', '0.0', '0.0', '0.0', '0.0', '0.0', '0.0', '0.0', '0.0', '0.0', '0.0', '0.0', '0.0', '0.0', '122.0', '236.0', '255.0', '255.0', '255.0', '255.0', '255.0', '255.0', '255.0', '255.0', '255.0', '255.0', '208.0', '91.0', '0.0', '0.0', '0.0', '0.0', '0.0', '0.0', '0.0', '0.0', '0.0', '0.0', '0.0', '0.0', '0.0', '0.0', '66.0', '180.0', '255.0', '255.0', '255.0', '255.0', '255.0', '255.0', '255.0', '255.0', '255.0', '255.0', '166.0', '0.0', '0.0', '0.0', '0.0', '0.0', '0.0', '0.0', '0.0', '0.0', '0.0', '0.0', '0.0', '0.0', '0.0', '0.0', '0.0', '89.0', '198.0', '208.0', '243.0', '255.0', '255.0', '255.0', '255.0', '255.0', '223.0', '198.0', '128.0', '0.0', '0.0', '0.0', '0.0', '0.0', '0.0', '0.0', '0.0', '0.0', '0.0', '0.0', '0.0', '0.0', '0.0', '0.0', '0.0', '0.0', '0.0', '48.0', '201.0', '255.0', '255.0', '255.0', '255.0', '255.0', '115.0', '0.0', '0.0', '0.0', '0.0', '0.0', '0.0', '0.0', '0.0', '0.0', '0.0', '0.0', '0.0', '0.0', '0.0', '0.0', '0.0', '0.0', '0.0', '0.0', '0.0', '0.0', '0.0', '0.0', '0.0', '0.0', '0.0', '0.0', '0.0', '0.0', '0.0', '0.0', '0.0', '0.0', '0.0', '0.0', '0.0', '0.0', '0.0', '0.0', '0.0', '0.0', '0.0', '0.0', '0.0', '0.0', '0.0', '0.0', '0.0', '0.0', '0.0', '0.0', '0.0', '0.0', '0.0', '0.0', '0.0', '0.0', '0.0', '0.0', '0.0', '0.0', '0.0', '0.0', '0.0', '0.0', '0.0', '0.0', '0.0', '0.0', '0.0', '0.0', '0.0', '0.0', '0.0', '0.0', '0.0', '0.0', '0.0', '0.0', '0.0', '0.0', '0.0', '0.0', '0.0', '0.0', '0.0', '0.0', '0.0', '0.0', '0.0', '0.0', '0.0', '0.0', '0.0', '0.0', '0.0', '0.0', '0.0', '0.0', '0.0', '0.0', '0.0', '0.0', '0.0', '0.0', '0.0', '0.0', '0.0', '0.0', '0.0', '0.0', '0.0', '0.0', '0.0', '0.0', '0.0', '0.0', '0.0', '0.0', '0.0', '0.0']]\n"
          ]
        },
        {
          "output_type": "display_data",
          "data": {
            "text/plain": [
              "<PIL.Image.Image image mode=L size=224x224 at 0x7F94B5B60B10>"
            ],
            "image/png": "[encoded data removed]"
          },
          "metadata": {}
        },
        {
          "output_type": "stream",
          "name": "stdout",
          "text": [
            "26\n",
            "785\n"
          ]
        }
      ]
    },
    {
      "cell_type": "code",
      "source": [
        "a = train.copy()"
      ],
      "metadata": {
        "id": "h_pXWVBtLiLs"
      },
      "execution_count": 38,
      "outputs": []
    },
    {
      "cell_type": "code",
      "source": [
        "a = a.reshape(-1, 28*28)"
      ],
      "metadata": {
        "id": "XmBsR0mBLlNe"
      },
      "execution_count": 40,
      "outputs": []
    },
    {
      "cell_type": "code",
      "source": [
        "label.reshape(-1, 1).shape"
      ],
      "metadata": {
        "colab": {
          "base_uri": "https://localhost:8080/"
        },
        "id": "RvkPNXBAMICZ",
        "outputId": "80910570-ed48-444a-e46d-88e823d8d6e1"
      },
      "execution_count": 55,
      "outputs": [
        {
          "output_type": "execute_result",
          "data": {
            "text/plain": [
              "(553190, 1)"
            ]
          },
          "metadata": {},
          "execution_count": 55
        }
      ]
    },
    {
      "cell_type": "code",
      "source": [
        "a.shape"
      ],
      "metadata": {
        "colab": {
          "base_uri": "https://localhost:8080/"
        },
        "id": "ylPYkxOuMKHd",
        "outputId": "99723436-3691-43f7-8038-439a9a6f80c4"
      },
      "execution_count": 53,
      "outputs": [
        {
          "output_type": "execute_result",
          "data": {
            "text/plain": [
              "(553190, 784)"
            ]
          },
          "metadata": {},
          "execution_count": 53
        }
      ]
    },
    {
      "cell_type": "code",
      "source": [
        "b = np.concatenate([label.reshape(-1, 1), a], axis = 1).astype(np.uint8)"
      ],
      "metadata": {
        "id": "1Odkz9baMLu4"
      },
      "execution_count": 62,
      "outputs": []
    },
    {
      "cell_type": "code",
      "source": [
        "b[44][0]"
      ],
      "metadata": {
        "colab": {
          "base_uri": "https://localhost:8080/"
        },
        "id": "hhm2kk_7Mal6",
        "outputId": "9dd375ad-e75f-4c1a-a822-bc2231ba5220"
      },
      "execution_count": 61,
      "outputs": [
        {
          "output_type": "execute_result",
          "data": {
            "text/plain": [
              "20.0"
            ]
          },
          "metadata": {},
          "execution_count": 61
        }
      ]
    },
    {
      "cell_type": "code",
      "source": [
        "idd = 120\n",
        "cv2_imshow(cv2.resize(b[idd][1:].reshape(28, 28).T, (224, 224)))\n",
        "print(b[idd][0])"
      ],
      "metadata": {
        "colab": {
          "base_uri": "https://localhost:8080/",
          "height": 259
        },
        "id": "XAVyaScrLvbp",
        "outputId": "e53b0cea-ad2f-4adc-ca49-cebb423fe993"
      },
      "execution_count": 67,
      "outputs": [
        {
          "output_type": "display_data",
          "data": {
            "text/plain": [
              "<PIL.Image.Image image mode=L size=224x224 at 0x7F94B949E850>"
            ],
            "image/png": "[encoded data removed]"
          },
          "metadata": {}
        },
        {
          "output_type": "stream",
          "name": "stdout",
          "text": [
            "9\n"
          ]
        }
      ]
    },
    {
      "cell_type": "code",
      "source": [
        "import pandas as pd\n",
        "\n",
        "data_frame = pd.DataFrame(b)\n",
        "data_frame.to_csv('augmented_emnist.csv', header = False, index = False)"
      ],
      "metadata": {
        "id": "25E7snk5KRyI"
      },
      "execution_count": 69,
      "outputs": []
    },
    {
      "cell_type": "code",
      "source": [
        "ls"
      ],
      "metadata": {
        "colab": {
          "base_uri": "https://localhost:8080/"
        },
        "id": "pCpoql10Copi",
        "outputId": "20bdd016-b31e-456c-a7c2-7cb2c11e1f46"
      },
      "execution_count": 70,
      "outputs": [
        {
          "output_type": "stream",
          "name": "stdout",
          "text": [
            "augmented_emnist.csv            Mobile_Leacky_SGD_800_100_05.h5\n",
            "emnist-byclass-test.csv         \u001b[0m\u001b[01;34mMobile_Leacky_SGD_800_100_05.h5_1\u001b[0m/\n",
            "emnist-byclass-train.csv        Mobile_ReLU_SGD_800_05.h5\n",
            "\u001b[01;34mimages\u001b[0m/                         my_lenet5_emnist_model_20220515.h5\n",
            "mobile2                         our_handmade_dataset.csv\n",
            "Mobile_ELU_SGD_1000_120_005.h5  \u001b[01;34mwandb\u001b[0m/\n"
          ]
        }
      ]
    },
    {
      "cell_type": "code",
      "source": [
        "agg_csv = []\n",
        "agg_csv = pd.read_csv(\"./augmented_emnist.csv\", header=None)"
      ],
      "metadata": {
        "id": "jwqQ1PQMRzv4"
      },
      "execution_count": 71,
      "outputs": []
    },
    {
      "cell_type": "code",
      "source": [
        "agg_data, agg_label = convert_data_csv_to_numpy(agg_csv, sorting = False)\n",
        "agg_csv = []"
      ],
      "metadata": {
        "id": "s9pyNH3YSE8q"
      },
      "execution_count": 72,
      "outputs": []
    },
    {
      "cell_type": "code",
      "source": [
        "agg_data = agg_data.reshape(-1, 28, 28)\n",
        "print(agg_data.shape)\n",
        "print(agg_label.shape)"
      ],
      "metadata": {
        "colab": {
          "base_uri": "https://localhost:8080/"
        },
        "id": "8k-FV8TsSS51",
        "outputId": "212d7507-f9ee-407f-f5fb-7af2a877e4e0"
      },
      "execution_count": 76,
      "outputs": [
        {
          "output_type": "stream",
          "name": "stdout",
          "text": [
            "(553190, 28, 28)\n",
            "(553190,)\n"
          ]
        }
      ]
    },
    {
      "cell_type": "code",
      "source": [
        "ti = 40\n",
        "cv2_imshow(cv2.resize(agg_data[ti].astype(np.uint8).T, (224, 224)))\n",
        "print(agg_label[ti])"
      ],
      "metadata": {
        "colab": {
          "base_uri": "https://localhost:8080/",
          "height": 259
        },
        "id": "Eeh6RqluSV-5",
        "outputId": "cd00c912-c61e-4f87-eaf4-fece35f8d1b2"
      },
      "execution_count": 85,
      "outputs": [
        {
          "output_type": "display_data",
          "data": {
            "text/plain": [
              "<PIL.Image.Image image mode=L size=224x224 at 0x7F94B2D33810>"
            ],
            "image/png": "[encoded data removed]"
          },
          "metadata": {}
        },
        {
          "output_type": "stream",
          "name": "stdout",
          "text": [
            "26\n"
          ]
        }
      ]
    },
    {
      "cell_type": "code",
      "source": [
        ""
      ],
      "metadata": {
        "id": "IZzFhUoESm1o"
      },
      "execution_count": null,
      "outputs": []
    }
  ]
}