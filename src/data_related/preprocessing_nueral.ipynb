{
  "nbformat": 4,
  "nbformat_minor": 0,
  "metadata": {
    "colab": {
      "name": "preprocessing_nueral.ipynb",
      "provenance": [],
      "machine_shape": "hm"
    },
    "kernelspec": {
      "name": "python3",
      "display_name": "Python 3"
    },
    "language_info": {
      "name": "python"
    },
    "accelerator": "GPU"
  },
  "cells": [
    {
      "cell_type": "code",
      "execution_count": null,
      "metadata": {
        "colab": {
          "base_uri": "https://localhost:8080/"
        },
        "id": "G6oRvhPTt5j4",
        "outputId": "4c2ffabe-e672-4d50-da23-2bd6672ea4fa"
      },
      "outputs": [
        {
          "output_type": "stream",
          "name": "stdout",
          "text": [
            "GPU found\n"
          ]
        }
      ],
      "source": [
        "import os\n",
        "import tensorflow as tf\n",
        "\n",
        "#os.environ['CUDA_VISIBLE_DEVICES'] = '-1'\n",
        "\n",
        "if tf.test.gpu_device_name():\n",
        "    print('GPU found')\n",
        "else:\n",
        "    print(\"No GPU found\")"
      ]
    },
    {
      "cell_type": "code",
      "source": [
        "import tqdm\n",
        "import tensorflow as tf\n",
        "from tensorflow import keras\n",
        "import pandas as pd\n",
        "import numpy as np\n",
        "import matplotlib.pyplot as plt\n",
        "# import wandb\n",
        "# from wandb.keras import WandbCallback\n",
        "import os\n",
        "import random\n",
        "from google.colab.patches import cv2_imshow\n",
        "import cv2\n",
        "%matplotlib inline"
      ],
      "metadata": {
        "id": "Qc7xiMObukLB"
      },
      "execution_count": null,
      "outputs": []
    },
    {
      "cell_type": "code",
      "source": [
        "from google.colab import drive\n",
        "drive.mount('cnontent/')"
      ],
      "metadata": {
        "colab": {
          "base_uri": "https://localhost:8080/"
        },
        "id": "WgQCFvT4unuJ",
        "outputId": "3cd3f4b2-7a92-4a50-bf8a-e498a268dcfb"
      },
      "execution_count": null,
      "outputs": [
        {
          "output_type": "stream",
          "name": "stdout",
          "text": [
            "Mounted at cnontent/\n"
          ]
        }
      ]
    },
    {
      "cell_type": "code",
      "source": [
        "cd /content/cnontent/MyDrive/SSU/nural_nework/project"
      ],
      "metadata": {
        "colab": {
          "base_uri": "https://localhost:8080/"
        },
        "id": "raor7FhmuuDD",
        "outputId": "27a3368d-b655-40e7-c28d-ed4199afee37"
      },
      "execution_count": null,
      "outputs": [
        {
          "output_type": "stream",
          "name": "stdout",
          "text": [
            "/content/cnontent/MyDrive/SSU/nural_nework/project\n"
          ]
        }
      ]
    },
    {
      "cell_type": "code",
      "source": [
        "ls"
      ],
      "metadata": {
        "colab": {
          "base_uri": "https://localhost:8080/"
        },
        "id": "dcenx0KsuxUD",
        "outputId": "91c66354-79d6-4bdd-8ccf-ed770889ec7b"
      },
      "execution_count": null,
      "outputs": [
        {
          "output_type": "stream",
          "name": "stdout",
          "text": [
            "emnist-byclass-test.csv   \u001b[0m\u001b[01;34mimages\u001b[0m/  my_lenet5_emnist_model_20220515.h5  \u001b[01;34mwandb\u001b[0m/\n",
            "emnist-byclass-train.csv  mobile2  our_handmade_dataset.csv\n"
          ]
        }
      ]
    },
    {
      "cell_type": "code",
      "source": [
        "model = tf.keras.models.load_model('my_lenet5_emnist_model_20220515.h5')"
      ],
      "metadata": {
        "id": "BKdpRNK7u3tm"
      },
      "execution_count": null,
      "outputs": []
    },
    {
      "cell_type": "code",
      "source": [
        "def convert_data_csv_to_numpy(data, sorting = False): # pandas 통해 읽은 csv data numpy 형태로 변경\n",
        "  if sorting == True:\n",
        "    data = data.sort_values(by=[0], axis=0)\n",
        "\n",
        "  label = np.array(data[0]) # csv file 에서 0번째 colum은 index임\n",
        "  only_data = np.array(data.drop([0], axis = 1)).reshape((-1, 28, 28, 1)) # csv file에서 0번 째 colum 탈락 -> data만 남게 됨\n",
        "  # only_data = tf.convert_to_tensor(only_data, dtype=tf.float32)\n",
        "  return only_data, label"
      ],
      "metadata": {
        "id": "liJ6aZPDvIJX"
      },
      "execution_count": null,
      "outputs": []
    },
    {
      "cell_type": "code",
      "source": [
        "train_csv, test_csv = [], []\n",
        "train_csv = pd.read_csv(\"./emnist-byclass-train.csv\", header=None)"
      ],
      "metadata": {
        "id": "NfHW6MQ-vfQI"
      },
      "execution_count": null,
      "outputs": []
    },
    {
      "cell_type": "code",
      "source": [
        "train_data, train_label = convert_data_csv_to_numpy(train_csv, sorting = False)\n",
        "train_csv = []"
      ],
      "metadata": {
        "id": "1R7hrBt5vhbK"
      },
      "execution_count": null,
      "outputs": []
    },
    {
      "cell_type": "code",
      "source": [
        "boundary = int((train_data.shape[0])*0.8)\n",
        "print(boundary)"
      ],
      "metadata": {
        "colab": {
          "base_uri": "https://localhost:8080/"
        },
        "id": "nYJ-EE9YSddH",
        "outputId": "f95f148d-9d68-412b-e591-04dc84930f0a"
      },
      "execution_count": null,
      "outputs": [
        {
          "output_type": "stream",
          "name": "stdout",
          "text": [
            "558345\n"
          ]
        }
      ]
    },
    {
      "cell_type": "code",
      "source": [
        "def data_crop(data, mean):\n",
        "  # images = np.zeros((data.shape[0], 20, 20))\n",
        "  for i in range(data.shape[0]):\n",
        "    image = data[i]\n",
        "    first_norm = 255/np.max(image)\n",
        "    image = (image*first_norm).astype(np.uint8)\n",
        "\n",
        "    _, binary_image = cv2.threshold(image.astype(np.uint8), 20, 255, cv2.THRESH_BINARY)\n",
        "    min_max_list = np.where(binary_image==255)\n",
        "    x_min, x_max = np.min(min_max_list[1]), np.max(min_max_list[1])\n",
        "    y_min, y_max = np.min(min_max_list[0]), np.max(min_max_list[0])\n",
        "\n",
        "    if abs(x_max - x_min) >abs(y_max - y_min):\n",
        "      add_sub_factor = (abs(x_max - x_min) - abs(y_max - y_min))//2\n",
        "      y_min = max(0, y_min-add_sub_factor-1)\n",
        "      y_max = min(27, y_max+add_sub_factor+1)\n",
        "\n",
        "    if abs(y_max - y_min) > abs(x_max - x_min):\n",
        "      add_sub_factor = (abs(y_max - y_min)-abs(x_max - x_min))//2\n",
        "      x_min = max(0, x_min-add_sub_factor-1)\n",
        "      x_max = min(27, x_max+add_sub_factor+1)\n",
        "    # print(x_min, x_max)\n",
        "    # print(y_min, y_max)\n",
        "    data[i] = np.pad(cv2.resize(image.astype(np.uint8)[y_min:y_max, x_min:x_max], (20, 20)), ((4, 4), (4, 4)), 'constant', constant_values = 0)\n",
        "    second_norm = 255/np.max(data[i])\n",
        "    data[i] = (data[i]*second_norm).astype(np.uint8)"
      ],
      "metadata": {
        "id": "gp5iTc4vSOfx"
      },
      "execution_count": null,
      "outputs": []
    },
    {
      "cell_type": "code",
      "source": [
        "test_csv = pd.read_csv(\"./emnist-byclass-test.csv\", header=None)\n",
        "hand_made_csv = pd.read_csv(\"./our_handmade_dataset.csv\", header=None)"
      ],
      "metadata": {
        "id": "PdX3fo4lRruz"
      },
      "execution_count": null,
      "outputs": []
    },
    {
      "cell_type": "code",
      "source": [
        "test_data, test_label = convert_data_csv_to_numpy(test_csv, sorting = False)\n",
        "hand_data, hand_label = convert_data_csv_to_numpy(hand_made_csv, sorting = False)\n",
        "# test_csv, hand_made_csv = [], []"
      ],
      "metadata": {
        "id": "5pSe9cQRpldk"
      },
      "execution_count": null,
      "outputs": []
    },
    {
      "cell_type": "code",
      "source": [
        "test_data = test_data.reshape(-1, 28, 28)\n",
        "hand_data = hand_data.reshape(-1, 28, 28)"
      ],
      "metadata": {
        "id": "Dt3DcP5DqFeR"
      },
      "execution_count": null,
      "outputs": []
    },
    {
      "cell_type": "code",
      "source": [
        "mean = np.mean(train_data[:boundary])\n",
        "print(mean)\n",
        "print(np.mean(hand_data))"
      ],
      "metadata": {
        "colab": {
          "base_uri": "https://localhost:8080/"
        },
        "id": "ZOecJdJqVQRC",
        "outputId": "b6bd38fa-66c9-4061-d0f0-85c418ed875d"
      },
      "execution_count": null,
      "outputs": [
        {
          "output_type": "stream",
          "name": "stdout",
          "text": [
            "44.27018272706821\n",
            "8.979617038347596\n"
          ]
        }
      ]
    },
    {
      "cell_type": "code",
      "source": [
        "data_crop(hand_data, np.mean(hand_data))"
      ],
      "metadata": {
        "id": "hJrMxAEsrsQS"
      },
      "execution_count": null,
      "outputs": []
    },
    {
      "cell_type": "code",
      "source": [
        "hand_data.shape"
      ],
      "metadata": {
        "colab": {
          "base_uri": "https://localhost:8080/"
        },
        "id": "5_J-C269fOJH",
        "outputId": "cac94169-49cf-41b7-e4f9-45effef2d389"
      },
      "execution_count": null,
      "outputs": [
        {
          "output_type": "execute_result",
          "data": {
            "text/plain": [
              "(2480, 28, 28)"
            ]
          },
          "metadata": {},
          "execution_count": 73
        }
      ]
    },
    {
      "cell_type": "code",
      "source": [
        "mean = np.mean(train_data[:boundary])\n",
        "print(mean)\n",
        "print(np.mean(hand_data))"
      ],
      "metadata": {
        "colab": {
          "base_uri": "https://localhost:8080/"
        },
        "id": "ZTGKRPVqWV80",
        "outputId": "36e4fd0e-2998-40c9-fec2-9da30a399490"
      },
      "execution_count": null,
      "outputs": [
        {
          "output_type": "stream",
          "name": "stdout",
          "text": [
            "44.27018272706821\n",
            "10.98448043531929\n"
          ]
        }
      ]
    },
    {
      "cell_type": "code",
      "source": [
        "a = cv2.resize(hand_data[1707].astype(np.uint8).T, (224, 224))\n",
        "# norm = 255/np.max(a)\n",
        "# a = (a*norm).astype(np.uint8)\n",
        "print(np.max(a))\n",
        "print(np.min(a))\n",
        "# a[a>np.mean(hand_data)*2] +=diff\n",
        "cv2_imshow(a)"
      ],
      "metadata": {
        "colab": {
          "base_uri": "https://localhost:8080/",
          "height": 277
        },
        "id": "XxDpGbCqTdGU",
        "outputId": "0acc6615-1e0e-4308-f1ab-e2ce2131cac0"
      },
      "execution_count": null,
      "outputs": [
        {
          "output_type": "stream",
          "name": "stdout",
          "text": [
            "255\n",
            "0\n"
          ]
        },
        {
          "output_type": "display_data",
          "data": {
            "text/plain": [
              "<PIL.Image.Image image mode=L size=224x224 at 0x7F4421441D50>"
            ],
            "image/png": "[encoded data removed]"
          },
          "metadata": {}
        }
      ]
    },
    {
      "cell_type": "code",
      "source": [
        "# 기존 model weight + pixel_min_max_crop"
      ],
      "metadata": {
        "id": "ljtX8IFVw2T4"
      },
      "execution_count": null,
      "outputs": []
    },
    {
      "cell_type": "code",
      "source": [
        "model.evaluate(test_data/255., test_label)"
      ],
      "metadata": {
        "colab": {
          "base_uri": "https://localhost:8080/"
        },
        "id": "hDH1fa3PryIe",
        "outputId": "1db6a3de-a937-4917-a041-2371f7ac6953"
      },
      "execution_count": null,
      "outputs": [
        {
          "output_type": "stream",
          "name": "stdout",
          "text": [
            "3636/3636 [==============================] - 11s 3ms/step - loss: 0.3802 - accuracy: 0.8619\n"
          ]
        },
        {
          "output_type": "execute_result",
          "data": {
            "text/plain": [
              "[0.38020074367523193, 0.8619275689125061]"
            ]
          },
          "metadata": {},
          "execution_count": 100
        }
      ]
    },
    {
      "cell_type": "code",
      "source": [
        "model.evaluate(hand_data/255., hand_label)"
      ],
      "metadata": {
        "colab": {
          "base_uri": "https://localhost:8080/"
        },
        "id": "5lJiFBjMuW2v",
        "outputId": "8532c5d7-0289-43a4-cc2f-177eb7434d8f"
      },
      "execution_count": null,
      "outputs": [
        {
          "output_type": "stream",
          "name": "stdout",
          "text": [
            "78/78 [==============================] - 0s 4ms/step - loss: 2.5577 - accuracy: 0.3883\n"
          ]
        },
        {
          "output_type": "execute_result",
          "data": {
            "text/plain": [
              "[2.557722568511963, 0.3883064389228821]"
            ]
          },
          "metadata": {},
          "execution_count": 102
        }
      ]
    },
    {
      "cell_type": "code",
      "source": [
        "# 기존 model weight + pixel_min_max_weighted_crop -> (max-min)//2"
      ],
      "metadata": {
        "id": "nccqSGIRw7ZW"
      },
      "execution_count": null,
      "outputs": []
    },
    {
      "cell_type": "code",
      "source": [
        "model.evaluate(test_data/255., test_label)"
      ],
      "metadata": {
        "id": "Z-SlrHjUuc0N",
        "colab": {
          "base_uri": "https://localhost:8080/"
        },
        "outputId": "efef529e-9e53-46a5-9a8b-1e952a0e51fe"
      },
      "execution_count": null,
      "outputs": [
        {
          "output_type": "stream",
          "name": "stdout",
          "text": [
            "3636/3636 [==============================] - 9s 2ms/step - loss: 0.3665 - accuracy: 0.8658\n"
          ]
        },
        {
          "output_type": "execute_result",
          "data": {
            "text/plain": [
              "[0.3664874732494354, 0.8657703399658203]"
            ]
          },
          "metadata": {},
          "execution_count": 104
        }
      ]
    },
    {
      "cell_type": "code",
      "source": [
        "model.evaluate(hand_data/255., hand_label)"
      ],
      "metadata": {
        "colab": {
          "base_uri": "https://localhost:8080/"
        },
        "id": "3OybRXpowOyK",
        "outputId": "3084cd9d-6856-4ad7-8965-d6beb4773663"
      },
      "execution_count": null,
      "outputs": [
        {
          "output_type": "stream",
          "name": "stdout",
          "text": [
            "78/78 [==============================] - 0s 3ms/step - loss: 2.3886 - accuracy: 0.4448\n"
          ]
        },
        {
          "output_type": "execute_result",
          "data": {
            "text/plain": [
              "[2.388550281524658, 0.4447580575942993]"
            ]
          },
          "metadata": {},
          "execution_count": 105
        }
      ]
    },
    {
      "cell_type": "code",
      "source": [
        "# train x -> 현재 모델 weight에서 handmade 데이터 set만 변경"
      ],
      "metadata": {
        "id": "6QxLMjqM_nZZ"
      },
      "execution_count": null,
      "outputs": []
    },
    {
      "cell_type": "code",
      "source": [
        "model.evaluate(test_data/255., test_label)"
      ],
      "metadata": {
        "colab": {
          "base_uri": "https://localhost:8080/"
        },
        "id": "93ooCboSa0Xa",
        "outputId": "9b0650c2-d192-47e5-abd9-96ac93a96de1"
      },
      "execution_count": null,
      "outputs": [
        {
          "output_type": "stream",
          "name": "stdout",
          "text": [
            "3636/3636 [==============================] - 12s 3ms/step - loss: 0.3567 - accuracy: 0.8709\n"
          ]
        },
        {
          "output_type": "execute_result",
          "data": {
            "text/plain": [
              "[0.35673031210899353, 0.8708939552307129]"
            ]
          },
          "metadata": {},
          "execution_count": 83
        }
      ]
    },
    {
      "cell_type": "code",
      "source": [
        "model.compile(optimizer='adam', loss='sparse_categorical_crossentropy', metrics=['accuracy'])"
      ],
      "metadata": {
        "id": "dcOP5_qNYY3u"
      },
      "execution_count": null,
      "outputs": []
    },
    {
      "cell_type": "code",
      "source": [
        "model.summary()"
      ],
      "metadata": {
        "colab": {
          "base_uri": "https://localhost:8080/"
        },
        "id": "AgmKjfekY3Xp",
        "outputId": "628bf5ac-3fbc-4f1a-8751-7c81ac655062"
      },
      "execution_count": null,
      "outputs": [
        {
          "output_type": "stream",
          "name": "stdout",
          "text": [
            "Model: \"sequential\"\n",
            "_________________________________________________________________\n",
            " Layer (type)                Output Shape              Param #   \n",
            "=================================================================\n",
            " conv2d (Conv2D)             (None, 28, 28, 32)        832       \n",
            "                                                                 \n",
            " batch_normalization (BatchN  (None, 28, 28, 32)       128       \n",
            " ormalization)                                                   \n",
            "                                                                 \n",
            " conv2d_1 (Conv2D)           (None, 24, 24, 64)        51264     \n",
            "                                                                 \n",
            " batch_normalization_1 (Batc  (None, 24, 24, 64)       256       \n",
            " hNormalization)                                                 \n",
            "                                                                 \n",
            " conv2d_2 (Conv2D)           (None, 22, 22, 32)        18464     \n",
            "                                                                 \n",
            " batch_normalization_2 (Batc  (None, 22, 22, 32)       128       \n",
            " hNormalization)                                                 \n",
            "                                                                 \n",
            " dropout (Dropout)           (None, 22, 22, 32)        0         \n",
            "                                                                 \n",
            " global_average_pooling2d (G  (None, 32)               0         \n",
            " lobalAveragePooling2D)                                          \n",
            "                                                                 \n",
            " flatten (Flatten)           (None, 32)                0         \n",
            "                                                                 \n",
            " dense (Dense)               (None, 62)                2046      \n",
            "                                                                 \n",
            "=================================================================\n",
            "Total params: 73,118\n",
            "Trainable params: 72,862\n",
            "Non-trainable params: 256\n",
            "_________________________________________________________________\n"
          ]
        }
      ]
    },
    {
      "cell_type": "code",
      "source": [
        "model.evaluate(hand_data/255., hand_label)"
      ],
      "metadata": {
        "colab": {
          "base_uri": "https://localhost:8080/"
        },
        "id": "bmB86ff7aWMY",
        "outputId": "7e476427-49d7-466f-8c3f-7ec41fbee352"
      },
      "execution_count": null,
      "outputs": [
        {
          "output_type": "stream",
          "name": "stdout",
          "text": [
            "78/78 [==============================] - 9s 3ms/step - loss: 1.1534 - accuracy: 0.6335\n"
          ]
        },
        {
          "output_type": "execute_result",
          "data": {
            "text/plain": [
              "[1.153355598449707, 0.6334677338600159]"
            ]
          },
          "metadata": {},
          "execution_count": 150
        }
      ]
    },
    {
      "cell_type": "code",
      "source": [
        "model.evaluate(hand_data/255., hand_label)"
      ],
      "metadata": {
        "id": "rpb9-6CoaW_d",
        "colab": {
          "base_uri": "https://localhost:8080/"
        },
        "outputId": "73a66b79-5b1e-4d19-9c09-350d1d5d0b70"
      },
      "execution_count": null,
      "outputs": [
        {
          "output_type": "stream",
          "name": "stdout",
          "text": [
            "78/78 [==============================] - 0s 3ms/step - loss: 1.3894 - accuracy: 0.5585\n"
          ]
        },
        {
          "output_type": "execute_result",
          "data": {
            "text/plain": [
              "[1.3894001245498657, 0.5584677457809448]"
            ]
          },
          "metadata": {},
          "execution_count": 92
        }
      ]
    },
    {
      "cell_type": "code",
      "source": [
        ""
      ],
      "metadata": {
        "id": "5rIUvGi_bNZA"
      },
      "execution_count": null,
      "outputs": []
    }
  ]
}