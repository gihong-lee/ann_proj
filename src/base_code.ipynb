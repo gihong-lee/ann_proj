{
 "cells": [
  {
   "cell_type": "code",
   "execution_count": null,
   "metadata": {},
   "outputs": [],
   "source": [
    "import os\n",
    "import tensorflow as tf\n",
    "from tensorflow import keras as keras\n",
    "from sklearn.model_selection import train_test_split\n",
    "from sklearn.preprocessing import OneHotEncoder\n",
    "import numpy as np\n",
    "import pandas as pd\n",
    "from matplotlib import pyplot as plt\n",
    "#os.environ['CUDA_VISIBLE_DEVICES'] = '-1'\n",
    "\n",
    "if tf.test.gpu_device_name():\n",
    "    print('GPU found')\n",
    "else:\n",
    "    print(\"No GPU found\")"
   ]
  },
  {
   "cell_type": "markdown",
   "metadata": {},
   "source": [
    "Data Preparing"
   ]
  },
  {
   "cell_type": "code",
   "execution_count": null,
   "metadata": {},
   "outputs": [],
   "source": [
    "data_dir_path = \"../data\"\n",
    "\n",
    "data = pd.read_csv(f\"{data_dir_path}/emnist-byclass-mapping.txt\", sep=\" \", header=None)\n",
    "train_df = pd.read_csv(f'{data_dir_path}/emnist-byclass-train.csv')\n",
    "test_df = pd.read_csv(f\"{data_dir_path}/emnist-byclass-test.csv\")\n",
    "\n",
    "data.columns = ['Target','ASCII']\n",
    "test_df.rename(columns={'18':'Target'}, inplace=True)\n",
    "train_df.rename(columns={'35':'Target'}, inplace=True)\n",
    "\n",
    "col=[]\n",
    "for i in data.ASCII.tolist():\n",
    "    col.append(chr(i))\n",
    "\n",
    "data['ASCII_Target'] = pd.Series(col)"
   ]
  },
  {
   "cell_type": "code",
   "execution_count": null,
   "metadata": {},
   "outputs": [],
   "source": [
    "train_y = np.array(train_df.pop('Target'))\n",
    "train_x = train_df\n",
    "test_y = np.array(test_df.pop('Target'))\n",
    "test_x = test_df\n",
    "\n",
    "train_y = keras.utils.to_categorical(train_y)\n",
    "test_y = keras.utils.to_categorical(test_y)\n",
    "\n",
    "train_x = train_x / 255.0\n",
    "test_x = test_x / 255.0\n",
    "\n",
    "train_x = train_x.values.reshape([-1, 28, 28, 1])\n",
    "test_x = test_x.values.reshape([-1, 28, 28, 1])\n",
    "\n",
    "train_x, val_x, train_y, val_y = train_test_split(train_x, train_y, test_size=0.2, random_state=42)"
   ]
  },
  {
   "cell_type": "code",
   "execution_count": null,
   "metadata": {},
   "outputs": [],
   "source": [
    "print(train_x.shape, val_x.shape, test_x.shape)"
   ]
  },
  {
   "cell_type": "code",
   "execution_count": null,
   "metadata": {},
   "outputs": [],
   "source": []
  }
 ],
 "metadata": {
  "interpreter": {
   "hash": "1cca9558bc5ad879ec93cc030b157d75f18267527c60932cecaace349eef54dd"
  },
  "kernelspec": {
   "display_name": "Python 3 (ipykernel)",
   "language": "python",
   "name": "python3"
  },
  "language_info": {
   "codemirror_mode": {
    "name": "ipython",
    "version": 3
   },
   "file_extension": ".py",
   "mimetype": "text/x-python",
   "name": "python",
   "nbconvert_exporter": "python",
   "pygments_lexer": "ipython3",
   "version": "3.9.12"
  }
 },
 "nbformat": 4,
 "nbformat_minor": 2
}
