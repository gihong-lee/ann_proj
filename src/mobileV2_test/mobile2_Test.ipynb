{
  "nbformat": 4,
  "nbformat_minor": 0,
  "metadata": {
    "colab": {
      "name": "mobile2_Test.ipynb",
      "provenance": [],
      "collapsed_sections": []
    },
    "kernelspec": {
      "name": "python3",
      "display_name": "Python 3"
    },
    "language_info": {
      "name": "python"
    },
    "accelerator": "GPU",
    "widgets": {
      "application/vnd.jupyter.widget-state+json": {
        "c1e32822bb4a494b9cda32cfbb17513c": {
          "model_module": "@jupyter-widgets/controls",
          "model_name": "VBoxModel",
          "model_module_version": "1.5.0",
          "state": {
            "_dom_classes": [],
            "_model_module": "@jupyter-widgets/controls",
            "_model_module_version": "1.5.0",
            "_model_name": "VBoxModel",
            "_view_count": null,
            "_view_module": "@jupyter-widgets/controls",
            "_view_module_version": "1.5.0",
            "_view_name": "VBoxView",
            "box_style": "",
            "children": [
              "IPY_MODEL_9a549db7b8c747b98cbf00e24ee497d4",
              "IPY_MODEL_001794cde9384e4e80f4e496c7a6bf72"
            ],
            "layout": "IPY_MODEL_a360a743159b4e20b2b6f06f2792c1bf"
          }
        },
        "9a549db7b8c747b98cbf00e24ee497d4": {
          "model_module": "@jupyter-widgets/controls",
          "model_name": "LabelModel",
          "model_module_version": "1.5.0",
          "state": {
            "_dom_classes": [],
            "_model_module": "@jupyter-widgets/controls",
            "_model_module_version": "1.5.0",
            "_model_name": "LabelModel",
            "_view_count": null,
            "_view_module": "@jupyter-widgets/controls",
            "_view_module_version": "1.5.0",
            "_view_name": "LabelView",
            "description": "",
            "description_tooltip": null,
            "layout": "IPY_MODEL_fae02158778541aab5a580a59f7b2acf",
            "placeholder": "​",
            "style": "IPY_MODEL_fe1c6ffe85c04c6f8a4dd0d79aba9960",
            "value": "0.017 MB of 0.017 MB uploaded (0.000 MB deduped)\r"
          }
        },
        "001794cde9384e4e80f4e496c7a6bf72": {
          "model_module": "@jupyter-widgets/controls",
          "model_name": "FloatProgressModel",
          "model_module_version": "1.5.0",
          "state": {
            "_dom_classes": [],
            "_model_module": "@jupyter-widgets/controls",
            "_model_module_version": "1.5.0",
            "_model_name": "FloatProgressModel",
            "_view_count": null,
            "_view_module": "@jupyter-widgets/controls",
            "_view_module_version": "1.5.0",
            "_view_name": "ProgressView",
            "bar_style": "",
            "description": "",
            "description_tooltip": null,
            "layout": "IPY_MODEL_1ff5e9ac0e694f97b97de25e7aa96a20",
            "max": 1,
            "min": 0,
            "orientation": "horizontal",
            "style": "IPY_MODEL_dbfd4fa4789f42c1af39e0b25a6de03d",
            "value": 1
          }
        },
        "a360a743159b4e20b2b6f06f2792c1bf": {
          "model_module": "@jupyter-widgets/base",
          "model_name": "LayoutModel",
          "model_module_version": "1.2.0",
          "state": {
            "_model_module": "@jupyter-widgets/base",
            "_model_module_version": "1.2.0",
            "_model_name": "LayoutModel",
            "_view_count": null,
            "_view_module": "@jupyter-widgets/base",
            "_view_module_version": "1.2.0",
            "_view_name": "LayoutView",
            "align_content": null,
            "align_items": null,
            "align_self": null,
            "border": null,
            "bottom": null,
            "display": null,
            "flex": null,
            "flex_flow": null,
            "grid_area": null,
            "grid_auto_columns": null,
            "grid_auto_flow": null,
            "grid_auto_rows": null,
            "grid_column": null,
            "grid_gap": null,
            "grid_row": null,
            "grid_template_areas": null,
            "grid_template_columns": null,
            "grid_template_rows": null,
            "height": null,
            "justify_content": null,
            "justify_items": null,
            "left": null,
            "margin": null,
            "max_height": null,
            "max_width": null,
            "min_height": null,
            "min_width": null,
            "object_fit": null,
            "object_position": null,
            "order": null,
            "overflow": null,
            "overflow_x": null,
            "overflow_y": null,
            "padding": null,
            "right": null,
            "top": null,
            "visibility": null,
            "width": null
          }
        },
        "fae02158778541aab5a580a59f7b2acf": {
          "model_module": "@jupyter-widgets/base",
          "model_name": "LayoutModel",
          "model_module_version": "1.2.0",
          "state": {
            "_model_module": "@jupyter-widgets/base",
            "_model_module_version": "1.2.0",
            "_model_name": "LayoutModel",
            "_view_count": null,
            "_view_module": "@jupyter-widgets/base",
            "_view_module_version": "1.2.0",
            "_view_name": "LayoutView",
            "align_content": null,
            "align_items": null,
            "align_self": null,
            "border": null,
            "bottom": null,
            "display": null,
            "flex": null,
            "flex_flow": null,
            "grid_area": null,
            "grid_auto_columns": null,
            "grid_auto_flow": null,
            "grid_auto_rows": null,
            "grid_column": null,
            "grid_gap": null,
            "grid_row": null,
            "grid_template_areas": null,
            "grid_template_columns": null,
            "grid_template_rows": null,
            "height": null,
            "justify_content": null,
            "justify_items": null,
            "left": null,
            "margin": null,
            "max_height": null,
            "max_width": null,
            "min_height": null,
            "min_width": null,
            "object_fit": null,
            "object_position": null,
            "order": null,
            "overflow": null,
            "overflow_x": null,
            "overflow_y": null,
            "padding": null,
            "right": null,
            "top": null,
            "visibility": null,
            "width": null
          }
        },
        "fe1c6ffe85c04c6f8a4dd0d79aba9960": {
          "model_module": "@jupyter-widgets/controls",
          "model_name": "DescriptionStyleModel",
          "model_module_version": "1.5.0",
          "state": {
            "_model_module": "@jupyter-widgets/controls",
            "_model_module_version": "1.5.0",
            "_model_name": "DescriptionStyleModel",
            "_view_count": null,
            "_view_module": "@jupyter-widgets/base",
            "_view_module_version": "1.2.0",
            "_view_name": "StyleView",
            "description_width": ""
          }
        },
        "1ff5e9ac0e694f97b97de25e7aa96a20": {
          "model_module": "@jupyter-widgets/base",
          "model_name": "LayoutModel",
          "model_module_version": "1.2.0",
          "state": {
            "_model_module": "@jupyter-widgets/base",
            "_model_module_version": "1.2.0",
            "_model_name": "LayoutModel",
            "_view_count": null,
            "_view_module": "@jupyter-widgets/base",
            "_view_module_version": "1.2.0",
            "_view_name": "LayoutView",
            "align_content": null,
            "align_items": null,
            "align_self": null,
            "border": null,
            "bottom": null,
            "display": null,
            "flex": null,
            "flex_flow": null,
            "grid_area": null,
            "grid_auto_columns": null,
            "grid_auto_flow": null,
            "grid_auto_rows": null,
            "grid_column": null,
            "grid_gap": null,
            "grid_row": null,
            "grid_template_areas": null,
            "grid_template_columns": null,
            "grid_template_rows": null,
            "height": null,
            "justify_content": null,
            "justify_items": null,
            "left": null,
            "margin": null,
            "max_height": null,
            "max_width": null,
            "min_height": null,
            "min_width": null,
            "object_fit": null,
            "object_position": null,
            "order": null,
            "overflow": null,
            "overflow_x": null,
            "overflow_y": null,
            "padding": null,
            "right": null,
            "top": null,
            "visibility": null,
            "width": null
          }
        },
        "dbfd4fa4789f42c1af39e0b25a6de03d": {
          "model_module": "@jupyter-widgets/controls",
          "model_name": "ProgressStyleModel",
          "model_module_version": "1.5.0",
          "state": {
            "_model_module": "@jupyter-widgets/controls",
            "_model_module_version": "1.5.0",
            "_model_name": "ProgressStyleModel",
            "_view_count": null,
            "_view_module": "@jupyter-widgets/base",
            "_view_module_version": "1.2.0",
            "_view_name": "StyleView",
            "bar_color": null,
            "description_width": ""
          }
        },
        "4216cd254fac4df295b42ddd1cdd362f": {
          "model_module": "@jupyter-widgets/controls",
          "model_name": "VBoxModel",
          "model_module_version": "1.5.0",
          "state": {
            "_dom_classes": [],
            "_model_module": "@jupyter-widgets/controls",
            "_model_module_version": "1.5.0",
            "_model_name": "VBoxModel",
            "_view_count": null,
            "_view_module": "@jupyter-widgets/controls",
            "_view_module_version": "1.5.0",
            "_view_name": "VBoxView",
            "box_style": "",
            "children": [
              "IPY_MODEL_296397fb42fe4b09bd08ec8976860e5c",
              "IPY_MODEL_95c866bdacef4e0aadb5d952ef7546a0"
            ],
            "layout": "IPY_MODEL_8502fb34618d4e0c960819b5548c23ff"
          }
        },
        "296397fb42fe4b09bd08ec8976860e5c": {
          "model_module": "@jupyter-widgets/controls",
          "model_name": "LabelModel",
          "model_module_version": "1.5.0",
          "state": {
            "_dom_classes": [],
            "_model_module": "@jupyter-widgets/controls",
            "_model_module_version": "1.5.0",
            "_model_name": "LabelModel",
            "_view_count": null,
            "_view_module": "@jupyter-widgets/controls",
            "_view_module_version": "1.5.0",
            "_view_name": "LabelView",
            "description": "",
            "description_tooltip": null,
            "layout": "IPY_MODEL_84d241a5088f4d82b51b38dd50bce11b",
            "placeholder": "​",
            "style": "IPY_MODEL_ee1cebdb107c4480bea394702998555d",
            "value": "0.017 MB of 0.017 MB uploaded (0.000 MB deduped)\r"
          }
        },
        "95c866bdacef4e0aadb5d952ef7546a0": {
          "model_module": "@jupyter-widgets/controls",
          "model_name": "FloatProgressModel",
          "model_module_version": "1.5.0",
          "state": {
            "_dom_classes": [],
            "_model_module": "@jupyter-widgets/controls",
            "_model_module_version": "1.5.0",
            "_model_name": "FloatProgressModel",
            "_view_count": null,
            "_view_module": "@jupyter-widgets/controls",
            "_view_module_version": "1.5.0",
            "_view_name": "ProgressView",
            "bar_style": "",
            "description": "",
            "description_tooltip": null,
            "layout": "IPY_MODEL_862a655784484d0b9a8f5440395482b5",
            "max": 1,
            "min": 0,
            "orientation": "horizontal",
            "style": "IPY_MODEL_2ff8cb6877ae4c78a16fa330c6088338",
            "value": 1
          }
        },
        "8502fb34618d4e0c960819b5548c23ff": {
          "model_module": "@jupyter-widgets/base",
          "model_name": "LayoutModel",
          "model_module_version": "1.2.0",
          "state": {
            "_model_module": "@jupyter-widgets/base",
            "_model_module_version": "1.2.0",
            "_model_name": "LayoutModel",
            "_view_count": null,
            "_view_module": "@jupyter-widgets/base",
            "_view_module_version": "1.2.0",
            "_view_name": "LayoutView",
            "align_content": null,
            "align_items": null,
            "align_self": null,
            "border": null,
            "bottom": null,
            "display": null,
            "flex": null,
            "flex_flow": null,
            "grid_area": null,
            "grid_auto_columns": null,
            "grid_auto_flow": null,
            "grid_auto_rows": null,
            "grid_column": null,
            "grid_gap": null,
            "grid_row": null,
            "grid_template_areas": null,
            "grid_template_columns": null,
            "grid_template_rows": null,
            "height": null,
            "justify_content": null,
            "justify_items": null,
            "left": null,
            "margin": null,
            "max_height": null,
            "max_width": null,
            "min_height": null,
            "min_width": null,
            "object_fit": null,
            "object_position": null,
            "order": null,
            "overflow": null,
            "overflow_x": null,
            "overflow_y": null,
            "padding": null,
            "right": null,
            "top": null,
            "visibility": null,
            "width": null
          }
        },
        "84d241a5088f4d82b51b38dd50bce11b": {
          "model_module": "@jupyter-widgets/base",
          "model_name": "LayoutModel",
          "model_module_version": "1.2.0",
          "state": {
            "_model_module": "@jupyter-widgets/base",
            "_model_module_version": "1.2.0",
            "_model_name": "LayoutModel",
            "_view_count": null,
            "_view_module": "@jupyter-widgets/base",
            "_view_module_version": "1.2.0",
            "_view_name": "LayoutView",
            "align_content": null,
            "align_items": null,
            "align_self": null,
            "border": null,
            "bottom": null,
            "display": null,
            "flex": null,
            "flex_flow": null,
            "grid_area": null,
            "grid_auto_columns": null,
            "grid_auto_flow": null,
            "grid_auto_rows": null,
            "grid_column": null,
            "grid_gap": null,
            "grid_row": null,
            "grid_template_areas": null,
            "grid_template_columns": null,
            "grid_template_rows": null,
            "height": null,
            "justify_content": null,
            "justify_items": null,
            "left": null,
            "margin": null,
            "max_height": null,
            "max_width": null,
            "min_height": null,
            "min_width": null,
            "object_fit": null,
            "object_position": null,
            "order": null,
            "overflow": null,
            "overflow_x": null,
            "overflow_y": null,
            "padding": null,
            "right": null,
            "top": null,
            "visibility": null,
            "width": null
          }
        },
        "ee1cebdb107c4480bea394702998555d": {
          "model_module": "@jupyter-widgets/controls",
          "model_name": "DescriptionStyleModel",
          "model_module_version": "1.5.0",
          "state": {
            "_model_module": "@jupyter-widgets/controls",
            "_model_module_version": "1.5.0",
            "_model_name": "DescriptionStyleModel",
            "_view_count": null,
            "_view_module": "@jupyter-widgets/base",
            "_view_module_version": "1.2.0",
            "_view_name": "StyleView",
            "description_width": ""
          }
        },
        "862a655784484d0b9a8f5440395482b5": {
          "model_module": "@jupyter-widgets/base",
          "model_name": "LayoutModel",
          "model_module_version": "1.2.0",
          "state": {
            "_model_module": "@jupyter-widgets/base",
            "_model_module_version": "1.2.0",
            "_model_name": "LayoutModel",
            "_view_count": null,
            "_view_module": "@jupyter-widgets/base",
            "_view_module_version": "1.2.0",
            "_view_name": "LayoutView",
            "align_content": null,
            "align_items": null,
            "align_self": null,
            "border": null,
            "bottom": null,
            "display": null,
            "flex": null,
            "flex_flow": null,
            "grid_area": null,
            "grid_auto_columns": null,
            "grid_auto_flow": null,
            "grid_auto_rows": null,
            "grid_column": null,
            "grid_gap": null,
            "grid_row": null,
            "grid_template_areas": null,
            "grid_template_columns": null,
            "grid_template_rows": null,
            "height": null,
            "justify_content": null,
            "justify_items": null,
            "left": null,
            "margin": null,
            "max_height": null,
            "max_width": null,
            "min_height": null,
            "min_width": null,
            "object_fit": null,
            "object_position": null,
            "order": null,
            "overflow": null,
            "overflow_x": null,
            "overflow_y": null,
            "padding": null,
            "right": null,
            "top": null,
            "visibility": null,
            "width": null
          }
        },
        "2ff8cb6877ae4c78a16fa330c6088338": {
          "model_module": "@jupyter-widgets/controls",
          "model_name": "ProgressStyleModel",
          "model_module_version": "1.5.0",
          "state": {
            "_model_module": "@jupyter-widgets/controls",
            "_model_module_version": "1.5.0",
            "_model_name": "ProgressStyleModel",
            "_view_count": null,
            "_view_module": "@jupyter-widgets/base",
            "_view_module_version": "1.2.0",
            "_view_name": "StyleView",
            "bar_color": null,
            "description_width": ""
          }
        },
        "ee565fbcb0c348a097224341a6fac28e": {
          "model_module": "@jupyter-widgets/controls",
          "model_name": "VBoxModel",
          "model_module_version": "1.5.0",
          "state": {
            "_dom_classes": [],
            "_model_module": "@jupyter-widgets/controls",
            "_model_module_version": "1.5.0",
            "_model_name": "VBoxModel",
            "_view_count": null,
            "_view_module": "@jupyter-widgets/controls",
            "_view_module_version": "1.5.0",
            "_view_name": "VBoxView",
            "box_style": "",
            "children": [
              "IPY_MODEL_b63f79c6920f4bd4be03abc82a23cf5b",
              "IPY_MODEL_a89d7ace3a0647b8b343b7fed08a85ad"
            ],
            "layout": "IPY_MODEL_35ccc6a0fb864370b13adac631bd83d8"
          }
        },
        "b63f79c6920f4bd4be03abc82a23cf5b": {
          "model_module": "@jupyter-widgets/controls",
          "model_name": "LabelModel",
          "model_module_version": "1.5.0",
          "state": {
            "_dom_classes": [],
            "_model_module": "@jupyter-widgets/controls",
            "_model_module_version": "1.5.0",
            "_model_name": "LabelModel",
            "_view_count": null,
            "_view_module": "@jupyter-widgets/controls",
            "_view_module_version": "1.5.0",
            "_view_name": "LabelView",
            "description": "",
            "description_tooltip": null,
            "layout": "IPY_MODEL_e46a5c0926d349218b4b8e61710acb31",
            "placeholder": "​",
            "style": "IPY_MODEL_02c93608cccd402bb4de18da0e91eb79",
            "value": "0.017 MB of 0.017 MB uploaded (0.000 MB deduped)\r"
          }
        },
        "a89d7ace3a0647b8b343b7fed08a85ad": {
          "model_module": "@jupyter-widgets/controls",
          "model_name": "FloatProgressModel",
          "model_module_version": "1.5.0",
          "state": {
            "_dom_classes": [],
            "_model_module": "@jupyter-widgets/controls",
            "_model_module_version": "1.5.0",
            "_model_name": "FloatProgressModel",
            "_view_count": null,
            "_view_module": "@jupyter-widgets/controls",
            "_view_module_version": "1.5.0",
            "_view_name": "ProgressView",
            "bar_style": "",
            "description": "",
            "description_tooltip": null,
            "layout": "IPY_MODEL_f2946b34347f4393abf4d72585855670",
            "max": 1,
            "min": 0,
            "orientation": "horizontal",
            "style": "IPY_MODEL_f3fa2e4730e5482ba6ea3fafa2cb2eb7",
            "value": 1
          }
        },
        "35ccc6a0fb864370b13adac631bd83d8": {
          "model_module": "@jupyter-widgets/base",
          "model_name": "LayoutModel",
          "model_module_version": "1.2.0",
          "state": {
            "_model_module": "@jupyter-widgets/base",
            "_model_module_version": "1.2.0",
            "_model_name": "LayoutModel",
            "_view_count": null,
            "_view_module": "@jupyter-widgets/base",
            "_view_module_version": "1.2.0",
            "_view_name": "LayoutView",
            "align_content": null,
            "align_items": null,
            "align_self": null,
            "border": null,
            "bottom": null,
            "display": null,
            "flex": null,
            "flex_flow": null,
            "grid_area": null,
            "grid_auto_columns": null,
            "grid_auto_flow": null,
            "grid_auto_rows": null,
            "grid_column": null,
            "grid_gap": null,
            "grid_row": null,
            "grid_template_areas": null,
            "grid_template_columns": null,
            "grid_template_rows": null,
            "height": null,
            "justify_content": null,
            "justify_items": null,
            "left": null,
            "margin": null,
            "max_height": null,
            "max_width": null,
            "min_height": null,
            "min_width": null,
            "object_fit": null,
            "object_position": null,
            "order": null,
            "overflow": null,
            "overflow_x": null,
            "overflow_y": null,
            "padding": null,
            "right": null,
            "top": null,
            "visibility": null,
            "width": null
          }
        },
        "e46a5c0926d349218b4b8e61710acb31": {
          "model_module": "@jupyter-widgets/base",
          "model_name": "LayoutModel",
          "model_module_version": "1.2.0",
          "state": {
            "_model_module": "@jupyter-widgets/base",
            "_model_module_version": "1.2.0",
            "_model_name": "LayoutModel",
            "_view_count": null,
            "_view_module": "@jupyter-widgets/base",
            "_view_module_version": "1.2.0",
            "_view_name": "LayoutView",
            "align_content": null,
            "align_items": null,
            "align_self": null,
            "border": null,
            "bottom": null,
            "display": null,
            "flex": null,
            "flex_flow": null,
            "grid_area": null,
            "grid_auto_columns": null,
            "grid_auto_flow": null,
            "grid_auto_rows": null,
            "grid_column": null,
            "grid_gap": null,
            "grid_row": null,
            "grid_template_areas": null,
            "grid_template_columns": null,
            "grid_template_rows": null,
            "height": null,
            "justify_content": null,
            "justify_items": null,
            "left": null,
            "margin": null,
            "max_height": null,
            "max_width": null,
            "min_height": null,
            "min_width": null,
            "object_fit": null,
            "object_position": null,
            "order": null,
            "overflow": null,
            "overflow_x": null,
            "overflow_y": null,
            "padding": null,
            "right": null,
            "top": null,
            "visibility": null,
            "width": null
          }
        },
        "02c93608cccd402bb4de18da0e91eb79": {
          "model_module": "@jupyter-widgets/controls",
          "model_name": "DescriptionStyleModel",
          "model_module_version": "1.5.0",
          "state": {
            "_model_module": "@jupyter-widgets/controls",
            "_model_module_version": "1.5.0",
            "_model_name": "DescriptionStyleModel",
            "_view_count": null,
            "_view_module": "@jupyter-widgets/base",
            "_view_module_version": "1.2.0",
            "_view_name": "StyleView",
            "description_width": ""
          }
        },
        "f2946b34347f4393abf4d72585855670": {
          "model_module": "@jupyter-widgets/base",
          "model_name": "LayoutModel",
          "model_module_version": "1.2.0",
          "state": {
            "_model_module": "@jupyter-widgets/base",
            "_model_module_version": "1.2.0",
            "_model_name": "LayoutModel",
            "_view_count": null,
            "_view_module": "@jupyter-widgets/base",
            "_view_module_version": "1.2.0",
            "_view_name": "LayoutView",
            "align_content": null,
            "align_items": null,
            "align_self": null,
            "border": null,
            "bottom": null,
            "display": null,
            "flex": null,
            "flex_flow": null,
            "grid_area": null,
            "grid_auto_columns": null,
            "grid_auto_flow": null,
            "grid_auto_rows": null,
            "grid_column": null,
            "grid_gap": null,
            "grid_row": null,
            "grid_template_areas": null,
            "grid_template_columns": null,
            "grid_template_rows": null,
            "height": null,
            "justify_content": null,
            "justify_items": null,
            "left": null,
            "margin": null,
            "max_height": null,
            "max_width": null,
            "min_height": null,
            "min_width": null,
            "object_fit": null,
            "object_position": null,
            "order": null,
            "overflow": null,
            "overflow_x": null,
            "overflow_y": null,
            "padding": null,
            "right": null,
            "top": null,
            "visibility": null,
            "width": null
          }
        },
        "f3fa2e4730e5482ba6ea3fafa2cb2eb7": {
          "model_module": "@jupyter-widgets/controls",
          "model_name": "ProgressStyleModel",
          "model_module_version": "1.5.0",
          "state": {
            "_model_module": "@jupyter-widgets/controls",
            "_model_module_version": "1.5.0",
            "_model_name": "ProgressStyleModel",
            "_view_count": null,
            "_view_module": "@jupyter-widgets/base",
            "_view_module_version": "1.2.0",
            "_view_name": "StyleView",
            "bar_color": null,
            "description_width": ""
          }
        },
        "4ebca9d28e4d47f69cd2acd73f697352": {
          "model_module": "@jupyter-widgets/controls",
          "model_name": "VBoxModel",
          "model_module_version": "1.5.0",
          "state": {
            "_dom_classes": [],
            "_model_module": "@jupyter-widgets/controls",
            "_model_module_version": "1.5.0",
            "_model_name": "VBoxModel",
            "_view_count": null,
            "_view_module": "@jupyter-widgets/controls",
            "_view_module_version": "1.5.0",
            "_view_name": "VBoxView",
            "box_style": "",
            "children": [
              "IPY_MODEL_027b913df4f647f19810efe67f3543d1",
              "IPY_MODEL_db8f1324e1c54374a759b66064f31f17"
            ],
            "layout": "IPY_MODEL_c9a65e011da24f72af858ce125e1704f"
          }
        },
        "027b913df4f647f19810efe67f3543d1": {
          "model_module": "@jupyter-widgets/controls",
          "model_name": "LabelModel",
          "model_module_version": "1.5.0",
          "state": {
            "_dom_classes": [],
            "_model_module": "@jupyter-widgets/controls",
            "_model_module_version": "1.5.0",
            "_model_name": "LabelModel",
            "_view_count": null,
            "_view_module": "@jupyter-widgets/controls",
            "_view_module_version": "1.5.0",
            "_view_name": "LabelView",
            "description": "",
            "description_tooltip": null,
            "layout": "IPY_MODEL_14027af3cfdf45189775869b7c4fb9fe",
            "placeholder": "​",
            "style": "IPY_MODEL_dc51b30cbace407faac0a1c44edf8c48",
            "value": "0.017 MB of 0.017 MB uploaded (0.000 MB deduped)\r"
          }
        },
        "db8f1324e1c54374a759b66064f31f17": {
          "model_module": "@jupyter-widgets/controls",
          "model_name": "FloatProgressModel",
          "model_module_version": "1.5.0",
          "state": {
            "_dom_classes": [],
            "_model_module": "@jupyter-widgets/controls",
            "_model_module_version": "1.5.0",
            "_model_name": "FloatProgressModel",
            "_view_count": null,
            "_view_module": "@jupyter-widgets/controls",
            "_view_module_version": "1.5.0",
            "_view_name": "ProgressView",
            "bar_style": "",
            "description": "",
            "description_tooltip": null,
            "layout": "IPY_MODEL_2f516efd502647d790a7514184edcf07",
            "max": 1,
            "min": 0,
            "orientation": "horizontal",
            "style": "IPY_MODEL_9ca72e124643433b8496e8a8b6c927f2",
            "value": 1
          }
        },
        "c9a65e011da24f72af858ce125e1704f": {
          "model_module": "@jupyter-widgets/base",
          "model_name": "LayoutModel",
          "model_module_version": "1.2.0",
          "state": {
            "_model_module": "@jupyter-widgets/base",
            "_model_module_version": "1.2.0",
            "_model_name": "LayoutModel",
            "_view_count": null,
            "_view_module": "@jupyter-widgets/base",
            "_view_module_version": "1.2.0",
            "_view_name": "LayoutView",
            "align_content": null,
            "align_items": null,
            "align_self": null,
            "border": null,
            "bottom": null,
            "display": null,
            "flex": null,
            "flex_flow": null,
            "grid_area": null,
            "grid_auto_columns": null,
            "grid_auto_flow": null,
            "grid_auto_rows": null,
            "grid_column": null,
            "grid_gap": null,
            "grid_row": null,
            "grid_template_areas": null,
            "grid_template_columns": null,
            "grid_template_rows": null,
            "height": null,
            "justify_content": null,
            "justify_items": null,
            "left": null,
            "margin": null,
            "max_height": null,
            "max_width": null,
            "min_height": null,
            "min_width": null,
            "object_fit": null,
            "object_position": null,
            "order": null,
            "overflow": null,
            "overflow_x": null,
            "overflow_y": null,
            "padding": null,
            "right": null,
            "top": null,
            "visibility": null,
            "width": null
          }
        },
        "14027af3cfdf45189775869b7c4fb9fe": {
          "model_module": "@jupyter-widgets/base",
          "model_name": "LayoutModel",
          "model_module_version": "1.2.0",
          "state": {
            "_model_module": "@jupyter-widgets/base",
            "_model_module_version": "1.2.0",
            "_model_name": "LayoutModel",
            "_view_count": null,
            "_view_module": "@jupyter-widgets/base",
            "_view_module_version": "1.2.0",
            "_view_name": "LayoutView",
            "align_content": null,
            "align_items": null,
            "align_self": null,
            "border": null,
            "bottom": null,
            "display": null,
            "flex": null,
            "flex_flow": null,
            "grid_area": null,
            "grid_auto_columns": null,
            "grid_auto_flow": null,
            "grid_auto_rows": null,
            "grid_column": null,
            "grid_gap": null,
            "grid_row": null,
            "grid_template_areas": null,
            "grid_template_columns": null,
            "grid_template_rows": null,
            "height": null,
            "justify_content": null,
            "justify_items": null,
            "left": null,
            "margin": null,
            "max_height": null,
            "max_width": null,
            "min_height": null,
            "min_width": null,
            "object_fit": null,
            "object_position": null,
            "order": null,
            "overflow": null,
            "overflow_x": null,
            "overflow_y": null,
            "padding": null,
            "right": null,
            "top": null,
            "visibility": null,
            "width": null
          }
        },
        "dc51b30cbace407faac0a1c44edf8c48": {
          "model_module": "@jupyter-widgets/controls",
          "model_name": "DescriptionStyleModel",
          "model_module_version": "1.5.0",
          "state": {
            "_model_module": "@jupyter-widgets/controls",
            "_model_module_version": "1.5.0",
            "_model_name": "DescriptionStyleModel",
            "_view_count": null,
            "_view_module": "@jupyter-widgets/base",
            "_view_module_version": "1.2.0",
            "_view_name": "StyleView",
            "description_width": ""
          }
        },
        "2f516efd502647d790a7514184edcf07": {
          "model_module": "@jupyter-widgets/base",
          "model_name": "LayoutModel",
          "model_module_version": "1.2.0",
          "state": {
            "_model_module": "@jupyter-widgets/base",
            "_model_module_version": "1.2.0",
            "_model_name": "LayoutModel",
            "_view_count": null,
            "_view_module": "@jupyter-widgets/base",
            "_view_module_version": "1.2.0",
            "_view_name": "LayoutView",
            "align_content": null,
            "align_items": null,
            "align_self": null,
            "border": null,
            "bottom": null,
            "display": null,
            "flex": null,
            "flex_flow": null,
            "grid_area": null,
            "grid_auto_columns": null,
            "grid_auto_flow": null,
            "grid_auto_rows": null,
            "grid_column": null,
            "grid_gap": null,
            "grid_row": null,
            "grid_template_areas": null,
            "grid_template_columns": null,
            "grid_template_rows": null,
            "height": null,
            "justify_content": null,
            "justify_items": null,
            "left": null,
            "margin": null,
            "max_height": null,
            "max_width": null,
            "min_height": null,
            "min_width": null,
            "object_fit": null,
            "object_position": null,
            "order": null,
            "overflow": null,
            "overflow_x": null,
            "overflow_y": null,
            "padding": null,
            "right": null,
            "top": null,
            "visibility": null,
            "width": null
          }
        },
        "9ca72e124643433b8496e8a8b6c927f2": {
          "model_module": "@jupyter-widgets/controls",
          "model_name": "ProgressStyleModel",
          "model_module_version": "1.5.0",
          "state": {
            "_model_module": "@jupyter-widgets/controls",
            "_model_module_version": "1.5.0",
            "_model_name": "ProgressStyleModel",
            "_view_count": null,
            "_view_module": "@jupyter-widgets/base",
            "_view_module_version": "1.2.0",
            "_view_name": "StyleView",
            "bar_color": null,
            "description_width": ""
          }
        },
        "b7e25ac09a424d9793c551bf55917613": {
          "model_module": "@jupyter-widgets/controls",
          "model_name": "VBoxModel",
          "model_module_version": "1.5.0",
          "state": {
            "_dom_classes": [],
            "_model_module": "@jupyter-widgets/controls",
            "_model_module_version": "1.5.0",
            "_model_name": "VBoxModel",
            "_view_count": null,
            "_view_module": "@jupyter-widgets/controls",
            "_view_module_version": "1.5.0",
            "_view_name": "VBoxView",
            "box_style": "",
            "children": [
              "IPY_MODEL_ea1712dbed4f472ba03bfb03fa227022",
              "IPY_MODEL_07f71d2354334dfb894871af93c6f15f"
            ],
            "layout": "IPY_MODEL_b3f32b2bfe8a4fb5a6174d4ffa09823c"
          }
        },
        "ea1712dbed4f472ba03bfb03fa227022": {
          "model_module": "@jupyter-widgets/controls",
          "model_name": "LabelModel",
          "model_module_version": "1.5.0",
          "state": {
            "_dom_classes": [],
            "_model_module": "@jupyter-widgets/controls",
            "_model_module_version": "1.5.0",
            "_model_name": "LabelModel",
            "_view_count": null,
            "_view_module": "@jupyter-widgets/controls",
            "_view_module_version": "1.5.0",
            "_view_name": "LabelView",
            "description": "",
            "description_tooltip": null,
            "layout": "IPY_MODEL_d82877dbb04348f08efb38daa0a26883",
            "placeholder": "​",
            "style": "IPY_MODEL_1af2f71fb7894fb29605720b8fd72c83",
            "value": "0.017 MB of 0.017 MB uploaded (0.000 MB deduped)\r"
          }
        },
        "07f71d2354334dfb894871af93c6f15f": {
          "model_module": "@jupyter-widgets/controls",
          "model_name": "FloatProgressModel",
          "model_module_version": "1.5.0",
          "state": {
            "_dom_classes": [],
            "_model_module": "@jupyter-widgets/controls",
            "_model_module_version": "1.5.0",
            "_model_name": "FloatProgressModel",
            "_view_count": null,
            "_view_module": "@jupyter-widgets/controls",
            "_view_module_version": "1.5.0",
            "_view_name": "ProgressView",
            "bar_style": "",
            "description": "",
            "description_tooltip": null,
            "layout": "IPY_MODEL_65bed8c660474036b6ef456cc5d45e01",
            "max": 1,
            "min": 0,
            "orientation": "horizontal",
            "style": "IPY_MODEL_8f942825b8904d90bf179a8c03958c05",
            "value": 1
          }
        },
        "b3f32b2bfe8a4fb5a6174d4ffa09823c": {
          "model_module": "@jupyter-widgets/base",
          "model_name": "LayoutModel",
          "model_module_version": "1.2.0",
          "state": {
            "_model_module": "@jupyter-widgets/base",
            "_model_module_version": "1.2.0",
            "_model_name": "LayoutModel",
            "_view_count": null,
            "_view_module": "@jupyter-widgets/base",
            "_view_module_version": "1.2.0",
            "_view_name": "LayoutView",
            "align_content": null,
            "align_items": null,
            "align_self": null,
            "border": null,
            "bottom": null,
            "display": null,
            "flex": null,
            "flex_flow": null,
            "grid_area": null,
            "grid_auto_columns": null,
            "grid_auto_flow": null,
            "grid_auto_rows": null,
            "grid_column": null,
            "grid_gap": null,
            "grid_row": null,
            "grid_template_areas": null,
            "grid_template_columns": null,
            "grid_template_rows": null,
            "height": null,
            "justify_content": null,
            "justify_items": null,
            "left": null,
            "margin": null,
            "max_height": null,
            "max_width": null,
            "min_height": null,
            "min_width": null,
            "object_fit": null,
            "object_position": null,
            "order": null,
            "overflow": null,
            "overflow_x": null,
            "overflow_y": null,
            "padding": null,
            "right": null,
            "top": null,
            "visibility": null,
            "width": null
          }
        },
        "d82877dbb04348f08efb38daa0a26883": {
          "model_module": "@jupyter-widgets/base",
          "model_name": "LayoutModel",
          "model_module_version": "1.2.0",
          "state": {
            "_model_module": "@jupyter-widgets/base",
            "_model_module_version": "1.2.0",
            "_model_name": "LayoutModel",
            "_view_count": null,
            "_view_module": "@jupyter-widgets/base",
            "_view_module_version": "1.2.0",
            "_view_name": "LayoutView",
            "align_content": null,
            "align_items": null,
            "align_self": null,
            "border": null,
            "bottom": null,
            "display": null,
            "flex": null,
            "flex_flow": null,
            "grid_area": null,
            "grid_auto_columns": null,
            "grid_auto_flow": null,
            "grid_auto_rows": null,
            "grid_column": null,
            "grid_gap": null,
            "grid_row": null,
            "grid_template_areas": null,
            "grid_template_columns": null,
            "grid_template_rows": null,
            "height": null,
            "justify_content": null,
            "justify_items": null,
            "left": null,
            "margin": null,
            "max_height": null,
            "max_width": null,
            "min_height": null,
            "min_width": null,
            "object_fit": null,
            "object_position": null,
            "order": null,
            "overflow": null,
            "overflow_x": null,
            "overflow_y": null,
            "padding": null,
            "right": null,
            "top": null,
            "visibility": null,
            "width": null
          }
        },
        "1af2f71fb7894fb29605720b8fd72c83": {
          "model_module": "@jupyter-widgets/controls",
          "model_name": "DescriptionStyleModel",
          "model_module_version": "1.5.0",
          "state": {
            "_model_module": "@jupyter-widgets/controls",
            "_model_module_version": "1.5.0",
            "_model_name": "DescriptionStyleModel",
            "_view_count": null,
            "_view_module": "@jupyter-widgets/base",
            "_view_module_version": "1.2.0",
            "_view_name": "StyleView",
            "description_width": ""
          }
        },
        "65bed8c660474036b6ef456cc5d45e01": {
          "model_module": "@jupyter-widgets/base",
          "model_name": "LayoutModel",
          "model_module_version": "1.2.0",
          "state": {
            "_model_module": "@jupyter-widgets/base",
            "_model_module_version": "1.2.0",
            "_model_name": "LayoutModel",
            "_view_count": null,
            "_view_module": "@jupyter-widgets/base",
            "_view_module_version": "1.2.0",
            "_view_name": "LayoutView",
            "align_content": null,
            "align_items": null,
            "align_self": null,
            "border": null,
            "bottom": null,
            "display": null,
            "flex": null,
            "flex_flow": null,
            "grid_area": null,
            "grid_auto_columns": null,
            "grid_auto_flow": null,
            "grid_auto_rows": null,
            "grid_column": null,
            "grid_gap": null,
            "grid_row": null,
            "grid_template_areas": null,
            "grid_template_columns": null,
            "grid_template_rows": null,
            "height": null,
            "justify_content": null,
            "justify_items": null,
            "left": null,
            "margin": null,
            "max_height": null,
            "max_width": null,
            "min_height": null,
            "min_width": null,
            "object_fit": null,
            "object_position": null,
            "order": null,
            "overflow": null,
            "overflow_x": null,
            "overflow_y": null,
            "padding": null,
            "right": null,
            "top": null,
            "visibility": null,
            "width": null
          }
        },
        "8f942825b8904d90bf179a8c03958c05": {
          "model_module": "@jupyter-widgets/controls",
          "model_name": "ProgressStyleModel",
          "model_module_version": "1.5.0",
          "state": {
            "_model_module": "@jupyter-widgets/controls",
            "_model_module_version": "1.5.0",
            "_model_name": "ProgressStyleModel",
            "_view_count": null,
            "_view_module": "@jupyter-widgets/base",
            "_view_module_version": "1.2.0",
            "_view_name": "StyleView",
            "bar_color": null,
            "description_width": ""
          }
        },
        "f73b385755a84ede867a87d6db1af1af": {
          "model_module": "@jupyter-widgets/controls",
          "model_name": "VBoxModel",
          "model_module_version": "1.5.0",
          "state": {
            "_dom_classes": [],
            "_model_module": "@jupyter-widgets/controls",
            "_model_module_version": "1.5.0",
            "_model_name": "VBoxModel",
            "_view_count": null,
            "_view_module": "@jupyter-widgets/controls",
            "_view_module_version": "1.5.0",
            "_view_name": "VBoxView",
            "box_style": "",
            "children": [
              "IPY_MODEL_8143337580a246de8f9ea6d344e214dc",
              "IPY_MODEL_13d81a1a67124e81bacbb94ff15dfd2b"
            ],
            "layout": "IPY_MODEL_2f53f38c384f4232bfa783cb23684a7e"
          }
        },
        "8143337580a246de8f9ea6d344e214dc": {
          "model_module": "@jupyter-widgets/controls",
          "model_name": "LabelModel",
          "model_module_version": "1.5.0",
          "state": {
            "_dom_classes": [],
            "_model_module": "@jupyter-widgets/controls",
            "_model_module_version": "1.5.0",
            "_model_name": "LabelModel",
            "_view_count": null,
            "_view_module": "@jupyter-widgets/controls",
            "_view_module_version": "1.5.0",
            "_view_name": "LabelView",
            "description": "",
            "description_tooltip": null,
            "layout": "IPY_MODEL_18b031b8386d428eb68889f612589f1b",
            "placeholder": "​",
            "style": "IPY_MODEL_e16ab705a2c548c1afbd86cc5a280c67",
            "value": "0.017 MB of 0.017 MB uploaded (0.000 MB deduped)\r"
          }
        },
        "13d81a1a67124e81bacbb94ff15dfd2b": {
          "model_module": "@jupyter-widgets/controls",
          "model_name": "FloatProgressModel",
          "model_module_version": "1.5.0",
          "state": {
            "_dom_classes": [],
            "_model_module": "@jupyter-widgets/controls",
            "_model_module_version": "1.5.0",
            "_model_name": "FloatProgressModel",
            "_view_count": null,
            "_view_module": "@jupyter-widgets/controls",
            "_view_module_version": "1.5.0",
            "_view_name": "ProgressView",
            "bar_style": "",
            "description": "",
            "description_tooltip": null,
            "layout": "IPY_MODEL_b6a6aa636b2b4fc69217b35c34aa8af3",
            "max": 1,
            "min": 0,
            "orientation": "horizontal",
            "style": "IPY_MODEL_01d90e91a68d45b38946fb10d8c84a8b",
            "value": 1
          }
        },
        "2f53f38c384f4232bfa783cb23684a7e": {
          "model_module": "@jupyter-widgets/base",
          "model_name": "LayoutModel",
          "model_module_version": "1.2.0",
          "state": {
            "_model_module": "@jupyter-widgets/base",
            "_model_module_version": "1.2.0",
            "_model_name": "LayoutModel",
            "_view_count": null,
            "_view_module": "@jupyter-widgets/base",
            "_view_module_version": "1.2.0",
            "_view_name": "LayoutView",
            "align_content": null,
            "align_items": null,
            "align_self": null,
            "border": null,
            "bottom": null,
            "display": null,
            "flex": null,
            "flex_flow": null,
            "grid_area": null,
            "grid_auto_columns": null,
            "grid_auto_flow": null,
            "grid_auto_rows": null,
            "grid_column": null,
            "grid_gap": null,
            "grid_row": null,
            "grid_template_areas": null,
            "grid_template_columns": null,
            "grid_template_rows": null,
            "height": null,
            "justify_content": null,
            "justify_items": null,
            "left": null,
            "margin": null,
            "max_height": null,
            "max_width": null,
            "min_height": null,
            "min_width": null,
            "object_fit": null,
            "object_position": null,
            "order": null,
            "overflow": null,
            "overflow_x": null,
            "overflow_y": null,
            "padding": null,
            "right": null,
            "top": null,
            "visibility": null,
            "width": null
          }
        },
        "18b031b8386d428eb68889f612589f1b": {
          "model_module": "@jupyter-widgets/base",
          "model_name": "LayoutModel",
          "model_module_version": "1.2.0",
          "state": {
            "_model_module": "@jupyter-widgets/base",
            "_model_module_version": "1.2.0",
            "_model_name": "LayoutModel",
            "_view_count": null,
            "_view_module": "@jupyter-widgets/base",
            "_view_module_version": "1.2.0",
            "_view_name": "LayoutView",
            "align_content": null,
            "align_items": null,
            "align_self": null,
            "border": null,
            "bottom": null,
            "display": null,
            "flex": null,
            "flex_flow": null,
            "grid_area": null,
            "grid_auto_columns": null,
            "grid_auto_flow": null,
            "grid_auto_rows": null,
            "grid_column": null,
            "grid_gap": null,
            "grid_row": null,
            "grid_template_areas": null,
            "grid_template_columns": null,
            "grid_template_rows": null,
            "height": null,
            "justify_content": null,
            "justify_items": null,
            "left": null,
            "margin": null,
            "max_height": null,
            "max_width": null,
            "min_height": null,
            "min_width": null,
            "object_fit": null,
            "object_position": null,
            "order": null,
            "overflow": null,
            "overflow_x": null,
            "overflow_y": null,
            "padding": null,
            "right": null,
            "top": null,
            "visibility": null,
            "width": null
          }
        },
        "e16ab705a2c548c1afbd86cc5a280c67": {
          "model_module": "@jupyter-widgets/controls",
          "model_name": "DescriptionStyleModel",
          "model_module_version": "1.5.0",
          "state": {
            "_model_module": "@jupyter-widgets/controls",
            "_model_module_version": "1.5.0",
            "_model_name": "DescriptionStyleModel",
            "_view_count": null,
            "_view_module": "@jupyter-widgets/base",
            "_view_module_version": "1.2.0",
            "_view_name": "StyleView",
            "description_width": ""
          }
        },
        "b6a6aa636b2b4fc69217b35c34aa8af3": {
          "model_module": "@jupyter-widgets/base",
          "model_name": "LayoutModel",
          "model_module_version": "1.2.0",
          "state": {
            "_model_module": "@jupyter-widgets/base",
            "_model_module_version": "1.2.0",
            "_model_name": "LayoutModel",
            "_view_count": null,
            "_view_module": "@jupyter-widgets/base",
            "_view_module_version": "1.2.0",
            "_view_name": "LayoutView",
            "align_content": null,
            "align_items": null,
            "align_self": null,
            "border": null,
            "bottom": null,
            "display": null,
            "flex": null,
            "flex_flow": null,
            "grid_area": null,
            "grid_auto_columns": null,
            "grid_auto_flow": null,
            "grid_auto_rows": null,
            "grid_column": null,
            "grid_gap": null,
            "grid_row": null,
            "grid_template_areas": null,
            "grid_template_columns": null,
            "grid_template_rows": null,
            "height": null,
            "justify_content": null,
            "justify_items": null,
            "left": null,
            "margin": null,
            "max_height": null,
            "max_width": null,
            "min_height": null,
            "min_width": null,
            "object_fit": null,
            "object_position": null,
            "order": null,
            "overflow": null,
            "overflow_x": null,
            "overflow_y": null,
            "padding": null,
            "right": null,
            "top": null,
            "visibility": null,
            "width": null
          }
        },
        "01d90e91a68d45b38946fb10d8c84a8b": {
          "model_module": "@jupyter-widgets/controls",
          "model_name": "ProgressStyleModel",
          "model_module_version": "1.5.0",
          "state": {
            "_model_module": "@jupyter-widgets/controls",
            "_model_module_version": "1.5.0",
            "_model_name": "ProgressStyleModel",
            "_view_count": null,
            "_view_module": "@jupyter-widgets/base",
            "_view_module_version": "1.2.0",
            "_view_name": "StyleView",
            "bar_color": null,
            "description_width": ""
          }
        },
        "dca68def6456474abbc2b9bb0743b9f2": {
          "model_module": "@jupyter-widgets/controls",
          "model_name": "VBoxModel",
          "model_module_version": "1.5.0",
          "state": {
            "_dom_classes": [],
            "_model_module": "@jupyter-widgets/controls",
            "_model_module_version": "1.5.0",
            "_model_name": "VBoxModel",
            "_view_count": null,
            "_view_module": "@jupyter-widgets/controls",
            "_view_module_version": "1.5.0",
            "_view_name": "VBoxView",
            "box_style": "",
            "children": [
              "IPY_MODEL_29414a40488046e2be1df586beb07962",
              "IPY_MODEL_c6352701a2db469994ab0cac6e38b7fe"
            ],
            "layout": "IPY_MODEL_f6f8629238c44379823140e6a69c115e"
          }
        },
        "29414a40488046e2be1df586beb07962": {
          "model_module": "@jupyter-widgets/controls",
          "model_name": "LabelModel",
          "model_module_version": "1.5.0",
          "state": {
            "_dom_classes": [],
            "_model_module": "@jupyter-widgets/controls",
            "_model_module_version": "1.5.0",
            "_model_name": "LabelModel",
            "_view_count": null,
            "_view_module": "@jupyter-widgets/controls",
            "_view_module_version": "1.5.0",
            "_view_name": "LabelView",
            "description": "",
            "description_tooltip": null,
            "layout": "IPY_MODEL_74dd4758c21043b2be658cee02f37a5d",
            "placeholder": "​",
            "style": "IPY_MODEL_d6fa300b95ed4e1187792bc1cf90d510",
            "value": "0.017 MB of 0.017 MB uploaded (0.000 MB deduped)\r"
          }
        },
        "c6352701a2db469994ab0cac6e38b7fe": {
          "model_module": "@jupyter-widgets/controls",
          "model_name": "FloatProgressModel",
          "model_module_version": "1.5.0",
          "state": {
            "_dom_classes": [],
            "_model_module": "@jupyter-widgets/controls",
            "_model_module_version": "1.5.0",
            "_model_name": "FloatProgressModel",
            "_view_count": null,
            "_view_module": "@jupyter-widgets/controls",
            "_view_module_version": "1.5.0",
            "_view_name": "ProgressView",
            "bar_style": "",
            "description": "",
            "description_tooltip": null,
            "layout": "IPY_MODEL_9e2d086caf194dc7ab45dd0a02099466",
            "max": 1,
            "min": 0,
            "orientation": "horizontal",
            "style": "IPY_MODEL_1ad50e22404544d4be62539c0a08efed",
            "value": 1
          }
        },
        "f6f8629238c44379823140e6a69c115e": {
          "model_module": "@jupyter-widgets/base",
          "model_name": "LayoutModel",
          "model_module_version": "1.2.0",
          "state": {
            "_model_module": "@jupyter-widgets/base",
            "_model_module_version": "1.2.0",
            "_model_name": "LayoutModel",
            "_view_count": null,
            "_view_module": "@jupyter-widgets/base",
            "_view_module_version": "1.2.0",
            "_view_name": "LayoutView",
            "align_content": null,
            "align_items": null,
            "align_self": null,
            "border": null,
            "bottom": null,
            "display": null,
            "flex": null,
            "flex_flow": null,
            "grid_area": null,
            "grid_auto_columns": null,
            "grid_auto_flow": null,
            "grid_auto_rows": null,
            "grid_column": null,
            "grid_gap": null,
            "grid_row": null,
            "grid_template_areas": null,
            "grid_template_columns": null,
            "grid_template_rows": null,
            "height": null,
            "justify_content": null,
            "justify_items": null,
            "left": null,
            "margin": null,
            "max_height": null,
            "max_width": null,
            "min_height": null,
            "min_width": null,
            "object_fit": null,
            "object_position": null,
            "order": null,
            "overflow": null,
            "overflow_x": null,
            "overflow_y": null,
            "padding": null,
            "right": null,
            "top": null,
            "visibility": null,
            "width": null
          }
        },
        "74dd4758c21043b2be658cee02f37a5d": {
          "model_module": "@jupyter-widgets/base",
          "model_name": "LayoutModel",
          "model_module_version": "1.2.0",
          "state": {
            "_model_module": "@jupyter-widgets/base",
            "_model_module_version": "1.2.0",
            "_model_name": "LayoutModel",
            "_view_count": null,
            "_view_module": "@jupyter-widgets/base",
            "_view_module_version": "1.2.0",
            "_view_name": "LayoutView",
            "align_content": null,
            "align_items": null,
            "align_self": null,
            "border": null,
            "bottom": null,
            "display": null,
            "flex": null,
            "flex_flow": null,
            "grid_area": null,
            "grid_auto_columns": null,
            "grid_auto_flow": null,
            "grid_auto_rows": null,
            "grid_column": null,
            "grid_gap": null,
            "grid_row": null,
            "grid_template_areas": null,
            "grid_template_columns": null,
            "grid_template_rows": null,
            "height": null,
            "justify_content": null,
            "justify_items": null,
            "left": null,
            "margin": null,
            "max_height": null,
            "max_width": null,
            "min_height": null,
            "min_width": null,
            "object_fit": null,
            "object_position": null,
            "order": null,
            "overflow": null,
            "overflow_x": null,
            "overflow_y": null,
            "padding": null,
            "right": null,
            "top": null,
            "visibility": null,
            "width": null
          }
        },
        "d6fa300b95ed4e1187792bc1cf90d510": {
          "model_module": "@jupyter-widgets/controls",
          "model_name": "DescriptionStyleModel",
          "model_module_version": "1.5.0",
          "state": {
            "_model_module": "@jupyter-widgets/controls",
            "_model_module_version": "1.5.0",
            "_model_name": "DescriptionStyleModel",
            "_view_count": null,
            "_view_module": "@jupyter-widgets/base",
            "_view_module_version": "1.2.0",
            "_view_name": "StyleView",
            "description_width": ""
          }
        },
        "9e2d086caf194dc7ab45dd0a02099466": {
          "model_module": "@jupyter-widgets/base",
          "model_name": "LayoutModel",
          "model_module_version": "1.2.0",
          "state": {
            "_model_module": "@jupyter-widgets/base",
            "_model_module_version": "1.2.0",
            "_model_name": "LayoutModel",
            "_view_count": null,
            "_view_module": "@jupyter-widgets/base",
            "_view_module_version": "1.2.0",
            "_view_name": "LayoutView",
            "align_content": null,
            "align_items": null,
            "align_self": null,
            "border": null,
            "bottom": null,
            "display": null,
            "flex": null,
            "flex_flow": null,
            "grid_area": null,
            "grid_auto_columns": null,
            "grid_auto_flow": null,
            "grid_auto_rows": null,
            "grid_column": null,
            "grid_gap": null,
            "grid_row": null,
            "grid_template_areas": null,
            "grid_template_columns": null,
            "grid_template_rows": null,
            "height": null,
            "justify_content": null,
            "justify_items": null,
            "left": null,
            "margin": null,
            "max_height": null,
            "max_width": null,
            "min_height": null,
            "min_width": null,
            "object_fit": null,
            "object_position": null,
            "order": null,
            "overflow": null,
            "overflow_x": null,
            "overflow_y": null,
            "padding": null,
            "right": null,
            "top": null,
            "visibility": null,
            "width": null
          }
        },
        "1ad50e22404544d4be62539c0a08efed": {
          "model_module": "@jupyter-widgets/controls",
          "model_name": "ProgressStyleModel",
          "model_module_version": "1.5.0",
          "state": {
            "_model_module": "@jupyter-widgets/controls",
            "_model_module_version": "1.5.0",
            "_model_name": "ProgressStyleModel",
            "_view_count": null,
            "_view_module": "@jupyter-widgets/base",
            "_view_module_version": "1.2.0",
            "_view_name": "StyleView",
            "bar_color": null,
            "description_width": ""
          }
        }
      }
    }
  },
  "cells": [
    {
      "cell_type": "code",
      "source": [
        "!nvidia-smi"
      ],
      "metadata": {
        "colab": {
          "base_uri": "https://localhost:8080/"
        },
        "id": "8lZrET224lRa",
        "outputId": "407f94ca-38ca-4546-95e2-c55fd639b4dc"
      },
      "execution_count": 2,
      "outputs": [
        {
          "output_type": "stream",
          "name": "stdout",
          "text": [
            "Sat May  7 16:23:43 2022       \n",
            "+-----------------------------------------------------------------------------+\n",
            "| NVIDIA-SMI 460.32.03    Driver Version: 460.32.03    CUDA Version: 11.2     |\n",
            "|-------------------------------+----------------------+----------------------+\n",
            "| GPU  Name        Persistence-M| Bus-Id        Disp.A | Volatile Uncorr. ECC |\n",
            "| Fan  Temp  Perf  Pwr:Usage/Cap|         Memory-Usage | GPU-Util  Compute M. |\n",
            "|                               |                      |               MIG M. |\n",
            "|===============================+======================+======================|\n",
            "|   0  Tesla P100-PCIE...  Off  | 00000000:00:04.0 Off |                    0 |\n",
            "| N/A   61C    P0    31W / 250W |      0MiB / 16280MiB |      0%      Default |\n",
            "|                               |                      |                  N/A |\n",
            "+-------------------------------+----------------------+----------------------+\n",
            "                                                                               \n",
            "+-----------------------------------------------------------------------------+\n",
            "| Processes:                                                                  |\n",
            "|  GPU   GI   CI        PID   Type   Process name                  GPU Memory |\n",
            "|        ID   ID                                                   Usage      |\n",
            "|=============================================================================|\n",
            "|  No running processes found                                                 |\n",
            "+-----------------------------------------------------------------------------+\n"
          ]
        }
      ]
    },
    {
      "cell_type": "code",
      "source": [
        "from google.colab import drive\n",
        "drive.mount('cnontent/')"
      ],
      "metadata": {
        "colab": {
          "base_uri": "https://localhost:8080/"
        },
        "id": "jmP8SMuQHPTC",
        "outputId": "98bc62ca-33ab-4fd4-fb5c-38057890ba63"
      },
      "execution_count": 3,
      "outputs": [
        {
          "output_type": "stream",
          "name": "stdout",
          "text": [
            "Drive already mounted at cnontent/; to attempt to forcibly remount, call drive.mount(\"cnontent/\", force_remount=True).\n"
          ]
        }
      ]
    },
    {
      "cell_type": "code",
      "source": [
        "!pip install -q wandb"
      ],
      "metadata": {
        "id": "PMhhWhFCbYVn"
      },
      "execution_count": 4,
      "outputs": []
    },
    {
      "cell_type": "code",
      "source": [
        "!wandb login"
      ],
      "metadata": {
        "colab": {
          "base_uri": "https://localhost:8080/"
        },
        "id": "p5bigCo7bZrU",
        "outputId": "70923e63-2d79-4880-ecbb-20733e584d1e"
      },
      "execution_count": 5,
      "outputs": [
        {
          "output_type": "stream",
          "name": "stdout",
          "text": [
            "\u001b[34m\u001b[1mwandb\u001b[0m: Currently logged in as: \u001b[33mchanin-eom\u001b[0m. Use \u001b[1m`wandb login --relogin`\u001b[0m to force relogin\n"
          ]
        }
      ]
    },
    {
      "cell_type": "code",
      "source": [
        "import tqdm\n",
        "import tensorflow as tf\n",
        "from tensorflow import keras\n",
        "import pandas as pd\n",
        "import numpy as np\n",
        "import matplotlib.pyplot as plt\n",
        "import wandb\n",
        "from wandb.keras import WandbCallback\n",
        "import os\n",
        "from wandb.keras import WandbCallback\n",
        "import random\n",
        "%matplotlib inline"
      ],
      "metadata": {
        "id": "xPXCdFQvQmk-"
      },
      "execution_count": 6,
      "outputs": []
    },
    {
      "cell_type": "code",
      "source": [
        "cd /content/cnontent/MyDrive/SSU/nural_nework/project"
      ],
      "metadata": {
        "colab": {
          "base_uri": "https://localhost:8080/"
        },
        "id": "FKi1PDTnHd5d",
        "outputId": "7e993f25-8dda-479e-c404-7ca73a0d978f"
      },
      "execution_count": 7,
      "outputs": [
        {
          "output_type": "stream",
          "name": "stdout",
          "text": [
            "/content/cnontent/MyDrive/SSU/nural_nework/project\n"
          ]
        }
      ]
    },
    {
      "cell_type": "code",
      "source": [
        "def convert_data_csv_to_numpy(data, sorting = False): # pandas 통해 읽은 csv data numpy 형태로 변경\n",
        "  if sorting == True:\n",
        "    data = data.sort_values(by=[0], axis=0)\n",
        "\n",
        "  label = np.array(data[0]) # csv file 에서 0번째 colum은 index임\n",
        "  only_data = np.array(data.drop([0], axis = 1)).reshape((-1, 28, 28, 1)) # csv file에서 0번 째 colum 탈락 -> data만 남게 됨\n",
        "  # only_data = tf.convert_to_tensor(only_data, dtype=tf.float32)\n",
        "  return only_data, label"
      ],
      "metadata": {
        "id": "msyNP1janUEv"
      },
      "execution_count": 8,
      "outputs": []
    },
    {
      "cell_type": "code",
      "source": [
        "def print_lable_with_value(): # value 갑과 matching되는 label 값 출력\n",
        "  global label_value_list\n",
        "  label_value_list = []\n",
        "  for i in range(62):\n",
        "    if i <=9:\n",
        "      print(f\"label : {i}, value : {i}\")\n",
        "      label_value_list.append(f'{i}')\n",
        "    elif 10<=i<=35:\n",
        "      print(f\"label : {i}, value : {chr(i+55)}\")\n",
        "      label_value_list.append(f'{chr(i+55)}')\n",
        "    else:\n",
        "      print(f\"label : {i}, value : {chr(i+61)}\")\n",
        "      label_value_list.append(f'{chr(i+61)}')"
      ],
      "metadata": {
        "id": "e2zp5xYsph_2"
      },
      "execution_count": 9,
      "outputs": []
    },
    {
      "cell_type": "code",
      "source": [
        "def show_data_scheme(data, label, row = 4, col = 5, i = 1): # data 어떻게 생겼는지 plot\n",
        "  plt.figure(figsize = (11, 8))\n",
        "  for r in range(row):\n",
        "    for c in range(col):\n",
        "      plt.subplot(row, col, i)\n",
        "      plt.imshow(data[i,...,0], 'gray')\n",
        "      plt.axis('off')\n",
        "      plt.title(f'{label_value_list[label[i]]}')\n",
        "      i+=1\n",
        "  plt.show()"
      ],
      "metadata": {
        "id": "tA8RTcdtqMIr"
      },
      "execution_count": 10,
      "outputs": []
    },
    {
      "cell_type": "code",
      "source": [
        "def balanced_data(data, n_train=1000, val_rate = 0.2):\n",
        "  i, start=0,0\n",
        "  d_train = l_train = d_val = l_val= None\n",
        "  n_data_per_class = n_train\n",
        "  n_val_per_class = int(n_data_per_class*val_rate)\n",
        "\n",
        "\n",
        "  for idx, class_end in enumerate(border):\n",
        "    if i ==0:\n",
        "      val_end = n_data_per_class+n_val_per_class\n",
        "\n",
        "      d_train = data[:n_data_per_class].copy()\n",
        "      l_train = train_label[:n_data_per_class].copy()\n",
        "\n",
        "      d_val = data[n_data_per_class:val_end].copy()\n",
        "      l_val = train_label[n_data_per_class:val_end].copy()\n",
        "\n",
        "      i+=1\n",
        "    else:\n",
        "      train_end = start+n_data_per_class\n",
        "      val_end = train_end+n_val_per_class\n",
        "\n",
        "      now_d_data = data[start:train_end].copy()\n",
        "      now_l_train = train_label[start:train_end].copy()\n",
        "      d_train = np.concatenate((d_train, now_d_data))\n",
        "      l_train = np.concatenate((l_train, now_l_train))\n",
        "\n",
        "      now_d_val = data[train_end:val_end].copy()\n",
        "      now_l_val = train_label[train_end:val_end].copy()\n",
        "      d_val = np.concatenate((d_val, now_d_val))\n",
        "      l_val = np.concatenate((l_val, now_l_val))\n",
        "    start += class_end\n",
        "  return (d_train, l_train, d_val, l_val)"
      ],
      "metadata": {
        "id": "J1MikX9380dr"
      },
      "execution_count": 11,
      "outputs": []
    },
    {
      "cell_type": "code",
      "source": [
        "train_csv, test_csv = [], []\n",
        "train_csv = pd.read_csv(\"./emnist-byclass-train.csv\", header=None)\n",
        "# test_csv = pd.read_csv(\"./emnist-byclass-test.csv\", header=None)"
      ],
      "metadata": {
        "id": "fnLIGy1mQ10M"
      },
      "execution_count": 12,
      "outputs": []
    },
    {
      "cell_type": "code",
      "source": [
        "train_data, train_label = convert_data_csv_to_numpy(train_csv, sorting = True)\n",
        "train_csv = []"
      ],
      "metadata": {
        "id": "gTq2oqebpIXW"
      },
      "execution_count": 13,
      "outputs": []
    },
    {
      "cell_type": "code",
      "source": [
        "border = np.unique(train_label, return_counts = True)[1]\n",
        "print(min(border))\n",
        "print(max(border))"
      ],
      "metadata": {
        "colab": {
          "base_uri": "https://localhost:8080/"
        },
        "id": "7jXNRmWaxJT7",
        "outputId": "b9a8254c-1190-44a0-c5d9-b919b50b1586"
      },
      "execution_count": 14,
      "outputs": [
        {
          "output_type": "stream",
          "name": "stdout",
          "text": [
            "1896\n",
            "38374\n"
          ]
        }
      ]
    },
    {
      "cell_type": "code",
      "source": [
        "border"
      ],
      "metadata": {
        "colab": {
          "base_uri": "https://localhost:8080/"
        },
        "id": "O5IS7cpsziVn",
        "outputId": "9d5361c8-025b-451c-a9bb-4fd350f634cd"
      },
      "execution_count": 15,
      "outputs": [
        {
          "output_type": "execute_result",
          "data": {
            "text/plain": [
              "array([34585, 38374, 34203, 35143, 33535, 31416, 34232, 35754, 33946,\n",
              "       33847,  6407,  3878, 10094,  4562,  4934,  9182,  2517,  3152,\n",
              "       11946,  3762,  2468,  5076,  9002,  8237, 24983,  8347,  2605,\n",
              "        5073, 20764,  9820, 12602,  4637,  4695,  2771,  4743,  2701,\n",
              "       10033,  5159,  2854, 10177, 24631,  2561,  3687,  8738,  2725,\n",
              "        1896,  2491, 15318,  2645, 11418,  2749,  2448,  2994, 14105,\n",
              "        2699, 18262,  2830,  2910,  2697,  2822,  2365,  2725])"
            ]
          },
          "metadata": {},
          "execution_count": 15
        }
      ]
    },
    {
      "cell_type": "code",
      "source": [
        "b = train_data.copy()\n",
        "train_data, train_label, val_data, val_label = balanced_data(train_data.copy())"
      ],
      "metadata": {
        "id": "5_3suU6g9FKK"
      },
      "execution_count": 16,
      "outputs": []
    },
    {
      "cell_type": "code",
      "source": [
        "print(train_data.shape)\n",
        "print(train_label.shape)\n",
        "print(val_data.shape)\n",
        "print(val_label.shape)"
      ],
      "metadata": {
        "colab": {
          "base_uri": "https://localhost:8080/"
        },
        "id": "Gr8Sg1uZ9Spl",
        "outputId": "11186dec-b452-4868-806e-a5fa5ad3978c"
      },
      "execution_count": 17,
      "outputs": [
        {
          "output_type": "stream",
          "name": "stdout",
          "text": [
            "(62000, 28, 28, 1)\n",
            "(62000,)\n",
            "(12400, 28, 28, 1)\n",
            "(12400,)\n"
          ]
        }
      ]
    },
    {
      "cell_type": "code",
      "source": [
        "print(\"train_label 종류\\n\",np.unique(train_label), sep = '')\n",
        "print(\"\\n각 label 별 data 개수\\n\", np.unique(train_label, return_counts = True)[1], sep='')"
      ],
      "metadata": {
        "colab": {
          "base_uri": "https://localhost:8080/"
        },
        "id": "u2vQT1LB9eEa",
        "outputId": "4c86b573-6f10-476a-b48e-8156b2a83fe6"
      },
      "execution_count": 18,
      "outputs": [
        {
          "output_type": "stream",
          "name": "stdout",
          "text": [
            "train_label 종류\n",
            "[ 0  1  2  3  4  5  6  7  8  9 10 11 12 13 14 15 16 17 18 19 20 21 22 23\n",
            " 24 25 26 27 28 29 30 31 32 33 34 35 36 37 38 39 40 41 42 43 44 45 46 47\n",
            " 48 49 50 51 52 53 54 55 56 57 58 59 60 61]\n",
            "\n",
            "각 label 별 data 개수\n",
            "[1000 1000 1000 1000 1000 1000 1000 1000 1000 1000 1000 1000 1000 1000\n",
            " 1000 1000 1000 1000 1000 1000 1000 1000 1000 1000 1000 1000 1000 1000\n",
            " 1000 1000 1000 1000 1000 1000 1000 1000 1000 1000 1000 1000 1000 1000\n",
            " 1000 1000 1000 1000 1000 1000 1000 1000 1000 1000 1000 1000 1000 1000\n",
            " 1000 1000 1000 1000 1000 1000]\n"
          ]
        }
      ]
    },
    {
      "cell_type": "code",
      "source": [
        "train_data = tf.convert_to_tensor(train_data.copy(), dtype=tf.float32)\n",
        "val_data = tf.convert_to_tensor(val_data.copy(), dtype=tf.float32)"
      ],
      "metadata": {
        "id": "ZQLRS6gCBXwN"
      },
      "execution_count": 19,
      "outputs": []
    },
    {
      "cell_type": "code",
      "source": [
        "print(type(train_data))\n",
        "print(type(val_data))\n",
        "print(train_data.shape)\n",
        "print(val_data.shape)"
      ],
      "metadata": {
        "colab": {
          "base_uri": "https://localhost:8080/"
        },
        "id": "-bhaayPABjYk",
        "outputId": "2c1ffc8f-6433-4a36-fdc7-0e151e7421b4"
      },
      "execution_count": 20,
      "outputs": [
        {
          "output_type": "stream",
          "name": "stdout",
          "text": [
            "<class 'tensorflow.python.framework.ops.EagerTensor'>\n",
            "<class 'tensorflow.python.framework.ops.EagerTensor'>\n",
            "(62000, 28, 28, 1)\n",
            "(12400, 28, 28, 1)\n"
          ]
        }
      ]
    },
    {
      "cell_type": "code",
      "source": [
        "print_lable_with_value()"
      ],
      "metadata": {
        "colab": {
          "base_uri": "https://localhost:8080/"
        },
        "id": "Vjjq7lwEpy2A",
        "outputId": "98c89c70-fd11-4cb7-af64-bea800a806fe"
      },
      "execution_count": 21,
      "outputs": [
        {
          "output_type": "stream",
          "name": "stdout",
          "text": [
            "label : 0, value : 0\n",
            "label : 1, value : 1\n",
            "label : 2, value : 2\n",
            "label : 3, value : 3\n",
            "label : 4, value : 4\n",
            "label : 5, value : 5\n",
            "label : 6, value : 6\n",
            "label : 7, value : 7\n",
            "label : 8, value : 8\n",
            "label : 9, value : 9\n",
            "label : 10, value : A\n",
            "label : 11, value : B\n",
            "label : 12, value : C\n",
            "label : 13, value : D\n",
            "label : 14, value : E\n",
            "label : 15, value : F\n",
            "label : 16, value : G\n",
            "label : 17, value : H\n",
            "label : 18, value : I\n",
            "label : 19, value : J\n",
            "label : 20, value : K\n",
            "label : 21, value : L\n",
            "label : 22, value : M\n",
            "label : 23, value : N\n",
            "label : 24, value : O\n",
            "label : 25, value : P\n",
            "label : 26, value : Q\n",
            "label : 27, value : R\n",
            "label : 28, value : S\n",
            "label : 29, value : T\n",
            "label : 30, value : U\n",
            "label : 31, value : V\n",
            "label : 32, value : W\n",
            "label : 33, value : X\n",
            "label : 34, value : Y\n",
            "label : 35, value : Z\n",
            "label : 36, value : a\n",
            "label : 37, value : b\n",
            "label : 38, value : c\n",
            "label : 39, value : d\n",
            "label : 40, value : e\n",
            "label : 41, value : f\n",
            "label : 42, value : g\n",
            "label : 43, value : h\n",
            "label : 44, value : i\n",
            "label : 45, value : j\n",
            "label : 46, value : k\n",
            "label : 47, value : l\n",
            "label : 48, value : m\n",
            "label : 49, value : n\n",
            "label : 50, value : o\n",
            "label : 51, value : p\n",
            "label : 52, value : q\n",
            "label : 53, value : r\n",
            "label : 54, value : s\n",
            "label : 55, value : t\n",
            "label : 56, value : u\n",
            "label : 57, value : v\n",
            "label : 58, value : w\n",
            "label : 59, value : x\n",
            "label : 60, value : y\n",
            "label : 61, value : z\n"
          ]
        }
      ]
    },
    {
      "cell_type": "code",
      "source": [
        "show_data_scheme(train_data, train_label)"
      ],
      "metadata": {
        "colab": {
          "base_uri": "https://localhost:8080/",
          "height": 482
        },
        "id": "oBOKW3Pyh5qw",
        "outputId": "74de586d-4bb0-48e8-d3f3-9d347912a7e7"
      },
      "execution_count": null,
      "outputs": [
        {
          "output_type": "display_data",
          "data": {
            "text/plain": [
              "<Figure size 792x576 with 20 Axes>"
            ],
            "image/png": "[encoded data removed]"
          },
          "metadata": {
            "needs_background": "light"
          }
        }
      ]
    },
    {
      "cell_type": "markdown",
      "source": [
        "## 여기부터 다음 #까지는 전체 data train에 활용할 때만 돌릴 것"
      ],
      "metadata": {
        "id": "qSlKyBW7CBtN"
      }
    },
    {
      "cell_type": "code",
      "source": [
        "f_train_data = tf.image.grayscale_to_rgb(train_data)\n",
        "f_val_data = tf.image.grayscale_to_rgb(val_data)\n",
        "# f_test_data = tf.image.grayscale_to_rgb(t_test_data)\n",
        "# t_test_data = []"
      ],
      "metadata": {
        "id": "7uTk6swyzZja"
      },
      "execution_count": null,
      "outputs": []
    },
    {
      "cell_type": "code",
      "source": [
        "boundary = int(train_data.shape[0]*0.8)\n",
        "\n",
        "final_train = f_train_data[:boundary]\n",
        "final_train_label = train_label[:boundary]\n",
        "\n",
        "final_val = f_train_data[boundary:]\n",
        "final_val_label = train_label[:boundary]"
      ],
      "metadata": {
        "id": "SNzuSgY1geMA"
      },
      "execution_count": null,
      "outputs": []
    },
    {
      "cell_type": "markdown",
      "source": [
        "## 여기까지"
      ],
      "metadata": {
        "id": "jCliyMQ-CJ_C"
      }
    },
    {
      "cell_type": "code",
      "source": [
        "final_train = tf.image.grayscale_to_rgb(train_data)\n",
        "final_val = tf.image.grayscale_to_rgb(val_data)"
      ],
      "metadata": {
        "id": "2M5kskCoCJBy"
      },
      "execution_count": 22,
      "outputs": []
    },
    {
      "cell_type": "markdown",
      "source": [
        "## 여기는 balanced 일때만"
      ],
      "metadata": {
        "id": "4IHr5JESCQMz"
      }
    },
    {
      "cell_type": "code",
      "source": [
        "final_train[0].shape"
      ],
      "metadata": {
        "colab": {
          "base_uri": "https://localhost:8080/"
        },
        "id": "qUs5Nc5Ydfjq",
        "outputId": "226dcab3-9831-4cf4-b453-a06a19689cd3"
      },
      "execution_count": 23,
      "outputs": [
        {
          "output_type": "execute_result",
          "data": {
            "text/plain": [
              "TensorShape([28, 28, 3])"
            ]
          },
          "metadata": {},
          "execution_count": 23
        }
      ]
    },
    {
      "cell_type": "code",
      "source": [
        "mean = np.mean(train_data)\n",
        "std = np.std(train_data)"
      ],
      "metadata": {
        "id": "Fzxsk9JfCnLU"
      },
      "execution_count": 24,
      "outputs": []
    },
    {
      "cell_type": "code",
      "source": [
        "print(mean)\n",
        "print(std)"
      ],
      "metadata": {
        "colab": {
          "base_uri": "https://localhost:8080/"
        },
        "id": "mq8kdH-6C5wK",
        "outputId": "d74e23eb-75a4-4640-8499-4a0faaac5312"
      },
      "execution_count": 25,
      "outputs": [
        {
          "output_type": "stream",
          "name": "stdout",
          "text": [
            "44.412914\n",
            "84.77896\n"
          ]
        }
      ]
    },
    {
      "cell_type": "code",
      "source": [
        "mobile2 = tf.keras.applications.mobilenet_v2.MobileNetV2(input_shape = (224, 224, 3), include_top=False)"
      ],
      "metadata": {
        "id": "t3HqlPdPF5n-"
      },
      "execution_count": 26,
      "outputs": []
    },
    {
      "cell_type": "code",
      "source": [
        "mobile2.summary()"
      ],
      "metadata": {
        "id": "VKDuJ7fsmNeN"
      },
      "execution_count": null,
      "outputs": []
    },
    {
      "cell_type": "code",
      "source": [
        "global_average_layer = tf.keras.layers.GlobalAveragePooling2D()\n",
        "prediction_layer = tf.keras.layers.Dense(62, activation = 'softmax')\n",
        "\n",
        "test_model = keras.models.Sequential()\n",
        "test_model.add(tf.keras.layers.Normalization( axis=-1, mean=44.412914, variance=84.77896, input_shape = (28, 28, 3)))\n",
        "test_model.add(tf.keras.layers.Resizing(height = 224, width = 224))\n",
        "test_model.add(mobile2)\n",
        "test_model.add(global_average_layer)\n",
        "test_model.add(tf.keras.layers.Dense(1000))\n",
        "test_model.add(tf.keras.layers.ReLU())\n",
        "test_model.add(prediction_layer)"
      ],
      "metadata": {
        "id": "nuqmb2MP6moo"
      },
      "execution_count": 28,
      "outputs": []
    },
    {
      "cell_type": "code",
      "source": [
        "test_model.summary()"
      ],
      "metadata": {
        "id": "yGd3XxSi6_eG"
      },
      "execution_count": null,
      "outputs": []
    },
    {
      "cell_type": "code",
      "source": [
        "class LossAndErrorPrintingCallback(keras.callbacks.Callback):\n",
        "\n",
        "    def on_epoch_end(self, epoch, logs=None):\n",
        "        print(\n",
        "            f'''\n",
        "            epcoh : {epoch}\n",
        "            loss {logs['loss']}\n",
        "            accuracy {logs['accuracy']}\n",
        "            val_loss {logs['val_loss']}\n",
        "            val_accuracy {logs['val_accuracy']}\n",
        "            '''\n",
        "        )\n"
      ],
      "metadata": {
        "id": "pBdNjYU5kM2-"
      },
      "execution_count": 30,
      "outputs": []
    },
    {
      "cell_type": "code",
      "source": [
        "test_model.compile(loss=\"sparse_categorical_crossentropy\",\n",
        "                optimizer=\"Adam\",\n",
        "                steps_per_execution=1200,\n",
        "                metrics=[\"accuracy\"])"
      ],
      "metadata": {
        "id": "0FqkOrCh7F_0"
      },
      "execution_count": 31,
      "outputs": []
    },
    {
      "cell_type": "code",
      "source": [
        "#  with tf.device(\"/cpu:0\"):\n",
        "a = test_model.fit(final_train[:400], train_label[:400], \n",
        "                  epochs=10, validation_data=(final_val[:80], val_label[:80]), callbacks=[LossAndErrorPrintingCallback()])"
      ],
      "metadata": {
        "colab": {
          "base_uri": "https://localhost:8080/"
        },
        "id": "U0XgfKsB7Ixs",
        "outputId": "eb9a32c8-c215-457d-b7fa-eb5792603d00"
      },
      "execution_count": null,
      "outputs": [
        {
          "output_type": "stream",
          "name": "stdout",
          "text": [
            "Epoch 1/10\n",
            "13/13 [==============================] - ETA: 0s - loss: 3.0696e-08 - accuracy: 1.0000\n",
            "            epcoh : 0\n",
            "            loss 3.0696369890392816e-08\n",
            "            accuracy 1.0\n",
            "            val_loss 0.0\n",
            "            val_accuracy 1.0\n",
            "            \n",
            "13/13 [==============================] - 13s 1s/step - loss: 3.0696e-08 - accuracy: 1.0000 - val_loss: 0.0000e+00 - val_accuracy: 1.0000\n",
            "Epoch 2/10\n",
            "13/13 [==============================] - ETA: 0s - loss: 1.8477e-08 - accuracy: 1.0000\n",
            "            epcoh : 1\n",
            "            loss 1.8477429364338605e-08\n",
            "            accuracy 1.0\n",
            "            val_loss 0.0\n",
            "            val_accuracy 1.0\n",
            "            \n",
            "13/13 [==============================] - 3s 197ms/step - loss: 1.8477e-08 - accuracy: 1.0000 - val_loss: 0.0000e+00 - val_accuracy: 1.0000\n",
            "Epoch 3/10\n",
            "13/13 [==============================] - ETA: 0s - loss: 6.5565e-09 - accuracy: 1.0000\n",
            "            epcoh : 2\n",
            "            loss 6.5565091134089926e-09\n",
            "            accuracy 1.0\n",
            "            val_loss 0.0\n",
            "            val_accuracy 1.0\n",
            "            \n",
            "13/13 [==============================] - 3s 201ms/step - loss: 6.5565e-09 - accuracy: 1.0000 - val_loss: 0.0000e+00 - val_accuracy: 1.0000\n",
            "Epoch 4/10\n",
            "13/13 [==============================] - ETA: 0s - loss: 1.4901e-08 - accuracy: 1.0000\n",
            "            epcoh : 3\n",
            "            loss 1.4901143430279262e-08\n",
            "            accuracy 1.0\n",
            "            val_loss 0.0\n",
            "            val_accuracy 1.0\n",
            "            \n",
            "13/13 [==============================] - 3s 199ms/step - loss: 1.4901e-08 - accuracy: 1.0000 - val_loss: 0.0000e+00 - val_accuracy: 1.0000\n",
            "Epoch 5/10\n",
            "13/13 [==============================] - ETA: 0s - loss: 6.8545e-09 - accuracy: 1.0000\n",
            "            epcoh : 4\n",
            "            loss 6.854531164890432e-09\n",
            "            accuracy 1.0\n",
            "            val_loss 0.0\n",
            "            val_accuracy 1.0\n",
            "            \n",
            "13/13 [==============================] - 3s 201ms/step - loss: 6.8545e-09 - accuracy: 1.0000 - val_loss: 0.0000e+00 - val_accuracy: 1.0000\n",
            "Epoch 6/10\n",
            "13/13 [==============================] - ETA: 0s - loss: 4.7684e-09 - accuracy: 1.0000\n",
            "            epcoh : 5\n",
            "            loss 4.768369699093e-09\n",
            "            accuracy 1.0\n",
            "            val_loss 0.0\n",
            "            val_accuracy 1.0\n",
            "            \n",
            "13/13 [==============================] - 3s 199ms/step - loss: 4.7684e-09 - accuracy: 1.0000 - val_loss: 0.0000e+00 - val_accuracy: 1.0000\n",
            "Epoch 7/10\n",
            "13/13 [==============================] - ETA: 0s - loss: 2.0862e-09 - accuracy: 1.0000\n",
            "            epcoh : 6\n",
            "            loss 2.086162353975851e-09\n",
            "            accuracy 1.0\n",
            "            val_loss 0.0\n",
            "            val_accuracy 1.0\n",
            "            \n",
            "13/13 [==============================] - 3s 199ms/step - loss: 2.0862e-09 - accuracy: 1.0000 - val_loss: 0.0000e+00 - val_accuracy: 1.0000\n",
            "Epoch 8/10\n",
            "13/13 [==============================] - ETA: 0s - loss: 4.1723e-09 - accuracy: 1.0000\n",
            "            epcoh : 7\n",
            "            loss 4.172323819773283e-09\n",
            "            accuracy 1.0\n",
            "            val_loss 0.0\n",
            "            val_accuracy 1.0\n",
            "            \n",
            "13/13 [==============================] - 3s 198ms/step - loss: 4.1723e-09 - accuracy: 1.0000 - val_loss: 0.0000e+00 - val_accuracy: 1.0000\n",
            "Epoch 9/10\n",
            "13/13 [==============================] - ETA: 0s - loss: 2.6822e-09 - accuracy: 1.0000\n",
            "            epcoh : 8\n",
            "            loss 2.6822084553401737e-09\n",
            "            accuracy 1.0\n",
            "            val_loss 0.0\n",
            "            val_accuracy 1.0\n",
            "            \n",
            "13/13 [==============================] - 3s 200ms/step - loss: 2.6822e-09 - accuracy: 1.0000 - val_loss: 0.0000e+00 - val_accuracy: 1.0000\n",
            "Epoch 10/10\n",
            "13/13 [==============================] - ETA: 0s - loss: 1.1921e-09 - accuracy: 1.0000\n",
            "            epcoh : 9\n",
            "            loss 1.1920927578401574e-09\n",
            "            accuracy 1.0\n",
            "            val_loss 0.0\n",
            "            val_accuracy 1.0\n",
            "            \n",
            "13/13 [==============================] - 3s 203ms/step - loss: 1.1921e-09 - accuracy: 1.0000 - val_loss: 0.0000e+00 - val_accuracy: 1.0000\n"
          ]
        }
      ]
    },
    {
      "cell_type": "code",
      "source": [
        "print(a.history.keys())"
      ],
      "metadata": {
        "colab": {
          "base_uri": "https://localhost:8080/"
        },
        "id": "jWPpaY8iDUy5",
        "outputId": "3449a2e5-1177-473d-e40a-239d74e3429c"
      },
      "execution_count": null,
      "outputs": [
        {
          "output_type": "stream",
          "name": "stdout",
          "text": [
            "dict_keys(['loss', 'accuracy', 'val_loss', 'val_accuracy'])\n"
          ]
        }
      ]
    },
    {
      "cell_type": "code",
      "source": [
        "def select_opt(opt_name, lr):\n",
        "  if opt_name == 'adam':\n",
        "    optimizer = keras.optimizers.Adam(learning_rate=lr, beta_1=0.9, beta_2=0.999)\n",
        "  elif opt_name == 'rmsprop':\n",
        "    optimizer = keras.optimizers.RMSprop(learning_rate=lr, rho=0.9)\n",
        "  elif opt_name == 'sgd':\n",
        "    optimizer = keras.optimizers.SGD(learning_rate = lr)\n",
        "  elif opt_name == 'momentum':\n",
        "    optimizer = keras.optimizers.SGD(learning_rate = lr, momentum=0.9)\n",
        "  elif opt_name == 'nesterov':\n",
        "    optimizer = keras.optimizers.SGD(learning_rate=lr, momentum=0.9, nesterov=True)\n",
        "  elif opt_name == 'adagrad':\n",
        "    optimizer = keras.optimizers.Adagrad(learning_rate=lr)\n",
        "  elif opt_name == 'adamax':\n",
        "    optimizer = keras.optimizers.Adamax(learning_rate=lr, beta_1=0.9, beta_2=0.999)\n",
        "  elif opt_name == 'nadam':\n",
        "    optimizer = keras.optimizers.Nadam(learning_rate=lr, beta_1=0.9, beta_2=0.999)\n",
        "\n",
        "  return optimizer"
      ],
      "metadata": {
        "id": "XLBRjktu4I91"
      },
      "execution_count": 32,
      "outputs": []
    },
    {
      "cell_type": "code",
      "source": [
        "def select_activation(function):\n",
        "  if function == 'relu':\n",
        "    activation = keras.layers.ReLU()\n",
        "  elif function == 'prelu':\n",
        "    activation = keras.layers.PReLU()\n",
        "  elif function == 'leacky_relu':\n",
        "    activation = keras.layers.LeakyReLU()\n",
        "  elif function == 'elu':\n",
        "    activation = keras.layers.ELU()\n",
        "\n",
        "  return activation"
      ],
      "metadata": {
        "id": "LlbC8VtyJ0aU"
      },
      "execution_count": 33,
      "outputs": []
    },
    {
      "cell_type": "code",
      "source": [
        "class LossAndErrorPrintingCallback(keras.callbacks.Callback):\n",
        "\n",
        "    def on_epoch_end(self, epoch, logs=None):\n",
        "        print(f'''\n",
        "              epcoh : {epoch}\n",
        "              loss {logs['loss']}\n",
        "              accuracy {logs['accuracy']}\n",
        "              val_loss {logs['val_loss']}\n",
        "              val_accuracy {logs['val_accuracy']}\n",
        "              ''')\n",
        "        wandb.log({'epochs': epoch,\n",
        "            'loss': logs['loss'],\n",
        "            'acc': logs['accuracy'], \n",
        "            'val_loss': logs['val_loss'],\n",
        "            'val_acc': logs['val_accuracy']})\n",
        "        "
      ],
      "metadata": {
        "id": "2qxa1-cf6OF6"
      },
      "execution_count": 34,
      "outputs": []
    },
    {
      "cell_type": "code",
      "source": [
        "def sweep_train(config_defaults=None):\n",
        "    # Set default values\n",
        "    config_defaults = {\n",
        "      'batch_size': 64,\n",
        "      'optimizer' : 'adam',\n",
        "      'learning_rate' : 0.01,\n",
        "      'activation' : 'relu',\n",
        "      'n_Dense_layer' : 1,\n",
        "      'first_layer_node' : 1000,\n",
        "      'second_layer_node' : 100\n",
        "    }\n",
        "    # Initialize wandb with a sample project name\n",
        "    wandb.init(config=config_defaults)  # this gets over-written in the Sweep\n",
        "\n",
        "    # initialize model\n",
        "    global_average_layer = tf.keras.layers.GlobalAveragePooling2D()\n",
        "    prediction_layer = tf.keras.layers.Dense(62, activation = 'softmax')\n",
        "    node_per_layer = [wandb.config.first_layer_node, wandb.config.second_layer_node]\n",
        "    \n",
        "\n",
        "    model = keras.models.Sequential()\n",
        "    model.add(tf.keras.layers.Normalization( axis=-1, mean=44.412914, variance=84.77896, input_shape = (28, 28, 3)))\n",
        "    model.add(tf.keras.layers.Resizing(height = 224, width = 224))\n",
        "    model.add(mobile2)\n",
        "    model.add(global_average_layer)\n",
        "    for i in range(wandb.config.n_Dense_layer):\n",
        "      model.add(tf.keras.layers.Dense(node_per_layer[i]))\n",
        "      model.add(select_activation(wandb.config.activation))\n",
        "    model.add(prediction_layer)\n",
        "    \n",
        "    print(model.summary())\n",
        "\n",
        "    # Instantiate an optimizer to train the model.\n",
        "    optimizer = select_opt(wandb.config.optimizer, wandb.config.learning_rate)\n",
        "    # Instantiate a loss function.\n",
        "    # loss_fn = keras.losses.SparseCategoricalCrossentropy(from_logits=True)\n",
        "\n",
        "\n",
        "    model.compile(loss=\"sparse_categorical_crossentropy\",\n",
        "                optimizer=optimizer,\n",
        "                steps_per_execution=1000,\n",
        "                metrics=[\"accuracy\"])\n",
        "    hist = model.fit(final_train, train_label, epochs=20, validation_data=(final_val, val_label), callbacks=[LossAndErrorPrintingCallback()])"
      ],
      "metadata": {
        "id": "fx2d16joD8FX"
      },
      "execution_count": 48,
      "outputs": []
    },
    {
      "cell_type": "code",
      "source": [
        "sweep_config = {\n",
        "  'method': 'random', \n",
        "  'parameters': {\n",
        "      \n",
        "      'optimizer': {\n",
        "          'values' : ['adam', 'rmsprop', 'sgd', 'momentum', 'nesterov', 'adagrad', 'adamax', 'nadam']\n",
        "      },\n",
        "      'learning_rate':{\n",
        "          'values' : [0.1, 0.05, 0.01, 0.005]\n",
        "      },\n",
        "      'activation' : {\n",
        "          'values' : ['relu', 'leacky_relu', 'elu']\n",
        "      },\n",
        "      'n_Dense_layer' : {\n",
        "          'values' : [1, 2]\n",
        "      },\n",
        "      'first_layer_node' : {\n",
        "          'values' : [1000, 800, 500]\n",
        "      },\n",
        "      'second_layer_node' : {\n",
        "          'values' : [100, 120]\n",
        "      }\n",
        "  }\n",
        "}"
      ],
      "metadata": {
        "id": "OvRSaWcheWs9"
      },
      "execution_count": 49,
      "outputs": []
    },
    {
      "cell_type": "code",
      "source": [
        "sweep_id = wandb.sweep(sweep_config, project=\"eeee\")"
      ],
      "metadata": {
        "colab": {
          "base_uri": "https://localhost:8080/"
        },
        "id": "ORivDPQSwscN",
        "outputId": "af129278-f75f-4511-8f85-efa18627b825"
      },
      "execution_count": 50,
      "outputs": [
        {
          "output_type": "stream",
          "name": "stdout",
          "text": [
            "Create sweep with ID: q41w5tai\n",
            "Sweep URL: https://wandb.ai/chanin-eom/eeee/sweeps/q41w5tai\n"
          ]
        }
      ]
    },
    {
      "cell_type": "code",
      "source": [
        "wandb.agent(sweep_id, function=sweep_train, count=50)"
      ],
      "metadata": {
        "colab": {
          "base_uri": "https://localhost:8080/",
          "height": 1000,
          "referenced_widgets": [
            "c1e32822bb4a494b9cda32cfbb17513c",
            "9a549db7b8c747b98cbf00e24ee497d4",
            "001794cde9384e4e80f4e496c7a6bf72",
            "a360a743159b4e20b2b6f06f2792c1bf",
            "fae02158778541aab5a580a59f7b2acf",
            "fe1c6ffe85c04c6f8a4dd0d79aba9960",
            "1ff5e9ac0e694f97b97de25e7aa96a20",
            "dbfd4fa4789f42c1af39e0b25a6de03d",
            "4216cd254fac4df295b42ddd1cdd362f",
            "296397fb42fe4b09bd08ec8976860e5c",
            "95c866bdacef4e0aadb5d952ef7546a0",
            "8502fb34618d4e0c960819b5548c23ff",
            "84d241a5088f4d82b51b38dd50bce11b",
            "ee1cebdb107c4480bea394702998555d",
            "862a655784484d0b9a8f5440395482b5",
            "2ff8cb6877ae4c78a16fa330c6088338",
            "ee565fbcb0c348a097224341a6fac28e",
            "b63f79c6920f4bd4be03abc82a23cf5b",
            "a89d7ace3a0647b8b343b7fed08a85ad",
            "35ccc6a0fb864370b13adac631bd83d8",
            "e46a5c0926d349218b4b8e61710acb31",
            "02c93608cccd402bb4de18da0e91eb79",
            "f2946b34347f4393abf4d72585855670",
            "f3fa2e4730e5482ba6ea3fafa2cb2eb7",
            "4ebca9d28e4d47f69cd2acd73f697352",
            "027b913df4f647f19810efe67f3543d1",
            "db8f1324e1c54374a759b66064f31f17",
            "c9a65e011da24f72af858ce125e1704f",
            "14027af3cfdf45189775869b7c4fb9fe",
            "dc51b30cbace407faac0a1c44edf8c48",
            "2f516efd502647d790a7514184edcf07",
            "9ca72e124643433b8496e8a8b6c927f2",
            "b7e25ac09a424d9793c551bf55917613",
            "ea1712dbed4f472ba03bfb03fa227022",
            "07f71d2354334dfb894871af93c6f15f",
            "b3f32b2bfe8a4fb5a6174d4ffa09823c",
            "d82877dbb04348f08efb38daa0a26883",
            "1af2f71fb7894fb29605720b8fd72c83",
            "65bed8c660474036b6ef456cc5d45e01",
            "8f942825b8904d90bf179a8c03958c05",
            "f73b385755a84ede867a87d6db1af1af",
            "8143337580a246de8f9ea6d344e214dc",
            "13d81a1a67124e81bacbb94ff15dfd2b",
            "2f53f38c384f4232bfa783cb23684a7e",
            "18b031b8386d428eb68889f612589f1b",
            "e16ab705a2c548c1afbd86cc5a280c67",
            "b6a6aa636b2b4fc69217b35c34aa8af3",
            "01d90e91a68d45b38946fb10d8c84a8b",
            "dca68def6456474abbc2b9bb0743b9f2",
            "29414a40488046e2be1df586beb07962",
            "c6352701a2db469994ab0cac6e38b7fe",
            "f6f8629238c44379823140e6a69c115e",
            "74dd4758c21043b2be658cee02f37a5d",
            "d6fa300b95ed4e1187792bc1cf90d510",
            "9e2d086caf194dc7ab45dd0a02099466",
            "1ad50e22404544d4be62539c0a08efed"
          ]
        },
        "id": "Aqdgxt0AwQlk",
        "outputId": "1f4b2a22-c87c-467d-db22-15f3e79a1bf4"
      },
      "execution_count": null,
      "outputs": [
        {
          "output_type": "stream",
          "name": "stderr",
          "text": [
            "\u001b[34m\u001b[1mwandb\u001b[0m: Agent Starting Run: 8e72jcm4 with config:\n",
            "\u001b[34m\u001b[1mwandb\u001b[0m: \tactivation: elu\n",
            "\u001b[34m\u001b[1mwandb\u001b[0m: \tfirst_layer_node: 800\n",
            "\u001b[34m\u001b[1mwandb\u001b[0m: \tlearning_rate: 0.01\n",
            "\u001b[34m\u001b[1mwandb\u001b[0m: \tn_Dense_layer: 1\n",
            "\u001b[34m\u001b[1mwandb\u001b[0m: \toptimizer: adam\n",
            "\u001b[34m\u001b[1mwandb\u001b[0m: \tsecond_layer_node: 120\n",
            "\u001b[34m\u001b[1mwandb\u001b[0m: Currently logged in as: \u001b[33mchanin-eom\u001b[0m. Use \u001b[1m`wandb login --relogin`\u001b[0m to force relogin\n"
          ]
        },
        {
          "output_type": "display_data",
          "data": {
            "text/plain": [
              "<IPython.core.display.HTML object>"
            ],
            "text/html": [
              "Tracking run with wandb version 0.12.16"
            ]
          },
          "metadata": {}
        },
        {
          "output_type": "display_data",
          "data": {
            "text/plain": [
              "<IPython.core.display.HTML object>"
            ],
            "text/html": [
              "Run data is saved locally in <code>/content/cnontent/MyDrive/SSU/nural_nework/project/wandb/run-20220507_163407-8e72jcm4</code>"
            ]
          },
          "metadata": {}
        },
        {
          "output_type": "display_data",
          "data": {
            "text/plain": [
              "<IPython.core.display.HTML object>"
            ],
            "text/html": [
              "Syncing run <strong><a href=\"https://wandb.ai/chanin-eom/eeee/runs/8e72jcm4\" target=\"_blank\">bumbling-sweep-1</a></strong> to <a href=\"https://wandb.ai/chanin-eom/eeee\" target=\"_blank\">Weights & Biases</a> (<a href=\"https://wandb.me/run\" target=\"_blank\">docs</a>)<br/>Sweep page:  <a href=\"https://wandb.ai/chanin-eom/eeee/sweeps/q41w5tai\" target=\"_blank\">https://wandb.ai/chanin-eom/eeee/sweeps/q41w5tai</a>"
            ]
          },
          "metadata": {}
        },
        {
          "output_type": "stream",
          "name": "stdout",
          "text": [
            "Model: \"sequential\"\n",
            "_________________________________________________________________\n",
            " Layer (type)                Output Shape              Param #   \n",
            "=================================================================\n",
            " normalization (Normalizatio  (None, 28, 28, 3)        0         \n",
            " n)                                                              \n",
            "                                                                 \n",
            " resizing (Resizing)         (None, 224, 224, 3)       0         \n",
            "                                                                 \n",
            " mobilenetv2_1.00_224 (Funct  (None, 7, 7, 1280)       2257984   \n",
            " ional)                                                          \n",
            "                                                                 \n",
            " global_average_pooling2d (G  (None, 1280)             0         \n",
            " lobalAveragePooling2D)                                          \n",
            "                                                                 \n",
            " dense_1 (Dense)             (None, 800)               1024800   \n",
            "                                                                 \n",
            " elu (ELU)                   (None, 800)               0         \n",
            "                                                                 \n",
            " dense (Dense)               (None, 62)                49662     \n",
            "                                                                 \n",
            "=================================================================\n",
            "Total params: 3,332,446\n",
            "Trainable params: 3,298,334\n",
            "Non-trainable params: 34,112\n",
            "_________________________________________________________________\n",
            "None\n",
            "Epoch 1/20\n",
            "1938/1938 [==============================] - ETA: 0s - loss: 2.5869 - accuracy: 0.2802  \n",
            "              epcoh : 0\n",
            "              loss 2.5869357585906982\n",
            "              accuracy 0.2802096903324127\n",
            "              val_loss 44.98451614379883\n",
            "              val_accuracy 0.02403225749731064\n",
            "              \n",
            "1938/1938 [==============================] - 310s 160ms/step - loss: 2.5869 - accuracy: 0.2802 - val_loss: 44.9845 - val_accuracy: 0.0240\n",
            "Epoch 2/20\n",
            "1938/1938 [==============================] - ETA: 0s - loss: 1.0338 - accuracy: 0.6195  \n",
            "              epcoh : 1\n",
            "              loss 1.0337605476379395\n",
            "              accuracy 0.6194677352905273\n",
            "              val_loss 40.22819900512695\n",
            "              val_accuracy 0.022580645978450775\n",
            "              \n",
            "1938/1938 [==============================] - 295s 152ms/step - loss: 1.0338 - accuracy: 0.6195 - val_loss: 40.2282 - val_accuracy: 0.0226\n",
            "Epoch 3/20\n",
            "1938/1938 [==============================] - ETA: 0s - loss: 0.8932 - accuracy: 0.6571  \n",
            "              epcoh : 2\n",
            "              loss 0.893164873123169\n",
            "              accuracy 0.657096803188324\n",
            "              val_loss 90.10997009277344\n",
            "              val_accuracy 0.016129031777381897\n",
            "              \n",
            "1938/1938 [==============================] - 294s 152ms/step - loss: 0.8932 - accuracy: 0.6571 - val_loss: 90.1100 - val_accuracy: 0.0161\n",
            "Epoch 4/20\n",
            "1938/1938 [==============================] - ETA: 0s - loss: 0.8273 - accuracy: 0.6786  \n",
            "              epcoh : 3\n",
            "              loss 0.8273147344589233\n",
            "              accuracy 0.6785967946052551\n",
            "              val_loss 27.06946563720703\n",
            "              val_accuracy 0.052661288529634476\n",
            "              \n",
            "1938/1938 [==============================] - 294s 152ms/step - loss: 0.8273 - accuracy: 0.6786 - val_loss: 27.0695 - val_accuracy: 0.0527\n",
            "Epoch 5/20\n",
            "1938/1938 [==============================] - ETA: 0s - loss: 0.7767 - accuracy: 0.6917  \n",
            "              epcoh : 4\n",
            "              loss 0.7766796946525574\n",
            "              accuracy 0.6916773915290833\n",
            "              val_loss 59.82646560668945\n",
            "              val_accuracy 0.016370967030525208\n",
            "              \n",
            "1938/1938 [==============================] - 294s 152ms/step - loss: 0.7767 - accuracy: 0.6917 - val_loss: 59.8265 - val_accuracy: 0.0164\n",
            "Epoch 6/20\n",
            "1938/1938 [==============================] - ETA: 0s - loss: 0.7500 - accuracy: 0.6987  \n",
            "              epcoh : 5\n",
            "              loss 0.7500417232513428\n",
            "              accuracy 0.6987419128417969\n",
            "              val_loss 13.428645133972168\n",
            "              val_accuracy 0.13330645859241486\n",
            "              \n",
            "1938/1938 [==============================] - 294s 152ms/step - loss: 0.7500 - accuracy: 0.6987 - val_loss: 13.4286 - val_accuracy: 0.1333\n",
            "Epoch 7/20\n",
            "1938/1938 [==============================] - ETA: 0s - loss: 0.7207 - accuracy: 0.7086  \n",
            "              epcoh : 6\n",
            "              loss 0.72074294090271\n",
            "              accuracy 0.7085967659950256\n",
            "              val_loss 17.036090850830078\n",
            "              val_accuracy 0.11282257735729218\n",
            "              \n",
            "1938/1938 [==============================] - 295s 152ms/step - loss: 0.7207 - accuracy: 0.7086 - val_loss: 17.0361 - val_accuracy: 0.1128\n",
            "Epoch 8/20\n",
            "1938/1938 [==============================] - ETA: 0s - loss: 0.6980 - accuracy: 0.7146  \n",
            "              epcoh : 7\n",
            "              loss 0.6980190277099609\n",
            "              accuracy 0.7145806550979614\n",
            "              val_loss 24.63619613647461\n",
            "              val_accuracy 0.0764516144990921\n",
            "              \n",
            "1938/1938 [==============================] - 295s 152ms/step - loss: 0.6980 - accuracy: 0.7146 - val_loss: 24.6362 - val_accuracy: 0.0765\n",
            "Epoch 9/20\n",
            "1938/1938 [==============================] - ETA: 0s - loss: 0.6777 - accuracy: 0.7219  \n",
            "              epcoh : 8\n",
            "              loss 0.6776529550552368\n",
            "              accuracy 0.7219032049179077\n",
            "              val_loss 46.97886276245117\n",
            "              val_accuracy 0.030887097120285034\n",
            "              \n",
            "1938/1938 [==============================] - 294s 152ms/step - loss: 0.6777 - accuracy: 0.7219 - val_loss: 46.9789 - val_accuracy: 0.0309\n",
            "Epoch 10/20\n",
            "1938/1938 [==============================] - ETA: 0s - loss: 0.6554 - accuracy: 0.7287  \n",
            "              epcoh : 9\n",
            "              loss 0.655352771282196\n",
            "              accuracy 0.7286935448646545\n",
            "              val_loss 2.9938535690307617\n",
            "              val_accuracy 0.42580646276474\n",
            "              \n",
            "1938/1938 [==============================] - 294s 152ms/step - loss: 0.6554 - accuracy: 0.7287 - val_loss: 2.9939 - val_accuracy: 0.4258\n",
            "Epoch 11/20\n",
            "1938/1938 [==============================] - ETA: 0s - loss: 0.6495 - accuracy: 0.7304  \n",
            "              epcoh : 10\n",
            "              loss 0.6495211720466614\n",
            "              accuracy 0.7304354906082153\n",
            "              val_loss 45.82774353027344\n",
            "              val_accuracy 0.038064517080783844\n",
            "              \n",
            "1938/1938 [==============================] - 295s 152ms/step - loss: 0.6495 - accuracy: 0.7304 - val_loss: 45.8277 - val_accuracy: 0.0381\n",
            "Epoch 12/20\n",
            "1938/1938 [==============================] - ETA: 0s - loss: 0.6355 - accuracy: 0.7360  \n",
            "              epcoh : 11\n",
            "              loss 0.6355031132698059\n",
            "              accuracy 0.7359516024589539\n",
            "              val_loss 5.344894886016846\n",
            "              val_accuracy 0.24427419900894165\n",
            "              \n",
            "1938/1938 [==============================] - 294s 152ms/step - loss: 0.6355 - accuracy: 0.7360 - val_loss: 5.3449 - val_accuracy: 0.2443\n",
            "Epoch 13/20\n",
            "1938/1938 [==============================] - ETA: 0s - loss: 0.6226 - accuracy: 0.7375  \n",
            "              epcoh : 12\n",
            "              loss 0.6225806474685669\n",
            "              accuracy 0.7375484108924866\n",
            "              val_loss 1.4801359176635742\n",
            "              val_accuracy 0.5974193811416626\n",
            "              \n",
            "1938/1938 [==============================] - 297s 153ms/step - loss: 0.6226 - accuracy: 0.7375 - val_loss: 1.4801 - val_accuracy: 0.5974\n",
            "Epoch 14/20\n",
            "1938/1938 [==============================] - ETA: 0s - loss: 0.6171 - accuracy: 0.7400  \n",
            "              epcoh : 13\n",
            "              loss 0.6170506477355957\n",
            "              accuracy 0.7399677634239197\n",
            "              val_loss 20.914623260498047\n",
            "              val_accuracy 0.052177418023347855\n",
            "              \n",
            "1938/1938 [==============================] - 296s 153ms/step - loss: 0.6171 - accuracy: 0.7400 - val_loss: 20.9146 - val_accuracy: 0.0522\n",
            "Epoch 15/20\n",
            "1938/1938 [==============================] - ETA: 0s - loss: 0.6043 - accuracy: 0.7446  \n",
            "              epcoh : 14\n",
            "              loss 0.6043065786361694\n",
            "              accuracy 0.7445967793464661\n",
            "              val_loss 1.477317452430725\n",
            "              val_accuracy 0.5887096524238586\n",
            "              \n",
            "1938/1938 [==============================] - 295s 152ms/step - loss: 0.6043 - accuracy: 0.7446 - val_loss: 1.4773 - val_accuracy: 0.5887\n",
            "Epoch 16/20\n",
            "1938/1938 [==============================] - ETA: 0s - loss: 0.5987 - accuracy: 0.7464  \n",
            "              epcoh : 15\n",
            "              loss 0.5986549258232117\n",
            "              accuracy 0.7463709712028503\n",
            "              val_loss 2.21370005607605\n",
            "              val_accuracy 0.5067741870880127\n",
            "              \n",
            "1938/1938 [==============================] - 295s 152ms/step - loss: 0.5987 - accuracy: 0.7464 - val_loss: 2.2137 - val_accuracy: 0.5068\n",
            "Epoch 17/20\n",
            "1938/1938 [==============================] - ETA: 0s - loss: 0.5877 - accuracy: 0.7526  \n",
            "              epcoh : 16\n",
            "              loss 0.5877167582511902\n",
            "              accuracy 0.7526290416717529\n",
            "              val_loss 0.7132607102394104\n",
            "              val_accuracy 0.7252419590950012\n",
            "              \n",
            "1938/1938 [==============================] - 295s 152ms/step - loss: 0.5877 - accuracy: 0.7526 - val_loss: 0.7133 - val_accuracy: 0.7252\n",
            "Epoch 18/20\n",
            "1938/1938 [==============================] - ETA: 0s - loss: 0.5802 - accuracy: 0.7536  \n",
            "              epcoh : 17\n",
            "              loss 0.5801962614059448\n",
            "              accuracy 0.7535645365715027\n",
            "              val_loss 0.7333037853240967\n",
            "              val_accuracy 0.7149193286895752\n",
            "              \n",
            "1938/1938 [==============================] - 295s 152ms/step - loss: 0.5802 - accuracy: 0.7536 - val_loss: 0.7333 - val_accuracy: 0.7149\n",
            "Epoch 19/20\n",
            "1938/1938 [==============================] - ETA: 0s - loss: 0.5817 - accuracy: 0.7525  \n",
            "              epcoh : 18\n",
            "              loss 0.5816546678543091\n",
            "              accuracy 0.7524677515029907\n",
            "              val_loss 59.885009765625\n",
            "              val_accuracy 0.016129031777381897\n",
            "              \n",
            "1938/1938 [==============================] - 295s 152ms/step - loss: 0.5817 - accuracy: 0.7525 - val_loss: 59.8850 - val_accuracy: 0.0161\n",
            "Epoch 20/20\n",
            "1938/1938 [==============================] - ETA: 0s - loss: 0.5713 - accuracy: 0.7560  \n",
            "              epcoh : 19\n",
            "              loss 0.5713287591934204\n",
            "              accuracy 0.7559677362442017\n",
            "              val_loss 7.902712821960449\n",
            "              val_accuracy 0.24016128480434418\n",
            "              \n",
            "1938/1938 [==============================] - 291s 150ms/step - loss: 0.5713 - accuracy: 0.7560 - val_loss: 7.9027 - val_accuracy: 0.2402\n"
          ]
        },
        {
          "output_type": "display_data",
          "data": {
            "text/plain": [
              "<IPython.core.display.HTML object>"
            ],
            "text/html": [
              "Waiting for W&B process to finish... <strong style=\"color:green\">(success).</strong>"
            ]
          },
          "metadata": {}
        },
        {
          "output_type": "display_data",
          "data": {
            "text/plain": [
              "VBox(children=(Label(value='0.001 MB of 0.001 MB uploaded (0.000 MB deduped)\\r'), FloatProgress(value=1.0, max…"
            ],
            "application/vnd.jupyter.widget-view+json": {
              "version_major": 2,
              "version_minor": 0,
              "model_id": "c1e32822bb4a494b9cda32cfbb17513c"
            }
          },
          "metadata": {}
        },
        {
          "output_type": "display_data",
          "data": {
            "text/plain": [
              "<IPython.core.display.HTML object>"
            ],
            "text/html": [
              "<style>\n",
              "    table.wandb td:nth-child(1) { padding: 0 10px; text-align: left ; width: auto;} td:nth-child(2) {text-align: left ; width: 100%}\n",
              "    .wandb-row { display: flex; flex-direction: row; flex-wrap: wrap; justify-content: flex-start; width: 100% }\n",
              "    .wandb-col { display: flex; flex-direction: column; flex-basis: 100%; flex: 1; padding: 10px; }\n",
              "    </style>\n",
              "<div class=\"wandb-row\"><div class=\"wandb-col\"><h3>Run history:</h3><br/><table class=\"wandb\"><tr><td>acc</td><td>▁▆▇▇▇▇▇▇▇███████████</td></tr><tr><td>epochs</td><td>▁▁▂▂▂▃▃▄▄▄▅▅▅▆▆▇▇▇██</td></tr><tr><td>loss</td><td>█▃▂▂▂▂▂▁▁▁▁▁▁▁▁▁▁▁▁▁</td></tr><tr><td>val_acc</td><td>▁▁▁▁▁▂▂▂▁▅▁▃▇▁▇▆██▁▃</td></tr><tr><td>val_loss</td><td>▄▄█▃▆▂▂▃▅▁▅▁▁▃▁▁▁▁▆▂</td></tr></table><br/></div><div class=\"wandb-col\"><h3>Run summary:</h3><br/><table class=\"wandb\"><tr><td>acc</td><td>0.75597</td></tr><tr><td>epochs</td><td>19</td></tr><tr><td>loss</td><td>0.57133</td></tr><tr><td>val_acc</td><td>0.24016</td></tr><tr><td>val_loss</td><td>7.90271</td></tr></table><br/></div></div>"
            ]
          },
          "metadata": {}
        },
        {
          "output_type": "display_data",
          "data": {
            "text/plain": [
              "<IPython.core.display.HTML object>"
            ],
            "text/html": [
              "Synced <strong style=\"color:#cdcd00\">bumbling-sweep-1</strong>: <a href=\"https://wandb.ai/chanin-eom/eeee/runs/8e72jcm4\" target=\"_blank\">https://wandb.ai/chanin-eom/eeee/runs/8e72jcm4</a><br/>Synced 5 W&B file(s), 0 media file(s), 0 artifact file(s) and 0 other file(s)"
            ]
          },
          "metadata": {}
        },
        {
          "output_type": "display_data",
          "data": {
            "text/plain": [
              "<IPython.core.display.HTML object>"
            ],
            "text/html": [
              "Find logs at: <code>./wandb/run-20220507_163407-8e72jcm4/logs</code>"
            ]
          },
          "metadata": {}
        },
        {
          "output_type": "stream",
          "name": "stderr",
          "text": [
            "\u001b[34m\u001b[1mwandb\u001b[0m: Agent Starting Run: st8ogbrm with config:\n",
            "\u001b[34m\u001b[1mwandb\u001b[0m: \tactivation: relu\n",
            "\u001b[34m\u001b[1mwandb\u001b[0m: \tfirst_layer_node: 500\n",
            "\u001b[34m\u001b[1mwandb\u001b[0m: \tlearning_rate: 0.1\n",
            "\u001b[34m\u001b[1mwandb\u001b[0m: \tn_Dense_layer: 1\n",
            "\u001b[34m\u001b[1mwandb\u001b[0m: \toptimizer: adamax\n",
            "\u001b[34m\u001b[1mwandb\u001b[0m: \tsecond_layer_node: 100\n"
          ]
        },
        {
          "output_type": "display_data",
          "data": {
            "text/plain": [
              "<IPython.core.display.HTML object>"
            ],
            "text/html": [
              "Tracking run with wandb version 0.12.16"
            ]
          },
          "metadata": {}
        },
        {
          "output_type": "display_data",
          "data": {
            "text/plain": [
              "<IPython.core.display.HTML object>"
            ],
            "text/html": [
              "Run data is saved locally in <code>/content/cnontent/MyDrive/SSU/nural_nework/project/wandb/run-20220507_181245-st8ogbrm</code>"
            ]
          },
          "metadata": {}
        },
        {
          "output_type": "display_data",
          "data": {
            "text/plain": [
              "<IPython.core.display.HTML object>"
            ],
            "text/html": [
              "Syncing run <strong><a href=\"https://wandb.ai/chanin-eom/eeee/runs/st8ogbrm\" target=\"_blank\">vital-sweep-2</a></strong> to <a href=\"https://wandb.ai/chanin-eom/eeee\" target=\"_blank\">Weights & Biases</a> (<a href=\"https://wandb.me/run\" target=\"_blank\">docs</a>)<br/>Sweep page:  <a href=\"https://wandb.ai/chanin-eom/eeee/sweeps/q41w5tai\" target=\"_blank\">https://wandb.ai/chanin-eom/eeee/sweeps/q41w5tai</a>"
            ]
          },
          "metadata": {}
        },
        {
          "output_type": "stream",
          "name": "stdout",
          "text": [
            "Model: \"sequential\"\n",
            "_________________________________________________________________\n",
            " Layer (type)                Output Shape              Param #   \n",
            "=================================================================\n",
            " normalization (Normalizatio  (None, 28, 28, 3)        0         \n",
            " n)                                                              \n",
            "                                                                 \n",
            " resizing (Resizing)         (None, 224, 224, 3)       0         \n",
            "                                                                 \n",
            " mobilenetv2_1.00_224 (Funct  (None, 7, 7, 1280)       2257984   \n",
            " ional)                                                          \n",
            "                                                                 \n",
            " global_average_pooling2d (G  (None, 1280)             0         \n",
            " lobalAveragePooling2D)                                          \n",
            "                                                                 \n",
            " dense_1 (Dense)             (None, 500)               640500    \n",
            "                                                                 \n",
            " re_lu (ReLU)                (None, 500)               0         \n",
            "                                                                 \n",
            " dense (Dense)               (None, 62)                31062     \n",
            "                                                                 \n",
            "=================================================================\n",
            "Total params: 2,929,546\n",
            "Trainable params: 2,895,434\n",
            "Non-trainable params: 34,112\n",
            "_________________________________________________________________\n",
            "None\n",
            "Epoch 1/20\n",
            "1938/1938 [==============================] - ETA: 0s - loss: 0.9823 - accuracy: 0.6395  \n",
            "              epcoh : 0\n",
            "              loss 0.9823007583618164\n",
            "              accuracy 0.6395322680473328\n",
            "              val_loss 19.949384689331055\n",
            "              val_accuracy 0.016209676861763\n",
            "              \n",
            "1938/1938 [==============================] - 306s 158ms/step - loss: 0.9823 - accuracy: 0.6395 - val_loss: 19.9494 - val_accuracy: 0.0162\n",
            "Epoch 2/20\n",
            "1938/1938 [==============================] - ETA: 0s - loss: 0.7138 - accuracy: 0.7081  \n",
            "              epcoh : 1\n",
            "              loss 0.7138086557388306\n",
            "              accuracy 0.7081290483474731\n",
            "              val_loss 3.6412906646728516\n",
            "              val_accuracy 0.35556450486183167\n",
            "              \n",
            "1938/1938 [==============================] - 297s 153ms/step - loss: 0.7138 - accuracy: 0.7081 - val_loss: 3.6413 - val_accuracy: 0.3556\n",
            "Epoch 3/20\n",
            "1938/1938 [==============================] - ETA: 0s - loss: 0.6830 - accuracy: 0.7155  \n",
            "              epcoh : 2\n",
            "              loss 0.682957112789154\n",
            "              accuracy 0.7155322432518005\n",
            "              val_loss 2.7192232608795166\n",
            "              val_accuracy 0.41725805401802063\n",
            "              \n",
            "1938/1938 [==============================] - 296s 153ms/step - loss: 0.6830 - accuracy: 0.7155 - val_loss: 2.7192 - val_accuracy: 0.4173\n",
            "Epoch 4/20\n",
            "1938/1938 [==============================] - ETA: 0s - loss: 0.6679 - accuracy: 0.7220  \n",
            "              epcoh : 3\n",
            "              loss 0.6678837537765503\n",
            "              accuracy 0.7219838500022888\n",
            "              val_loss 1.0165642499923706\n",
            "              val_accuracy 0.6462096571922302\n",
            "              \n",
            "1938/1938 [==============================] - 296s 153ms/step - loss: 0.6679 - accuracy: 0.7220 - val_loss: 1.0166 - val_accuracy: 0.6462\n",
            "Epoch 5/20\n",
            "1938/1938 [==============================] - ETA: 0s - loss: 0.6556 - accuracy: 0.7240  \n",
            "              epcoh : 4\n",
            "              loss 0.6555761098861694\n",
            "              accuracy 0.7239999771118164\n",
            "              val_loss 0.8436978459358215\n",
            "              val_accuracy 0.6883870959281921\n",
            "              \n",
            "1938/1938 [==============================] - 296s 153ms/step - loss: 0.6556 - accuracy: 0.7240 - val_loss: 0.8437 - val_accuracy: 0.6884\n",
            "Epoch 6/20\n",
            "1938/1938 [==============================] - ETA: 0s - loss: 0.6468 - accuracy: 0.7273  \n",
            "              epcoh : 5\n",
            "              loss 0.6468000411987305\n",
            "              accuracy 0.7272741794586182\n",
            "              val_loss 1.8415918350219727\n",
            "              val_accuracy 0.49016129970550537\n",
            "              \n",
            "1938/1938 [==============================] - 298s 154ms/step - loss: 0.6468 - accuracy: 0.7273 - val_loss: 1.8416 - val_accuracy: 0.4902\n",
            "Epoch 7/20\n",
            "1938/1938 [==============================] - ETA: 0s - loss: 0.6418 - accuracy: 0.7285  \n",
            "              epcoh : 6\n",
            "              loss 0.6417698264122009\n",
            "              accuracy 0.7284516096115112\n",
            "              val_loss 0.8801343441009521\n",
            "              val_accuracy 0.6629838943481445\n",
            "              \n",
            "1938/1938 [==============================] - 297s 153ms/step - loss: 0.6418 - accuracy: 0.7285 - val_loss: 0.8801 - val_accuracy: 0.6630\n",
            "Epoch 8/20\n",
            "1938/1938 [==============================] - ETA: 0s - loss: 0.6304 - accuracy: 0.7319  \n",
            "              epcoh : 7\n",
            "              loss 0.6303866505622864\n",
            "              accuracy 0.7319032549858093\n",
            "              val_loss 0.8742994666099548\n",
            "              val_accuracy 0.6775806546211243\n",
            "              \n",
            "1938/1938 [==============================] - 296s 153ms/step - loss: 0.6304 - accuracy: 0.7319 - val_loss: 0.8743 - val_accuracy: 0.6776\n",
            "Epoch 9/20\n",
            "1938/1938 [==============================] - ETA: 0s - loss: 0.6201 - accuracy: 0.7362  \n",
            "              epcoh : 8\n",
            "              loss 0.6201104521751404\n",
            "              accuracy 0.7362257838249207\n",
            "              val_loss 0.7777131199836731\n",
            "              val_accuracy 0.7018548250198364\n",
            "              \n",
            "1938/1938 [==============================] - 296s 153ms/step - loss: 0.6201 - accuracy: 0.7362 - val_loss: 0.7777 - val_accuracy: 0.7019\n",
            "Epoch 10/20\n",
            "1938/1938 [==============================] - ETA: 0s - loss: 0.6223 - accuracy: 0.7370  \n",
            "              epcoh : 9\n",
            "              loss 0.6223471760749817\n",
            "              accuracy 0.7370161414146423\n",
            "              val_loss 1.3007620573043823\n",
            "              val_accuracy 0.5605645179748535\n",
            "              \n",
            "1938/1938 [==============================] - 297s 153ms/step - loss: 0.6223 - accuracy: 0.7370 - val_loss: 1.3008 - val_accuracy: 0.5606\n",
            "Epoch 11/20\n",
            "1938/1938 [==============================] - ETA: 0s - loss: 0.6158 - accuracy: 0.7381  \n",
            "              epcoh : 10\n",
            "              loss 0.6158177852630615\n",
            "              accuracy 0.7381451725959778\n",
            "              val_loss 2.4114086627960205\n",
            "              val_accuracy 0.396532267332077\n",
            "              \n",
            "1938/1938 [==============================] - 297s 153ms/step - loss: 0.6158 - accuracy: 0.7381 - val_loss: 2.4114 - val_accuracy: 0.3965\n",
            "Epoch 12/20\n",
            "1938/1938 [==============================] - ETA: 0s - loss: 0.6192 - accuracy: 0.7386  \n",
            "              epcoh : 11\n",
            "              loss 0.61917644739151\n",
            "              accuracy 0.7386290431022644\n",
            "              val_loss 4.502169609069824\n",
            "              val_accuracy 0.19564516842365265\n",
            "              \n",
            "1938/1938 [==============================] - 297s 153ms/step - loss: 0.6192 - accuracy: 0.7386 - val_loss: 4.5022 - val_accuracy: 0.1956\n",
            "Epoch 13/20\n",
            "1938/1938 [==============================] - ETA: 0s - loss: 0.6068 - accuracy: 0.7425  \n",
            "              epcoh : 12\n",
            "              loss 0.6068127751350403\n",
            "              accuracy 0.742548406124115\n",
            "              val_loss 6.908239841461182\n",
            "              val_accuracy 0.1460483819246292\n",
            "              \n",
            "1938/1938 [==============================] - 297s 153ms/step - loss: 0.6068 - accuracy: 0.7425 - val_loss: 6.9082 - val_accuracy: 0.1460\n",
            "Epoch 14/20\n",
            "1938/1938 [==============================] - ETA: 0s - loss: 0.6067 - accuracy: 0.7415  \n",
            "              epcoh : 13\n",
            "              loss 0.6066828370094299\n",
            "              accuracy 0.7415483593940735\n",
            "              val_loss 2.557135581970215\n",
            "              val_accuracy 0.39524194598197937\n",
            "              \n",
            "1938/1938 [==============================] - 297s 153ms/step - loss: 0.6067 - accuracy: 0.7415 - val_loss: 2.5571 - val_accuracy: 0.3952\n",
            "Epoch 15/20\n",
            "1938/1938 [==============================] - ETA: 0s - loss: 0.6008 - accuracy: 0.7419  \n",
            "              epcoh : 14\n",
            "              loss 0.6008198857307434\n",
            "              accuracy 0.7419354915618896\n",
            "              val_loss 4.071022987365723\n",
            "              val_accuracy 0.21177420020103455\n",
            "              \n",
            "1938/1938 [==============================] - 297s 153ms/step - loss: 0.6008 - accuracy: 0.7419 - val_loss: 4.0710 - val_accuracy: 0.2118\n",
            "Epoch 16/20\n",
            "1938/1938 [==============================] - ETA: 0s - loss: 0.6027 - accuracy: 0.7432  \n",
            "              epcoh : 15\n",
            "              loss 0.6026808023452759\n",
            "              accuracy 0.7431612610816956\n",
            "              val_loss 0.7481393218040466\n",
            "              val_accuracy 0.709354817867279\n",
            "              \n",
            "1938/1938 [==============================] - 296s 153ms/step - loss: 0.6027 - accuracy: 0.7432 - val_loss: 0.7481 - val_accuracy: 0.7094\n",
            "Epoch 17/20\n",
            "1938/1938 [==============================] - ETA: 0s - loss: 0.5965 - accuracy: 0.7470  \n",
            "              epcoh : 16\n",
            "              loss 0.5964705348014832\n",
            "              accuracy 0.7470322847366333\n",
            "              val_loss 4.481400489807129\n",
            "              val_accuracy 0.07701613008975983\n",
            "              \n",
            "1938/1938 [==============================] - 296s 153ms/step - loss: 0.5965 - accuracy: 0.7470 - val_loss: 4.4814 - val_accuracy: 0.0770\n",
            "Epoch 18/20\n",
            "1938/1938 [==============================] - ETA: 0s - loss: 0.5872 - accuracy: 0.7465  \n",
            "              epcoh : 17\n",
            "              loss 0.5872085094451904\n",
            "              accuracy 0.7465161085128784\n",
            "              val_loss 1.0535024404525757\n",
            "              val_accuracy 0.6079838871955872\n",
            "              \n",
            "1938/1938 [==============================] - 297s 153ms/step - loss: 0.5872 - accuracy: 0.7465 - val_loss: 1.0535 - val_accuracy: 0.6080\n",
            "Epoch 19/20\n",
            "1938/1938 [==============================] - ETA: 0s - loss: 0.5931 - accuracy: 0.7438  \n",
            "              epcoh : 18\n",
            "              loss 0.5931260585784912\n",
            "              accuracy 0.7438225746154785\n",
            "              val_loss 0.8467216491699219\n",
            "              val_accuracy 0.6765322685241699\n",
            "              \n",
            "1938/1938 [==============================] - 299s 154ms/step - loss: 0.5931 - accuracy: 0.7438 - val_loss: 0.8467 - val_accuracy: 0.6765\n",
            "Epoch 20/20\n",
            "1938/1938 [==============================] - ETA: 0s - loss: 0.5909 - accuracy: 0.7462  \n",
            "              epcoh : 19\n",
            "              loss 0.5908938646316528\n",
            "              accuracy 0.7461774349212646\n",
            "              val_loss 0.8498175144195557\n",
            "              val_accuracy 0.6937903165817261\n",
            "              \n",
            "1938/1938 [==============================] - 297s 153ms/step - loss: 0.5909 - accuracy: 0.7462 - val_loss: 0.8498 - val_accuracy: 0.6938\n"
          ]
        },
        {
          "output_type": "display_data",
          "data": {
            "text/plain": [
              "<IPython.core.display.HTML object>"
            ],
            "text/html": [
              "Waiting for W&B process to finish... <strong style=\"color:green\">(success).</strong>"
            ]
          },
          "metadata": {}
        },
        {
          "output_type": "display_data",
          "data": {
            "text/plain": [
              "VBox(children=(Label(value='0.001 MB of 0.001 MB uploaded (0.000 MB deduped)\\r'), FloatProgress(value=1.0, max…"
            ],
            "application/vnd.jupyter.widget-view+json": {
              "version_major": 2,
              "version_minor": 0,
              "model_id": "4216cd254fac4df295b42ddd1cdd362f"
            }
          },
          "metadata": {}
        },
        {
          "output_type": "display_data",
          "data": {
            "text/plain": [
              "<IPython.core.display.HTML object>"
            ],
            "text/html": [
              "<style>\n",
              "    table.wandb td:nth-child(1) { padding: 0 10px; text-align: left ; width: auto;} td:nth-child(2) {text-align: left ; width: 100%}\n",
              "    .wandb-row { display: flex; flex-direction: row; flex-wrap: wrap; justify-content: flex-start; width: 100% }\n",
              "    .wandb-col { display: flex; flex-direction: column; flex-basis: 100%; flex: 1; padding: 10px; }\n",
              "    </style>\n",
              "<div class=\"wandb-row\"><div class=\"wandb-col\"><h3>Run history:</h3><br/><table class=\"wandb\"><tr><td>acc</td><td>▁▅▆▆▇▇▇▇▇▇▇▇████████</td></tr><tr><td>epochs</td><td>▁▁▂▂▂▃▃▄▄▄▅▅▅▆▆▇▇▇██</td></tr><tr><td>loss</td><td>█▃▃▂▂▂▂▂▂▂▂▂▁▁▁▁▁▁▁▁</td></tr><tr><td>val_acc</td><td>▁▄▅▇█▆███▆▅▃▂▅▃█▂▇██</td></tr><tr><td>val_loss</td><td>█▂▂▁▁▁▁▁▁▁▂▂▃▂▂▁▂▁▁▁</td></tr></table><br/></div><div class=\"wandb-col\"><h3>Run summary:</h3><br/><table class=\"wandb\"><tr><td>acc</td><td>0.74618</td></tr><tr><td>epochs</td><td>19</td></tr><tr><td>loss</td><td>0.59089</td></tr><tr><td>val_acc</td><td>0.69379</td></tr><tr><td>val_loss</td><td>0.84982</td></tr></table><br/></div></div>"
            ]
          },
          "metadata": {}
        },
        {
          "output_type": "display_data",
          "data": {
            "text/plain": [
              "<IPython.core.display.HTML object>"
            ],
            "text/html": [
              "Synced <strong style=\"color:#cdcd00\">vital-sweep-2</strong>: <a href=\"https://wandb.ai/chanin-eom/eeee/runs/st8ogbrm\" target=\"_blank\">https://wandb.ai/chanin-eom/eeee/runs/st8ogbrm</a><br/>Synced 5 W&B file(s), 0 media file(s), 0 artifact file(s) and 0 other file(s)"
            ]
          },
          "metadata": {}
        },
        {
          "output_type": "display_data",
          "data": {
            "text/plain": [
              "<IPython.core.display.HTML object>"
            ],
            "text/html": [
              "Find logs at: <code>./wandb/run-20220507_181245-st8ogbrm/logs</code>"
            ]
          },
          "metadata": {}
        },
        {
          "output_type": "stream",
          "name": "stderr",
          "text": [
            "\u001b[34m\u001b[1mwandb\u001b[0m: Agent Starting Run: nfi7wvck with config:\n",
            "\u001b[34m\u001b[1mwandb\u001b[0m: \tactivation: relu\n",
            "\u001b[34m\u001b[1mwandb\u001b[0m: \tfirst_layer_node: 800\n",
            "\u001b[34m\u001b[1mwandb\u001b[0m: \tlearning_rate: 0.05\n",
            "\u001b[34m\u001b[1mwandb\u001b[0m: \tn_Dense_layer: 2\n",
            "\u001b[34m\u001b[1mwandb\u001b[0m: \toptimizer: adamax\n",
            "\u001b[34m\u001b[1mwandb\u001b[0m: \tsecond_layer_node: 100\n"
          ]
        },
        {
          "output_type": "display_data",
          "data": {
            "text/plain": [
              "<IPython.core.display.HTML object>"
            ],
            "text/html": [
              "Tracking run with wandb version 0.12.16"
            ]
          },
          "metadata": {}
        },
        {
          "output_type": "display_data",
          "data": {
            "text/plain": [
              "<IPython.core.display.HTML object>"
            ],
            "text/html": [
              "Run data is saved locally in <code>/content/cnontent/MyDrive/SSU/nural_nework/project/wandb/run-20220507_195206-nfi7wvck</code>"
            ]
          },
          "metadata": {}
        },
        {
          "output_type": "display_data",
          "data": {
            "text/plain": [
              "<IPython.core.display.HTML object>"
            ],
            "text/html": [
              "Syncing run <strong><a href=\"https://wandb.ai/chanin-eom/eeee/runs/nfi7wvck\" target=\"_blank\">serene-sweep-3</a></strong> to <a href=\"https://wandb.ai/chanin-eom/eeee\" target=\"_blank\">Weights & Biases</a> (<a href=\"https://wandb.me/run\" target=\"_blank\">docs</a>)<br/>Sweep page:  <a href=\"https://wandb.ai/chanin-eom/eeee/sweeps/q41w5tai\" target=\"_blank\">https://wandb.ai/chanin-eom/eeee/sweeps/q41w5tai</a>"
            ]
          },
          "metadata": {}
        },
        {
          "output_type": "stream",
          "name": "stdout",
          "text": [
            "Model: \"sequential\"\n",
            "_________________________________________________________________\n",
            " Layer (type)                Output Shape              Param #   \n",
            "=================================================================\n",
            " normalization (Normalizatio  (None, 28, 28, 3)        0         \n",
            " n)                                                              \n",
            "                                                                 \n",
            " resizing (Resizing)         (None, 224, 224, 3)       0         \n",
            "                                                                 \n",
            " mobilenetv2_1.00_224 (Funct  (None, 7, 7, 1280)       2257984   \n",
            " ional)                                                          \n",
            "                                                                 \n",
            " global_average_pooling2d (G  (None, 1280)             0         \n",
            " lobalAveragePooling2D)                                          \n",
            "                                                                 \n",
            " dense_1 (Dense)             (None, 800)               1024800   \n",
            "                                                                 \n",
            " re_lu (ReLU)                (None, 800)               0         \n",
            "                                                                 \n",
            " dense_2 (Dense)             (None, 100)               80100     \n",
            "                                                                 \n",
            " re_lu_1 (ReLU)              (None, 100)               0         \n",
            "                                                                 \n",
            " dense (Dense)               (None, 62)                6262      \n",
            "                                                                 \n",
            "=================================================================\n",
            "Total params: 3,369,146\n",
            "Trainable params: 3,335,034\n",
            "Non-trainable params: 34,112\n",
            "_________________________________________________________________\n",
            "None\n",
            "Epoch 1/20\n",
            "1938/1938 [==============================] - ETA: 0s - loss: 0.7407 - accuracy: 0.7070  \n",
            "              epcoh : 0\n",
            "              loss 0.7406714558601379\n",
            "              accuracy 0.7069516181945801\n",
            "              val_loss 0.7204645872116089\n",
            "              val_accuracy 0.710080623626709\n",
            "              \n",
            "1938/1938 [==============================] - 306s 158ms/step - loss: 0.7407 - accuracy: 0.7070 - val_loss: 0.7205 - val_accuracy: 0.7101\n",
            "Epoch 2/20\n",
            "1938/1938 [==============================] - ETA: 0s - loss: 0.5862 - accuracy: 0.7493  \n",
            "              epcoh : 1\n",
            "              loss 0.5861546993255615\n",
            "              accuracy 0.7492903470993042\n",
            "              val_loss 1.030477523803711\n",
            "              val_accuracy 0.6140322685241699\n",
            "              \n",
            "1938/1938 [==============================] - 298s 154ms/step - loss: 0.5862 - accuracy: 0.7493 - val_loss: 1.0305 - val_accuracy: 0.6140\n",
            "Epoch 3/20\n",
            "1938/1938 [==============================] - ETA: 0s - loss: 0.5563 - accuracy: 0.7618  \n",
            "              epcoh : 2\n",
            "              loss 0.5563327670097351\n",
            "              accuracy 0.7617741823196411\n",
            "              val_loss 0.8728130459785461\n",
            "              val_accuracy 0.6609677672386169\n",
            "              \n",
            "1938/1938 [==============================] - 299s 154ms/step - loss: 0.5563 - accuracy: 0.7618 - val_loss: 0.8728 - val_accuracy: 0.6610\n",
            "Epoch 4/20\n",
            "1938/1938 [==============================] - ETA: 0s - loss: 0.5407 - accuracy: 0.7647  \n",
            "              epcoh : 3\n",
            "              loss 0.5407240986824036\n",
            "              accuracy 0.7646613121032715\n",
            "              val_loss 0.7308141589164734\n",
            "              val_accuracy 0.6840322613716125\n",
            "              \n",
            "1938/1938 [==============================] - 298s 154ms/step - loss: 0.5407 - accuracy: 0.7647 - val_loss: 0.7308 - val_accuracy: 0.6840\n",
            "Epoch 5/20\n",
            "1938/1938 [==============================] - ETA: 0s - loss: 0.5320 - accuracy: 0.7671  \n",
            "              epcoh : 4\n",
            "              loss 0.5320116281509399\n",
            "              accuracy 0.7670645117759705\n",
            "              val_loss 0.678791344165802\n",
            "              val_accuracy 0.7386290431022644\n",
            "              \n",
            "1938/1938 [==============================] - 295s 152ms/step - loss: 0.5320 - accuracy: 0.7671 - val_loss: 0.6788 - val_accuracy: 0.7386\n",
            "Epoch 6/20\n",
            "1938/1938 [==============================] - ETA: 0s - loss: 0.5185 - accuracy: 0.7723  \n",
            "              epcoh : 5\n",
            "              loss 0.5184817314147949\n",
            "              accuracy 0.7722741961479187\n",
            "              val_loss 0.6770969033241272\n",
            "              val_accuracy 0.7295161485671997\n",
            "              \n",
            "1938/1938 [==============================] - 298s 154ms/step - loss: 0.5185 - accuracy: 0.7723 - val_loss: 0.6771 - val_accuracy: 0.7295\n",
            "Epoch 7/20\n",
            "1938/1938 [==============================] - ETA: 0s - loss: 0.5093 - accuracy: 0.7733  \n",
            "              epcoh : 6\n",
            "              loss 0.5093274712562561\n",
            "              accuracy 0.7732580900192261\n",
            "              val_loss 0.6846321225166321\n",
            "              val_accuracy 0.7223387360572815\n",
            "              \n",
            "1938/1938 [==============================] - 298s 154ms/step - loss: 0.5093 - accuracy: 0.7733 - val_loss: 0.6846 - val_accuracy: 0.7223\n",
            "Epoch 8/20\n",
            "1938/1938 [==============================] - ETA: 0s - loss: 0.5022 - accuracy: 0.7786  \n",
            "              epcoh : 7\n",
            "              loss 0.5022436380386353\n",
            "              accuracy 0.7785645127296448\n",
            "              val_loss 0.7085245847702026\n",
            "              val_accuracy 0.713225781917572\n",
            "              \n",
            "1938/1938 [==============================] - 299s 154ms/step - loss: 0.5022 - accuracy: 0.7786 - val_loss: 0.7085 - val_accuracy: 0.7132\n",
            "Epoch 9/20\n",
            "1938/1938 [==============================] - ETA: 0s - loss: 0.5006 - accuracy: 0.7785  \n",
            "              epcoh : 8\n",
            "              loss 0.5005602240562439\n",
            "              accuracy 0.7785322666168213\n",
            "              val_loss 0.667018473148346\n",
            "              val_accuracy 0.7441935539245605\n",
            "              \n",
            "1938/1938 [==============================] - 300s 155ms/step - loss: 0.5006 - accuracy: 0.7785 - val_loss: 0.6670 - val_accuracy: 0.7442\n",
            "Epoch 10/20\n",
            "1938/1938 [==============================] - ETA: 0s - loss: 0.4969 - accuracy: 0.7792  \n",
            "              epcoh : 9\n",
            "              loss 0.4968937039375305\n",
            "              accuracy 0.7791935205459595\n",
            "              val_loss 0.8610579967498779\n",
            "              val_accuracy 0.6627419590950012\n",
            "              \n",
            "1938/1938 [==============================] - 299s 154ms/step - loss: 0.4969 - accuracy: 0.7792 - val_loss: 0.8611 - val_accuracy: 0.6627\n",
            "Epoch 11/20\n",
            "1938/1938 [==============================] - ETA: 0s - loss: 0.4903 - accuracy: 0.7823  \n",
            "              epcoh : 10\n",
            "              loss 0.49028387665748596\n",
            "              accuracy 0.7823225855827332\n",
            "              val_loss 0.7277951240539551\n",
            "              val_accuracy 0.7066128849983215\n",
            "              \n",
            "1938/1938 [==============================] - 298s 154ms/step - loss: 0.4903 - accuracy: 0.7823 - val_loss: 0.7278 - val_accuracy: 0.7066\n",
            "Epoch 12/20\n",
            "1938/1938 [==============================] - ETA: 0s - loss: 0.4910 - accuracy: 0.7806  \n",
            "              epcoh : 11\n",
            "              loss 0.49096623063087463\n",
            "              accuracy 0.7806128859519958\n",
            "              val_loss 0.6972779035568237\n",
            "              val_accuracy 0.7447580695152283\n",
            "              \n",
            "1938/1938 [==============================] - 298s 154ms/step - loss: 0.4910 - accuracy: 0.7806 - val_loss: 0.6973 - val_accuracy: 0.7448\n",
            "Epoch 13/20\n",
            "1938/1938 [==============================] - ETA: 0s - loss: 0.4801 - accuracy: 0.7857  \n",
            "              epcoh : 12\n",
            "              loss 0.48011818528175354\n",
            "              accuracy 0.785741925239563\n",
            "              val_loss 0.7554934620857239\n",
            "              val_accuracy 0.6999193429946899\n",
            "              \n",
            "1938/1938 [==============================] - 299s 154ms/step - loss: 0.4801 - accuracy: 0.7857 - val_loss: 0.7555 - val_accuracy: 0.6999\n",
            "Epoch 14/20\n",
            "1938/1938 [==============================] - ETA: 0s - loss: 0.4792 - accuracy: 0.7879  \n",
            "              epcoh : 13\n",
            "              loss 0.4792335629463196\n",
            "              accuracy 0.7879354953765869\n",
            "              val_loss 0.6982159614562988\n",
            "              val_accuracy 0.7506451606750488\n",
            "              \n",
            "1938/1938 [==============================] - 296s 153ms/step - loss: 0.4792 - accuracy: 0.7879 - val_loss: 0.6982 - val_accuracy: 0.7506\n",
            "Epoch 15/20\n",
            "1938/1938 [==============================] - ETA: 0s - loss: 0.4757 - accuracy: 0.7871  \n",
            "              epcoh : 14\n",
            "              loss 0.47574710845947266\n",
            "              accuracy 0.7871451377868652\n",
            "              val_loss 0.6791837811470032\n",
            "              val_accuracy 0.7533064484596252\n",
            "              \n",
            "1938/1938 [==============================] - 299s 154ms/step - loss: 0.4757 - accuracy: 0.7871 - val_loss: 0.6792 - val_accuracy: 0.7533\n",
            "Epoch 16/20\n",
            "1938/1938 [==============================] - ETA: 0s - loss: 0.4724 - accuracy: 0.7886  \n",
            "              epcoh : 15\n",
            "              loss 0.47242775559425354\n",
            "              accuracy 0.7886129021644592\n",
            "              val_loss 0.8351472020149231\n",
            "              val_accuracy 0.6770161390304565\n",
            "              \n",
            "1938/1938 [==============================] - 299s 154ms/step - loss: 0.4724 - accuracy: 0.7886 - val_loss: 0.8351 - val_accuracy: 0.6770\n",
            "Epoch 17/20\n",
            "1938/1938 [==============================] - ETA: 0s - loss: 0.4713 - accuracy: 0.7902  \n",
            "              epcoh : 16\n",
            "              loss 0.4713295102119446\n",
            "              accuracy 0.7902419567108154\n",
            "              val_loss 0.8002013564109802\n",
            "              val_accuracy 0.704596757888794\n",
            "              \n",
            "1938/1938 [==============================] - 300s 155ms/step - loss: 0.4713 - accuracy: 0.7902 - val_loss: 0.8002 - val_accuracy: 0.7046\n",
            "Epoch 18/20\n",
            "1938/1938 [==============================] - ETA: 0s - loss: 0.4666 - accuracy: 0.7916  \n",
            "              epcoh : 17\n",
            "              loss 0.46656906604766846\n",
            "              accuracy 0.7915806174278259\n",
            "              val_loss 0.7034960389137268\n",
            "              val_accuracy 0.7485483884811401\n",
            "              \n",
            "1938/1938 [==============================] - 300s 155ms/step - loss: 0.4666 - accuracy: 0.7916 - val_loss: 0.7035 - val_accuracy: 0.7485\n",
            "Epoch 19/20\n",
            "1938/1938 [==============================] - ETA: 0s - loss: 0.4710 - accuracy: 0.7902  \n",
            "              epcoh : 18\n",
            "              loss 0.47103261947631836\n",
            "              accuracy 0.7901613116264343\n",
            "              val_loss 0.7696937918663025\n",
            "              val_accuracy 0.7317742109298706\n",
            "              \n",
            "1938/1938 [==============================] - 296s 153ms/step - loss: 0.4710 - accuracy: 0.7902 - val_loss: 0.7697 - val_accuracy: 0.7318\n",
            "Epoch 20/20\n",
            "1938/1938 [==============================] - ETA: 0s - loss: 0.4621 - accuracy: 0.7926  \n",
            "              epcoh : 19\n",
            "              loss 0.46213459968566895\n",
            "              accuracy 0.7925967574119568\n",
            "              val_loss 0.7154371738433838\n",
            "              val_accuracy 0.7512903213500977\n",
            "              \n",
            "1938/1938 [==============================] - 299s 154ms/step - loss: 0.4621 - accuracy: 0.7926 - val_loss: 0.7154 - val_accuracy: 0.7513\n"
          ]
        },
        {
          "output_type": "display_data",
          "data": {
            "text/plain": [
              "<IPython.core.display.HTML object>"
            ],
            "text/html": [
              "Waiting for W&B process to finish... <strong style=\"color:green\">(success).</strong>"
            ]
          },
          "metadata": {}
        },
        {
          "output_type": "display_data",
          "data": {
            "text/plain": [
              "VBox(children=(Label(value='0.001 MB of 0.001 MB uploaded (0.000 MB deduped)\\r'), FloatProgress(value=1.0, max…"
            ],
            "application/vnd.jupyter.widget-view+json": {
              "version_major": 2,
              "version_minor": 0,
              "model_id": "ee565fbcb0c348a097224341a6fac28e"
            }
          },
          "metadata": {}
        },
        {
          "output_type": "display_data",
          "data": {
            "text/plain": [
              "<IPython.core.display.HTML object>"
            ],
            "text/html": [
              "<style>\n",
              "    table.wandb td:nth-child(1) { padding: 0 10px; text-align: left ; width: auto;} td:nth-child(2) {text-align: left ; width: 100%}\n",
              "    .wandb-row { display: flex; flex-direction: row; flex-wrap: wrap; justify-content: flex-start; width: 100% }\n",
              "    .wandb-col { display: flex; flex-direction: column; flex-basis: 100%; flex: 1; padding: 10px; }\n",
              "    </style>\n",
              "<div class=\"wandb-row\"><div class=\"wandb-col\"><h3>Run history:</h3><br/><table class=\"wandb\"><tr><td>acc</td><td>▁▄▅▆▆▆▆▇▇▇▇▇▇███████</td></tr><tr><td>epochs</td><td>▁▁▂▂▂▃▃▄▄▄▅▅▅▆▆▇▇▇██</td></tr><tr><td>loss</td><td>█▄▃▃▃▂▂▂▂▂▂▂▁▁▁▁▁▁▁▁</td></tr><tr><td>val_acc</td><td>▆▁▃▅▇▇▆▆█▃▆█▅██▄▆█▇█</td></tr><tr><td>val_loss</td><td>▂█▅▂▁▁▁▂▁▅▂▂▃▂▁▄▄▂▃▂</td></tr></table><br/></div><div class=\"wandb-col\"><h3>Run summary:</h3><br/><table class=\"wandb\"><tr><td>acc</td><td>0.7926</td></tr><tr><td>epochs</td><td>19</td></tr><tr><td>loss</td><td>0.46213</td></tr><tr><td>val_acc</td><td>0.75129</td></tr><tr><td>val_loss</td><td>0.71544</td></tr></table><br/></div></div>"
            ]
          },
          "metadata": {}
        },
        {
          "output_type": "display_data",
          "data": {
            "text/plain": [
              "<IPython.core.display.HTML object>"
            ],
            "text/html": [
              "Synced <strong style=\"color:#cdcd00\">serene-sweep-3</strong>: <a href=\"https://wandb.ai/chanin-eom/eeee/runs/nfi7wvck\" target=\"_blank\">https://wandb.ai/chanin-eom/eeee/runs/nfi7wvck</a><br/>Synced 5 W&B file(s), 0 media file(s), 0 artifact file(s) and 0 other file(s)"
            ]
          },
          "metadata": {}
        },
        {
          "output_type": "display_data",
          "data": {
            "text/plain": [
              "<IPython.core.display.HTML object>"
            ],
            "text/html": [
              "Find logs at: <code>./wandb/run-20220507_195206-nfi7wvck/logs</code>"
            ]
          },
          "metadata": {}
        },
        {
          "output_type": "stream",
          "name": "stderr",
          "text": [
            "\u001b[34m\u001b[1mwandb\u001b[0m: Sweep Agent: Waiting for job.\n",
            "\u001b[34m\u001b[1mwandb\u001b[0m: Job received.\n",
            "\u001b[34m\u001b[1mwandb\u001b[0m: Agent Starting Run: 8qrsxd8a with config:\n",
            "\u001b[34m\u001b[1mwandb\u001b[0m: \tactivation: elu\n",
            "\u001b[34m\u001b[1mwandb\u001b[0m: \tfirst_layer_node: 500\n",
            "\u001b[34m\u001b[1mwandb\u001b[0m: \tlearning_rate: 0.01\n",
            "\u001b[34m\u001b[1mwandb\u001b[0m: \tn_Dense_layer: 1\n",
            "\u001b[34m\u001b[1mwandb\u001b[0m: \toptimizer: adam\n",
            "\u001b[34m\u001b[1mwandb\u001b[0m: \tsecond_layer_node: 120\n"
          ]
        },
        {
          "output_type": "display_data",
          "data": {
            "text/plain": [
              "<IPython.core.display.HTML object>"
            ],
            "text/html": [
              "Tracking run with wandb version 0.12.16"
            ]
          },
          "metadata": {}
        },
        {
          "output_type": "display_data",
          "data": {
            "text/plain": [
              "<IPython.core.display.HTML object>"
            ],
            "text/html": [
              "Run data is saved locally in <code>/content/cnontent/MyDrive/SSU/nural_nework/project/wandb/run-20220507_213256-8qrsxd8a</code>"
            ]
          },
          "metadata": {}
        },
        {
          "output_type": "display_data",
          "data": {
            "text/plain": [
              "<IPython.core.display.HTML object>"
            ],
            "text/html": [
              "Syncing run <strong><a href=\"https://wandb.ai/chanin-eom/eeee/runs/8qrsxd8a\" target=\"_blank\">desert-sweep-4</a></strong> to <a href=\"https://wandb.ai/chanin-eom/eeee\" target=\"_blank\">Weights & Biases</a> (<a href=\"https://wandb.me/run\" target=\"_blank\">docs</a>)<br/>Sweep page:  <a href=\"https://wandb.ai/chanin-eom/eeee/sweeps/q41w5tai\" target=\"_blank\">https://wandb.ai/chanin-eom/eeee/sweeps/q41w5tai</a>"
            ]
          },
          "metadata": {}
        },
        {
          "output_type": "stream",
          "name": "stdout",
          "text": [
            "Model: \"sequential\"\n",
            "_________________________________________________________________\n",
            " Layer (type)                Output Shape              Param #   \n",
            "=================================================================\n",
            " normalization (Normalizatio  (None, 28, 28, 3)        0         \n",
            " n)                                                              \n",
            "                                                                 \n",
            " resizing (Resizing)         (None, 224, 224, 3)       0         \n",
            "                                                                 \n",
            " mobilenetv2_1.00_224 (Funct  (None, 7, 7, 1280)       2257984   \n",
            " ional)                                                          \n",
            "                                                                 \n",
            " global_average_pooling2d (G  (None, 1280)             0         \n",
            " lobalAveragePooling2D)                                          \n",
            "                                                                 \n",
            " dense_1 (Dense)             (None, 500)               640500    \n",
            "                                                                 \n",
            " elu (ELU)                   (None, 500)               0         \n",
            "                                                                 \n",
            " dense (Dense)               (None, 62)                31062     \n",
            "                                                                 \n",
            "=================================================================\n",
            "Total params: 2,929,546\n",
            "Trainable params: 2,895,434\n",
            "Non-trainable params: 34,112\n",
            "_________________________________________________________________\n",
            "None\n",
            "Epoch 1/20\n",
            "1938/1938 [==============================] - ETA: 0s - loss: 0.6403 - accuracy: 0.7455  \n",
            "              epcoh : 0\n",
            "              loss 0.6403210759162903\n",
            "              accuracy 0.7455000281333923\n",
            "              val_loss 1.4106078147888184\n",
            "              val_accuracy 0.5258870720863342\n",
            "              \n",
            "1938/1938 [==============================] - 304s 157ms/step - loss: 0.6403 - accuracy: 0.7455 - val_loss: 1.4106 - val_accuracy: 0.5259\n",
            "Epoch 2/20\n",
            "1938/1938 [==============================] - ETA: 0s - loss: 0.5622 - accuracy: 0.7631  \n",
            "              epcoh : 1\n",
            "              loss 0.562247633934021\n",
            "              accuracy 0.7630806565284729\n",
            "              val_loss 0.7533204555511475\n",
            "              val_accuracy 0.7218548655509949\n",
            "              \n",
            "1938/1938 [==============================] - 295s 152ms/step - loss: 0.5622 - accuracy: 0.7631 - val_loss: 0.7533 - val_accuracy: 0.7219\n",
            "Epoch 3/20\n",
            "1938/1938 [==============================] - ETA: 0s - loss: 0.5529 - accuracy: 0.7646  \n",
            "              epcoh : 2\n",
            "              loss 0.5529327988624573\n",
            "              accuracy 0.7646290063858032\n",
            "              val_loss 0.761819064617157\n",
            "              val_accuracy 0.717096745967865\n",
            "              \n",
            "1938/1938 [==============================] - 297s 153ms/step - loss: 0.5529 - accuracy: 0.7646 - val_loss: 0.7618 - val_accuracy: 0.7171\n",
            "Epoch 4/20\n",
            "1938/1938 [==============================] - ETA: 0s - loss: 0.5404 - accuracy: 0.7690  \n",
            "              epcoh : 3\n",
            "              loss 0.5404370427131653\n",
            "              accuracy 0.7689515948295593\n",
            "              val_loss 0.7573511600494385\n",
            "              val_accuracy 0.709274172782898\n",
            "              \n",
            "1938/1938 [==============================] - 295s 152ms/step - loss: 0.5404 - accuracy: 0.7690 - val_loss: 0.7574 - val_accuracy: 0.7093\n",
            "Epoch 5/20\n",
            "1938/1938 [==============================] - ETA: 0s - loss: 0.5312 - accuracy: 0.7725  \n",
            "              epcoh : 4\n",
            "              loss 0.5312449336051941\n",
            "              accuracy 0.772451639175415\n",
            "              val_loss 0.6933542490005493\n",
            "              val_accuracy 0.732096791267395\n",
            "              \n",
            "1938/1938 [==============================] - 290s 150ms/step - loss: 0.5312 - accuracy: 0.7725 - val_loss: 0.6934 - val_accuracy: 0.7321\n",
            "Epoch 6/20\n",
            "1938/1938 [==============================] - ETA: 0s - loss: 0.5251 - accuracy: 0.7740  \n",
            "              epcoh : 5\n",
            "              loss 0.5251191854476929\n",
            "              accuracy 0.774048388004303\n",
            "              val_loss 0.9596886038780212\n",
            "              val_accuracy 0.6450806260108948\n",
            "              \n",
            "1938/1938 [==============================] - 295s 152ms/step - loss: 0.5251 - accuracy: 0.7740 - val_loss: 0.9597 - val_accuracy: 0.6451\n",
            "Epoch 7/20\n",
            "1938/1938 [==============================] - ETA: 0s - loss: 0.5139 - accuracy: 0.7777  \n",
            "              epcoh : 6\n",
            "              loss 0.5139273405075073\n",
            "              accuracy 0.7776935696601868\n",
            "              val_loss 0.7328341603279114\n",
            "              val_accuracy 0.723548412322998\n",
            "              \n",
            "1938/1938 [==============================] - 294s 152ms/step - loss: 0.5139 - accuracy: 0.7777 - val_loss: 0.7328 - val_accuracy: 0.7235\n",
            "Epoch 8/20\n",
            "1938/1938 [==============================] - ETA: 0s - loss: 0.5085 - accuracy: 0.7806  \n",
            "              epcoh : 7\n",
            "              loss 0.5085426568984985\n",
            "              accuracy 0.7805967926979065\n",
            "              val_loss 0.8323913812637329\n",
            "              val_accuracy 0.7189516425132751\n",
            "              \n",
            "1938/1938 [==============================] - 295s 152ms/step - loss: 0.5085 - accuracy: 0.7806 - val_loss: 0.8324 - val_accuracy: 0.7190\n",
            "Epoch 9/20\n",
            "1938/1938 [==============================] - ETA: 0s - loss: 0.5010 - accuracy: 0.7826  \n",
            "              epcoh : 8\n",
            "              loss 0.5010378956794739\n",
            "              accuracy 0.7826129198074341\n",
            "              val_loss 0.6525908708572388\n",
            "              val_accuracy 0.7641935348510742\n",
            "              \n",
            "1938/1938 [==============================] - 295s 152ms/step - loss: 0.5010 - accuracy: 0.7826 - val_loss: 0.6526 - val_accuracy: 0.7642\n",
            "Epoch 10/20\n",
            "1938/1938 [==============================] - ETA: 0s - loss: 0.4946 - accuracy: 0.7846  \n",
            "              epcoh : 9\n",
            "              loss 0.49463143944740295\n",
            "              accuracy 0.784580647945404\n",
            "              val_loss 0.6710903644561768\n",
            "              val_accuracy 0.7447580695152283\n",
            "              \n",
            "1938/1938 [==============================] - 296s 153ms/step - loss: 0.4946 - accuracy: 0.7846 - val_loss: 0.6711 - val_accuracy: 0.7448\n",
            "Epoch 11/20\n",
            "1938/1938 [==============================] - ETA: 0s - loss: 0.4908 - accuracy: 0.7856  \n",
            "              epcoh : 10\n",
            "              loss 0.490816593170166\n",
            "              accuracy 0.7856128811836243\n",
            "              val_loss 0.7256947755813599\n",
            "              val_accuracy 0.7225806713104248\n",
            "              \n",
            "1938/1938 [==============================] - 295s 152ms/step - loss: 0.4908 - accuracy: 0.7856 - val_loss: 0.7257 - val_accuracy: 0.7226\n",
            "Epoch 12/20\n",
            "1938/1938 [==============================] - ETA: 0s - loss: 0.4879 - accuracy: 0.7877  \n",
            "              epcoh : 11\n",
            "              loss 0.48793497681617737\n",
            "              accuracy 0.7876774072647095\n",
            "              val_loss 0.6803666949272156\n",
            "              val_accuracy 0.751532256603241\n",
            "              \n",
            "1938/1938 [==============================] - 295s 152ms/step - loss: 0.4879 - accuracy: 0.7877 - val_loss: 0.6804 - val_accuracy: 0.7515\n",
            "Epoch 13/20\n",
            "1938/1938 [==============================] - ETA: 0s - loss: 0.4824 - accuracy: 0.7888  \n",
            "              epcoh : 12\n",
            "              loss 0.48243072628974915\n",
            "              accuracy 0.7887903451919556\n",
            "              val_loss 0.7250619530677795\n",
            "              val_accuracy 0.7449193596839905\n",
            "              \n",
            "1938/1938 [==============================] - 295s 152ms/step - loss: 0.4824 - accuracy: 0.7888 - val_loss: 0.7251 - val_accuracy: 0.7449\n",
            "Epoch 14/20\n",
            "1938/1938 [==============================] - ETA: 0s - loss: 0.4764 - accuracy: 0.7908  \n",
            "              epcoh : 13\n",
            "              loss 0.4763786494731903\n",
            "              accuracy 0.790790319442749\n",
            "              val_loss 0.7147188186645508\n",
            "              val_accuracy 0.7370161414146423\n",
            "              \n",
            "1938/1938 [==============================] - 295s 152ms/step - loss: 0.4764 - accuracy: 0.7908 - val_loss: 0.7147 - val_accuracy: 0.7370\n",
            "Epoch 15/20\n",
            "1938/1938 [==============================] - ETA: 0s - loss: 0.4730 - accuracy: 0.7936  \n",
            "              epcoh : 14\n",
            "              loss 0.47297483682632446\n",
            "              accuracy 0.7936128973960876\n",
            "              val_loss 0.6968289017677307\n",
            "              val_accuracy 0.7370161414146423\n",
            "              \n",
            "1938/1938 [==============================] - 294s 152ms/step - loss: 0.4730 - accuracy: 0.7936 - val_loss: 0.6968 - val_accuracy: 0.7370\n",
            "Epoch 16/20\n",
            "1938/1938 [==============================] - ETA: 0s - loss: 0.4681 - accuracy: 0.7945  \n",
            "              epcoh : 15\n",
            "              loss 0.4681394398212433\n",
            "              accuracy 0.7945483922958374\n",
            "              val_loss 0.652477502822876\n",
            "              val_accuracy 0.7503225803375244\n",
            "              \n",
            "1938/1938 [==============================] - 295s 152ms/step - loss: 0.4681 - accuracy: 0.7945 - val_loss: 0.6525 - val_accuracy: 0.7503\n",
            "Epoch 17/20\n",
            "1938/1938 [==============================] - ETA: 0s - loss: 0.4620 - accuracy: 0.7960  \n",
            "              epcoh : 16\n",
            "              loss 0.4620029330253601\n",
            "              accuracy 0.7960000038146973\n",
            "              val_loss 0.7638548016548157\n",
            "              val_accuracy 0.7303225994110107\n",
            "              \n",
            "1938/1938 [==============================] - 293s 151ms/step - loss: 0.4620 - accuracy: 0.7960 - val_loss: 0.7639 - val_accuracy: 0.7303\n",
            "Epoch 18/20\n",
            "1938/1938 [==============================] - ETA: 0s - loss: 0.4577 - accuracy: 0.7987  \n",
            "              epcoh : 17\n",
            "              loss 0.4576833248138428\n",
            "              accuracy 0.7986612915992737\n",
            "              val_loss 0.7302670478820801\n",
            "              val_accuracy 0.7463709712028503\n",
            "              \n",
            "1938/1938 [==============================] - 294s 152ms/step - loss: 0.4577 - accuracy: 0.7987 - val_loss: 0.7303 - val_accuracy: 0.7464\n",
            "Epoch 19/20\n",
            "1938/1938 [==============================] - ETA: 0s - loss: 0.4570 - accuracy: 0.7986  \n",
            "              epcoh : 18\n",
            "              loss 0.45696958899497986\n",
            "              accuracy 0.7985644936561584\n",
            "              val_loss 0.7364383935928345\n",
            "              val_accuracy 0.7501612901687622\n",
            "              \n",
            "1938/1938 [==============================] - 295s 152ms/step - loss: 0.4570 - accuracy: 0.7986 - val_loss: 0.7364 - val_accuracy: 0.7502\n",
            "Epoch 20/20\n",
            "1938/1938 [==============================] - ETA: 0s - loss: 0.4546 - accuracy: 0.7994  \n",
            "              epcoh : 19\n",
            "              loss 0.4546062648296356\n",
            "              accuracy 0.7994193434715271\n",
            "              val_loss 0.8315890431404114\n",
            "              val_accuracy 0.6919354796409607\n",
            "              \n",
            "1938/1938 [==============================] - 295s 152ms/step - loss: 0.4546 - accuracy: 0.7994 - val_loss: 0.8316 - val_accuracy: 0.6919\n"
          ]
        },
        {
          "output_type": "display_data",
          "data": {
            "text/plain": [
              "<IPython.core.display.HTML object>"
            ],
            "text/html": [
              "Waiting for W&B process to finish... <strong style=\"color:green\">(success).</strong>"
            ]
          },
          "metadata": {}
        },
        {
          "output_type": "display_data",
          "data": {
            "text/plain": [
              "VBox(children=(Label(value='0.001 MB of 0.001 MB uploaded (0.000 MB deduped)\\r'), FloatProgress(value=1.0, max…"
            ],
            "application/vnd.jupyter.widget-view+json": {
              "version_major": 2,
              "version_minor": 0,
              "model_id": "4ebca9d28e4d47f69cd2acd73f697352"
            }
          },
          "metadata": {}
        },
        {
          "output_type": "display_data",
          "data": {
            "text/plain": [
              "<IPython.core.display.HTML object>"
            ],
            "text/html": [
              "<style>\n",
              "    table.wandb td:nth-child(1) { padding: 0 10px; text-align: left ; width: auto;} td:nth-child(2) {text-align: left ; width: 100%}\n",
              "    .wandb-row { display: flex; flex-direction: row; flex-wrap: wrap; justify-content: flex-start; width: 100% }\n",
              "    .wandb-col { display: flex; flex-direction: column; flex-basis: 100%; flex: 1; padding: 10px; }\n",
              "    </style>\n",
              "<div class=\"wandb-row\"><div class=\"wandb-col\"><h3>Run history:</h3><br/><table class=\"wandb\"><tr><td>acc</td><td>▁▃▃▄▄▅▅▆▆▆▆▆▇▇▇▇████</td></tr><tr><td>epochs</td><td>▁▁▂▂▂▃▃▄▄▄▅▅▅▆▆▇▇▇██</td></tr><tr><td>loss</td><td>█▅▅▄▄▄▃▃▃▃▂▂▂▂▂▂▁▁▁▁</td></tr><tr><td>val_acc</td><td>▁▇▇▆▇▅▇▇█▇▇█▇▇▇█▇▇█▆</td></tr><tr><td>val_loss</td><td>█▂▂▂▁▄▂▃▁▁▂▁▂▂▁▁▂▂▂▃</td></tr></table><br/></div><div class=\"wandb-col\"><h3>Run summary:</h3><br/><table class=\"wandb\"><tr><td>acc</td><td>0.79942</td></tr><tr><td>epochs</td><td>19</td></tr><tr><td>loss</td><td>0.45461</td></tr><tr><td>val_acc</td><td>0.69194</td></tr><tr><td>val_loss</td><td>0.83159</td></tr></table><br/></div></div>"
            ]
          },
          "metadata": {}
        },
        {
          "output_type": "display_data",
          "data": {
            "text/plain": [
              "<IPython.core.display.HTML object>"
            ],
            "text/html": [
              "Synced <strong style=\"color:#cdcd00\">desert-sweep-4</strong>: <a href=\"https://wandb.ai/chanin-eom/eeee/runs/8qrsxd8a\" target=\"_blank\">https://wandb.ai/chanin-eom/eeee/runs/8qrsxd8a</a><br/>Synced 5 W&B file(s), 0 media file(s), 0 artifact file(s) and 0 other file(s)"
            ]
          },
          "metadata": {}
        },
        {
          "output_type": "display_data",
          "data": {
            "text/plain": [
              "<IPython.core.display.HTML object>"
            ],
            "text/html": [
              "Find logs at: <code>./wandb/run-20220507_213256-8qrsxd8a/logs</code>"
            ]
          },
          "metadata": {}
        },
        {
          "output_type": "stream",
          "name": "stderr",
          "text": [
            "\u001b[34m\u001b[1mwandb\u001b[0m: Agent Starting Run: 5lnb3lp8 with config:\n",
            "\u001b[34m\u001b[1mwandb\u001b[0m: \tactivation: leacky_relu\n",
            "\u001b[34m\u001b[1mwandb\u001b[0m: \tfirst_layer_node: 1000\n",
            "\u001b[34m\u001b[1mwandb\u001b[0m: \tlearning_rate: 0.05\n",
            "\u001b[34m\u001b[1mwandb\u001b[0m: \tn_Dense_layer: 2\n",
            "\u001b[34m\u001b[1mwandb\u001b[0m: \toptimizer: momentum\n",
            "\u001b[34m\u001b[1mwandb\u001b[0m: \tsecond_layer_node: 120\n"
          ]
        },
        {
          "output_type": "display_data",
          "data": {
            "text/plain": [
              "<IPython.core.display.HTML object>"
            ],
            "text/html": [
              "Tracking run with wandb version 0.12.16"
            ]
          },
          "metadata": {}
        },
        {
          "output_type": "display_data",
          "data": {
            "text/plain": [
              "<IPython.core.display.HTML object>"
            ],
            "text/html": [
              "Run data is saved locally in <code>/content/cnontent/MyDrive/SSU/nural_nework/project/wandb/run-20220507_231135-5lnb3lp8</code>"
            ]
          },
          "metadata": {}
        },
        {
          "output_type": "display_data",
          "data": {
            "text/plain": [
              "<IPython.core.display.HTML object>"
            ],
            "text/html": [
              "Syncing run <strong><a href=\"https://wandb.ai/chanin-eom/eeee/runs/5lnb3lp8\" target=\"_blank\">usual-sweep-5</a></strong> to <a href=\"https://wandb.ai/chanin-eom/eeee\" target=\"_blank\">Weights & Biases</a> (<a href=\"https://wandb.me/run\" target=\"_blank\">docs</a>)<br/>Sweep page:  <a href=\"https://wandb.ai/chanin-eom/eeee/sweeps/q41w5tai\" target=\"_blank\">https://wandb.ai/chanin-eom/eeee/sweeps/q41w5tai</a>"
            ]
          },
          "metadata": {}
        },
        {
          "output_type": "stream",
          "name": "stdout",
          "text": [
            "Model: \"sequential\"\n",
            "_________________________________________________________________\n",
            " Layer (type)                Output Shape              Param #   \n",
            "=================================================================\n",
            " normalization (Normalizatio  (None, 28, 28, 3)        0         \n",
            " n)                                                              \n",
            "                                                                 \n",
            " resizing (Resizing)         (None, 224, 224, 3)       0         \n",
            "                                                                 \n",
            " mobilenetv2_1.00_224 (Funct  (None, 7, 7, 1280)       2257984   \n",
            " ional)                                                          \n",
            "                                                                 \n",
            " global_average_pooling2d (G  (None, 1280)             0         \n",
            " lobalAveragePooling2D)                                          \n",
            "                                                                 \n",
            " dense_1 (Dense)             (None, 1000)              1281000   \n",
            "                                                                 \n",
            " leaky_re_lu (LeakyReLU)     (None, 1000)              0         \n",
            "                                                                 \n",
            " dense_2 (Dense)             (None, 120)               120120    \n",
            "                                                                 \n",
            " leaky_re_lu_1 (LeakyReLU)   (None, 120)               0         \n",
            "                                                                 \n",
            " dense (Dense)               (None, 62)                7502      \n",
            "                                                                 \n",
            "=================================================================\n",
            "Total params: 3,666,606\n",
            "Trainable params: 3,632,494\n",
            "Non-trainable params: 34,112\n",
            "_________________________________________________________________\n",
            "None\n",
            "Epoch 1/20\n",
            "1938/1938 [==============================] - ETA: 0s - loss: 1.4280 - accuracy: 0.5807  \n",
            "              epcoh : 0\n",
            "              loss 1.4279992580413818\n",
            "              accuracy 0.5807257890701294\n",
            "              val_loss 0.624309778213501\n",
            "              val_accuracy 0.7480645179748535\n",
            "              \n",
            "1938/1938 [==============================] - 305s 157ms/step - loss: 1.4280 - accuracy: 0.5807 - val_loss: 0.6243 - val_accuracy: 0.7481\n",
            "Epoch 2/20\n",
            "1938/1938 [==============================] - ETA: 0s - loss: 0.5056 - accuracy: 0.7814  \n",
            "              epcoh : 1\n",
            "              loss 0.5055735111236572\n",
            "              accuracy 0.781370997428894\n",
            "              val_loss 0.6471732258796692\n",
            "              val_accuracy 0.7412903308868408\n",
            "              \n",
            "1938/1938 [==============================] - 296s 153ms/step - loss: 0.5056 - accuracy: 0.7814 - val_loss: 0.6472 - val_accuracy: 0.7413\n",
            "Epoch 3/20\n",
            "1938/1938 [==============================] - ETA: 0s - loss: 0.4708 - accuracy: 0.7924  \n",
            "              epcoh : 2\n",
            "              loss 0.47084692120552063\n",
            "              accuracy 0.7923709750175476\n",
            "              val_loss 0.5870414972305298\n",
            "              val_accuracy 0.7627419233322144\n",
            "              \n",
            "1938/1938 [==============================] - 297s 153ms/step - loss: 0.4708 - accuracy: 0.7924 - val_loss: 0.5870 - val_accuracy: 0.7627\n",
            "Epoch 4/20\n",
            "1938/1938 [==============================] - ETA: 0s - loss: 0.4480 - accuracy: 0.8009  \n",
            "              epcoh : 3\n",
            "              loss 0.4479595422744751\n",
            "              accuracy 0.8009355068206787\n",
            "              val_loss 0.6592910289764404\n",
            "              val_accuracy 0.7466129064559937\n",
            "              \n",
            "1938/1938 [==============================] - 296s 153ms/step - loss: 0.4480 - accuracy: 0.8009 - val_loss: 0.6593 - val_accuracy: 0.7466\n",
            "Epoch 5/20\n",
            "1938/1938 [==============================] - ETA: 0s - loss: 0.4338 - accuracy: 0.8083  \n",
            "              epcoh : 4\n",
            "              loss 0.43376708030700684\n",
            "              accuracy 0.8082903027534485\n",
            "              val_loss 0.5655381679534912\n",
            "              val_accuracy 0.7684677243232727\n",
            "              \n",
            "1938/1938 [==============================] - 295s 152ms/step - loss: 0.4338 - accuracy: 0.8083 - val_loss: 0.5655 - val_accuracy: 0.7685\n",
            "Epoch 6/20\n",
            "1938/1938 [==============================] - ETA: 0s - loss: 0.4228 - accuracy: 0.8129  \n",
            "              epcoh : 5\n",
            "              loss 0.42276838421821594\n",
            "              accuracy 0.8128870725631714\n",
            "              val_loss 0.5797610282897949\n",
            "              val_accuracy 0.7691935300827026\n",
            "              \n",
            "1938/1938 [==============================] - 295s 152ms/step - loss: 0.4228 - accuracy: 0.8129 - val_loss: 0.5798 - val_accuracy: 0.7692\n",
            "Epoch 7/20\n",
            "1938/1938 [==============================] - ETA: 0s - loss: 0.4160 - accuracy: 0.8136  \n",
            "              epcoh : 6\n",
            "              loss 0.4159694314002991\n",
            "              accuracy 0.8135645389556885\n",
            "              val_loss 0.5835219621658325\n",
            "              val_accuracy 0.7703225612640381\n",
            "              \n",
            "1938/1938 [==============================] - 295s 152ms/step - loss: 0.4160 - accuracy: 0.8136 - val_loss: 0.5835 - val_accuracy: 0.7703\n",
            "Epoch 8/20\n",
            "1938/1938 [==============================] - ETA: 0s - loss: 0.4065 - accuracy: 0.8193  \n",
            "              epcoh : 7\n",
            "              loss 0.4065168797969818\n",
            "              accuracy 0.8192903399467468\n",
            "              val_loss 0.745903730392456\n",
            "              val_accuracy 0.6980645060539246\n",
            "              \n",
            "1938/1938 [==============================] - 296s 153ms/step - loss: 0.4065 - accuracy: 0.8193 - val_loss: 0.7459 - val_accuracy: 0.6981\n",
            "Epoch 9/20\n",
            "1938/1938 [==============================] - ETA: 0s - loss: 0.3994 - accuracy: 0.8209  \n",
            "              epcoh : 8\n",
            "              loss 0.39940470457077026\n",
            "              accuracy 0.8208548426628113\n",
            "              val_loss 0.5944764018058777\n",
            "              val_accuracy 0.7706451416015625\n",
            "              \n",
            "1938/1938 [==============================] - 296s 153ms/step - loss: 0.3994 - accuracy: 0.8209 - val_loss: 0.5945 - val_accuracy: 0.7706\n",
            "Epoch 10/20\n",
            "1938/1938 [==============================] - ETA: 0s - loss: 0.3973 - accuracy: 0.8216  \n",
            "              epcoh : 9\n",
            "              loss 0.39729633927345276\n",
            "              accuracy 0.8216451406478882\n",
            "              val_loss 0.6079100370407104\n",
            "              val_accuracy 0.7649999856948853\n",
            "              \n",
            "1938/1938 [==============================] - 297s 153ms/step - loss: 0.3973 - accuracy: 0.8216 - val_loss: 0.6079 - val_accuracy: 0.7650\n",
            "Epoch 11/20\n",
            "1938/1938 [==============================] - ETA: 0s - loss: 0.3928 - accuracy: 0.8253  \n",
            "              epcoh : 10\n",
            "              loss 0.39282914996147156\n",
            "              accuracy 0.8252580761909485\n",
            "              val_loss 0.5992605090141296\n",
            "              val_accuracy 0.7658064365386963\n",
            "              \n",
            "1938/1938 [==============================] - 296s 153ms/step - loss: 0.3928 - accuracy: 0.8253 - val_loss: 0.5993 - val_accuracy: 0.7658\n",
            "Epoch 12/20\n",
            "1938/1938 [==============================] - ETA: 0s - loss: 0.3885 - accuracy: 0.8265  \n",
            "              epcoh : 11\n",
            "              loss 0.38852187991142273\n",
            "              accuracy 0.8264999985694885\n",
            "              val_loss 0.5909820199012756\n",
            "              val_accuracy 0.7754032015800476\n",
            "              \n",
            "1938/1938 [==============================] - 296s 153ms/step - loss: 0.3885 - accuracy: 0.8265 - val_loss: 0.5910 - val_accuracy: 0.7754\n",
            "Epoch 13/20\n",
            "1938/1938 [==============================] - ETA: 0s - loss: 0.3853 - accuracy: 0.8279  \n",
            "              epcoh : 12\n",
            "              loss 0.38527023792266846\n",
            "              accuracy 0.8279193639755249\n",
            "              val_loss 0.590334415435791\n",
            "              val_accuracy 0.7726612687110901\n",
            "              \n",
            "1938/1938 [==============================] - 296s 153ms/step - loss: 0.3853 - accuracy: 0.8279 - val_loss: 0.5903 - val_accuracy: 0.7727\n",
            "Epoch 14/20\n",
            "1938/1938 [==============================] - ETA: 0s - loss: 0.3800 - accuracy: 0.8309  \n",
            "              epcoh : 13\n",
            "              loss 0.38004136085510254\n",
            "              accuracy 0.8308870792388916\n",
            "              val_loss 0.5970341563224792\n",
            "              val_accuracy 0.769435465335846\n",
            "              \n",
            "1938/1938 [==============================] - 296s 153ms/step - loss: 0.3800 - accuracy: 0.8309 - val_loss: 0.5970 - val_accuracy: 0.7694\n",
            "Epoch 15/20\n",
            "1938/1938 [==============================] - ETA: 0s - loss: 0.3785 - accuracy: 0.8296  \n",
            "              epcoh : 14\n",
            "              loss 0.37848976254463196\n",
            "              accuracy 0.8296451568603516\n",
            "              val_loss 0.6226240992546082\n",
            "              val_accuracy 0.7627419233322144\n",
            "              \n",
            "1938/1938 [==============================] - 297s 153ms/step - loss: 0.3785 - accuracy: 0.8296 - val_loss: 0.6226 - val_accuracy: 0.7627\n",
            "Epoch 16/20\n",
            "1938/1938 [==============================] - ETA: 0s - loss: 0.3745 - accuracy: 0.8339  \n",
            "              epcoh : 15\n",
            "              loss 0.3744502365589142\n",
            "              accuracy 0.83391934633255\n",
            "              val_loss 0.6058737635612488\n",
            "              val_accuracy 0.7734677195549011\n",
            "              \n",
            "1938/1938 [==============================] - 296s 153ms/step - loss: 0.3745 - accuracy: 0.8339 - val_loss: 0.6059 - val_accuracy: 0.7735\n",
            "Epoch 17/20\n",
            "1938/1938 [==============================] - ETA: 0s - loss: 0.3732 - accuracy: 0.8309  \n",
            "              epcoh : 16\n",
            "              loss 0.3731827735900879\n",
            "              accuracy 0.8308548331260681\n",
            "              val_loss 0.5935419797897339\n",
            "              val_accuracy 0.7705644965171814\n",
            "              \n",
            "1938/1938 [==============================] - 296s 153ms/step - loss: 0.3732 - accuracy: 0.8309 - val_loss: 0.5935 - val_accuracy: 0.7706\n",
            "Epoch 18/20\n",
            "1938/1938 [==============================] - ETA: 0s - loss: 0.3695 - accuracy: 0.8334  \n",
            "              epcoh : 17\n",
            "              loss 0.3694848418235779\n",
            "              accuracy 0.8333870768547058\n",
            "              val_loss 0.6171183586120605\n",
            "              val_accuracy 0.7708870768547058\n",
            "              \n",
            "1938/1938 [==============================] - 295s 152ms/step - loss: 0.3695 - accuracy: 0.8334 - val_loss: 0.6171 - val_accuracy: 0.7709\n",
            "Epoch 19/20\n",
            "1938/1938 [==============================] - ETA: 0s - loss: 0.3662 - accuracy: 0.8362  \n",
            "              epcoh : 18\n",
            "              loss 0.36622563004493713\n",
            "              accuracy 0.8361613154411316\n",
            "              val_loss 0.625779926776886\n",
            "              val_accuracy 0.7695967555046082\n",
            "              \n",
            "1938/1938 [==============================] - 296s 153ms/step - loss: 0.3662 - accuracy: 0.8362 - val_loss: 0.6258 - val_accuracy: 0.7696\n",
            "Epoch 20/20\n",
            "1938/1938 [==============================] - ETA: 0s - loss: 0.3653 - accuracy: 0.8351  \n",
            "              epcoh : 19\n",
            "              loss 0.36530181765556335\n",
            "              accuracy 0.8350967764854431\n",
            "              val_loss 0.6184267997741699\n",
            "              val_accuracy 0.7591128945350647\n",
            "              \n",
            "1938/1938 [==============================] - 298s 154ms/step - loss: 0.3653 - accuracy: 0.8351 - val_loss: 0.6184 - val_accuracy: 0.7591\n"
          ]
        },
        {
          "output_type": "display_data",
          "data": {
            "text/plain": [
              "<IPython.core.display.HTML object>"
            ],
            "text/html": [
              "Waiting for W&B process to finish... <strong style=\"color:green\">(success).</strong>"
            ]
          },
          "metadata": {}
        },
        {
          "output_type": "display_data",
          "data": {
            "text/plain": [
              "VBox(children=(Label(value='0.001 MB of 0.001 MB uploaded (0.000 MB deduped)\\r'), FloatProgress(value=1.0, max…"
            ],
            "application/vnd.jupyter.widget-view+json": {
              "version_major": 2,
              "version_minor": 0,
              "model_id": "b7e25ac09a424d9793c551bf55917613"
            }
          },
          "metadata": {}
        },
        {
          "output_type": "display_data",
          "data": {
            "text/plain": [
              "<IPython.core.display.HTML object>"
            ],
            "text/html": [
              "<style>\n",
              "    table.wandb td:nth-child(1) { padding: 0 10px; text-align: left ; width: auto;} td:nth-child(2) {text-align: left ; width: 100%}\n",
              "    .wandb-row { display: flex; flex-direction: row; flex-wrap: wrap; justify-content: flex-start; width: 100% }\n",
              "    .wandb-col { display: flex; flex-direction: column; flex-basis: 100%; flex: 1; padding: 10px; }\n",
              "    </style>\n",
              "<div class=\"wandb-row\"><div class=\"wandb-col\"><h3>Run history:</h3><br/><table class=\"wandb\"><tr><td>acc</td><td>▁▆▇▇▇▇▇█████████████</td></tr><tr><td>epochs</td><td>▁▁▂▂▂▃▃▄▄▄▅▅▅▆▆▇▇▇██</td></tr><tr><td>loss</td><td>█▂▂▂▁▁▁▁▁▁▁▁▁▁▁▁▁▁▁▁</td></tr><tr><td>val_acc</td><td>▆▅▇▅▇▇█▁█▇▇██▇▇███▇▇</td></tr><tr><td>val_loss</td><td>▃▄▂▅▁▂▂█▂▃▂▂▂▂▃▃▂▃▃▃</td></tr></table><br/></div><div class=\"wandb-col\"><h3>Run summary:</h3><br/><table class=\"wandb\"><tr><td>acc</td><td>0.8351</td></tr><tr><td>epochs</td><td>19</td></tr><tr><td>loss</td><td>0.3653</td></tr><tr><td>val_acc</td><td>0.75911</td></tr><tr><td>val_loss</td><td>0.61843</td></tr></table><br/></div></div>"
            ]
          },
          "metadata": {}
        },
        {
          "output_type": "display_data",
          "data": {
            "text/plain": [
              "<IPython.core.display.HTML object>"
            ],
            "text/html": [
              "Synced <strong style=\"color:#cdcd00\">usual-sweep-5</strong>: <a href=\"https://wandb.ai/chanin-eom/eeee/runs/5lnb3lp8\" target=\"_blank\">https://wandb.ai/chanin-eom/eeee/runs/5lnb3lp8</a><br/>Synced 5 W&B file(s), 0 media file(s), 0 artifact file(s) and 0 other file(s)"
            ]
          },
          "metadata": {}
        },
        {
          "output_type": "display_data",
          "data": {
            "text/plain": [
              "<IPython.core.display.HTML object>"
            ],
            "text/html": [
              "Find logs at: <code>./wandb/run-20220507_231135-5lnb3lp8/logs</code>"
            ]
          },
          "metadata": {}
        },
        {
          "output_type": "stream",
          "name": "stderr",
          "text": [
            "\u001b[34m\u001b[1mwandb\u001b[0m: Agent Starting Run: 7eqzyfoa with config:\n",
            "\u001b[34m\u001b[1mwandb\u001b[0m: \tactivation: relu\n",
            "\u001b[34m\u001b[1mwandb\u001b[0m: \tfirst_layer_node: 800\n",
            "\u001b[34m\u001b[1mwandb\u001b[0m: \tlearning_rate: 0.05\n",
            "\u001b[34m\u001b[1mwandb\u001b[0m: \tn_Dense_layer: 1\n",
            "\u001b[34m\u001b[1mwandb\u001b[0m: \toptimizer: sgd\n",
            "\u001b[34m\u001b[1mwandb\u001b[0m: \tsecond_layer_node: 100\n"
          ]
        },
        {
          "output_type": "display_data",
          "data": {
            "text/plain": [
              "<IPython.core.display.HTML object>"
            ],
            "text/html": [
              "Tracking run with wandb version 0.12.16"
            ]
          },
          "metadata": {}
        },
        {
          "output_type": "display_data",
          "data": {
            "text/plain": [
              "<IPython.core.display.HTML object>"
            ],
            "text/html": [
              "Run data is saved locally in <code>/content/cnontent/MyDrive/SSU/nural_nework/project/wandb/run-20220508_005115-7eqzyfoa</code>"
            ]
          },
          "metadata": {}
        },
        {
          "output_type": "display_data",
          "data": {
            "text/plain": [
              "<IPython.core.display.HTML object>"
            ],
            "text/html": [
              "Syncing run <strong><a href=\"https://wandb.ai/chanin-eom/eeee/runs/7eqzyfoa\" target=\"_blank\">volcanic-sweep-6</a></strong> to <a href=\"https://wandb.ai/chanin-eom/eeee\" target=\"_blank\">Weights & Biases</a> (<a href=\"https://wandb.me/run\" target=\"_blank\">docs</a>)<br/>Sweep page:  <a href=\"https://wandb.ai/chanin-eom/eeee/sweeps/q41w5tai\" target=\"_blank\">https://wandb.ai/chanin-eom/eeee/sweeps/q41w5tai</a>"
            ]
          },
          "metadata": {}
        },
        {
          "output_type": "stream",
          "name": "stdout",
          "text": [
            "Model: \"sequential\"\n",
            "_________________________________________________________________\n",
            " Layer (type)                Output Shape              Param #   \n",
            "=================================================================\n",
            " normalization (Normalizatio  (None, 28, 28, 3)        0         \n",
            " n)                                                              \n",
            "                                                                 \n",
            " resizing (Resizing)         (None, 224, 224, 3)       0         \n",
            "                                                                 \n",
            " mobilenetv2_1.00_224 (Funct  (None, 7, 7, 1280)       2257984   \n",
            " ional)                                                          \n",
            "                                                                 \n",
            " global_average_pooling2d (G  (None, 1280)             0         \n",
            " lobalAveragePooling2D)                                          \n",
            "                                                                 \n",
            " dense_1 (Dense)             (None, 800)               1024800   \n",
            "                                                                 \n",
            " re_lu (ReLU)                (None, 800)               0         \n",
            "                                                                 \n",
            " dense (Dense)               (None, 62)                49662     \n",
            "                                                                 \n",
            "=================================================================\n",
            "Total params: 3,332,446\n",
            "Trainable params: 3,298,334\n",
            "Non-trainable params: 34,112\n",
            "_________________________________________________________________\n",
            "None\n",
            "Epoch 1/20\n",
            "1938/1938 [==============================] - ETA: 0s - loss: 3.9712 - accuracy: 0.3891  \n",
            "              epcoh : 0\n",
            "              loss 3.971193790435791\n",
            "              accuracy 0.3890645205974579\n",
            "              val_loss 3.6683578491210938\n",
            "              val_accuracy 0.6327419281005859\n",
            "              \n",
            "1938/1938 [==============================] - 305s 157ms/step - loss: 3.9712 - accuracy: 0.3891 - val_loss: 3.6684 - val_accuracy: 0.6327\n",
            "Epoch 2/20\n",
            "1938/1938 [==============================] - ETA: 0s - loss: 2.3651 - accuracy: 0.6962  \n",
            "              epcoh : 1\n",
            "              loss 2.3651387691497803\n",
            "              accuracy 0.6962096691131592\n",
            "              val_loss 1.1059125661849976\n",
            "              val_accuracy 0.7324193716049194\n",
            "              \n",
            "1938/1938 [==============================] - 296s 153ms/step - loss: 2.3651 - accuracy: 0.6962 - val_loss: 1.1059 - val_accuracy: 0.7324\n",
            "Epoch 3/20\n",
            "1938/1938 [==============================] - ETA: 0s - loss: 0.7799 - accuracy: 0.7638  \n",
            "              epcoh : 2\n",
            "              loss 0.7798540592193604\n",
            "              accuracy 0.7637903094291687\n",
            "              val_loss 0.6875919103622437\n",
            "              val_accuracy 0.7518548369407654\n",
            "              \n",
            "1938/1938 [==============================] - 296s 153ms/step - loss: 0.7799 - accuracy: 0.7638 - val_loss: 0.6876 - val_accuracy: 0.7519\n",
            "Epoch 4/20\n",
            "1938/1938 [==============================] - ETA: 0s - loss: 0.5913 - accuracy: 0.7804  \n",
            "              epcoh : 3\n",
            "              loss 0.5913239121437073\n",
            "              accuracy 0.7803871035575867\n",
            "              val_loss 0.6137699484825134\n",
            "              val_accuracy 0.7603225708007812\n",
            "              \n",
            "1938/1938 [==============================] - 295s 152ms/step - loss: 0.5913 - accuracy: 0.7804 - val_loss: 0.6138 - val_accuracy: 0.7603\n",
            "Epoch 5/20\n",
            "1938/1938 [==============================] - ETA: 0s - loss: 0.5380 - accuracy: 0.7876  \n",
            "              epcoh : 4\n",
            "              loss 0.5379641652107239\n",
            "              accuracy 0.7875645160675049\n",
            "              val_loss 0.595787763595581\n",
            "              val_accuracy 0.7617741823196411\n",
            "              \n",
            "1938/1938 [==============================] - 296s 153ms/step - loss: 0.5380 - accuracy: 0.7876 - val_loss: 0.5958 - val_accuracy: 0.7618\n",
            "Epoch 6/20\n",
            "1938/1938 [==============================] - ETA: 0s - loss: 0.5090 - accuracy: 0.7945  \n",
            "              epcoh : 5\n",
            "              loss 0.5090316534042358\n",
            "              accuracy 0.7944677472114563\n",
            "              val_loss 0.5747014880180359\n",
            "              val_accuracy 0.7691128849983215\n",
            "              \n",
            "1938/1938 [==============================] - 296s 153ms/step - loss: 0.5090 - accuracy: 0.7945 - val_loss: 0.5747 - val_accuracy: 0.7691\n",
            "Epoch 7/20\n",
            "1938/1938 [==============================] - ETA: 0s - loss: 0.4904 - accuracy: 0.8005  \n",
            "              epcoh : 6\n",
            "              loss 0.4904097318649292\n",
            "              accuracy 0.8004999756813049\n",
            "              val_loss 0.5631086230278015\n",
            "              val_accuracy 0.768709659576416\n",
            "              \n",
            "1938/1938 [==============================] - 297s 153ms/step - loss: 0.4904 - accuracy: 0.8005 - val_loss: 0.5631 - val_accuracy: 0.7687\n",
            "Epoch 8/20\n",
            "1938/1938 [==============================] - ETA: 0s - loss: 0.4772 - accuracy: 0.8021  \n",
            "              epcoh : 7\n",
            "              loss 0.4772299826145172\n",
            "              accuracy 0.8021451830863953\n",
            "              val_loss 0.5574570298194885\n",
            "              val_accuracy 0.7685483694076538\n",
            "              \n",
            "1938/1938 [==============================] - 294s 151ms/step - loss: 0.4772 - accuracy: 0.8021 - val_loss: 0.5575 - val_accuracy: 0.7685\n",
            "Epoch 9/20\n",
            "1938/1938 [==============================] - ETA: 0s - loss: 0.4668 - accuracy: 0.8064  \n",
            "              epcoh : 8\n",
            "              loss 0.4668342173099518\n",
            "              accuracy 0.8064354658126831\n",
            "              val_loss 0.5517212748527527\n",
            "              val_accuracy 0.7759677171707153\n",
            "              \n",
            "1938/1938 [==============================] - 296s 153ms/step - loss: 0.4668 - accuracy: 0.8064 - val_loss: 0.5517 - val_accuracy: 0.7760\n",
            "Epoch 10/20\n",
            "1938/1938 [==============================] - ETA: 0s - loss: 0.4567 - accuracy: 0.8093  \n",
            "              epcoh : 9\n",
            "              loss 0.45666760206222534\n",
            "              accuracy 0.80929034948349\n",
            "              val_loss 0.5512325763702393\n",
            "              val_accuracy 0.7752419114112854\n",
            "              \n",
            "1938/1938 [==============================] - 296s 153ms/step - loss: 0.4567 - accuracy: 0.8093 - val_loss: 0.5512 - val_accuracy: 0.7752\n",
            "Epoch 11/20\n",
            "1938/1938 [==============================] - ETA: 0s - loss: 0.4502 - accuracy: 0.8110  \n",
            "              epcoh : 10\n",
            "              loss 0.45016205310821533\n",
            "              accuracy 0.8109999895095825\n",
            "              val_loss 0.549506425857544\n",
            "              val_accuracy 0.7774193286895752\n",
            "              \n",
            "1938/1938 [==============================] - 298s 154ms/step - loss: 0.4502 - accuracy: 0.8110 - val_loss: 0.5495 - val_accuracy: 0.7774\n",
            "Epoch 12/20\n",
            "1938/1938 [==============================] - ETA: 0s - loss: 0.4450 - accuracy: 0.8139  \n",
            "              epcoh : 11\n",
            "              loss 0.4449694752693176\n",
            "              accuracy 0.8138709664344788\n",
            "              val_loss 0.5439703464508057\n",
            "              val_accuracy 0.7766128778457642\n",
            "              \n",
            "1938/1938 [==============================] - 293s 151ms/step - loss: 0.4450 - accuracy: 0.8139 - val_loss: 0.5440 - val_accuracy: 0.7766\n",
            "Epoch 13/20\n",
            "1938/1938 [==============================] - ETA: 0s - loss: 0.4392 - accuracy: 0.8144  \n",
            "              epcoh : 12\n",
            "              loss 0.43920353055000305\n",
            "              accuracy 0.8144193291664124\n",
            "              val_loss 0.5442042946815491\n",
            "              val_accuracy 0.7760483622550964\n",
            "              \n",
            "1938/1938 [==============================] - 295s 152ms/step - loss: 0.4392 - accuracy: 0.8144 - val_loss: 0.5442 - val_accuracy: 0.7760\n",
            "Epoch 14/20\n",
            "1938/1938 [==============================] - ETA: 0s - loss: 0.4333 - accuracy: 0.8167  \n",
            "              epcoh : 13\n",
            "              loss 0.43328842520713806\n",
            "              accuracy 0.816741943359375\n",
            "              val_loss 0.5453507900238037\n",
            "              val_accuracy 0.7735483646392822\n",
            "              \n",
            "1938/1938 [==============================] - 296s 153ms/step - loss: 0.4333 - accuracy: 0.8167 - val_loss: 0.5454 - val_accuracy: 0.7735\n",
            "Epoch 15/20\n",
            "1938/1938 [==============================] - ETA: 0s - loss: 0.4300 - accuracy: 0.8182  \n",
            "              epcoh : 14\n",
            "              loss 0.43000319600105286\n",
            "              accuracy 0.8182419538497925\n",
            "              val_loss 0.5405294895172119\n",
            "              val_accuracy 0.7773386836051941\n",
            "              \n",
            "1938/1938 [==============================] - 294s 152ms/step - loss: 0.4300 - accuracy: 0.8182 - val_loss: 0.5405 - val_accuracy: 0.7773\n",
            "Epoch 16/20\n",
            "1938/1938 [==============================] - ETA: 0s - loss: 0.4264 - accuracy: 0.8206  \n",
            "              epcoh : 15\n",
            "              loss 0.4264428913593292\n",
            "              accuracy 0.8206451535224915\n",
            "              val_loss 0.542198657989502\n",
            "              val_accuracy 0.7735483646392822\n",
            "              \n",
            "1938/1938 [==============================] - 296s 153ms/step - loss: 0.4264 - accuracy: 0.8206 - val_loss: 0.5422 - val_accuracy: 0.7735\n",
            "Epoch 17/20\n",
            "1938/1938 [==============================] - ETA: 0s - loss: 0.4232 - accuracy: 0.8209  \n",
            "              epcoh : 16\n",
            "              loss 0.4231575131416321\n",
            "              accuracy 0.8208709955215454\n",
            "              val_loss 0.5393438339233398\n",
            "              val_accuracy 0.7791128754615784\n",
            "              \n",
            "1938/1938 [==============================] - 296s 153ms/step - loss: 0.4232 - accuracy: 0.8209 - val_loss: 0.5393 - val_accuracy: 0.7791\n",
            "Epoch 18/20\n",
            "1938/1938 [==============================] - ETA: 0s - loss: 0.4195 - accuracy: 0.8225  \n",
            "              epcoh : 17\n",
            "              loss 0.41949889063835144\n",
            "              accuracy 0.8224515914916992\n",
            "              val_loss 0.5368189811706543\n",
            "              val_accuracy 0.7802419066429138\n",
            "              \n",
            "1938/1938 [==============================] - 297s 153ms/step - loss: 0.4195 - accuracy: 0.8225 - val_loss: 0.5368 - val_accuracy: 0.7802\n",
            "Epoch 19/20\n",
            "1938/1938 [==============================] - ETA: 0s - loss: 0.4162 - accuracy: 0.8231  \n",
            "              epcoh : 18\n",
            "              loss 0.4162429869174957\n",
            "              accuracy 0.8230645060539246\n",
            "              val_loss 0.538443922996521\n",
            "              val_accuracy 0.774919331073761\n",
            "              \n",
            "1938/1938 [==============================] - 296s 153ms/step - loss: 0.4162 - accuracy: 0.8231 - val_loss: 0.5384 - val_accuracy: 0.7749\n",
            "Epoch 20/20\n",
            "1938/1938 [==============================] - ETA: 0s - loss: 0.4128 - accuracy: 0.8237  \n",
            "              epcoh : 19\n",
            "              loss 0.4127538800239563\n",
            "              accuracy 0.823693573474884\n",
            "              val_loss 0.5400881171226501\n",
            "              val_accuracy 0.7796773910522461\n",
            "              \n",
            "1938/1938 [==============================] - 291s 150ms/step - loss: 0.4128 - accuracy: 0.8237 - val_loss: 0.5401 - val_accuracy: 0.7797\n"
          ]
        },
        {
          "output_type": "display_data",
          "data": {
            "text/plain": [
              "<IPython.core.display.HTML object>"
            ],
            "text/html": [
              "Waiting for W&B process to finish... <strong style=\"color:green\">(success).</strong>"
            ]
          },
          "metadata": {}
        },
        {
          "output_type": "display_data",
          "data": {
            "text/plain": [
              "VBox(children=(Label(value='0.001 MB of 0.001 MB uploaded (0.000 MB deduped)\\r'), FloatProgress(value=1.0, max…"
            ],
            "application/vnd.jupyter.widget-view+json": {
              "version_major": 2,
              "version_minor": 0,
              "model_id": "f73b385755a84ede867a87d6db1af1af"
            }
          },
          "metadata": {}
        },
        {
          "output_type": "display_data",
          "data": {
            "text/plain": [
              "<IPython.core.display.HTML object>"
            ],
            "text/html": [
              "<style>\n",
              "    table.wandb td:nth-child(1) { padding: 0 10px; text-align: left ; width: auto;} td:nth-child(2) {text-align: left ; width: 100%}\n",
              "    .wandb-row { display: flex; flex-direction: row; flex-wrap: wrap; justify-content: flex-start; width: 100% }\n",
              "    .wandb-col { display: flex; flex-direction: column; flex-basis: 100%; flex: 1; padding: 10px; }\n",
              "    </style>\n",
              "<div class=\"wandb-row\"><div class=\"wandb-col\"><h3>Run history:</h3><br/><table class=\"wandb\"><tr><td>acc</td><td>▁▆▇▇▇███████████████</td></tr><tr><td>epochs</td><td>▁▁▂▂▂▃▃▄▄▄▅▅▅▆▆▇▇▇██</td></tr><tr><td>loss</td><td>█▅▂▁▁▁▁▁▁▁▁▁▁▁▁▁▁▁▁▁</td></tr><tr><td>val_acc</td><td>▁▆▇▇▇▇▇▇████████████</td></tr><tr><td>val_loss</td><td>█▂▁▁▁▁▁▁▁▁▁▁▁▁▁▁▁▁▁▁</td></tr></table><br/></div><div class=\"wandb-col\"><h3>Run summary:</h3><br/><table class=\"wandb\"><tr><td>acc</td><td>0.82369</td></tr><tr><td>epochs</td><td>19</td></tr><tr><td>loss</td><td>0.41275</td></tr><tr><td>val_acc</td><td>0.77968</td></tr><tr><td>val_loss</td><td>0.54009</td></tr></table><br/></div></div>"
            ]
          },
          "metadata": {}
        },
        {
          "output_type": "display_data",
          "data": {
            "text/plain": [
              "<IPython.core.display.HTML object>"
            ],
            "text/html": [
              "Synced <strong style=\"color:#cdcd00\">volcanic-sweep-6</strong>: <a href=\"https://wandb.ai/chanin-eom/eeee/runs/7eqzyfoa\" target=\"_blank\">https://wandb.ai/chanin-eom/eeee/runs/7eqzyfoa</a><br/>Synced 5 W&B file(s), 0 media file(s), 0 artifact file(s) and 0 other file(s)"
            ]
          },
          "metadata": {}
        },
        {
          "output_type": "display_data",
          "data": {
            "text/plain": [
              "<IPython.core.display.HTML object>"
            ],
            "text/html": [
              "Find logs at: <code>./wandb/run-20220508_005115-7eqzyfoa/logs</code>"
            ]
          },
          "metadata": {}
        },
        {
          "output_type": "stream",
          "name": "stderr",
          "text": [
            "\u001b[34m\u001b[1mwandb\u001b[0m: Agent Starting Run: 7s1z0dce with config:\n",
            "\u001b[34m\u001b[1mwandb\u001b[0m: \tactivation: relu\n",
            "\u001b[34m\u001b[1mwandb\u001b[0m: \tfirst_layer_node: 1000\n",
            "\u001b[34m\u001b[1mwandb\u001b[0m: \tlearning_rate: 0.1\n",
            "\u001b[34m\u001b[1mwandb\u001b[0m: \tn_Dense_layer: 1\n",
            "\u001b[34m\u001b[1mwandb\u001b[0m: \toptimizer: momentum\n",
            "\u001b[34m\u001b[1mwandb\u001b[0m: \tsecond_layer_node: 120\n"
          ]
        },
        {
          "output_type": "display_data",
          "data": {
            "text/plain": [
              "<IPython.core.display.HTML object>"
            ],
            "text/html": [
              "Tracking run with wandb version 0.12.16"
            ]
          },
          "metadata": {}
        },
        {
          "output_type": "display_data",
          "data": {
            "text/plain": [
              "<IPython.core.display.HTML object>"
            ],
            "text/html": [
              "Run data is saved locally in <code>/content/cnontent/MyDrive/SSU/nural_nework/project/wandb/run-20220508_023007-7s1z0dce</code>"
            ]
          },
          "metadata": {}
        },
        {
          "output_type": "display_data",
          "data": {
            "text/plain": [
              "<IPython.core.display.HTML object>"
            ],
            "text/html": [
              "Syncing run <strong><a href=\"https://wandb.ai/chanin-eom/eeee/runs/7s1z0dce\" target=\"_blank\">vivid-sweep-6</a></strong> to <a href=\"https://wandb.ai/chanin-eom/eeee\" target=\"_blank\">Weights & Biases</a> (<a href=\"https://wandb.me/run\" target=\"_blank\">docs</a>)<br/>Sweep page:  <a href=\"https://wandb.ai/chanin-eom/eeee/sweeps/q41w5tai\" target=\"_blank\">https://wandb.ai/chanin-eom/eeee/sweeps/q41w5tai</a>"
            ]
          },
          "metadata": {}
        },
        {
          "output_type": "stream",
          "name": "stdout",
          "text": [
            "Model: \"sequential\"\n",
            "_________________________________________________________________\n",
            " Layer (type)                Output Shape              Param #   \n",
            "=================================================================\n",
            " normalization (Normalizatio  (None, 28, 28, 3)        0         \n",
            " n)                                                              \n",
            "                                                                 \n",
            " resizing (Resizing)         (None, 224, 224, 3)       0         \n",
            "                                                                 \n",
            " mobilenetv2_1.00_224 (Funct  (None, 7, 7, 1280)       2257984   \n",
            " ional)                                                          \n",
            "                                                                 \n",
            " global_average_pooling2d (G  (None, 1280)             0         \n",
            " lobalAveragePooling2D)                                          \n",
            "                                                                 \n",
            " dense_1 (Dense)             (None, 1000)              1281000   \n",
            "                                                                 \n",
            " re_lu (ReLU)                (None, 1000)              0         \n",
            "                                                                 \n",
            " dense (Dense)               (None, 62)                62062     \n",
            "                                                                 \n",
            "=================================================================\n",
            "Total params: 3,601,046\n",
            "Trainable params: 3,566,934\n",
            "Non-trainable params: 34,112\n",
            "_________________________________________________________________\n",
            "None\n",
            "Epoch 1/20\n",
            "1938/1938 [==============================] - ETA: 0s - loss: 0.7378 - accuracy: 0.7377  \n",
            "              epcoh : 0\n",
            "              loss 0.7377971410751343\n",
            "              accuracy 0.7377257943153381\n",
            "              val_loss 0.608918309211731\n",
            "              val_accuracy 0.7549193501472473\n",
            "              \n",
            "1938/1938 [==============================] - 306s 158ms/step - loss: 0.7378 - accuracy: 0.7377 - val_loss: 0.6089 - val_accuracy: 0.7549\n",
            "Epoch 2/20\n",
            "1938/1938 [==============================] - ETA: 0s - loss: 0.4505 - accuracy: 0.8051  \n",
            "              epcoh : 1\n",
            "              loss 0.4505194127559662\n",
            "              accuracy 0.8050806522369385\n",
            "              val_loss 0.5781886577606201\n",
            "              val_accuracy 0.7626612782478333\n",
            "              \n",
            "1938/1938 [==============================] - 297s 153ms/step - loss: 0.4505 - accuracy: 0.8051 - val_loss: 0.5782 - val_accuracy: 0.7627\n",
            "Epoch 3/20\n",
            "1938/1938 [==============================] - ETA: 0s - loss: 0.4239 - accuracy: 0.8151  \n",
            "              epcoh : 2\n",
            "              loss 0.42388415336608887\n",
            "              accuracy 0.8150806427001953\n",
            "              val_loss 0.5786448121070862\n",
            "              val_accuracy 0.7636290192604065\n",
            "              \n",
            "1938/1938 [==============================] - 297s 153ms/step - loss: 0.4239 - accuracy: 0.8151 - val_loss: 0.5786 - val_accuracy: 0.7636\n",
            "Epoch 4/20\n",
            "1938/1938 [==============================] - ETA: 0s - loss: 0.4065 - accuracy: 0.8223  \n",
            "              epcoh : 3\n",
            "              loss 0.40650761127471924\n",
            "              accuracy 0.8223226070404053\n",
            "              val_loss 0.6794703006744385\n",
            "              val_accuracy 0.7291935682296753\n",
            "              \n",
            "1938/1938 [==============================] - 297s 153ms/step - loss: 0.4065 - accuracy: 0.8223 - val_loss: 0.6795 - val_accuracy: 0.7292\n",
            "Epoch 5/20\n",
            "1938/1938 [==============================] - ETA: 0s - loss: 0.3973 - accuracy: 0.8226  \n",
            "              epcoh : 4\n",
            "              loss 0.3973264694213867\n",
            "              accuracy 0.8225645422935486\n",
            "              val_loss 0.6878765225410461\n",
            "              val_accuracy 0.7172580361366272\n",
            "              \n",
            "1938/1938 [==============================] - 298s 154ms/step - loss: 0.3973 - accuracy: 0.8226 - val_loss: 0.6879 - val_accuracy: 0.7173\n",
            "Epoch 6/20\n",
            "1938/1938 [==============================] - ETA: 0s - loss: 0.3898 - accuracy: 0.8286  \n",
            "              epcoh : 5\n",
            "              loss 0.3898145854473114\n",
            "              accuracy 0.8285806179046631\n",
            "              val_loss 0.6335122585296631\n",
            "              val_accuracy 0.7458871006965637\n",
            "              \n",
            "1938/1938 [==============================] - 297s 153ms/step - loss: 0.3898 - accuracy: 0.8286 - val_loss: 0.6335 - val_accuracy: 0.7459\n",
            "Epoch 7/20\n",
            "1938/1938 [==============================] - ETA: 0s - loss: 0.3833 - accuracy: 0.8301  \n",
            "              epcoh : 6\n",
            "              loss 0.3832804262638092\n",
            "              accuracy 0.8300806283950806\n",
            "              val_loss 0.5989558100700378\n",
            "              val_accuracy 0.768709659576416\n",
            "              \n",
            "1938/1938 [==============================] - 295s 152ms/step - loss: 0.3833 - accuracy: 0.8301 - val_loss: 0.5990 - val_accuracy: 0.7687\n",
            "Epoch 8/20\n",
            "1938/1938 [==============================] - ETA: 0s - loss: 0.3800 - accuracy: 0.8307  \n",
            "              epcoh : 7\n",
            "              loss 0.379986435174942\n",
            "              accuracy 0.8307257890701294\n",
            "              val_loss 0.5862879157066345\n",
            "              val_accuracy 0.7680644989013672\n",
            "              \n",
            "1938/1938 [==============================] - 297s 153ms/step - loss: 0.3800 - accuracy: 0.8307 - val_loss: 0.5863 - val_accuracy: 0.7681\n",
            "Epoch 9/20\n",
            "1938/1938 [==============================] - ETA: 0s - loss: 0.3750 - accuracy: 0.8342  \n",
            "              epcoh : 8\n",
            "              loss 0.3750491738319397\n",
            "              accuracy 0.8341612815856934\n",
            "              val_loss 0.5756720304489136\n",
            "              val_accuracy 0.7782257795333862\n",
            "              \n",
            "1938/1938 [==============================] - 297s 153ms/step - loss: 0.3750 - accuracy: 0.8342 - val_loss: 0.5757 - val_accuracy: 0.7782\n",
            "Epoch 10/20\n",
            "1938/1938 [==============================] - ETA: 0s - loss: 0.3702 - accuracy: 0.8347  \n",
            "              epcoh : 9\n",
            "              loss 0.3702210485935211\n",
            "              accuracy 0.8347419500350952\n",
            "              val_loss 0.5918152332305908\n",
            "              val_accuracy 0.7658870816230774\n",
            "              \n",
            "1938/1938 [==============================] - 297s 153ms/step - loss: 0.3702 - accuracy: 0.8347 - val_loss: 0.5918 - val_accuracy: 0.7659\n",
            "Epoch 11/20\n",
            "1938/1938 [==============================] - ETA: 0s - loss: 0.3670 - accuracy: 0.8375  \n",
            "              epcoh : 10\n",
            "              loss 0.36703380942344666\n",
            "              accuracy 0.8375322818756104\n",
            "              val_loss 0.6008186340332031\n",
            "              val_accuracy 0.7705644965171814\n",
            "              \n",
            "1938/1938 [==============================] - 297s 153ms/step - loss: 0.3670 - accuracy: 0.8375 - val_loss: 0.6008 - val_accuracy: 0.7706\n",
            "Epoch 12/20\n",
            "1938/1938 [==============================] - ETA: 0s - loss: 0.3656 - accuracy: 0.8371  \n",
            "              epcoh : 11\n",
            "              loss 0.3655537962913513\n",
            "              accuracy 0.8371451497077942\n",
            "              val_loss 0.5979617238044739\n",
            "              val_accuracy 0.7726612687110901\n",
            "              \n",
            "1938/1938 [==============================] - 297s 153ms/step - loss: 0.3656 - accuracy: 0.8371 - val_loss: 0.5980 - val_accuracy: 0.7727\n",
            "Epoch 13/20\n",
            "1938/1938 [==============================] - ETA: 0s - loss: 0.3614 - accuracy: 0.8380  \n",
            "              epcoh : 12\n",
            "              loss 0.36142101883888245\n",
            "              accuracy 0.8380322456359863\n",
            "              val_loss 0.6023693680763245\n",
            "              val_accuracy 0.775725781917572\n",
            "              \n",
            "1938/1938 [==============================] - 297s 153ms/step - loss: 0.3614 - accuracy: 0.8380 - val_loss: 0.6024 - val_accuracy: 0.7757\n",
            "Epoch 14/20\n",
            "1938/1938 [==============================] - ETA: 0s - loss: 0.3585 - accuracy: 0.8392  \n",
            "              epcoh : 13\n",
            "              loss 0.35848134756088257\n",
            "              accuracy 0.8391612768173218\n",
            "              val_loss 0.6734956502914429\n",
            "              val_accuracy 0.7550806403160095\n",
            "              \n",
            "1938/1938 [==============================] - 296s 153ms/step - loss: 0.3585 - accuracy: 0.8392 - val_loss: 0.6735 - val_accuracy: 0.7551\n",
            "Epoch 15/20\n",
            "1938/1938 [==============================] - ETA: 0s - loss: 0.3552 - accuracy: 0.8407  \n",
            "              epcoh : 14\n",
            "              loss 0.35515567660331726\n",
            "              accuracy 0.8407257795333862\n",
            "              val_loss 0.5968634486198425\n",
            "              val_accuracy 0.768709659576416\n",
            "              \n",
            "1938/1938 [==============================] - 297s 153ms/step - loss: 0.3552 - accuracy: 0.8407 - val_loss: 0.5969 - val_accuracy: 0.7687\n",
            "Epoch 16/20\n",
            "1938/1938 [==============================] - ETA: 0s - loss: 0.3499 - accuracy: 0.8428  \n",
            "              epcoh : 15\n",
            "              loss 0.3498900234699249\n",
            "              accuracy 0.8427742123603821\n",
            "              val_loss 0.613680899143219\n",
            "              val_accuracy 0.7692741751670837\n",
            "              \n",
            "1938/1938 [==============================] - 297s 153ms/step - loss: 0.3499 - accuracy: 0.8428 - val_loss: 0.6137 - val_accuracy: 0.7693\n",
            "Epoch 17/20\n",
            "1938/1938 [==============================] - ETA: 0s - loss: 0.3501 - accuracy: 0.8436  \n",
            "              epcoh : 16\n",
            "              loss 0.3501241207122803\n",
            "              accuracy 0.843629002571106\n",
            "              val_loss 0.6254243850708008\n",
            "              val_accuracy 0.7667741775512695\n",
            "              \n",
            "1938/1938 [==============================] - 297s 153ms/step - loss: 0.3501 - accuracy: 0.8436 - val_loss: 0.6254 - val_accuracy: 0.7668\n",
            "Epoch 18/20\n",
            "1938/1938 [==============================] - ETA: 0s - loss: 0.3482 - accuracy: 0.8441  \n",
            "              epcoh : 17\n",
            "              loss 0.34819766879081726\n",
            "              accuracy 0.8441290259361267\n",
            "              val_loss 0.6415099501609802\n",
            "              val_accuracy 0.7540322542190552\n",
            "              \n",
            "1938/1938 [==============================] - 297s 153ms/step - loss: 0.3482 - accuracy: 0.8441 - val_loss: 0.6415 - val_accuracy: 0.7540\n",
            "Epoch 19/20\n",
            "1938/1938 [==============================] - ETA: 0s - loss: 0.3463 - accuracy: 0.8454  \n",
            "              epcoh : 18\n",
            "              loss 0.34634917974472046\n",
            "              accuracy 0.8453871011734009\n",
            "              val_loss 0.6219932436943054\n",
            "              val_accuracy 0.7699999809265137\n",
            "              \n",
            "1938/1938 [==============================] - 297s 153ms/step - loss: 0.3463 - accuracy: 0.8454 - val_loss: 0.6220 - val_accuracy: 0.7700\n",
            "Epoch 20/20\n",
            "1938/1938 [==============================] - ETA: 0s - loss: 0.3438 - accuracy: 0.8465  \n",
            "              epcoh : 19\n",
            "              loss 0.34378576278686523\n",
            "              accuracy 0.8464999794960022\n",
            "              val_loss 0.6213047504425049\n",
            "              val_accuracy 0.7714515924453735\n",
            "              \n",
            "1938/1938 [==============================] - 298s 154ms/step - loss: 0.3438 - accuracy: 0.8465 - val_loss: 0.6213 - val_accuracy: 0.7715\n"
          ]
        },
        {
          "output_type": "display_data",
          "data": {
            "text/plain": [
              "<IPython.core.display.HTML object>"
            ],
            "text/html": [
              "Waiting for W&B process to finish... <strong style=\"color:green\">(success).</strong>"
            ]
          },
          "metadata": {}
        },
        {
          "output_type": "display_data",
          "data": {
            "text/plain": [
              "VBox(children=(Label(value='0.001 MB of 0.001 MB uploaded (0.000 MB deduped)\\r'), FloatProgress(value=1.0, max…"
            ],
            "application/vnd.jupyter.widget-view+json": {
              "version_major": 2,
              "version_minor": 0,
              "model_id": "dca68def6456474abbc2b9bb0743b9f2"
            }
          },
          "metadata": {}
        },
        {
          "output_type": "display_data",
          "data": {
            "text/plain": [
              "<IPython.core.display.HTML object>"
            ],
            "text/html": [
              "<style>\n",
              "    table.wandb td:nth-child(1) { padding: 0 10px; text-align: left ; width: auto;} td:nth-child(2) {text-align: left ; width: 100%}\n",
              "    .wandb-row { display: flex; flex-direction: row; flex-wrap: wrap; justify-content: flex-start; width: 100% }\n",
              "    .wandb-col { display: flex; flex-direction: column; flex-basis: 100%; flex: 1; padding: 10px; }\n",
              "    </style>\n",
              "<div class=\"wandb-row\"><div class=\"wandb-col\"><h3>Run history:</h3><br/><table class=\"wandb\"><tr><td>acc</td><td>▁▅▆▆▆▇▇▇▇▇▇▇▇███████</td></tr><tr><td>epochs</td><td>▁▁▂▂▂▃▃▄▄▄▅▅▅▆▆▇▇▇██</td></tr><tr><td>loss</td><td>█▃▂▂▂▂▂▂▂▁▁▁▁▁▁▁▁▁▁▁</td></tr><tr><td>val_acc</td><td>▅▆▆▂▁▄▇▇█▇▇▇█▅▇▇▇▅▇▇</td></tr><tr><td>val_loss</td><td>▃▁▁▇█▅▂▂▁▂▃▂▃▇▂▃▄▅▄▄</td></tr></table><br/></div><div class=\"wandb-col\"><h3>Run summary:</h3><br/><table class=\"wandb\"><tr><td>acc</td><td>0.8465</td></tr><tr><td>epochs</td><td>19</td></tr><tr><td>loss</td><td>0.34379</td></tr><tr><td>val_acc</td><td>0.77145</td></tr><tr><td>val_loss</td><td>0.6213</td></tr></table><br/></div></div>"
            ]
          },
          "metadata": {}
        },
        {
          "output_type": "display_data",
          "data": {
            "text/plain": [
              "<IPython.core.display.HTML object>"
            ],
            "text/html": [
              "Synced <strong style=\"color:#cdcd00\">vivid-sweep-6</strong>: <a href=\"https://wandb.ai/chanin-eom/eeee/runs/7s1z0dce\" target=\"_blank\">https://wandb.ai/chanin-eom/eeee/runs/7s1z0dce</a><br/>Synced 5 W&B file(s), 0 media file(s), 0 artifact file(s) and 0 other file(s)"
            ]
          },
          "metadata": {}
        },
        {
          "output_type": "display_data",
          "data": {
            "text/plain": [
              "<IPython.core.display.HTML object>"
            ],
            "text/html": [
              "Find logs at: <code>./wandb/run-20220508_023007-7s1z0dce/logs</code>"
            ]
          },
          "metadata": {}
        },
        {
          "output_type": "stream",
          "name": "stderr",
          "text": [
            "\u001b[34m\u001b[1mwandb\u001b[0m: Agent Starting Run: kpbxyd47 with config:\n",
            "\u001b[34m\u001b[1mwandb\u001b[0m: \tactivation: elu\n",
            "\u001b[34m\u001b[1mwandb\u001b[0m: \tfirst_layer_node: 500\n",
            "\u001b[34m\u001b[1mwandb\u001b[0m: \tlearning_rate: 0.01\n",
            "\u001b[34m\u001b[1mwandb\u001b[0m: \tn_Dense_layer: 2\n",
            "\u001b[34m\u001b[1mwandb\u001b[0m: \toptimizer: nadam\n",
            "\u001b[34m\u001b[1mwandb\u001b[0m: \tsecond_layer_node: 120\n"
          ]
        },
        {
          "output_type": "display_data",
          "data": {
            "text/plain": [
              "<IPython.core.display.HTML object>"
            ],
            "text/html": [
              "Tracking run with wandb version 0.12.16"
            ]
          },
          "metadata": {}
        },
        {
          "output_type": "display_data",
          "data": {
            "text/plain": [
              "<IPython.core.display.HTML object>"
            ],
            "text/html": [
              "Run data is saved locally in <code>/content/cnontent/MyDrive/SSU/nural_nework/project/wandb/run-20220508_040930-kpbxyd47</code>"
            ]
          },
          "metadata": {}
        },
        {
          "output_type": "display_data",
          "data": {
            "text/plain": [
              "<IPython.core.display.HTML object>"
            ],
            "text/html": [
              "Syncing run <strong><a href=\"https://wandb.ai/chanin-eom/eeee/runs/kpbxyd47\" target=\"_blank\">olive-sweep-7</a></strong> to <a href=\"https://wandb.ai/chanin-eom/eeee\" target=\"_blank\">Weights & Biases</a> (<a href=\"https://wandb.me/run\" target=\"_blank\">docs</a>)<br/>Sweep page:  <a href=\"https://wandb.ai/chanin-eom/eeee/sweeps/q41w5tai\" target=\"_blank\">https://wandb.ai/chanin-eom/eeee/sweeps/q41w5tai</a>"
            ]
          },
          "metadata": {}
        },
        {
          "output_type": "stream",
          "name": "stdout",
          "text": [
            "Model: \"sequential\"\n",
            "_________________________________________________________________\n",
            " Layer (type)                Output Shape              Param #   \n",
            "=================================================================\n",
            " normalization (Normalizatio  (None, 28, 28, 3)        0         \n",
            " n)                                                              \n",
            "                                                                 \n",
            " resizing (Resizing)         (None, 224, 224, 3)       0         \n",
            "                                                                 \n",
            " mobilenetv2_1.00_224 (Funct  (None, 7, 7, 1280)       2257984   \n",
            " ional)                                                          \n",
            "                                                                 \n",
            " global_average_pooling2d (G  (None, 1280)             0         \n",
            " lobalAveragePooling2D)                                          \n",
            "                                                                 \n",
            " dense_1 (Dense)             (None, 500)               640500    \n",
            "                                                                 \n",
            " elu (ELU)                   (None, 500)               0         \n",
            "                                                                 \n",
            " dense_2 (Dense)             (None, 120)               60120     \n",
            "                                                                 \n",
            " elu_1 (ELU)                 (None, 120)               0         \n",
            "                                                                 \n",
            " dense (Dense)               (None, 62)                7502      \n",
            "                                                                 \n",
            "=================================================================\n",
            "Total params: 2,966,106\n",
            "Trainable params: 2,931,994\n",
            "Non-trainable params: 34,112\n",
            "_________________________________________________________________\n",
            "None\n",
            "Epoch 1/20\n",
            "1938/1938 [==============================] - ETA: 0s - loss: 0.6312 - accuracy: 0.7519  \n",
            "              epcoh : 0\n",
            "              loss 0.6312214136123657\n",
            "              accuracy 0.7519354820251465\n",
            "              val_loss 1.4190541505813599\n",
            "              val_accuracy 0.6181451678276062\n",
            "              \n",
            "1938/1938 [==============================] - 336s 173ms/step - loss: 0.6312 - accuracy: 0.7519 - val_loss: 1.4191 - val_accuracy: 0.6181\n",
            "Epoch 2/20\n",
            "1938/1938 [==============================] - ETA: 0s - loss: 0.5685 - accuracy: 0.7670  \n",
            "              epcoh : 1\n",
            "              loss 0.5685037970542908\n",
            "              accuracy 0.7669516205787659\n",
            "              val_loss 1.0192004442214966\n",
            "              val_accuracy 0.7089515924453735\n",
            "              \n",
            "1938/1938 [==============================] - 313s 162ms/step - loss: 0.5685 - accuracy: 0.7670 - val_loss: 1.0192 - val_accuracy: 0.7090\n",
            "Epoch 3/20\n",
            "1938/1938 [==============================] - ETA: 0s - loss: 0.5451 - accuracy: 0.7739  \n",
            "              epcoh : 2\n",
            "              loss 0.5450731515884399\n",
            "              accuracy 0.7739193439483643\n",
            "              val_loss 2.473299264907837\n",
            "              val_accuracy 0.4205645024776459\n",
            "              \n",
            "1938/1938 [==============================] - 313s 161ms/step - loss: 0.5451 - accuracy: 0.7739 - val_loss: 2.4733 - val_accuracy: 0.4206\n",
            "Epoch 4/20\n",
            "1938/1938 [==============================] - ETA: 0s - loss: 0.5347 - accuracy: 0.7759  \n",
            "              epcoh : 3\n",
            "              loss 0.5346683859825134\n",
            "              accuracy 0.7758548259735107\n",
            "              val_loss 0.9505399465560913\n",
            "              val_accuracy 0.7164515852928162\n",
            "              \n",
            "1938/1938 [==============================] - 313s 162ms/step - loss: 0.5347 - accuracy: 0.7759 - val_loss: 0.9505 - val_accuracy: 0.7165\n",
            "Epoch 5/20\n",
            "1938/1938 [==============================] - ETA: 0s - loss: 0.5261 - accuracy: 0.7802  \n",
            "              epcoh : 4\n",
            "              loss 0.5261293053627014\n",
            "              accuracy 0.7802258133888245\n",
            "              val_loss 0.7923290729522705\n",
            "              val_accuracy 0.7074193358421326\n",
            "              \n",
            "1938/1938 [==============================] - 313s 161ms/step - loss: 0.5261 - accuracy: 0.7802 - val_loss: 0.7923 - val_accuracy: 0.7074\n",
            "Epoch 6/20\n",
            "1938/1938 [==============================] - ETA: 0s - loss: 0.5254 - accuracy: 0.7800  \n",
            "              epcoh : 5\n",
            "              loss 0.525391161441803\n",
            "              accuracy 0.779967725276947\n",
            "              val_loss 0.9047152400016785\n",
            "              val_accuracy 0.7255645394325256\n",
            "              \n",
            "1938/1938 [==============================] - 312s 161ms/step - loss: 0.5254 - accuracy: 0.7800 - val_loss: 0.9047 - val_accuracy: 0.7256\n",
            "Epoch 7/20\n",
            "1938/1938 [==============================] - ETA: 0s - loss: 0.5241 - accuracy: 0.7786  \n",
            "              epcoh : 6\n",
            "              loss 0.5241247415542603\n",
            "              accuracy 0.7785806655883789\n",
            "              val_loss 0.8912439942359924\n",
            "              val_accuracy 0.6916128993034363\n",
            "              \n",
            "1938/1938 [==============================] - 313s 161ms/step - loss: 0.5241 - accuracy: 0.7786 - val_loss: 0.8912 - val_accuracy: 0.6916\n",
            "Epoch 8/20\n",
            "1938/1938 [==============================] - ETA: 0s - loss: 0.5168 - accuracy: 0.7834  \n",
            "              epcoh : 7\n",
            "              loss 0.5168483853340149\n",
            "              accuracy 0.783403217792511\n",
            "              val_loss 1.3433568477630615\n",
            "              val_accuracy 0.6588709950447083\n",
            "              \n",
            "1938/1938 [==============================] - 313s 161ms/step - loss: 0.5168 - accuracy: 0.7834 - val_loss: 1.3434 - val_accuracy: 0.6589\n",
            "Epoch 9/20\n",
            "1938/1938 [==============================] - ETA: 0s - loss: 0.5090 - accuracy: 0.7848  \n",
            "              epcoh : 8\n",
            "              loss 0.5089629292488098\n",
            "              accuracy 0.7847741842269897\n",
            "              val_loss 1.6152137517929077\n",
            "              val_accuracy 0.5275806188583374\n",
            "              \n",
            "1938/1938 [==============================] - 313s 162ms/step - loss: 0.5090 - accuracy: 0.7848 - val_loss: 1.6152 - val_accuracy: 0.5276\n",
            "Epoch 10/20\n",
            "1938/1938 [==============================] - ETA: 0s - loss: 0.5190 - accuracy: 0.7841  \n",
            "              epcoh : 9\n",
            "              loss 0.5190227627754211\n",
            "              accuracy 0.784064531326294\n",
            "              val_loss 0.7862946391105652\n",
            "              val_accuracy 0.7408871054649353\n",
            "              \n",
            "1938/1938 [==============================] - 313s 162ms/step - loss: 0.5190 - accuracy: 0.7841 - val_loss: 0.7863 - val_accuracy: 0.7409\n",
            "Epoch 11/20\n",
            "1938/1938 [==============================] - ETA: 0s - loss: 0.5081 - accuracy: 0.7864  \n",
            "              epcoh : 10\n",
            "              loss 0.5080599188804626\n",
            "              accuracy 0.786403238773346\n",
            "              val_loss 0.7776015996932983\n",
            "              val_accuracy 0.7251613140106201\n",
            "              \n",
            "1938/1938 [==============================] - 313s 162ms/step - loss: 0.5081 - accuracy: 0.7864 - val_loss: 0.7776 - val_accuracy: 0.7252\n",
            "Epoch 12/20\n",
            "1938/1938 [==============================] - ETA: 0s - loss: 0.5097 - accuracy: 0.7842  \n",
            "              epcoh : 11\n",
            "              loss 0.5096971988677979\n",
            "              accuracy 0.7842258214950562\n",
            "              val_loss 1.623194932937622\n",
            "              val_accuracy 0.5650806427001953\n",
            "              \n",
            "1938/1938 [==============================] - 312s 161ms/step - loss: 0.5097 - accuracy: 0.7842 - val_loss: 1.6232 - val_accuracy: 0.5651\n",
            "Epoch 13/20\n",
            "1938/1938 [==============================] - ETA: 0s - loss: 0.5070 - accuracy: 0.7873  \n",
            "              epcoh : 12\n",
            "              loss 0.5069829821586609\n",
            "              accuracy 0.7873225808143616\n",
            "              val_loss 1.002744436264038\n",
            "              val_accuracy 0.6897580623626709\n",
            "              \n",
            "1938/1938 [==============================] - 313s 161ms/step - loss: 0.5070 - accuracy: 0.7873 - val_loss: 1.0027 - val_accuracy: 0.6898\n",
            "Epoch 14/20\n",
            "1938/1938 [==============================] - ETA: 0s - loss: 0.5058 - accuracy: 0.7865  \n",
            "              epcoh : 13\n",
            "              loss 0.5057960748672485\n",
            "              accuracy 0.786548376083374\n",
            "              val_loss 1.1397852897644043\n",
            "              val_accuracy 0.6368548274040222\n",
            "              \n",
            "1938/1938 [==============================] - 313s 161ms/step - loss: 0.5058 - accuracy: 0.7865 - val_loss: 1.1398 - val_accuracy: 0.6369\n",
            "Epoch 15/20\n",
            "1938/1938 [==============================] - ETA: 0s - loss: 0.5073 - accuracy: 0.7857  \n",
            "              epcoh : 14\n",
            "              loss 0.5072567462921143\n",
            "              accuracy 0.7857096791267395\n",
            "              val_loss 0.8969579339027405\n",
            "              val_accuracy 0.704596757888794\n",
            "              \n",
            "1938/1938 [==============================] - 313s 161ms/step - loss: 0.5073 - accuracy: 0.7857 - val_loss: 0.8970 - val_accuracy: 0.7046\n",
            "Epoch 16/20\n",
            "1938/1938 [==============================] - ETA: 0s - loss: 0.5051 - accuracy: 0.7879  \n",
            "              epcoh : 15\n",
            "              loss 0.5051183104515076\n",
            "              accuracy 0.7878548502922058\n",
            "              val_loss 0.8411627411842346\n",
            "              val_accuracy 0.718870997428894\n",
            "              \n",
            "1938/1938 [==============================] - 311s 161ms/step - loss: 0.5051 - accuracy: 0.7879 - val_loss: 0.8412 - val_accuracy: 0.7189\n",
            "Epoch 17/20\n",
            "1938/1938 [==============================] - ETA: 0s - loss: 0.4979 - accuracy: 0.7900  \n",
            "              epcoh : 16\n",
            "              loss 0.4979403614997864\n",
            "              accuracy 0.7899516224861145\n",
            "              val_loss 0.7896853089332581\n",
            "              val_accuracy 0.7283064723014832\n",
            "              \n",
            "1938/1938 [==============================] - 313s 161ms/step - loss: 0.4979 - accuracy: 0.7900 - val_loss: 0.7897 - val_accuracy: 0.7283\n",
            "Epoch 18/20\n",
            "1938/1938 [==============================] - ETA: 0s - loss: 0.4912 - accuracy: 0.7907  \n",
            "              epcoh : 17\n",
            "              loss 0.4911610782146454\n",
            "              accuracy 0.790725827217102\n",
            "              val_loss 0.8492597937583923\n",
            "              val_accuracy 0.7055644989013672\n",
            "              \n",
            "1938/1938 [==============================] - 313s 162ms/step - loss: 0.4912 - accuracy: 0.7907 - val_loss: 0.8493 - val_accuracy: 0.7056\n",
            "Epoch 19/20\n",
            "1000/1938 [==============>...............] - ETA: 2:27 - loss: 0.4947 - accuracy: 0.7918"
          ]
        }
      ]
    }
  ]
}