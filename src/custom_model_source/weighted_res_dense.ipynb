{
  "nbformat": 4,
  "nbformat_minor": 0,
  "metadata": {
    "colab": {
      "name": "weighted_res_dense.ipynb",
      "provenance": [],
      "collapsed_sections": []
    },
    "kernelspec": {
      "name": "python3",
      "display_name": "Python 3"
    },
    "language_info": {
      "name": "python"
    },
    "accelerator": "GPU"
  },
  "cells": [
    {
      "cell_type": "code",
      "execution_count": 1,
      "metadata": {
        "colab": {
          "base_uri": "https://localhost:8080/"
        },
        "id": "xLgiJylcsCw_",
        "outputId": "d7f74f9f-be33-4004-eb1e-f3aa90541412"
      },
      "outputs": [
        {
          "output_type": "stream",
          "name": "stdout",
          "text": [
            "Drive already mounted at cnontent/; to attempt to forcibly remount, call drive.mount(\"cnontent/\", force_remount=True).\n"
          ]
        }
      ],
      "source": [
        "from google.colab import drive\n",
        "drive.mount('cnontent/')"
      ]
    },
    {
      "cell_type": "code",
      "source": [
        "!pip install -q wandb"
      ],
      "metadata": {
        "colab": {
          "base_uri": "https://localhost:8080/"
        },
        "id": "orjAuhKTKMW3",
        "outputId": "e4a308bc-93d2-4ef4-dad7-f9d9c10cf57a"
      },
      "execution_count": 67,
      "outputs": [
        {
          "output_type": "stream",
          "name": "stdout",
          "text": [
            "\u001b[K     |████████████████████████████████| 1.8 MB 14.4 MB/s \n",
            "\u001b[K     |████████████████████████████████| 181 kB 65.8 MB/s \n",
            "\u001b[K     |████████████████████████████████| 145 kB 46.4 MB/s \n",
            "\u001b[K     |████████████████████████████████| 63 kB 1.4 MB/s \n",
            "\u001b[?25h  Building wheel for pathtools (setup.py) ... \u001b[?25l\u001b[?25hdone\n"
          ]
        }
      ]
    },
    {
      "cell_type": "code",
      "source": [
        "import tqdm\n",
        "import tensorflow as tf\n",
        "from tensorflow import keras\n",
        "import pandas as pd\n",
        "import numpy as np\n",
        "import matplotlib.pyplot as plt\n",
        "import wandb\n",
        "from wandb.keras import WandbCallback\n",
        "import os\n",
        "import random\n",
        "%matplotlib inline"
      ],
      "metadata": {
        "id": "0WqJKmH-so3L"
      },
      "execution_count": 68,
      "outputs": []
    },
    {
      "cell_type": "code",
      "source": [
        "cd /content/cnontent/MyDrive/SSU/nural_nework/project"
      ],
      "metadata": {
        "colab": {
          "base_uri": "https://localhost:8080/"
        },
        "id": "OI30lPYjsz16",
        "outputId": "f2dd5ee5-083a-4396-fa05-404d88053926"
      },
      "execution_count": 3,
      "outputs": [
        {
          "output_type": "stream",
          "name": "stdout",
          "text": [
            "/content/cnontent/MyDrive/SSU/nural_nework/project\n"
          ]
        }
      ]
    },
    {
      "cell_type": "code",
      "source": [
        "ls"
      ],
      "metadata": {
        "colab": {
          "base_uri": "https://localhost:8080/"
        },
        "id": "1nwnXBtTs1WL",
        "outputId": "1a0c1439-81c6-4b92-9730-73830a7a66c9"
      },
      "execution_count": 4,
      "outputs": [
        {
          "output_type": "stream",
          "name": "stdout",
          "text": [
            "a.png                     mobile2\n",
            "augmented_emnist.csv      Mobile_ELU_SGD_1000_120_005.h5\n",
            "balanced_train_label.npy  Mobile_Leacky_SGD_800_100_05.h5\n",
            "balanced_train.npy        \u001b[0m\u001b[01;34mMobile_Leacky_SGD_800_100_05.h5_1\u001b[0m/\n",
            "balanced_val_label.npy    Mobile_ReLU_SGD_800_05.h5\n",
            "balanced_val.npy          my_lenet5_emnist_model_20220515.h5\n",
            "checkpoint                our_handmade_dataset.csv\n",
            "emnist-byclass-test.csv   \u001b[01;34mres_res_ckp\u001b[0m/\n",
            "emnist-byclass-train.csv  test_dataset_학점살려조.csv\n",
            "\u001b[01;34mimages\u001b[0m/                   \u001b[01;34mwandb\u001b[0m/\n"
          ]
        }
      ]
    },
    {
      "cell_type": "code",
      "source": [
        "def convert_data_csv_to_numpy(data, sorting = False): # pandas 통해 읽은 csv data numpy 형태로 변경\n",
        "  if sorting == True:\n",
        "    data = data.sort_values(by=[0], axis=0)\n",
        "\n",
        "  label = np.array(data[0]) # csv file 에서 0번째 colum은 index임\n",
        "  only_data = np.array(data.drop([0], axis = 1)).reshape((-1, 28, 28, 1)) # csv file에서 0번 째 colum 탈락 -> data만 남게 됨\n",
        "  # only_data = tf.convert_to_tensor(only_data, dtype=tf.float32)\n",
        "  return only_data, label"
      ],
      "metadata": {
        "id": "n9XudglRs285"
      },
      "execution_count": 5,
      "outputs": []
    },
    {
      "cell_type": "code",
      "source": [
        "def balanced_data(data, label, border, n_train=1000, val_rate = 0.2):\n",
        "  i, start=0,0\n",
        "  d_train = l_train = d_val = l_val= None\n",
        "  n_data_per_class = n_train\n",
        "  n_val_per_class = int(n_data_per_class*val_rate)\n",
        "\n",
        "\n",
        "  for idx, class_end in enumerate(border):\n",
        "    if i ==0:\n",
        "      val_end = n_data_per_class+n_val_per_class\n",
        "\n",
        "      d_train = data[:n_data_per_class].copy()\n",
        "      l_train = label[:n_data_per_class].copy()\n",
        "\n",
        "      d_val = data[n_data_per_class:val_end].copy()\n",
        "      l_val = label[n_data_per_class:val_end].copy()\n",
        "\n",
        "      i+=1\n",
        "    else:\n",
        "      train_end = start+n_data_per_class\n",
        "      val_end = train_end+n_val_per_class\n",
        "\n",
        "      now_d_data = data[start:train_end].copy()\n",
        "      now_l_train = label[start:train_end].copy()\n",
        "      d_train = np.concatenate((d_train, now_d_data))\n",
        "      l_train = np.concatenate((l_train, now_l_train))\n",
        "\n",
        "      now_d_val = data[train_end:val_end].copy()\n",
        "      now_l_val = label[train_end:val_end].copy()\n",
        "      d_val = np.concatenate((d_val, now_d_val))\n",
        "      l_val = np.concatenate((l_val, now_l_val))\n",
        "    start += class_end\n",
        "  return (d_train, l_train, d_val, l_val)"
      ],
      "metadata": {
        "id": "kUe5WgTss4oh"
      },
      "execution_count": 6,
      "outputs": []
    },
    {
      "cell_type": "code",
      "source": [
        "train_data = np.load('./balanced_train.npy')\n",
        "train_label = np.load('./balanced_train_label.npy')\n",
        "val_data = np.load('./balanced_val.npy')\n",
        "val_label = np.load('./balanced_val_label.npy')"
      ],
      "metadata": {
        "id": "NIElrM57s50H"
      },
      "execution_count": 7,
      "outputs": []
    },
    {
      "cell_type": "code",
      "source": [
        "domain_train_label = np.array(train_label.copy())\n",
        "domain_val_label = np.array(val_label.copy())\n",
        "\n",
        "domain_train_label[domain_train_label<10] = 0\n",
        "domain_train_label[(10<=domain_train_label)&(domain_train_label<36)] = 1\n",
        "domain_train_label[36<=domain_train_label] = 2\n",
        "\n",
        "domain_val_label[domain_val_label<10] = 0\n",
        "domain_val_label[(10<=domain_val_label)&(domain_val_label<36)] = 1\n",
        "domain_val_label[36<=domain_val_label] = 2"
      ],
      "metadata": {
        "id": "8DqxIcXXdfvZ"
      },
      "execution_count": 8,
      "outputs": []
    },
    {
      "cell_type": "code",
      "source": [
        "print(train_data.shape)\n",
        "print(train_label.shape)\n",
        "print(val_data.shape)\n",
        "print(val_label.shape)"
      ],
      "metadata": {
        "colab": {
          "base_uri": "https://localhost:8080/"
        },
        "id": "NQ9ZKTTvdlHf",
        "outputId": "05593477-1992-4744-dc8b-4e20a10c9c7e"
      },
      "execution_count": 9,
      "outputs": [
        {
          "output_type": "stream",
          "name": "stdout",
          "text": [
            "(62000, 28, 28, 1)\n",
            "(62000,)\n",
            "(12400, 28, 28, 1)\n",
            "(12400,)\n"
          ]
        }
      ]
    },
    {
      "cell_type": "code",
      "source": [
        "print(np.unique(domain_train_label))\n",
        "print(np.unique(domain_val_label))"
      ],
      "metadata": {
        "colab": {
          "base_uri": "https://localhost:8080/"
        },
        "id": "DxreExz2dmJ5",
        "outputId": "0d308123-8dbc-414b-f0c7-a06207e36077"
      },
      "execution_count": 10,
      "outputs": [
        {
          "output_type": "stream",
          "name": "stdout",
          "text": [
            "[0 1 2]\n",
            "[0 1 2]\n"
          ]
        }
      ]
    },
    {
      "cell_type": "code",
      "source": [
        "train_label = keras.utils.to_categorical(train_label)\n",
        "val_label = keras.utils.to_categorical(val_label)"
      ],
      "metadata": {
        "id": "OG0XtZf1bBGS"
      },
      "execution_count": 11,
      "outputs": []
    },
    {
      "cell_type": "code",
      "source": [
        "print(train_data.shape)\n",
        "print(train_label.shape)\n",
        "print(val_data.shape)\n",
        "print(val_label.shape)"
      ],
      "metadata": {
        "colab": {
          "base_uri": "https://localhost:8080/"
        },
        "id": "TWpIoXw7s8vn",
        "outputId": "1ee94bff-2257-458a-a60a-631795174cec"
      },
      "execution_count": 12,
      "outputs": [
        {
          "output_type": "stream",
          "name": "stdout",
          "text": [
            "(62000, 28, 28, 1)\n",
            "(62000, 62)\n",
            "(12400, 28, 28, 1)\n",
            "(12400, 62)\n"
          ]
        }
      ]
    },
    {
      "cell_type": "code",
      "source": [
        "domain_train_label = keras.utils.to_categorical(domain_train_label)\n",
        "domain_val_label = keras.utils.to_categorical(domain_val_label)"
      ],
      "metadata": {
        "id": "pDNE7yIybhkD"
      },
      "execution_count": 13,
      "outputs": []
    },
    {
      "cell_type": "code",
      "source": [
        "print(domain_train_label.shape)\n",
        "print(domain_val_label.shape)"
      ],
      "metadata": {
        "colab": {
          "base_uri": "https://localhost:8080/"
        },
        "id": "xXb7pgD8bmxJ",
        "outputId": "1dac9aeb-2260-4416-cfec-1b0f68c6b31c"
      },
      "execution_count": 14,
      "outputs": [
        {
          "output_type": "stream",
          "name": "stdout",
          "text": [
            "(62000, 3)\n",
            "(12400, 3)\n"
          ]
        }
      ]
    },
    {
      "cell_type": "code",
      "source": [
        "class ResnetBlock(keras.models.Model):\n",
        "    \"\"\"\n",
        "    A standard resnet block.\n",
        "    \"\"\"\n",
        "\n",
        "    def __init__(self, channels: int, down_sample=False):\n",
        "        \"\"\"\n",
        "        channels: same as number of convolution kernels\n",
        "        \"\"\"\n",
        "        super().__init__()\n",
        "\n",
        "        self.__channels = channels\n",
        "        self.__down_sample = down_sample\n",
        "        self.__strides = [2, 1] if down_sample else [1, 1]\n",
        "\n",
        "        KERNEL_SIZE = (3, 3)\n",
        "        # use He initialization, instead of Xavier (a.k.a 'glorot_uniform' in Keras), as suggested in [2]\n",
        "        INIT_SCHEME = \"he_normal\"\n",
        "\n",
        "        self.conv_1 = keras.layers.Conv2D(self.__channels, strides=self.__strides[0],\n",
        "                             kernel_size=KERNEL_SIZE, padding=\"same\", kernel_initializer=INIT_SCHEME)\n",
        "        self.bn_1 = keras.layers.BatchNormalization()\n",
        "        self.conv_2 = keras.layers.Conv2D(self.__channels, strides=self.__strides[1],\n",
        "                             kernel_size=KERNEL_SIZE, padding=\"same\", kernel_initializer=INIT_SCHEME)\n",
        "        self.bn_2 = keras.layers.BatchNormalization()\n",
        "        self.merge = keras.layers.Add()\n",
        "\n",
        "        if self.__down_sample:\n",
        "            # perform down sampling using stride of 2, according to [1].\n",
        "            self.res_conv = keras.layers.Conv2D(\n",
        "                self.__channels, strides=2, kernel_size=(1, 1), kernel_initializer=INIT_SCHEME, padding=\"same\")\n",
        "            self.res_bn = keras.layers.BatchNormalization()\n",
        "\n",
        "    def call(self, inputs):\n",
        "        res = inputs\n",
        "\n",
        "        x = self.conv_1(inputs)\n",
        "        x = self.bn_1(x)\n",
        "        x = tf.nn.relu(x)\n",
        "        x = self.conv_2(x)\n",
        "        x = self.bn_2(x)\n",
        "\n",
        "        if self.__down_sample:\n",
        "            res = self.res_conv(res)\n",
        "            res = self.res_bn(res)\n",
        "\n",
        "        # if not perform down sample, then add a shortcut directly\n",
        "        x = self.merge([x, res])\n",
        "        out = tf.nn.relu(x)\n",
        "        return out"
      ],
      "metadata": {
        "id": "IdFms-l5s-Ou"
      },
      "execution_count": 15,
      "outputs": []
    },
    {
      "cell_type": "code",
      "source": [
        "class Res_5x5_v4(keras.models.Model):\n",
        "\n",
        "    def __init__(self, num_classes, config_list, **kwargs):\n",
        "        \"\"\"\n",
        "            num_classes: number of classes in specific classification task.\n",
        "        \"\"\"\n",
        "        super().__init__(**kwargs)\n",
        "\n",
        "        self.input_ch, self.activation, self.feature_layer_depth, self.domain_nueron, self.num_layer_nueron, self.upper_layer_nueron, self.lower_layer_nueron = config_list\n",
        "\n",
        "\n",
        "        self.Global_Average_Pool_Layer = keras.layers.GlobalAveragePooling2D()\n",
        "        self.Flatten_Layer = keras.layers.Flatten()\n",
        "\n",
        "        self.Feature_Detection_Layer = self.feature_detection_layer()\n",
        "        \n",
        "        self.Domain_Layer = self.domain_layer()\n",
        "        self.Number_Layer = self.number_layer()\n",
        "        self.Upper_Letter_Layer = self.upper_letter_layer()\n",
        "        self.Lower_Letter_Layer = self.lower_letter_layer()\n",
        "\n",
        "\n",
        "        self.Prediction_Layer = keras.layers.Dense(num_classes, activation=\"softmax\")\n",
        "\n",
        "    def feature_detection_layer(self):\n",
        "      feature_dec_layer = keras.models.Sequential()\n",
        "      feature_dec_layer.add(keras.layers.BatchNormalization())\n",
        "      feature_dec_layer.add(keras.layers.Conv2D(self.input_ch, (5, 5), strides=1, padding=\"same\", kernel_initializer=\"he_normal\"))\n",
        "      feature_dec_layer.add(keras.layers.BatchNormalization())\n",
        "      feature_dec_layer.add(keras.layers.MaxPool2D(pool_size=(2, 2), strides=1, padding=\"same\"))\n",
        "      feature_dec_layer.add(ResnetBlock(self.input_ch))\n",
        "      feature_dec_layer.add(ResnetBlock(self.input_ch))\n",
        "      \n",
        "      for i in range(self.feature_layer_depth-1):\n",
        "        feature_dec_layer.add(ResnetBlock(self.input_ch*(2*(i+1)), down_sample=True))\n",
        "        feature_dec_layer.add(ResnetBlock(self.input_ch*(2*(i+1))))\n",
        "\n",
        "      feature_dec_layer.add(self.Global_Average_Pool_Layer)\n",
        "      feature_dec_layer.add(self.Flatten_Layer)\n",
        "\n",
        "\n",
        "      return feature_dec_layer\n",
        "\n",
        "    def domain_layer(self):\n",
        "      num_layer = keras.models.Sequential(name = \"domain_layer\")\n",
        "      for i, num_nueron in enumerate(self.domain_nueron):\n",
        "        num_layer.add(tf.keras.layers.Dense(num_nueron))\n",
        "        num_layer.add(self.select_activation(self.activation))\n",
        "        num_layer.add(keras.layers.BatchNormalization())\n",
        "    \n",
        "      num_layer.add(tf.keras.layers.Dense(3, activation = 'softmax'))\n",
        "\n",
        "      return num_layer\n",
        "\n",
        "    def number_layer(self):\n",
        "      num_layer = keras.models.Sequential(name = \"number_layer\")\n",
        "      for i, num_nueron in enumerate(self.num_layer_nueron):\n",
        "        num_layer.add(tf.keras.layers.Dense(num_nueron))\n",
        "        num_layer.add(self.select_activation(self.activation))\n",
        "        num_layer.add(keras.layers.BatchNormalization())\n",
        "    \n",
        "      num_layer.add(tf.keras.layers.Dense(10, activation = None))\n",
        "\n",
        "      return num_layer\n",
        "\n",
        "    def upper_letter_layer(self):\n",
        "      upper_layer = keras.models.Sequential(name = \"upper_layer\")\n",
        "      for i, num_nueron in enumerate(self.upper_layer_nueron):\n",
        "        upper_layer.add(tf.keras.layers.Dense(num_nueron))\n",
        "        upper_layer.add(self.select_activation(self.activation))\n",
        "        upper_layer.add(keras.layers.BatchNormalization())\n",
        "\n",
        "      upper_layer.add(tf.keras.layers.Dense(26, activation = None))\n",
        "      return upper_layer\n",
        "\n",
        "    def lower_letter_layer(self):\n",
        "      lower_layer = keras.models.Sequential(name = \"lower_layer\")\n",
        "\n",
        "      for i, num_nueron in enumerate(self.lower_layer_nueron):\n",
        "        lower_layer.add(tf.keras.layers.Dense(num_nueron))\n",
        "        lower_layer.add(self.select_activation(self.activation))\n",
        "        lower_layer.add(keras.layers.BatchNormalization())\n",
        "\n",
        "      lower_layer.add(tf.keras.layers.Dense(26, activation = None))\n",
        "      return lower_layer\n",
        "\n",
        "    def select_activation(self, function):\n",
        "      if function == 'relu':\n",
        "        activation = keras.layers.ReLU()\n",
        "      elif function == 'prelu':\n",
        "        activation = keras.layers.PReLU()\n",
        "      elif function == 'leacky_relu':\n",
        "        activation = keras.layers.LeakyReLU()\n",
        "      elif function == 'elu':\n",
        "        activation = keras.layers.ELU()\n",
        "      else:\n",
        "        activation = keras.layers.ReLU()\n",
        "      return activation"
      ],
      "metadata": {
        "id": "B30oqVBstAGQ"
      },
      "execution_count": 118,
      "outputs": []
    },
    {
      "cell_type": "code",
      "source": [
        "def select_model(config_list):\n",
        "  model_class = Res_5x5_v4(64, config_list)\n",
        "\n",
        "  input = keras.layers.Input(shape=(28, 28, 1), name = \"input_layer\")\n",
        "\n",
        "  feature_out = model_class.Feature_Detection_Layer(input)\n",
        "\n",
        "  domain_result = model_class.Domain_Layer(feature_out)\n",
        "  domain_weight = domain_result[0]\n",
        "\n",
        "  num_out = model_class.Number_Layer(feature_out)\n",
        "  upper_out = model_class.Upper_Letter_Layer(feature_out)\n",
        "  lower_out = model_class.Lower_Letter_Layer(feature_out)\n",
        "\n",
        "  weighted_num = num_out*domain_weight[0]\n",
        "  weighted_upper = upper_out*domain_weight[1]\n",
        "  weighted_lower = lower_out*domain_weight[2]\n",
        "\n",
        "\n",
        "  final_out = keras.layers.concatenate([weighted_num, weighted_upper, weighted_lower])\n",
        "  result = tf.keras.layers.Softmax(name = 'final_classification')(final_out)\n",
        "\n",
        "  model = keras.models.Model(inputs=[input], outputs=[domain_result, result])\n",
        "  return model"
      ],
      "metadata": {
        "id": "i8Eq_hSCt3PB"
      },
      "execution_count": 119,
      "outputs": []
    },
    {
      "cell_type": "code",
      "source": [
        "test = [64, 'relu', 2, [50], [100, 50], [200, 100 , 50], [100, 50]]"
      ],
      "metadata": {
        "id": "-XitMQ6PvFKu"
      },
      "execution_count": 121,
      "outputs": []
    },
    {
      "cell_type": "code",
      "source": [
        "test_model = select_model(test)"
      ],
      "metadata": {
        "id": "z63c6z9aybjo"
      },
      "execution_count": 122,
      "outputs": []
    },
    {
      "cell_type": "code",
      "source": [
        "test_model.summary()"
      ],
      "metadata": {
        "colab": {
          "base_uri": "https://localhost:8080/"
        },
        "id": "FVhrwXe-ycwL",
        "outputId": "1f8994f3-5865-46e5-bdfb-d6521fb87744"
      },
      "execution_count": 123,
      "outputs": [
        {
          "output_type": "stream",
          "name": "stdout",
          "text": [
            "Model: \"model_1\"\n",
            "__________________________________________________________________________________________________\n",
            " Layer (type)                   Output Shape         Param #     Connected to                     \n",
            "==================================================================================================\n",
            " input_layer (InputLayer)       [(None, 28, 28, 1)]  0           []                               \n",
            "                                                                                                  \n",
            " sequential_3 (Sequential)      (None, 128)          678148      ['input_layer[0][0]']            \n",
            "                                                                                                  \n",
            " domain_layer (Sequential)      (None, 3)            6803        ['sequential_3[0][0]']           \n",
            "                                                                                                  \n",
            " tf.__operators__.getitem_68 (S  (3,)                0           ['domain_layer[0][0]']           \n",
            " licingOpLambda)                                                                                  \n",
            "                                                                                                  \n",
            " number_layer (Sequential)      (None, 10)           19060       ['sequential_3[0][0]']           \n",
            "                                                                                                  \n",
            " tf.__operators__.getitem_69 (S  ()                  0           ['tf.__operators__.getitem_68[0][\n",
            " licingOpLambda)                                                 0]']                             \n",
            "                                                                                                  \n",
            " upper_layer (Sequential)       (None, 26)           53676       ['sequential_3[0][0]']           \n",
            "                                                                                                  \n",
            " tf.__operators__.getitem_70 (S  ()                  0           ['tf.__operators__.getitem_68[0][\n",
            " licingOpLambda)                                                 0]']                             \n",
            "                                                                                                  \n",
            " lower_layer (Sequential)       (None, 26)           19876       ['sequential_3[0][0]']           \n",
            "                                                                                                  \n",
            " tf.__operators__.getitem_71 (S  ()                  0           ['tf.__operators__.getitem_68[0][\n",
            " licingOpLambda)                                                 0]']                             \n",
            "                                                                                                  \n",
            " tf.math.multiply_51 (TFOpLambd  (None, 10)          0           ['number_layer[0][0]',           \n",
            " a)                                                               'tf.__operators__.getitem_69[0][\n",
            "                                                                 0]']                             \n",
            "                                                                                                  \n",
            " tf.math.multiply_52 (TFOpLambd  (None, 26)          0           ['upper_layer[0][0]',            \n",
            " a)                                                               'tf.__operators__.getitem_70[0][\n",
            "                                                                 0]']                             \n",
            "                                                                                                  \n",
            " tf.math.multiply_53 (TFOpLambd  (None, 26)          0           ['lower_layer[0][0]',            \n",
            " a)                                                               'tf.__operators__.getitem_71[0][\n",
            "                                                                 0]']                             \n",
            "                                                                                                  \n",
            " concatenate_1 (Concatenate)    (None, 62)           0           ['tf.math.multiply_51[0][0]',    \n",
            "                                                                  'tf.math.multiply_52[0][0]',    \n",
            "                                                                  'tf.math.multiply_53[0][0]']    \n",
            "                                                                                                  \n",
            " final_classification (Softmax)  (None, 62)          0           ['concatenate_1[0][0]']          \n",
            "                                                                                                  \n",
            "==================================================================================================\n",
            "Total params: 777,563\n",
            "Trainable params: 774,241\n",
            "Non-trainable params: 3,322\n",
            "__________________________________________________________________________________________________\n"
          ]
        }
      ]
    },
    {
      "cell_type": "code",
      "source": [
        "keras.utils.plot_model(test_model, \"a.png\", show_shapes=True)"
      ],
      "metadata": {
        "colab": {
          "base_uri": "https://localhost:8080/",
          "height": 363
        },
        "id": "bBZkE9heyehQ",
        "outputId": "d4116890-6c61-48b6-c605-77b2e3451866"
      },
      "execution_count": 124,
      "outputs": [
        {
          "output_type": "execute_result",
          "data": {
            "text/plain": [
              "<IPython.core.display.Image object>"
            ],
            "image/png": "[encoded data removed]"
          },
          "metadata": {},
          "execution_count": 124
        }
      ]
    },
    {
      "cell_type": "code",
      "source": [
        "def custom_loss(y_true, y_pred):\n",
        "  # import time\n",
        "  loss = []\n",
        "  for true, pred in zip(y_true, y_pred):\n",
        "    t = np.argmax(true)\n",
        "    p = np.argmax(pred)\n",
        "    t_domain, p_domain = None, None\n",
        "\n",
        "    if t<10:\n",
        "      t_domain = 0\n",
        "    elif 10<=t and t<36:\n",
        "      t_domain = 1\n",
        "    elif 36<=t:\n",
        "      t_domain = 2\n",
        "\n",
        "    if p<10:\n",
        "      p_domain = 0\n",
        "    elif 10<=p and p<36:\n",
        "      p_domain = 1\n",
        "    elif 36<=p:\n",
        "      p_domain = 2\n",
        "\n",
        "    if t_domain != p_domain:\n",
        "      now_loss = 0\n",
        "    else:\n",
        "      now_loss = tf.keras.losses.CategoricalCrossentropy()(true, pred)\n",
        "\n",
        "    loss.append(now_loss)\n",
        "  loss = tf.convert_to_tensor(loss, dtype=tf.float32)\n",
        "  # print(loss)\n",
        "  # time.sleep(3)\n",
        "  return loss"
      ],
      "metadata": {
        "id": "30dsMX8zTwdN"
      },
      "execution_count": 125,
      "outputs": []
    },
    {
      "cell_type": "code",
      "source": [
        "loss_func = tf.keras.losses.CategoricalCrossentropy()([0, 0, 0, 1, 0],[0.2, 0.3, 0.2, 0.2, 0.1])\n",
        "print(loss_func)"
      ],
      "metadata": {
        "colab": {
          "base_uri": "https://localhost:8080/"
        },
        "id": "xeE0PG3lk2B_",
        "outputId": "21b1feb1-a8fd-4b5b-db09-eb2dd1454df3"
      },
      "execution_count": 126,
      "outputs": [
        {
          "output_type": "stream",
          "name": "stdout",
          "text": [
            "tf.Tensor(1.609438, shape=(), dtype=float32)\n"
          ]
        }
      ]
    },
    {
      "cell_type": "code",
      "source": [
        "test_model.compile(loss=[\"categorical_crossentropy\", custom_loss],\n",
        "                   loss_weights=[0.4, 0.6], optimizer='adam', metrics=[\"accuracy\" ], run_eagerly=True)"
      ],
      "metadata": {
        "id": "CdHydep15P-k"
      },
      "execution_count": 129,
      "outputs": []
    },
    {
      "cell_type": "code",
      "source": [
        "test_history = test_model.fit(train_data, [domain_train_label, train_label], epochs = 10,\n",
        "                              validation_data = (val_data, [domain_val_label, val_label]))"
      ],
      "metadata": {
        "id": "PT8nq8yQ6xIa"
      },
      "execution_count": 130,
      "outputs": []
    },
    {
      "cell_type": "code",
      "source": [
        "print(train_data.shape)\n",
        "print(train_label.shape)\n",
        "print(val_data.shape)\n",
        "print(val_label.shape)"
      ],
      "metadata": {
        "id": "UVfsJvo07RWJ"
      },
      "execution_count": 68,
      "outputs": []
    },
    {
      "cell_type": "code",
      "source": [
        "def select_opt(opt_name, lr):\n",
        "  if opt_name == 'adam':\n",
        "    optimizer = keras.optimizers.Adam(learning_rate=lr, beta_1=0.9, beta_2=0.999)\n",
        "  elif opt_name == 'rmsprop':\n",
        "    optimizer = keras.optimizers.RMSprop(learning_rate=lr, rho=0.9)\n",
        "  elif opt_name == 'sgd':\n",
        "    optimizer = keras.optimizers.SGD(learning_rate = lr)\n",
        "  elif opt_name == 'momentum':\n",
        "    optimizer = keras.optimizers.SGD(learning_rate = lr, momentum=0.9)\n",
        "  elif opt_name == 'nesterov':\n",
        "    optimizer = keras.optimizers.SGD(learning_rate=lr, momentum=0.9, nesterov=True)\n",
        "  elif opt_name == 'adagrad':\n",
        "    optimizer = keras.optimizers.Adagrad(learning_rate=lr)\n",
        "  elif opt_name == 'adamax':\n",
        "    optimizer = keras.optimizers.Adamax(learning_rate=lr, beta_1=0.9, beta_2=0.999)\n",
        "  elif opt_name == 'nadam':\n",
        "    optimizer = keras.optimizers.Nadam(learning_rate=lr, beta_1=0.9, beta_2=0.999)\n",
        "\n",
        "  return optimizer"
      ],
      "metadata": {
        "id": "x5ZArgbsJ0qn"
      },
      "execution_count": 70,
      "outputs": []
    },
    {
      "cell_type": "code",
      "source": [
        "def get_layer_nueron_list(channel, num_feature_layer ,num_layer, num_out_nueron):\n",
        "  num_input = channel*num_feature_layer\n",
        "  nueron_list = []\n",
        "  interval = (num_input-num_out_nueron)//(num_layer+1)\n",
        "  criterion = num_input\n",
        "  for i in range(num_layer):\n",
        "    criterion -= interval\n",
        "    nueron_list.append(criterion)\n",
        "  return nueron_list"
      ],
      "metadata": {
        "id": "3u9FkzmaJ068"
      },
      "execution_count": 69,
      "outputs": []
    },
    {
      "cell_type": "code",
      "source": [
        "class LossAndErrorPrintingCallback(keras.callbacks.Callback):\n",
        "# val_domain_layer_accuracy: 0.4708 - val_final_classification_accuracy:\n",
        "    def on_epoch_end(self, epoch, logs=None):\n",
        "        print(f'''\n",
        "              epcoh : {epoch}\n",
        "              val_domain_layer_accuracy {logs['val_domain_layer_accuracy']}\n",
        "              val_final_classification_accuracy {logs['val_final_classification_accuracy']}\n",
        "              ''')\n",
        "        wandb.log({'epochs': epoch,\n",
        "            'val_domain_layer_accuracy': logs['val_domain_layer_accuracy'],\n",
        "            'val_final_classification_accuracy': logs['val_final_classification_accuracy']\n",
        "            })"
      ],
      "metadata": {
        "id": "zABceK1sJ5Fw"
      },
      "execution_count": 80,
      "outputs": []
    },
    {
      "cell_type": "code",
      "source": [
        "def sweep_train(config_defaults=None):\n",
        "    # Set default values\n",
        "\n",
        "    early_stopping_cb = keras.callbacks.EarlyStopping(monitor='final_classification_accuracy', patience=5, restore_best_weights=True)\n",
        "\n",
        "    config_defaults = {\n",
        "      'channel' : 32,\n",
        "      'batch_size': 64,\n",
        "      'activation': 'relu',\n",
        "      'optimizer' : 'adam',\n",
        "      'learning_rate' : 0.01,\n",
        "      'feature_layer_depth' : 2,\n",
        "      'domain_layer_depth' : 2,\n",
        "      'num_layer_depth' : 2,\n",
        "      'upper_layer_depth' : 2,\n",
        "      'lower_layer_depth' : 2,\n",
        "      'domain_loss_rate' : 0.5\n",
        "    }\n",
        "    # Initialize wandb with a sample project name\n",
        "    wandb.init(config=config_defaults)  # this gets over-written in the Sweep\n",
        "\n",
        "    last_neuron_perlayer = [3, 10, 26, 26]\n",
        "    num_dense_per_layer = [wandb.config.domain_layer_depth, wandb.config.num_layer_depth, wandb.config.upper_layer_depth, wandb.config.lower_layer_depth]\n",
        "    num_flatten_layer = wandb.config.channel * wandb.config.feature_layer_depth\n",
        "    nueron_list = []\n",
        "\n",
        "    for last_nueron, num_dense in zip(last_neuron_perlayer, num_dense_per_layer):\n",
        "      now_layer_nueron = []\n",
        "      boundary = (num_flatten_layer - last_nueron)//(num_dense+1)\n",
        "      now_nueron = num_flatten_layer\n",
        "      for i in range(num_dense):\n",
        "        now_nueron -= boundary\n",
        "        now_layer_nueron.append(now_nueron)\n",
        "      nueron_list.append(now_layer_nueron)\n",
        "\n",
        "    print(nueron_list)\n",
        "\n",
        "    # initialize model\n",
        "\n",
        "    # test = [64, 'relu', 2, [50], [100, 50], [200, 100 , 50], [100, 50]]\n",
        "\n",
        "    config_list = [\n",
        "                    wandb.config.channel, wandb.config.activation, wandb.config.feature_layer_depth, \n",
        "                    nueron_list[0], nueron_list[1], nueron_list[2], nueron_list[3]\n",
        "                   ]\n",
        "    model = select_model(config_list)\n",
        "    optimizer = select_opt(wandb.config.optimizer, wandb.config.learning_rate)\n",
        "    loss_rate = [wandb.config.domain_loss_rate , 1-wandb.config.domain_loss_rate]\n",
        "    print(loss_rate)\n",
        "    \n",
        "    print(model.summary())\n",
        "\n",
        "    # Instantiate an optimizer to train the model.\n",
        "\n",
        "\n",
        "    model.compile(loss=[\"categorical_crossentropy\", custom_loss], loss_weights=loss_rate,\n",
        "                \n",
        "                  optimizer=optimizer,\n",
        "\n",
        "                  metrics=[\"accuracy\",],\n",
        "                   run_eagerly=True\n",
        "                  )\n",
        "    \n",
        "    hist = model.fit(train_data, [domain_train_label, train_label], epochs=50, \n",
        "                     validation_data=(val_data, [domain_val_label, val_label]), callbacks=[early_stopping_cb, LossAndErrorPrintingCallback()])"
      ],
      "metadata": {
        "id": "IC06hVX3KH94"
      },
      "execution_count": 114,
      "outputs": []
    },
    {
      "cell_type": "code",
      "source": [
        "sweep_config = {\n",
        "  'method': 'random', \n",
        "  'parameters': {\n",
        "      \n",
        "      'channel': {\n",
        "          'values' : [16, 32]\n",
        "      },\n",
        "      'optimizer': {\n",
        "          'values' : ['adam', 'rmsprop', 'sgd', 'momentum', 'nesterov', 'adagrad', 'adamax', 'nadam']\n",
        "      },\n",
        "      'learning_rate':{\n",
        "          'values' : [0.1, 0.05, 0.01, 0.005]\n",
        "      },\n",
        "      'feature_layer_depth' : {\n",
        "          'values' : [1, 2, 3]\n",
        "      },\n",
        "      'domain_layer_depth' : {\n",
        "          'values' : [1, 2]\n",
        "      },\n",
        "      'num_layer_depth' : {\n",
        "          'values' : [1, 2]\n",
        "      },\n",
        "      'upper_layer_depth' : {\n",
        "          'values' : [1, 2]\n",
        "      },\n",
        "      'lower_layer_depth' : {\n",
        "          'values' : [1, 2]\n",
        "      },\n",
        "      'activation' : {\n",
        "          'values' : ['relu', 'leacky_relu', 'elu']\n",
        "      },\n",
        "      'domain_loss_rate' : {\n",
        "          'values' : [0.3, 0.4, 0.5, 0.6]\n",
        "      }\n",
        "  }\n",
        "}"
      ],
      "metadata": {
        "id": "gctn42zeMGaH"
      },
      "execution_count": 115,
      "outputs": []
    },
    {
      "cell_type": "code",
      "source": [
        "sweep_id = wandb.sweep(sweep_config, project=\"weighted_res_dense_2\")"
      ],
      "metadata": {
        "colab": {
          "base_uri": "https://localhost:8080/"
        },
        "id": "Cyb3tKRFMktb",
        "outputId": "eefcf614-5570-477b-d63c-6be62fb0819d"
      },
      "execution_count": 106,
      "outputs": [
        {
          "output_type": "stream",
          "name": "stdout",
          "text": [
            "Create sweep with ID: js9vk0ib\n",
            "Sweep URL: https://wandb.ai/chanin-eom/weighted_res_dense_2/sweeps/js9vk0ib\n"
          ]
        }
      ]
    },
    {
      "cell_type": "code",
      "source": [
        "wandb.agent(sweep_id, function=sweep_train, count=50)"
      ],
      "metadata": {
        "colab": {
          "base_uri": "https://localhost:8080/",
          "height": 1000
        },
        "id": "5eveNn9vMrGz",
        "outputId": "a8a59aa5-9935-48eb-e0e4-3bdf7348d173"
      },
      "execution_count": 116,
      "outputs": [
        {
          "output_type": "stream",
          "name": "stderr",
          "text": [
            "\u001b[34m\u001b[1mwandb\u001b[0m: Agent Starting Run: 5qderyuh with config:\n",
            "\u001b[34m\u001b[1mwandb\u001b[0m: \tactivation: relu\n",
            "\u001b[34m\u001b[1mwandb\u001b[0m: \tchannel: 16\n",
            "\u001b[34m\u001b[1mwandb\u001b[0m: \tdomain_layer_depth: 3\n",
            "\u001b[34m\u001b[1mwandb\u001b[0m: \tdomain_loss_rate: 0.5\n",
            "\u001b[34m\u001b[1mwandb\u001b[0m: \tfeature_layer_depth: 3\n",
            "\u001b[34m\u001b[1mwandb\u001b[0m: \tlearning_rate: 0.005\n",
            "\u001b[34m\u001b[1mwandb\u001b[0m: \tlower_layer_depth: 3\n",
            "\u001b[34m\u001b[1mwandb\u001b[0m: \tnum_layer_depth: 1\n",
            "\u001b[34m\u001b[1mwandb\u001b[0m: \toptimizer: adam\n",
            "\u001b[34m\u001b[1mwandb\u001b[0m: \tupper_layer_depth: 3\n"
          ]
        },
        {
          "output_type": "display_data",
          "data": {
            "text/plain": [
              "<IPython.core.display.HTML object>"
            ],
            "text/html": [
              "Tracking run with wandb version 0.12.17"
            ]
          },
          "metadata": {}
        },
        {
          "output_type": "display_data",
          "data": {
            "text/plain": [
              "<IPython.core.display.HTML object>"
            ],
            "text/html": [
              "Run data is saved locally in <code>/content/cnontent/MyDrive/SSU/nural_nework/project/wandb/run-20220605_083041-5qderyuh</code>"
            ]
          },
          "metadata": {}
        },
        {
          "output_type": "display_data",
          "data": {
            "text/plain": [
              "<IPython.core.display.HTML object>"
            ],
            "text/html": [
              "Syncing run <strong><a href=\"https://wandb.ai/chanin-eom/weighted_res_dense_2/runs/5qderyuh\" target=\"_blank\">mild-sweep-4</a></strong> to <a href=\"https://wandb.ai/chanin-eom/weighted_res_dense_2\" target=\"_blank\">Weights & Biases</a> (<a href=\"https://wandb.me/run\" target=\"_blank\">docs</a>)<br/>Sweep page:  <a href=\"https://wandb.ai/chanin-eom/weighted_res_dense_2/sweeps/js9vk0ib\" target=\"_blank\">https://wandb.ai/chanin-eom/weighted_res_dense_2/sweeps/js9vk0ib</a>"
            ]
          },
          "metadata": {}
        },
        {
          "output_type": "stream",
          "name": "stdout",
          "text": [
            "[[37, 26, 15], [29], [43, 38, 33], [43, 38, 33]]\n",
            "[0.5, 0.5]\n",
            "Model: \"model\"\n",
            "__________________________________________________________________________________________________\n",
            " Layer (type)                   Output Shape         Param #     Connected to                     \n",
            "==================================================================================================\n",
            " input_layer (InputLayer)       [(None, 28, 28, 1)]  0           []                               \n",
            "                                                                                                  \n",
            " sequential (Sequential)        (None, 64)           176260      ['input_layer[0][0]']            \n",
            "                                                                                                  \n",
            " domain_layer (Sequential)      (None, 3)            4158        ['sequential[0][0]']             \n",
            "                                                                                                  \n",
            " tf.__operators__.getitem_64 (S  (3,)                0           ['domain_layer[0][0]']           \n",
            " licingOpLambda)                                                                                  \n",
            "                                                                                                  \n",
            " tf.__operators__.getitem_65 (S  ()                  0           ['tf.__operators__.getitem_64[0][\n",
            " licingOpLambda)                                                 0]']                             \n",
            "                                                                                                  \n",
            " tf.__operators__.getitem_66 (S  ()                  0           ['tf.__operators__.getitem_64[0][\n",
            " licingOpLambda)                                                 0]']                             \n",
            "                                                                                                  \n",
            " tf.__operators__.getitem_67 (S  ()                  0           ['tf.__operators__.getitem_64[0][\n",
            " licingOpLambda)                                                 0]']                             \n",
            "                                                                                                  \n",
            " tf.math.multiply_48 (TFOpLambd  (None, 64)          0           ['sequential[0][0]',             \n",
            " a)                                                               'tf.__operators__.getitem_65[0][\n",
            "                                                                 0]']                             \n",
            "                                                                                                  \n",
            " tf.math.multiply_49 (TFOpLambd  (None, 64)          0           ['sequential[0][0]',             \n",
            " a)                                                               'tf.__operators__.getitem_66[0][\n",
            "                                                                 0]']                             \n",
            "                                                                                                  \n",
            " tf.math.multiply_50 (TFOpLambd  (None, 64)          0           ['sequential[0][0]',             \n",
            " a)                                                               'tf.__operators__.getitem_67[0][\n",
            "                                                                 0]']                             \n",
            "                                                                                                  \n",
            " number_layer (Sequential)      (None, 10)           2301        ['tf.math.multiply_48[0][0]']    \n",
            "                                                                                                  \n",
            " upper_layer (Sequential)       (None, 26)           7094        ['tf.math.multiply_49[0][0]']    \n",
            "                                                                                                  \n",
            " lower_layer (Sequential)       (None, 26)           7094        ['tf.math.multiply_50[0][0]']    \n",
            "                                                                                                  \n",
            " concatenate (Concatenate)      (None, 62)           0           ['number_layer[0][0]',           \n",
            "                                                                  'upper_layer[0][0]',            \n",
            "                                                                  'lower_layer[0][0]']            \n",
            "                                                                                                  \n",
            " final_classification (Softmax)  (None, 62)          0           ['concatenate[0][0]']            \n",
            "                                                                                                  \n",
            "==================================================================================================\n",
            "Total params: 196,907\n",
            "Trainable params: 195,115\n",
            "Non-trainable params: 1,792\n",
            "__________________________________________________________________________________________________\n",
            "None\n",
            "Epoch 1/50\n",
            "1938/1938 [==============================] - ETA: 0s - loss: 0.5909 - domain_layer_loss: 0.7121 - final_classification_loss: 0.4697 - domain_layer_accuracy: 0.6600 - final_classification_accuracy: 0.4472\n",
            "              epcoh : 0\n",
            "              val_domain_layer_accuracy 0.6891129016876221\n",
            "              val_final_classification_accuracy 0.22169354557991028\n",
            "              \n",
            "1938/1938 [==============================] - 491s 253ms/step - loss: 0.5909 - domain_layer_loss: 0.7121 - final_classification_loss: 0.4697 - domain_layer_accuracy: 0.6600 - final_classification_accuracy: 0.4472 - val_loss: 2.0913 - val_domain_layer_loss: 0.6676 - val_final_classification_loss: 3.5150 - val_domain_layer_accuracy: 0.6891 - val_final_classification_accuracy: 0.2217\n",
            "Epoch 2/50\n",
            "1938/1938 [==============================] - ETA: 0s - loss: 0.3999 - domain_layer_loss: 0.5778 - final_classification_loss: 0.2219 - domain_layer_accuracy: 0.7264 - final_classification_accuracy: 0.5636\n",
            "              epcoh : 1\n",
            "              val_domain_layer_accuracy 0.7223387360572815\n",
            "              val_final_classification_accuracy 0.27870967984199524\n",
            "              \n",
            "1938/1938 [==============================] - 497s 257ms/step - loss: 0.3999 - domain_layer_loss: 0.5778 - final_classification_loss: 0.2219 - domain_layer_accuracy: 0.7264 - final_classification_accuracy: 0.5636 - val_loss: 1.3892 - val_domain_layer_loss: 0.5977 - val_final_classification_loss: 2.1807 - val_domain_layer_accuracy: 0.7223 - val_final_classification_accuracy: 0.2787\n",
            "Epoch 3/50\n",
            "1938/1938 [==============================] - ETA: 0s - loss: 0.3622 - domain_layer_loss: 0.5381 - final_classification_loss: 0.1863 - domain_layer_accuracy: 0.7408 - final_classification_accuracy: 0.5838\n",
            "              epcoh : 2\n",
            "              val_domain_layer_accuracy 0.727419376373291\n",
            "              val_final_classification_accuracy 0.3153225779533386\n",
            "              \n",
            "1938/1938 [==============================] - 499s 258ms/step - loss: 0.3622 - domain_layer_loss: 0.5381 - final_classification_loss: 0.1863 - domain_layer_accuracy: 0.7408 - final_classification_accuracy: 0.5838 - val_loss: 1.0842 - val_domain_layer_loss: 0.5887 - val_final_classification_loss: 1.5797 - val_domain_layer_accuracy: 0.7274 - val_final_classification_accuracy: 0.3153\n",
            "Epoch 4/50\n",
            "1938/1938 [==============================] - ETA: 0s - loss: 0.3406 - domain_layer_loss: 0.5161 - final_classification_loss: 0.1652 - domain_layer_accuracy: 0.7513 - final_classification_accuracy: 0.5936\n",
            "              epcoh : 3\n",
            "              val_domain_layer_accuracy 0.77338707447052\n",
            "              val_final_classification_accuracy 0.36733871698379517\n",
            "              \n",
            "1938/1938 [==============================] - 500s 258ms/step - loss: 0.3406 - domain_layer_loss: 0.5161 - final_classification_loss: 0.1652 - domain_layer_accuracy: 0.7513 - final_classification_accuracy: 0.5936 - val_loss: 1.1646 - val_domain_layer_loss: 0.4868 - val_final_classification_loss: 1.8424 - val_domain_layer_accuracy: 0.7734 - val_final_classification_accuracy: 0.3673\n",
            "Epoch 5/50\n",
            "1938/1938 [==============================] - ETA: 0s - loss: 0.3258 - domain_layer_loss: 0.5021 - final_classification_loss: 0.1495 - domain_layer_accuracy: 0.7578 - final_classification_accuracy: 0.5998\n",
            "              epcoh : 4\n",
            "              val_domain_layer_accuracy 0.7614516019821167\n",
            "              val_final_classification_accuracy 0.32475805282592773\n",
            "              \n",
            "1938/1938 [==============================] - 511s 264ms/step - loss: 0.3258 - domain_layer_loss: 0.5021 - final_classification_loss: 0.1495 - domain_layer_accuracy: 0.7578 - final_classification_accuracy: 0.5998 - val_loss: 1.5273 - val_domain_layer_loss: 0.5002 - val_final_classification_loss: 2.5544 - val_domain_layer_accuracy: 0.7615 - val_final_classification_accuracy: 0.3248\n",
            "Epoch 6/50\n",
            "1938/1938 [==============================] - ETA: 0s - loss: 0.3141 - domain_layer_loss: 0.4899 - final_classification_loss: 0.1383 - domain_layer_accuracy: 0.7633 - final_classification_accuracy: 0.6059\n",
            "              epcoh : 5\n",
            "              val_domain_layer_accuracy 0.7738709449768066\n",
            "              val_final_classification_accuracy 0.3661290407180786\n",
            "              \n",
            "1938/1938 [==============================] - 547s 282ms/step - loss: 0.3141 - domain_layer_loss: 0.4899 - final_classification_loss: 0.1383 - domain_layer_accuracy: 0.7633 - final_classification_accuracy: 0.6059 - val_loss: 1.2871 - val_domain_layer_loss: 0.4761 - val_final_classification_loss: 2.0981 - val_domain_layer_accuracy: 0.7739 - val_final_classification_accuracy: 0.3661\n",
            "Epoch 7/50\n",
            "1938/1938 [==============================] - ETA: 0s - loss: 0.3040 - domain_layer_loss: 0.4780 - final_classification_loss: 0.1301 - domain_layer_accuracy: 0.7705 - final_classification_accuracy: 0.6105\n",
            "              epcoh : 6\n",
            "              val_domain_layer_accuracy 0.7500806450843811\n",
            "              val_final_classification_accuracy 0.3377419412136078\n",
            "              \n",
            "1938/1938 [==============================] - 519s 268ms/step - loss: 0.3040 - domain_layer_loss: 0.4780 - final_classification_loss: 0.1301 - domain_layer_accuracy: 0.7705 - final_classification_accuracy: 0.6105 - val_loss: 1.4674 - val_domain_layer_loss: 0.5196 - val_final_classification_loss: 2.4153 - val_domain_layer_accuracy: 0.7501 - val_final_classification_accuracy: 0.3377\n",
            "Epoch 8/50\n",
            "1938/1938 [==============================] - ETA: 0s - loss: 0.2985 - domain_layer_loss: 0.4714 - final_classification_loss: 0.1256 - domain_layer_accuracy: 0.7739 - final_classification_accuracy: 0.6172\n",
            "              epcoh : 7\n",
            "              val_domain_layer_accuracy 0.762499988079071\n",
            "              val_final_classification_accuracy 0.32951614260673523\n",
            "              \n",
            "1938/1938 [==============================] - 510s 263ms/step - loss: 0.2985 - domain_layer_loss: 0.4714 - final_classification_loss: 0.1256 - domain_layer_accuracy: 0.7739 - final_classification_accuracy: 0.6172 - val_loss: 1.5331 - val_domain_layer_loss: 0.5088 - val_final_classification_loss: 2.5575 - val_domain_layer_accuracy: 0.7625 - val_final_classification_accuracy: 0.3295\n",
            "Epoch 9/50\n",
            "1938/1938 [==============================] - ETA: 0s - loss: 0.2878 - domain_layer_loss: 0.4597 - final_classification_loss: 0.1159 - domain_layer_accuracy: 0.7817 - final_classification_accuracy: 0.6192\n",
            "              epcoh : 8\n",
            "              val_domain_layer_accuracy 0.7433064579963684\n",
            "              val_final_classification_accuracy 0.3824999928474426\n",
            "              \n",
            "1938/1938 [==============================] - 505s 261ms/step - loss: 0.2878 - domain_layer_loss: 0.4597 - final_classification_loss: 0.1159 - domain_layer_accuracy: 0.7817 - final_classification_accuracy: 0.6192 - val_loss: 1.0704 - val_domain_layer_loss: 0.5286 - val_final_classification_loss: 1.6123 - val_domain_layer_accuracy: 0.7433 - val_final_classification_accuracy: 0.3825\n",
            "Epoch 10/50\n",
            "1938/1938 [==============================] - ETA: 0s - loss: 0.2852 - domain_layer_loss: 0.4553 - final_classification_loss: 0.1150 - domain_layer_accuracy: 0.7807 - final_classification_accuracy: 0.6270\n",
            "              epcoh : 9\n",
            "              val_domain_layer_accuracy 0.786048412322998\n",
            "              val_final_classification_accuracy 0.4124193489551544\n",
            "              \n",
            "1938/1938 [==============================] - 501s 259ms/step - loss: 0.2852 - domain_layer_loss: 0.4553 - final_classification_loss: 0.1150 - domain_layer_accuracy: 0.7807 - final_classification_accuracy: 0.6270 - val_loss: 1.1397 - val_domain_layer_loss: 0.4463 - val_final_classification_loss: 1.8330 - val_domain_layer_accuracy: 0.7860 - val_final_classification_accuracy: 0.4124\n",
            "Epoch 11/50\n",
            "1938/1938 [==============================] - ETA: 0s - loss: 0.2785 - domain_layer_loss: 0.4486 - final_classification_loss: 0.1085 - domain_layer_accuracy: 0.7851 - final_classification_accuracy: 0.6287\n",
            "              epcoh : 10\n",
            "              val_domain_layer_accuracy 0.7846774458885193\n",
            "              val_final_classification_accuracy 0.38266128301620483\n",
            "              \n",
            "1938/1938 [==============================] - 498s 257ms/step - loss: 0.2785 - domain_layer_loss: 0.4486 - final_classification_loss: 0.1085 - domain_layer_accuracy: 0.7851 - final_classification_accuracy: 0.6287 - val_loss: 1.2280 - val_domain_layer_loss: 0.4445 - val_final_classification_loss: 2.0115 - val_domain_layer_accuracy: 0.7847 - val_final_classification_accuracy: 0.3827\n",
            "Epoch 12/50\n",
            "1938/1938 [==============================] - ETA: 0s - loss: 0.2717 - domain_layer_loss: 0.4415 - final_classification_loss: 0.1019 - domain_layer_accuracy: 0.7875 - final_classification_accuracy: 0.6311\n",
            "              epcoh : 11\n",
            "              val_domain_layer_accuracy 0.7874193787574768\n",
            "              val_final_classification_accuracy 0.41290321946144104\n",
            "              \n",
            "1938/1938 [==============================] - 496s 256ms/step - loss: 0.2717 - domain_layer_loss: 0.4415 - final_classification_loss: 0.1019 - domain_layer_accuracy: 0.7875 - final_classification_accuracy: 0.6311 - val_loss: 1.0831 - val_domain_layer_loss: 0.4442 - val_final_classification_loss: 1.7219 - val_domain_layer_accuracy: 0.7874 - val_final_classification_accuracy: 0.4129\n",
            "Epoch 13/50\n",
            "1938/1938 [==============================] - ETA: 0s - loss: 0.2691 - domain_layer_loss: 0.4394 - final_classification_loss: 0.0988 - domain_layer_accuracy: 0.7897 - final_classification_accuracy: 0.6358\n",
            "              epcoh : 12\n",
            "              val_domain_layer_accuracy 0.7900000214576721\n",
            "              val_final_classification_accuracy 0.37564516067504883\n",
            "              \n",
            "1938/1938 [==============================] - 498s 257ms/step - loss: 0.2691 - domain_layer_loss: 0.4394 - final_classification_loss: 0.0988 - domain_layer_accuracy: 0.7897 - final_classification_accuracy: 0.6358 - val_loss: 1.1105 - val_domain_layer_loss: 0.4567 - val_final_classification_loss: 1.7643 - val_domain_layer_accuracy: 0.7900 - val_final_classification_accuracy: 0.3756\n",
            "Epoch 14/50\n",
            "1938/1938 [==============================] - ETA: 0s - loss: 0.2662 - domain_layer_loss: 0.4347 - final_classification_loss: 0.0977 - domain_layer_accuracy: 0.7903 - final_classification_accuracy: 0.6390\n",
            "              epcoh : 13\n",
            "              val_domain_layer_accuracy 0.7854032516479492\n",
            "              val_final_classification_accuracy 0.3881451487541199\n",
            "              \n",
            "1938/1938 [==============================] - 501s 259ms/step - loss: 0.2662 - domain_layer_loss: 0.4347 - final_classification_loss: 0.0977 - domain_layer_accuracy: 0.7903 - final_classification_accuracy: 0.6390 - val_loss: 1.3540 - val_domain_layer_loss: 0.4737 - val_final_classification_loss: 2.2344 - val_domain_layer_accuracy: 0.7854 - val_final_classification_accuracy: 0.3881\n",
            "Epoch 15/50\n",
            "1938/1938 [==============================] - ETA: 0s - loss: 0.2584 - domain_layer_loss: 0.4256 - final_classification_loss: 0.0912 - domain_layer_accuracy: 0.7963 - final_classification_accuracy: 0.6408\n",
            "              epcoh : 14\n",
            "              val_domain_layer_accuracy 0.7742741703987122\n",
            "              val_final_classification_accuracy 0.3962903320789337\n",
            "              \n",
            "1938/1938 [==============================] - 503s 260ms/step - loss: 0.2584 - domain_layer_loss: 0.4256 - final_classification_loss: 0.0912 - domain_layer_accuracy: 0.7963 - final_classification_accuracy: 0.6408 - val_loss: 1.0816 - val_domain_layer_loss: 0.4819 - val_final_classification_loss: 1.6813 - val_domain_layer_accuracy: 0.7743 - val_final_classification_accuracy: 0.3963\n",
            "Epoch 16/50\n",
            "1938/1938 [==============================] - ETA: 0s - loss: 0.2556 - domain_layer_loss: 0.4239 - final_classification_loss: 0.0873 - domain_layer_accuracy: 0.7976 - final_classification_accuracy: 0.6423\n",
            "              epcoh : 15\n",
            "              val_domain_layer_accuracy 0.7752419114112854\n",
            "              val_final_classification_accuracy 0.4350000023841858\n",
            "              \n",
            "1938/1938 [==============================] - 506s 261ms/step - loss: 0.2556 - domain_layer_loss: 0.4239 - final_classification_loss: 0.0873 - domain_layer_accuracy: 0.7976 - final_classification_accuracy: 0.6423 - val_loss: 1.0828 - val_domain_layer_loss: 0.4872 - val_final_classification_loss: 1.6785 - val_domain_layer_accuracy: 0.7752 - val_final_classification_accuracy: 0.4350\n",
            "Epoch 17/50\n",
            "1604/1938 [=======================>......] - ETA: 1:20 - loss: 0.2566 - domain_layer_loss: 0.4257 - final_classification_loss: 0.0875 - domain_layer_accuracy: 0.7956 - final_classification_accuracy: 0.6431"
          ]
        },
        {
          "output_type": "stream",
          "name": "stderr",
          "text": [
            "\u001b[34m\u001b[1mwandb\u001b[0m: Ctrl + C detected. Stopping sweep.\n"
          ]
        }
      ]
    },
    {
      "cell_type": "code",
      "source": [
        ""
      ],
      "metadata": {
        "id": "hwhKZDvT-hvK"
      },
      "execution_count": null,
      "outputs": []
    }
  ]
}