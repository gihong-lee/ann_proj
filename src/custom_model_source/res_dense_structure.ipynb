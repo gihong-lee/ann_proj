{
  "cells": [
    {
      "cell_type": "code",
      "execution_count": 1,
      "metadata": {
        "colab": {
          "base_uri": "https://localhost:8080/"
        },
        "id": "l8oGOMCuJ1GA",
        "outputId": "2e06584c-139e-48c7-9798-69579f41fe3d"
      },
      "outputs": [
        {
          "name": "stdout",
          "output_type": "stream",
          "text": [
            "Mounted at cnontent/\n"
          ]
        }
      ],
      "source": [
        "from google.colab import drive\n",
        "drive.mount('cnontent/')"
      ]
    },
    {
      "cell_type": "code",
      "execution_count": null,
      "metadata": {
        "id": "Jm0qsVYJcVgB"
      },
      "outputs": [],
      "source": [
        "!pip install -q wandb"
      ]
    },
    {
      "cell_type": "code",
      "execution_count": 2,
      "metadata": {
        "id": "uxJrPISBJ6AE"
      },
      "outputs": [],
      "source": [
        "import tqdm\n",
        "import tensorflow as tf\n",
        "from tensorflow import keras\n",
        "import pandas as pd\n",
        "import numpy as np\n",
        "import matplotlib.pyplot as plt\n",
        "# import wandb\n",
        "# from wandb.keras import WandbCallback\n",
        "import os\n",
        "import random\n",
        "%matplotlib inline"
      ]
    },
    {
      "cell_type": "code",
      "execution_count": 3,
      "metadata": {
        "colab": {
          "base_uri": "https://localhost:8080/"
        },
        "id": "1yygP6tFKG_H",
        "outputId": "3c02806d-5a91-4824-b0fa-9076f417826c"
      },
      "outputs": [
        {
          "name": "stdout",
          "output_type": "stream",
          "text": [
            "/content/cnontent/MyDrive/SSU/nural_nework/project\n"
          ]
        }
      ],
      "source": [
        "cd /content/cnontent/MyDrive/SSU/nural_nework/project"
      ]
    },
    {
      "cell_type": "code",
      "execution_count": 4,
      "metadata": {
        "colab": {
          "base_uri": "https://localhost:8080/"
        },
        "id": "KVsrfQejKIh8",
        "outputId": "7f52f647-acec-4144-d44a-661c830e9396"
      },
      "outputs": [
        {
          "name": "stdout",
          "output_type": "stream",
          "text": [
            "a.png                     mobile2\n",
            "augmented_emnist.csv      Mobile_ELU_SGD_1000_120_005.h5\n",
            "balanced_train_label.npy  Mobile_Leacky_SGD_800_100_05.h5\n",
            "balanced_train.npy        \u001b[0m\u001b[01;34mMobile_Leacky_SGD_800_100_05.h5_1\u001b[0m/\n",
            "balanced_val_label.npy    Mobile_ReLU_SGD_800_05.h5\n",
            "balanced_val.npy          my_lenet5_emnist_model_20220515.h5\n",
            "checkpoint                our_handmade_dataset.csv\n",
            "emnist-byclass-test.csv   \u001b[01;34mres_res_ckp\u001b[0m/\n",
            "emnist-byclass-train.csv  test_dataset_학점살려조.csv\n",
            "\u001b[01;34mimages\u001b[0m/                   \u001b[01;34mwandb\u001b[0m/\n"
          ]
        }
      ],
      "source": [
        "ls"
      ]
    },
    {
      "cell_type": "code",
      "execution_count": 5,
      "metadata": {
        "id": "aDBVPcfGwzZl"
      },
      "outputs": [],
      "source": [
        "def convert_data_csv_to_numpy(data, sorting = False): # pandas 통해 읽은 csv data numpy 형태로 변경\n",
        "  if sorting == True:\n",
        "    data = data.sort_values(by=[0], axis=0)\n",
        "\n",
        "  label = np.array(data[0]) # csv file 에서 0번째 colum은 index임\n",
        "  only_data = np.array(data.drop([0], axis = 1)).reshape((-1, 28, 28, 1)) # csv file에서 0번 째 colum 탈락 -> data만 남게 됨\n",
        "  # only_data = tf.convert_to_tensor(only_data, dtype=tf.float32)\n",
        "  return only_data, label"
      ]
    },
    {
      "cell_type": "code",
      "execution_count": 6,
      "metadata": {
        "id": "ddcxhhrnw17B"
      },
      "outputs": [],
      "source": [
        "def balanced_data(data, label, border, n_train=1000, val_rate = 0.2):\n",
        "  i, start=0,0\n",
        "  d_train = l_train = d_val = l_val= None\n",
        "  n_data_per_class = n_train\n",
        "  n_val_per_class = int(n_data_per_class*val_rate)\n",
        "\n",
        "\n",
        "  for idx, class_end in enumerate(border):\n",
        "    if i ==0:\n",
        "      val_end = n_data_per_class+n_val_per_class\n",
        "\n",
        "      d_train = data[:n_data_per_class].copy()\n",
        "      l_train = label[:n_data_per_class].copy()\n",
        "\n",
        "      d_val = data[n_data_per_class:val_end].copy()\n",
        "      l_val = label[n_data_per_class:val_end].copy()\n",
        "\n",
        "      i+=1\n",
        "    else:\n",
        "      train_end = start+n_data_per_class\n",
        "      val_end = train_end+n_val_per_class\n",
        "\n",
        "      now_d_data = data[start:train_end].copy()\n",
        "      now_l_train = label[start:train_end].copy()\n",
        "      d_train = np.concatenate((d_train, now_d_data))\n",
        "      l_train = np.concatenate((l_train, now_l_train))\n",
        "\n",
        "      now_d_val = data[train_end:val_end].copy()\n",
        "      now_l_val = label[train_end:val_end].copy()\n",
        "      d_val = np.concatenate((d_val, now_d_val))\n",
        "      l_val = np.concatenate((l_val, now_l_val))\n",
        "    start += class_end\n",
        "  return (d_train, l_train, d_val, l_val)"
      ]
    },
    {
      "cell_type": "code",
      "execution_count": 7,
      "metadata": {
        "id": "T33dc7DWw3di"
      },
      "outputs": [],
      "source": [
        "train_csv, test_csv = [], []\n",
        "train_csv = pd.read_csv(\"./emnist-byclass-train.csv\", header=None)"
      ]
    },
    {
      "cell_type": "code",
      "execution_count": 8,
      "metadata": {
        "id": "W6qz-ogUw4r4"
      },
      "outputs": [],
      "source": [
        "# train, train_label = convert_data_csv_to_numpy(train_csv, sorting = True)\n",
        "train, train_label = convert_data_csv_to_numpy(train_csv, sorting = False)\n",
        "train_csv = []"
      ]
    },
    {
      "cell_type": "code",
      "execution_count": 9,
      "metadata": {
        "id": "2WlXOssKw8h6"
      },
      "outputs": [],
      "source": [
        "train_data = tf.convert_to_tensor(train, dtype=tf.float32)"
      ]
    },
    {
      "cell_type": "code",
      "execution_count": 10,
      "metadata": {
        "id": "eNOlKeIzw-ba"
      },
      "outputs": [],
      "source": [
        "boundary = int(train_data.shape[0]*0.8)\n",
        "\n",
        "final_train = train_data[:boundary]\n",
        "final_train_label = train_label[:boundary]\n",
        "\n",
        "final_val = train_data[boundary:]\n",
        "final_val_label = train_label[boundary:]"
      ]
    },
    {
      "cell_type": "code",
      "execution_count": 11,
      "metadata": {
        "colab": {
          "base_uri": "https://localhost:8080/"
        },
        "id": "SF7kzwYBw_8y",
        "outputId": "8d113d63-eac5-4998-b602-ab8f90f7286a"
      },
      "outputs": [
        {
          "name": "stdout",
          "output_type": "stream",
          "text": [
            "(558345, 28, 28, 1)\n",
            "(558345,)\n",
            "(139587, 28, 28, 1)\n",
            "(139587,)\n"
          ]
        }
      ],
      "source": [
        "print(final_train.shape)\n",
        "print(final_train_label.shape)\n",
        "print(final_val.shape)\n",
        "print(final_val_label.shape)"
      ]
    },
    {
      "cell_type": "code",
      "execution_count": null,
      "metadata": {
        "id": "utRKnOfLKJ9m"
      },
      "outputs": [],
      "source": [
        "# train_data = np.load('./balanced_train.npy')\n",
        "# train_label = np.load('./balanced_train_label.npy')\n",
        "# val_data = np.load('./balanced_val.npy')\n",
        "# val_label = np.load('./balanced_val_label.npy')"
      ]
    },
    {
      "cell_type": "code",
      "execution_count": null,
      "metadata": {
        "colab": {
          "base_uri": "https://localhost:8080/"
        },
        "id": "dsLf-hM1KqT5",
        "outputId": "ff93e643-3122-472f-e52d-3ba92a32b88b"
      },
      "outputs": [
        {
          "name": "stdout",
          "output_type": "stream",
          "text": [
            "(62000, 28, 28, 1)\n",
            "(62000,)\n",
            "(12400, 28, 28, 1)\n",
            "(12400,)\n"
          ]
        }
      ],
      "source": [
        "# print(train_data.shape)\n",
        "# print(train_label.shape)\n",
        "# print(val_data.shape)\n",
        "# print(val_label.shape)"
      ]
    },
    {
      "cell_type": "code",
      "execution_count": 12,
      "metadata": {
        "id": "yRVJj45ZLC5I"
      },
      "outputs": [],
      "source": [
        "class ResnetBlock(keras.models.Model):\n",
        "    \"\"\"\n",
        "    A standard resnet block.\n",
        "    \"\"\"\n",
        "\n",
        "    def __init__(self, channels: int, down_sample=False):\n",
        "        \"\"\"\n",
        "        channels: same as number of convolution kernels\n",
        "        \"\"\"\n",
        "        super().__init__()\n",
        "\n",
        "        self.__channels = channels\n",
        "        self.__down_sample = down_sample\n",
        "        self.__strides = [2, 1] if down_sample else [1, 1]\n",
        "\n",
        "        KERNEL_SIZE = (3, 3)\n",
        "        # use He initialization, instead of Xavier (a.k.a 'glorot_uniform' in Keras), as suggested in [2]\n",
        "        INIT_SCHEME = \"he_normal\"\n",
        "\n",
        "        self.conv_1 = keras.layers.Conv2D(self.__channels, strides=self.__strides[0],\n",
        "                             kernel_size=KERNEL_SIZE, padding=\"same\", kernel_initializer=INIT_SCHEME)\n",
        "        self.bn_1 = keras.layers.BatchNormalization()\n",
        "        self.conv_2 = keras.layers.Conv2D(self.__channels, strides=self.__strides[1],\n",
        "                             kernel_size=KERNEL_SIZE, padding=\"same\", kernel_initializer=INIT_SCHEME)\n",
        "        self.bn_2 = keras.layers.BatchNormalization()\n",
        "        self.merge = keras.layers.Add()\n",
        "\n",
        "        if self.__down_sample:\n",
        "            # perform down sampling using stride of 2, according to [1].\n",
        "            self.res_conv = keras.layers.Conv2D(\n",
        "                self.__channels, strides=2, kernel_size=(1, 1), kernel_initializer=INIT_SCHEME, padding=\"same\")\n",
        "            self.res_bn = keras.layers.BatchNormalization()\n",
        "\n",
        "    def call(self, inputs):\n",
        "        res = inputs\n",
        "\n",
        "        x = self.conv_1(inputs)\n",
        "        x = self.bn_1(x)\n",
        "        x = tf.nn.relu(x)\n",
        "        x = self.conv_2(x)\n",
        "        x = self.bn_2(x)\n",
        "\n",
        "        if self.__down_sample:\n",
        "            res = self.res_conv(res)\n",
        "            res = self.res_bn(res)\n",
        "\n",
        "        # if not perform down sample, then add a shortcut directly\n",
        "        x = self.merge([x, res])\n",
        "        out = tf.nn.relu(x)\n",
        "        return out"
      ]
    },
    {
      "cell_type": "code",
      "execution_count": null,
      "metadata": {
        "colab": {
          "base_uri": "https://localhost:8080/"
        },
        "id": "1RCRgFEVSYSH",
        "outputId": "0c9b1a27-b707-4c8e-9ea5-583a019d7cc7"
      },
      "outputs": [
        {
          "name": "stdout",
          "output_type": "stream",
          "text": [
            "3\n",
            "5\n",
            "6\n"
          ]
        }
      ],
      "source": [
        "for i, a in enumerate([3, 5, 6]):\n",
        "  print(a)"
      ]
    },
    {
      "cell_type": "code",
      "execution_count": 13,
      "metadata": {
        "id": "kGBF76YeLUKN"
      },
      "outputs": [],
      "source": [
        "class Res_5x5_v4(keras.models.Model):\n",
        "\n",
        "    def __init__(self, num_classes, config_list, **kwargs):\n",
        "        \"\"\"\n",
        "            num_classes: number of classes in specific classification task.\n",
        "        \"\"\"\n",
        "        super().__init__(**kwargs)\n",
        "\n",
        "        self.input_ch, self.activation, self.feature_layer_depth, self.num_layer_nueron, self.upper_layer_nueron, self.lower_layer_nueron = config_list\n",
        "\n",
        "\n",
        "        self.Global_Average_Pool_Layer = keras.layers.GlobalAveragePooling2D()\n",
        "        self.Flatten_Layer = keras.layers.Flatten()\n",
        "\n",
        "        self.Feature_Detection_Layer = self.feature_detection_layer()\n",
        "\n",
        "        self.Number_Layer = self.number_layer()\n",
        "        self.Upper_Letter_Layer = self.upper_letter_layer()\n",
        "        self.Lower_Letter_Layer = self.lower_letter_layer()\n",
        "\n",
        "\n",
        "        self.Prediction_Layer = keras.layers.Dense(num_classes, activation=\"softmax\")\n",
        "\n",
        "    def feature_detection_layer(self):\n",
        "      feature_dec_layer = keras.models.Sequential()\n",
        "      feature_dec_layer.add(keras.layers.BatchNormalization())\n",
        "      feature_dec_layer.add(keras.layers.Conv2D(self.input_ch, (5, 5), strides=1, padding=\"same\", kernel_initializer=\"he_normal\"))\n",
        "      feature_dec_layer.add(keras.layers.BatchNormalization())\n",
        "      feature_dec_layer.add(keras.layers.MaxPool2D(pool_size=(2, 2), strides=1, padding=\"same\"))\n",
        "      feature_dec_layer.add(ResnetBlock(self.input_ch))\n",
        "      feature_dec_layer.add(ResnetBlock(self.input_ch))\n",
        "      \n",
        "      for i in range(self.feature_layer_depth-1):\n",
        "        feature_dec_layer.add(ResnetBlock(self.input_ch*(2*(i+1)), down_sample=True))\n",
        "        feature_dec_layer.add(ResnetBlock(self.input_ch*(2*(i+1))))\n",
        "\n",
        "      feature_dec_layer.add(self.Global_Average_Pool_Layer)\n",
        "      feature_dec_layer.add(self.Flatten_Layer)\n",
        "\n",
        "\n",
        "      return feature_dec_layer\n",
        "\n",
        "    def number_layer(self):\n",
        "      num_layer = keras.models.Sequential()\n",
        "      for i, num_nueron in enumerate(self.num_layer_nueron):\n",
        "        num_layer.add(tf.keras.layers.Dense(num_nueron))\n",
        "        num_layer.add(self.select_activation(self.activation))\n",
        "        num_layer.add(keras.layers.BatchNormalization())\n",
        "    \n",
        "      num_layer.add(tf.keras.layers.Dense(10, activation = None))\n",
        "\n",
        "      return num_layer\n",
        "\n",
        "    def upper_letter_layer(self):\n",
        "      upper_layer = keras.models.Sequential()\n",
        "      for i, num_nueron in enumerate(self.upper_layer_nueron):\n",
        "        upper_layer.add(tf.keras.layers.Dense(num_nueron))\n",
        "        upper_layer.add(self.select_activation(self.activation))\n",
        "        upper_layer.add(keras.layers.BatchNormalization())\n",
        "\n",
        "      upper_layer.add(tf.keras.layers.Dense(26, activation = None))\n",
        "      return upper_layer\n",
        "\n",
        "    def lower_letter_layer(self):\n",
        "      lower_layer = keras.models.Sequential()\n",
        "\n",
        "      for i, num_nueron in enumerate(self.lower_layer_nueron):\n",
        "        lower_layer.add(tf.keras.layers.Dense(num_nueron))\n",
        "        lower_layer.add(self.select_activation(self.activation))\n",
        "        lower_layer.add(keras.layers.BatchNormalization())\n",
        "\n",
        "      lower_layer.add(tf.keras.layers.Dense(26, activation = None))\n",
        "      return lower_layer\n",
        "\n",
        "    def select_activation(self, function):\n",
        "      if function == 'relu':\n",
        "        activation = keras.layers.ReLU()\n",
        "      elif function == 'prelu':\n",
        "        activation = keras.layers.PReLU()\n",
        "      elif function == 'leacky_relu':\n",
        "        activation = keras.layers.LeakyReLU()\n",
        "      elif function == 'elu':\n",
        "        activation = keras.layers.ELU()\n",
        "      else:\n",
        "        activation = keras.layers.ReLU()\n",
        "      return activation"
      ]
    },
    {
      "cell_type": "code",
      "execution_count": 14,
      "metadata": {
        "id": "RcfcSnslO8hu"
      },
      "outputs": [],
      "source": [
        "def select_model(config_list):\n",
        "  model_class = Res_5x5_v4(64, config_list)\n",
        "\n",
        "  input = keras.layers.Input(shape=(28, 28, 1))\n",
        "\n",
        "  feature_out = model_class.Feature_Detection_Layer(input)\n",
        "\n",
        "  num_out = model_class.Number_Layer(feature_out)\n",
        "  upper_out = model_class.Upper_Letter_Layer(feature_out)\n",
        "  lower_out = model_class.Lower_Letter_Layer(feature_out)\n",
        "\n",
        "  final_out = keras.layers.concatenate([num_out, upper_out, lower_out])\n",
        "  result = tf.nn.softmax(final_out)\n",
        "\n",
        "  model = keras.models.Model(inputs=[input], outputs=[result])\n",
        "  return model"
      ]
    },
    {
      "cell_type": "code",
      "execution_count": 15,
      "metadata": {
        "id": "MK1pgrJXO-M7"
      },
      "outputs": [],
      "source": [
        "test = [64, 'relu', 2, [100, 50], [200, 100 , 50], [100, 50]]"
      ]
    },
    {
      "cell_type": "code",
      "execution_count": 16,
      "metadata": {
        "colab": {
          "base_uri": "https://localhost:8080/"
        },
        "id": "6gt7juSCTriM",
        "outputId": "2d46f77d-ef7a-4401-acb5-e283d57623a8"
      },
      "outputs": [
        {
          "name": "stdout",
          "output_type": "stream",
          "text": [
            "WARNING:tensorflow:AutoGraph could not transform <bound method ResnetBlock.call of <__main__.ResnetBlock object at 0x7f7d85506550>> and will run it as-is.\n",
            "Cause: mangled names are not yet supported\n",
            "To silence this warning, decorate the function with @tf.autograph.experimental.do_not_convert\n",
            "WARNING: AutoGraph could not transform <bound method ResnetBlock.call of <__main__.ResnetBlock object at 0x7f7d85506550>> and will run it as-is.\n",
            "Cause: mangled names are not yet supported\n",
            "To silence this warning, decorate the function with @tf.autograph.experimental.do_not_convert\n"
          ]
        }
      ],
      "source": [
        "test_model = select_model(test)"
      ]
    },
    {
      "cell_type": "code",
      "execution_count": 17,
      "metadata": {
        "colab": {
          "base_uri": "https://localhost:8080/",
          "height": 533
        },
        "id": "7ECqbuRfxMnK",
        "outputId": "8ce0b38f-2a5c-4480-f1e6-27aa14701ccc"
      },
      "outputs": [
        {
          "data": {
            "image/png": "[encoded data removed]",
            "text/plain": [
              "<IPython.core.display.Image object>"
            ]
          },
          "execution_count": 17,
          "metadata": {},
          "output_type": "execute_result"
        }
      ],
      "source": [
        "keras.utils.plot_model(test_model, \"a.png\", show_shapes=True)"
      ]
    },
    {
      "cell_type": "code",
      "execution_count": null,
      "metadata": {
        "colab": {
          "base_uri": "https://localhost:8080/"
        },
        "id": "5cK52dZjUmQs",
        "outputId": "86adcadf-42e2-40b8-d1da-8d2bbee8256c"
      },
      "outputs": [
        {
          "name": "stdout",
          "output_type": "stream",
          "text": [
            "Model: \"sequential\"\n",
            "_________________________________________________________________\n",
            " Layer (type)                Output Shape              Param #   \n",
            "=================================================================\n",
            " batch_normalization (BatchN  (None, 28, 28, 1)        4         \n",
            " ormalization)                                                   \n",
            "                                                                 \n",
            " conv2d (Conv2D)             (None, 28, 28, 64)        1664      \n",
            "                                                                 \n",
            " batch_normalization_1 (Batc  (None, 28, 28, 64)       256       \n",
            " hNormalization)                                                 \n",
            "                                                                 \n",
            " max_pooling2d (MaxPooling2D  (None, 28, 28, 64)       0         \n",
            " )                                                               \n",
            "                                                                 \n",
            " resnet_block (ResnetBlock)  (None, 28, 28, 64)        74368     \n",
            "                                                                 \n",
            " resnet_block_1 (ResnetBlock  (None, 28, 28, 64)       74368     \n",
            " )                                                               \n",
            "                                                                 \n",
            " resnet_block_2 (ResnetBlock  (None, 14, 14, 128)      231296    \n",
            " )                                                               \n",
            "                                                                 \n",
            " resnet_block_3 (ResnetBlock  (None, 14, 14, 128)      296192    \n",
            " )                                                               \n",
            "                                                                 \n",
            " global_average_pooling2d (G  (None, 128)              0         \n",
            " lobalAveragePooling2D)                                          \n",
            "                                                                 \n",
            " flatten (Flatten)           (None, 128)               0         \n",
            "                                                                 \n",
            "=================================================================\n",
            "Total params: 678,148\n",
            "Trainable params: 676,226\n",
            "Non-trainable params: 1,922\n",
            "_________________________________________________________________\n"
          ]
        }
      ],
      "source": [
        "test_model.layers[1].summary()"
      ]
    },
    {
      "cell_type": "code",
      "execution_count": null,
      "metadata": {
        "colab": {
          "base_uri": "https://localhost:8080/"
        },
        "id": "jtR5zKO6UeXJ",
        "outputId": "db0fba84-8649-4147-a83f-1a1ecf2b1243"
      },
      "outputs": [
        {
          "name": "stdout",
          "output_type": "stream",
          "text": [
            "Model: \"model\"\n",
            "__________________________________________________________________________________________________\n",
            " Layer (type)                   Output Shape         Param #     Connected to                     \n",
            "==================================================================================================\n",
            " input_1 (InputLayer)           [(None, 28, 28, 1)]  0           []                               \n",
            "                                                                                                  \n",
            " sequential (Sequential)        (None, 128)          678148      ['input_1[0][0]']                \n",
            "                                                                                                  \n",
            " sequential_1 (Sequential)      (None, 10)           19060       ['sequential[0][0]']             \n",
            "                                                                                                  \n",
            " sequential_2 (Sequential)      (None, 26)           53676       ['sequential[0][0]']             \n",
            "                                                                                                  \n",
            " sequential_3 (Sequential)      (None, 26)           19876       ['sequential[0][0]']             \n",
            "                                                                                                  \n",
            " concatenate (Concatenate)      (None, 62)           0           ['sequential_1[0][0]',           \n",
            "                                                                  'sequential_2[0][0]',           \n",
            "                                                                  'sequential_3[0][0]']           \n",
            "                                                                                                  \n",
            " tf.nn.softmax (TFOpLambda)     (None, 62)           0           ['concatenate[0][0]']            \n",
            "                                                                                                  \n",
            "==================================================================================================\n",
            "Total params: 770,760\n",
            "Trainable params: 767,538\n",
            "Non-trainable params: 3,222\n",
            "__________________________________________________________________________________________________\n"
          ]
        }
      ],
      "source": [
        "test_model.summary()"
      ]
    },
    {
      "cell_type": "code",
      "execution_count": null,
      "metadata": {
        "id": "pH-iYtNaPVDN"
      },
      "outputs": [],
      "source": [
        "test_model.compile(loss=\"sparse_categorical_crossentropy\", optimizer='adam', metrics=[\"accuracy\"])"
      ]
    },
    {
      "cell_type": "code",
      "execution_count": null,
      "metadata": {
        "colab": {
          "base_uri": "https://localhost:8080/"
        },
        "id": "0_NJBVYWWlu1",
        "outputId": "8408dcdb-adb2-4a2c-80c5-d21ceb581c33"
      },
      "outputs": [
        {
          "data": {
            "text/plain": [
              "<keras.layers.normalization.batch_normalization.BatchNormalization at 0x7f27d6bebdd0>"
            ]
          },
          "execution_count": 19,
          "metadata": {},
          "output_type": "execute_result"
        }
      ],
      "source": [
        "keras.layers.BatchNormalization()"
      ]
    },
    {
      "cell_type": "code",
      "execution_count": 18,
      "metadata": {
        "id": "pg55dWCvP9sd"
      },
      "outputs": [],
      "source": [
        "def select_opt(opt_name, lr):\n",
        "  if opt_name == 'adam':\n",
        "    optimizer = keras.optimizers.Adam(learning_rate=lr, beta_1=0.9, beta_2=0.999)\n",
        "  elif opt_name == 'rmsprop':\n",
        "    optimizer = keras.optimizers.RMSprop(learning_rate=lr, rho=0.9)\n",
        "  elif opt_name == 'sgd':\n",
        "    optimizer = keras.optimizers.SGD(learning_rate = lr)\n",
        "  elif opt_name == 'momentum':\n",
        "    optimizer = keras.optimizers.SGD(learning_rate = lr, momentum=0.9)\n",
        "  elif opt_name == 'nesterov':\n",
        "    optimizer = keras.optimizers.SGD(learning_rate=lr, momentum=0.9, nesterov=True)\n",
        "  elif opt_name == 'adagrad':\n",
        "    optimizer = keras.optimizers.Adagrad(learning_rate=lr)\n",
        "  elif opt_name == 'adamax':\n",
        "    optimizer = keras.optimizers.Adamax(learning_rate=lr, beta_1=0.9, beta_2=0.999)\n",
        "  elif opt_name == 'nadam':\n",
        "    optimizer = keras.optimizers.Nadam(learning_rate=lr, beta_1=0.9, beta_2=0.999)\n",
        "\n",
        "  return optimizer"
      ]
    },
    {
      "cell_type": "code",
      "execution_count": 30,
      "metadata": {
        "id": "w_KjZVFK0Bmx"
      },
      "outputs": [],
      "source": [
        "def get_layer_nueron_list(channel, num_feature_layer ,num_layer, num_out_nueron):\n",
        "  num_input = channel*num_feature_layer\n",
        "  nueron_list = []\n",
        "  interval = (num_input-num_out_nueron)//(num_layer+1)\n",
        "  criterion = num_input\n",
        "  for i in range(num_layer):\n",
        "    criterion -= interval\n",
        "    nueron_list.append(criterion)\n",
        "  return nueron_list"
      ]
    },
    {
      "cell_type": "code",
      "execution_count": 41,
      "metadata": {
        "id": "pZqm6P2Q5MGA"
      },
      "outputs": [],
      "source": [
        "test_csv = pd.read_csv(\"./emnist-byclass-test.csv\", header=None)\n",
        "hand_made_csv = pd.read_csv(\"./our_handmade_dataset.csv\", header=None)"
      ]
    },
    {
      "cell_type": "code",
      "execution_count": 42,
      "metadata": {
        "id": "YH0lERwu5MU6"
      },
      "outputs": [],
      "source": [
        "test_data, test_label = convert_data_csv_to_numpy(test_csv, sorting = False)\n",
        "hand_data, hand_label = convert_data_csv_to_numpy(hand_made_csv, sorting = False)"
      ]
    },
    {
      "cell_type": "code",
      "execution_count": 38,
      "metadata": {
        "id": "NeSfvTbuyMj1"
      },
      "outputs": [],
      "source": [
        "# 32, 2, 2, 1, 2\n",
        "model1_list = [32, 'relu', 2, get_layer_nueron_list(32, 2, 2, 10), get_layer_nueron_list(32, 2, 1, 16), get_layer_nueron_list(32, 2, 2, 16)] # 76.35%\n",
        "# 16, 2, 2, 2, 3\n",
        "model2_list = [16, 'relu', 2, get_layer_nueron_list(16, 2, 2, 10), get_layer_nueron_list(16, 2, 2, 16), get_layer_nueron_list(16, 2, 3, 16)] # 75.94%\n",
        "# 32, 2, 1, 1, 2\n",
        "model3_list = [32, 'elu', 2, get_layer_nueron_list(32, 2, 2, 10), get_layer_nueron_list(32, 2, 1, 16), get_layer_nueron_list(32, 2, 2, 16)] # 75.87%\n",
        "# 64, 2, 3, 3, 2\n",
        "model4_list = [64, 'relu', 2, get_layer_nueron_list(64, 2, 3, 10), get_layer_nueron_list(64, 2, 3, 16), get_layer_nueron_list(64, 2, 2, 16)] # 75.92"
      ]
    },
    {
      "cell_type": "code",
      "execution_count": 43,
      "metadata": {
        "colab": {
          "base_uri": "https://localhost:8080/"
        },
        "id": "ZMXPOmz_yPR5",
        "outputId": "f1f2f2e5-fc2b-43d2-a07e-30a781ca4fc9"
      },
      "outputs": [
        {
          "name": "stdout",
          "output_type": "stream",
          "text": [
            "Model: \"model_9\"\n",
            "__________________________________________________________________________________________________\n",
            " Layer (type)                   Output Shape         Param #     Connected to                     \n",
            "==================================================================================================\n",
            " input_10 (InputLayer)          [(None, 28, 28, 1)]  0           []                               \n",
            "                                                                                                  \n",
            " sequential_36 (Sequential)     (None, 64)           171140      ['input_10[0][0]']               \n",
            "                                                                                                  \n",
            " sequential_37 (Sequential)     (None, 10)           4892        ['sequential_36[0][0]']          \n",
            "                                                                                                  \n",
            " sequential_38 (Sequential)     (None, 26)           3826        ['sequential_36[0][0]']          \n",
            "                                                                                                  \n",
            " sequential_39 (Sequential)     (None, 26)           5866        ['sequential_36[0][0]']          \n",
            "                                                                                                  \n",
            " concatenate_9 (Concatenate)    (None, 62)           0           ['sequential_37[0][0]',          \n",
            "                                                                  'sequential_38[0][0]',          \n",
            "                                                                  'sequential_39[0][0]']          \n",
            "                                                                                                  \n",
            " tf.nn.softmax_9 (TFOpLambda)   (None, 62)           0           ['concatenate_9[0][0]']          \n",
            "                                                                                                  \n",
            "==================================================================================================\n",
            "Total params: 185,724\n",
            "Trainable params: 184,374\n",
            "Non-trainable params: 1,350\n",
            "__________________________________________________________________________________________________\n",
            "Model: \"model_10\"\n",
            "__________________________________________________________________________________________________\n",
            " Layer (type)                   Output Shape         Param #     Connected to                     \n",
            "==================================================================================================\n",
            " input_11 (InputLayer)          [(None, 28, 28, 1)]  0           []                               \n",
            "                                                                                                  \n",
            " sequential_40 (Sequential)     (None, 32)           43588       ['input_11[0][0]']               \n",
            "                                                                                                  \n",
            " sequential_41 (Sequential)     (None, 10)           1655        ['sequential_40[0][0]']          \n",
            "                                                                                                  \n",
            " sequential_42 (Sequential)     (None, 26)           2301        ['sequential_40[0][0]']          \n",
            "                                                                                                  \n",
            " sequential_43 (Sequential)     (None, 26)           2954        ['sequential_40[0][0]']          \n",
            "                                                                                                  \n",
            " concatenate_10 (Concatenate)   (None, 62)           0           ['sequential_41[0][0]',          \n",
            "                                                                  'sequential_42[0][0]',          \n",
            "                                                                  'sequential_43[0][0]']          \n",
            "                                                                                                  \n",
            " tf.nn.softmax_10 (TFOpLambda)  (None, 62)           0           ['concatenate_10[0][0]']         \n",
            "                                                                                                  \n",
            "==================================================================================================\n",
            "Total params: 50,498\n",
            "Trainable params: 49,688\n",
            "Non-trainable params: 810\n",
            "__________________________________________________________________________________________________\n",
            "Model: \"model_11\"\n",
            "__________________________________________________________________________________________________\n",
            " Layer (type)                   Output Shape         Param #     Connected to                     \n",
            "==================================================================================================\n",
            " input_12 (InputLayer)          [(None, 28, 28, 1)]  0           []                               \n",
            "                                                                                                  \n",
            " sequential_44 (Sequential)     (None, 64)           171140      ['input_12[0][0]']               \n",
            "                                                                                                  \n",
            " sequential_45 (Sequential)     (None, 10)           4892        ['sequential_44[0][0]']          \n",
            "                                                                                                  \n",
            " sequential_46 (Sequential)     (None, 26)           3826        ['sequential_44[0][0]']          \n",
            "                                                                                                  \n",
            " sequential_47 (Sequential)     (None, 26)           5866        ['sequential_44[0][0]']          \n",
            "                                                                                                  \n",
            " concatenate_11 (Concatenate)   (None, 62)           0           ['sequential_45[0][0]',          \n",
            "                                                                  'sequential_46[0][0]',          \n",
            "                                                                  'sequential_47[0][0]']          \n",
            "                                                                                                  \n",
            " tf.nn.softmax_11 (TFOpLambda)  (None, 62)           0           ['concatenate_11[0][0]']         \n",
            "                                                                                                  \n",
            "==================================================================================================\n",
            "Total params: 185,724\n",
            "Trainable params: 184,374\n",
            "Non-trainable params: 1,350\n",
            "__________________________________________________________________________________________________\n",
            "Model: \"model_12\"\n",
            "__________________________________________________________________________________________________\n",
            " Layer (type)                   Output Shape         Param #     Connected to                     \n",
            "==================================================================================================\n",
            " input_13 (InputLayer)          [(None, 28, 28, 1)]  0           []                               \n",
            "                                                                                                  \n",
            " sequential_48 (Sequential)     (None, 128)          678148      ['input_13[0][0]']               \n",
            "                                                                                                  \n",
            " sequential_49 (Sequential)     (None, 10)           23942       ['sequential_48[0][0]']          \n",
            "                                                                                                  \n",
            " sequential_50 (Sequential)     (None, 26)           25418       ['sequential_48[0][0]']          \n",
            "                                                                                                  \n",
            " sequential_51 (Sequential)     (None, 26)           18717       ['sequential_48[0][0]']          \n",
            "                                                                                                  \n",
            " concatenate_12 (Concatenate)   (None, 62)           0           ['sequential_49[0][0]',          \n",
            "                                                                  'sequential_50[0][0]',          \n",
            "                                                                  'sequential_51[0][0]']          \n",
            "                                                                                                  \n",
            " tf.nn.softmax_12 (TFOpLambda)  (None, 62)           0           ['concatenate_12[0][0]']         \n",
            "                                                                                                  \n",
            "==================================================================================================\n",
            "Total params: 746,225\n",
            "Trainable params: 743,161\n",
            "Non-trainable params: 3,064\n",
            "__________________________________________________________________________________________________\n"
          ]
        }
      ],
      "source": [
        "first_model = select_model(model1_list)\n",
        "second_model = select_model(model2_list)\n",
        "third_model = select_model(model3_list)\n",
        "fourth_model = select_model(model4_list)\n",
        "\n",
        "first_model.summary()\n",
        "second_model.summary()\n",
        "third_model.summary()\n",
        "fourth_model.summary()"
      ]
    },
    {
      "cell_type": "code",
      "execution_count": 46,
      "metadata": {
        "colab": {
          "base_uri": "https://localhost:8080/"
        },
        "id": "WFszkns0yGu1",
        "outputId": "14a7c2a9-7f49-48d4-ef37-0bc8b7ac0297"
      },
      "outputs": [
        {
          "name": "stdout",
          "output_type": "stream",
          "text": [
            "<keras.optimizer_v2.gradient_descent.SGD object at 0x7f7ce83bbb50>\n",
            "Epoch 1/50\n",
            "17449/17449 [==============================] - 234s 13ms/step - loss: 0.5234 - accuracy: 0.8245 - val_loss: 0.4343 - val_accuracy: 0.8478\n",
            "Epoch 2/50\n",
            "17449/17449 [==============================] - 234s 13ms/step - loss: 0.4091 - accuracy: 0.8529 - val_loss: 0.4004 - val_accuracy: 0.8547\n",
            "Epoch 3/50\n",
            "17449/17449 [==============================] - 233s 13ms/step - loss: 0.3871 - accuracy: 0.8593 - val_loss: 0.3834 - val_accuracy: 0.8535\n",
            "Epoch 4/50\n",
            "17449/17449 [==============================] - 232s 13ms/step - loss: 0.3747 - accuracy: 0.8628 - val_loss: 0.3733 - val_accuracy: 0.8611\n",
            "Epoch 5/50\n",
            "17449/17449 [==============================] - 231s 13ms/step - loss: 0.3657 - accuracy: 0.8652 - val_loss: 0.3565 - val_accuracy: 0.8689\n",
            "Epoch 6/50\n",
            "17449/17449 [==============================] - 230s 13ms/step - loss: 0.3592 - accuracy: 0.8671 - val_loss: 0.3779 - val_accuracy: 0.8582\n",
            "Epoch 7/50\n",
            "17449/17449 [==============================] - 231s 13ms/step - loss: 0.3539 - accuracy: 0.8687 - val_loss: 0.3510 - val_accuracy: 0.8727\n",
            "Epoch 8/50\n",
            "17449/17449 [==============================] - 230s 13ms/step - loss: 0.3495 - accuracy: 0.8701 - val_loss: 0.3530 - val_accuracy: 0.8709\n",
            "Epoch 9/50\n",
            "17449/17449 [==============================] - 231s 13ms/step - loss: 0.3454 - accuracy: 0.8714 - val_loss: 0.3497 - val_accuracy: 0.8715\n",
            "Epoch 10/50\n",
            "17449/17449 [==============================] - 232s 13ms/step - loss: 0.3412 - accuracy: 0.8726 - val_loss: 0.3530 - val_accuracy: 0.8719\n",
            "Epoch 11/50\n",
            "17449/17449 [==============================] - 231s 13ms/step - loss: 0.3387 - accuracy: 0.8733 - val_loss: 0.3518 - val_accuracy: 0.8697\n",
            "Epoch 12/50\n",
            "17449/17449 [==============================] - 232s 13ms/step - loss: 0.3358 - accuracy: 0.8741 - val_loss: 0.3461 - val_accuracy: 0.8726\n",
            "Epoch 13/50\n",
            "17449/17449 [==============================] - 231s 13ms/step - loss: 0.3326 - accuracy: 0.8752 - val_loss: 0.3435 - val_accuracy: 0.8727\n",
            "Epoch 14/50\n",
            "17449/17449 [==============================] - 231s 13ms/step - loss: 0.3303 - accuracy: 0.8759 - val_loss: 0.3546 - val_accuracy: 0.8653\n",
            "Epoch 15/50\n",
            "17449/17449 [==============================] - 232s 13ms/step - loss: 0.3280 - accuracy: 0.8765 - val_loss: 0.3484 - val_accuracy: 0.8709\n",
            "Epoch 16/50\n",
            "17449/17449 [==============================] - 232s 13ms/step - loss: 0.3249 - accuracy: 0.8774 - val_loss: 0.3422 - val_accuracy: 0.8743\n",
            "Epoch 17/50\n",
            "17449/17449 [==============================] - 231s 13ms/step - loss: 0.3240 - accuracy: 0.8777 - val_loss: 0.3486 - val_accuracy: 0.8727\n",
            "Epoch 18/50\n",
            "17449/17449 [==============================] - 232s 13ms/step - loss: 0.3215 - accuracy: 0.8783 - val_loss: 0.3396 - val_accuracy: 0.8752\n",
            "Epoch 19/50\n",
            "17449/17449 [==============================] - 232s 13ms/step - loss: 0.3196 - accuracy: 0.8784 - val_loss: 0.3411 - val_accuracy: 0.8734\n",
            "Epoch 20/50\n",
            "17449/17449 [==============================] - 232s 13ms/step - loss: 0.3175 - accuracy: 0.8799 - val_loss: 0.3523 - val_accuracy: 0.8714\n",
            "Epoch 21/50\n",
            "17449/17449 [==============================] - 237s 14ms/step - loss: 0.3156 - accuracy: 0.8803 - val_loss: 0.3381 - val_accuracy: 0.8749\n",
            "Epoch 22/50\n",
            "17449/17449 [==============================] - 235s 13ms/step - loss: 0.3141 - accuracy: 0.8808 - val_loss: 0.3512 - val_accuracy: 0.8699\n",
            "Epoch 23/50\n",
            "17449/17449 [==============================] - 234s 13ms/step - loss: 0.3122 - accuracy: 0.8814 - val_loss: 0.3482 - val_accuracy: 0.8748\n",
            "Epoch 24/50\n",
            "17449/17449 [==============================] - 236s 14ms/step - loss: 0.3110 - accuracy: 0.8814 - val_loss: 0.3457 - val_accuracy: 0.8717\n",
            "Epoch 25/50\n",
            "17449/17449 [==============================] - 234s 13ms/step - loss: 0.3086 - accuracy: 0.8820 - val_loss: 0.3409 - val_accuracy: 0.8746\n",
            "Epoch 26/50\n",
            "17449/17449 [==============================] - 235s 13ms/step - loss: 0.3077 - accuracy: 0.8826 - val_loss: 0.3435 - val_accuracy: 0.8726\n"
          ]
        }
      ],
      "source": [
        "early_stopping_cb = keras.callbacks.EarlyStopping(patience=5, restore_best_weights=True)\n",
        "# model_checkpoint_cb = keras.callbacks.ModelCheckpoint(\"resres_2_1_2_1_0_200.h5\", save_best_only=True)\n",
        "\n",
        "learning_rate = 0.01\n",
        "opt = select_opt('momentum', learning_rate)\n",
        "print(opt)\n",
        "first_model.compile(loss=\"sparse_categorical_crossentropy\", optimizer=opt, metrics=[\"accuracy\"])\n",
        "first_history = first_model.fit(final_train, final_train_label, epochs=50, validation_data=(final_val, final_val_label), callbacks=[early_stopping_cb])"
      ]
    },
    {
      "cell_type": "code",
      "execution_count": 47,
      "metadata": {
        "colab": {
          "base_uri": "https://localhost:8080/"
        },
        "id": "1g10c-RS4lGL",
        "outputId": "4eac82e6-57b7-4372-c553-c8f70b16efb7"
      },
      "outputs": [
        {
          "name": "stdout",
          "output_type": "stream",
          "text": [
            "3636/3636 [==============================] - 20s 5ms/step - loss: 0.3357 - accuracy: 0.8750\n"
          ]
        },
        {
          "data": {
            "text/plain": [
              "[0.3356820046901703, 0.8749688267707825]"
            ]
          },
          "execution_count": 47,
          "metadata": {},
          "output_type": "execute_result"
        }
      ],
      "source": [
        "first_model.evaluate(test_data, test_label)"
      ]
    },
    {
      "cell_type": "code",
      "execution_count": 44,
      "metadata": {
        "colab": {
          "base_uri": "https://localhost:8080/"
        },
        "id": "y-G_9wE13dAV",
        "outputId": "213578b6-5320-448e-bc9e-4b82cc010660"
      },
      "outputs": [
        {
          "name": "stdout",
          "output_type": "stream",
          "text": [
            "<keras.optimizer_v2.adagrad.Adagrad object at 0x7f7d78755f50>\n",
            "Epoch 1/50\n",
            "17449/17449 [==============================] - 244s 14ms/step - loss: 0.5826 - accuracy: 0.8108 - val_loss: 0.4858 - val_accuracy: 0.8176\n",
            "Epoch 2/50\n",
            "17449/17449 [==============================] - 236s 14ms/step - loss: 0.4410 - accuracy: 0.8451 - val_loss: 0.4516 - val_accuracy: 0.8438\n",
            "Epoch 3/50\n",
            "17449/17449 [==============================] - 238s 14ms/step - loss: 0.4169 - accuracy: 0.8517 - val_loss: 0.3857 - val_accuracy: 0.8610\n",
            "Epoch 4/50\n",
            "17449/17449 [==============================] - 235s 13ms/step - loss: 0.4030 - accuracy: 0.8551 - val_loss: 0.3843 - val_accuracy: 0.8605\n",
            "Epoch 5/50\n",
            "17449/17449 [==============================] - 227s 13ms/step - loss: 0.3941 - accuracy: 0.8577 - val_loss: 0.3789 - val_accuracy: 0.8624\n",
            "Epoch 6/50\n",
            "17449/17449 [==============================] - 227s 13ms/step - loss: 0.3876 - accuracy: 0.8599 - val_loss: 0.3750 - val_accuracy: 0.8635\n",
            "Epoch 7/50\n",
            "17449/17449 [==============================] - 228s 13ms/step - loss: 0.3816 - accuracy: 0.8618 - val_loss: 0.3737 - val_accuracy: 0.8658\n",
            "Epoch 8/50\n",
            "17449/17449 [==============================] - 230s 13ms/step - loss: 0.3778 - accuracy: 0.8627 - val_loss: 0.3670 - val_accuracy: 0.8678\n",
            "Epoch 9/50\n",
            "17449/17449 [==============================] - 228s 13ms/step - loss: 0.3746 - accuracy: 0.8638 - val_loss: 0.3623 - val_accuracy: 0.8679\n",
            "Epoch 10/50\n",
            "17449/17449 [==============================] - 226s 13ms/step - loss: 0.3711 - accuracy: 0.8647 - val_loss: 0.3589 - val_accuracy: 0.8698\n",
            "Epoch 11/50\n",
            "17449/17449 [==============================] - 224s 13ms/step - loss: 0.3678 - accuracy: 0.8656 - val_loss: 0.3573 - val_accuracy: 0.8695\n",
            "Epoch 12/50\n",
            "17449/17449 [==============================] - 226s 13ms/step - loss: 0.3656 - accuracy: 0.8660 - val_loss: 0.3616 - val_accuracy: 0.8674\n",
            "Epoch 13/50\n",
            "17449/17449 [==============================] - 225s 13ms/step - loss: 0.3632 - accuracy: 0.8668 - val_loss: 0.3573 - val_accuracy: 0.8705\n",
            "Epoch 14/50\n",
            "17449/17449 [==============================] - 225s 13ms/step - loss: 0.3619 - accuracy: 0.8670 - val_loss: 0.3607 - val_accuracy: 0.8667\n",
            "Epoch 15/50\n",
            "17449/17449 [==============================] - 228s 13ms/step - loss: 0.3593 - accuracy: 0.8679 - val_loss: 0.3576 - val_accuracy: 0.8701\n",
            "Epoch 16/50\n",
            "17449/17449 [==============================] - 228s 13ms/step - loss: 0.3581 - accuracy: 0.8684 - val_loss: 0.3576 - val_accuracy: 0.8694\n"
          ]
        }
      ],
      "source": [
        "early_stopping_cb = keras.callbacks.EarlyStopping(patience=5, restore_best_weights=True)\n",
        "# model_checkpoint_cb = keras.callbacks.ModelCheckpoint(\"resres_2_1_2_1_0_200.h5\", save_best_only=True)\n",
        "\n",
        "learning_rate = 0.05\n",
        "opt = select_opt('adagrad', learning_rate)\n",
        "print(opt)\n",
        "second_model.compile(loss=\"sparse_categorical_crossentropy\", optimizer=opt, metrics=[\"accuracy\"])\n",
        "second_history = second_model.fit(final_train, final_train_label, epochs=50, validation_data=(final_val, final_val_label), callbacks=[early_stopping_cb])"
      ]
    },
    {
      "cell_type": "code",
      "execution_count": 45,
      "metadata": {
        "colab": {
          "base_uri": "https://localhost:8080/"
        },
        "id": "TiUX2Gbo4lyo",
        "outputId": "b12d6605-650f-4da8-9a8f-b38eb036385b"
      },
      "outputs": [
        {
          "name": "stdout",
          "output_type": "stream",
          "text": [
            "3636/3636 [==============================] - 19s 5ms/step - loss: 0.3547 - accuracy: 0.8709\n"
          ]
        },
        {
          "data": {
            "text/plain": [
              "[0.35470741987228394, 0.8708509802818298]"
            ]
          },
          "execution_count": 45,
          "metadata": {},
          "output_type": "execute_result"
        }
      ],
      "source": [
        "second_model.evaluate(test_data, test_label)"
      ]
    },
    {
      "cell_type": "code",
      "execution_count": 48,
      "metadata": {
        "colab": {
          "base_uri": "https://localhost:8080/"
        },
        "id": "o_MKerFC4MbF",
        "outputId": "12d89918-2904-4f8f-da02-238053d9b1d6"
      },
      "outputs": [
        {
          "name": "stdout",
          "output_type": "stream",
          "text": [
            "<keras.optimizer_v2.nadam.Nadam object at 0x7f7d77fa9210>\n",
            "Epoch 1/50\n",
            "17449/17449 [==============================] - 381s 22ms/step - loss: 0.6791 - accuracy: 0.7893 - val_loss: 0.6431 - val_accuracy: 0.8081\n",
            "Epoch 2/50\n",
            "17449/17449 [==============================] - 371s 21ms/step - loss: 0.5554 - accuracy: 0.8226 - val_loss: 1.3042 - val_accuracy: 0.8163\n",
            "Epoch 3/50\n",
            "17449/17449 [==============================] - 370s 21ms/step - loss: 0.5245 - accuracy: 0.8305 - val_loss: 0.4942 - val_accuracy: 0.8308\n",
            "Epoch 4/50\n",
            "17449/17449 [==============================] - 373s 21ms/step - loss: 0.5073 - accuracy: 0.8354 - val_loss: 0.5663 - val_accuracy: 0.8362\n",
            "Epoch 5/50\n",
            "17449/17449 [==============================] - 371s 21ms/step - loss: 0.4938 - accuracy: 0.8390 - val_loss: 0.6087 - val_accuracy: 0.8138\n",
            "Epoch 6/50\n",
            "17449/17449 [==============================] - 373s 21ms/step - loss: 0.4859 - accuracy: 0.8415 - val_loss: 0.6319 - val_accuracy: 0.8208\n",
            "Epoch 7/50\n",
            "17449/17449 [==============================] - 378s 22ms/step - loss: 0.4777 - accuracy: 0.8432 - val_loss: 0.4815 - val_accuracy: 0.8537\n",
            "Epoch 8/50\n",
            "17449/17449 [==============================] - 379s 22ms/step - loss: 0.4735 - accuracy: 0.8447 - val_loss: 0.5357 - val_accuracy: 0.8501\n",
            "Epoch 9/50\n",
            "17449/17449 [==============================] - 380s 22ms/step - loss: 0.4677 - accuracy: 0.8462 - val_loss: 0.4685 - val_accuracy: 0.8472\n",
            "Epoch 10/50\n",
            "17449/17449 [==============================] - 381s 22ms/step - loss: 0.4630 - accuracy: 0.8475 - val_loss: 0.4629 - val_accuracy: 0.8438\n",
            "Epoch 11/50\n",
            "17449/17449 [==============================] - 380s 22ms/step - loss: 0.4595 - accuracy: 0.8484 - val_loss: 0.5885 - val_accuracy: 0.8274\n",
            "Epoch 12/50\n",
            "17449/17449 [==============================] - 381s 22ms/step - loss: 0.4586 - accuracy: 0.8487 - val_loss: 0.5245 - val_accuracy: 0.8536\n",
            "Epoch 13/50\n",
            "17449/17449 [==============================] - 373s 21ms/step - loss: 0.4549 - accuracy: 0.8498 - val_loss: 0.4791 - val_accuracy: 0.8518\n",
            "Epoch 14/50\n",
            "17449/17449 [==============================] - 372s 21ms/step - loss: 0.4517 - accuracy: 0.8510 - val_loss: 0.5207 - val_accuracy: 0.8500\n",
            "Epoch 15/50\n",
            "17449/17449 [==============================] - 372s 21ms/step - loss: 0.4486 - accuracy: 0.8523 - val_loss: 0.4659 - val_accuracy: 0.8463\n"
          ]
        }
      ],
      "source": [
        "early_stopping_cb = keras.callbacks.EarlyStopping(patience=5, restore_best_weights=True)\n",
        "# model_checkpoint_cb = keras.callbacks.ModelCheckpoint(\"resres_2_1_2_1_0_200.h5\", save_best_only=True)\n",
        "\n",
        "learning_rate = 0.05\n",
        "opt = select_opt('nadam', learning_rate)\n",
        "print(opt)\n",
        "third_model.compile(loss=\"sparse_categorical_crossentropy\", optimizer=opt, metrics=[\"accuracy\"])\n",
        "third_history = third_model.fit(final_train, final_train_label, epochs=50, validation_data=(final_val, final_val_label), callbacks=[early_stopping_cb])"
      ]
    },
    {
      "cell_type": "code",
      "execution_count": 49,
      "metadata": {
        "colab": {
          "base_uri": "https://localhost:8080/"
        },
        "id": "7wt61iVD48zW",
        "outputId": "5bf948b6-84f8-449a-e132-9b63faa0ce7b"
      },
      "outputs": [
        {
          "name": "stdout",
          "output_type": "stream",
          "text": [
            "3636/3636 [==============================] - 20s 5ms/step - loss: 0.4465 - accuracy: 0.8442\n"
          ]
        },
        {
          "data": {
            "text/plain": [
              "[0.4465060830116272, 0.8442440629005432]"
            ]
          },
          "execution_count": 49,
          "metadata": {},
          "output_type": "execute_result"
        }
      ],
      "source": [
        "third_model.evaluate(test_data, test_label)"
      ]
    },
    {
      "cell_type": "code",
      "execution_count": 50,
      "metadata": {
        "colab": {
          "base_uri": "https://localhost:8080/"
        },
        "id": "1ou6VSId4XXw",
        "outputId": "e5485323-4362-4273-e8ef-ce6fd38d45a2"
      },
      "outputs": [
        {
          "name": "stdout",
          "output_type": "stream",
          "text": [
            "<keras.optimizer_v2.nadam.Nadam object at 0x7f7d77fa9110>\n",
            "Epoch 1/50\n",
            "17449/17449 [==============================] - 507s 29ms/step - loss: 0.5306 - accuracy: 0.8199 - val_loss: 0.5364 - val_accuracy: 0.8128\n",
            "Epoch 2/50\n",
            "17449/17449 [==============================] - 506s 29ms/step - loss: 0.4165 - accuracy: 0.8510 - val_loss: 0.4229 - val_accuracy: 0.8483\n",
            "Epoch 3/50\n",
            "17449/17449 [==============================] - 521s 30ms/step - loss: 0.3931 - accuracy: 0.8577 - val_loss: 0.4042 - val_accuracy: 0.8564\n",
            "Epoch 4/50\n",
            "17449/17449 [==============================] - 509s 29ms/step - loss: 0.3787 - accuracy: 0.8619 - val_loss: 0.3842 - val_accuracy: 0.8613\n",
            "Epoch 5/50\n",
            "17449/17449 [==============================] - 498s 29ms/step - loss: 0.3678 - accuracy: 0.8653 - val_loss: 0.3904 - val_accuracy: 0.8634\n",
            "Epoch 6/50\n",
            "17449/17449 [==============================] - 497s 29ms/step - loss: 0.3597 - accuracy: 0.8680 - val_loss: 0.3715 - val_accuracy: 0.8643\n",
            "Epoch 7/50\n",
            "17449/17449 [==============================] - 495s 28ms/step - loss: 0.3538 - accuracy: 0.8695 - val_loss: 0.3486 - val_accuracy: 0.8722\n",
            "Epoch 8/50\n",
            "17449/17449 [==============================] - 495s 28ms/step - loss: 0.3478 - accuracy: 0.8716 - val_loss: 0.3883 - val_accuracy: 0.8529\n",
            "Epoch 9/50\n",
            "17449/17449 [==============================] - 494s 28ms/step - loss: 0.3424 - accuracy: 0.8732 - val_loss: 0.3535 - val_accuracy: 0.8665\n",
            "Epoch 10/50\n",
            "17449/17449 [==============================] - 492s 28ms/step - loss: 0.3383 - accuracy: 0.8746 - val_loss: 0.3582 - val_accuracy: 0.8659\n",
            "Epoch 11/50\n",
            "17449/17449 [==============================] - 494s 28ms/step - loss: 0.3338 - accuracy: 0.8757 - val_loss: 0.3428 - val_accuracy: 0.8726\n",
            "Epoch 12/50\n",
            "17449/17449 [==============================] - 494s 28ms/step - loss: 0.3300 - accuracy: 0.8769 - val_loss: 0.3693 - val_accuracy: 0.8702\n",
            "Epoch 13/50\n",
            "17449/17449 [==============================] - 496s 28ms/step - loss: 0.3258 - accuracy: 0.8779 - val_loss: 0.3430 - val_accuracy: 0.8754\n",
            "Epoch 14/50\n",
            "17449/17449 [==============================] - 494s 28ms/step - loss: 0.3218 - accuracy: 0.8795 - val_loss: 0.3690 - val_accuracy: 0.8607\n",
            "Epoch 15/50\n",
            "17449/17449 [==============================] - 492s 28ms/step - loss: 0.3183 - accuracy: 0.8803 - val_loss: 0.3513 - val_accuracy: 0.8759\n",
            "Epoch 16/50\n",
            "17449/17449 [==============================] - 497s 28ms/step - loss: 0.3146 - accuracy: 0.8816 - val_loss: 0.3502 - val_accuracy: 0.8677\n"
          ]
        }
      ],
      "source": [
        "early_stopping_cb = keras.callbacks.EarlyStopping(patience=5, restore_best_weights=True)\n",
        "# model_checkpoint_cb = keras.callbacks.ModelCheckpoint(\"resres_2_1_2_1_0_200.h5\", save_best_only=True)\n",
        "\n",
        "learning_rate = 0.005\n",
        "opt = select_opt('nadam', learning_rate)\n",
        "print(opt)\n",
        "fourth_model.compile(loss=\"sparse_categorical_crossentropy\", optimizer=opt, metrics=[\"accuracy\"])\n",
        "fourth_history = fourth_model.fit(final_train, final_train_label, epochs=50, validation_data=(final_val, final_val_label), callbacks=[early_stopping_cb])"
      ]
    },
    {
      "cell_type": "code",
      "execution_count": 51,
      "metadata": {
        "colab": {
          "base_uri": "https://localhost:8080/"
        },
        "id": "Ru47gz5z49d5",
        "outputId": "bc1327d4-b6f9-4684-c3ae-357b8dfb03e4"
      },
      "outputs": [
        {
          "name": "stdout",
          "output_type": "stream",
          "text": [
            "3636/3636 [==============================] - 29s 8ms/step - loss: 0.3396 - accuracy: 0.8726\n"
          ]
        },
        {
          "data": {
            "text/plain": [
              "[0.3395899534225464, 0.8726133108139038]"
            ]
          },
          "execution_count": 51,
          "metadata": {},
          "output_type": "execute_result"
        }
      ],
      "source": [
        "fourth_model.evaluate(test_data, test_label)"
      ]
    },
    {
      "cell_type": "code",
      "execution_count": null,
      "metadata": {
        "id": "xPdj0Ih3cMyn"
      },
      "outputs": [],
      "source": [
        "class LossAndErrorPrintingCallback(keras.callbacks.Callback):\n",
        "\n",
        "    def on_epoch_end(self, epoch, logs=None):\n",
        "        print(f'''\n",
        "              epcoh : {epoch}\n",
        "              loss {logs['loss']}\n",
        "              accuracy {logs['accuracy']}\n",
        "              val_loss {logs['val_loss']}\n",
        "              val_accuracy {logs['val_accuracy']}\n",
        "              ''')\n",
        "        wandb.log({'epochs': epoch,\n",
        "            'loss': logs['loss'],\n",
        "            'acc': logs['accuracy'], \n",
        "            'val_loss': logs['val_loss'],\n",
        "            'val_acc': logs['val_accuracy']})\n",
        "        "
      ]
    },
    {
      "cell_type": "code",
      "execution_count": null,
      "metadata": {
        "id": "ecccbcxjcPJA"
      },
      "outputs": [],
      "source": [
        "early_stopping_cb = keras.callbacks.EarlyStopping(patience=10, restore_best_weights=True)"
      ]
    },
    {
      "cell_type": "code",
      "execution_count": 33,
      "metadata": {
        "colab": {
          "base_uri": "https://localhost:8080/"
        },
        "id": "9qIJ2iyozpdL",
        "outputId": "d8ed8f10-cc63-408e-e1ab-a74116319b25"
      },
      "outputs": [
        {
          "name": "stdout",
          "output_type": "stream",
          "text": [
            "[73, 50]\n"
          ]
        }
      ],
      "source": [
        "a = get_layer_nueron_list(32, 3, 2, 26)\n",
        "print(a)"
      ]
    },
    {
      "cell_type": "code",
      "execution_count": null,
      "metadata": {
        "id": "wPutcOeIcQNL"
      },
      "outputs": [],
      "source": [
        "def sweep_train(config_defaults=None):\n",
        "    # Set default values\n",
        "    test = ['relu', 2, [100, 50], [200, 100 , 50], [100, 50]]\n",
        "\n",
        "    config_defaults = {\n",
        "      'channel' : 32,\n",
        "      'batch_size': 64,\n",
        "      'activation': 'relu',\n",
        "      'optimizer' : 'adam',\n",
        "      'learning_rate' : 0.01,\n",
        "      'feature_layer_depth' : 2,\n",
        "      'num_layer_depth' : 2,\n",
        "      'upper_layer_depth' : 2,\n",
        "      'lower_layer_depth' : 2,\n",
        "    }\n",
        "    # Initialize wandb with a sample project name\n",
        "    wandb.init(config=config_defaults)  # this gets over-written in the Sweep\n",
        "\n",
        "    last_neuron_perlayer = [10, 26, 26]\n",
        "    num_dense_per_layer = [wandb.config.num_layer_depth, wandb.config.upper_layer_depth, wandb.config.lower_layer_depth]\n",
        "    num_flatten_layer = wandb.config.channel * wandb.config.feature_layer_depth\n",
        "    nueron_list = []\n",
        "\n",
        "    for last_nueron, num_dense in zip(last_neuron_perlayer, num_dense_per_layer):\n",
        "      now_layer_nueron = []\n",
        "      boundary = (num_flatten_layer - last_nueron)//(num_dense+1)\n",
        "      now_nueron = num_flatten_layer\n",
        "      for i in range(num_dense):\n",
        "        now_nueron -= boundary\n",
        "        now_layer_nueron.append(now_nueron)\n",
        "      nueron_list.append(now_layer_nueron)\n",
        "\n",
        "    print(nueron_list)\n",
        "\n",
        "    # initialize model\n",
        "    config_list = [\n",
        "                    wandb.config.channel, wandb.config.activation, wandb.config.feature_layer_depth, \n",
        "                    nueron_list[0], nueron_list[1], nueron_list[2]\n",
        "                   ]\n",
        "    model = select_model(config_list)\n",
        "    \n",
        "    print(model.summary())\n",
        "\n",
        "    # Instantiate an optimizer to train the model.\n",
        "    optimizer = select_opt(wandb.config.optimizer, wandb.config.learning_rate)\n",
        "\n",
        "\n",
        "    model.compile(loss=\"sparse_categorical_crossentropy\",\n",
        "                optimizer=optimizer,\n",
        "                steps_per_execution=1000,\n",
        "                metrics=[\"accuracy\"])\n",
        "    hist = model.fit(train_data, train_label, epochs=50, validation_data=(val_data, val_label), callbacks=[LossAndErrorPrintingCallback(), early_stopping_cb])"
      ]
    },
    {
      "cell_type": "code",
      "execution_count": null,
      "metadata": {
        "id": "T9w2_tCKcdh9"
      },
      "outputs": [],
      "source": [
        "sweep_config = {\n",
        "  'method': 'random', \n",
        "  'parameters': {\n",
        "      \n",
        "      'channel': {\n",
        "          'values' : [16, 32, 64]\n",
        "      },\n",
        "      'optimizer': {\n",
        "          'values' : ['adam', 'rmsprop', 'sgd', 'momentum', 'nesterov', 'adagrad', 'adamax', 'nadam']\n",
        "      },\n",
        "      'learning_rate':{\n",
        "          'values' : [0.1, 0.05, 0.01, 0.005]\n",
        "      },\n",
        "      'feature_layer_depth' : {\n",
        "          'values' : [1, 2, 3]\n",
        "      },\n",
        "      'num_layer_depth' : {\n",
        "          'values' : [1, 2, 3]\n",
        "      },\n",
        "      'upper_layer_depth' : {\n",
        "          'values' : [1, 2, 3]\n",
        "      },\n",
        "      'lower_layer_depth' : {\n",
        "          'values' : [1, 2, 3]\n",
        "      },\n",
        "      'activation' : {\n",
        "          'values' : ['relu', 'leacky_relu', 'elu']\n",
        "      }\n",
        "  }\n",
        "}"
      ]
    },
    {
      "cell_type": "code",
      "execution_count": null,
      "metadata": {
        "colab": {
          "base_uri": "https://localhost:8080/"
        },
        "id": "VhzIT4k5lAzE",
        "outputId": "7d1d0598-1cba-49c0-cc12-44d2c5ed249d"
      },
      "outputs": [
        {
          "name": "stdout",
          "output_type": "stream",
          "text": [
            "Create sweep with ID: lsd02qzy\n",
            "Sweep URL: https://wandb.ai/chanin-eom/res_dense_2/sweeps/lsd02qzy\n"
          ]
        }
      ],
      "source": [
        "sweep_id = wandb.sweep(sweep_config, project=\"res_dense_2\")"
      ]
    },
    {
      "cell_type": "code",
      "execution_count": null,
      "metadata": {
        "id": "-M0ILew7lE4Y"
      },
      "outputs": [],
      "source": [
        "wandb.agent(sweep_id, function=sweep_train, count=50)"
      ]
    },
    {
      "cell_type": "code",
      "execution_count": null,
      "metadata": {
        "id": "6AkYFRAulHv-"
      },
      "outputs": [],
      "source": []
    }
  ],
  "metadata": {
    "accelerator": "GPU",
    "colab": {
      "collapsed_sections": [],
      "machine_shape": "hm",
      "name": "res_dense_structure.ipynb",
      "provenance": []
    },
    "kernelspec": {
      "display_name": "Python 3",
      "name": "python3"
    },
    "language_info": {
      "name": "python"
    }
  },
  "nbformat": 4,
  "nbformat_minor": 0
}
